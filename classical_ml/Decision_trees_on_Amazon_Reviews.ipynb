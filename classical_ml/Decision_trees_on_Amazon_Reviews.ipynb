{
  "nbformat": 4,
  "nbformat_minor": 0,
  "metadata": {
    "colab": {
      "name": "Decision_trees_on_Amazon_Reviews_v1.ipynb",
      "version": "0.3.2",
      "provenance": [],
      "collapsed_sections": []
    },
    "kernelspec": {
      "display_name": "Python 3",
      "language": "python",
      "name": "python3"
    }
  },
  "cells": [
    {
      "metadata": {
        "colab_type": "text",
        "id": "wTkqOy_1eUDu"
      },
      "cell_type": "markdown",
      "source": [
        "# Objective:\n",
        "\n",
        "Classify Amazon food reviews using Decision Trees classifier.\n",
        "\n",
        "We'll do the following exercises in this notebook\n",
        "\n",
        "* Load and standardize the data\n",
        "        1. BoW\n",
        "        2. Tfidf\n",
        "        3. Avg. W2V\n",
        "        4. Tfidf weighted W2V\n",
        "* Divide the data in cross validation sets and find the optimal parameter using GridSearchCV.\n",
        "* Gridsearch on various values of parameter max_depth.\n",
        "* Plot the Cross Validation Errors \n",
        "* Plot confusion matrix and calculate Precision, Recall, FPR, TNR, FNR. \n",
        "\n"
      ]
    },
    {
      "metadata": {
        "colab": {},
        "colab_type": "code",
        "id": "e5vAbAHkeUDx"
      },
      "cell_type": "code",
      "source": [
        "# To suprress the warnings as they make the notebook less presentable.\n",
        "\n",
        "import sys\n",
        "import warnings\n",
        "\n",
        "if not sys.warnoptions:\n",
        "    warnings.simplefilter(\"ignore\")"
      ],
      "execution_count": 0,
      "outputs": []
    },
    {
      "metadata": {
        "colab_type": "text",
        "id": "W-zrxyC8eUD5"
      },
      "cell_type": "markdown",
      "source": [
        "Import the necessary libraries."
      ]
    },
    {
      "metadata": {
        "colab": {},
        "colab_type": "code",
        "id": "y-1nQVyJeUD7"
      },
      "cell_type": "code",
      "source": [
        "import pandas as pd\n",
        "import matplotlib.pyplot as plt\n",
        "import seaborn as sbn\n",
        "from sklearn.preprocessing import StandardScaler\n",
        "from sklearn.metrics import recall_score, precision_score, confusion_matrix, accuracy_score\n",
        "from sklearn.model_selection import TimeSeriesSplit, GridSearchCV, cross_val_score\n",
        "from sklearn.tree import DecisionTreeClassifier\n",
        "import pickle\n",
        "import numpy as np"
      ],
      "execution_count": 0,
      "outputs": []
    },
    {
      "metadata": {
        "colab_type": "text",
        "id": "600N-DHdeUEB"
      },
      "cell_type": "markdown",
      "source": [
        "This Jupyter notebook extension notifies you when a cell finishes its execution!"
      ]
    },
    {
      "metadata": {
        "colab": {},
        "colab_type": "code",
        "id": "_D23oW7BeUED",
        "outputId": "690bc3ae-490e-404a-b861-c6415e5defe3"
      },
      "cell_type": "code",
      "source": [
        "%load_ext jupyternotify"
      ],
      "execution_count": 0,
      "outputs": [
        {
          "output_type": "display_data",
          "data": {
            "application/javascript": [
              "if (!(\"Notification\" in window)) {\n",
              "    alert(\"This browser does not support desktop notifications, so the %%notify magic will not work.\");\n",
              "} else if (Notification.permission !== 'granted' && Notification.permission !== 'denied') {\n",
              "    Notification.requestPermission(function (permission) {\n",
              "        if(!('permission' in Notification)) {\n",
              "            Notification.permission = permission;\n",
              "        }\n",
              "    })\n",
              "}\n"
            ],
            "text/plain": [
              "<IPython.core.display.Javascript object>"
            ]
          },
          "metadata": {
            "tags": []
          }
        }
      ]
    },
    {
      "metadata": {
        "colab_type": "text",
        "id": "xg5S32D1eUEP"
      },
      "cell_type": "markdown",
      "source": [
        "## Important parameters of Decision Trees \n",
        "\n",
        "* Max depth\n",
        "\n",
        "* criterion = gini / entropy\n",
        "* min_samples_leaf \n",
        "* class weight : we'll use 'balanced' for it because it is calculated as n_samples / (n_classes * np.bincount(y))\n",
        "\n",
        "i.e. the class having more instances will get a lower weight. This is desireable since our dataset is imbalaned."
      ]
    },
    {
      "metadata": {
        "colab_type": "text",
        "id": "cGuuWZ0_eUER"
      },
      "cell_type": "markdown",
      "source": [
        "Load the target variable y of train and test sets. Note that the entire dataset is being used. All 350k reviews. The dataset is divided into train and test with ratio 80:20 respectively."
      ]
    },
    {
      "metadata": {
        "colab": {},
        "colab_type": "code",
        "id": "odulbiCceUET",
        "outputId": "2238be2f-af2c-46ea-a7ba-820b3174d22a"
      },
      "cell_type": "code",
      "source": [
        "# f = open(r'D:\\data_science\\datasets\\amazon2\\y_train_full80_20.pkl', 'rb')\n",
        "f = open('/home/ucanreachtvk/data/y_train_full80_20.pkl', 'rb')\n",
        "y_train = pickle.load(f)\n",
        "f.close()\n",
        "print('The datatype of y_train is : {}'.format(type(y_train)))\n",
        "print('The shape of y_train is : {}'.format(y_train.shape))"
      ],
      "execution_count": 0,
      "outputs": [
        {
          "output_type": "stream",
          "text": [
            "The datatype of y_train is : <class 'numpy.ndarray'>\n",
            "The shape of y_train is : (291336,)\n"
          ],
          "name": "stdout"
        }
      ]
    },
    {
      "metadata": {
        "colab": {},
        "colab_type": "code",
        "id": "GgBUl6vaeUEb",
        "outputId": "bcb0e3d4-2f59-401d-d3de-3c0391ea96ac"
      },
      "cell_type": "code",
      "source": [
        "#f = open(r'D:\\data_science\\datasets\\amazon2\\y_test_full80_20.pkl', 'rb')\n",
        "f = open('/home/ucanreachtvk/data/y_test_full80_20.pkl', 'rb')\n",
        "y_test = pickle.load(f)\n",
        "f.close()\n",
        "print('The datatype of y_test is : {}'.format(type(y_test)))\n",
        "print('The shape of y_test is : {}'.format(y_test.shape))"
      ],
      "execution_count": 0,
      "outputs": [
        {
          "output_type": "stream",
          "text": [
            "The datatype of y_test is : <class 'numpy.ndarray'>\n",
            "The shape of y_test is : (72835,)\n"
          ],
          "name": "stdout"
        }
      ]
    },
    {
      "metadata": {
        "colab_type": "text",
        "id": "IHJTqb23eUEr"
      },
      "cell_type": "markdown",
      "source": [
        "## Bag of Words\n",
        "\n",
        "I had saved the trained BoW model and the transformed data on disk. Let's load it. "
      ]
    },
    {
      "metadata": {
        "colab": {},
        "colab_type": "code",
        "id": "5htJH-VfeUEu",
        "outputId": "62c59159-6374-4c51-c734-ec3739696d9a"
      },
      "cell_type": "code",
      "source": [
        "# f = open(r'D:\\data_science\\datasets\\amazon2\\X_train_transformed_bow_full_nparray.pkl', 'rb')\n",
        "f = open('/home/ucanreachtvk/data/X_train_transformed_bow_full_nparray.pkl', 'rb')\n",
        "X_train_transformed_bow = pickle.load(f)\n",
        "f.close()\n",
        "print('The datatype of X_train_transformed_bow is : {}'.format(type(X_train_transformed_bow)))\n",
        "print('The shape of X_train_transformed_bow is : {}'.format(X_train_transformed_bow.shape))"
      ],
      "execution_count": 0,
      "outputs": [
        {
          "output_type": "stream",
          "text": [
            "The datatype of X_train_transformed_bow is : <class 'scipy.sparse.csr.csr_matrix'>\n",
            "The shape of X_train_transformed_bow is : (291336, 64221)\n"
          ],
          "name": "stdout"
        }
      ]
    },
    {
      "metadata": {
        "colab_type": "text",
        "id": "o2LidzlZeUE2"
      },
      "cell_type": "markdown",
      "source": [
        "There are 64221 features in the bow representation. Load test data too."
      ]
    },
    {
      "metadata": {
        "colab": {},
        "colab_type": "code",
        "id": "E_aeMfj1eUE3",
        "outputId": "7a02cc04-0f57-44f0-ba7b-47cd8f3066ba"
      },
      "cell_type": "code",
      "source": [
        "# f = open(r'D:\\data_science\\datasets\\amazon2\\X_test_transformed_bow_full_nparray.pkl', 'rb')\n",
        "f = open('/home/ucanreachtvk/data/X_test_transformed_bow_full_nparray.pkl', 'rb')\n",
        "X_test_transformed_bow = pickle.load(f)\n",
        "f.close()\n",
        "print('The datatype of X_test_transformed_bow is : {}'.format(type(X_test_transformed_bow)))\n",
        "print('The shape of X_test_transformed_bow is : {}'.format(X_test_transformed_bow.shape))"
      ],
      "execution_count": 0,
      "outputs": [
        {
          "output_type": "stream",
          "text": [
            "The datatype of X_test_transformed_bow is : <class 'scipy.sparse.csr.csr_matrix'>\n",
            "The shape of X_test_transformed_bow is : (72835, 64221)\n"
          ],
          "name": "stdout"
        }
      ]
    },
    {
      "metadata": {
        "colab_type": "text",
        "id": "euk65SnvpWuN"
      },
      "cell_type": "markdown",
      "source": [
        "Count the number of non-zero elements in the array."
      ]
    },
    {
      "metadata": {
        "colab": {},
        "colab_type": "code",
        "id": "ELWJZLameUFV",
        "outputId": "5f5f4510-4ce9-4ce8-a113-c7ab6958063d"
      },
      "cell_type": "code",
      "source": [
        "X_train_transformed_bow.count_nonzero"
      ],
      "execution_count": 0,
      "outputs": [
        {
          "output_type": "execute_result",
          "data": {
            "text/plain": [
              "<bound method _data_matrix.count_nonzero of <291336x64221 sparse matrix of type '<class 'numpy.int64'>'\n",
              "\twith 9180635 stored elements in Compressed Sparse Row format>>"
            ]
          },
          "metadata": {
            "tags": []
          },
          "execution_count": 8
        }
      ]
    },
    {
      "metadata": {
        "id": "AyeDgIMG0239",
        "colab_type": "code",
        "colab": {},
        "outputId": "3f068ba3-3c17-4c1e-d2f1-0b0e4ab3b027"
      },
      "cell_type": "code",
      "source": [
        "X_test_transformed_bow.count_nonzero"
      ],
      "execution_count": 0,
      "outputs": [
        {
          "output_type": "execute_result",
          "data": {
            "text/plain": [
              "<bound method _data_matrix.count_nonzero of <72835x64221 sparse matrix of type '<class 'numpy.int64'>'\n",
              "\twith 2275765 stored elements in Compressed Sparse Row format>>"
            ]
          },
          "metadata": {
            "tags": []
          },
          "execution_count": 9
        }
      ]
    },
    {
      "metadata": {
        "colab_type": "text",
        "id": "0ynhsKtUeUFt"
      },
      "cell_type": "markdown",
      "source": [
        "## Feature scaling\n",
        "\n",
        "Decision trees don't need the data to be scaled. Because, the criteria 'gini' or 'entropy' used to generate the tree depend only on probabilities, not on distances."
      ]
    },
    {
      "metadata": {
        "colab_type": "text",
        "id": "WdtyjBv9eUGU"
      },
      "cell_type": "markdown",
      "source": [
        "## Some Functions\n",
        "\n",
        "Let's define some functions that we'll call repeatedly in this notebook. \n",
        "\n",
        "1. **depth_vs_error** : For each value of depth tried in GridSearch, it will plot the error (i.e. 1 - accuracy) for train and test data. \n",
        "\n",
        "2. **give_me_ratios** : To plot ratios such as Precision, Recall, TNR, FPR, FNR.\n",
        "3. **plot_confusion_matrix** : As the name says.\n",
        "4. **GridSearch** : Create Time based cross validation splits using TimeSeriesSplit() and  create a gridsearch object for the regularization passed as a parameter. "
      ]
    },
    {
      "metadata": {
        "id": "7mywNWxe024L",
        "colab_type": "code",
        "colab": {}
      },
      "cell_type": "code",
      "source": [
        "def depth_vs_error(cv_results_, x_label, y_label , title):\n",
        "    \n",
        "    mean_error_train = list(1 - clf.cv_results_['mean_train_score'])\n",
        "    mean_error_test = list(1 - clf.cv_results_['mean_test_score'])\n",
        "    \n",
        "    depth = [ 1, 2, 3, 5, 8, 13, 21, 34, 55, 89, 95, 110, 133 ]\n",
        "    \n",
        "    df_train = pd.DataFrame({'error' : mean_error_train, 'depth':depth, 'set': ['train']*13 })\n",
        "    df_test = pd.DataFrame({'error': mean_error_test, 'depth':depth, 'set': ['test']*13})\n",
        "    \n",
        "    df_train_test = pd.concat([df_train, df_test], keys=['error', 'depth', 'set'])\n",
        "    \n",
        "    plt.figure(figsize=(12,5))#.suptitle(title, fontsize=16)\n",
        "    plt.subplot(1,1,1)\n",
        "    sbn.barplot(data=df_train_test, x='depth', y='error', hue='set')\n",
        "    plt.xlabel(x_label, fontsize=13)\n",
        "    plt.ylabel(y_label, fontsize=13)\n",
        "    plt.title('{} '.format(title), fontsize=15)    \n",
        "    plt.tight_layout()\n",
        "    plt.show()"
      ],
      "execution_count": 0,
      "outputs": []
    },
    {
      "metadata": {
        "colab": {},
        "colab_type": "code",
        "id": "tff3Jzr5eUHU"
      },
      "cell_type": "code",
      "source": [
        "def give_me_ratios(X_train, y_train, X_test, y_test, vector_type, table, clf): \n",
        "    \n",
        "    cm_train = confusion_matrix(y_train, clf.predict(X_train))\n",
        "    tn, fp, fn, tp = cm_train.ravel()\n",
        "\n",
        "    recall_train = round(tp/(tp+fn),2)\n",
        "    precision_train = round(tp/(tp+fp),2)\n",
        "    tnr_train = round(tn/(tn+fp),2)\n",
        "    fpr_train = round(fp/(fp+tn),2)\n",
        "    fnr_train = round(fn/(fn+tp),2)\n",
        "    accuracy_train = round((tp+tn)/(tp+tn+fp+fn))\n",
        "    accuracy_train = (tp+tn)/(tp+tn+fp+fn)\n",
        "\n",
        "    cm_test = confusion_matrix(y_test, clf.predict(X_test))\n",
        "    tn, fp, fn, tp = cm_test.ravel()\n",
        "    recall_test = round(tp/(tp+fn),2)\n",
        "    precision_test = round(tp/(tp+fp),2)\n",
        "    tnr_test = round(tn/(tn+fp),2)\n",
        "    fpr_test = round(fp/(fp+tn),2)\n",
        "    fnr_test = round(fn/(fn+tp),2)\n",
        "    accuracy_test = round(tp+tn)/(tp+tn+fp+fn)\n",
        "\n",
        "    table.field_names = ['Vector Type','Data Set', 'Precision', 'Recall', 'TNR', 'FPR', 'FNR', 'Accuracy']\n",
        "    table.add_row([vector_type,'Train', precision_train, recall_train, tnr_train, fpr_train, fnr_train, accuracy_train])\n",
        "    table.add_row([vector_type,'Test', precision_test, recall_test, tnr_test, fpr_test, fnr_test, accuracy_test])\n",
        "\n",
        "    print(table)\n",
        "    \n",
        "    return (cm_train, cm_test)"
      ],
      "execution_count": 0,
      "outputs": []
    },
    {
      "metadata": {
        "colab": {},
        "colab_type": "code",
        "id": "aaCW-HlKeUH1"
      },
      "cell_type": "code",
      "source": [
        "def plot_confusion_matrix(cm_train, cm_test, title):\n",
        "    \n",
        "    import pandas as pd\n",
        "    plt.figure(figsize=(15,6)).suptitle(title, fontsize=15)\n",
        "    \n",
        "    plt.subplot(1,2,1)\n",
        "    df_cm = pd.DataFrame(cm_train, range(2), range(2))\n",
        "    sbn.heatmap(df_cm, annot=True, annot_kws={\"size\":16}, cbar=False, fmt = 'd', xticklabels=['Negative', 'Positive'], yticklabels=['Negative', 'Positive'])\n",
        "    plt.xticks(fontsize=13)\n",
        "    plt.yticks(fontsize=13)\n",
        "    plt.xlabel('Predicted Class', fontsize=15)\n",
        "    plt.ylabel('Actual Class', fontsize=15)\n",
        "    plt.title('Train Data', fontsize = 14)\n",
        "\n",
        "    plt.subplot(1,2,2)    \n",
        "    df_cm = pd.DataFrame(cm_test, range(2), range(2))\n",
        "    sbn.heatmap(df_cm, annot=True, annot_kws={\"size\":16}, cbar=False, fmt = 'd', xticklabels=['Negative', 'Positive'], yticklabels=['Negative', 'Positive'])\n",
        "    plt.xticks(fontsize=13)\n",
        "    plt.yticks(fontsize=13)\n",
        "    plt.xlabel('Predicted Class', fontsize=15)\n",
        "    # plt.ylabel('Actual Class', fontsize=15)\n",
        "\n",
        "    plt.title('Test Data', fontsize = 14)\n",
        "\n",
        "    plt.tight_layout()"
      ],
      "execution_count": 0,
      "outputs": []
    },
    {
      "metadata": {
        "colab": {},
        "colab_type": "code",
        "id": "5tplTcS8eUGc"
      },
      "cell_type": "code",
      "source": [
        "def GridSearch(X_train):\n",
        "\n",
        "    tscv = TimeSeriesSplit(n_splits=10)\n",
        "    my_cv = tscv.split(X_train)\n",
        "\n",
        "    dtc = DecisionTreeClassifier(class_weight = 'balanced', min_samples_split=10 , random_state=13)\n",
        "\n",
        "    hyp_par = {\n",
        "                'max_depth':[ 1, 2, 3, 5, 8, 13, 21, 34, 55, 89, 95, 110, 133]\n",
        "        }\n",
        "\n",
        "    clf = GridSearchCV(estimator=dtc, cv=my_cv, param_grid=hyp_par, n_jobs=8, return_train_score=True)\n",
        "    \n",
        "    return clf"
      ],
      "execution_count": 0,
      "outputs": []
    },
    {
      "metadata": {
        "colab_type": "text",
        "id": "uH-jsWpweUGb"
      },
      "cell_type": "markdown",
      "source": [
        "### Bag of Words"
      ]
    },
    {
      "metadata": {
        "colab_type": "text",
        "id": "6VrY3Znv8rLq"
      },
      "cell_type": "markdown",
      "source": [
        "Get the classifier by calling the GridSearch funtion"
      ]
    },
    {
      "metadata": {
        "colab": {},
        "colab_type": "code",
        "id": "NhqyB9-peUGk"
      },
      "cell_type": "code",
      "source": [
        "clf = GridSearch(X_train_transformed_bow)"
      ],
      "execution_count": 0,
      "outputs": []
    },
    {
      "metadata": {
        "colab_type": "text",
        "id": "yFdjK-QL8pRu"
      },
      "cell_type": "markdown",
      "source": [
        "Train the model"
      ]
    },
    {
      "metadata": {
        "colab": {},
        "colab_type": "code",
        "id": "qLi_keXeeUGr",
        "scrolled": false
      },
      "cell_type": "code",
      "source": [
        "%%notify\n",
        "%%time\n",
        "\n",
        "clf.fit(X_train_transformed_bow, y_train)"
      ],
      "execution_count": 0,
      "outputs": []
    },
    {
      "metadata": {
        "colab": {},
        "colab_type": "code",
        "id": "y-tbR54JeUG6",
        "outputId": "3c7a3cff-b5b4-4bf8-f647-60e20fa7563d"
      },
      "cell_type": "code",
      "source": [
        "clf.best_params_"
      ],
      "execution_count": 0,
      "outputs": [
        {
          "output_type": "execute_result",
          "data": {
            "text/plain": [
              "{'max_depth': 133}"
            ]
          },
          "metadata": {
            "tags": []
          },
          "execution_count": 25
        }
      ]
    },
    {
      "metadata": {
        "colab_type": "text",
        "id": "GjLcL0JSeUHD"
      },
      "cell_type": "markdown",
      "source": [
        "**CV Errors | BoW**\n",
        "\n",
        "Plot errors during cross validation using the function we defined above."
      ]
    },
    {
      "metadata": {
        "colab": {},
        "colab_type": "code",
        "id": "fOQHfTcdeUHE",
        "outputId": "f7a56881-bcad-4cea-86f5-e2cb76b242e7",
        "scrolled": false
      },
      "cell_type": "code",
      "source": [
        "depth_vs_error(clf.cv_results_, 'depth', 'error', title='Bag of Words')"
      ],
      "execution_count": 0,
      "outputs": [
        {
          "output_type": "display_data",
          "data": {
            "image/png": "[encoded data removed]",
            "text/plain": [
              "<Figure size 864x360 with 1 Axes>"
            ]
          },
          "metadata": {
            "tags": []
          }
        }
      ]
    },
    {
      "metadata": {
        "colab_type": "text",
        "id": "yP_kkG5FeUHL"
      },
      "cell_type": "markdown",
      "source": [
        "Import prettytable to summarize the results in a table"
      ]
    },
    {
      "metadata": {
        "colab": {},
        "colab_type": "code",
        "id": "aJpxuLjceUHN"
      },
      "cell_type": "code",
      "source": [
        "# !pip install PrettyTable\n",
        "# from prettytable import PrettyTable\n",
        "from prettytable import PrettyTable\n",
        "table = PrettyTable()"
      ],
      "execution_count": 0,
      "outputs": []
    },
    {
      "metadata": {
        "colab_type": "text",
        "id": "lw5y6P6heUH-"
      },
      "cell_type": "markdown",
      "source": [
        "**Ratios | BoW**"
      ]
    },
    {
      "metadata": {
        "colab": {},
        "colab_type": "code",
        "id": "DTSqm-9PeUIA",
        "outputId": "d6e6f182-1804-4741-ba8f-d30174fbb8ce"
      },
      "cell_type": "code",
      "source": [
        "cm_bow_train, cm_bow_test = give_me_ratios(X_train_transformed_bow, y_train, X_test_transformed_bow, y_test, 'Bag of Words', table, clf)"
      ],
      "execution_count": 0,
      "outputs": [
        {
          "output_type": "stream",
          "text": [
            "+--------------+----------+-----------+--------+------+------+------+--------------------+\n",
            "| Vector Type  | Data Set | Precision | Recall | TNR  | FPR  | FNR  |      Accuracy      |\n",
            "+--------------+----------+-----------+--------+------+------+------+--------------------+\n",
            "| Bag of Words |  Train   |    1.0    |  0.95  | 0.99 | 0.01 | 0.05 | 0.9595381277974573 |\n",
            "| Bag of Words |   Test   |    0.91   |  0.86  | 0.6  | 0.4  | 0.14 | 0.8134687993409762 |\n",
            "+--------------+----------+-----------+--------+------+------+------+--------------------+\n"
          ],
          "name": "stdout"
        }
      ]
    },
    {
      "metadata": {
        "colab_type": "text",
        "id": "BzLvSfHAeUIL"
      },
      "cell_type": "markdown",
      "source": [
        "**Confusion Matrix | BoW**"
      ]
    },
    {
      "metadata": {
        "colab": {},
        "colab_type": "code",
        "id": "8V7ZTPuxeUIN",
        "outputId": "a2b22f42-cfe8-414b-defb-7f81c9ece6ff"
      },
      "cell_type": "code",
      "source": [
        "plot_confusion_matrix(cm_bow_train, cm_bow_test, title=\"BOW\")"
      ],
      "execution_count": 0,
      "outputs": [
        {
          "output_type": "display_data",
          "data": {
            "image/png": "[encoded data removed]",
            "text/plain": [
              "<Figure size 1080x432 with 2 Axes>"
            ]
          },
          "metadata": {
            "tags": []
          }
        }
      ]
    },
    {
      "metadata": {
        "colab_type": "text",
        "id": "Ljz_0XlBeUJf"
      },
      "cell_type": "markdown",
      "source": [
        "## Tfidf\n",
        "\n",
        "In this section, we'll apply DTC on reviews represented in the Tfidf format. Load the transformed train and test sets."
      ]
    },
    {
      "metadata": {
        "colab": {},
        "colab_type": "code",
        "id": "R0_7y9FXeUJj",
        "outputId": "3779869c-11c6-440a-ea8e-f726b804be33"
      },
      "cell_type": "code",
      "source": [
        "#f = open(r'D:\\data_science\\datasets\\amazon2\\X_train_transformed_tfidf_full_nparray.pkl', 'rb')\n",
        "f = open('/home/ucanreachtvk/data/X_train_transformed_tfidf_full_nparray.pkl', 'rb')\n",
        "X_train_transformed_tfidf = pickle.load(f)\n",
        "f.close()\n",
        "print('The datatype of X_train_transformed_tfidf is : {}'.format(type(X_train_transformed_tfidf)))\n",
        "print('The shape of X_train_transformed_tfidf is : {}'.format(X_train_transformed_tfidf.shape))"
      ],
      "execution_count": 0,
      "outputs": [
        {
          "output_type": "stream",
          "text": [
            "The datatype of X_train_transformed_tfidf is : <class 'scipy.sparse.csr.csr_matrix'>\n",
            "The shape of X_train_transformed_tfidf is : (291336, 64221)\n"
          ],
          "name": "stdout"
        }
      ]
    },
    {
      "metadata": {
        "colab": {},
        "colab_type": "code",
        "id": "YcNq2J-2eUJw",
        "outputId": "35b9660c-5138-44ec-e6dc-6fd644a87635"
      },
      "cell_type": "code",
      "source": [
        "# f = open(r'D:\\data_science\\datasets\\amazon2\\X_test_transformed_tfidf_full_nparray.pkl', 'rb')\n",
        "f = open('/home/ucanreachtvk/data/X_test_transformed_tfidf_full_nparray.pkl', 'rb')\n",
        "X_test_transformed_tfidf = pickle.load(f)\n",
        "f.close()\n",
        "print('The datatype of X_test_transformed_tfidf is : {}'.format(type(X_test_transformed_tfidf)))\n",
        "print('The shape of X_test_transformed_tfidf is : {}'.format(X_test_transformed_tfidf.shape))"
      ],
      "execution_count": 0,
      "outputs": [
        {
          "output_type": "stream",
          "text": [
            "The datatype of X_test_transformed_tfidf is : <class 'scipy.sparse.csr.csr_matrix'>\n",
            "The shape of X_test_transformed_tfidf is : (72835, 64221)\n"
          ],
          "name": "stdout"
        }
      ]
    },
    {
      "metadata": {
        "id": "w_axSyU6025J",
        "colab_type": "text"
      },
      "cell_type": "markdown",
      "source": [
        "Get the gridsearch object"
      ]
    },
    {
      "metadata": {
        "colab": {},
        "colab_type": "code",
        "id": "-dynXWIkeUKN"
      },
      "cell_type": "code",
      "source": [
        "clf = GridSearch(X_train_transformed_tfidf)"
      ],
      "execution_count": 0,
      "outputs": []
    },
    {
      "metadata": {
        "colab_type": "text",
        "id": "HzraiTbM-YAG"
      },
      "cell_type": "markdown",
      "source": [
        "Train the model"
      ]
    },
    {
      "metadata": {
        "colab": {},
        "colab_type": "code",
        "id": "-RCAQJRweUKW",
        "scrolled": false
      },
      "cell_type": "code",
      "source": [
        "%%notify\n",
        "%%time\n",
        "\n",
        "clf.fit(X_train_transformed_tfidf, y_train)"
      ],
      "execution_count": 0,
      "outputs": []
    },
    {
      "metadata": {
        "colab": {},
        "colab_type": "code",
        "id": "DbVQC2jXeUKa",
        "outputId": "0dd7c391-6f86-4a68-de71-852b3750ca4d"
      },
      "cell_type": "code",
      "source": [
        "clf.best_params_"
      ],
      "execution_count": 0,
      "outputs": [
        {
          "output_type": "execute_result",
          "data": {
            "text/plain": [
              "{'max_depth': 133}"
            ]
          },
          "metadata": {
            "tags": []
          },
          "execution_count": 38
        }
      ]
    },
    {
      "metadata": {
        "colab_type": "text",
        "id": "ELV6usqo-dYj"
      },
      "cell_type": "markdown",
      "source": [
        "**CV errors | Tfidf**"
      ]
    },
    {
      "metadata": {
        "colab": {},
        "colab_type": "code",
        "id": "EMicQmjbeUKg",
        "outputId": "ddc1b198-49eb-4c46-e0f4-7f40b651ee5d"
      },
      "cell_type": "code",
      "source": [
        "depth_vs_error(clf.cv_results_, 'Depth', 'CV Error', title='TFIDF')"
      ],
      "execution_count": 0,
      "outputs": [
        {
          "output_type": "display_data",
          "data": {
            "image/png": "[encoded data removed]",
            "text/plain": [
              "<Figure size 864x360 with 1 Axes>"
            ]
          },
          "metadata": {
            "tags": []
          }
        }
      ]
    },
    {
      "metadata": {
        "colab_type": "text",
        "id": "F-KFilDy_qhs"
      },
      "cell_type": "markdown",
      "source": [
        "**Ratios | Tfidf**"
      ]
    },
    {
      "metadata": {
        "colab": {},
        "colab_type": "code",
        "id": "r1y5JYpAeUKp",
        "outputId": "2c47f5ef-5473-4164-85a1-e3e61bdad9eb"
      },
      "cell_type": "code",
      "source": [
        "cm_tfidf_train, cm_tfidf_test = give_me_ratios(X_train_transformed_tfidf, y_train, X_test_transformed_tfidf, y_test, 'TFIDF', table, clf)"
      ],
      "execution_count": 0,
      "outputs": [
        {
          "output_type": "stream",
          "text": [
            "+--------------+----------+-----------+--------+------+------+------+--------------------+\n",
            "| Vector Type  | Data Set | Precision | Recall | TNR  | FPR  | FNR  |      Accuracy      |\n",
            "+--------------+----------+-----------+--------+------+------+------+--------------------+\n",
            "| Bag of Words |  Train   |    1.0    |  0.95  | 0.99 | 0.01 | 0.05 | 0.9595381277974573 |\n",
            "| Bag of Words |   Test   |    0.91   |  0.86  | 0.6  | 0.4  | 0.14 | 0.8134687993409762 |\n",
            "|    TFIDF     |  Train   |    1.0    |  0.96  | 1.0  | 0.0  | 0.04 | 0.962709723480792  |\n",
            "|    TFIDF     |   Test   |    0.91   |  0.86  | 0.6  | 0.4  | 0.14 | 0.8160087869842796 |\n",
            "+--------------+----------+-----------+--------+------+------+------+--------------------+\n"
          ],
          "name": "stdout"
        }
      ]
    },
    {
      "metadata": {
        "colab_type": "text",
        "id": "4CmfZ3NZeUKx"
      },
      "cell_type": "markdown",
      "source": [
        "**Confusion Matrix**"
      ]
    },
    {
      "metadata": {
        "colab": {},
        "colab_type": "code",
        "id": "W41SW_LWeUKy",
        "outputId": "e5533f05-3460-4940-ce26-e328147eed15"
      },
      "cell_type": "code",
      "source": [
        "plot_confusion_matrix(cm_tfidf_train, cm_tfidf_test, \"TFIDF\")"
      ],
      "execution_count": 0,
      "outputs": [
        {
          "output_type": "display_data",
          "data": {
            "image/png": "[encoded data removed]",
            "text/plain": [
              "<Figure size 1080x432 with 2 Axes>"
            ]
          },
          "metadata": {
            "tags": []
          }
        }
      ]
    },
    {
      "metadata": {
        "colab_type": "text",
        "id": "C9bCe0pqeULY"
      },
      "cell_type": "markdown",
      "source": [
        "## Avg W2V\n",
        "\n",
        "In this section, we'll apply DTC on data represented in the avg. W2V format.\n",
        "load the train and test data stored on disk."
      ]
    },
    {
      "metadata": {
        "colab": {},
        "colab_type": "code",
        "id": "r4ZjF15CeULY",
        "outputId": "9cf2cfcf-f2e6-49f3-ea89-84e65085923f"
      },
      "cell_type": "code",
      "source": [
        "# f = open(r'D:\\data_science\\datasets\\amazon2\\X_train_transformed_avgW2V_full80_20_nparray.pkl', 'rb')\n",
        "f = open('/home/ucanreachtvk/data/X_train_transformed_avgW2V_full80_20_nparray.pkl', 'rb')\n",
        "X_train_transformed_avgW2V = pickle.load(f)\n",
        "f.close()\n",
        "print('The datatype of X_train_transformed_avgW2V is : {}'.format(type(X_train_transformed_avgW2V)))\n",
        "print('The shape of X_train_transformed_avgW2V is : {}'.format(X_train_transformed_avgW2V.shape))"
      ],
      "execution_count": 0,
      "outputs": [
        {
          "output_type": "stream",
          "text": [
            "The datatype of X_train_transformed_avgW2V is : <class 'numpy.ndarray'>\n",
            "The shape of X_train_transformed_avgW2V is : (291336, 50)\n"
          ],
          "name": "stdout"
        }
      ]
    },
    {
      "metadata": {
        "colab": {},
        "colab_type": "code",
        "id": "K_rnWiwKeULc",
        "outputId": "d68dfec9-e27e-414b-8630-0c633f2199fe"
      },
      "cell_type": "code",
      "source": [
        "#f = open(r'D:\\data_science\\datasets\\amazon2\\X_test_transformed_avgW2V_full80_20_nparray.pkl', 'rb')\n",
        "f = open('/home/ucanreachtvk/data/X_test_transformed_avgW2V_full80_20_nparray.pkl', 'rb')\n",
        "X_test_transformed_avgW2V = pickle.load(f)\n",
        "f.close()\n",
        "print('The datatype of X_test_transformed_avgW2V is : {}'.format(type(X_test_transformed_avgW2V)))\n",
        "print('The shape of X_test_transformed_avgW2V is : {}'.format(X_test_transformed_avgW2V.shape))"
      ],
      "execution_count": 0,
      "outputs": [
        {
          "output_type": "stream",
          "text": [
            "The datatype of X_test_transformed_avgW2V is : <class 'numpy.ndarray'>\n",
            "The shape of X_test_transformed_avgW2V is : (72835, 50)\n"
          ],
          "name": "stdout"
        }
      ]
    },
    {
      "metadata": {
        "colab_type": "text",
        "id": "ubsZjqOoeULs"
      },
      "cell_type": "markdown",
      "source": [
        "Get the gridsearch object"
      ]
    },
    {
      "metadata": {
        "colab": {},
        "colab_type": "code",
        "id": "oCB325ZReULt"
      },
      "cell_type": "code",
      "source": [
        "clf = GridSearch(X_train_transformed_avgW2V)"
      ],
      "execution_count": 0,
      "outputs": []
    },
    {
      "metadata": {
        "colab": {},
        "colab_type": "code",
        "id": "BQ3A1d68eULw",
        "scrolled": false,
        "outputId": "a5fd221e-d810-4000-8d83-8aa6c4a4d9fe"
      },
      "cell_type": "code",
      "source": [
        "%%notify\n",
        "%%time\n",
        "\n",
        "clf.fit(X_train_transformed_avgW2V, y_train)"
      ],
      "execution_count": 0,
      "outputs": [
        {
          "output_type": "stream",
          "text": [
            "CPU times: user 31.7 s, sys: 312 ms, total: 32 s\n",
            "Wall time: 4min 51s\n"
          ],
          "name": "stdout"
        },
        {
          "output_type": "execute_result",
          "data": {
            "text/plain": [
              "GridSearchCV(cv=<generator object TimeSeriesSplit.split at 0x7f82a1674d58>,\n",
              "       error_score='raise-deprecating',\n",
              "       estimator=DecisionTreeClassifier(class_weight='balanced', criterion='gini',\n",
              "            max_depth=None, max_features=None, max_leaf_nodes=None,\n",
              "            min_impurity_decrease=0.0, min_impurity_split=None,\n",
              "            min_samples_leaf=1, min_samples_split=10,\n",
              "            min_weight_fraction_leaf=0.0, presort=False, random_state=13,\n",
              "            splitter='best'),\n",
              "       fit_params=None, iid='warn', n_jobs=8,\n",
              "       param_grid={'max_depth': [1, 2, 3, 5, 8, 13, 21, 34, 55, 89, 95, 110, 133]},\n",
              "       pre_dispatch='2*n_jobs', refit=True, return_train_score=True,\n",
              "       scoring=None, verbose=0)"
            ]
          },
          "metadata": {
            "tags": []
          },
          "execution_count": 45
        },
        {
          "output_type": "display_data",
          "data": {
            "application/javascript": [
              "$(document).ready(\n",
              "    function() {\n",
              "        function appendUniqueDiv(){\n",
              "            // append a div with our uuid so we can check that it's already\n",
              "            // been sent and avoid duplicates on page reload\n",
              "            var notifiedDiv = document.createElement(\"div\")\n",
              "            notifiedDiv.id = \"5fe9b69e-6c07-4b0e-b2cb-6c7d34bbcfd9\"\n",
              "            element.append(notifiedDiv)\n",
              "        }\n",
              "\n",
              "        // only send notifications if the pageload is complete; this will\n",
              "        // help stop extra notifications when a saved notebook is loaded,\n",
              "        // which during testing gives us state \"interactive\", not \"complete\"\n",
              "        if (document.readyState === 'complete') {\n",
              "            // check for the div that signifies that the notification\n",
              "            // was already sent\n",
              "            if (document.getElementById(\"5fe9b69e-6c07-4b0e-b2cb-6c7d34bbcfd9\") === null) {\n",
              "                var notificationPayload = {\"requireInteraction\": false, \"icon\": \"/static/base/images/favicon.ico\", \"body\": \"Cell execution has finished!\"};\n",
              "                if (Notification.permission !== 'denied') {\n",
              "                    if (Notification.permission !== 'granted') { \n",
              "                        Notification.requestPermission(function (permission) {\n",
              "                            if(!('permission' in Notification)) {\n",
              "                                Notification.permission = permission\n",
              "                            }\n",
              "                        })\n",
              "                    }\n",
              "                    if (Notification.permission === 'granted') {\n",
              "                    var notification = new Notification(\"Jupyter Notebook\", notificationPayload)\n",
              "                    appendUniqueDiv()\n",
              "                    notification.onclick = function () {\n",
              "                        window.focus();\n",
              "                        this.close();\n",
              "                        };\n",
              "                    } \n",
              "                }     \n",
              "            }\n",
              "        }\n",
              "    }\n",
              ")\n"
            ],
            "text/plain": [
              "<IPython.core.display.Javascript object>"
            ]
          },
          "metadata": {
            "tags": []
          }
        }
      ]
    },
    {
      "metadata": {
        "colab": {},
        "colab_type": "code",
        "id": "rqgKobwgeUL4",
        "outputId": "68d1b518-fbe3-4936-9ea8-ea2f058353a6"
      },
      "cell_type": "code",
      "source": [
        "clf.best_params_"
      ],
      "execution_count": 0,
      "outputs": [
        {
          "output_type": "execute_result",
          "data": {
            "text/plain": [
              "{'max_depth': 55}"
            ]
          },
          "metadata": {
            "tags": []
          },
          "execution_count": 46
        }
      ]
    },
    {
      "metadata": {
        "id": "g4BBH-SE026E",
        "colab_type": "text"
      },
      "cell_type": "markdown",
      "source": [
        "**CV Errors | Avg. W2V**"
      ]
    },
    {
      "metadata": {
        "colab": {},
        "colab_type": "code",
        "id": "9IBFuMv3eUL6",
        "outputId": "9f6bc329-1564-419c-eb66-b8bcd027fba3"
      },
      "cell_type": "code",
      "source": [
        "depth_vs_error(clf.cv_results_, 'Depth', 'CV Error', title='avg. W2V')"
      ],
      "execution_count": 0,
      "outputs": [
        {
          "output_type": "display_data",
          "data": {
            "image/png": "[encoded data removed]",
            "text/plain": [
              "<Figure size 864x360 with 1 Axes>"
            ]
          },
          "metadata": {
            "tags": []
          }
        }
      ]
    },
    {
      "metadata": {
        "colab_type": "text",
        "id": "wYnNvadYeUL9"
      },
      "cell_type": "markdown",
      "source": [
        "**Ratios**"
      ]
    },
    {
      "metadata": {
        "colab": {},
        "colab_type": "code",
        "id": "OckFz2MheUL-",
        "outputId": "e3c194fa-bd7b-4c9e-91b1-f101145a0a96"
      },
      "cell_type": "code",
      "source": [
        "cm_w2v_train, cm_w2v_test = give_me_ratios(X_train_transformed_avgW2V, y_train, X_test_transformed_avgW2V, y_test, 'avg. W2V', table, clf)"
      ],
      "execution_count": 0,
      "outputs": [
        {
          "output_type": "stream",
          "text": [
            "+--------------+----------+-----------+--------+------+------+------+--------------------+\n",
            "| Vector Type  | Data Set | Precision | Recall | TNR  | FPR  | FNR  |      Accuracy      |\n",
            "+--------------+----------+-----------+--------+------+------+------+--------------------+\n",
            "| Bag of Words |  Train   |    1.0    |  0.95  | 0.99 | 0.01 | 0.05 | 0.9595381277974573 |\n",
            "| Bag of Words |   Test   |    0.91   |  0.86  | 0.6  | 0.4  | 0.14 | 0.8134687993409762 |\n",
            "|    TFIDF     |  Train   |    1.0    |  0.96  | 1.0  | 0.0  | 0.04 | 0.962709723480792  |\n",
            "|    TFIDF     |   Test   |    0.91   |  0.86  | 0.6  | 0.4  | 0.14 | 0.8160087869842796 |\n",
            "|   avg. W2V   |  Train   |    1.0    |  0.97  | 1.0  | 0.0  | 0.03 | 0.9737725512809952 |\n",
            "|   avg. W2V   |   Test   |    0.89   |  0.88  | 0.49 | 0.51 | 0.12 | 0.8111896752934715 |\n",
            "+--------------+----------+-----------+--------+------+------+------+--------------------+\n"
          ],
          "name": "stdout"
        }
      ]
    },
    {
      "metadata": {
        "colab_type": "text",
        "id": "WUeH0xyXeUMB"
      },
      "cell_type": "markdown",
      "source": [
        "**Confusion Matrix**"
      ]
    },
    {
      "metadata": {
        "colab": {},
        "colab_type": "code",
        "id": "NY_0J4BOeUMD",
        "outputId": "a5f3e78d-945a-4052-83f6-ac8a3daca684"
      },
      "cell_type": "code",
      "source": [
        "plot_confusion_matrix(cm_w2v_train, cm_w2v_test, \"avg. W2V\")"
      ],
      "execution_count": 0,
      "outputs": [
        {
          "output_type": "display_data",
          "data": {
            "image/png": "[encoded data removed]",
            "text/plain": [
              "<Figure size 1080x432 with 2 Axes>"
            ]
          },
          "metadata": {
            "tags": []
          }
        }
      ]
    },
    {
      "metadata": {
        "colab_type": "text",
        "id": "xGlNWooMeUMa"
      },
      "cell_type": "markdown",
      "source": [
        "## Tfidf weighted W2V\n",
        "\n",
        "In this last section, we apply DTC on vectors represented in the form of Tfidf weighted W2V."
      ]
    },
    {
      "metadata": {
        "colab": {},
        "colab_type": "code",
        "id": "dRTtrKGJeUMd",
        "outputId": "31e2efee-6848-4502-b9e8-f770f5a53586"
      },
      "cell_type": "code",
      "source": [
        "# f = open(r'D:\\data_science\\datasets\\amazon2\\X_train_transformed_TfidfWeightedW2V_full80_20_nparray.pkl', 'rb')\n",
        "f = open('/home/ucanreachtvk/data/X_train_transformed_TfidfWeightedW2V_full80_20_nparray.pkl', 'rb')\n",
        "X_train_transformed_TfidfW2V = pickle.load(f)\n",
        "f.close()\n",
        "print('The datatype of X_train_transformed_TfidfW2V is : {}'.format(type(X_train_transformed_TfidfW2V)))\n",
        "print('The shape of X_train_transformed_TfidfW2V is : {}'.format(X_train_transformed_TfidfW2V.shape))"
      ],
      "execution_count": 0,
      "outputs": [
        {
          "output_type": "stream",
          "text": [
            "The datatype of X_train_transformed_TfidfW2V is : <class 'numpy.ndarray'>\n",
            "The shape of X_train_transformed_TfidfW2V is : (291336, 50)\n"
          ],
          "name": "stdout"
        }
      ]
    },
    {
      "metadata": {
        "colab": {},
        "colab_type": "code",
        "id": "ic8s_tn2eUMh",
        "outputId": "0e292057-bdb0-498f-8e04-d3c8b0f083ab"
      },
      "cell_type": "code",
      "source": [
        "# f = open(r'D:\\data_science\\datasets\\amazon2\\X_test_transformed_TfidfWeightedW2V_full80_20_nparray.pkl', 'rb')\n",
        "f = open('/home/ucanreachtvk/data/X_test_transformed_TfidfWeightedW2V_full80_20_nparray.pkl', 'rb')\n",
        "X_test_transformed_TfidfW2V = pickle.load(f)\n",
        "f.close()\n",
        "print('The datatype of X_test_transformed_TfidfW2V is : {}'.format(type(X_test_transformed_TfidfW2V)))\n",
        "print('The shape of X_train_transformed_TfidfW2V is : {}'.format(X_test_transformed_TfidfW2V.shape))"
      ],
      "execution_count": 0,
      "outputs": [
        {
          "output_type": "stream",
          "text": [
            "The datatype of X_test_transformed_TfidfW2V is : <class 'numpy.ndarray'>\n",
            "The shape of X_train_transformed_TfidfW2V is : (72835, 50)\n"
          ],
          "name": "stdout"
        }
      ]
    },
    {
      "metadata": {
        "colab_type": "text",
        "id": "5kVnwxHBeUMz"
      },
      "cell_type": "markdown",
      "source": [
        "Get gridseach object"
      ]
    },
    {
      "metadata": {
        "colab": {},
        "colab_type": "code",
        "id": "UrDLFDFheUMz"
      },
      "cell_type": "code",
      "source": [
        "clf = GridSearch(X_train_transformed_TfidfW2V)"
      ],
      "execution_count": 0,
      "outputs": []
    },
    {
      "metadata": {
        "colab": {},
        "colab_type": "code",
        "id": "oepudlcUeUM2",
        "scrolled": true,
        "outputId": "86dea95e-9045-42e0-cf1c-dba5a0e11505"
      },
      "cell_type": "code",
      "source": [
        "%%notify\n",
        "%%time\n",
        "\n",
        "clf.fit(X_train_transformed_TfidfW2V, y_train)"
      ],
      "execution_count": 0,
      "outputs": [
        {
          "output_type": "stream",
          "text": [
            "CPU times: user 34.2 s, sys: 132 ms, total: 34.3 s\n",
            "Wall time: 5min 1s\n"
          ],
          "name": "stdout"
        },
        {
          "output_type": "execute_result",
          "data": {
            "text/plain": [
              "GridSearchCV(cv=<generator object TimeSeriesSplit.split at 0x7f82a3c688e0>,\n",
              "       error_score='raise-deprecating',\n",
              "       estimator=DecisionTreeClassifier(class_weight='balanced', criterion='gini',\n",
              "            max_depth=None, max_features=None, max_leaf_nodes=None,\n",
              "            min_impurity_decrease=0.0, min_impurity_split=None,\n",
              "            min_samples_leaf=1, min_samples_split=10,\n",
              "            min_weight_fraction_leaf=0.0, presort=False, random_state=13,\n",
              "            splitter='best'),\n",
              "       fit_params=None, iid='warn', n_jobs=8,\n",
              "       param_grid={'max_depth': [1, 2, 3, 5, 8, 13, 21, 34, 55, 89, 95, 110, 133]},\n",
              "       pre_dispatch='2*n_jobs', refit=True, return_train_score=True,\n",
              "       scoring=None, verbose=0)"
            ]
          },
          "metadata": {
            "tags": []
          },
          "execution_count": 53
        },
        {
          "output_type": "display_data",
          "data": {
            "application/javascript": [
              "$(document).ready(\n",
              "    function() {\n",
              "        function appendUniqueDiv(){\n",
              "            // append a div with our uuid so we can check that it's already\n",
              "            // been sent and avoid duplicates on page reload\n",
              "            var notifiedDiv = document.createElement(\"div\")\n",
              "            notifiedDiv.id = \"3f6d5667-f5c4-4ba8-89ea-a7fa50c9b211\"\n",
              "            element.append(notifiedDiv)\n",
              "        }\n",
              "\n",
              "        // only send notifications if the pageload is complete; this will\n",
              "        // help stop extra notifications when a saved notebook is loaded,\n",
              "        // which during testing gives us state \"interactive\", not \"complete\"\n",
              "        if (document.readyState === 'complete') {\n",
              "            // check for the div that signifies that the notification\n",
              "            // was already sent\n",
              "            if (document.getElementById(\"3f6d5667-f5c4-4ba8-89ea-a7fa50c9b211\") === null) {\n",
              "                var notificationPayload = {\"requireInteraction\": false, \"icon\": \"/static/base/images/favicon.ico\", \"body\": \"Cell execution has finished!\"};\n",
              "                if (Notification.permission !== 'denied') {\n",
              "                    if (Notification.permission !== 'granted') { \n",
              "                        Notification.requestPermission(function (permission) {\n",
              "                            if(!('permission' in Notification)) {\n",
              "                                Notification.permission = permission\n",
              "                            }\n",
              "                        })\n",
              "                    }\n",
              "                    if (Notification.permission === 'granted') {\n",
              "                    var notification = new Notification(\"Jupyter Notebook\", notificationPayload)\n",
              "                    appendUniqueDiv()\n",
              "                    notification.onclick = function () {\n",
              "                        window.focus();\n",
              "                        this.close();\n",
              "                        };\n",
              "                    } \n",
              "                }     \n",
              "            }\n",
              "        }\n",
              "    }\n",
              ")\n"
            ],
            "text/plain": [
              "<IPython.core.display.Javascript object>"
            ]
          },
          "metadata": {
            "tags": []
          }
        }
      ]
    },
    {
      "metadata": {
        "colab": {},
        "colab_type": "code",
        "id": "QdM2UlTUeUM9",
        "outputId": "f52e133d-0395-44cc-e47e-055ea102aa20"
      },
      "cell_type": "code",
      "source": [
        "clf.best_params_"
      ],
      "execution_count": 0,
      "outputs": [
        {
          "output_type": "execute_result",
          "data": {
            "text/plain": [
              "{'max_depth': 34}"
            ]
          },
          "metadata": {
            "tags": []
          },
          "execution_count": 54
        }
      ]
    },
    {
      "metadata": {
        "id": "hj_U99X_026k",
        "colab_type": "text"
      },
      "cell_type": "markdown",
      "source": [
        "**CV Errors | Tfidf wt. W2V**"
      ]
    },
    {
      "metadata": {
        "colab": {},
        "colab_type": "code",
        "id": "OO1woAJteUM-",
        "outputId": "16eab512-bb1d-488b-85f7-995ebee7e666"
      },
      "cell_type": "code",
      "source": [
        "depth_vs_error(clf.cv_results_, 'Depth', 'CV Error', title='Tfidf weighted W2V')"
      ],
      "execution_count": 0,
      "outputs": [
        {
          "output_type": "display_data",
          "data": {
            "image/png": "[encoded data removed]",
            "text/plain": [
              "<Figure size 864x360 with 1 Axes>"
            ]
          },
          "metadata": {
            "tags": []
          }
        }
      ]
    },
    {
      "metadata": {
        "id": "19qfafXe026n",
        "colab_type": "text"
      },
      "cell_type": "markdown",
      "source": [
        "**Ratios | Tfidf wt. W2V**"
      ]
    },
    {
      "metadata": {
        "colab": {},
        "colab_type": "code",
        "id": "5cJco8NXeUNB",
        "outputId": "c09c992c-6020-4d06-d214-954d772df322"
      },
      "cell_type": "code",
      "source": [
        "cm_tfidfw2v_train, cm_tfidfw2v_test = give_me_ratios(X_train_transformed_TfidfW2V, y_train, X_test_transformed_TfidfW2V, y_test, 'Tfidf weighted W2V', table, clf)"
      ],
      "execution_count": 0,
      "outputs": [
        {
          "output_type": "stream",
          "text": [
            "+--------------------+----------+-----------+--------+------+------+------+--------------------+\n",
            "|    Vector Type     | Data Set | Precision | Recall | TNR  | FPR  | FNR  |      Accuracy      |\n",
            "+--------------------+----------+-----------+--------+------+------+------+--------------------+\n",
            "|    Bag of Words    |  Train   |    1.0    |  0.95  | 0.99 | 0.01 | 0.05 | 0.9595381277974573 |\n",
            "|    Bag of Words    |   Test   |    0.91   |  0.86  | 0.6  | 0.4  | 0.14 | 0.8134687993409762 |\n",
            "|       TFIDF        |  Train   |    1.0    |  0.96  | 1.0  | 0.0  | 0.04 | 0.962709723480792  |\n",
            "|       TFIDF        |   Test   |    0.91   |  0.86  | 0.6  | 0.4  | 0.14 | 0.8160087869842796 |\n",
            "|      avg. W2V      |  Train   |    1.0    |  0.97  | 1.0  | 0.0  | 0.03 | 0.9737725512809952 |\n",
            "|      avg. W2V      |   Test   |    0.89   |  0.88  | 0.49 | 0.51 | 0.12 | 0.8111896752934715 |\n",
            "| Tfidf weighted W2V |  Train   |    1.0    |  0.96  | 1.0  | 0.0  | 0.04 | 0.9689911305159679 |\n",
            "| Tfidf weighted W2V |   Test   |    0.83   |  0.89  | 0.13 | 0.87 | 0.11 | 0.7596897096176289 |\n",
            "+--------------------+----------+-----------+--------+------+------+------+--------------------+\n"
          ],
          "name": "stdout"
        }
      ]
    },
    {
      "metadata": {
        "id": "58zvwfrd026p",
        "colab_type": "text"
      },
      "cell_type": "markdown",
      "source": [
        "**Confusion Matrix | Tfidf wt. W2V**"
      ]
    },
    {
      "metadata": {
        "colab": {},
        "colab_type": "code",
        "id": "ij2sR-rieUNE",
        "outputId": "96041f20-d6e6-474a-d8e9-753dab618593"
      },
      "cell_type": "code",
      "source": [
        "plot_confusion_matrix(cm_tfidfw2v_train, cm_tfidfw2v_test, \"Tfidf weighted W2V\")"
      ],
      "execution_count": 0,
      "outputs": [
        {
          "output_type": "display_data",
          "data": {
            "image/png": "[encoded data removed]",
            "text/plain": [
              "<Figure size 1080x432 with 2 Axes>"
            ]
          },
          "metadata": {
            "tags": []
          }
        }
      ]
    },
    {
      "metadata": {
        "colab_type": "text",
        "id": "8GxUPtGieUNZ"
      },
      "cell_type": "markdown",
      "source": [
        "### Conclusion:\n",
        "\n",
        "* We applied Decision Tree classifier on amazon food reviews for various vector representations.\n",
        "\n",
        "* The choice of parameter 'max_depth' is crucial to the performance of the model. When depth is too low, the model underfits. When it's too much, it overfits.\n"
      ]
    }
  ]
}