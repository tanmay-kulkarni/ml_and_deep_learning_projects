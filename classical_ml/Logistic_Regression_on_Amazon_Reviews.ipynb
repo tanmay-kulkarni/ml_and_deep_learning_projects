{
  "nbformat": 4,
  "nbformat_minor": 0,
  "metadata": {
    "colab": {
      "name": "Logistic_Regression_on_Amazon_Reviews_v1.ipynb",
      "version": "0.3.2",
      "provenance": [],
      "collapsed_sections": []
    },
    "kernelspec": {
      "display_name": "Python 3",
      "language": "python",
      "name": "python3"
    }
  },
  "cells": [
    {
      "metadata": {
        "id": "wTkqOy_1eUDu",
        "colab_type": "text"
      },
      "cell_type": "markdown",
      "source": [
        "# Objective:\n",
        "\n",
        "Classify Amazon food reviews using Logistic Regression.\n",
        "\n",
        "We'll do the following exercises in this notebook\n",
        "\n",
        "* Load and standardize the data\n",
        "        1. BoW\n",
        "        2. Tfidf\n",
        "        3. Avg. W2V\n",
        "        4. Tfidf weighted W2V\n",
        "* Divide the data in cross validation sets and find the optimal parameter using GridSearchCV.\n",
        "* Gridsearch on various values of parameter C, seperately for L1 and L2 regularization.\n",
        "* Plot the Cross Validation Errors \n",
        "* Plot confusion matrix and calculate Precision, Recall, FPR, TNR, FNR. \n",
        "\n"
      ]
    },
    {
      "metadata": {
        "id": "e5vAbAHkeUDx",
        "colab_type": "code",
        "colab": {}
      },
      "cell_type": "code",
      "source": [
        "# To suprress the warnings as they make the notebook less presentable.\n",
        "\n",
        "import sys\n",
        "import warnings\n",
        "\n",
        "if not sys.warnoptions:\n",
        "    warnings.simplefilter(\"ignore\")"
      ],
      "execution_count": 0,
      "outputs": []
    },
    {
      "metadata": {
        "id": "W-zrxyC8eUD5",
        "colab_type": "text"
      },
      "cell_type": "markdown",
      "source": [
        "Import the necessary libraries."
      ]
    },
    {
      "metadata": {
        "id": "y-1nQVyJeUD7",
        "colab_type": "code",
        "colab": {}
      },
      "cell_type": "code",
      "source": [
        "import pandas as pd\n",
        "import matplotlib.pyplot as plt\n",
        "import seaborn as sbn\n",
        "from sklearn.preprocessing import StandardScaler\n",
        "from sklearn.metrics import recall_score, precision_score, confusion_matrix, accuracy_score\n",
        "from sklearn.model_selection import TimeSeriesSplit, GridSearchCV, cross_val_score\n",
        "from sklearn.linear_model import LogisticRegression\n",
        "import pickle\n",
        "import numpy as np"
      ],
      "execution_count": 0,
      "outputs": []
    },
    {
      "metadata": {
        "id": "600N-DHdeUEB",
        "colab_type": "text"
      },
      "cell_type": "markdown",
      "source": [
        "This Jupyter notebook extension notifies you when a cell finishes its execution!"
      ]
    },
    {
      "metadata": {
        "id": "_D23oW7BeUED",
        "colab_type": "code",
        "colab": {},
        "outputId": "690bc3ae-490e-404a-b861-c6415e5defe3"
      },
      "cell_type": "code",
      "source": [
        "%load_ext jupyternotify"
      ],
      "execution_count": 0,
      "outputs": [
        {
          "output_type": "display_data",
          "data": {
            "application/javascript": [
              "if (!(\"Notification\" in window)) {\n",
              "    alert(\"This browser does not support desktop notifications, so the %%notify magic will not work.\");\n",
              "} else if (Notification.permission !== 'granted' && Notification.permission !== 'denied') {\n",
              "    Notification.requestPermission(function (permission) {\n",
              "        if(!('permission' in Notification)) {\n",
              "            Notification.permission = permission;\n",
              "        }\n",
              "    })\n",
              "}\n"
            ],
            "text/plain": [
              "<IPython.core.display.Javascript object>"
            ]
          },
          "metadata": {
            "tags": []
          }
        }
      ]
    },
    {
      "metadata": {
        "id": "xg5S32D1eUEP",
        "colab_type": "text"
      },
      "cell_type": "markdown",
      "source": [
        "## Important parameters of Logistic Regression \n",
        "\n",
        "* C = 1/lambda\n",
        "* penalty i.e. regularization: L1/L2"
      ]
    },
    {
      "metadata": {
        "id": "cGuuWZ0_eUER",
        "colab_type": "text"
      },
      "cell_type": "markdown",
      "source": [
        "Load the target variable y of train and test sets. Note that the entire dataset is being used. All 350k reviews. The dataset is divided into train and test with ratio 80:20 respectively."
      ]
    },
    {
      "metadata": {
        "id": "odulbiCceUET",
        "colab_type": "code",
        "colab": {},
        "outputId": "2238be2f-af2c-46ea-a7ba-820b3174d22a"
      },
      "cell_type": "code",
      "source": [
        "#f = open(r'D:\\data_science\\datasets\\amazon2\\y_train_full80_20.pkl', 'rb')\n",
        "f = open('/home/ucanreachtvk/data/y_train_full80_20.pkl', 'rb')\n",
        "y_train = pickle.load(f)\n",
        "f.close()\n",
        "print('The datatype of y_train is : {}'.format(type(y_train)))\n",
        "print('The shape of y_train is : {}'.format(y_train.shape))"
      ],
      "execution_count": 0,
      "outputs": [
        {
          "output_type": "stream",
          "text": [
            "The datatype of y_train is : <class 'numpy.ndarray'>\n",
            "The shape of y_train is : (291336,)\n"
          ],
          "name": "stdout"
        }
      ]
    },
    {
      "metadata": {
        "id": "GgBUl6vaeUEb",
        "colab_type": "code",
        "colab": {},
        "outputId": "bcb0e3d4-2f59-401d-d3de-3c0391ea96ac"
      },
      "cell_type": "code",
      "source": [
        "#f = open(r'D:\\data_science\\datasets\\amazon2\\y_test_full80_20.pkl', 'rb')\n",
        "f = open('/home/ucanreachtvk/data/y_test_full80_20.pkl', 'rb')\n",
        "y_test = pickle.load(f)\n",
        "f.close()\n",
        "print('The datatype of y_test is : {}'.format(type(y_test)))\n",
        "print('The shape of y_test is : {}'.format(y_test.shape))"
      ],
      "execution_count": 0,
      "outputs": [
        {
          "output_type": "stream",
          "text": [
            "The datatype of y_test is : <class 'numpy.ndarray'>\n",
            "The shape of y_test is : (72835,)\n"
          ],
          "name": "stdout"
        }
      ]
    },
    {
      "metadata": {
        "id": "2-pOuWwjM94L",
        "colab_type": "code",
        "colab": {}
      },
      "cell_type": "code",
      "source": [
        "# y_test = y_test[:500]\n",
        "# y_train = y_train[:500]"
      ],
      "execution_count": 0,
      "outputs": []
    },
    {
      "metadata": {
        "id": "IHJTqb23eUEr",
        "colab_type": "text"
      },
      "cell_type": "markdown",
      "source": [
        "## Bag of Words\n",
        "\n",
        "I had saved the trained BoW model and the transformed data on disk. Let's load it. "
      ]
    },
    {
      "metadata": {
        "id": "5htJH-VfeUEu",
        "colab_type": "code",
        "colab": {},
        "outputId": "62c59159-6374-4c51-c734-ec3739696d9a"
      },
      "cell_type": "code",
      "source": [
        "#f = open(r'D:\\data_science\\datasets\\amazon2\\X_train_transformed_bow_full_nparray.pkl', 'rb')\n",
        "f = open('/home/ucanreachtvk/data/X_train_transformed_bow_full_nparray.pkl', 'rb')\n",
        "X_train_transformed_bow = pickle.load(f)\n",
        "f.close()\n",
        "print('The datatype of X_train_transformed_bow is : {}'.format(type(X_train_transformed_bow)))\n",
        "print('The shape of X_train_transformed_bow is : {}'.format(X_train_transformed_bow.shape))"
      ],
      "execution_count": 0,
      "outputs": [
        {
          "output_type": "stream",
          "text": [
            "The datatype of X_train_transformed_bow is : <class 'scipy.sparse.csr.csr_matrix'>\n",
            "The shape of X_train_transformed_bow is : (291336, 64221)\n"
          ],
          "name": "stdout"
        }
      ]
    },
    {
      "metadata": {
        "id": "o2LidzlZeUE2",
        "colab_type": "text"
      },
      "cell_type": "markdown",
      "source": [
        "There are 64221 features in the bow representation. Load test data too."
      ]
    },
    {
      "metadata": {
        "id": "E_aeMfj1eUE3",
        "colab_type": "code",
        "colab": {},
        "outputId": "7a02cc04-0f57-44f0-ba7b-47cd8f3066ba"
      },
      "cell_type": "code",
      "source": [
        "# f = open(r'D:\\data_science\\datasets\\amazon2\\X_test_transformed_bow_full_nparray.pkl', 'rb')\n",
        "f = open('/home/ucanreachtvk/data/X_test_transformed_bow_full_nparray.pkl', 'rb')\n",
        "X_test_transformed_bow = pickle.load(f)\n",
        "f.close()\n",
        "print('The datatype of X_test_transformed_bow is : {}'.format(type(X_test_transformed_bow)))\n",
        "print('The shape of X_test_transformed_bow is : {}'.format(X_test_transformed_bow.shape))"
      ],
      "execution_count": 0,
      "outputs": [
        {
          "output_type": "stream",
          "text": [
            "The datatype of X_test_transformed_bow is : <class 'scipy.sparse.csr.csr_matrix'>\n",
            "The shape of X_test_transformed_bow is : (72835, 64221)\n"
          ],
          "name": "stdout"
        }
      ]
    },
    {
      "metadata": {
        "id": "euk65SnvpWuN",
        "colab_type": "text"
      },
      "cell_type": "markdown",
      "source": [
        "Count the number of non-zero elements in the array."
      ]
    },
    {
      "metadata": {
        "id": "ELWJZLameUFV",
        "colab_type": "code",
        "colab": {},
        "outputId": "5f5f4510-4ce9-4ce8-a113-c7ab6958063d"
      },
      "cell_type": "code",
      "source": [
        "X_train_transformed_bow.count_nonzero"
      ],
      "execution_count": 0,
      "outputs": [
        {
          "output_type": "execute_result",
          "data": {
            "text/plain": [
              "<bound method _data_matrix.count_nonzero of <291336x64221 sparse matrix of type '<class 'numpy.int64'>'\n",
              "\twith 9180635 stored elements in Compressed Sparse Row format>>"
            ]
          },
          "metadata": {
            "tags": []
          },
          "execution_count": 10
        }
      ]
    },
    {
      "metadata": {
        "id": "0ynhsKtUeUFt",
        "colab_type": "text"
      },
      "cell_type": "markdown",
      "source": [
        "## Feature scaling\n",
        "\n",
        "Logistic regression is a distance based algorithm. Therefore, it's necessary to standardize the data."
      ]
    },
    {
      "metadata": {
        "id": "gKN1V12yeUFx",
        "colab_type": "code",
        "colab": {}
      },
      "cell_type": "code",
      "source": [
        "scaler = StandardScaler(with_mean = False)\n",
        "X_train_transformed_bow_std = scaler.fit_transform(X_train_transformed_bow)"
      ],
      "execution_count": 0,
      "outputs": []
    },
    {
      "metadata": {
        "id": "fil84pdgeUF5",
        "colab_type": "code",
        "colab": {}
      },
      "cell_type": "code",
      "source": [
        "X_test_transformed_bow_std = scaler.transform(X_test_transformed_bow)"
      ],
      "execution_count": 0,
      "outputs": []
    },
    {
      "metadata": {
        "id": "rnUPzMhNM94f",
        "colab_type": "code",
        "colab": {},
        "outputId": "8a6af44d-e71a-4dcc-cc92-db8508e6f14b"
      },
      "cell_type": "code",
      "source": [
        "X_train_transformed_bow_std.shape"
      ],
      "execution_count": 0,
      "outputs": [
        {
          "output_type": "execute_result",
          "data": {
            "text/plain": [
              "(291336, 64221)"
            ]
          },
          "metadata": {
            "tags": []
          },
          "execution_count": 13
        }
      ]
    },
    {
      "metadata": {
        "id": "ABdv612HM94j",
        "colab_type": "code",
        "colab": {},
        "outputId": "513d1428-db3d-463a-d283-a7b318fd26d9"
      },
      "cell_type": "code",
      "source": [
        "y_train.shape"
      ],
      "execution_count": 0,
      "outputs": [
        {
          "output_type": "execute_result",
          "data": {
            "text/plain": [
              "(291336,)"
            ]
          },
          "metadata": {
            "tags": []
          },
          "execution_count": 14
        }
      ]
    },
    {
      "metadata": {
        "id": "gMrX_AFTeUGB",
        "colab_type": "text"
      },
      "cell_type": "markdown",
      "source": [
        "## Multi-co-linearity Check - Perturbation Test"
      ]
    },
    {
      "metadata": {
        "id": "RdF0hPNBeUGD",
        "colab_type": "text"
      },
      "cell_type": "markdown",
      "source": [
        "Function to check multi colinearity. First, we find the weights before perturbation is applied, and once again after perturbation is applied.\n",
        "\n",
        "We add very small noise using the np.random.normal() function to only those cells in the grid X, which are non-zero.  We'll compare the weights before and after by calculating the percent change."
      ]
    },
    {
      "metadata": {
        "id": "AvnGl2-PeUGE",
        "colab_type": "code",
        "colab": {}
      },
      "cell_type": "code",
      "source": [
        "def check_multi_colinearity(X,y):\n",
        "    \n",
        "    log_reg_1 = LogisticRegression(penalty='l2', C=1.0)\n",
        "    log_reg_1.fit(X,y)\n",
        "    \n",
        "    # coef_1 is 'w' in the LR formula\n",
        "    coef_1 = log_reg_1.coef_\n",
        "    \n",
        "    X_PERTURBED = X.tocoo()\n",
        "    \n",
        "    X_PERTURBED.data += np.random.normal(0,0.5)\n",
        "    \n",
        "    log_reg_2 = LogisticRegression(penalty='l2', C=1.0)\n",
        "    log_reg_2.fit(X_PERTURBED, y)\n",
        "    \n",
        "    coef_2 = log_reg_2.coef_\n",
        "\n",
        "    return(coef_1, coef_2)"
      ],
      "execution_count": 0,
      "outputs": []
    },
    {
      "metadata": {
        "id": "UkIEEzSQM94r",
        "colab_type": "text"
      },
      "cell_type": "markdown",
      "source": [
        "Check what percent of coeficients change by more than a threshold (say 30%)?"
      ]
    },
    {
      "metadata": {
        "id": "c8Z73XTcM94s",
        "colab_type": "code",
        "colab": {},
        "outputId": "5fa9c7a8-1199-486a-d3eb-b2c255108a7c"
      },
      "cell_type": "code",
      "source": [
        "%%notify\n",
        "%%time\n",
        "\n",
        "coef_1, coef_2 = check_multi_colinearity(X_train_transformed_bow_std, y_train)\n",
        "\n",
        "# Number of non-zero coeficients \n",
        "m=np.count_nonzero(coef_1)\n",
        "\n",
        "print('Number of non-zero coeficients before perturbation: {}'.format(np.count_nonzero(coef_1)))\n",
        "print('Number of non-zero coeficients after perturbation: {}'.format(np.count_nonzero(coef_2)))\n",
        "\n",
        "# np.nonzero returns the index of non-zero elements in the grid along each axis.\n",
        "a,b = np.nonzero(coef_1)\n",
        "loc_1 = list(zip(a,b))\n",
        "\n",
        "c,d = np.nonzero(coef_2)\n",
        "loc_2 = list(zip(c,d)) \n",
        "\n",
        "# Both vectors have nonzero elements at the same indices?\n",
        "print('\\nis loc_1 == loc_2: {}'.format(loc_1 == loc_2))\n",
        "\n",
        "count=0\n",
        "\n",
        "pct_change = np.zeros(len(loc_1))\n",
        "\n",
        "for index in loc_1:\n",
        "        \n",
        "    pct_change[count] = ((coef_1[index] - coef_2[index])/coef_1[index])*100\n",
        "    count += 1\n",
        "        \n",
        "print('\\npct_change: \\n', pct_change)        \n",
        "        \n",
        "# Threshold to check drastic change in coefficients of w\n",
        "threshold = 30\n",
        "    \n",
        "n = pct_change[pct_change > threshold].size\n",
        "\n",
        "print('\\nPercent of dimensions whose coeficients changed more than {}% : {}'.format(threshold, (n/m)*100))"
      ],
      "execution_count": 0,
      "outputs": [
        {
          "output_type": "stream",
          "text": [
            "Number of non-zero coeficients before perturbation: 64221\n",
            "Number of non-zero coeficients after perturbation: 64221\n",
            "\n",
            "is loc_1 == loc_2: True\n",
            "\n",
            "pct_change: \n",
            " [-1.05575566 -2.5680173  11.28715121 ... -0.37765756  0.87709745\n",
            " -0.53155422]\n",
            "\n",
            "Percent of dimensions whose coeficients changed more than 30% : 2.4555830647296055\n",
            "CPU times: user 14min 43s, sys: 10.6 s, total: 14min 53s\n",
            "Wall time: 4min 58s\n"
          ],
          "name": "stdout"
        },
        {
          "output_type": "display_data",
          "data": {
            "application/javascript": [
              "$(document).ready(\n",
              "    function() {\n",
              "        function appendUniqueDiv(){\n",
              "            // append a div with our uuid so we can check that it's already\n",
              "            // been sent and avoid duplicates on page reload\n",
              "            var notifiedDiv = document.createElement(\"div\")\n",
              "            notifiedDiv.id = \"2f4c2a74-ca69-451a-8ed8-a5f3493ca167\"\n",
              "            element.append(notifiedDiv)\n",
              "        }\n",
              "\n",
              "        // only send notifications if the pageload is complete; this will\n",
              "        // help stop extra notifications when a saved notebook is loaded,\n",
              "        // which during testing gives us state \"interactive\", not \"complete\"\n",
              "        if (document.readyState === 'complete') {\n",
              "            // check for the div that signifies that the notification\n",
              "            // was already sent\n",
              "            if (document.getElementById(\"2f4c2a74-ca69-451a-8ed8-a5f3493ca167\") === null) {\n",
              "                var notificationPayload = {\"requireInteraction\": false, \"icon\": \"/static/base/images/favicon.ico\", \"body\": \"Cell execution has finished!\"};\n",
              "                if (Notification.permission !== 'denied') {\n",
              "                    if (Notification.permission !== 'granted') { \n",
              "                        Notification.requestPermission(function (permission) {\n",
              "                            if(!('permission' in Notification)) {\n",
              "                                Notification.permission = permission\n",
              "                            }\n",
              "                        })\n",
              "                    }\n",
              "                    if (Notification.permission === 'granted') {\n",
              "                    var notification = new Notification(\"Jupyter Notebook\", notificationPayload)\n",
              "                    appendUniqueDiv()\n",
              "                    notification.onclick = function () {\n",
              "                        window.focus();\n",
              "                        this.close();\n",
              "                        };\n",
              "                    } \n",
              "                }     \n",
              "            }\n",
              "        }\n",
              "    }\n",
              ")\n"
            ],
            "text/plain": [
              "<IPython.core.display.Javascript object>"
            ]
          },
          "metadata": {
            "tags": []
          }
        }
      ]
    },
    {
      "metadata": {
        "id": "CraWHsUn2xBA",
        "colab_type": "text"
      },
      "cell_type": "markdown",
      "source": [
        "As can be seen above, among the total number of non-zero coeficients, about 2.5% coeficients changed by more than 30% after perturbation. I executed the code multiple times and the range varied between -5% to +5%. It can't be considered a drastic change. \n",
        "\n",
        "So we can assume that there is no multicolinearity between the features."
      ]
    },
    {
      "metadata": {
        "id": "WdtyjBv9eUGU",
        "colab_type": "text"
      },
      "cell_type": "markdown",
      "source": [
        "## Some Functions\n",
        "\n",
        "Let's define some functions that we'll call repeatedly in this notebook. \n",
        "\n",
        "1. **c_vs_error** : For each value of C given to GridSearch, it will plot the error (i.e. 1 - accuracy) for train and test data. \n",
        "\n",
        "2. **give_me_ratios** : To plot ratios such as Precision, Recall, TNR, FPR, FNR.\n",
        "3. **plot_confusion_matrix** : As the name says.\n",
        "4. **GridSearch** : Create Time based cross validation splits using TimeSeriesSplit() and  create a gridsearch object for the regularization passed as a parameter. "
      ]
    },
    {
      "metadata": {
        "id": "IbuB4RHHM944",
        "colab_type": "code",
        "colab": {}
      },
      "cell_type": "code",
      "source": [
        "def c_vs_error(cv_results_, x_label, y_label, pen, title):\n",
        "    \n",
        "    mean_error_train = list(1 - clf.cv_results_['mean_train_score'])\n",
        "    mean_error_test = list(1 - clf.cv_results_['mean_test_score'])\n",
        "    \n",
        "    c = [ 0.001, 0.01, 0.1, 1, 10, 100 ]\n",
        "    \n",
        "    df_train = pd.DataFrame({'error' : mean_error_train, 'C':c, 'set': ['train']*6 })\n",
        "    df_test = pd.DataFrame({'error': mean_error_test, 'C':c, 'set': ['test']*6})\n",
        "    \n",
        "    df_train_test = pd.concat([df_train, df_test], keys=['error', 'C', 'set'])\n",
        "    \n",
        "    plt.figure(figsize=(12,5))#.suptitle(title, fontsize=16)\n",
        "    plt.subplot(1,1,1)\n",
        "    sbn.barplot(data=df_train_test, x='C', y='error', hue='set')\n",
        "    plt.xlabel(x_label, fontsize=13)\n",
        "    plt.ylabel(y_label, fontsize=13)\n",
        "    plt.title('{} | penalty: {}'.format(title,pen), fontsize=15)\n",
        "    \n",
        "#     plt.subplot(1,2,2)\n",
        "#     sbn.barplot(data=df_test, x= 'C', y='CV error')\n",
        "#     plt.xlabel(x_label, fontsize=13)\n",
        "#     plt.ylabel(y_label, fontsize=13)\n",
        "#     plt.title('Test data | penalty: {}'.format(pen), fontsize=15)\n",
        "    \n",
        "    plt.tight_layout()\n",
        "    plt.show()"
      ],
      "execution_count": 0,
      "outputs": []
    },
    {
      "metadata": {
        "id": "tff3Jzr5eUHU",
        "colab_type": "code",
        "colab": {}
      },
      "cell_type": "code",
      "source": [
        "def give_me_ratios(X_train, y_train, X_test, y_test, vector_type,penalty, table, clf): \n",
        "    \n",
        "    cm_train = confusion_matrix(y_train, clf.predict(X_train))\n",
        "    tn, fp, fn, tp = cm_train.ravel()\n",
        "\n",
        "    recall_train = round(tp/(tp+fn),2)\n",
        "    precision_train = round(tp/(tp+fp),2)\n",
        "    tnr_train = round(tn/(tn+fp),2)\n",
        "    fpr_train = round(fp/(fp+tn),2)\n",
        "    fnr_train = round(fn/(fn+tp),2)\n",
        "    accuracy_train = round((tp+tn)/(tp+tn+fp+fn))\n",
        "    accuracy_train = (tp+tn)/(tp+tn+fp+fn)\n",
        "\n",
        "    cm_test = confusion_matrix(y_test, clf.predict(X_test))\n",
        "    tn, fp, fn, tp = cm_test.ravel()\n",
        "    recall_test = round(tp/(tp+fn),2)\n",
        "    precision_test = round(tp/(tp+fp),2)\n",
        "    tnr_test = round(tn/(tn+fp),2)\n",
        "    fpr_test = round(fp/(fp+tn),2)\n",
        "    fnr_test = round(fn/(fn+tp),2)\n",
        "    accuracy_test = round(tp+tn)/(tp+tn+fp+fn)\n",
        "\n",
        "    table.field_names = ['Vector Type','penalty','Data Set', 'Precision', 'Recall', 'TNR', 'FPR', 'FNR', 'Accuracy']\n",
        "    table.add_row([vector_type,penalty,'Train', precision_train, recall_train, tnr_train, fpr_train, fnr_train, accuracy_train])\n",
        "    table.add_row([vector_type,penalty,'Test', precision_test, recall_test, tnr_test, fpr_test, fnr_test, accuracy_test])\n",
        "\n",
        "    print(table)\n",
        "    \n",
        "    return (cm_train, cm_test)"
      ],
      "execution_count": 0,
      "outputs": []
    },
    {
      "metadata": {
        "id": "aaCW-HlKeUH1",
        "colab_type": "code",
        "colab": {}
      },
      "cell_type": "code",
      "source": [
        "def plot_confusion_matrix(cm_train, cm_test, title):\n",
        "    \n",
        "    import pandas as pd\n",
        "    plt.figure(figsize=(15,6)).suptitle(title, fontsize=15)\n",
        "    \n",
        "    plt.subplot(1,2,1)\n",
        "    df_cm = pd.DataFrame(cm_train, range(2), range(2))\n",
        "    sbn.heatmap(df_cm, annot=True, annot_kws={\"size\":16}, cbar=False, fmt = 'd', xticklabels=['Negative', 'Positive'], yticklabels=['Negative', 'Positive'])\n",
        "    plt.xticks(fontsize=13)\n",
        "    plt.yticks(fontsize=13)\n",
        "    plt.xlabel('Predicted Class', fontsize=15)\n",
        "    plt.ylabel('Actual Class', fontsize=15)\n",
        "    plt.title('Train Data', fontsize = 14)\n",
        "\n",
        "    plt.subplot(1,2,2)    \n",
        "    df_cm = pd.DataFrame(cm_test, range(2), range(2))\n",
        "    sbn.heatmap(df_cm, annot=True, annot_kws={\"size\":16}, cbar=False, fmt = 'd', xticklabels=['Negative', 'Positive'], yticklabels=['Negative', 'Positive'])\n",
        "    plt.xticks(fontsize=13)\n",
        "    plt.yticks(fontsize=13)\n",
        "    plt.xlabel('Predicted Class', fontsize=15)\n",
        "    # plt.ylabel('Actual Class', fontsize=15)\n",
        "\n",
        "    plt.title('Test Data', fontsize = 14)\n",
        "\n",
        "    plt.tight_layout()"
      ],
      "execution_count": 0,
      "outputs": []
    },
    {
      "metadata": {
        "id": "5tplTcS8eUGc",
        "colab_type": "code",
        "colab": {}
      },
      "cell_type": "code",
      "source": [
        "def GridSearch(X_train, pen):\n",
        "\n",
        "    tscv = TimeSeriesSplit(n_splits=10)\n",
        "    my_cv = tscv.split(X_train)\n",
        "\n",
        "    lr = LogisticRegression(penalty=pen, class_weight = 'balanced')\n",
        "\n",
        "    hyp_par = {\n",
        "                'C':[0.001, 0.01, 0.1, 10, 100, 1000]\n",
        "        }\n",
        "\n",
        "    clf = GridSearchCV(estimator=lr, cv=my_cv, param_grid=hyp_par, n_jobs=6, return_train_score=True)\n",
        "    \n",
        "    return clf"
      ],
      "execution_count": 0,
      "outputs": []
    },
    {
      "metadata": {
        "id": "uH-jsWpweUGb",
        "colab_type": "text"
      },
      "cell_type": "markdown",
      "source": [
        "**GridSearchCV | BOW | L1 penalty**"
      ]
    },
    {
      "metadata": {
        "id": "7cCPpCrqM95B",
        "colab_type": "text"
      },
      "cell_type": "markdown",
      "source": [
        "Before finding the best parameter using GridSearch, let's see how the choice of hyperparameter C affects coeficient vector W."
      ]
    },
    {
      "metadata": {
        "id": "LZZwOL6XM95C",
        "colab_type": "code",
        "colab": {},
        "outputId": "d95d045d-48a7-49ab-ba43-16e5ebed410f"
      },
      "cell_type": "code",
      "source": [
        "%%notify\n",
        "%%time\n",
        "\n",
        "sparcity = {'C' : [], 'Non Zero Coeficients' : []}\n",
        "\n",
        "for c in [0.0001,0.001,0.01, 0.1, 1, 10, 100, 1000, 10000]:\n",
        "    model = LogisticRegression(C=c, class_weight='balanced', penalty='l1')\n",
        "    model.fit(X_train_transformed_bow_std, y_train)\n",
        "    nz = np.count_nonzero(model.coef_)\n",
        "    sparcity['C'].append(c)\n",
        "    sparcity['Non Zero Coeficients'].append(nz)\n",
        "\n",
        "sparcity\n",
        "    \n",
        "df_sparcity = pd.DataFrame(sparcity)\n",
        "\n",
        "plt.figure(figsize=(15,6))\n",
        "\n",
        "sbn.barplot(data=df_sparcity, x='C', y='Non Zero Coeficients')\n",
        "plt.title('')\n",
        "plt.plot()"
      ],
      "execution_count": 0,
      "outputs": [
        {
          "output_type": "stream",
          "text": [
            "CPU times: user 5min 50s, sys: 820 ms, total: 5min 50s\n",
            "Wall time: 5min 46s\n"
          ],
          "name": "stdout"
        },
        {
          "output_type": "display_data",
          "data": {
            "image/png": "[encoded data removed]",
            "text/plain": [
              "<Figure size 1080x432 with 1 Axes>"
            ]
          },
          "metadata": {
            "tags": []
          }
        },
        {
          "output_type": "display_data",
          "data": {
            "application/javascript": [
              "$(document).ready(\n",
              "    function() {\n",
              "        function appendUniqueDiv(){\n",
              "            // append a div with our uuid so we can check that it's already\n",
              "            // been sent and avoid duplicates on page reload\n",
              "            var notifiedDiv = document.createElement(\"div\")\n",
              "            notifiedDiv.id = \"5e22c4d2-152b-4abd-a521-94637575dee0\"\n",
              "            element.append(notifiedDiv)\n",
              "        }\n",
              "\n",
              "        // only send notifications if the pageload is complete; this will\n",
              "        // help stop extra notifications when a saved notebook is loaded,\n",
              "        // which during testing gives us state \"interactive\", not \"complete\"\n",
              "        if (document.readyState === 'complete') {\n",
              "            // check for the div that signifies that the notification\n",
              "            // was already sent\n",
              "            if (document.getElementById(\"5e22c4d2-152b-4abd-a521-94637575dee0\") === null) {\n",
              "                var notificationPayload = {\"requireInteraction\": false, \"icon\": \"/static/base/images/favicon.ico\", \"body\": \"Cell execution has finished!\"};\n",
              "                if (Notification.permission !== 'denied') {\n",
              "                    if (Notification.permission !== 'granted') { \n",
              "                        Notification.requestPermission(function (permission) {\n",
              "                            if(!('permission' in Notification)) {\n",
              "                                Notification.permission = permission\n",
              "                            }\n",
              "                        })\n",
              "                    }\n",
              "                    if (Notification.permission === 'granted') {\n",
              "                    var notification = new Notification(\"Jupyter Notebook\", notificationPayload)\n",
              "                    appendUniqueDiv()\n",
              "                    notification.onclick = function () {\n",
              "                        window.focus();\n",
              "                        this.close();\n",
              "                        };\n",
              "                    } \n",
              "                }     \n",
              "            }\n",
              "        }\n",
              "    }\n",
              ")\n"
            ],
            "text/plain": [
              "<IPython.core.display.Javascript object>"
            ]
          },
          "metadata": {
            "tags": []
          }
        }
      ]
    },
    {
      "metadata": {
        "id": "Sd_I3AxwM95G",
        "colab_type": "text"
      },
      "cell_type": "markdown",
      "source": [
        "As seen in the above graph, when C is small (strong regularization), most features have no impact on the model's prediction. This leads to underfitting. While high value of C (weak regularization) leads to more coefficients of features being non-zero. This may lead to overfitting. "
      ]
    },
    {
      "metadata": {
        "id": "6VrY3Znv8rLq",
        "colab_type": "text"
      },
      "cell_type": "markdown",
      "source": [
        "Get the classifier by calling the GridSearch funtion"
      ]
    },
    {
      "metadata": {
        "id": "NhqyB9-peUGk",
        "colab_type": "code",
        "colab": {},
        "outputId": "d0936811-26ef-4eaf-b3e2-82f84ad0f038"
      },
      "cell_type": "code",
      "source": [
        "clf = GridSearch(X_train_transformed_bow_std, pen = 'l1')"
      ],
      "execution_count": 0,
      "outputs": [
        {
          "output_type": "stream",
          "text": [
            "CPU times: user 151 µs, sys: 2 µs, total: 153 µs\n",
            "Wall time: 156 µs\n"
          ],
          "name": "stdout"
        },
        {
          "output_type": "display_data",
          "data": {
            "application/javascript": [
              "$(document).ready(\n",
              "    function() {\n",
              "        function appendUniqueDiv(){\n",
              "            // append a div with our uuid so we can check that it's already\n",
              "            // been sent and avoid duplicates on page reload\n",
              "            var notifiedDiv = document.createElement(\"div\")\n",
              "            notifiedDiv.id = \"262bc13d-9e90-4117-8a4d-6e8926b59e9d\"\n",
              "            element.append(notifiedDiv)\n",
              "        }\n",
              "\n",
              "        // only send notifications if the pageload is complete; this will\n",
              "        // help stop extra notifications when a saved notebook is loaded,\n",
              "        // which during testing gives us state \"interactive\", not \"complete\"\n",
              "        if (document.readyState === 'complete') {\n",
              "            // check for the div that signifies that the notification\n",
              "            // was already sent\n",
              "            if (document.getElementById(\"262bc13d-9e90-4117-8a4d-6e8926b59e9d\") === null) {\n",
              "                var notificationPayload = {\"requireInteraction\": false, \"icon\": \"/static/base/images/favicon.ico\", \"body\": \"Cell execution has finished!\"};\n",
              "                if (Notification.permission !== 'denied') {\n",
              "                    if (Notification.permission !== 'granted') { \n",
              "                        Notification.requestPermission(function (permission) {\n",
              "                            if(!('permission' in Notification)) {\n",
              "                                Notification.permission = permission\n",
              "                            }\n",
              "                        })\n",
              "                    }\n",
              "                    if (Notification.permission === 'granted') {\n",
              "                    var notification = new Notification(\"Jupyter Notebook\", notificationPayload)\n",
              "                    appendUniqueDiv()\n",
              "                    notification.onclick = function () {\n",
              "                        window.focus();\n",
              "                        this.close();\n",
              "                        };\n",
              "                    } \n",
              "                }     \n",
              "            }\n",
              "        }\n",
              "    }\n",
              ")\n"
            ],
            "text/plain": [
              "<IPython.core.display.Javascript object>"
            ]
          },
          "metadata": {
            "tags": []
          }
        }
      ]
    },
    {
      "metadata": {
        "id": "yFdjK-QL8pRu",
        "colab_type": "text"
      },
      "cell_type": "markdown",
      "source": [
        "Train the model"
      ]
    },
    {
      "metadata": {
        "id": "qLi_keXeeUGr",
        "colab_type": "code",
        "colab": {}
      },
      "cell_type": "code",
      "source": [
        "%%notify\n",
        "%%time\n",
        "\n",
        "clf.fit(X_train_transformed_bow_std, y_train)"
      ],
      "execution_count": 0,
      "outputs": []
    },
    {
      "metadata": {
        "id": "y-tbR54JeUG6",
        "colab_type": "code",
        "colab": {},
        "outputId": "3c7a3cff-b5b4-4bf8-f647-60e20fa7563d"
      },
      "cell_type": "code",
      "source": [
        "clf.best_params_"
      ],
      "execution_count": 0,
      "outputs": [
        {
          "output_type": "execute_result",
          "data": {
            "text/plain": [
              "{'C': 0.01}"
            ]
          },
          "metadata": {
            "tags": []
          },
          "execution_count": 25
        }
      ]
    },
    {
      "metadata": {
        "id": "GjLcL0JSeUHD",
        "colab_type": "text"
      },
      "cell_type": "markdown",
      "source": [
        "Plot errors during cross validation using the function we defined above."
      ]
    },
    {
      "metadata": {
        "id": "fOQHfTcdeUHE",
        "colab_type": "code",
        "colab": {},
        "outputId": "f7a56881-bcad-4cea-86f5-e2cb76b242e7"
      },
      "cell_type": "code",
      "source": [
        "c_vs_error(clf.cv_results_, 'C', 'CV Error', pen='L1', title='Bag of Words')"
      ],
      "execution_count": 0,
      "outputs": [
        {
          "output_type": "display_data",
          "data": {
            "image/png": "[encoded data removed]",
            "text/plain": [
              "<Figure size 864x360 with 1 Axes>"
            ]
          },
          "metadata": {
            "tags": []
          }
        }
      ]
    },
    {
      "metadata": {
        "id": "yP_kkG5FeUHL",
        "colab_type": "text"
      },
      "cell_type": "markdown",
      "source": [
        "Import prettytable to summarize the results in a table"
      ]
    },
    {
      "metadata": {
        "id": "aJpxuLjceUHN",
        "colab_type": "code",
        "colab": {}
      },
      "cell_type": "code",
      "source": [
        "# !pip install PrettyTable\n",
        "# from prettytable import PrettyTable\n",
        "from prettytable import PrettyTable\n",
        "table = PrettyTable()"
      ],
      "execution_count": 0,
      "outputs": []
    },
    {
      "metadata": {
        "id": "lw5y6P6heUH-",
        "colab_type": "text"
      },
      "cell_type": "markdown",
      "source": [
        "Calculate the ratios."
      ]
    },
    {
      "metadata": {
        "id": "DTSqm-9PeUIA",
        "colab_type": "code",
        "colab": {},
        "outputId": "d6e6f182-1804-4741-ba8f-d30174fbb8ce"
      },
      "cell_type": "code",
      "source": [
        "cm_bow_train, cm_bow_test = give_me_ratios(X_train_transformed_bow_std, y_train, X_test_transformed_bow_std, y_test, 'Bag of Words','L1', table, clf)"
      ],
      "execution_count": 0,
      "outputs": [
        {
          "output_type": "stream",
          "text": [
            "+--------------+---------+----------+-----------+--------+------+------+------+--------------------+\n",
            "| Vector Type  | penalty | Data Set | Precision | Recall | TNR  | FPR  | FNR  |      Accuracy      |\n",
            "+--------------+---------+----------+-----------+--------+------+------+------+--------------------+\n",
            "| Bag of Words |    L1   |  Train   |    0.99   |  0.93  | 0.93 | 0.07 | 0.07 | 0.9277809814097812 |\n",
            "| Bag of Words |    L1   |   Test   |    0.97   |  0.9   | 0.85 | 0.15 | 0.1  | 0.8909315576302602 |\n",
            "+--------------+---------+----------+-----------+--------+------+------+------+--------------------+\n"
          ],
          "name": "stdout"
        }
      ]
    },
    {
      "metadata": {
        "id": "BzLvSfHAeUIL",
        "colab_type": "text"
      },
      "cell_type": "markdown",
      "source": [
        "Plot the confusion matrix."
      ]
    },
    {
      "metadata": {
        "id": "8V7ZTPuxeUIN",
        "colab_type": "code",
        "colab": {},
        "outputId": "a2b22f42-cfe8-414b-defb-7f81c9ece6ff"
      },
      "cell_type": "code",
      "source": [
        "plot_confusion_matrix(cm_bow_train, cm_bow_test, title=\"BOW | 'L1' PENALTY\")"
      ],
      "execution_count": 0,
      "outputs": [
        {
          "output_type": "display_data",
          "data": {
            "image/png": "[encoded data removed]",
            "text/plain": [
              "<Figure size 1080x432 with 2 Axes>"
            ]
          },
          "metadata": {
            "tags": []
          }
        }
      ]
    },
    {
      "metadata": {
        "id": "UmqTWX8weUIX",
        "colab_type": "text"
      },
      "cell_type": "markdown",
      "source": [
        "**Grid search | BOW| L2 penalty**"
      ]
    },
    {
      "metadata": {
        "id": "Rt7qjrp19CUK",
        "colab_type": "text"
      },
      "cell_type": "markdown",
      "source": [
        "Get the classifier and train the model."
      ]
    },
    {
      "metadata": {
        "id": "tcbcBx4ZeUIZ",
        "colab_type": "code",
        "colab": {}
      },
      "cell_type": "code",
      "source": [
        "clf = GridSearch(X_train_transformed_bow_std, pen='l2')"
      ],
      "execution_count": 0,
      "outputs": []
    },
    {
      "metadata": {
        "id": "l-72YumkeUIf",
        "colab_type": "code",
        "colab": {}
      },
      "cell_type": "code",
      "source": [
        "%%notify\n",
        "%%time\n",
        "\n",
        "clf.fit(X_train_transformed_bow_std, y_train)"
      ],
      "execution_count": 0,
      "outputs": []
    },
    {
      "metadata": {
        "id": "wbmXHtwReUIp",
        "colab_type": "code",
        "colab": {},
        "outputId": "1a256168-532c-43cd-8ad4-7bcb7a93b0a5"
      },
      "cell_type": "code",
      "source": [
        "clf.best_params_"
      ],
      "execution_count": 0,
      "outputs": [
        {
          "output_type": "execute_result",
          "data": {
            "text/plain": [
              "{'C': 0.001}"
            ]
          },
          "metadata": {
            "tags": []
          },
          "execution_count": 32
        }
      ]
    },
    {
      "metadata": {
        "id": "lcFMl8UY9XjB",
        "colab_type": "text"
      },
      "cell_type": "markdown",
      "source": [
        "Plot CV errors"
      ]
    },
    {
      "metadata": {
        "id": "iAKJTelyeUI6",
        "colab_type": "code",
        "colab": {},
        "outputId": "9f07c8e2-301b-4176-f1b6-fd3f888b5611"
      },
      "cell_type": "code",
      "source": [
        "c_vs_error(clf.cv_results_, 'C', 'CV Error', pen='L2', title='Bag of Words')"
      ],
      "execution_count": 0,
      "outputs": [
        {
          "output_type": "display_data",
          "data": {
            "image/png": "[encoded data removed]",
            "text/plain": [
              "<Figure size 864x360 with 1 Axes>"
            ]
          },
          "metadata": {
            "tags": []
          }
        }
      ]
    },
    {
      "metadata": {
        "id": "JRowt6Mx9dEQ",
        "colab_type": "text"
      },
      "cell_type": "markdown",
      "source": [
        "Get ratios."
      ]
    },
    {
      "metadata": {
        "id": "HCqdWnBOeUJK",
        "colab_type": "code",
        "colab": {},
        "outputId": "01c8ef69-fc0b-4b64-fc17-ddf699edc91e"
      },
      "cell_type": "code",
      "source": [
        "cm_bow_train, cm_bow_test = give_me_ratios(X_train_transformed_bow_std, y_train, X_test_transformed_bow_std, y_test, 'Bag of Words','L2', table, clf)"
      ],
      "execution_count": 0,
      "outputs": [
        {
          "output_type": "stream",
          "text": [
            "+--------------+---------+----------+-----------+--------+------+------+------+--------------------+\n",
            "| Vector Type  | penalty | Data Set | Precision | Recall | TNR  | FPR  | FNR  |      Accuracy      |\n",
            "+--------------+---------+----------+-----------+--------+------+------+------+--------------------+\n",
            "| Bag of Words |    L1   |  Train   |    0.99   |  0.93  | 0.93 | 0.07 | 0.07 | 0.9277809814097812 |\n",
            "| Bag of Words |    L1   |   Test   |    0.97   |  0.9   | 0.85 | 0.15 | 0.1  | 0.8909315576302602 |\n",
            "| Bag of Words |    L2   |  Train   |    0.99   |  0.94  | 0.94 | 0.06 | 0.06 | 0.9362385698986737 |\n",
            "| Bag of Words |    L2   |   Test   |    0.96   |  0.9   | 0.81 | 0.19 | 0.1  | 0.8839156998695682 |\n",
            "+--------------+---------+----------+-----------+--------+------+------+------+--------------------+\n"
          ],
          "name": "stdout"
        }
      ]
    },
    {
      "metadata": {
        "id": "XDd8zG9-99Bt",
        "colab_type": "text"
      },
      "cell_type": "markdown",
      "source": [
        "Plot confusion matrix"
      ]
    },
    {
      "metadata": {
        "id": "0gmFX5TneUJZ",
        "colab_type": "code",
        "colab": {},
        "outputId": "141821bb-2a2b-4a92-81ba-d81f014d9a0a"
      },
      "cell_type": "code",
      "source": [
        "plot_confusion_matrix(cm_bow_train, cm_bow_test, \"BOW | 'L2' PENALTY\")"
      ],
      "execution_count": 0,
      "outputs": [
        {
          "output_type": "display_data",
          "data": {
            "image/png": "[encoded data removed]",
            "text/plain": [
              "<Figure size 1080x432 with 2 Axes>"
            ]
          },
          "metadata": {
            "tags": []
          }
        }
      ]
    },
    {
      "metadata": {
        "id": "Ljz_0XlBeUJf",
        "colab_type": "text"
      },
      "cell_type": "markdown",
      "source": [
        "## Tfidf\n",
        "\n",
        "In this section, we'll apply LR on reviews represented in the Tfidf format. Load the transformed train and test sets."
      ]
    },
    {
      "metadata": {
        "id": "R0_7y9FXeUJj",
        "colab_type": "code",
        "colab": {},
        "outputId": "3779869c-11c6-440a-ea8e-f726b804be33"
      },
      "cell_type": "code",
      "source": [
        "# f = open(r'D:\\data_science\\datasets\\amazon2\\X_train_transformed_tfidf_full_nparray.pkl', 'rb')\n",
        "f = open('/home/ucanreachtvk/data/X_train_transformed_tfidf_full_nparray.pkl', 'rb')\n",
        "X_train_transformed_tfidf = pickle.load(f)\n",
        "f.close()\n",
        "print('The datatype of X_train_transformed_tfidf is : {}'.format(type(X_train_transformed_tfidf)))\n",
        "print('The shape of X_train_transformed_tfidf is : {}'.format(X_train_transformed_tfidf.shape))"
      ],
      "execution_count": 0,
      "outputs": [
        {
          "output_type": "stream",
          "text": [
            "The datatype of X_train_transformed_tfidf is : <class 'scipy.sparse.csr.csr_matrix'>\n",
            "The shape of X_train_transformed_tfidf is : (291336, 64221)\n"
          ],
          "name": "stdout"
        }
      ]
    },
    {
      "metadata": {
        "id": "YcNq2J-2eUJw",
        "colab_type": "code",
        "colab": {},
        "outputId": "35b9660c-5138-44ec-e6dc-6fd644a87635"
      },
      "cell_type": "code",
      "source": [
        "# f = open(r'D:\\data_science\\datasets\\amazon2\\X_test_transformed_tfidf_full_nparray.pkl', 'rb')\n",
        "f = open('/home/ucanreachtvk/data/X_test_transformed_tfidf_full_nparray.pkl', 'rb')\n",
        "X_test_transformed_tfidf = pickle.load(f)\n",
        "f.close()\n",
        "print('The datatype of X_test_transformed_tfidf is : {}'.format(type(X_test_transformed_tfidf)))\n",
        "print('The shape of X_test_transformed_tfidf is : {}'.format(X_test_transformed_tfidf.shape))"
      ],
      "execution_count": 0,
      "outputs": [
        {
          "output_type": "stream",
          "text": [
            "The datatype of X_test_transformed_tfidf is : <class 'scipy.sparse.csr.csr_matrix'>\n",
            "The shape of X_test_transformed_tfidf is : (72835, 64221)\n"
          ],
          "name": "stdout"
        }
      ]
    },
    {
      "metadata": {
        "id": "t-gIXgQ0eUJ9",
        "colab_type": "text"
      },
      "cell_type": "markdown",
      "source": [
        "Standardize data"
      ]
    },
    {
      "metadata": {
        "id": "feh76VtmeUJ-",
        "colab_type": "code",
        "colab": {}
      },
      "cell_type": "code",
      "source": [
        "scaler = StandardScaler(with_mean = False)\n",
        "X_train_transformed_tfidf_std = scaler.fit_transform(X_train_transformed_tfidf)"
      ],
      "execution_count": 0,
      "outputs": []
    },
    {
      "metadata": {
        "id": "leUbMILJeUKF",
        "colab_type": "code",
        "colab": {}
      },
      "cell_type": "code",
      "source": [
        "X_test_transformed_tfidf_std = scaler.transform(X_test_transformed_tfidf)"
      ],
      "execution_count": 0,
      "outputs": []
    },
    {
      "metadata": {
        "id": "-EM0DU8-eUKM",
        "colab_type": "text"
      },
      "cell_type": "markdown",
      "source": [
        "**GridSearch | TFIDF | L1 penalty**"
      ]
    },
    {
      "metadata": {
        "id": "-dynXWIkeUKN",
        "colab_type": "code",
        "colab": {}
      },
      "cell_type": "code",
      "source": [
        "clf = GridSearch(X_train_transformed_tfidf_std, pen='l1')"
      ],
      "execution_count": 0,
      "outputs": []
    },
    {
      "metadata": {
        "id": "HzraiTbM-YAG",
        "colab_type": "text"
      },
      "cell_type": "markdown",
      "source": [
        "Train the model"
      ]
    },
    {
      "metadata": {
        "id": "-RCAQJRweUKW",
        "colab_type": "code",
        "colab": {}
      },
      "cell_type": "code",
      "source": [
        "%%notify\n",
        "%%time\n",
        "\n",
        "clf.fit(X_train_transformed_tfidf_std, y_train)"
      ],
      "execution_count": 0,
      "outputs": []
    },
    {
      "metadata": {
        "id": "DbVQC2jXeUKa",
        "colab_type": "code",
        "colab": {},
        "outputId": "0dd7c391-6f86-4a68-de71-852b3750ca4d"
      },
      "cell_type": "code",
      "source": [
        "clf.best_params_"
      ],
      "execution_count": 0,
      "outputs": [
        {
          "output_type": "execute_result",
          "data": {
            "text/plain": [
              "{'C': 0.01}"
            ]
          },
          "metadata": {
            "tags": []
          },
          "execution_count": 42
        }
      ]
    },
    {
      "metadata": {
        "id": "ELV6usqo-dYj",
        "colab_type": "text"
      },
      "cell_type": "markdown",
      "source": [
        "Plot CV errors"
      ]
    },
    {
      "metadata": {
        "id": "EMicQmjbeUKg",
        "colab_type": "code",
        "colab": {},
        "outputId": "ddc1b198-49eb-4c46-e0f4-7f40b651ee5d"
      },
      "cell_type": "code",
      "source": [
        "c_vs_error(clf.cv_results_, 'C', 'CV Error', pen='L1', title='TFIDF')"
      ],
      "execution_count": 0,
      "outputs": [
        {
          "output_type": "display_data",
          "data": {
            "image/png": "[encoded data removed]",
            "text/plain": [
              "<Figure size 864x360 with 1 Axes>"
            ]
          },
          "metadata": {
            "tags": []
          }
        }
      ]
    },
    {
      "metadata": {
        "id": "F-KFilDy_qhs",
        "colab_type": "text"
      },
      "cell_type": "markdown",
      "source": [
        "Create ratios"
      ]
    },
    {
      "metadata": {
        "id": "r1y5JYpAeUKp",
        "colab_type": "code",
        "colab": {},
        "outputId": "2c47f5ef-5473-4164-85a1-e3e61bdad9eb"
      },
      "cell_type": "code",
      "source": [
        "cm_tfidf_train, cm_tfidf_test = give_me_ratios(X_train_transformed_tfidf_std, y_train, X_test_transformed_tfidf_std, y_test, 'TFIDF','L1', table, clf)"
      ],
      "execution_count": 0,
      "outputs": [
        {
          "output_type": "stream",
          "text": [
            "+--------------+---------+----------+-----------+--------+------+------+------+--------------------+\n",
            "| Vector Type  | penalty | Data Set | Precision | Recall | TNR  | FPR  | FNR  |      Accuracy      |\n",
            "+--------------+---------+----------+-----------+--------+------+------+------+--------------------+\n",
            "| Bag of Words |    L1   |  Train   |    0.99   |  0.93  | 0.93 | 0.07 | 0.07 | 0.9277809814097812 |\n",
            "| Bag of Words |    L1   |   Test   |    0.97   |  0.9   | 0.85 | 0.15 | 0.1  | 0.8909315576302602 |\n",
            "| Bag of Words |    L2   |  Train   |    0.99   |  0.94  | 0.94 | 0.06 | 0.06 | 0.9362385698986737 |\n",
            "| Bag of Words |    L2   |   Test   |    0.96   |  0.9   | 0.81 | 0.19 | 0.1  | 0.8839156998695682 |\n",
            "|    TFIDF     |    L1   |  Train   |    0.99   |  0.93  | 0.93 | 0.07 | 0.07 | 0.9288965318395255 |\n",
            "|    TFIDF     |    L1   |   Test   |    0.97   |  0.9   | 0.85 | 0.15 | 0.1  | 0.8890231344820485 |\n",
            "+--------------+---------+----------+-----------+--------+------+------+------+--------------------+\n"
          ],
          "name": "stdout"
        }
      ]
    },
    {
      "metadata": {
        "id": "4CmfZ3NZeUKx",
        "colab_type": "text"
      },
      "cell_type": "markdown",
      "source": [
        "Plot the confusion matrix."
      ]
    },
    {
      "metadata": {
        "id": "W41SW_LWeUKy",
        "colab_type": "code",
        "colab": {},
        "outputId": "e5533f05-3460-4940-ce26-e328147eed15"
      },
      "cell_type": "code",
      "source": [
        "plot_confusion_matrix(cm_tfidf_train, cm_tfidf_test, \"TFIDF | 'L1' PENALTY\")"
      ],
      "execution_count": 0,
      "outputs": [
        {
          "output_type": "display_data",
          "data": {
            "image/png": "[encoded data removed]",
            "text/plain": [
              "<Figure size 1080x432 with 2 Axes>"
            ]
          },
          "metadata": {
            "tags": []
          }
        }
      ]
    },
    {
      "metadata": {
        "id": "2izNzBOkeUK4",
        "colab_type": "text"
      },
      "cell_type": "markdown",
      "source": [
        "**GridSearch | TFIDF | L2 penalty**"
      ]
    },
    {
      "metadata": {
        "id": "cwACzKo_eUK5",
        "colab_type": "code",
        "colab": {}
      },
      "cell_type": "code",
      "source": [
        "clf = GridSearch(X_train_transformed_tfidf_std, pen='l2')"
      ],
      "execution_count": 0,
      "outputs": []
    },
    {
      "metadata": {
        "id": "JACLrF9PeUK7",
        "colab_type": "code",
        "colab": {}
      },
      "cell_type": "code",
      "source": [
        "%%notify\n",
        "%%time\n",
        "\n",
        "clf.fit(X_train_transformed_tfidf_std, y_train)"
      ],
      "execution_count": 0,
      "outputs": []
    },
    {
      "metadata": {
        "id": "3MDHwXrQeUK_",
        "colab_type": "code",
        "colab": {},
        "outputId": "dba9be5e-614e-46e0-c28f-05a363159a4c"
      },
      "cell_type": "code",
      "source": [
        "clf.best_params_"
      ],
      "execution_count": 0,
      "outputs": [
        {
          "output_type": "execute_result",
          "data": {
            "text/plain": [
              "{'C': 0.001}"
            ]
          },
          "metadata": {
            "tags": []
          },
          "execution_count": 48
        }
      ]
    },
    {
      "metadata": {
        "id": "7ZfwPWG8eULC",
        "colab_type": "code",
        "colab": {},
        "outputId": "c9a094bb-6e89-4d9e-cd43-03ccaab1a12a"
      },
      "cell_type": "code",
      "source": [
        "c_vs_error(clf.cv_results_, 'C', 'CV Error', pen='L2', title='TFIDF')"
      ],
      "execution_count": 0,
      "outputs": [
        {
          "output_type": "display_data",
          "data": {
            "image/png": "[encoded data removed]",
            "text/plain": [
              "<Figure size 864x360 with 1 Axes>"
            ]
          },
          "metadata": {
            "tags": []
          }
        }
      ]
    },
    {
      "metadata": {
        "id": "UctxlXoueULG",
        "colab_type": "code",
        "colab": {},
        "outputId": "f4a59b48-4bc1-4900-b707-1c2767df2f6b"
      },
      "cell_type": "code",
      "source": [
        "cm_tfidf_train, cm_tfidf_test = give_me_ratios(X_train_transformed_tfidf_std, y_train, X_test_transformed_tfidf_std, y_test, 'TFIDF','L2', table, clf)"
      ],
      "execution_count": 0,
      "outputs": [
        {
          "output_type": "stream",
          "text": [
            "+--------------+---------+----------+-----------+--------+------+------+------+--------------------+\n",
            "| Vector Type  | penalty | Data Set | Precision | Recall | TNR  | FPR  | FNR  |      Accuracy      |\n",
            "+--------------+---------+----------+-----------+--------+------+------+------+--------------------+\n",
            "| Bag of Words |    L1   |  Train   |    0.99   |  0.93  | 0.93 | 0.07 | 0.07 | 0.9277809814097812 |\n",
            "| Bag of Words |    L1   |   Test   |    0.97   |  0.9   | 0.85 | 0.15 | 0.1  | 0.8909315576302602 |\n",
            "| Bag of Words |    L2   |  Train   |    0.99   |  0.94  | 0.94 | 0.06 | 0.06 | 0.9362385698986737 |\n",
            "| Bag of Words |    L2   |   Test   |    0.96   |  0.9   | 0.81 | 0.19 | 0.1  | 0.8839156998695682 |\n",
            "|    TFIDF     |    L1   |  Train   |    0.99   |  0.93  | 0.93 | 0.07 | 0.07 | 0.9288965318395255 |\n",
            "|    TFIDF     |    L1   |   Test   |    0.97   |  0.9   | 0.85 | 0.15 | 0.1  | 0.8890231344820485 |\n",
            "|    TFIDF     |    L2   |  Train   |    0.99   |  0.93  | 0.95 | 0.05 | 0.07 | 0.9339388197819699 |\n",
            "|    TFIDF     |    L2   |   Test   |    0.96   |  0.89  | 0.8  | 0.2  | 0.11 | 0.8772842726711059 |\n",
            "+--------------+---------+----------+-----------+--------+------+------+------+--------------------+\n"
          ],
          "name": "stdout"
        }
      ]
    },
    {
      "metadata": {
        "id": "MQsX6nBPeULT",
        "colab_type": "code",
        "colab": {},
        "outputId": "33565f3d-589d-404f-95c1-e9dc83d04b16"
      },
      "cell_type": "code",
      "source": [
        "plot_confusion_matrix(cm_tfidf_train, cm_tfidf_test, \"TFIDF | 'L2' PENALTY\")"
      ],
      "execution_count": 0,
      "outputs": [
        {
          "output_type": "display_data",
          "data": {
            "image/png": "[encoded data removed]",
            "text/plain": [
              "<Figure size 1080x432 with 2 Axes>"
            ]
          },
          "metadata": {
            "tags": []
          }
        }
      ]
    },
    {
      "metadata": {
        "id": "C9bCe0pqeULY",
        "colab_type": "text"
      },
      "cell_type": "markdown",
      "source": [
        "## Avg W2V\n",
        "\n",
        "In this section, we'll apply LR on data represented in the avg. W2V format.\n",
        "load the train and test data stored on disk."
      ]
    },
    {
      "metadata": {
        "id": "r4ZjF15CeULY",
        "colab_type": "code",
        "colab": {},
        "outputId": "9cf2cfcf-f2e6-49f3-ea89-84e65085923f"
      },
      "cell_type": "code",
      "source": [
        "# f = open(r'D:\\data_science\\datasets\\amazon2\\X_train_transformed_avgW2V_full80_20_nparray.pkl', 'rb')\n",
        "f = open('/home/ucanreachtvk/data/X_train_transformed_avgW2V_full80_20_nparray.pkl', 'rb')\n",
        "X_train_transformed_avgW2V = pickle.load(f)\n",
        "f.close()\n",
        "print('The datatype of X_train_transformed_avgW2V is : {}'.format(type(X_train_transformed_avgW2V)))\n",
        "print('The shape of X_train_transformed_avgW2V is : {}'.format(X_train_transformed_avgW2V.shape))"
      ],
      "execution_count": 0,
      "outputs": [
        {
          "output_type": "stream",
          "text": [
            "The datatype of X_train_transformed_avgW2V is : <class 'numpy.ndarray'>\n",
            "The shape of X_train_transformed_avgW2V is : (291336, 50)\n"
          ],
          "name": "stdout"
        }
      ]
    },
    {
      "metadata": {
        "id": "K_rnWiwKeULc",
        "colab_type": "code",
        "colab": {},
        "outputId": "d68dfec9-e27e-414b-8630-0c633f2199fe"
      },
      "cell_type": "code",
      "source": [
        "# f = open(r'D:\\data_science\\datasets\\amazon2\\X_test_transformed_avgW2V_full80_20_nparray.pkl', 'rb')\n",
        "f = open('/home/ucanreachtvk/data/X_test_transformed_avgW2V_full80_20_nparray.pkl', 'rb')\n",
        "X_test_transformed_avgW2V = pickle.load(f)\n",
        "f.close()\n",
        "print('The datatype of X_test_transformed_avgW2V is : {}'.format(type(X_test_transformed_avgW2V)))\n",
        "print('The shape of X_test_transformed_avgW2V is : {}'.format(X_test_transformed_avgW2V.shape))"
      ],
      "execution_count": 0,
      "outputs": [
        {
          "output_type": "stream",
          "text": [
            "The datatype of X_test_transformed_avgW2V is : <class 'numpy.ndarray'>\n",
            "The shape of X_test_transformed_avgW2V is : (72835, 50)\n"
          ],
          "name": "stdout"
        }
      ]
    },
    {
      "metadata": {
        "id": "Oyp33cx5eULl",
        "colab_type": "text"
      },
      "cell_type": "markdown",
      "source": [
        "Standardize the data"
      ]
    },
    {
      "metadata": {
        "id": "twZEEFk9eULl",
        "colab_type": "code",
        "colab": {}
      },
      "cell_type": "code",
      "source": [
        "scaler = StandardScaler(with_mean = True)\n",
        "X_train_transformed_avgW2V_std = scaler.fit_transform(X_train_transformed_avgW2V)"
      ],
      "execution_count": 0,
      "outputs": []
    },
    {
      "metadata": {
        "id": "m9HPNlyceULo",
        "colab_type": "code",
        "colab": {}
      },
      "cell_type": "code",
      "source": [
        "X_test_transformed_avgW2V_std = scaler.transform(X_test_transformed_avgW2V)"
      ],
      "execution_count": 0,
      "outputs": []
    },
    {
      "metadata": {
        "id": "ubsZjqOoeULs",
        "colab_type": "text"
      },
      "cell_type": "markdown",
      "source": [
        "**GridSearch | avg. W2V | L1 penalty**\n",
        "\n"
      ]
    },
    {
      "metadata": {
        "id": "oCB325ZReULt",
        "colab_type": "code",
        "colab": {}
      },
      "cell_type": "code",
      "source": [
        "clf = GridSearch(X_train_transformed_avgW2V_std, pen='l1')"
      ],
      "execution_count": 0,
      "outputs": []
    },
    {
      "metadata": {
        "id": "BQ3A1d68eULw",
        "colab_type": "code",
        "colab": {}
      },
      "cell_type": "code",
      "source": [
        "%%notify\n",
        "%%time\n",
        "\n",
        "clf.fit(X_train_transformed_avgW2V_std, y_train)"
      ],
      "execution_count": 0,
      "outputs": []
    },
    {
      "metadata": {
        "id": "rqgKobwgeUL4",
        "colab_type": "code",
        "colab": {},
        "outputId": "68d1b518-fbe3-4936-9ea8-ea2f058353a6"
      },
      "cell_type": "code",
      "source": [
        "clf.best_params_"
      ],
      "execution_count": 0,
      "outputs": [
        {
          "output_type": "execute_result",
          "data": {
            "text/plain": [
              "{'C': 100}"
            ]
          },
          "metadata": {
            "tags": []
          },
          "execution_count": 58
        }
      ]
    },
    {
      "metadata": {
        "id": "9IBFuMv3eUL6",
        "colab_type": "code",
        "colab": {},
        "outputId": "9f6bc329-1564-419c-eb66-b8bcd027fba3"
      },
      "cell_type": "code",
      "source": [
        "c_vs_error(clf.cv_results_, 'C', 'CV Error', pen='L1', title='avg. W2V')"
      ],
      "execution_count": 0,
      "outputs": [
        {
          "output_type": "display_data",
          "data": {
            "image/png": "[encoded data removed]",
            "text/plain": [
              "<Figure size 864x360 with 1 Axes>"
            ]
          },
          "metadata": {
            "tags": []
          }
        }
      ]
    },
    {
      "metadata": {
        "id": "wYnNvadYeUL9",
        "colab_type": "text"
      },
      "cell_type": "markdown",
      "source": [
        "Update the table with values of Avg. W2V."
      ]
    },
    {
      "metadata": {
        "id": "OckFz2MheUL-",
        "colab_type": "code",
        "colab": {},
        "outputId": "e3c194fa-bd7b-4c9e-91b1-f101145a0a96"
      },
      "cell_type": "code",
      "source": [
        "cm_w2v_train, cm_w2v_test = give_me_ratios(X_train_transformed_avgW2V_std, y_train, X_test_transformed_avgW2V_std, y_test, 'avg. W2V','L1', table, clf)"
      ],
      "execution_count": 0,
      "outputs": [
        {
          "output_type": "stream",
          "text": [
            "+--------------+---------+----------+-----------+--------+------+------+------+--------------------+\n",
            "| Vector Type  | penalty | Data Set | Precision | Recall | TNR  | FPR  | FNR  |      Accuracy      |\n",
            "+--------------+---------+----------+-----------+--------+------+------+------+--------------------+\n",
            "| Bag of Words |    L1   |  Train   |    0.99   |  0.93  | 0.93 | 0.07 | 0.07 | 0.9277809814097812 |\n",
            "| Bag of Words |    L1   |   Test   |    0.97   |  0.9   | 0.85 | 0.15 | 0.1  | 0.8909315576302602 |\n",
            "| Bag of Words |    L2   |  Train   |    0.99   |  0.94  | 0.94 | 0.06 | 0.06 | 0.9362385698986737 |\n",
            "| Bag of Words |    L2   |   Test   |    0.96   |  0.9   | 0.81 | 0.19 | 0.1  | 0.8839156998695682 |\n",
            "|    TFIDF     |    L1   |  Train   |    0.99   |  0.93  | 0.93 | 0.07 | 0.07 | 0.9288965318395255 |\n",
            "|    TFIDF     |    L1   |   Test   |    0.97   |  0.9   | 0.85 | 0.15 | 0.1  | 0.8890231344820485 |\n",
            "|    TFIDF     |    L2   |  Train   |    0.99   |  0.93  | 0.95 | 0.05 | 0.07 | 0.9339388197819699 |\n",
            "|    TFIDF     |    L2   |   Test   |    0.96   |  0.89  | 0.8  | 0.2  | 0.11 | 0.8772842726711059 |\n",
            "|   avg. W2V   |    L1   |  Train   |    0.97   |  0.84  | 0.84 | 0.16 | 0.16 | 0.8396696597742812 |\n",
            "|   avg. W2V   |    L1   |   Test   |    0.96   |  0.83  | 0.85 | 0.15 | 0.17 | 0.8363698771195167 |\n",
            "+--------------+---------+----------+-----------+--------+------+------+------+--------------------+\n"
          ],
          "name": "stdout"
        }
      ]
    },
    {
      "metadata": {
        "id": "WUeH0xyXeUMB",
        "colab_type": "text"
      },
      "cell_type": "markdown",
      "source": [
        "Plot the confusion matrix."
      ]
    },
    {
      "metadata": {
        "id": "NY_0J4BOeUMD",
        "colab_type": "code",
        "colab": {},
        "outputId": "a5f3e78d-945a-4052-83f6-ac8a3daca684"
      },
      "cell_type": "code",
      "source": [
        "plot_confusion_matrix(cm_w2v_train, cm_w2v_test, \"avg. W2V | 'L1' PENALTY\")"
      ],
      "execution_count": 0,
      "outputs": [
        {
          "output_type": "display_data",
          "data": {
            "image/png": "[encoded data removed]",
            "text/plain": [
              "<Figure size 1080x432 with 2 Axes>"
            ]
          },
          "metadata": {
            "tags": []
          }
        }
      ]
    },
    {
      "metadata": {
        "id": "w7rZqxWkeUMF",
        "colab_type": "text"
      },
      "cell_type": "markdown",
      "source": [
        "**GridSearch | avg. W2V | L2 penalty**"
      ]
    },
    {
      "metadata": {
        "id": "c6-vmWYVeUMG",
        "colab_type": "code",
        "colab": {}
      },
      "cell_type": "code",
      "source": [
        "clf = GridSearch(X_train_transformed_avgW2V_std, pen='l2')"
      ],
      "execution_count": 0,
      "outputs": []
    },
    {
      "metadata": {
        "id": "TuOvpOYmeUMI",
        "colab_type": "code",
        "colab": {}
      },
      "cell_type": "code",
      "source": [
        "%%notify\n",
        "%%time\n",
        "\n",
        "clf.fit(X_train_transformed_avgW2V_std, y_train)"
      ],
      "execution_count": 0,
      "outputs": []
    },
    {
      "metadata": {
        "id": "a1KkhHwleUMM",
        "colab_type": "code",
        "colab": {},
        "outputId": "9663a43a-8dac-4af4-e9fd-5212bc0337f9"
      },
      "cell_type": "code",
      "source": [
        "clf.best_params_"
      ],
      "execution_count": 0,
      "outputs": [
        {
          "output_type": "execute_result",
          "data": {
            "text/plain": [
              "{'C': 100}"
            ]
          },
          "metadata": {
            "tags": []
          },
          "execution_count": 64
        }
      ]
    },
    {
      "metadata": {
        "id": "p_uq8XIieUMS",
        "colab_type": "code",
        "colab": {},
        "outputId": "3722266f-27b5-45ca-cae7-0df1b27ff110"
      },
      "cell_type": "code",
      "source": [
        "c_vs_error(clf.cv_results_, 'C', 'CV Error', pen='L2', title='avg. W2V')"
      ],
      "execution_count": 0,
      "outputs": [
        {
          "output_type": "display_data",
          "data": {
            "image/png": "[encoded data removed]",
            "text/plain": [
              "<Figure size 864x360 with 1 Axes>"
            ]
          },
          "metadata": {
            "tags": []
          }
        }
      ]
    },
    {
      "metadata": {
        "id": "68l9mg5EeUMT",
        "colab_type": "code",
        "colab": {},
        "outputId": "89a3033b-103b-47bc-a606-e578d6604c31"
      },
      "cell_type": "code",
      "source": [
        "cm_w2v_train, cm_w2v_test = give_me_ratios(X_train_transformed_avgW2V_std, y_train, X_test_transformed_avgW2V_std, y_test, 'avg. W2V','L2', table, clf)"
      ],
      "execution_count": 0,
      "outputs": [
        {
          "output_type": "stream",
          "text": [
            "+--------------+---------+----------+-----------+--------+------+------+------+--------------------+\n",
            "| Vector Type  | penalty | Data Set | Precision | Recall | TNR  | FPR  | FNR  |      Accuracy      |\n",
            "+--------------+---------+----------+-----------+--------+------+------+------+--------------------+\n",
            "| Bag of Words |    L1   |  Train   |    0.99   |  0.93  | 0.93 | 0.07 | 0.07 | 0.9277809814097812 |\n",
            "| Bag of Words |    L1   |   Test   |    0.97   |  0.9   | 0.85 | 0.15 | 0.1  | 0.8909315576302602 |\n",
            "| Bag of Words |    L2   |  Train   |    0.99   |  0.94  | 0.94 | 0.06 | 0.06 | 0.9362385698986737 |\n",
            "| Bag of Words |    L2   |   Test   |    0.96   |  0.9   | 0.81 | 0.19 | 0.1  | 0.8839156998695682 |\n",
            "|    TFIDF     |    L1   |  Train   |    0.99   |  0.93  | 0.93 | 0.07 | 0.07 | 0.9288965318395255 |\n",
            "|    TFIDF     |    L1   |   Test   |    0.97   |  0.9   | 0.85 | 0.15 | 0.1  | 0.8890231344820485 |\n",
            "|    TFIDF     |    L2   |  Train   |    0.99   |  0.93  | 0.95 | 0.05 | 0.07 | 0.9339388197819699 |\n",
            "|    TFIDF     |    L2   |   Test   |    0.96   |  0.89  | 0.8  | 0.2  | 0.11 | 0.8772842726711059 |\n",
            "|   avg. W2V   |    L1   |  Train   |    0.97   |  0.84  | 0.84 | 0.16 | 0.16 | 0.8396696597742812 |\n",
            "|   avg. W2V   |    L1   |   Test   |    0.96   |  0.83  | 0.85 | 0.15 | 0.17 | 0.8363698771195167 |\n",
            "|   avg. W2V   |    L2   |  Train   |    0.97   |  0.84  | 0.84 | 0.16 | 0.16 | 0.8396696597742812 |\n",
            "|   avg. W2V   |    L2   |   Test   |    0.96   |  0.83  | 0.85 | 0.15 | 0.17 | 0.8363698771195167 |\n",
            "+--------------+---------+----------+-----------+--------+------+------+------+--------------------+\n"
          ],
          "name": "stdout"
        }
      ]
    },
    {
      "metadata": {
        "id": "rbroDFq_eUMY",
        "colab_type": "code",
        "colab": {},
        "outputId": "58d78371-cebd-4737-83b5-3a8983e5c486"
      },
      "cell_type": "code",
      "source": [
        "plot_confusion_matrix(cm_w2v_train, cm_w2v_test, \"avg. W2V | 'L2' PENALTY\")"
      ],
      "execution_count": 0,
      "outputs": [
        {
          "output_type": "display_data",
          "data": {
            "image/png": "[encoded data removed]",
            "text/plain": [
              "<Figure size 1080x432 with 2 Axes>"
            ]
          },
          "metadata": {
            "tags": []
          }
        }
      ]
    },
    {
      "metadata": {
        "id": "xGlNWooMeUMa",
        "colab_type": "text"
      },
      "cell_type": "markdown",
      "source": [
        "## Tfidf weighted W2V\n",
        "\n",
        "In this last section, we apply LR on vectors represented in the form of Tfidf weighted W2V."
      ]
    },
    {
      "metadata": {
        "id": "dRTtrKGJeUMd",
        "colab_type": "code",
        "colab": {},
        "outputId": "31e2efee-6848-4502-b9e8-f770f5a53586"
      },
      "cell_type": "code",
      "source": [
        "# f = open(r'D:\\data_science\\datasets\\amazon2\\X_train_transformed_TfidfWeightedW2V_full80_20_nparray.pkl', 'rb')\n",
        "f = open('/home/ucanreachtvk/data/X_train_transformed_TfidfWeightedW2V_full80_20_nparray.pkl', 'rb')\n",
        "X_train_transformed_TfidfW2V = pickle.load(f)\n",
        "f.close()\n",
        "print('The datatype of X_train_transformed_TfidfW2V is : {}'.format(type(X_train_transformed_TfidfW2V)))\n",
        "print('The shape of X_train_transformed_TfidfW2V is : {}'.format(X_train_transformed_TfidfW2V.shape))"
      ],
      "execution_count": 0,
      "outputs": [
        {
          "output_type": "stream",
          "text": [
            "The datatype of X_train_transformed_TfidfW2V is : <class 'numpy.ndarray'>\n",
            "The shape of X_train_transformed_TfidfW2V is : (291336, 50)\n"
          ],
          "name": "stdout"
        }
      ]
    },
    {
      "metadata": {
        "id": "ic8s_tn2eUMh",
        "colab_type": "code",
        "colab": {},
        "outputId": "0e292057-bdb0-498f-8e04-d3c8b0f083ab"
      },
      "cell_type": "code",
      "source": [
        "# f = open(r'D:\\data_science\\datasets\\amazon2\\X_test_transformed_TfidfWeightedW2V_full80_20_nparray.pkl', 'rb')\n",
        "f = open('/home/ucanreachtvk/data/X_test_transformed_TfidfWeightedW2V_full80_20_nparray.pkl', 'rb')\n",
        "X_test_transformed_TfidfW2V = pickle.load(f)\n",
        "f.close()\n",
        "print('The datatype of X_test_transformed_TfidfW2V is : {}'.format(type(X_test_transformed_TfidfW2V)))\n",
        "print('The shape of X_train_transformed_TfidfW2V is : {}'.format(X_test_transformed_TfidfW2V.shape))"
      ],
      "execution_count": 0,
      "outputs": [
        {
          "output_type": "stream",
          "text": [
            "The datatype of X_test_transformed_TfidfW2V is : <class 'numpy.ndarray'>\n",
            "The shape of X_train_transformed_TfidfW2V is : (72835, 50)\n"
          ],
          "name": "stdout"
        }
      ]
    },
    {
      "metadata": {
        "id": "1GJKiDlYeUMl",
        "colab_type": "text"
      },
      "cell_type": "markdown",
      "source": [
        "Standardize data"
      ]
    },
    {
      "metadata": {
        "id": "MrNSsQxSeUMq",
        "colab_type": "code",
        "colab": {}
      },
      "cell_type": "code",
      "source": [
        "scaler = StandardScaler(with_mean = True)\n",
        "X_train_transformed_TfidfW2V_std = scaler.fit_transform(X_train_transformed_TfidfW2V)"
      ],
      "execution_count": 0,
      "outputs": []
    },
    {
      "metadata": {
        "id": "jbN3XqYWeUMv",
        "colab_type": "code",
        "colab": {}
      },
      "cell_type": "code",
      "source": [
        "X_test_transformed_TfidfW2V_std = scaler.transform(X_test_transformed_TfidfW2V)"
      ],
      "execution_count": 0,
      "outputs": []
    },
    {
      "metadata": {
        "id": "5kVnwxHBeUMz",
        "colab_type": "text"
      },
      "cell_type": "markdown",
      "source": [
        "**GridSearch | Tfidf Weighted W2V | L1 penalty**"
      ]
    },
    {
      "metadata": {
        "id": "UrDLFDFheUMz",
        "colab_type": "code",
        "colab": {}
      },
      "cell_type": "code",
      "source": [
        "clf = GridSearch(X_train_transformed_TfidfW2V_std, pen='l1')"
      ],
      "execution_count": 0,
      "outputs": []
    },
    {
      "metadata": {
        "id": "oepudlcUeUM2",
        "colab_type": "code",
        "colab": {}
      },
      "cell_type": "code",
      "source": [
        "%%notify\n",
        "%%time\n",
        "\n",
        "clf.fit(X_train_transformed_TfidfW2V_std, y_train)"
      ],
      "execution_count": 0,
      "outputs": []
    },
    {
      "metadata": {
        "id": "QdM2UlTUeUM9",
        "colab_type": "code",
        "colab": {},
        "outputId": "f52e133d-0395-44cc-e47e-055ea102aa20"
      },
      "cell_type": "code",
      "source": [
        "clf.best_params_"
      ],
      "execution_count": 0,
      "outputs": [
        {
          "output_type": "execute_result",
          "data": {
            "text/plain": [
              "{'C': 10}"
            ]
          },
          "metadata": {
            "tags": []
          },
          "execution_count": 74
        }
      ]
    },
    {
      "metadata": {
        "id": "OO1woAJteUM-",
        "colab_type": "code",
        "colab": {},
        "outputId": "16eab512-bb1d-488b-85f7-995ebee7e666"
      },
      "cell_type": "code",
      "source": [
        "c_vs_error(clf.cv_results_, 'C', 'CV Error', pen='L1', title='Tfidf weighted W2V')"
      ],
      "execution_count": 0,
      "outputs": [
        {
          "output_type": "display_data",
          "data": {
            "image/png": "[encoded data removed]",
            "text/plain": [
              "<Figure size 864x360 with 1 Axes>"
            ]
          },
          "metadata": {
            "tags": []
          }
        }
      ]
    },
    {
      "metadata": {
        "id": "5cJco8NXeUNB",
        "colab_type": "code",
        "colab": {},
        "outputId": "c09c992c-6020-4d06-d214-954d772df322"
      },
      "cell_type": "code",
      "source": [
        "cm_tfidfw2v_train, cm_tfidfw2v_test = give_me_ratios(X_train_transformed_TfidfW2V_std, y_train, X_test_transformed_TfidfW2V_std, y_test, 'Tfidf weighted W2V','L1', table, clf)"
      ],
      "execution_count": 0,
      "outputs": [
        {
          "output_type": "stream",
          "text": [
            "+--------------------+---------+----------+-----------+--------+------+------+------+---------------------+\n",
            "|    Vector Type     | penalty | Data Set | Precision | Recall | TNR  | FPR  | FNR  |       Accuracy      |\n",
            "+--------------------+---------+----------+-----------+--------+------+------+------+---------------------+\n",
            "|    Bag of Words    |    L1   |  Train   |    0.99   |  0.93  | 0.93 | 0.07 | 0.07 |  0.9277809814097812 |\n",
            "|    Bag of Words    |    L1   |   Test   |    0.97   |  0.9   | 0.85 | 0.15 | 0.1  |  0.8909315576302602 |\n",
            "|    Bag of Words    |    L2   |  Train   |    0.99   |  0.94  | 0.94 | 0.06 | 0.06 |  0.9362385698986737 |\n",
            "|    Bag of Words    |    L2   |   Test   |    0.96   |  0.9   | 0.81 | 0.19 | 0.1  |  0.8839156998695682 |\n",
            "|       TFIDF        |    L1   |  Train   |    0.99   |  0.93  | 0.93 | 0.07 | 0.07 |  0.9288965318395255 |\n",
            "|       TFIDF        |    L1   |   Test   |    0.97   |  0.9   | 0.85 | 0.15 | 0.1  |  0.8890231344820485 |\n",
            "|       TFIDF        |    L2   |  Train   |    0.99   |  0.93  | 0.95 | 0.05 | 0.07 |  0.9339388197819699 |\n",
            "|       TFIDF        |    L2   |   Test   |    0.96   |  0.89  | 0.8  | 0.2  | 0.11 |  0.8772842726711059 |\n",
            "|      avg. W2V      |    L1   |  Train   |    0.97   |  0.84  | 0.84 | 0.16 | 0.16 |  0.8396696597742812 |\n",
            "|      avg. W2V      |    L1   |   Test   |    0.96   |  0.83  | 0.85 | 0.15 | 0.17 |  0.8363698771195167 |\n",
            "|      avg. W2V      |    L2   |  Train   |    0.97   |  0.84  | 0.84 | 0.16 | 0.16 |  0.8396696597742812 |\n",
            "|      avg. W2V      |    L2   |   Test   |    0.96   |  0.83  | 0.85 | 0.15 | 0.17 |  0.8363698771195167 |\n",
            "| Tfidf weighted W2V |    L1   |  Train   |    0.96   |  0.81  | 0.82 | 0.18 | 0.19 |  0.8084925996100722 |\n",
            "| Tfidf weighted W2V |    L1   |   Test   |    0.88   |  0.45  | 0.7  | 0.3  | 0.55 | 0.49465229628612617 |\n",
            "+--------------------+---------+----------+-----------+--------+------+------+------+---------------------+\n"
          ],
          "name": "stdout"
        }
      ]
    },
    {
      "metadata": {
        "id": "ij2sR-rieUNE",
        "colab_type": "code",
        "colab": {},
        "outputId": "96041f20-d6e6-474a-d8e9-753dab618593"
      },
      "cell_type": "code",
      "source": [
        "plot_confusion_matrix(cm_tfidfw2v_train, cm_tfidfw2v_test, \"Tfidf weighted W2V | 'L1' PENALTY\")"
      ],
      "execution_count": 0,
      "outputs": [
        {
          "output_type": "display_data",
          "data": {
            "image/png": "[encoded data removed]",
            "text/plain": [
              "<Figure size 1080x432 with 2 Axes>"
            ]
          },
          "metadata": {
            "tags": []
          }
        }
      ]
    },
    {
      "metadata": {
        "id": "YyfCNdd1eUNF",
        "colab_type": "text"
      },
      "cell_type": "markdown",
      "source": [
        "**GridSearch | Tfidf Weighted W2V | L2 penalty**"
      ]
    },
    {
      "metadata": {
        "id": "PVPxyaGVeUNG",
        "colab_type": "code",
        "colab": {}
      },
      "cell_type": "code",
      "source": [
        "clf = GridSearch(X_train_transformed_TfidfW2V_std, pen='l2')"
      ],
      "execution_count": 0,
      "outputs": []
    },
    {
      "metadata": {
        "id": "Tk0kpGwNeUNK",
        "colab_type": "code",
        "colab": {}
      },
      "cell_type": "code",
      "source": [
        "%%notify\n",
        "%%time\n",
        "\n",
        "clf.fit(X_train_transformed_TfidfW2V_std, y_train)"
      ],
      "execution_count": 0,
      "outputs": []
    },
    {
      "metadata": {
        "id": "u7IB1NU-eUNO",
        "colab_type": "code",
        "colab": {},
        "outputId": "d5380662-ad1e-408b-8fe1-1c04ae578ee8"
      },
      "cell_type": "code",
      "source": [
        "clf.best_params_"
      ],
      "execution_count": 0,
      "outputs": [
        {
          "output_type": "execute_result",
          "data": {
            "text/plain": [
              "{'C': 10}"
            ]
          },
          "metadata": {
            "tags": []
          },
          "execution_count": 80
        }
      ]
    },
    {
      "metadata": {
        "id": "fdo85YkReUNP",
        "colab_type": "code",
        "colab": {},
        "outputId": "13edce54-d214-4f9d-bdb6-547b5303c20f"
      },
      "cell_type": "code",
      "source": [
        "c_vs_error(clf.cv_results_, 'C', 'CV Error', pen='L2', title='Tfidf weighted W2V')"
      ],
      "execution_count": 0,
      "outputs": [
        {
          "output_type": "display_data",
          "data": {
            "image/png": "[encoded data removed]",
            "text/plain": [
              "<Figure size 864x360 with 1 Axes>"
            ]
          },
          "metadata": {
            "tags": []
          }
        }
      ]
    },
    {
      "metadata": {
        "id": "l0pkBFQSeUNU",
        "colab_type": "code",
        "colab": {},
        "outputId": "e856e4e3-283a-4fd2-ae6c-f016d9ef9c08"
      },
      "cell_type": "code",
      "source": [
        "cm_tfidfw2v_train, cm_tfidfw2v_test = give_me_ratios(X_train_transformed_TfidfW2V_std, y_train, X_test_transformed_TfidfW2V_std, y_test, 'Tfidf weighted W2V','L2', table, clf)"
      ],
      "execution_count": 0,
      "outputs": [
        {
          "output_type": "stream",
          "text": [
            "+--------------------+---------+----------+-----------+--------+------+------+------+---------------------+\n",
            "|    Vector Type     | penalty | Data Set | Precision | Recall | TNR  | FPR  | FNR  |       Accuracy      |\n",
            "+--------------------+---------+----------+-----------+--------+------+------+------+---------------------+\n",
            "|    Bag of Words    |    L1   |  Train   |    0.99   |  0.93  | 0.93 | 0.07 | 0.07 |  0.9277809814097812 |\n",
            "|    Bag of Words    |    L1   |   Test   |    0.97   |  0.9   | 0.85 | 0.15 | 0.1  |  0.8909315576302602 |\n",
            "|    Bag of Words    |    L2   |  Train   |    0.99   |  0.94  | 0.94 | 0.06 | 0.06 |  0.9362385698986737 |\n",
            "|    Bag of Words    |    L2   |   Test   |    0.96   |  0.9   | 0.81 | 0.19 | 0.1  |  0.8839156998695682 |\n",
            "|       TFIDF        |    L1   |  Train   |    0.99   |  0.93  | 0.93 | 0.07 | 0.07 |  0.9288965318395255 |\n",
            "|       TFIDF        |    L1   |   Test   |    0.97   |  0.9   | 0.85 | 0.15 | 0.1  |  0.8890231344820485 |\n",
            "|       TFIDF        |    L2   |  Train   |    0.99   |  0.93  | 0.95 | 0.05 | 0.07 |  0.9339388197819699 |\n",
            "|       TFIDF        |    L2   |   Test   |    0.96   |  0.89  | 0.8  | 0.2  | 0.11 |  0.8772842726711059 |\n",
            "|      avg. W2V      |    L1   |  Train   |    0.97   |  0.84  | 0.84 | 0.16 | 0.16 |  0.8396696597742812 |\n",
            "|      avg. W2V      |    L1   |   Test   |    0.96   |  0.83  | 0.85 | 0.15 | 0.17 |  0.8363698771195167 |\n",
            "|      avg. W2V      |    L2   |  Train   |    0.97   |  0.84  | 0.84 | 0.16 | 0.16 |  0.8396696597742812 |\n",
            "|      avg. W2V      |    L2   |   Test   |    0.96   |  0.83  | 0.85 | 0.15 | 0.17 |  0.8363698771195167 |\n",
            "| Tfidf weighted W2V |    L1   |  Train   |    0.96   |  0.81  | 0.82 | 0.18 | 0.19 |  0.8084925996100722 |\n",
            "| Tfidf weighted W2V |    L1   |   Test   |    0.88   |  0.45  | 0.7  | 0.3  | 0.55 | 0.49465229628612617 |\n",
            "| Tfidf weighted W2V |    L2   |  Train   |    0.96   |  0.81  | 0.82 | 0.18 | 0.19 |  0.8084754372957684 |\n",
            "| Tfidf weighted W2V |    L2   |   Test   |    0.88   |  0.45  | 0.7  | 0.3  | 0.55 | 0.49461110729731583 |\n",
            "+--------------------+---------+----------+-----------+--------+------+------+------+---------------------+\n"
          ],
          "name": "stdout"
        }
      ]
    },
    {
      "metadata": {
        "id": "CV1f1m_0eUNW",
        "colab_type": "code",
        "colab": {},
        "outputId": "1c4e5ee1-504c-43b3-99b7-38d8ba46c9d5"
      },
      "cell_type": "code",
      "source": [
        "plot_confusion_matrix(cm_tfidfw2v_train, cm_tfidfw2v_test, \"Tfidf weighted W2V | 'L2' PENALTY\")"
      ],
      "execution_count": 0,
      "outputs": [
        {
          "output_type": "display_data",
          "data": {
            "image/png": "[encoded data removed]",
            "text/plain": [
              "<Figure size 1080x432 with 2 Axes>"
            ]
          },
          "metadata": {
            "tags": []
          }
        }
      ]
    },
    {
      "metadata": {
        "id": "8GxUPtGieUNZ",
        "colab_type": "text"
      },
      "cell_type": "markdown",
      "source": [
        "### Conclusion:\n",
        "\n",
        "* We applied LR with regularization on amazon food reviews for various vector representations.\n",
        "\n",
        "* The consolidated summary of various ratios can be found in the table above.\n"
      ]
    }
  ]
}