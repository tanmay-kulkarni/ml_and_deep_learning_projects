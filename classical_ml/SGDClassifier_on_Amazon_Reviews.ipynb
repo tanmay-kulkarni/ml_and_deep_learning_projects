{
 "cells": [
  {
   "cell_type": "markdown",
   "metadata": {
    "colab_type": "text",
    "id": "wTkqOy_1eUDu"
   },
   "source": [
    "# Objective:\n",
    "\n",
    "Classify Amazon food reviews using SGDClassifier with hinge loss (Linear SVM).\n",
    "\n",
    "We'll do the following exercises in this notebook\n",
    "\n",
    "* Load and standardize the data in the format\n",
    "        1. BoW\n",
    "        2. Tfidf\n",
    "        3. Avg. W2V\n",
    "        4. Tfidf weighted W2V\n",
    "* Divide the data in cross validation sets and find the optimal parameters **penalty** and **alpha** using GridSearchCV and RandomizedSearchCV\n",
    "* Plot the Cross Validation score for each combination of penalty and alpha\n",
    "* Plot confusion matrix and calculate Precision, Recall, FPR, TNR, FNR. \n",
    "\n"
   ]
  },
  {
   "cell_type": "code",
   "execution_count": 1,
   "metadata": {
    "colab": {},
    "colab_type": "code",
    "id": "e5vAbAHkeUDx"
   },
   "outputs": [],
   "source": [
    "# To suprress the warnings as they make the notebook less presentable.\n",
    "\n",
    "import sys\n",
    "import warnings\n",
    "\n",
    "if not sys.warnoptions:\n",
    "    warnings.simplefilter(\"ignore\")"
   ]
  },
  {
   "cell_type": "markdown",
   "metadata": {
    "colab_type": "text",
    "id": "W-zrxyC8eUD5"
   },
   "source": [
    "Import the necessary libraries."
   ]
  },
  {
   "cell_type": "code",
   "execution_count": 2,
   "metadata": {
    "colab": {},
    "colab_type": "code",
    "id": "y-1nQVyJeUD7"
   },
   "outputs": [],
   "source": [
    "import pandas as pd\n",
    "import matplotlib.pyplot as plt\n",
    "import seaborn as sbn\n",
    "from sklearn.preprocessing import StandardScaler\n",
    "from sklearn.metrics import recall_score, precision_score, confusion_matrix, accuracy_score\n",
    "from sklearn.model_selection import TimeSeriesSplit, GridSearchCV, cross_val_score, RandomizedSearchCV\n",
    "from sklearn.linear_model import LogisticRegression\n",
    "import pickle\n",
    "import numpy as np\n",
    "from sklearn.linear_model import SGDClassifier"
   ]
  },
  {
   "cell_type": "markdown",
   "metadata": {
    "colab_type": "text",
    "id": "600N-DHdeUEB"
   },
   "source": [
    "This Jupyter notebook extension notifies you when a cell finishes its execution!"
   ]
  },
  {
   "cell_type": "code",
   "execution_count": 3,
   "metadata": {
    "colab": {},
    "colab_type": "code",
    "id": "_D23oW7BeUED",
    "outputId": "690bc3ae-490e-404a-b861-c6415e5defe3"
   },
   "outputs": [
    {
     "data": {
      "application/javascript": [
       "if (!(\"Notification\" in window)) {\n",
       "    alert(\"This browser does not support desktop notifications, so the %%notify magic will not work.\");\n",
       "} else if (Notification.permission !== 'granted' && Notification.permission !== 'denied') {\n",
       "    Notification.requestPermission(function (permission) {\n",
       "        if(!('permission' in Notification)) {\n",
       "            Notification.permission = permission;\n",
       "        }\n",
       "    })\n",
       "}\n"
      ],
      "text/plain": [
       "<IPython.core.display.Javascript object>"
      ]
     },
     "metadata": {},
     "output_type": "display_data"
    }
   ],
   "source": [
    "%load_ext jupyternotify"
   ]
  },
  {
   "cell_type": "markdown",
   "metadata": {
    "colab_type": "text",
    "id": "xg5S32D1eUEP"
   },
   "source": [
    "## Important parameters of SGDClassifier\n",
    "\n",
    "* penalty : Regularization term. L1 or L2\n",
    "* alpha : Constant that multiplies the regularization term, also used to calculate the learning rate when it is set to 'optimal'"
   ]
  },
  {
   "cell_type": "markdown",
   "metadata": {
    "colab_type": "text",
    "id": "cGuuWZ0_eUER"
   },
   "source": [
    "Load the target variable y of train and test sets. Note that the entire dataset is being used. All 350k reviews. The dataset is divided into train and test with ratio 80:20 respectively."
   ]
  },
  {
   "cell_type": "code",
   "execution_count": 33,
   "metadata": {
    "colab": {},
    "colab_type": "code",
    "id": "odulbiCceUET",
    "outputId": "2238be2f-af2c-46ea-a7ba-820b3174d22a"
   },
   "outputs": [
    {
     "name": "stdout",
     "output_type": "stream",
     "text": [
      "The datatype of y_train is : <class 'numpy.ndarray'>\n",
      "The shape of y_train is : (291336,)\n"
     ]
    }
   ],
   "source": [
    "# f = open(r'D:\\data_science\\datasets\\amazon2\\y_train_full80_20.pkl', 'rb')\n",
    "f = open('/home/ucanreachtvk/data/y_train_full80_20.pkl', 'rb')\n",
    "y_train = pickle.load(f)\n",
    "f.close()\n",
    "print('The datatype of y_train is : {}'.format(type(y_train)))\n",
    "print('The shape of y_train is : {}'.format(y_train.shape))"
   ]
  },
  {
   "cell_type": "code",
   "execution_count": 34,
   "metadata": {
    "colab": {},
    "colab_type": "code",
    "id": "GgBUl6vaeUEb",
    "outputId": "bcb0e3d4-2f59-401d-d3de-3c0391ea96ac"
   },
   "outputs": [
    {
     "name": "stdout",
     "output_type": "stream",
     "text": [
      "The datatype of y_test is : <class 'numpy.ndarray'>\n",
      "The shape of y_test is : (72835,)\n"
     ]
    }
   ],
   "source": [
    "# f = open(r'D:\\data_science\\datasets\\amazon2\\y_test_full80_20.pkl', 'rb')\n",
    "f = open('/home/ucanreachtvk/data/y_test_full80_20.pkl', 'rb')\n",
    "y_test = pickle.load(f)\n",
    "f.close()\n",
    "print('The datatype of y_test is : {}'.format(type(y_test)))\n",
    "print('The shape of y_test is : {}'.format(y_test.shape))"
   ]
  },
  {
   "cell_type": "markdown",
   "metadata": {
    "colab_type": "text",
    "id": "IHJTqb23eUEr"
   },
   "source": [
    "## Bag of Words\n",
    "\n",
    "I had saved the trained BoW model and the transformed data on disk. Let's load it. "
   ]
  },
  {
   "cell_type": "code",
   "execution_count": 35,
   "metadata": {
    "colab": {},
    "colab_type": "code",
    "id": "5htJH-VfeUEu",
    "outputId": "62c59159-6374-4c51-c734-ec3739696d9a"
   },
   "outputs": [
    {
     "name": "stdout",
     "output_type": "stream",
     "text": [
      "The datatype of X_train_transformed_bow is : <class 'scipy.sparse.csr.csr_matrix'>\n",
      "The shape of X_train_transformed_bow is : (291336, 64221)\n"
     ]
    }
   ],
   "source": [
    "# f = open(r'D:\\data_science\\datasets\\amazon2\\X_train_transformed_bow_full_nparray.pkl', 'rb')\n",
    "f = open('/home/ucanreachtvk/data/X_train_transformed_bow_full_nparray.pkl', 'rb')\n",
    "X_train_transformed_bow = pickle.load(f)\n",
    "f.close()\n",
    "print('The datatype of X_train_transformed_bow is : {}'.format(type(X_train_transformed_bow)))\n",
    "print('The shape of X_train_transformed_bow is : {}'.format(X_train_transformed_bow.shape))"
   ]
  },
  {
   "cell_type": "markdown",
   "metadata": {
    "colab_type": "text",
    "id": "o2LidzlZeUE2"
   },
   "source": [
    "There are 64221 features in the bow representation. Load test data too."
   ]
  },
  {
   "cell_type": "code",
   "execution_count": 36,
   "metadata": {
    "colab": {},
    "colab_type": "code",
    "id": "E_aeMfj1eUE3",
    "outputId": "7a02cc04-0f57-44f0-ba7b-47cd8f3066ba"
   },
   "outputs": [
    {
     "name": "stdout",
     "output_type": "stream",
     "text": [
      "The datatype of X_test_transformed_bow is : <class 'scipy.sparse.csr.csr_matrix'>\n",
      "The shape of X_test_transformed_bow is : (72835, 64221)\n"
     ]
    }
   ],
   "source": [
    "# f = open(r'D:\\data_science\\datasets\\amazon2\\X_test_transformed_bow_full_nparray.pkl', 'rb')\n",
    "f = open('/home/ucanreachtvk/data/X_test_transformed_bow_full_nparray.pkl', 'rb')\n",
    "X_test_transformed_bow = pickle.load(f)\n",
    "f.close()\n",
    "print('The datatype of X_test_transformed_bow is : {}'.format(type(X_test_transformed_bow)))\n",
    "print('The shape of X_test_transformed_bow is : {}'.format(X_test_transformed_bow.shape))"
   ]
  },
  {
   "cell_type": "markdown",
   "metadata": {
    "colab_type": "text",
    "id": "euk65SnvpWuN"
   },
   "source": [
    "Count the number of non-zero elements in the array."
   ]
  },
  {
   "cell_type": "code",
   "execution_count": 37,
   "metadata": {
    "colab": {},
    "colab_type": "code",
    "id": "ELWJZLameUFV",
    "outputId": "5f5f4510-4ce9-4ce8-a113-c7ab6958063d"
   },
   "outputs": [
    {
     "data": {
      "text/plain": [
       "<bound method _data_matrix.count_nonzero of <291336x64221 sparse matrix of type '<class 'numpy.int64'>'\n",
       "\twith 9180635 stored elements in Compressed Sparse Row format>>"
      ]
     },
     "execution_count": 37,
     "metadata": {},
     "output_type": "execute_result"
    }
   ],
   "source": [
    "X_train_transformed_bow.count_nonzero"
   ]
  },
  {
   "cell_type": "markdown",
   "metadata": {
    "colab_type": "text",
    "id": "0ynhsKtUeUFt"
   },
   "source": [
    "## Feature scaling\n",
    "\n",
    "Standardize the data."
   ]
  },
  {
   "cell_type": "code",
   "execution_count": null,
   "metadata": {
    "colab": {},
    "colab_type": "code",
    "id": "gKN1V12yeUFx",
    "scrolled": false
   },
   "outputs": [],
   "source": [
    "scaler = StandardScaler(with_mean = False)\n",
    "X_train_transformed_bow_std = scaler.fit_transform(X_train_transformed_bow)"
   ]
  },
  {
   "cell_type": "code",
   "execution_count": null,
   "metadata": {
    "colab": {},
    "colab_type": "code",
    "id": "fil84pdgeUF5",
    "scrolled": false
   },
   "outputs": [],
   "source": [
    "X_test_transformed_bow_std = scaler.transform(X_test_transformed_bow)"
   ]
  },
  {
   "cell_type": "code",
   "execution_count": 40,
   "metadata": {},
   "outputs": [
    {
     "data": {
      "text/plain": [
       "(291336, 64221)"
      ]
     },
     "execution_count": 40,
     "metadata": {},
     "output_type": "execute_result"
    }
   ],
   "source": [
    "X_train_transformed_bow_std.shape"
   ]
  },
  {
   "cell_type": "code",
   "execution_count": 41,
   "metadata": {},
   "outputs": [
    {
     "data": {
      "text/plain": [
       "(291336,)"
      ]
     },
     "execution_count": 41,
     "metadata": {},
     "output_type": "execute_result"
    }
   ],
   "source": [
    "y_train.shape"
   ]
  },
  {
   "cell_type": "markdown",
   "metadata": {
    "colab_type": "text",
    "id": "WdtyjBv9eUGU"
   },
   "source": [
    "## Some Functions\n",
    "\n",
    "Let's define some functions that we'll call repeatedly in this notebook. \n",
    "\n",
    "1. **penalty_alpha_score** : Returns a dataframe containing the penalty, alpha, score found during cross validation\n",
    "\n",
    "2. **give_me_ratios** : To plot ratios such as Precision, Recall, TNR, FPR, FNR.\n",
    "3. **plot_confusion_matrix** : As the name says.\n",
    "4. **GridSearch** : Create Time based cross validation splits using TimeSeriesSplit() and  create a gridsearch object for a support vector classifier.\n",
    "5. **RandomSearch**: Same as GridSearch except that it uses RandomizedSearchCV()\n",
    "6. **headmap** : For each pair of (penalty, alpha) value in GridSearch, it will plot the score for train and test data during cross validation. For RandomizedSearchCV, for the pair of values not tried by the classifier, it will show -1 (NA)."
   ]
  },
  {
   "cell_type": "code",
   "execution_count": 42,
   "metadata": {},
   "outputs": [],
   "source": [
    "def penalty_alpha_score(cv_results_):\n",
    "\n",
    "    D={'penalty':[], 'alpha':[], 'score':[]}\n",
    "\n",
    "    for penalty in ['l1', 'l2']:\n",
    "\n",
    "        for alpha in [0.0001, 0.001, 0.01, 0.1, 1, 10, 100, 1000]:\n",
    "\n",
    "            d={'penalty': penalty, 'alpha': alpha}\n",
    "            \n",
    "            flag=True\n",
    "            \n",
    "            try:\n",
    "            \n",
    "                ind=cv_results_['params'].index(d)\n",
    "            \n",
    "            except:\n",
    "                \n",
    "                flag = False\n",
    "\n",
    "            D['penalty'].append(penalty)\n",
    "            D['alpha'].append(alpha)\n",
    "            \n",
    "            if flag == False:\n",
    "                \n",
    "                D['score'].append(-1)\n",
    "            \n",
    "            else:\n",
    "                D['score'].append(cv_results_['mean_train_score'][ind])\n",
    "                \n",
    "    return(pd.DataFrame.from_dict(D)) "
   ]
  },
  {
   "cell_type": "code",
   "execution_count": 53,
   "metadata": {
    "colab": {},
    "colab_type": "code",
    "id": "tff3Jzr5eUHU"
   },
   "outputs": [],
   "source": [
    "def give_me_ratios(X_train, y_train, X_test, y_test, vector_type,search, table, clf, best_penalty, best_alpha): \n",
    "    \n",
    "    cm_train = confusion_matrix(y_train, clf.predict(X_train))\n",
    "    tn, fp, fn, tp = cm_train.ravel()\n",
    "\n",
    "    recall_train = round(tp/(tp+fn),2)\n",
    "    precision_train = round(tp/(tp+fp),2)\n",
    "    tnr_train = round(tn/(tn+fp),2)\n",
    "    fpr_train = round(fp/(fp+tn),2)\n",
    "    fnr_train = round(fn/(fn+tp),2)\n",
    "    #accuracy_train = round((tp+tn)/(tp+tn+fp+fn))\n",
    "    accuracy_train = round((tp+tn)/(tp+tn+fp+fn), 4)\n",
    "\n",
    "    cm_test = confusion_matrix(y_test, clf.predict(X_test))\n",
    "    tn, fp, fn, tp = cm_test.ravel()\n",
    "    recall_test = round(tp/(tp+fn),2)\n",
    "    precision_test = round(tp/(tp+fp),2)\n",
    "    tnr_test = round(tn/(tn+fp),2)\n",
    "    fpr_test = round(fp/(fp+tn),2)\n",
    "    fnr_test = round(fn/(fn+tp),2)\n",
    "    accuracy_test = round((tp+tn)/(tp+tn+fp+fn), 4)\n",
    "\n",
    "    table.field_names = ['Vector Type','Parameter Srch','Data','Best penalty','Best alpha', 'Prec', 'Rec', 'TNR', 'FPR', 'FNR', 'Acc']\n",
    "    table.add_row([vector_type,search,'Train',best_penalty,best_alpha, precision_train, recall_train, tnr_train, fpr_train, fnr_train, accuracy_train])\n",
    "    table.add_row([vector_type,search,'Test',best_penalty,best_alpha, precision_test, recall_test, tnr_test, fpr_test, fnr_test, accuracy_test])\n",
    "\n",
    "    print(table)\n",
    "    \n",
    "    return (cm_train, cm_test)"
   ]
  },
  {
   "cell_type": "code",
   "execution_count": 44,
   "metadata": {
    "colab": {},
    "colab_type": "code",
    "id": "aaCW-HlKeUH1"
   },
   "outputs": [],
   "source": [
    "def plot_confusion_matrix(cm_train, cm_test, title):\n",
    "    \n",
    "    import pandas as pd\n",
    "    plt.figure(figsize=(15,6)).suptitle(title, fontsize=15)\n",
    "    \n",
    "    plt.subplot(1,2,1)\n",
    "    df_cm = pd.DataFrame(cm_train, range(2), range(2))\n",
    "    sbn.heatmap(df_cm, annot=True, annot_kws={\"size\":16}, cbar=False, fmt = 'd', xticklabels=['Negative', 'Positive'], yticklabels=['Negative', 'Positive'], cmap=\"YlGnBu\")\n",
    "    plt.xticks(fontsize=13)\n",
    "    plt.yticks(fontsize=13)\n",
    "    plt.xlabel('Predicted Class', fontsize=15)\n",
    "    plt.ylabel('Actual Class', fontsize=15)\n",
    "    plt.title('Train Data', fontsize = 14)\n",
    "\n",
    "    plt.subplot(1,2,2)    \n",
    "    df_cm = pd.DataFrame(cm_test, range(2), range(2))\n",
    "    sbn.heatmap(df_cm, annot=True, annot_kws={\"size\":16}, cbar=False, fmt = 'd', xticklabels=['Negative', 'Positive'], yticklabels=['Negative', 'Positive'], cmap=\"YlGnBu\")\n",
    "    plt.xticks(fontsize=13)\n",
    "    plt.yticks(fontsize=13)\n",
    "    plt.xlabel('Predicted Class', fontsize=15)\n",
    "    # plt.ylabel('Actual Class', fontsize=15)\n",
    "\n",
    "    plt.title('Test Data', fontsize = 14)\n",
    "\n",
    "    plt.tight_layout()"
   ]
  },
  {
   "cell_type": "code",
   "execution_count": 45,
   "metadata": {
    "colab": {},
    "colab_type": "code",
    "id": "5tplTcS8eUGc"
   },
   "outputs": [],
   "source": [
    "def GridSearch(X_train):\n",
    "\n",
    "    tscv = TimeSeriesSplit(n_splits=4)\n",
    "    my_cv = tscv.split(X_train)\n",
    "\n",
    "    svm_linear = SGDClassifier(loss='hinge')\n",
    "    \n",
    "    hyp_par = {\n",
    "                'penalty':[ 'l1', 'l2'],\n",
    "                'alpha':[0.0001, 0.001, 0.01, 0.1, 1, 10, 100, 1000]\n",
    "        \n",
    "        }\n",
    "\n",
    "    clf = GridSearchCV(estimator=svm_linear, cv=my_cv, param_grid=hyp_par, n_jobs=12, return_train_score=True)\n",
    "        \n",
    "    return clf"
   ]
  },
  {
   "cell_type": "code",
   "execution_count": 46,
   "metadata": {},
   "outputs": [],
   "source": [
    "def RandomSearch(X_train):\n",
    "\n",
    "    tscv = TimeSeriesSplit(n_splits=4)\n",
    "    my_cv = tscv.split(X_train)\n",
    "\n",
    "    svm_linear = SGDClassifier(loss='hinge')\n",
    "    \n",
    "    hyp_par = {\n",
    "                'penalty':[ 'l1', 'l2'],\n",
    "                'alpha':[0.0001, 0.001, 0.01, 0.1, 1, 10, 100, 1000]\n",
    "        \n",
    "        }\n",
    "    \n",
    "    clf = RandomizedSearchCV(estimator=svm_linear, cv=my_cv, param_distributions=hyp_par, n_jobs=12, return_train_score=True)\n",
    "    \n",
    "    return clf"
   ]
  },
  {
   "cell_type": "code",
   "execution_count": 47,
   "metadata": {},
   "outputs": [],
   "source": [
    "def heatmap(df, vector_type, search_type):\n",
    "\n",
    "    plt.figure(figsize=(15,6))\n",
    "\n",
    "    plt.subplot(1,1,1)\n",
    "    sbn.heatmap(data=df.pivot('penalty','alpha','score'), annot=True, linewidth = 0.5, cmap=\"YlGnBu\")\n",
    "    plt.title('{} | Training/CV set | {}'.format(vector_type, search_type), fontsize = 15)\n",
    "    plt.xlabel('alpha', fontsize = 14)\n",
    "    plt.ylabel('penalty', fontsize = 14)\n",
    "    plt.xticks(fontsize=13)\n",
    "    plt.yticks(fontsize=13)\n",
    "\n",
    "    plt.tight_layout()\n",
    "    plt.show()"
   ]
  },
  {
   "cell_type": "markdown",
   "metadata": {
    "colab_type": "text",
    "id": "uH-jsWpweUGb"
   },
   "source": [
    "**BoW | GridSearchCV**"
   ]
  },
  {
   "cell_type": "markdown",
   "metadata": {
    "colab_type": "text",
    "id": "6VrY3Znv8rLq"
   },
   "source": [
    "Get the classifier by calling the GridSearch funtion."
   ]
  },
  {
   "cell_type": "code",
   "execution_count": 48,
   "metadata": {
    "colab": {},
    "colab_type": "code",
    "id": "NhqyB9-peUGk"
   },
   "outputs": [],
   "source": [
    "clf_grid = GridSearch(X_train_transformed_bow_std)"
   ]
  },
  {
   "cell_type": "markdown",
   "metadata": {
    "colab_type": "text",
    "id": "yFdjK-QL8pRu"
   },
   "source": [
    "Train the model"
   ]
  },
  {
   "cell_type": "code",
   "execution_count": 49,
   "metadata": {
    "colab": {},
    "colab_type": "code",
    "id": "qLi_keXeeUGr",
    "scrolled": false
   },
   "outputs": [
    {
     "name": "stdout",
     "output_type": "stream",
     "text": [
      "CPU times: user 1.9 s, sys: 84.9 ms, total: 1.98 s\n",
      "Wall time: 9.14 s\n"
     ]
    },
    {
     "data": {
      "text/plain": [
       "GridSearchCV(cv=<generator object TimeSeriesSplit.split at 0x7fed3821ad58>,\n",
       "       error_score='raise-deprecating',\n",
       "       estimator=SGDClassifier(alpha=0.0001, average=False, class_weight=None,\n",
       "       early_stopping=False, epsilon=0.1, eta0=0.0, fit_intercept=True,\n",
       "       l1_ratio=0.15, learning_rate='optimal', loss='hinge', max_iter=None,\n",
       "       n_iter=None, n_iter_no_change=5, n_jobs=None, penalty='l2',\n",
       "       power_t=0.5, random_state=None, shuffle=True, tol=None,\n",
       "       validation_fraction=0.1, verbose=0, warm_start=False),\n",
       "       fit_params=None, iid='warn', n_jobs=12,\n",
       "       param_grid={'penalty': ['l1', 'l2'], 'alpha': [0.0001, 0.001, 0.01, 0.1, 1, 10, 100, 1000]},\n",
       "       pre_dispatch='2*n_jobs', refit=True, return_train_score=True,\n",
       "       scoring=None, verbose=0)"
      ]
     },
     "execution_count": 49,
     "metadata": {},
     "output_type": "execute_result"
    },
    {
     "data": {
      "application/javascript": [
       "$(document).ready(\n",
       "    function() {\n",
       "        function appendUniqueDiv(){\n",
       "            // append a div with our uuid so we can check that it's already\n",
       "            // been sent and avoid duplicates on page reload\n",
       "            var notifiedDiv = document.createElement(\"div\")\n",
       "            notifiedDiv.id = \"f14f88f1-18bd-4beb-95ea-465c0c372292\"\n",
       "            element.append(notifiedDiv)\n",
       "        }\n",
       "\n",
       "        // only send notifications if the pageload is complete; this will\n",
       "        // help stop extra notifications when a saved notebook is loaded,\n",
       "        // which during testing gives us state \"interactive\", not \"complete\"\n",
       "        if (document.readyState === 'complete') {\n",
       "            // check for the div that signifies that the notification\n",
       "            // was already sent\n",
       "            if (document.getElementById(\"f14f88f1-18bd-4beb-95ea-465c0c372292\") === null) {\n",
       "                var notificationPayload = {\"requireInteraction\": false, \"icon\": \"/static/base/images/favicon.ico\", \"body\": \"Cell execution has finished!\"};\n",
       "                if (Notification.permission !== 'denied') {\n",
       "                    if (Notification.permission !== 'granted') { \n",
       "                        Notification.requestPermission(function (permission) {\n",
       "                            if(!('permission' in Notification)) {\n",
       "                                Notification.permission = permission\n",
       "                            }\n",
       "                        })\n",
       "                    }\n",
       "                    if (Notification.permission === 'granted') {\n",
       "                    var notification = new Notification(\"Jupyter Notebook\", notificationPayload)\n",
       "                    appendUniqueDiv()\n",
       "                    notification.onclick = function () {\n",
       "                        window.focus();\n",
       "                        this.close();\n",
       "                        };\n",
       "                    } \n",
       "                }     \n",
       "            }\n",
       "        }\n",
       "    }\n",
       ")\n"
      ],
      "text/plain": [
       "<IPython.core.display.Javascript object>"
      ]
     },
     "metadata": {},
     "output_type": "display_data"
    }
   ],
   "source": [
    "%%notify\n",
    "%%time\n",
    "\n",
    "clf_grid.fit(X_train_transformed_bow_std, y_train)"
   ]
  },
  {
   "cell_type": "markdown",
   "metadata": {
    "colab_type": "text",
    "id": "GjLcL0JSeUHD"
   },
   "source": [
    "**Heatmap | BoW | Grid Search**"
   ]
  },
  {
   "cell_type": "code",
   "execution_count": 50,
   "metadata": {
    "colab": {},
    "colab_type": "code",
    "id": "fOQHfTcdeUHE",
    "outputId": "f7a56881-bcad-4cea-86f5-e2cb76b242e7",
    "scrolled": false
   },
   "outputs": [
    {
     "data": {
      "image/png": "[encoded data removed]",
      "text/plain": [
       "<Figure size 1080x432 with 2 Axes>"
      ]
     },
     "metadata": {},
     "output_type": "display_data"
    }
   ],
   "source": [
    "heatmap(penalty_alpha_score(clf_grid.cv_results_), vector_type='BoW', search_type='Grid')"
   ]
  },
  {
   "cell_type": "markdown",
   "metadata": {
    "colab_type": "text",
    "id": "yP_kkG5FeUHL"
   },
   "source": [
    "Import prettytable to summarize the results in a table"
   ]
  },
  {
   "cell_type": "code",
   "execution_count": 54,
   "metadata": {
    "colab": {},
    "colab_type": "code",
    "id": "aJpxuLjceUHN"
   },
   "outputs": [],
   "source": [
    "from prettytable import PrettyTable\n",
    "table = PrettyTable()"
   ]
  },
  {
   "cell_type": "markdown",
   "metadata": {
    "colab_type": "text",
    "id": "lw5y6P6heUH-"
   },
   "source": [
    "**Ratios | BoW | Grid Search**"
   ]
  },
  {
   "cell_type": "code",
   "execution_count": 55,
   "metadata": {
    "colab": {},
    "colab_type": "code",
    "id": "DTSqm-9PeUIA",
    "outputId": "d6e6f182-1804-4741-ba8f-d30174fbb8ce"
   },
   "outputs": [
    {
     "name": "stdout",
     "output_type": "stream",
     "text": [
      "+--------------+----------------+-------+--------------+------------+------+------+------+------+------+--------+\n",
      "| Vector Type  | Parameter Srch |  Data | Best penalty | Best alpha | Prec | Rec  | TNR  | FPR  | FNR  |  Acc   |\n",
      "+--------------+----------------+-------+--------------+------------+------+------+------+------+------+--------+\n",
      "| Bag of Words |  Grid Search   | Train |      l2      |    0.1     | 0.95 | 0.99 | 0.72 | 0.28 | 0.01 | 0.9461 |\n",
      "| Bag of Words |  Grid Search   |  Test |      l2      |    0.1     | 0.92 | 0.97 | 0.61 | 0.39 | 0.03 | 0.9085 |\n",
      "+--------------+----------------+-------+--------------+------------+------+------+------+------+------+--------+\n"
     ]
    }
   ],
   "source": [
    "cm_bow_train, cm_bow_test = give_me_ratios(X_train_transformed_bow_std, y_train, X_test_transformed_bow_std, y_test, 'Bag of Words','Grid Search', table, clf_grid, clf_grid.best_params_['penalty'],clf_grid.best_params_['alpha'])"
   ]
  },
  {
   "cell_type": "markdown",
   "metadata": {
    "colab_type": "text",
    "id": "BzLvSfHAeUIL"
   },
   "source": [
    "**Confusion Matrix | BoW | Grid Search**"
   ]
  },
  {
   "cell_type": "code",
   "execution_count": 56,
   "metadata": {
    "colab": {},
    "colab_type": "code",
    "id": "8V7ZTPuxeUIN",
    "outputId": "a2b22f42-cfe8-414b-defb-7f81c9ece6ff"
   },
   "outputs": [
    {
     "data": {
      "image/png": "[encoded data removed]",
      "text/plain": [
       "<Figure size 1080x432 with 2 Axes>"
      ]
     },
     "metadata": {},
     "output_type": "display_data"
    }
   ],
   "source": [
    "plot_confusion_matrix(cm_bow_train, cm_bow_test, title=\"BOW | Grid Search\")"
   ]
  },
  {
   "cell_type": "markdown",
   "metadata": {
    "colab_type": "text",
    "id": "UmqTWX8weUIX"
   },
   "source": [
    "**Random Search | BOW**"
   ]
  },
  {
   "cell_type": "markdown",
   "metadata": {
    "colab_type": "text",
    "id": "Rt7qjrp19CUK"
   },
   "source": [
    "Same as before, but this time using RandomizedSearchCV()"
   ]
  },
  {
   "cell_type": "code",
   "execution_count": 57,
   "metadata": {
    "colab": {},
    "colab_type": "code",
    "id": "tcbcBx4ZeUIZ"
   },
   "outputs": [],
   "source": [
    "clf_random = RandomSearch(X_train_transformed_bow_std)"
   ]
  },
  {
   "cell_type": "code",
   "execution_count": 58,
   "metadata": {
    "colab": {},
    "colab_type": "code",
    "id": "l-72YumkeUIf",
    "scrolled": true
   },
   "outputs": [
    {
     "name": "stdout",
     "output_type": "stream",
     "text": [
      "CPU times: user 1.84 s, sys: 98.4 ms, total: 1.93 s\n",
      "Wall time: 5.23 s\n"
     ]
    },
    {
     "data": {
      "text/plain": [
       "RandomizedSearchCV(cv=<generator object TimeSeriesSplit.split at 0x7fed38145fc0>,\n",
       "          error_score='raise-deprecating',\n",
       "          estimator=SGDClassifier(alpha=0.0001, average=False, class_weight=None,\n",
       "       early_stopping=False, epsilon=0.1, eta0=0.0, fit_intercept=True,\n",
       "       l1_ratio=0.15, learning_rate='optimal', loss='hinge', max_iter=None,\n",
       "       n_iter=None, n_iter_no_change=5, n_jobs=None, penalty='l2',\n",
       "       power_t=0.5, random_state=None, shuffle=True, tol=None,\n",
       "       validation_fraction=0.1, verbose=0, warm_start=False),\n",
       "          fit_params=None, iid='warn', n_iter=10, n_jobs=12,\n",
       "          param_distributions={'penalty': ['l1', 'l2'], 'alpha': [0.0001, 0.001, 0.01, 0.1, 1, 10, 100, 1000]},\n",
       "          pre_dispatch='2*n_jobs', random_state=None, refit=True,\n",
       "          return_train_score=True, scoring=None, verbose=0)"
      ]
     },
     "execution_count": 58,
     "metadata": {},
     "output_type": "execute_result"
    },
    {
     "data": {
      "application/javascript": [
       "$(document).ready(\n",
       "    function() {\n",
       "        function appendUniqueDiv(){\n",
       "            // append a div with our uuid so we can check that it's already\n",
       "            // been sent and avoid duplicates on page reload\n",
       "            var notifiedDiv = document.createElement(\"div\")\n",
       "            notifiedDiv.id = \"12cbefda-aaff-4143-bcba-833c7750f70b\"\n",
       "            element.append(notifiedDiv)\n",
       "        }\n",
       "\n",
       "        // only send notifications if the pageload is complete; this will\n",
       "        // help stop extra notifications when a saved notebook is loaded,\n",
       "        // which during testing gives us state \"interactive\", not \"complete\"\n",
       "        if (document.readyState === 'complete') {\n",
       "            // check for the div that signifies that the notification\n",
       "            // was already sent\n",
       "            if (document.getElementById(\"12cbefda-aaff-4143-bcba-833c7750f70b\") === null) {\n",
       "                var notificationPayload = {\"requireInteraction\": false, \"icon\": \"/static/base/images/favicon.ico\", \"body\": \"Cell execution has finished!\"};\n",
       "                if (Notification.permission !== 'denied') {\n",
       "                    if (Notification.permission !== 'granted') { \n",
       "                        Notification.requestPermission(function (permission) {\n",
       "                            if(!('permission' in Notification)) {\n",
       "                                Notification.permission = permission\n",
       "                            }\n",
       "                        })\n",
       "                    }\n",
       "                    if (Notification.permission === 'granted') {\n",
       "                    var notification = new Notification(\"Jupyter Notebook\", notificationPayload)\n",
       "                    appendUniqueDiv()\n",
       "                    notification.onclick = function () {\n",
       "                        window.focus();\n",
       "                        this.close();\n",
       "                        };\n",
       "                    } \n",
       "                }     \n",
       "            }\n",
       "        }\n",
       "    }\n",
       ")\n"
      ],
      "text/plain": [
       "<IPython.core.display.Javascript object>"
      ]
     },
     "metadata": {},
     "output_type": "display_data"
    }
   ],
   "source": [
    "%%notify\n",
    "%%time\n",
    "\n",
    "clf_random.fit(X_train_transformed_bow_std, y_train)"
   ]
  },
  {
   "cell_type": "markdown",
   "metadata": {
    "colab_type": "text",
    "id": "lcFMl8UY9XjB"
   },
   "source": [
    "**Heatmap | BoW | Random Search**"
   ]
  },
  {
   "cell_type": "code",
   "execution_count": 59,
   "metadata": {
    "colab": {},
    "colab_type": "code",
    "id": "iAKJTelyeUI6",
    "outputId": "9f07c8e2-301b-4176-f1b6-fd3f888b5611",
    "scrolled": false
   },
   "outputs": [
    {
     "data": {
      "image/png": "[encoded data removed]",
      "text/plain": [
       "<Figure size 1080x432 with 2 Axes>"
      ]
     },
     "metadata": {},
     "output_type": "display_data"
    }
   ],
   "source": [
    "heatmap(penalty_alpha_score(clf_random.cv_results_), vector_type='BoW', search_type='Random')"
   ]
  },
  {
   "cell_type": "markdown",
   "metadata": {
    "colab_type": "text",
    "id": "JRowt6Mx9dEQ"
   },
   "source": [
    "**Ratios | BoW | Random Search**"
   ]
  },
  {
   "cell_type": "code",
   "execution_count": 60,
   "metadata": {
    "colab": {},
    "colab_type": "code",
    "id": "HCqdWnBOeUJK",
    "outputId": "01c8ef69-fc0b-4b64-fc17-ddf699edc91e"
   },
   "outputs": [
    {
     "name": "stdout",
     "output_type": "stream",
     "text": [
      "+--------------+----------------+-------+--------------+------------+------+------+------+------+------+--------+\n",
      "| Vector Type  | Parameter Srch |  Data | Best penalty | Best alpha | Prec | Rec  | TNR  | FPR  | FNR  |  Acc   |\n",
      "+--------------+----------------+-------+--------------+------------+------+------+------+------+------+--------+\n",
      "| Bag of Words |  Grid Search   | Train |      l2      |    0.1     | 0.95 | 0.99 | 0.72 | 0.28 | 0.01 | 0.9461 |\n",
      "| Bag of Words |  Grid Search   |  Test |      l2      |    0.1     | 0.92 | 0.97 | 0.61 | 0.39 | 0.03 | 0.9085 |\n",
      "| Bag of Words | Random Search  | Train |      l2      |    0.1     | 0.95 | 0.99 | 0.72 | 0.28 | 0.01 | 0.9465 |\n",
      "| Bag of Words | Random Search  |  Test |      l2      |    0.1     | 0.92 | 0.97 | 0.62 | 0.38 | 0.03 | 0.9088 |\n",
      "+--------------+----------------+-------+--------------+------------+------+------+------+------+------+--------+\n"
     ]
    }
   ],
   "source": [
    "cm_bow_train, cm_bow_test = give_me_ratios(X_train_transformed_bow_std, y_train, X_test_transformed_bow_std, y_test, 'Bag of Words','Random Search', table, clf_random, clf_random.best_params_['penalty'],clf_random.best_params_['alpha'])"
   ]
  },
  {
   "cell_type": "markdown",
   "metadata": {
    "colab_type": "text",
    "id": "XDd8zG9-99Bt"
   },
   "source": [
    "**Confusion Matrix | BoW | Random Search**"
   ]
  },
  {
   "cell_type": "code",
   "execution_count": 61,
   "metadata": {
    "colab": {},
    "colab_type": "code",
    "id": "0gmFX5TneUJZ",
    "outputId": "141821bb-2a2b-4a92-81ba-d81f014d9a0a"
   },
   "outputs": [
    {
     "data": {
      "image/png": "[encoded data removed]",
      "text/plain": [
       "<Figure size 1080x432 with 2 Axes>"
      ]
     },
     "metadata": {},
     "output_type": "display_data"
    }
   ],
   "source": [
    "plot_confusion_matrix(cm_bow_train, cm_bow_test, \"BOW | Random Search\")"
   ]
  },
  {
   "cell_type": "markdown",
   "metadata": {
    "colab_type": "text",
    "id": "Ljz_0XlBeUJf"
   },
   "source": [
    "## Tfidf\n",
    "\n",
    "In this section, we'll apply SGDClassifer on reviews represented in the Tfidf format. Load the transformed train and test sets."
   ]
  },
  {
   "cell_type": "code",
   "execution_count": 62,
   "metadata": {
    "colab": {},
    "colab_type": "code",
    "id": "R0_7y9FXeUJj",
    "outputId": "3779869c-11c6-440a-ea8e-f726b804be33"
   },
   "outputs": [
    {
     "name": "stdout",
     "output_type": "stream",
     "text": [
      "The datatype of X_train_transformed_tfidf is : <class 'scipy.sparse.csr.csr_matrix'>\n",
      "The shape of X_train_transformed_tfidf is : (291336, 64221)\n"
     ]
    }
   ],
   "source": [
    "# f = open(r'D:\\data_science\\datasets\\amazon2\\X_train_transformed_tfidf_full_nparray.pkl', 'rb')\n",
    "f = open('/home/ucanreachtvk/data/X_train_transformed_tfidf_full_nparray.pkl', 'rb')\n",
    "X_train_transformed_tfidf = pickle.load(f)\n",
    "f.close()\n",
    "print('The datatype of X_train_transformed_tfidf is : {}'.format(type(X_train_transformed_tfidf)))\n",
    "print('The shape of X_train_transformed_tfidf is : {}'.format(X_train_transformed_tfidf.shape))"
   ]
  },
  {
   "cell_type": "code",
   "execution_count": 63,
   "metadata": {
    "colab": {},
    "colab_type": "code",
    "id": "YcNq2J-2eUJw",
    "outputId": "35b9660c-5138-44ec-e6dc-6fd644a87635"
   },
   "outputs": [
    {
     "name": "stdout",
     "output_type": "stream",
     "text": [
      "The datatype of X_test_transformed_tfidf is : <class 'scipy.sparse.csr.csr_matrix'>\n",
      "The shape of X_test_transformed_tfidf is : (72835, 64221)\n"
     ]
    }
   ],
   "source": [
    "# f = open(r'D:\\data_science\\datasets\\amazon2\\X_test_transformed_tfidf_full_nparray.pkl', 'rb')\n",
    "f = open('/home/ucanreachtvk/data/X_test_transformed_tfidf_full_nparray.pkl', 'rb')\n",
    "X_test_transformed_tfidf = pickle.load(f)\n",
    "f.close()\n",
    "print('The datatype of X_test_transformed_tfidf is : {}'.format(type(X_test_transformed_tfidf)))\n",
    "print('The shape of X_test_transformed_tfidf is : {}'.format(X_test_transformed_tfidf.shape))"
   ]
  },
  {
   "cell_type": "markdown",
   "metadata": {
    "colab_type": "text",
    "id": "t-gIXgQ0eUJ9"
   },
   "source": [
    "**Standardize data**"
   ]
  },
  {
   "cell_type": "code",
   "execution_count": 64,
   "metadata": {
    "colab": {},
    "colab_type": "code",
    "id": "feh76VtmeUJ-"
   },
   "outputs": [],
   "source": [
    "scaler = StandardScaler(with_mean = False)\n",
    "X_train_transformed_tfidf_std = scaler.fit_transform(X_train_transformed_tfidf)"
   ]
  },
  {
   "cell_type": "code",
   "execution_count": 65,
   "metadata": {
    "colab": {},
    "colab_type": "code",
    "id": "leUbMILJeUKF"
   },
   "outputs": [],
   "source": [
    "X_test_transformed_tfidf_std = scaler.transform(X_test_transformed_tfidf)"
   ]
  },
  {
   "cell_type": "markdown",
   "metadata": {
    "colab_type": "text",
    "id": "-EM0DU8-eUKM"
   },
   "source": [
    "**GridSearch | TFIDF **"
   ]
  },
  {
   "cell_type": "code",
   "execution_count": 66,
   "metadata": {
    "colab": {},
    "colab_type": "code",
    "id": "-dynXWIkeUKN"
   },
   "outputs": [],
   "source": [
    "clf_grid = GridSearch(X_train_transformed_tfidf_std)"
   ]
  },
  {
   "cell_type": "markdown",
   "metadata": {
    "colab_type": "text",
    "id": "HzraiTbM-YAG"
   },
   "source": [
    "Train the model"
   ]
  },
  {
   "cell_type": "code",
   "execution_count": 67,
   "metadata": {
    "colab": {},
    "colab_type": "code",
    "id": "-RCAQJRweUKW",
    "scrolled": false
   },
   "outputs": [
    {
     "name": "stdout",
     "output_type": "stream",
     "text": [
      "CPU times: user 1.97 s, sys: 134 ms, total: 2.11 s\n",
      "Wall time: 8.68 s\n"
     ]
    },
    {
     "data": {
      "text/plain": [
       "GridSearchCV(cv=<generator object TimeSeriesSplit.split at 0x7fed38145728>,\n",
       "       error_score='raise-deprecating',\n",
       "       estimator=SGDClassifier(alpha=0.0001, average=False, class_weight=None,\n",
       "       early_stopping=False, epsilon=0.1, eta0=0.0, fit_intercept=True,\n",
       "       l1_ratio=0.15, learning_rate='optimal', loss='hinge', max_iter=None,\n",
       "       n_iter=None, n_iter_no_change=5, n_jobs=None, penalty='l2',\n",
       "       power_t=0.5, random_state=None, shuffle=True, tol=None,\n",
       "       validation_fraction=0.1, verbose=0, warm_start=False),\n",
       "       fit_params=None, iid='warn', n_jobs=12,\n",
       "       param_grid={'penalty': ['l1', 'l2'], 'alpha': [0.0001, 0.001, 0.01, 0.1, 1, 10, 100, 1000]},\n",
       "       pre_dispatch='2*n_jobs', refit=True, return_train_score=True,\n",
       "       scoring=None, verbose=0)"
      ]
     },
     "execution_count": 67,
     "metadata": {},
     "output_type": "execute_result"
    },
    {
     "data": {
      "application/javascript": [
       "$(document).ready(\n",
       "    function() {\n",
       "        function appendUniqueDiv(){\n",
       "            // append a div with our uuid so we can check that it's already\n",
       "            // been sent and avoid duplicates on page reload\n",
       "            var notifiedDiv = document.createElement(\"div\")\n",
       "            notifiedDiv.id = \"a5d54e1d-b621-4fac-be97-cdc6144540e5\"\n",
       "            element.append(notifiedDiv)\n",
       "        }\n",
       "\n",
       "        // only send notifications if the pageload is complete; this will\n",
       "        // help stop extra notifications when a saved notebook is loaded,\n",
       "        // which during testing gives us state \"interactive\", not \"complete\"\n",
       "        if (document.readyState === 'complete') {\n",
       "            // check for the div that signifies that the notification\n",
       "            // was already sent\n",
       "            if (document.getElementById(\"a5d54e1d-b621-4fac-be97-cdc6144540e5\") === null) {\n",
       "                var notificationPayload = {\"requireInteraction\": false, \"icon\": \"/static/base/images/favicon.ico\", \"body\": \"Cell execution has finished!\"};\n",
       "                if (Notification.permission !== 'denied') {\n",
       "                    if (Notification.permission !== 'granted') { \n",
       "                        Notification.requestPermission(function (permission) {\n",
       "                            if(!('permission' in Notification)) {\n",
       "                                Notification.permission = permission\n",
       "                            }\n",
       "                        })\n",
       "                    }\n",
       "                    if (Notification.permission === 'granted') {\n",
       "                    var notification = new Notification(\"Jupyter Notebook\", notificationPayload)\n",
       "                    appendUniqueDiv()\n",
       "                    notification.onclick = function () {\n",
       "                        window.focus();\n",
       "                        this.close();\n",
       "                        };\n",
       "                    } \n",
       "                }     \n",
       "            }\n",
       "        }\n",
       "    }\n",
       ")\n"
      ],
      "text/plain": [
       "<IPython.core.display.Javascript object>"
      ]
     },
     "metadata": {},
     "output_type": "display_data"
    }
   ],
   "source": [
    "%%notify\n",
    "%%time\n",
    "\n",
    "clf_grid.fit(X_train_transformed_tfidf_std, y_train)"
   ]
  },
  {
   "cell_type": "markdown",
   "metadata": {
    "colab_type": "text",
    "id": "ELV6usqo-dYj"
   },
   "source": [
    "**Heatmap | Tfidf | Grid Search**"
   ]
  },
  {
   "cell_type": "code",
   "execution_count": 68,
   "metadata": {
    "colab": {},
    "colab_type": "code",
    "id": "EMicQmjbeUKg",
    "outputId": "ddc1b198-49eb-4c46-e0f4-7f40b651ee5d"
   },
   "outputs": [
    {
     "data": {
      "image/png": "[encoded data removed]",
      "text/plain": [
       "<Figure size 1080x432 with 2 Axes>"
      ]
     },
     "metadata": {},
     "output_type": "display_data"
    }
   ],
   "source": [
    "heatmap(penalty_alpha_score(clf_grid.cv_results_), vector_type='Tfidf', search_type='Grid Search')"
   ]
  },
  {
   "cell_type": "markdown",
   "metadata": {
    "colab_type": "text",
    "id": "F-KFilDy_qhs"
   },
   "source": [
    "**Ratios | Tfidf | Grid Search**"
   ]
  },
  {
   "cell_type": "code",
   "execution_count": 69,
   "metadata": {
    "colab": {},
    "colab_type": "code",
    "id": "r1y5JYpAeUKp",
    "outputId": "2c47f5ef-5473-4164-85a1-e3e61bdad9eb"
   },
   "outputs": [
    {
     "name": "stdout",
     "output_type": "stream",
     "text": [
      "+--------------+----------------+-------+--------------+------------+------+------+------+------+------+--------+\n",
      "| Vector Type  | Parameter Srch |  Data | Best penalty | Best alpha | Prec | Rec  | TNR  | FPR  | FNR  |  Acc   |\n",
      "+--------------+----------------+-------+--------------+------------+------+------+------+------+------+--------+\n",
      "| Bag of Words |  Grid Search   | Train |      l2      |    0.1     | 0.95 | 0.99 | 0.72 | 0.28 | 0.01 | 0.9461 |\n",
      "| Bag of Words |  Grid Search   |  Test |      l2      |    0.1     | 0.92 | 0.97 | 0.61 | 0.39 | 0.03 | 0.9085 |\n",
      "| Bag of Words | Random Search  | Train |      l2      |    0.1     | 0.95 | 0.99 | 0.72 | 0.28 | 0.01 | 0.9465 |\n",
      "| Bag of Words | Random Search  |  Test |      l2      |    0.1     | 0.92 | 0.97 | 0.62 | 0.38 | 0.03 | 0.9088 |\n",
      "|    TFIDF     |  Grid Search   | Train |      l2      |    0.1     | 0.95 | 0.99 | 0.71 | 0.29 | 0.01 | 0.9444 |\n",
      "|    TFIDF     |  Grid Search   |  Test |      l2      |    0.1     | 0.92 | 0.97 | 0.58 | 0.42 | 0.03 | 0.9012 |\n",
      "+--------------+----------------+-------+--------------+------------+------+------+------+------+------+--------+\n"
     ]
    },
    {
     "data": {
      "application/javascript": [
       "$(document).ready(\n",
       "    function() {\n",
       "        function appendUniqueDiv(){\n",
       "            // append a div with our uuid so we can check that it's already\n",
       "            // been sent and avoid duplicates on page reload\n",
       "            var notifiedDiv = document.createElement(\"div\")\n",
       "            notifiedDiv.id = \"73233ac1-b926-446e-8789-f3ed172db4b0\"\n",
       "            element.append(notifiedDiv)\n",
       "        }\n",
       "\n",
       "        // only send notifications if the pageload is complete; this will\n",
       "        // help stop extra notifications when a saved notebook is loaded,\n",
       "        // which during testing gives us state \"interactive\", not \"complete\"\n",
       "        if (document.readyState === 'complete') {\n",
       "            // check for the div that signifies that the notification\n",
       "            // was already sent\n",
       "            if (document.getElementById(\"73233ac1-b926-446e-8789-f3ed172db4b0\") === null) {\n",
       "                var notificationPayload = {\"requireInteraction\": false, \"icon\": \"/static/base/images/favicon.ico\", \"body\": \"Cell execution has finished!\"};\n",
       "                if (Notification.permission !== 'denied') {\n",
       "                    if (Notification.permission !== 'granted') { \n",
       "                        Notification.requestPermission(function (permission) {\n",
       "                            if(!('permission' in Notification)) {\n",
       "                                Notification.permission = permission\n",
       "                            }\n",
       "                        })\n",
       "                    }\n",
       "                    if (Notification.permission === 'granted') {\n",
       "                    var notification = new Notification(\"Jupyter Notebook\", notificationPayload)\n",
       "                    appendUniqueDiv()\n",
       "                    notification.onclick = function () {\n",
       "                        window.focus();\n",
       "                        this.close();\n",
       "                        };\n",
       "                    } \n",
       "                }     \n",
       "            }\n",
       "        }\n",
       "    }\n",
       ")\n"
      ],
      "text/plain": [
       "<IPython.core.display.Javascript object>"
      ]
     },
     "metadata": {},
     "output_type": "display_data"
    }
   ],
   "source": [
    "%%notify\n",
    "\n",
    "cm_tfidf_train, cm_tfidf_test = give_me_ratios(X_train_transformed_tfidf_std, y_train, X_test_transformed_tfidf_std, y_test, 'TFIDF','Grid Search', table, clf_grid, clf_grid.best_params_['penalty'],clf_grid.best_params_['alpha'])"
   ]
  },
  {
   "cell_type": "markdown",
   "metadata": {
    "colab_type": "text",
    "id": "4CmfZ3NZeUKx"
   },
   "source": [
    "**Confusion Matrix | Tfidf | Grid Search**"
   ]
  },
  {
   "cell_type": "code",
   "execution_count": 70,
   "metadata": {
    "colab": {},
    "colab_type": "code",
    "id": "W41SW_LWeUKy",
    "outputId": "e5533f05-3460-4940-ce26-e328147eed15"
   },
   "outputs": [
    {
     "data": {
      "image/png": "[encoded data removed]",
      "text/plain": [
       "<Figure size 1080x432 with 2 Axes>"
      ]
     },
     "metadata": {},
     "output_type": "display_data"
    }
   ],
   "source": [
    "plot_confusion_matrix(cm_tfidf_train, cm_tfidf_test, \"Tfidf | Grid Search\")"
   ]
  },
  {
   "cell_type": "markdown",
   "metadata": {
    "colab_type": "text",
    "id": "2izNzBOkeUK4"
   },
   "source": [
    "**Random Search | TFIDF **"
   ]
  },
  {
   "cell_type": "code",
   "execution_count": 71,
   "metadata": {
    "colab": {},
    "colab_type": "code",
    "id": "cwACzKo_eUK5"
   },
   "outputs": [],
   "source": [
    "clf_random = RandomSearch(X_train_transformed_tfidf_std)"
   ]
  },
  {
   "cell_type": "code",
   "execution_count": 72,
   "metadata": {
    "colab": {},
    "colab_type": "code",
    "id": "JACLrF9PeUK7"
   },
   "outputs": [
    {
     "name": "stdout",
     "output_type": "stream",
     "text": [
      "CPU times: user 1.89 s, sys: 106 ms, total: 2 s\n",
      "Wall time: 5.12 s\n"
     ]
    },
    {
     "data": {
      "text/plain": [
       "RandomizedSearchCV(cv=<generator object TimeSeriesSplit.split at 0x7fed71f068e0>,\n",
       "          error_score='raise-deprecating',\n",
       "          estimator=SGDClassifier(alpha=0.0001, average=False, class_weight=None,\n",
       "       early_stopping=False, epsilon=0.1, eta0=0.0, fit_intercept=True,\n",
       "       l1_ratio=0.15, learning_rate='optimal', loss='hinge', max_iter=None,\n",
       "       n_iter=None, n_iter_no_change=5, n_jobs=None, penalty='l2',\n",
       "       power_t=0.5, random_state=None, shuffle=True, tol=None,\n",
       "       validation_fraction=0.1, verbose=0, warm_start=False),\n",
       "          fit_params=None, iid='warn', n_iter=10, n_jobs=12,\n",
       "          param_distributions={'penalty': ['l1', 'l2'], 'alpha': [0.0001, 0.001, 0.01, 0.1, 1, 10, 100, 1000]},\n",
       "          pre_dispatch='2*n_jobs', random_state=None, refit=True,\n",
       "          return_train_score=True, scoring=None, verbose=0)"
      ]
     },
     "execution_count": 72,
     "metadata": {},
     "output_type": "execute_result"
    },
    {
     "data": {
      "application/javascript": [
       "$(document).ready(\n",
       "    function() {\n",
       "        function appendUniqueDiv(){\n",
       "            // append a div with our uuid so we can check that it's already\n",
       "            // been sent and avoid duplicates on page reload\n",
       "            var notifiedDiv = document.createElement(\"div\")\n",
       "            notifiedDiv.id = \"a3dccaf8-a87a-40f8-9343-ed1bda179e28\"\n",
       "            element.append(notifiedDiv)\n",
       "        }\n",
       "\n",
       "        // only send notifications if the pageload is complete; this will\n",
       "        // help stop extra notifications when a saved notebook is loaded,\n",
       "        // which during testing gives us state \"interactive\", not \"complete\"\n",
       "        if (document.readyState === 'complete') {\n",
       "            // check for the div that signifies that the notification\n",
       "            // was already sent\n",
       "            if (document.getElementById(\"a3dccaf8-a87a-40f8-9343-ed1bda179e28\") === null) {\n",
       "                var notificationPayload = {\"requireInteraction\": false, \"icon\": \"/static/base/images/favicon.ico\", \"body\": \"Cell execution has finished!\"};\n",
       "                if (Notification.permission !== 'denied') {\n",
       "                    if (Notification.permission !== 'granted') { \n",
       "                        Notification.requestPermission(function (permission) {\n",
       "                            if(!('permission' in Notification)) {\n",
       "                                Notification.permission = permission\n",
       "                            }\n",
       "                        })\n",
       "                    }\n",
       "                    if (Notification.permission === 'granted') {\n",
       "                    var notification = new Notification(\"Jupyter Notebook\", notificationPayload)\n",
       "                    appendUniqueDiv()\n",
       "                    notification.onclick = function () {\n",
       "                        window.focus();\n",
       "                        this.close();\n",
       "                        };\n",
       "                    } \n",
       "                }     \n",
       "            }\n",
       "        }\n",
       "    }\n",
       ")\n"
      ],
      "text/plain": [
       "<IPython.core.display.Javascript object>"
      ]
     },
     "metadata": {},
     "output_type": "display_data"
    }
   ],
   "source": [
    "%%notify\n",
    "%%time\n",
    "\n",
    "clf_random.fit(X_train_transformed_tfidf_std, y_train)"
   ]
  },
  {
   "cell_type": "markdown",
   "metadata": {},
   "source": [
    "**Heatmap | Tfidf | Random Search**"
   ]
  },
  {
   "cell_type": "code",
   "execution_count": 73,
   "metadata": {
    "colab": {},
    "colab_type": "code",
    "id": "7ZfwPWG8eULC",
    "outputId": "c9a094bb-6e89-4d9e-cd43-03ccaab1a12a",
    "scrolled": false
   },
   "outputs": [
    {
     "data": {
      "image/png": "[encoded data removed]",
      "text/plain": [
       "<Figure size 1080x432 with 2 Axes>"
      ]
     },
     "metadata": {},
     "output_type": "display_data"
    }
   ],
   "source": [
    "heatmap(penalty_alpha_score(clf_random.cv_results_), vector_type='Tfidf', search_type='Random Search')"
   ]
  },
  {
   "cell_type": "markdown",
   "metadata": {},
   "source": [
    "**Ratios | Tfidf | Random Search**"
   ]
  },
  {
   "cell_type": "code",
   "execution_count": 74,
   "metadata": {
    "colab": {},
    "colab_type": "code",
    "id": "UctxlXoueULG",
    "outputId": "f4a59b48-4bc1-4900-b707-1c2767df2f6b"
   },
   "outputs": [
    {
     "name": "stdout",
     "output_type": "stream",
     "text": [
      "+--------------+----------------+-------+--------------+------------+------+------+------+------+------+--------+\n",
      "| Vector Type  | Parameter Srch |  Data | Best penalty | Best alpha | Prec | Rec  | TNR  | FPR  | FNR  |  Acc   |\n",
      "+--------------+----------------+-------+--------------+------------+------+------+------+------+------+--------+\n",
      "| Bag of Words |  Grid Search   | Train |      l2      |    0.1     | 0.95 | 0.99 | 0.72 | 0.28 | 0.01 | 0.9461 |\n",
      "| Bag of Words |  Grid Search   |  Test |      l2      |    0.1     | 0.92 | 0.97 | 0.61 | 0.39 | 0.03 | 0.9085 |\n",
      "| Bag of Words | Random Search  | Train |      l2      |    0.1     | 0.95 | 0.99 | 0.72 | 0.28 | 0.01 | 0.9465 |\n",
      "| Bag of Words | Random Search  |  Test |      l2      |    0.1     | 0.92 | 0.97 | 0.62 | 0.38 | 0.03 | 0.9088 |\n",
      "|    TFIDF     |  Grid Search   | Train |      l2      |    0.1     | 0.95 | 0.99 | 0.71 | 0.29 | 0.01 | 0.9444 |\n",
      "|    TFIDF     |  Grid Search   |  Test |      l2      |    0.1     | 0.92 | 0.97 | 0.58 | 0.42 | 0.03 | 0.9012 |\n",
      "|    TFIDF     | Random Search  | Train |      l2      |    0.1     | 0.95 | 0.99 | 0.71 | 0.29 | 0.01 | 0.9443 |\n",
      "|    TFIDF     | Random Search  |  Test |      l2      |    0.1     | 0.92 | 0.97 | 0.58 | 0.42 | 0.03 | 0.9007 |\n",
      "+--------------+----------------+-------+--------------+------------+------+------+------+------+------+--------+\n"
     ]
    }
   ],
   "source": [
    "cm_tfidf_train, cm_tfidf_test = give_me_ratios(X_train_transformed_tfidf_std, y_train, X_test_transformed_tfidf_std, y_test, 'TFIDF','Random Search', table, clf_random, clf_random.best_params_['penalty'],clf_random.best_params_['alpha'])"
   ]
  },
  {
   "cell_type": "markdown",
   "metadata": {},
   "source": [
    "**Confusion Matrxi | Tfidf | Random Search**"
   ]
  },
  {
   "cell_type": "code",
   "execution_count": 75,
   "metadata": {
    "colab": {},
    "colab_type": "code",
    "id": "MQsX6nBPeULT",
    "outputId": "33565f3d-589d-404f-95c1-e9dc83d04b16"
   },
   "outputs": [
    {
     "data": {
      "image/png": "[encoded data removed]",
      "text/plain": [
       "<Figure size 1080x432 with 2 Axes>"
      ]
     },
     "metadata": {},
     "output_type": "display_data"
    }
   ],
   "source": [
    "plot_confusion_matrix(cm_tfidf_train, cm_tfidf_test, \"Tfidf | Random Search\")"
   ]
  },
  {
   "cell_type": "markdown",
   "metadata": {
    "colab_type": "text",
    "id": "C9bCe0pqeULY"
   },
   "source": [
    "## Avg W2V\n",
    "\n",
    "In this section, we'll apply SGDClassifier on data represented in the avg. W2V format.\n",
    "load the train and test data stored on disk."
   ]
  },
  {
   "cell_type": "code",
   "execution_count": 76,
   "metadata": {
    "colab": {},
    "colab_type": "code",
    "id": "r4ZjF15CeULY",
    "outputId": "9cf2cfcf-f2e6-49f3-ea89-84e65085923f"
   },
   "outputs": [
    {
     "name": "stdout",
     "output_type": "stream",
     "text": [
      "The datatype of X_train_transformed_avgW2V is : <class 'numpy.ndarray'>\n",
      "The shape of X_train_transformed_avgW2V is : (291336, 50)\n"
     ]
    }
   ],
   "source": [
    "# f = open(r'D:\\data_science\\datasets\\amazon2\\X_train_transformed_avgW2V_full80_20_nparray.pkl', 'rb')\n",
    "f = open('/home/ucanreachtvk/data/X_train_transformed_avgW2V_full80_20_nparray.pkl', 'rb')\n",
    "X_train_transformed_avgW2V = pickle.load(f)\n",
    "f.close()\n",
    "print('The datatype of X_train_transformed_avgW2V is : {}'.format(type(X_train_transformed_avgW2V)))\n",
    "print('The shape of X_train_transformed_avgW2V is : {}'.format(X_train_transformed_avgW2V.shape))"
   ]
  },
  {
   "cell_type": "code",
   "execution_count": 77,
   "metadata": {
    "colab": {},
    "colab_type": "code",
    "id": "K_rnWiwKeULc",
    "outputId": "d68dfec9-e27e-414b-8630-0c633f2199fe"
   },
   "outputs": [
    {
     "name": "stdout",
     "output_type": "stream",
     "text": [
      "The datatype of X_test_transformed_avgW2V is : <class 'numpy.ndarray'>\n",
      "The shape of X_test_transformed_avgW2V is : (72835, 50)\n"
     ]
    }
   ],
   "source": [
    "# f = open(r'D:\\data_science\\datasets\\amazon2\\X_test_transformed_avgW2V_full80_20_nparray.pkl', 'rb')\n",
    "f = open('/home/ucanreachtvk/data/X_test_transformed_avgW2V_full80_20_nparray.pkl', 'rb')\n",
    "X_test_transformed_avgW2V = pickle.load(f)\n",
    "f.close()\n",
    "print('The datatype of X_test_transformed_avgW2V is : {}'.format(type(X_test_transformed_avgW2V)))\n",
    "print('The shape of X_test_transformed_avgW2V is : {}'.format(X_test_transformed_avgW2V.shape))"
   ]
  },
  {
   "cell_type": "markdown",
   "metadata": {
    "colab_type": "text",
    "id": "Oyp33cx5eULl"
   },
   "source": [
    "**Standardize the data**"
   ]
  },
  {
   "cell_type": "code",
   "execution_count": 78,
   "metadata": {
    "colab": {},
    "colab_type": "code",
    "id": "twZEEFk9eULl"
   },
   "outputs": [],
   "source": [
    "scaler = StandardScaler(with_mean = True)\n",
    "X_train_transformed_avgW2V_std = scaler.fit_transform(X_train_transformed_avgW2V)"
   ]
  },
  {
   "cell_type": "code",
   "execution_count": 79,
   "metadata": {
    "colab": {},
    "colab_type": "code",
    "id": "m9HPNlyceULo"
   },
   "outputs": [],
   "source": [
    "X_test_transformed_avgW2V_std = scaler.transform(X_test_transformed_avgW2V)"
   ]
  },
  {
   "cell_type": "markdown",
   "metadata": {
    "colab_type": "text",
    "id": "ubsZjqOoeULs"
   },
   "source": [
    "**GridSearch | avg. W2V **\n",
    "\n"
   ]
  },
  {
   "cell_type": "code",
   "execution_count": 80,
   "metadata": {
    "colab": {},
    "colab_type": "code",
    "id": "oCB325ZReULt"
   },
   "outputs": [],
   "source": [
    "clf_grid = GridSearch(X_train_transformed_avgW2V_std)"
   ]
  },
  {
   "cell_type": "code",
   "execution_count": 81,
   "metadata": {
    "colab": {},
    "colab_type": "code",
    "id": "BQ3A1d68eULw",
    "scrolled": true
   },
   "outputs": [
    {
     "name": "stdout",
     "output_type": "stream",
     "text": [
      "CPU times: user 1.79 s, sys: 90.9 ms, total: 1.88 s\n",
      "Wall time: 8.21 s\n"
     ]
    },
    {
     "data": {
      "text/plain": [
       "GridSearchCV(cv=<generator object TimeSeriesSplit.split at 0x7fed38145a98>,\n",
       "       error_score='raise-deprecating',\n",
       "       estimator=SGDClassifier(alpha=0.0001, average=False, class_weight=None,\n",
       "       early_stopping=False, epsilon=0.1, eta0=0.0, fit_intercept=True,\n",
       "       l1_ratio=0.15, learning_rate='optimal', loss='hinge', max_iter=None,\n",
       "       n_iter=None, n_iter_no_change=5, n_jobs=None, penalty='l2',\n",
       "       power_t=0.5, random_state=None, shuffle=True, tol=None,\n",
       "       validation_fraction=0.1, verbose=0, warm_start=False),\n",
       "       fit_params=None, iid='warn', n_jobs=12,\n",
       "       param_grid={'penalty': ['l1', 'l2'], 'alpha': [0.0001, 0.001, 0.01, 0.1, 1, 10, 100, 1000]},\n",
       "       pre_dispatch='2*n_jobs', refit=True, return_train_score=True,\n",
       "       scoring=None, verbose=0)"
      ]
     },
     "execution_count": 81,
     "metadata": {},
     "output_type": "execute_result"
    },
    {
     "data": {
      "application/javascript": [
       "$(document).ready(\n",
       "    function() {\n",
       "        function appendUniqueDiv(){\n",
       "            // append a div with our uuid so we can check that it's already\n",
       "            // been sent and avoid duplicates on page reload\n",
       "            var notifiedDiv = document.createElement(\"div\")\n",
       "            notifiedDiv.id = \"e7bfd01a-4833-4d5d-8159-0985c800d75a\"\n",
       "            element.append(notifiedDiv)\n",
       "        }\n",
       "\n",
       "        // only send notifications if the pageload is complete; this will\n",
       "        // help stop extra notifications when a saved notebook is loaded,\n",
       "        // which during testing gives us state \"interactive\", not \"complete\"\n",
       "        if (document.readyState === 'complete') {\n",
       "            // check for the div that signifies that the notification\n",
       "            // was already sent\n",
       "            if (document.getElementById(\"e7bfd01a-4833-4d5d-8159-0985c800d75a\") === null) {\n",
       "                var notificationPayload = {\"requireInteraction\": false, \"icon\": \"/static/base/images/favicon.ico\", \"body\": \"Cell execution has finished!\"};\n",
       "                if (Notification.permission !== 'denied') {\n",
       "                    if (Notification.permission !== 'granted') { \n",
       "                        Notification.requestPermission(function (permission) {\n",
       "                            if(!('permission' in Notification)) {\n",
       "                                Notification.permission = permission\n",
       "                            }\n",
       "                        })\n",
       "                    }\n",
       "                    if (Notification.permission === 'granted') {\n",
       "                    var notification = new Notification(\"Jupyter Notebook\", notificationPayload)\n",
       "                    appendUniqueDiv()\n",
       "                    notification.onclick = function () {\n",
       "                        window.focus();\n",
       "                        this.close();\n",
       "                        };\n",
       "                    } \n",
       "                }     \n",
       "            }\n",
       "        }\n",
       "    }\n",
       ")\n"
      ],
      "text/plain": [
       "<IPython.core.display.Javascript object>"
      ]
     },
     "metadata": {},
     "output_type": "display_data"
    }
   ],
   "source": [
    "%%notify\n",
    "%%time\n",
    "\n",
    "clf_grid.fit(X_train_transformed_avgW2V_std, y_train)"
   ]
  },
  {
   "cell_type": "markdown",
   "metadata": {},
   "source": [
    "**Heatmap | Avg. W2V | Grid Search**"
   ]
  },
  {
   "cell_type": "code",
   "execution_count": 82,
   "metadata": {
    "colab": {},
    "colab_type": "code",
    "id": "9IBFuMv3eUL6",
    "outputId": "9f6bc329-1564-419c-eb66-b8bcd027fba3"
   },
   "outputs": [
    {
     "data": {
      "image/png": "[encoded data removed]",
      "text/plain": [
       "<Figure size 1080x432 with 2 Axes>"
      ]
     },
     "metadata": {},
     "output_type": "display_data"
    }
   ],
   "source": [
    "heatmap(penalty_alpha_score(clf_grid.cv_results_), vector_type='Avg. W2V', search_type='Grid Search')"
   ]
  },
  {
   "cell_type": "markdown",
   "metadata": {
    "colab_type": "text",
    "id": "wYnNvadYeUL9"
   },
   "source": [
    "**Ratios | Avg. W2V | Grid Search**"
   ]
  },
  {
   "cell_type": "code",
   "execution_count": 83,
   "metadata": {
    "colab": {},
    "colab_type": "code",
    "id": "OckFz2MheUL-",
    "outputId": "e3c194fa-bd7b-4c9e-91b1-f101145a0a96"
   },
   "outputs": [
    {
     "name": "stdout",
     "output_type": "stream",
     "text": [
      "+--------------+----------------+-------+--------------+------------+------+------+------+------+------+--------+\n",
      "| Vector Type  | Parameter Srch |  Data | Best penalty | Best alpha | Prec | Rec  | TNR  | FPR  | FNR  |  Acc   |\n",
      "+--------------+----------------+-------+--------------+------------+------+------+------+------+------+--------+\n",
      "| Bag of Words |  Grid Search   | Train |      l2      |    0.1     | 0.95 | 0.99 | 0.72 | 0.28 | 0.01 | 0.9461 |\n",
      "| Bag of Words |  Grid Search   |  Test |      l2      |    0.1     | 0.92 | 0.97 | 0.61 | 0.39 | 0.03 | 0.9085 |\n",
      "| Bag of Words | Random Search  | Train |      l2      |    0.1     | 0.95 | 0.99 | 0.72 | 0.28 | 0.01 | 0.9465 |\n",
      "| Bag of Words | Random Search  |  Test |      l2      |    0.1     | 0.92 | 0.97 | 0.62 | 0.38 | 0.03 | 0.9088 |\n",
      "|    TFIDF     |  Grid Search   | Train |      l2      |    0.1     | 0.95 | 0.99 | 0.71 | 0.29 | 0.01 | 0.9444 |\n",
      "|    TFIDF     |  Grid Search   |  Test |      l2      |    0.1     | 0.92 | 0.97 | 0.58 | 0.42 | 0.03 | 0.9012 |\n",
      "|    TFIDF     | Random Search  | Train |      l2      |    0.1     | 0.95 | 0.99 | 0.71 | 0.29 | 0.01 | 0.9443 |\n",
      "|    TFIDF     | Random Search  |  Test |      l2      |    0.1     | 0.92 | 0.97 | 0.58 | 0.42 | 0.03 | 0.9007 |\n",
      "|   Avg. W2V   |  Grid Search   | Train |      l2      |   0.0001   | 0.91 | 0.98 | 0.45 | 0.55 | 0.02 | 0.8951 |\n",
      "|   Avg. W2V   |  Grid Search   |  Test |      l2      |   0.0001   | 0.9  | 0.97 | 0.45 | 0.55 | 0.03 | 0.8833 |\n",
      "+--------------+----------------+-------+--------------+------------+------+------+------+------+------+--------+\n"
     ]
    },
    {
     "data": {
      "application/javascript": [
       "$(document).ready(\n",
       "    function() {\n",
       "        function appendUniqueDiv(){\n",
       "            // append a div with our uuid so we can check that it's already\n",
       "            // been sent and avoid duplicates on page reload\n",
       "            var notifiedDiv = document.createElement(\"div\")\n",
       "            notifiedDiv.id = \"b7838861-8520-4b65-9796-2ef63a0295ed\"\n",
       "            element.append(notifiedDiv)\n",
       "        }\n",
       "\n",
       "        // only send notifications if the pageload is complete; this will\n",
       "        // help stop extra notifications when a saved notebook is loaded,\n",
       "        // which during testing gives us state \"interactive\", not \"complete\"\n",
       "        if (document.readyState === 'complete') {\n",
       "            // check for the div that signifies that the notification\n",
       "            // was already sent\n",
       "            if (document.getElementById(\"b7838861-8520-4b65-9796-2ef63a0295ed\") === null) {\n",
       "                var notificationPayload = {\"requireInteraction\": false, \"icon\": \"/static/base/images/favicon.ico\", \"body\": \"Cell execution has finished!\"};\n",
       "                if (Notification.permission !== 'denied') {\n",
       "                    if (Notification.permission !== 'granted') { \n",
       "                        Notification.requestPermission(function (permission) {\n",
       "                            if(!('permission' in Notification)) {\n",
       "                                Notification.permission = permission\n",
       "                            }\n",
       "                        })\n",
       "                    }\n",
       "                    if (Notification.permission === 'granted') {\n",
       "                    var notification = new Notification(\"Jupyter Notebook\", notificationPayload)\n",
       "                    appendUniqueDiv()\n",
       "                    notification.onclick = function () {\n",
       "                        window.focus();\n",
       "                        this.close();\n",
       "                        };\n",
       "                    } \n",
       "                }     \n",
       "            }\n",
       "        }\n",
       "    }\n",
       ")\n"
      ],
      "text/plain": [
       "<IPython.core.display.Javascript object>"
      ]
     },
     "metadata": {},
     "output_type": "display_data"
    }
   ],
   "source": [
    "%%notify\n",
    "\n",
    "cm_w2v_train, cm_w2v_test = give_me_ratios(X_train_transformed_avgW2V_std, y_train, X_test_transformed_avgW2V_std, y_test, 'Avg. W2V','Grid Search', table, clf_grid, clf_grid.best_params_['penalty'],clf_grid.best_params_['alpha'])"
   ]
  },
  {
   "cell_type": "markdown",
   "metadata": {
    "colab_type": "text",
    "id": "WUeH0xyXeUMB"
   },
   "source": [
    "**Confusion Matrix | Avg. W2V | Grid Search**"
   ]
  },
  {
   "cell_type": "code",
   "execution_count": 84,
   "metadata": {
    "colab": {},
    "colab_type": "code",
    "id": "NY_0J4BOeUMD",
    "outputId": "a5f3e78d-945a-4052-83f6-ac8a3daca684"
   },
   "outputs": [
    {
     "data": {
      "image/png": "[encoded data removed]",
      "text/plain": [
       "<Figure size 1080x432 with 2 Axes>"
      ]
     },
     "metadata": {},
     "output_type": "display_data"
    }
   ],
   "source": [
    "plot_confusion_matrix(cm_w2v_train, cm_w2v_test, \"Avg. W2V | Grid Search\")"
   ]
  },
  {
   "cell_type": "markdown",
   "metadata": {
    "colab_type": "text",
    "id": "w7rZqxWkeUMF"
   },
   "source": [
    "**Random Search | avg. W2V **"
   ]
  },
  {
   "cell_type": "code",
   "execution_count": 85,
   "metadata": {
    "colab": {},
    "colab_type": "code",
    "id": "c6-vmWYVeUMG"
   },
   "outputs": [],
   "source": [
    "clf_random = RandomSearch(X_train_transformed_avgW2V_std)"
   ]
  },
  {
   "cell_type": "code",
   "execution_count": 86,
   "metadata": {
    "colab": {},
    "colab_type": "code",
    "id": "TuOvpOYmeUMI"
   },
   "outputs": [
    {
     "name": "stdout",
     "output_type": "stream",
     "text": [
      "CPU times: user 1.74 s, sys: 89.9 ms, total: 1.83 s\n",
      "Wall time: 4.79 s\n"
     ]
    },
    {
     "data": {
      "text/plain": [
       "RandomizedSearchCV(cv=<generator object TimeSeriesSplit.split at 0x7fed3ec3cfc0>,\n",
       "          error_score='raise-deprecating',\n",
       "          estimator=SGDClassifier(alpha=0.0001, average=False, class_weight=None,\n",
       "       early_stopping=False, epsilon=0.1, eta0=0.0, fit_intercept=True,\n",
       "       l1_ratio=0.15, learning_rate='optimal', loss='hinge', max_iter=None,\n",
       "       n_iter=None, n_iter_no_change=5, n_jobs=None, penalty='l2',\n",
       "       power_t=0.5, random_state=None, shuffle=True, tol=None,\n",
       "       validation_fraction=0.1, verbose=0, warm_start=False),\n",
       "          fit_params=None, iid='warn', n_iter=10, n_jobs=12,\n",
       "          param_distributions={'penalty': ['l1', 'l2'], 'alpha': [0.0001, 0.001, 0.01, 0.1, 1, 10, 100, 1000]},\n",
       "          pre_dispatch='2*n_jobs', random_state=None, refit=True,\n",
       "          return_train_score=True, scoring=None, verbose=0)"
      ]
     },
     "execution_count": 86,
     "metadata": {},
     "output_type": "execute_result"
    },
    {
     "data": {
      "application/javascript": [
       "$(document).ready(\n",
       "    function() {\n",
       "        function appendUniqueDiv(){\n",
       "            // append a div with our uuid so we can check that it's already\n",
       "            // been sent and avoid duplicates on page reload\n",
       "            var notifiedDiv = document.createElement(\"div\")\n",
       "            notifiedDiv.id = \"e68b7ba1-e318-4b49-a312-1695c9225dee\"\n",
       "            element.append(notifiedDiv)\n",
       "        }\n",
       "\n",
       "        // only send notifications if the pageload is complete; this will\n",
       "        // help stop extra notifications when a saved notebook is loaded,\n",
       "        // which during testing gives us state \"interactive\", not \"complete\"\n",
       "        if (document.readyState === 'complete') {\n",
       "            // check for the div that signifies that the notification\n",
       "            // was already sent\n",
       "            if (document.getElementById(\"e68b7ba1-e318-4b49-a312-1695c9225dee\") === null) {\n",
       "                var notificationPayload = {\"requireInteraction\": false, \"icon\": \"/static/base/images/favicon.ico\", \"body\": \"Cell execution has finished!\"};\n",
       "                if (Notification.permission !== 'denied') {\n",
       "                    if (Notification.permission !== 'granted') { \n",
       "                        Notification.requestPermission(function (permission) {\n",
       "                            if(!('permission' in Notification)) {\n",
       "                                Notification.permission = permission\n",
       "                            }\n",
       "                        })\n",
       "                    }\n",
       "                    if (Notification.permission === 'granted') {\n",
       "                    var notification = new Notification(\"Jupyter Notebook\", notificationPayload)\n",
       "                    appendUniqueDiv()\n",
       "                    notification.onclick = function () {\n",
       "                        window.focus();\n",
       "                        this.close();\n",
       "                        };\n",
       "                    } \n",
       "                }     \n",
       "            }\n",
       "        }\n",
       "    }\n",
       ")\n"
      ],
      "text/plain": [
       "<IPython.core.display.Javascript object>"
      ]
     },
     "metadata": {},
     "output_type": "display_data"
    }
   ],
   "source": [
    "%%notify\n",
    "%%time\n",
    "\n",
    "clf_random.fit(X_train_transformed_avgW2V_std, y_train)"
   ]
  },
  {
   "cell_type": "markdown",
   "metadata": {},
   "source": [
    "**Heatmap | Avg. W2V | Random Search**"
   ]
  },
  {
   "cell_type": "code",
   "execution_count": 87,
   "metadata": {
    "colab": {},
    "colab_type": "code",
    "id": "p_uq8XIieUMS",
    "outputId": "3722266f-27b5-45ca-cae7-0df1b27ff110"
   },
   "outputs": [
    {
     "data": {
      "image/png": "[encoded data removed]",
      "text/plain": [
       "<Figure size 1080x432 with 2 Axes>"
      ]
     },
     "metadata": {},
     "output_type": "display_data"
    }
   ],
   "source": [
    "heatmap(penalty_alpha_score(clf_random.cv_results_), vector_type='Avg. W2V', search_type='Random Search')"
   ]
  },
  {
   "cell_type": "markdown",
   "metadata": {},
   "source": [
    "**Ratios | Avg. W2V | Random Search**"
   ]
  },
  {
   "cell_type": "code",
   "execution_count": 88,
   "metadata": {
    "colab": {},
    "colab_type": "code",
    "id": "68l9mg5EeUMT",
    "outputId": "89a3033b-103b-47bc-a606-e578d6604c31"
   },
   "outputs": [
    {
     "name": "stdout",
     "output_type": "stream",
     "text": [
      "+--------------+----------------+-------+--------------+------------+------+------+------+------+------+--------+\n",
      "| Vector Type  | Parameter Srch |  Data | Best penalty | Best alpha | Prec | Rec  | TNR  | FPR  | FNR  |  Acc   |\n",
      "+--------------+----------------+-------+--------------+------------+------+------+------+------+------+--------+\n",
      "| Bag of Words |  Grid Search   | Train |      l2      |    0.1     | 0.95 | 0.99 | 0.72 | 0.28 | 0.01 | 0.9461 |\n",
      "| Bag of Words |  Grid Search   |  Test |      l2      |    0.1     | 0.92 | 0.97 | 0.61 | 0.39 | 0.03 | 0.9085 |\n",
      "| Bag of Words | Random Search  | Train |      l2      |    0.1     | 0.95 | 0.99 | 0.72 | 0.28 | 0.01 | 0.9465 |\n",
      "| Bag of Words | Random Search  |  Test |      l2      |    0.1     | 0.92 | 0.97 | 0.62 | 0.38 | 0.03 | 0.9088 |\n",
      "|    TFIDF     |  Grid Search   | Train |      l2      |    0.1     | 0.95 | 0.99 | 0.71 | 0.29 | 0.01 | 0.9444 |\n",
      "|    TFIDF     |  Grid Search   |  Test |      l2      |    0.1     | 0.92 | 0.97 | 0.58 | 0.42 | 0.03 | 0.9012 |\n",
      "|    TFIDF     | Random Search  | Train |      l2      |    0.1     | 0.95 | 0.99 | 0.71 | 0.29 | 0.01 | 0.9443 |\n",
      "|    TFIDF     | Random Search  |  Test |      l2      |    0.1     | 0.92 | 0.97 | 0.58 | 0.42 | 0.03 | 0.9007 |\n",
      "|   Avg. W2V   |  Grid Search   | Train |      l2      |   0.0001   | 0.91 | 0.98 | 0.45 | 0.55 | 0.02 | 0.8951 |\n",
      "|   Avg. W2V   |  Grid Search   |  Test |      l2      |   0.0001   | 0.9  | 0.97 | 0.45 | 0.55 | 0.03 | 0.8833 |\n",
      "|   Avg. W2V   | Random Search  | Train |      l2      |   0.0001   | 0.91 | 0.97 | 0.48 | 0.52 | 0.03 | 0.8923 |\n",
      "|   Avg. W2V   | Random Search  |  Test |      l2      |   0.0001   | 0.9  | 0.96 | 0.49 | 0.51 | 0.04 | 0.8827 |\n",
      "+--------------+----------------+-------+--------------+------------+------+------+------+------+------+--------+\n"
     ]
    },
    {
     "data": {
      "application/javascript": [
       "$(document).ready(\n",
       "    function() {\n",
       "        function appendUniqueDiv(){\n",
       "            // append a div with our uuid so we can check that it's already\n",
       "            // been sent and avoid duplicates on page reload\n",
       "            var notifiedDiv = document.createElement(\"div\")\n",
       "            notifiedDiv.id = \"79855bc1-184f-46f7-a7b7-d08ccbf88547\"\n",
       "            element.append(notifiedDiv)\n",
       "        }\n",
       "\n",
       "        // only send notifications if the pageload is complete; this will\n",
       "        // help stop extra notifications when a saved notebook is loaded,\n",
       "        // which during testing gives us state \"interactive\", not \"complete\"\n",
       "        if (document.readyState === 'complete') {\n",
       "            // check for the div that signifies that the notification\n",
       "            // was already sent\n",
       "            if (document.getElementById(\"79855bc1-184f-46f7-a7b7-d08ccbf88547\") === null) {\n",
       "                var notificationPayload = {\"requireInteraction\": false, \"icon\": \"/static/base/images/favicon.ico\", \"body\": \"Cell execution has finished!\"};\n",
       "                if (Notification.permission !== 'denied') {\n",
       "                    if (Notification.permission !== 'granted') { \n",
       "                        Notification.requestPermission(function (permission) {\n",
       "                            if(!('permission' in Notification)) {\n",
       "                                Notification.permission = permission\n",
       "                            }\n",
       "                        })\n",
       "                    }\n",
       "                    if (Notification.permission === 'granted') {\n",
       "                    var notification = new Notification(\"Jupyter Notebook\", notificationPayload)\n",
       "                    appendUniqueDiv()\n",
       "                    notification.onclick = function () {\n",
       "                        window.focus();\n",
       "                        this.close();\n",
       "                        };\n",
       "                    } \n",
       "                }     \n",
       "            }\n",
       "        }\n",
       "    }\n",
       ")\n"
      ],
      "text/plain": [
       "<IPython.core.display.Javascript object>"
      ]
     },
     "metadata": {},
     "output_type": "display_data"
    }
   ],
   "source": [
    "%%notify\n",
    "\n",
    "cm_w2v_train, cm_w2v_test = give_me_ratios(X_train_transformed_avgW2V_std, y_train, X_test_transformed_avgW2V_std, y_test, 'Avg. W2V','Random Search', table, clf_random, clf_random.best_params_['penalty'],clf_random.best_params_['alpha'])"
   ]
  },
  {
   "cell_type": "markdown",
   "metadata": {},
   "source": [
    "**Confusion Matrix | Avg. W2V | Random Search**"
   ]
  },
  {
   "cell_type": "code",
   "execution_count": 89,
   "metadata": {
    "colab": {},
    "colab_type": "code",
    "id": "rbroDFq_eUMY",
    "outputId": "58d78371-cebd-4737-83b5-3a8983e5c486"
   },
   "outputs": [
    {
     "data": {
      "image/png": "[encoded data removed]",
      "text/plain": [
       "<Figure size 1080x432 with 2 Axes>"
      ]
     },
     "metadata": {},
     "output_type": "display_data"
    }
   ],
   "source": [
    "plot_confusion_matrix(cm_w2v_train, cm_w2v_test, \"Avg. W2V | Random Search\")"
   ]
  },
  {
   "cell_type": "markdown",
   "metadata": {
    "colab_type": "text",
    "id": "xGlNWooMeUMa"
   },
   "source": [
    "## Tfidf weighted W2V\n",
    "\n",
    "In this last section, we apply SGDClassifier on vectors represented in the form of Tfidf weighted W2V."
   ]
  },
  {
   "cell_type": "code",
   "execution_count": 90,
   "metadata": {
    "colab": {},
    "colab_type": "code",
    "id": "dRTtrKGJeUMd",
    "outputId": "31e2efee-6848-4502-b9e8-f770f5a53586"
   },
   "outputs": [
    {
     "name": "stdout",
     "output_type": "stream",
     "text": [
      "The datatype of X_train_transformed_TfidfW2V is : <class 'numpy.ndarray'>\n",
      "The shape of X_train_transformed_TfidfW2V is : (291336, 50)\n"
     ]
    }
   ],
   "source": [
    "# f = open(r'D:\\data_science\\datasets\\amazon2\\X_train_transformed_TfidfWeightedW2V_full80_20_nparray.pkl', 'rb')\n",
    "f = open('/home/ucanreachtvk/data/X_train_transformed_TfidfWeightedW2V_full80_20_nparray.pkl', 'rb')\n",
    "X_train_transformed_TfidfW2V = pickle.load(f)\n",
    "f.close()\n",
    "print('The datatype of X_train_transformed_TfidfW2V is : {}'.format(type(X_train_transformed_TfidfW2V)))\n",
    "print('The shape of X_train_transformed_TfidfW2V is : {}'.format(X_train_transformed_TfidfW2V.shape))"
   ]
  },
  {
   "cell_type": "code",
   "execution_count": 91,
   "metadata": {
    "colab": {},
    "colab_type": "code",
    "id": "ic8s_tn2eUMh",
    "outputId": "0e292057-bdb0-498f-8e04-d3c8b0f083ab"
   },
   "outputs": [
    {
     "name": "stdout",
     "output_type": "stream",
     "text": [
      "The datatype of X_test_transformed_TfidfW2V is : <class 'numpy.ndarray'>\n",
      "The shape of X_train_transformed_TfidfW2V is : (72835, 50)\n"
     ]
    }
   ],
   "source": [
    "# f = open(r'D:\\data_science\\datasets\\amazon2\\X_test_transformed_TfidfWeightedW2V_full80_20_nparray.pkl', 'rb')\n",
    "f = open('/home/ucanreachtvk/data/X_test_transformed_TfidfWeightedW2V_full80_20_nparray.pkl', 'rb')\n",
    "X_test_transformed_TfidfW2V = pickle.load(f)\n",
    "f.close()\n",
    "print('The datatype of X_test_transformed_TfidfW2V is : {}'.format(type(X_test_transformed_TfidfW2V)))\n",
    "print('The shape of X_train_transformed_TfidfW2V is : {}'.format(X_test_transformed_TfidfW2V.shape))"
   ]
  },
  {
   "cell_type": "markdown",
   "metadata": {
    "colab_type": "text",
    "id": "1GJKiDlYeUMl"
   },
   "source": [
    "**Standardize data**"
   ]
  },
  {
   "cell_type": "code",
   "execution_count": 92,
   "metadata": {
    "colab": {},
    "colab_type": "code",
    "id": "MrNSsQxSeUMq"
   },
   "outputs": [],
   "source": [
    "scaler = StandardScaler(with_mean = True)\n",
    "X_train_transformed_TfidfW2V_std = scaler.fit_transform(X_train_transformed_TfidfW2V)"
   ]
  },
  {
   "cell_type": "code",
   "execution_count": 93,
   "metadata": {
    "colab": {},
    "colab_type": "code",
    "id": "jbN3XqYWeUMv"
   },
   "outputs": [],
   "source": [
    "X_test_transformed_TfidfW2V_std = scaler.transform(X_test_transformed_TfidfW2V)"
   ]
  },
  {
   "cell_type": "markdown",
   "metadata": {
    "colab_type": "text",
    "id": "5kVnwxHBeUMz"
   },
   "source": [
    "**GridSearch | Tfidf Weighted W2V**"
   ]
  },
  {
   "cell_type": "code",
   "execution_count": 94,
   "metadata": {
    "colab": {},
    "colab_type": "code",
    "id": "UrDLFDFheUMz"
   },
   "outputs": [],
   "source": [
    "clf_grid = GridSearch(X_train_transformed_TfidfW2V_std)"
   ]
  },
  {
   "cell_type": "code",
   "execution_count": 95,
   "metadata": {
    "colab": {},
    "colab_type": "code",
    "id": "oepudlcUeUM2",
    "scrolled": false
   },
   "outputs": [
    {
     "name": "stdout",
     "output_type": "stream",
     "text": [
      "CPU times: user 1.78 s, sys: 87.7 ms, total: 1.87 s\n",
      "Wall time: 7.52 s\n"
     ]
    },
    {
     "data": {
      "text/plain": [
       "GridSearchCV(cv=<generator object TimeSeriesSplit.split at 0x7fed380494c0>,\n",
       "       error_score='raise-deprecating',\n",
       "       estimator=SGDClassifier(alpha=0.0001, average=False, class_weight=None,\n",
       "       early_stopping=False, epsilon=0.1, eta0=0.0, fit_intercept=True,\n",
       "       l1_ratio=0.15, learning_rate='optimal', loss='hinge', max_iter=None,\n",
       "       n_iter=None, n_iter_no_change=5, n_jobs=None, penalty='l2',\n",
       "       power_t=0.5, random_state=None, shuffle=True, tol=None,\n",
       "       validation_fraction=0.1, verbose=0, warm_start=False),\n",
       "       fit_params=None, iid='warn', n_jobs=12,\n",
       "       param_grid={'penalty': ['l1', 'l2'], 'alpha': [0.0001, 0.001, 0.01, 0.1, 1, 10, 100, 1000]},\n",
       "       pre_dispatch='2*n_jobs', refit=True, return_train_score=True,\n",
       "       scoring=None, verbose=0)"
      ]
     },
     "execution_count": 95,
     "metadata": {},
     "output_type": "execute_result"
    },
    {
     "data": {
      "application/javascript": [
       "$(document).ready(\n",
       "    function() {\n",
       "        function appendUniqueDiv(){\n",
       "            // append a div with our uuid so we can check that it's already\n",
       "            // been sent and avoid duplicates on page reload\n",
       "            var notifiedDiv = document.createElement(\"div\")\n",
       "            notifiedDiv.id = \"3a4647ad-a23d-4154-8fc3-69115edb9b8f\"\n",
       "            element.append(notifiedDiv)\n",
       "        }\n",
       "\n",
       "        // only send notifications if the pageload is complete; this will\n",
       "        // help stop extra notifications when a saved notebook is loaded,\n",
       "        // which during testing gives us state \"interactive\", not \"complete\"\n",
       "        if (document.readyState === 'complete') {\n",
       "            // check for the div that signifies that the notification\n",
       "            // was already sent\n",
       "            if (document.getElementById(\"3a4647ad-a23d-4154-8fc3-69115edb9b8f\") === null) {\n",
       "                var notificationPayload = {\"requireInteraction\": false, \"icon\": \"/static/base/images/favicon.ico\", \"body\": \"Cell execution has finished!\"};\n",
       "                if (Notification.permission !== 'denied') {\n",
       "                    if (Notification.permission !== 'granted') { \n",
       "                        Notification.requestPermission(function (permission) {\n",
       "                            if(!('permission' in Notification)) {\n",
       "                                Notification.permission = permission\n",
       "                            }\n",
       "                        })\n",
       "                    }\n",
       "                    if (Notification.permission === 'granted') {\n",
       "                    var notification = new Notification(\"Jupyter Notebook\", notificationPayload)\n",
       "                    appendUniqueDiv()\n",
       "                    notification.onclick = function () {\n",
       "                        window.focus();\n",
       "                        this.close();\n",
       "                        };\n",
       "                    } \n",
       "                }     \n",
       "            }\n",
       "        }\n",
       "    }\n",
       ")\n"
      ],
      "text/plain": [
       "<IPython.core.display.Javascript object>"
      ]
     },
     "metadata": {},
     "output_type": "display_data"
    }
   ],
   "source": [
    "%%notify\n",
    "%%time\n",
    "\n",
    "clf_grid.fit(X_train_transformed_TfidfW2V_std, y_train)"
   ]
  },
  {
   "cell_type": "markdown",
   "metadata": {},
   "source": [
    "**Heatmap | Tfidf wt. W2V | Grid Search**"
   ]
  },
  {
   "cell_type": "code",
   "execution_count": 96,
   "metadata": {
    "colab": {},
    "colab_type": "code",
    "id": "OO1woAJteUM-",
    "outputId": "16eab512-bb1d-488b-85f7-995ebee7e666"
   },
   "outputs": [
    {
     "data": {
      "image/png": "[encoded data removed]",
      "text/plain": [
       "<Figure size 1080x432 with 2 Axes>"
      ]
     },
     "metadata": {},
     "output_type": "display_data"
    }
   ],
   "source": [
    "heatmap(penalty_alpha_score(clf_grid.cv_results_), vector_type='Tfidf weighted W2V', search_type='Grid Search')"
   ]
  },
  {
   "cell_type": "markdown",
   "metadata": {},
   "source": [
    "**Ratios | Tfidf wt. W2V | Grid Search**"
   ]
  },
  {
   "cell_type": "code",
   "execution_count": 97,
   "metadata": {
    "colab": {},
    "colab_type": "code",
    "id": "5cJco8NXeUNB",
    "outputId": "c09c992c-6020-4d06-d214-954d772df322"
   },
   "outputs": [
    {
     "name": "stdout",
     "output_type": "stream",
     "text": [
      "+---------------+----------------+-------+--------------+------------+------+------+------+------+------+--------+\n",
      "|  Vector Type  | Parameter Srch |  Data | Best penalty | Best alpha | Prec | Rec  | TNR  | FPR  | FNR  |  Acc   |\n",
      "+---------------+----------------+-------+--------------+------------+------+------+------+------+------+--------+\n",
      "|  Bag of Words |  Grid Search   | Train |      l2      |    0.1     | 0.95 | 0.99 | 0.72 | 0.28 | 0.01 | 0.9461 |\n",
      "|  Bag of Words |  Grid Search   |  Test |      l2      |    0.1     | 0.92 | 0.97 | 0.61 | 0.39 | 0.03 | 0.9085 |\n",
      "|  Bag of Words | Random Search  | Train |      l2      |    0.1     | 0.95 | 0.99 | 0.72 | 0.28 | 0.01 | 0.9465 |\n",
      "|  Bag of Words | Random Search  |  Test |      l2      |    0.1     | 0.92 | 0.97 | 0.62 | 0.38 | 0.03 | 0.9088 |\n",
      "|     TFIDF     |  Grid Search   | Train |      l2      |    0.1     | 0.95 | 0.99 | 0.71 | 0.29 | 0.01 | 0.9444 |\n",
      "|     TFIDF     |  Grid Search   |  Test |      l2      |    0.1     | 0.92 | 0.97 | 0.58 | 0.42 | 0.03 | 0.9012 |\n",
      "|     TFIDF     | Random Search  | Train |      l2      |    0.1     | 0.95 | 0.99 | 0.71 | 0.29 | 0.01 | 0.9443 |\n",
      "|     TFIDF     | Random Search  |  Test |      l2      |    0.1     | 0.92 | 0.97 | 0.58 | 0.42 | 0.03 | 0.9007 |\n",
      "|    Avg. W2V   |  Grid Search   | Train |      l2      |   0.0001   | 0.91 | 0.98 | 0.45 | 0.55 | 0.02 | 0.8951 |\n",
      "|    Avg. W2V   |  Grid Search   |  Test |      l2      |   0.0001   | 0.9  | 0.97 | 0.45 | 0.55 | 0.03 | 0.8833 |\n",
      "|    Avg. W2V   | Random Search  | Train |      l2      |   0.0001   | 0.91 | 0.97 | 0.48 | 0.52 | 0.03 | 0.8923 |\n",
      "|    Avg. W2V   | Random Search  |  Test |      l2      |   0.0001   | 0.9  | 0.96 | 0.49 | 0.51 | 0.04 | 0.8827 |\n",
      "| Tfidf wt. W2V |  Grid Search   | Train |      l2      |   0.001    | 0.9  | 0.98 | 0.37 | 0.63 | 0.02 | 0.8842 |\n",
      "| Tfidf wt. W2V |  Grid Search   |  Test |      l2      |   0.001    | 0.84 | 0.87 | 0.23 | 0.77 | 0.13 | 0.7594 |\n",
      "+---------------+----------------+-------+--------------+------------+------+------+------+------+------+--------+\n"
     ]
    }
   ],
   "source": [
    "cm_tfidfw2v_train, cm_tfidfw2v_test = give_me_ratios(X_train_transformed_TfidfW2V_std, y_train, X_test_transformed_TfidfW2V_std, y_test, 'Tfidf wt. W2V','Grid Search', table, clf_grid, clf_grid.best_params_['penalty'],clf_grid.best_params_['alpha'])"
   ]
  },
  {
   "cell_type": "markdown",
   "metadata": {},
   "source": [
    "**Confusion Matrix | Tfidf wt. W2V | Grid Search**"
   ]
  },
  {
   "cell_type": "code",
   "execution_count": 98,
   "metadata": {
    "colab": {},
    "colab_type": "code",
    "id": "ij2sR-rieUNE",
    "outputId": "96041f20-d6e6-474a-d8e9-753dab618593"
   },
   "outputs": [
    {
     "data": {
      "image/png": "[encoded data removed]",
      "text/plain": [
       "<Figure size 1080x432 with 2 Axes>"
      ]
     },
     "metadata": {},
     "output_type": "display_data"
    }
   ],
   "source": [
    "plot_confusion_matrix(cm_tfidfw2v_train, cm_tfidfw2v_test, \"Tfidf weighted W2V | Grid Search\")"
   ]
  },
  {
   "cell_type": "markdown",
   "metadata": {
    "colab_type": "text",
    "id": "YyfCNdd1eUNF"
   },
   "source": [
    "**Random Search | Tfidf Weighted W2V**"
   ]
  },
  {
   "cell_type": "code",
   "execution_count": 99,
   "metadata": {
    "colab": {},
    "colab_type": "code",
    "id": "PVPxyaGVeUNG"
   },
   "outputs": [],
   "source": [
    "clf_random = GridSearch(X_train_transformed_TfidfW2V_std)"
   ]
  },
  {
   "cell_type": "code",
   "execution_count": 100,
   "metadata": {
    "colab": {},
    "colab_type": "code",
    "id": "Tk0kpGwNeUNK",
    "scrolled": true
   },
   "outputs": [
    {
     "name": "stdout",
     "output_type": "stream",
     "text": [
      "CPU times: user 1.86 s, sys: 103 ms, total: 1.97 s\n",
      "Wall time: 7.57 s\n"
     ]
    },
    {
     "data": {
      "text/plain": [
       "GridSearchCV(cv=<generator object TimeSeriesSplit.split at 0x7fed38049fc0>,\n",
       "       error_score='raise-deprecating',\n",
       "       estimator=SGDClassifier(alpha=0.0001, average=False, class_weight=None,\n",
       "       early_stopping=False, epsilon=0.1, eta0=0.0, fit_intercept=True,\n",
       "       l1_ratio=0.15, learning_rate='optimal', loss='hinge', max_iter=None,\n",
       "       n_iter=None, n_iter_no_change=5, n_jobs=None, penalty='l2',\n",
       "       power_t=0.5, random_state=None, shuffle=True, tol=None,\n",
       "       validation_fraction=0.1, verbose=0, warm_start=False),\n",
       "       fit_params=None, iid='warn', n_jobs=12,\n",
       "       param_grid={'penalty': ['l1', 'l2'], 'alpha': [0.0001, 0.001, 0.01, 0.1, 1, 10, 100, 1000]},\n",
       "       pre_dispatch='2*n_jobs', refit=True, return_train_score=True,\n",
       "       scoring=None, verbose=0)"
      ]
     },
     "execution_count": 100,
     "metadata": {},
     "output_type": "execute_result"
    },
    {
     "data": {
      "application/javascript": [
       "$(document).ready(\n",
       "    function() {\n",
       "        function appendUniqueDiv(){\n",
       "            // append a div with our uuid so we can check that it's already\n",
       "            // been sent and avoid duplicates on page reload\n",
       "            var notifiedDiv = document.createElement(\"div\")\n",
       "            notifiedDiv.id = \"9c043bea-241b-4cd2-a0f6-4b347ad816b5\"\n",
       "            element.append(notifiedDiv)\n",
       "        }\n",
       "\n",
       "        // only send notifications if the pageload is complete; this will\n",
       "        // help stop extra notifications when a saved notebook is loaded,\n",
       "        // which during testing gives us state \"interactive\", not \"complete\"\n",
       "        if (document.readyState === 'complete') {\n",
       "            // check for the div that signifies that the notification\n",
       "            // was already sent\n",
       "            if (document.getElementById(\"9c043bea-241b-4cd2-a0f6-4b347ad816b5\") === null) {\n",
       "                var notificationPayload = {\"requireInteraction\": false, \"icon\": \"/static/base/images/favicon.ico\", \"body\": \"Cell execution has finished!\"};\n",
       "                if (Notification.permission !== 'denied') {\n",
       "                    if (Notification.permission !== 'granted') { \n",
       "                        Notification.requestPermission(function (permission) {\n",
       "                            if(!('permission' in Notification)) {\n",
       "                                Notification.permission = permission\n",
       "                            }\n",
       "                        })\n",
       "                    }\n",
       "                    if (Notification.permission === 'granted') {\n",
       "                    var notification = new Notification(\"Jupyter Notebook\", notificationPayload)\n",
       "                    appendUniqueDiv()\n",
       "                    notification.onclick = function () {\n",
       "                        window.focus();\n",
       "                        this.close();\n",
       "                        };\n",
       "                    } \n",
       "                }     \n",
       "            }\n",
       "        }\n",
       "    }\n",
       ")\n"
      ],
      "text/plain": [
       "<IPython.core.display.Javascript object>"
      ]
     },
     "metadata": {},
     "output_type": "display_data"
    }
   ],
   "source": [
    "%%notify\n",
    "%%time\n",
    "\n",
    "clf_random.fit(X_train_transformed_TfidfW2V_std, y_train)"
   ]
  },
  {
   "cell_type": "markdown",
   "metadata": {},
   "source": [
    "**Heatmap | Tfidf wt. W2V | Random Search**"
   ]
  },
  {
   "cell_type": "code",
   "execution_count": 101,
   "metadata": {
    "colab": {},
    "colab_type": "code",
    "id": "fdo85YkReUNP",
    "outputId": "13edce54-d214-4f9d-bdb6-547b5303c20f"
   },
   "outputs": [
    {
     "data": {
      "image/png": "[encoded data removed]",
      "text/plain": [
       "<Figure size 1080x432 with 2 Axes>"
      ]
     },
     "metadata": {},
     "output_type": "display_data"
    }
   ],
   "source": [
    "heatmap(penalty_alpha_score(clf_random.cv_results_), vector_type='Tfidf weighted W2V', search_type='Random Search')"
   ]
  },
  {
   "cell_type": "markdown",
   "metadata": {},
   "source": [
    "**Ratios | Tfidf wt. W2V | Random Search**"
   ]
  },
  {
   "cell_type": "code",
   "execution_count": 102,
   "metadata": {
    "colab": {},
    "colab_type": "code",
    "id": "l0pkBFQSeUNU",
    "outputId": "e856e4e3-283a-4fd2-ae6c-f016d9ef9c08"
   },
   "outputs": [
    {
     "name": "stdout",
     "output_type": "stream",
     "text": [
      "+---------------+----------------+-------+--------------+------------+------+------+------+------+------+--------+\n",
      "|  Vector Type  | Parameter Srch |  Data | Best penalty | Best alpha | Prec | Rec  | TNR  | FPR  | FNR  |  Acc   |\n",
      "+---------------+----------------+-------+--------------+------------+------+------+------+------+------+--------+\n",
      "|  Bag of Words |  Grid Search   | Train |      l2      |    0.1     | 0.95 | 0.99 | 0.72 | 0.28 | 0.01 | 0.9461 |\n",
      "|  Bag of Words |  Grid Search   |  Test |      l2      |    0.1     | 0.92 | 0.97 | 0.61 | 0.39 | 0.03 | 0.9085 |\n",
      "|  Bag of Words | Random Search  | Train |      l2      |    0.1     | 0.95 | 0.99 | 0.72 | 0.28 | 0.01 | 0.9465 |\n",
      "|  Bag of Words | Random Search  |  Test |      l2      |    0.1     | 0.92 | 0.97 | 0.62 | 0.38 | 0.03 | 0.9088 |\n",
      "|     TFIDF     |  Grid Search   | Train |      l2      |    0.1     | 0.95 | 0.99 | 0.71 | 0.29 | 0.01 | 0.9444 |\n",
      "|     TFIDF     |  Grid Search   |  Test |      l2      |    0.1     | 0.92 | 0.97 | 0.58 | 0.42 | 0.03 | 0.9012 |\n",
      "|     TFIDF     | Random Search  | Train |      l2      |    0.1     | 0.95 | 0.99 | 0.71 | 0.29 | 0.01 | 0.9443 |\n",
      "|     TFIDF     | Random Search  |  Test |      l2      |    0.1     | 0.92 | 0.97 | 0.58 | 0.42 | 0.03 | 0.9007 |\n",
      "|    Avg. W2V   |  Grid Search   | Train |      l2      |   0.0001   | 0.91 | 0.98 | 0.45 | 0.55 | 0.02 | 0.8951 |\n",
      "|    Avg. W2V   |  Grid Search   |  Test |      l2      |   0.0001   | 0.9  | 0.97 | 0.45 | 0.55 | 0.03 | 0.8833 |\n",
      "|    Avg. W2V   | Random Search  | Train |      l2      |   0.0001   | 0.91 | 0.97 | 0.48 | 0.52 | 0.03 | 0.8923 |\n",
      "|    Avg. W2V   | Random Search  |  Test |      l2      |   0.0001   | 0.9  | 0.96 | 0.49 | 0.51 | 0.04 | 0.8827 |\n",
      "| Tfidf wt. W2V |  Grid Search   | Train |      l2      |   0.001    | 0.9  | 0.98 | 0.37 | 0.63 | 0.02 | 0.8842 |\n",
      "| Tfidf wt. W2V |  Grid Search   |  Test |      l2      |   0.001    | 0.84 | 0.87 | 0.23 | 0.77 | 0.13 | 0.7594 |\n",
      "| Tfidf wt. W2V | Random Search  | Train |      l2      |   0.001    | 0.9  | 0.98 | 0.38 | 0.62 | 0.02 | 0.8845 |\n",
      "| Tfidf wt. W2V | Random Search  |  Test |      l2      |   0.001    | 0.84 | 0.89 | 0.2  | 0.8  | 0.11 | 0.7712 |\n",
      "+---------------+----------------+-------+--------------+------------+------+------+------+------+------+--------+\n"
     ]
    }
   ],
   "source": [
    "cm_tfidfw2v_train, cm_tfidfw2v_test =  give_me_ratios(X_train_transformed_TfidfW2V_std, y_train, X_test_transformed_TfidfW2V_std, y_test, 'Tfidf wt. W2V','Random Search', table, clf_random, clf_random.best_params_['penalty'],clf_random.best_params_['alpha'])"
   ]
  },
  {
   "cell_type": "markdown",
   "metadata": {},
   "source": [
    "**Confusion Matrix | Tfidf wt. W2V | Random Search**"
   ]
  },
  {
   "cell_type": "code",
   "execution_count": 103,
   "metadata": {
    "colab": {},
    "colab_type": "code",
    "id": "CV1f1m_0eUNW",
    "outputId": "1c4e5ee1-504c-43b3-99b7-38d8ba46c9d5"
   },
   "outputs": [
    {
     "data": {
      "image/png": "[encoded data removed]",
      "text/plain": [
       "<Figure size 1080x432 with 2 Axes>"
      ]
     },
     "metadata": {},
     "output_type": "display_data"
    }
   ],
   "source": [
    "plot_confusion_matrix(cm_tfidfw2v_train, cm_tfidfw2v_test, \"Tfidf weighted W2V | Random Search\")"
   ]
  },
  {
   "cell_type": "markdown",
   "metadata": {
    "colab_type": "text",
    "id": "8GxUPtGieUNZ"
   },
   "source": [
    "### Conclusion:\n",
    "\n",
    "* Applied SGDClassifer on amazon food reviews for various vector representations.\n",
    "\n",
    "* Found the best penalty and alpha using GridSearch and RandomizedSearch. \n",
    "* Plotted the confusion matrix for train and test data and also calculated several important ratios based on it such as Precision, Recall, FNR, etc.\n",
    "\n",
    "* Compared to SVM with 'rbf' kernel, the SGDClassifer was not found to have any significant advantage in terms of precision, recall or accuracy. But Being a linear classifier, SGDClassifier is much faster compared to SVM with 'rbf'."
   ]
  }
 ],
 "metadata": {
  "colab": {
   "collapsed_sections": [],
   "name": "Logistic Regression on Amazon Reviews.ipynb",
   "provenance": [],
   "version": "0.3.2"
  },
  "kernelspec": {
   "display_name": "Python 3",
   "language": "python",
   "name": "python3"
  },
  "language_info": {
   "codemirror_mode": {
    "name": "ipython",
    "version": 3
   },
   "file_extension": ".py",
   "mimetype": "text/x-python",
   "name": "python",
   "nbconvert_exporter": "python",
   "pygments_lexer": "ipython3",
   "version": "3.6.4"
  }
 },
 "nbformat": 4,
 "nbformat_minor": 1
}
