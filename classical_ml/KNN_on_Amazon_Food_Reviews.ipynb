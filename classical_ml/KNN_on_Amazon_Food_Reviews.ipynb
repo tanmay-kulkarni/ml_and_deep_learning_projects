{
  "nbformat": 4,
  "nbformat_minor": 0,
  "metadata": {
    "colab": {
      "name": "Copy_of_KNN_on_Amazon_Food_Reviews_GCP.ipynb",
      "version": "0.3.2",
      "provenance": [],
      "collapsed_sections": []
    },
    "kernelspec": {
      "display_name": "Python 3",
      "language": "python",
      "name": "python3"
    },
    "accelerator": "GPU"
  },
  "cells": [
    {
      "metadata": {
        "id": "wUZaOs0M24Z1",
        "colab_type": "text"
      },
      "cell_type": "markdown",
      "source": [
        "# Objective:\n",
        "\n",
        "**To classify food reviews into positive or negative using K Nearest Neghbors algorithm.**\n",
        "\n",
        "This is a continuation of my ongoing study of the Amazon Food Reviews data available on Kaggle. Let's see how KNN performs on this dataset.\n",
        "\n",
        "We'll try both **brute** and **kd_tree** algorithm for each of the vector representations of text reviews, i.e. for\n",
        "\n",
        "* Bag of Words\n",
        "* Tfidf\n",
        "* Avg. W2V\n",
        "* Tfidf weighted W2V\n",
        "\n",
        "We'll select the best parameters by performing Grid Search on a bunch of values of **n_neighbors** and **weight** hyperparameters."
      ]
    },
    {
      "metadata": {
        "id": "nxgae_Etif5g",
        "colab_type": "code",
        "colab": {},
        "outputId": "48c31f1a-5014-4b59-bfd6-10169bbd8442"
      },
      "cell_type": "code",
      "source": [
        "%load_ext jupyternotify"
      ],
      "execution_count": 0,
      "outputs": [
        {
          "output_type": "display_data",
          "data": {
            "application/javascript": [
              "if (!(\"Notification\" in window)) {\n",
              "    alert(\"This browser does not support desktop notifications, so the %%notify magic will not work.\");\n",
              "} else if (Notification.permission !== 'granted' && Notification.permission !== 'denied') {\n",
              "    Notification.requestPermission(function (permission) {\n",
              "        if(!('permission' in Notification)) {\n",
              "            Notification.permission = permission;\n",
              "        }\n",
              "    })\n",
              "}\n"
            ],
            "text/plain": [
              "<IPython.core.display.Javascript object>"
            ]
          },
          "metadata": {
            "tags": []
          }
        }
      ]
    },
    {
      "metadata": {
        "id": "9c3JYceecJ2x",
        "colab_type": "code",
        "colab": {}
      },
      "cell_type": "code",
      "source": [
        "import pandas as pd\n",
        "import matplotlib.pyplot as plt\n",
        "import numpy as np\n",
        "import seaborn as sbn\n",
        "from google.colab import drive\n",
        "import os\n",
        "import sqlite3\n",
        "from sklearn.model_selection import train_test_split\n",
        "from sklearn.feature_extraction.text import CountVectorizer\n",
        "from sklearn.neighbors import KNeighborsClassifier\n",
        "from sklearn.model_selection import GridSearchCV\n",
        "from sklearn.model_selection import TimeSeriesSplit\n",
        "from sklearn.feature_extraction.text import TfidfVectorizer\n",
        "from sklearn.decomposition import TruncatedSVD\n",
        "from sklearn.metrics import recall_score, precision_score, confusion_matrix\n",
        "from sklearn.preprocessing import StandardScaler"
      ],
      "execution_count": 0,
      "outputs": []
    },
    {
      "metadata": {
        "id": "kBWKKDSmc_fi",
        "colab_type": "text"
      },
      "cell_type": "markdown",
      "source": [
        "Connect to google drive to load the cleaned dataframe."
      ]
    },
    {
      "metadata": {
        "id": "fyQaTBHodMGL",
        "colab_type": "code",
        "colab": {}
      },
      "cell_type": "code",
      "source": [
        "drive.mount('/gdrive')"
      ],
      "execution_count": 0,
      "outputs": []
    },
    {
      "metadata": {
        "id": "ZGlKXLhF38FS",
        "colab_type": "text"
      },
      "cell_type": "markdown",
      "source": [
        "I had stored a dataframe with cleaned text reviews from the last excercise on my Google Drive. So there's no need to perform data cleaning again. The column 'cleaned_text' is free from stopwords, punctuation marks, HTML tags, and duplicate entries.\n",
        "\n",
        "I simply need to load it. Let's do that by connecting this Google Colab environment with my Google Drive."
      ]
    },
    {
      "metadata": {
        "id": "dCnEIyjQdTfp",
        "colab_type": "code",
        "colab": {}
      },
      "cell_type": "code",
      "source": [
        "os.listdir('/gdrive/My Drive/amazon')"
      ],
      "execution_count": 0,
      "outputs": []
    },
    {
      "metadata": {
        "id": "BqemSbdQd1e6",
        "colab_type": "code",
        "colab": {
          "base_uri": "https://localhost:8080/",
          "height": 361
        },
        "outputId": "137f7f44-06ba-4089-b765-f48b7ecec703"
      },
      "cell_type": "code",
      "source": [
        "#con = sqlite3.connect(r'C:\\Users\\ucanr\\Downloads\\reviews_cleaned_final.sqlite')\n",
        "con = sqlite3.connect('/gdrive/My Drive/amazon/reviews_cleaned_final.sqlite')\n",
        "#con = sqlite3.connect('/home/ucanreachtvk/data/reviews_cleaned_final.sqlite')\n",
        "df_full_clean = pd.read_sql('select * from Reviews;', con)\n",
        "df_full_clean.head(3)"
      ],
      "execution_count": 0,
      "outputs": [
        {
          "output_type": "execute_result",
          "data": {
            "text/html": [
              "<div>\n",
              "<style scoped>\n",
              "    .dataframe tbody tr th:only-of-type {\n",
              "        vertical-align: middle;\n",
              "    }\n",
              "\n",
              "    .dataframe tbody tr th {\n",
              "        vertical-align: top;\n",
              "    }\n",
              "\n",
              "    .dataframe thead th {\n",
              "        text-align: right;\n",
              "    }\n",
              "</style>\n",
              "<table border=\"1\" class=\"dataframe\">\n",
              "  <thead>\n",
              "    <tr style=\"text-align: right;\">\n",
              "      <th></th>\n",
              "      <th>index</th>\n",
              "      <th>Id</th>\n",
              "      <th>ProductId</th>\n",
              "      <th>UserId</th>\n",
              "      <th>ProfileName</th>\n",
              "      <th>HelpfulnessNumerator</th>\n",
              "      <th>HelpfulnessDenominator</th>\n",
              "      <th>Score</th>\n",
              "      <th>Time</th>\n",
              "      <th>Summary</th>\n",
              "      <th>Text</th>\n",
              "      <th>cleaned_text</th>\n",
              "    </tr>\n",
              "  </thead>\n",
              "  <tbody>\n",
              "    <tr>\n",
              "      <th>0</th>\n",
              "      <td>0</td>\n",
              "      <td>1</td>\n",
              "      <td>B001E4KFG0</td>\n",
              "      <td>A3SGXH7AUHU8GW</td>\n",
              "      <td>delmartian</td>\n",
              "      <td>1</td>\n",
              "      <td>1</td>\n",
              "      <td>positive</td>\n",
              "      <td>1303862400</td>\n",
              "      <td>Good Quality Dog Food</td>\n",
              "      <td>I have bought several of the Vitality canned d...</td>\n",
              "      <td>b'bought sever vital can dog food product foun...</td>\n",
              "    </tr>\n",
              "    <tr>\n",
              "      <th>1</th>\n",
              "      <td>1</td>\n",
              "      <td>2</td>\n",
              "      <td>B00813GRG4</td>\n",
              "      <td>A1D87F6ZCVE5NK</td>\n",
              "      <td>dll pa</td>\n",
              "      <td>0</td>\n",
              "      <td>0</td>\n",
              "      <td>negative</td>\n",
              "      <td>1346976000</td>\n",
              "      <td>Not as Advertised</td>\n",
              "      <td>Product arrived labeled as Jumbo Salted Peanut...</td>\n",
              "      <td>b'product arriv label jumbo salt peanut peanut...</td>\n",
              "    </tr>\n",
              "    <tr>\n",
              "      <th>2</th>\n",
              "      <td>2</td>\n",
              "      <td>3</td>\n",
              "      <td>B000LQOCH0</td>\n",
              "      <td>ABXLMWJIXXAIN</td>\n",
              "      <td>Natalia Corres \"Natalia Corres\"</td>\n",
              "      <td>1</td>\n",
              "      <td>1</td>\n",
              "      <td>positive</td>\n",
              "      <td>1219017600</td>\n",
              "      <td>\"Delight\" says it all</td>\n",
              "      <td>This is a confection that has been around a fe...</td>\n",
              "      <td>b'confect around centuri light pillowi citru g...</td>\n",
              "    </tr>\n",
              "  </tbody>\n",
              "</table>\n",
              "</div>"
            ],
            "text/plain": [
              "   index  Id   ProductId          UserId                      ProfileName  \\\n",
              "0      0   1  B001E4KFG0  A3SGXH7AUHU8GW                       delmartian   \n",
              "1      1   2  B00813GRG4  A1D87F6ZCVE5NK                           dll pa   \n",
              "2      2   3  B000LQOCH0   ABXLMWJIXXAIN  Natalia Corres \"Natalia Corres\"   \n",
              "\n",
              "   HelpfulnessNumerator  HelpfulnessDenominator     Score        Time  \\\n",
              "0                     1                       1  positive  1303862400   \n",
              "1                     0                       0  negative  1346976000   \n",
              "2                     1                       1  positive  1219017600   \n",
              "\n",
              "                 Summary                                               Text  \\\n",
              "0  Good Quality Dog Food  I have bought several of the Vitality canned d...   \n",
              "1      Not as Advertised  Product arrived labeled as Jumbo Salted Peanut...   \n",
              "2  \"Delight\" says it all  This is a confection that has been around a fe...   \n",
              "\n",
              "                                        cleaned_text  \n",
              "0  b'bought sever vital can dog food product foun...  \n",
              "1  b'product arriv label jumbo salt peanut peanut...  \n",
              "2  b'confect around centuri light pillowi citru g...  "
            ]
          },
          "metadata": {
            "tags": []
          },
          "execution_count": 3
        }
      ]
    },
    {
      "metadata": {
        "id": "XtcPgtqhfRRc",
        "colab_type": "text"
      },
      "cell_type": "markdown",
      "source": [
        "### Sorting by Timestamp\n",
        "\n",
        "The reviews are likely to have a temporal structure. If we train our model on randomly sampled data, this structural information will be lost. Therefore, sort the dataframe by timestamp and select a subset from it from a contiguous timespan.\n",
        "\n",
        "I'll use TimeSeriesSplit() to split the data for cross validation."
      ]
    },
    {
      "metadata": {
        "id": "Vi8e30vdemRk",
        "colab_type": "code",
        "colab": {
          "base_uri": "https://localhost:8080/",
          "height": 445
        },
        "outputId": "ca707756-87c6-429f-916c-ce998f615dd4"
      },
      "cell_type": "code",
      "source": [
        "df_full_clean.sort_values(by=['Time'], ascending=True, inplace=True)\n",
        "df_full_clean.head(4)"
      ],
      "execution_count": 0,
      "outputs": [
        {
          "output_type": "execute_result",
          "data": {
            "text/html": [
              "<div>\n",
              "<style scoped>\n",
              "    .dataframe tbody tr th:only-of-type {\n",
              "        vertical-align: middle;\n",
              "    }\n",
              "\n",
              "    .dataframe tbody tr th {\n",
              "        vertical-align: top;\n",
              "    }\n",
              "\n",
              "    .dataframe thead th {\n",
              "        text-align: right;\n",
              "    }\n",
              "</style>\n",
              "<table border=\"1\" class=\"dataframe\">\n",
              "  <thead>\n",
              "    <tr style=\"text-align: right;\">\n",
              "      <th></th>\n",
              "      <th>index</th>\n",
              "      <th>Id</th>\n",
              "      <th>ProductId</th>\n",
              "      <th>UserId</th>\n",
              "      <th>ProfileName</th>\n",
              "      <th>HelpfulnessNumerator</th>\n",
              "      <th>HelpfulnessDenominator</th>\n",
              "      <th>Score</th>\n",
              "      <th>Time</th>\n",
              "      <th>Summary</th>\n",
              "      <th>Text</th>\n",
              "      <th>cleaned_text</th>\n",
              "    </tr>\n",
              "  </thead>\n",
              "  <tbody>\n",
              "    <tr>\n",
              "      <th>117924</th>\n",
              "      <td>138706</td>\n",
              "      <td>150524</td>\n",
              "      <td>0006641040</td>\n",
              "      <td>ACITT7DI6IDDL</td>\n",
              "      <td>shari zychinski</td>\n",
              "      <td>0</td>\n",
              "      <td>0</td>\n",
              "      <td>positive</td>\n",
              "      <td>939340800</td>\n",
              "      <td>EVERY book is educational</td>\n",
              "      <td>this witty little book makes my son laugh at l...</td>\n",
              "      <td>b'witti littl book make son laugh loud recit c...</td>\n",
              "    </tr>\n",
              "    <tr>\n",
              "      <th>117901</th>\n",
              "      <td>138683</td>\n",
              "      <td>150501</td>\n",
              "      <td>0006641040</td>\n",
              "      <td>AJ46FKXOVC7NR</td>\n",
              "      <td>Nicholas A Mesiano</td>\n",
              "      <td>2</td>\n",
              "      <td>2</td>\n",
              "      <td>positive</td>\n",
              "      <td>940809600</td>\n",
              "      <td>This whole series is great way to spend time w...</td>\n",
              "      <td>I can remember seeing the show when it aired o...</td>\n",
              "      <td>b'rememb see show air televis year ago child s...</td>\n",
              "    </tr>\n",
              "    <tr>\n",
              "      <th>298792</th>\n",
              "      <td>417839</td>\n",
              "      <td>451856</td>\n",
              "      <td>B00004CXX9</td>\n",
              "      <td>AIUWLEQ1ADEG5</td>\n",
              "      <td>Elizabeth Medina</td>\n",
              "      <td>0</td>\n",
              "      <td>0</td>\n",
              "      <td>positive</td>\n",
              "      <td>944092800</td>\n",
              "      <td>Entertainingl Funny!</td>\n",
              "      <td>Beetlejuice is a well written movie ..... ever...</td>\n",
              "      <td>b'beetlejuic well written movi everyth excel a...</td>\n",
              "    </tr>\n",
              "    <tr>\n",
              "      <th>169281</th>\n",
              "      <td>212472</td>\n",
              "      <td>230285</td>\n",
              "      <td>B00004RYGX</td>\n",
              "      <td>A344SMIA5JECGM</td>\n",
              "      <td>Vincent P. Ross</td>\n",
              "      <td>1</td>\n",
              "      <td>2</td>\n",
              "      <td>positive</td>\n",
              "      <td>944438400</td>\n",
              "      <td>A modern day fairy tale</td>\n",
              "      <td>A twist of rumplestiskin captured on film, sta...</td>\n",
              "      <td>b'twist rumplestiskin captur film star michael...</td>\n",
              "    </tr>\n",
              "  </tbody>\n",
              "</table>\n",
              "</div>"
            ],
            "text/plain": [
              "         index      Id   ProductId          UserId         ProfileName  \\\n",
              "117924  138706  150524  0006641040   ACITT7DI6IDDL     shari zychinski   \n",
              "117901  138683  150501  0006641040   AJ46FKXOVC7NR  Nicholas A Mesiano   \n",
              "298792  417839  451856  B00004CXX9   AIUWLEQ1ADEG5    Elizabeth Medina   \n",
              "169281  212472  230285  B00004RYGX  A344SMIA5JECGM     Vincent P. Ross   \n",
              "\n",
              "        HelpfulnessNumerator  HelpfulnessDenominator     Score       Time  \\\n",
              "117924                     0                       0  positive  939340800   \n",
              "117901                     2                       2  positive  940809600   \n",
              "298792                     0                       0  positive  944092800   \n",
              "169281                     1                       2  positive  944438400   \n",
              "\n",
              "                                                  Summary  \\\n",
              "117924                          EVERY book is educational   \n",
              "117901  This whole series is great way to spend time w...   \n",
              "298792                               Entertainingl Funny!   \n",
              "169281                            A modern day fairy tale   \n",
              "\n",
              "                                                     Text  \\\n",
              "117924  this witty little book makes my son laugh at l...   \n",
              "117901  I can remember seeing the show when it aired o...   \n",
              "298792  Beetlejuice is a well written movie ..... ever...   \n",
              "169281  A twist of rumplestiskin captured on film, sta...   \n",
              "\n",
              "                                             cleaned_text  \n",
              "117924  b'witti littl book make son laugh loud recit c...  \n",
              "117901  b'rememb see show air televis year ago child s...  \n",
              "298792  b'beetlejuic well written movi everyth excel a...  \n",
              "169281  b'twist rumplestiskin captur film star michael...  "
            ]
          },
          "metadata": {
            "tags": []
          },
          "execution_count": 4
        }
      ]
    },
    {
      "metadata": {
        "id": "kA9v6lY_fyTz",
        "colab_type": "text"
      },
      "cell_type": "markdown",
      "source": [
        "The data is now sorted by time. Since this is a huge database, I'll have to sample only a small fraction of it, due to hardware limitations. "
      ]
    },
    {
      "metadata": {
        "id": "LmnxWACifqFH",
        "colab_type": "code",
        "colab": {
          "base_uri": "https://localhost:8080/",
          "height": 319
        },
        "outputId": "b0313117-86a0-41b6-b029-e843f70bb754"
      },
      "cell_type": "code",
      "source": [
        "df_full_clean.info()"
      ],
      "execution_count": 0,
      "outputs": [
        {
          "output_type": "stream",
          "text": [
            "<class 'pandas.core.frame.DataFrame'>\n",
            "Int64Index: 364171 entries, 117924 to 107253\n",
            "Data columns (total 12 columns):\n",
            "index                     364171 non-null int64\n",
            "Id                        364171 non-null int64\n",
            "ProductId                 364171 non-null object\n",
            "UserId                    364171 non-null object\n",
            "ProfileName               364171 non-null object\n",
            "HelpfulnessNumerator      364171 non-null int64\n",
            "HelpfulnessDenominator    364171 non-null int64\n",
            "Score                     364171 non-null object\n",
            "Time                      364171 non-null int64\n",
            "Summary                   364171 non-null object\n",
            "Text                      364171 non-null object\n",
            "cleaned_text              364171 non-null object\n",
            "dtypes: int64(5), object(7)\n",
            "memory usage: 36.1+ MB\n"
          ],
          "name": "stdout"
        }
      ]
    },
    {
      "metadata": {
        "id": "TEmxuFGgnV48",
        "colab_type": "text"
      },
      "cell_type": "markdown",
      "source": [
        "There are 364k reviews in the dataframe. Let's select the first 40,000 reviews."
      ]
    },
    {
      "metadata": {
        "id": "EI3gxXmInjV-",
        "colab_type": "code",
        "colab": {
          "base_uri": "https://localhost:8080/",
          "height": 159
        },
        "outputId": "a9f0b61c-377e-4a1a-89cf-235ae92a5e27"
      },
      "cell_type": "code",
      "source": [
        "df = df_full_clean.head(40000)[['Time', 'cleaned_text', 'Score']]\n",
        "df.info()"
      ],
      "execution_count": 0,
      "outputs": [
        {
          "output_type": "stream",
          "text": [
            "<class 'pandas.core.frame.DataFrame'>\n",
            "Int64Index: 40000 entries, 117924 to 211194\n",
            "Data columns (total 3 columns):\n",
            "Time            40000 non-null int64\n",
            "cleaned_text    40000 non-null object\n",
            "Score           40000 non-null object\n",
            "dtypes: int64(1), object(2)\n",
            "memory usage: 1.2+ MB\n"
          ],
          "name": "stdout"
        }
      ]
    },
    {
      "metadata": {
        "id": "B9AKZq6Cns0a",
        "colab_type": "code",
        "colab": {
          "base_uri": "https://localhost:8080/",
          "height": 200
        },
        "outputId": "17b58953-98c8-4853-ce22-97c598dde2c1"
      },
      "cell_type": "code",
      "source": [
        "df.head()"
      ],
      "execution_count": 0,
      "outputs": [
        {
          "output_type": "execute_result",
          "data": {
            "text/html": [
              "<div>\n",
              "<style scoped>\n",
              "    .dataframe tbody tr th:only-of-type {\n",
              "        vertical-align: middle;\n",
              "    }\n",
              "\n",
              "    .dataframe tbody tr th {\n",
              "        vertical-align: top;\n",
              "    }\n",
              "\n",
              "    .dataframe thead th {\n",
              "        text-align: right;\n",
              "    }\n",
              "</style>\n",
              "<table border=\"1\" class=\"dataframe\">\n",
              "  <thead>\n",
              "    <tr style=\"text-align: right;\">\n",
              "      <th></th>\n",
              "      <th>Time</th>\n",
              "      <th>cleaned_text</th>\n",
              "      <th>Score</th>\n",
              "    </tr>\n",
              "  </thead>\n",
              "  <tbody>\n",
              "    <tr>\n",
              "      <th>117924</th>\n",
              "      <td>939340800</td>\n",
              "      <td>b'witti littl book make son laugh loud recit c...</td>\n",
              "      <td>positive</td>\n",
              "    </tr>\n",
              "    <tr>\n",
              "      <th>117901</th>\n",
              "      <td>940809600</td>\n",
              "      <td>b'rememb see show air televis year ago child s...</td>\n",
              "      <td>positive</td>\n",
              "    </tr>\n",
              "    <tr>\n",
              "      <th>298792</th>\n",
              "      <td>944092800</td>\n",
              "      <td>b'beetlejuic well written movi everyth excel a...</td>\n",
              "      <td>positive</td>\n",
              "    </tr>\n",
              "    <tr>\n",
              "      <th>169281</th>\n",
              "      <td>944438400</td>\n",
              "      <td>b'twist rumplestiskin captur film star michael...</td>\n",
              "      <td>positive</td>\n",
              "    </tr>\n",
              "    <tr>\n",
              "      <th>298791</th>\n",
              "      <td>946857600</td>\n",
              "      <td>b'beetlejuic excel funni movi keaton hilari wa...</td>\n",
              "      <td>positive</td>\n",
              "    </tr>\n",
              "  </tbody>\n",
              "</table>\n",
              "</div>"
            ],
            "text/plain": [
              "             Time                                       cleaned_text     Score\n",
              "117924  939340800  b'witti littl book make son laugh loud recit c...  positive\n",
              "117901  940809600  b'rememb see show air televis year ago child s...  positive\n",
              "298792  944092800  b'beetlejuic well written movi everyth excel a...  positive\n",
              "169281  944438400  b'twist rumplestiskin captur film star michael...  positive\n",
              "298791  946857600  b'beetlejuic excel funni movi keaton hilari wa...  positive"
            ]
          },
          "metadata": {
            "tags": []
          },
          "execution_count": 7
        }
      ]
    },
    {
      "metadata": {
        "id": "jHF2Yjfmnvnc",
        "colab_type": "text"
      },
      "cell_type": "markdown",
      "source": [
        "Let's see how the +/- reviews are distributed. The positive reviews are expected to be more than the negative ones."
      ]
    },
    {
      "metadata": {
        "id": "gJh4YExhoe78",
        "colab_type": "code",
        "colab": {
          "base_uri": "https://localhost:8080/",
          "height": 70
        },
        "outputId": "8b59e02e-1922-40b8-839c-4ff5758ec063"
      },
      "cell_type": "code",
      "source": [
        "df['Score'].value_counts()"
      ],
      "execution_count": 0,
      "outputs": [
        {
          "output_type": "execute_result",
          "data": {
            "text/plain": [
              "positive    35593\n",
              "negative     4407\n",
              "Name: Score, dtype: int64"
            ]
          },
          "metadata": {
            "tags": []
          },
          "execution_count": 8
        }
      ]
    },
    {
      "metadata": {
        "id": "DsxcKQ-5xqoy",
        "colab_type": "text"
      },
      "cell_type": "markdown",
      "source": [
        "Let's map the score column in the dataframe\n",
        "\n",
        "* positive : 1\n",
        "* negative : 0\n"
      ]
    },
    {
      "metadata": {
        "id": "Z1o8SNKLxp9I",
        "colab_type": "code",
        "colab": {}
      },
      "cell_type": "code",
      "source": [
        "df['Score'] = df['Score'].map({'positive':1,'negative':0})"
      ],
      "execution_count": 0,
      "outputs": []
    },
    {
      "metadata": {
        "id": "MknHcGaZRol3",
        "colab_type": "code",
        "colab": {}
      },
      "cell_type": "code",
      "source": [
        "y = np.array(df['Score'])"
      ],
      "execution_count": 0,
      "outputs": []
    },
    {
      "metadata": {
        "id": "vFm43qp4if8k",
        "colab_type": "text"
      },
      "cell_type": "markdown",
      "source": [
        "Split the data into Train & Test."
      ]
    },
    {
      "metadata": {
        "id": "8lyDPDGYP-CU",
        "colab_type": "code",
        "colab": {}
      },
      "cell_type": "code",
      "source": [
        "X_train, X_test, y_train, y_test = train_test_split(df['cleaned_text'].values, y, test_size = 0.2, shuffle=False)"
      ],
      "execution_count": 0,
      "outputs": []
    },
    {
      "metadata": {
        "id": "xxyJ6oxOif82",
        "colab_type": "text"
      },
      "cell_type": "markdown",
      "source": [
        "Train and Test data set sizes"
      ]
    },
    {
      "metadata": {
        "id": "eh8wkZ4rRzMd",
        "colab_type": "code",
        "colab": {
          "base_uri": "https://localhost:8080/",
          "height": 88
        },
        "outputId": "d44123b2-0244-4dcc-f13b-1a2d29df45ae"
      },
      "cell_type": "code",
      "source": [
        "print('Shape of X_train is {}.'.format(X_train.shape))\n",
        "print('Shape of X_test is {}.'.format(X_test.shape))\n",
        "print('Shape of y_train is {}.'.format(y_train.shape))\n",
        "print('Shape of y_test is {}.'.format(y_test.shape))"
      ],
      "execution_count": 0,
      "outputs": [
        {
          "output_type": "stream",
          "text": [
            "Shape of X_train is (32000,).\n",
            "Shape of X_test is (8000,).\n",
            "Shape of y_train is (32000,).\n",
            "Shape of y_test is (8000,).\n"
          ],
          "name": "stdout"
        }
      ]
    },
    {
      "metadata": {
        "id": "qmjS2MYTSC_m",
        "colab_type": "text"
      },
      "cell_type": "markdown",
      "source": [
        "## BoW\n",
        "\n",
        "In this section, we'll convert the reviews into vectors using Bag of Words. Let's begin by defining the BOW object and fitting it to the training data.\n",
        "\n",
        "First, let's see the contents of our training data set.\n",
        "\n"
      ]
    },
    {
      "metadata": {
        "id": "mqgbo_LLSbqN",
        "colab_type": "code",
        "colab": {},
        "outputId": "1bcddffe-a78a-424f-cb2c-71c40809aafa"
      },
      "cell_type": "code",
      "source": [
        "X_train[1]"
      ],
      "execution_count": 0,
      "outputs": [
        {
          "output_type": "execute_result",
          "data": {
            "text/plain": [
              "b'rememb see show air televis year ago child sister later bought day thirti someth use seri book song student teach preschool turn whole school purchas along book children tradit live'"
            ]
          },
          "metadata": {
            "tags": []
          },
          "execution_count": 13
        }
      ]
    },
    {
      "metadata": {
        "id": "SGP93550if9P",
        "colab_type": "text"
      },
      "cell_type": "markdown",
      "source": [
        "As can be seen above, our training set **X_train** contais 32,000 such reviews each one occupying a row in the numpy array. Note that this raw text cannot be processed by ML algorithms."
      ]
    },
    {
      "metadata": {
        "id": "ciKcX65Gif9S",
        "colab_type": "code",
        "colab": {},
        "outputId": "a6d5cff5-ce92-4b94-c862-44b3af64db68"
      },
      "cell_type": "code",
      "source": [
        "print('The shape of X_train is {}'.format(X_train.shape))\n",
        "print('The shape X_test is {}'.format(X_test.shape))"
      ],
      "execution_count": 0,
      "outputs": [
        {
          "output_type": "stream",
          "text": [
            "The shape of X_train is (32000,)\n",
            "The shape X_test is (8000,)\n"
          ],
          "name": "stdout"
        }
      ]
    },
    {
      "metadata": {
        "id": "wwpaA3GiR_o6",
        "colab_type": "code",
        "colab": {}
      },
      "cell_type": "code",
      "source": [
        "bow = CountVectorizer(ngram_range=(1,1))\n",
        "bow_fit = bow.fit(X_train)"
      ],
      "execution_count": 0,
      "outputs": []
    },
    {
      "metadata": {
        "id": "Vykfi-hlif9i",
        "colab_type": "text"
      },
      "cell_type": "markdown",
      "source": [
        "We can see the parameters of the fit model below."
      ]
    },
    {
      "metadata": {
        "id": "8dPJKWg6SFQe",
        "colab_type": "code",
        "colab": {
          "base_uri": "https://localhost:8080/",
          "height": 124
        },
        "outputId": "1118820b-6869-44c9-8f2e-a68d89c66a09"
      },
      "cell_type": "code",
      "source": [
        "bow_fit"
      ],
      "execution_count": 0,
      "outputs": [
        {
          "output_type": "execute_result",
          "data": {
            "text/plain": [
              "CountVectorizer(analyzer='word', binary=False, decode_error='strict',\n",
              "        dtype=<class 'numpy.int64'>, encoding='utf-8', input='content',\n",
              "        lowercase=True, max_df=1.0, max_features=None, min_df=1,\n",
              "        ngram_range=(1, 1), preprocessor=None, stop_words=None,\n",
              "        strip_accents=None, token_pattern='(?u)\\\\b\\\\w\\\\w+\\\\b',\n",
              "        tokenizer=None, vocabulary=None)"
            ]
          },
          "metadata": {
            "tags": []
          },
          "execution_count": 16
        }
      ]
    },
    {
      "metadata": {
        "id": "q4LOpNOVt-pA",
        "colab_type": "text"
      },
      "cell_type": "markdown",
      "source": [
        "This code block is just to help with clearing the memory during repeated executions."
      ]
    },
    {
      "metadata": {
        "id": "n1yl2zdH9hRG",
        "colab_type": "code",
        "colab": {
          "base_uri": "https://localhost:8080/",
          "height": 35
        },
        "outputId": "41c5ef3f-e1bb-4458-f703-778a8cc19048"
      },
      "cell_type": "code",
      "source": [
        "try:\n",
        "    \n",
        "    del(X_train_transformed)\n",
        "    del(my_cv)\n",
        "    del(clf)\n",
        "    del(tscv)\n",
        "\n",
        "except NameError:\n",
        "    \n",
        "    print('One or more variables not found')"
      ],
      "execution_count": 0,
      "outputs": [
        {
          "output_type": "stream",
          "text": [
            "One or more variables not found\n"
          ],
          "name": "stdout"
        }
      ]
    },
    {
      "metadata": {
        "id": "KtakxdgOmlTi",
        "colab_type": "text"
      },
      "cell_type": "markdown",
      "source": [
        "Convert training data corpus into BoW vector representation."
      ]
    },
    {
      "metadata": {
        "id": "1ibN63L2Sd1a",
        "colab_type": "code",
        "colab": {}
      },
      "cell_type": "code",
      "source": [
        "X_train_transformed = bow_fit.transform(X_train)"
      ],
      "execution_count": 0,
      "outputs": []
    },
    {
      "metadata": {
        "id": "gsygycR6if-M",
        "colab_type": "text"
      },
      "cell_type": "markdown",
      "source": [
        "X_train_transformed is a sparse matrix that contains the BoW representation of the training data."
      ]
    },
    {
      "metadata": {
        "id": "_U7Pzx0KSrn_",
        "colab_type": "code",
        "colab": {
          "base_uri": "https://localhost:8080/",
          "height": 52
        },
        "outputId": "3f9670cc-1e59-435e-81f6-f349d2253828"
      },
      "cell_type": "code",
      "source": [
        "X_train_transformed"
      ],
      "execution_count": 0,
      "outputs": [
        {
          "output_type": "execute_result",
          "data": {
            "text/plain": [
              "<32000x22440 sparse matrix of type '<class 'numpy.int64'>'\n",
              "\twith 939149 stored elements in Compressed Sparse Row format>"
            ]
          },
          "metadata": {
            "tags": []
          },
          "execution_count": 19
        }
      ]
    },
    {
      "metadata": {
        "id": "PSNhP2_7if-c",
        "colab_type": "text"
      },
      "cell_type": "markdown",
      "source": [
        "Convert test data also in the BoW format."
      ]
    },
    {
      "metadata": {
        "id": "3BfYqtr2roFq",
        "colab_type": "code",
        "colab": {
          "base_uri": "https://localhost:8080/",
          "height": 35
        },
        "outputId": "ea3d4a19-7d5f-4fe9-9f97-4372d2e02b6f"
      },
      "cell_type": "code",
      "source": [
        "X_test_transformed = bow_fit.transform(X_test)\n",
        "X_test_transformed.shape"
      ],
      "execution_count": 0,
      "outputs": [
        {
          "output_type": "execute_result",
          "data": {
            "text/plain": [
              "(8000, 22440)"
            ]
          },
          "metadata": {
            "tags": []
          },
          "execution_count": 20
        }
      ]
    },
    {
      "metadata": {
        "id": "UfAeJ1yPif-x",
        "colab_type": "text"
      },
      "cell_type": "markdown",
      "source": [
        "Standardize the data."
      ]
    },
    {
      "metadata": {
        "id": "S_CXqFMSif-y",
        "colab_type": "code",
        "colab": {},
        "collapsed": true,
        "outputId": "4363b461-f0a0-421b-808c-287f81272944"
      },
      "cell_type": "code",
      "source": [
        "scaler = StandardScaler(with_mean=False)\n",
        "X_train_transformed = scaler.fit_transform(X_train_transformed)"
      ],
      "execution_count": 0,
      "outputs": [
        {
          "output_type": "stream",
          "text": [
            "/home/ucanreachtvk/anaconda3/lib/python3.6/site-packages/sklearn/utils/validation.py:475: DataConversionWarning: Data with input dtype int64 was converted to float64 by StandardScaler.\n",
            "  warnings.warn(msg, DataConversionWarning)\n",
            "/home/ucanreachtvk/anaconda3/lib/python3.6/site-packages/sklearn/utils/validation.py:475: DataConversionWarning: Data with input dtype int64 was converted to float64 by StandardScaler.\n",
            "  warnings.warn(msg, DataConversionWarning)\n"
          ],
          "name": "stderr"
        }
      ]
    },
    {
      "metadata": {
        "id": "iwnAuWEXif_A",
        "colab_type": "text"
      },
      "cell_type": "markdown",
      "source": [
        "Standardize test data"
      ]
    },
    {
      "metadata": {
        "id": "1TNPGl3Sif_D",
        "colab_type": "code",
        "colab": {},
        "collapsed": true,
        "outputId": "1c6fd810-d20e-4d40-b8f5-4359c6b67d80"
      },
      "cell_type": "code",
      "source": [
        "X_test_transformed = scaler.transform(X_test_transformed)"
      ],
      "execution_count": 0,
      "outputs": [
        {
          "output_type": "stream",
          "text": [
            "/home/ucanreachtvk/anaconda3/lib/python3.6/site-packages/sklearn/utils/validation.py:475: DataConversionWarning: Data with input dtype int64 was converted to float64 by StandardScaler.\n",
            "  warnings.warn(msg, DataConversionWarning)\n"
          ],
          "name": "stderr"
        }
      ]
    },
    {
      "metadata": {
        "id": "CA1iim6mzGXg",
        "colab_type": "text"
      },
      "cell_type": "markdown",
      "source": [
        "### KNN with BoW | KD_tree\n",
        "\n",
        "First, let's try KNN with KD_tree algorithm. KD_tree is computationally very expensive if #dimensions is very large.\n",
        "So, we'll reduce the number of features in the Bag of Words array by using **SVD**."
      ]
    },
    {
      "metadata": {
        "id": "qDV75HK8rz4w",
        "colab_type": "code",
        "colab": {
          "base_uri": "https://localhost:8080/",
          "height": 35
        },
        "outputId": "be8cc8a2-12b4-4325-c353-213231475800"
      },
      "cell_type": "code",
      "source": [
        "svd = TruncatedSVD(n_components=100, random_state = 7)\n",
        "X_train_transformed_svd = svd.fit_transform(X_train_transformed)\n",
        "X_train_transformed_svd.shape"
      ],
      "execution_count": 0,
      "outputs": [
        {
          "output_type": "execute_result",
          "data": {
            "text/plain": [
              "(32000, 100)"
            ]
          },
          "metadata": {
            "tags": []
          },
          "execution_count": 23
        }
      ]
    },
    {
      "metadata": {
        "id": "t4xSiDDPif_U",
        "colab_type": "text"
      },
      "cell_type": "markdown",
      "source": [
        "Note that the X_train_transformed array is not altered. It still contains the BoW vector with all features intact."
      ]
    },
    {
      "metadata": {
        "id": "RGbo9HVwif_Y",
        "colab_type": "code",
        "colab": {},
        "outputId": "2a1a5bcc-24c7-48b4-add4-3a9829b8a60a"
      },
      "cell_type": "code",
      "source": [
        "X_train_transformed"
      ],
      "execution_count": 0,
      "outputs": [
        {
          "output_type": "execute_result",
          "data": {
            "text/plain": [
              "<32000x22440 sparse matrix of type '<class 'numpy.float64'>'\n",
              "\twith 939149 stored elements in Compressed Sparse Row format>"
            ]
          },
          "metadata": {
            "tags": []
          },
          "execution_count": 24
        }
      ]
    },
    {
      "metadata": {
        "id": "1EaJLT41if_k",
        "colab_type": "text"
      },
      "cell_type": "markdown",
      "source": [
        "Also transform test data "
      ]
    },
    {
      "metadata": {
        "id": "X14mt5CIr61a",
        "colab_type": "code",
        "colab": {},
        "outputId": "543832e6-8ee5-4260-d9a3-a0dd96c965f1"
      },
      "cell_type": "code",
      "source": [
        "X_test_transformed_svd = svd.transform(X_test_transformed)\n",
        "X_test_transformed_svd.shape"
      ],
      "execution_count": 0,
      "outputs": [
        {
          "output_type": "execute_result",
          "data": {
            "text/plain": [
              "(8000, 100)"
            ]
          },
          "metadata": {
            "tags": []
          },
          "execution_count": 25
        }
      ]
    },
    {
      "metadata": {
        "id": "tk5u1Qbaif_t",
        "colab_type": "text"
      },
      "cell_type": "markdown",
      "source": [
        "Sanity check if the transformed data has any NaN values"
      ]
    },
    {
      "metadata": {
        "id": "ag6eR3zwmlTp",
        "colab_type": "code",
        "colab": {
          "base_uri": "https://localhost:8080/",
          "height": 35
        },
        "outputId": "70be77f2-3a7a-40cd-bce7-c9b4cbe5b8aa"
      },
      "cell_type": "code",
      "source": [
        "X_train_transformed_svd[~np.isnan(X_train_transformed_svd).any(axis=1)].shape"
      ],
      "execution_count": 0,
      "outputs": [
        {
          "output_type": "execute_result",
          "data": {
            "text/plain": [
              "(32000, 100)"
            ]
          },
          "metadata": {
            "tags": []
          },
          "execution_count": 26
        }
      ]
    },
    {
      "metadata": {
        "id": "94XYFX9Eif_5",
        "colab_type": "code",
        "colab": {},
        "outputId": "e1131308-d796-4cce-9aee-f75a3d44da14"
      },
      "cell_type": "code",
      "source": [
        "X_test_transformed_svd[~np.isnan(X_test_transformed_svd).any(axis=1)].shape"
      ],
      "execution_count": 0,
      "outputs": [
        {
          "output_type": "execute_result",
          "data": {
            "text/plain": [
              "(8000, 100)"
            ]
          },
          "metadata": {
            "tags": []
          },
          "execution_count": 27
        }
      ]
    },
    {
      "metadata": {
        "id": "DQ3l9V-emlTv",
        "colab_type": "code",
        "colab": {
          "base_uri": "https://localhost:8080/",
          "height": 35
        },
        "outputId": "b97f48ec-132d-4a39-8e35-e9b5ff240d3a"
      },
      "cell_type": "code",
      "source": [
        "try:\n",
        "    del(knn)\n",
        "    del(clf)\n",
        "    del(tscv)\n",
        "    del(my_cv)\n",
        "except:\n",
        "    print('One or more variables not found')"
      ],
      "execution_count": 0,
      "outputs": [
        {
          "output_type": "stream",
          "text": [
            "One or more variables not found\n"
          ],
          "name": "stdout"
        }
      ]
    },
    {
      "metadata": {
        "id": "FGjsdXW2igAT",
        "colab_type": "text"
      },
      "cell_type": "markdown",
      "source": [
        "To preserve the temporal structure of data, we'll split the data using TimeSeriesSplit() for cross validation."
      ]
    },
    {
      "metadata": {
        "id": "1Jj9OftrsEtX",
        "colab_type": "code",
        "colab": {}
      },
      "cell_type": "code",
      "source": [
        "tscv = TimeSeriesSplit(n_splits=3)\n",
        "my_cv = tscv.split(X_train_transformed_svd)"
      ],
      "execution_count": 0,
      "outputs": []
    },
    {
      "metadata": {
        "id": "Ciz_dCotigAY",
        "colab_type": "text"
      },
      "cell_type": "markdown",
      "source": [
        "To understand how this splits the data incrementally, consider the following example. train and test give the index of the split."
      ]
    },
    {
      "metadata": {
        "id": "yU0IBLIVU3T0",
        "colab_type": "code",
        "colab": {
          "base_uri": "https://localhost:8080/",
          "height": 106
        },
        "outputId": "019d4685-8c5a-47ea-d775-d4657601cbcb"
      },
      "cell_type": "code",
      "source": [
        "for train, test in tscv.split(X_train_transformed_svd[:6]):\n",
        "\n",
        "    print(train, test)"
      ],
      "execution_count": 0,
      "outputs": [
        {
          "output_type": "stream",
          "text": [
            "[0 1 2] [3]\n",
            "[0 1 2 3] [4]\n",
            "[0 1 2 3 4] [5]\n"
          ],
          "name": "stdout"
        }
      ]
    },
    {
      "metadata": {
        "id": "pV9b5_UjmlT-",
        "colab_type": "text"
      },
      "cell_type": "markdown",
      "source": [
        "**Grid Search**\n",
        "\n",
        "The KNN algorithm has two important parameters - the number of neighbors and weights (equal weight or priority based on distance). I'll search for the best set of these two parameters across the training data with time series cross validation splits. First for kd_tree algorithm then for brute.\n",
        "\n",
        "Build GridSearchCV object for kd_tree algorithm of KNN."
      ]
    },
    {
      "metadata": {
        "id": "Bg9mSciRUObn",
        "colab_type": "code",
        "colab": {}
      },
      "cell_type": "code",
      "source": [
        "knn = KNeighborsClassifier(algorithm = 'kd_tree')\n",
        "\n",
        "param_grid = {\n",
        "                'n_neighbors':[9,11,13,15],\n",
        "                'weights' : ['uniform', 'distance']\n",
        "             }\n",
        "\n",
        "clf = GridSearchCV(estimator=knn, cv=my_cv, param_grid=param_grid, n_jobs=4, return_train_score=True)"
      ],
      "execution_count": 0,
      "outputs": []
    },
    {
      "metadata": {
        "id": "d_WuptfosSD9",
        "colab_type": "code",
        "colab": {
          "base_uri": "https://localhost:8080/",
          "height": 177
        },
        "outputId": "c8e6ee12-a83e-4612-c1b7-a26510b19db0"
      },
      "cell_type": "code",
      "source": [
        "%%notify\n",
        "%%time\n",
        "\n",
        "clf.fit(X_train_transformed_svd, y_train)"
      ],
      "execution_count": 0,
      "outputs": [
        {
          "output_type": "stream",
          "text": [
            "CPU times: user 2.23 s, sys: 327 ms, total: 2.55 s\n",
            "Wall time: 17min 47s\n"
          ],
          "name": "stdout"
        },
        {
          "output_type": "execute_result",
          "data": {
            "text/plain": [
              "GridSearchCV(cv=<generator object TimeSeriesSplit.split at 0x7f6c519ad1a8>,\n",
              "       error_score='raise',\n",
              "       estimator=KNeighborsClassifier(algorithm='kd_tree', leaf_size=30, metric='minkowski',\n",
              "           metric_params=None, n_jobs=1, n_neighbors=5, p=2,\n",
              "           weights='uniform'),\n",
              "       fit_params=None, iid=True, n_jobs=4,\n",
              "       param_grid={'n_neighbors': [9, 11, 13, 15], 'weights': ['uniform', 'distance']},\n",
              "       pre_dispatch='2*n_jobs', refit=True, return_train_score=True,\n",
              "       scoring=None, verbose=0)"
            ]
          },
          "metadata": {
            "tags": []
          },
          "execution_count": 32
        },
        {
          "output_type": "display_data",
          "data": {
            "application/javascript": [
              "$(document).ready(\n",
              "    function() {\n",
              "        function appendUniqueDiv(){\n",
              "            // append a div with our uuid so we can check that it's already\n",
              "            // been sent and avoid duplicates on page reload\n",
              "            var notifiedDiv = document.createElement(\"div\")\n",
              "            notifiedDiv.id = \"666303e0-5ea4-4bd9-be07-24ea3bd02965\"\n",
              "            element.append(notifiedDiv)\n",
              "        }\n",
              "\n",
              "        // only send notifications if the pageload is complete; this will\n",
              "        // help stop extra notifications when a saved notebook is loaded,\n",
              "        // which during testing gives us state \"interactive\", not \"complete\"\n",
              "        if (document.readyState === 'complete') {\n",
              "            // check for the div that signifies that the notification\n",
              "            // was already sent\n",
              "            if (document.getElementById(\"666303e0-5ea4-4bd9-be07-24ea3bd02965\") === null) {\n",
              "                var notificationPayload = {\"requireInteraction\": false, \"icon\": \"/static/base/images/favicon.ico\", \"body\": \"Cell execution has finished!\"};\n",
              "                if (Notification.permission !== 'denied') {\n",
              "                    if (Notification.permission !== 'granted') { \n",
              "                        Notification.requestPermission(function (permission) {\n",
              "                            if(!('permission' in Notification)) {\n",
              "                                Notification.permission = permission\n",
              "                            }\n",
              "                        })\n",
              "                    }\n",
              "                    if (Notification.permission === 'granted') {\n",
              "                    var notification = new Notification(\"Jupyter Notebook\", notificationPayload)\n",
              "                    appendUniqueDiv()\n",
              "                    notification.onclick = function () {\n",
              "                        window.focus();\n",
              "                        this.close();\n",
              "                        };\n",
              "                    } \n",
              "                }     \n",
              "            }\n",
              "        }\n",
              "    }\n",
              ")\n"
            ],
            "text/plain": [
              "<IPython.core.display.Javascript object>"
            ]
          },
          "metadata": {
            "tags": []
          }
        }
      ]
    },
    {
      "metadata": {
        "id": "NfHimMiamlUG",
        "colab_type": "text"
      },
      "cell_type": "markdown",
      "source": [
        "We can see the best parameters found like this -"
      ]
    },
    {
      "metadata": {
        "id": "6gc9q4MHtHqz",
        "colab_type": "code",
        "colab": {
          "base_uri": "https://localhost:8080/",
          "height": 35
        },
        "outputId": "b187e577-bfb1-448a-da6f-9bc7aa1ad681"
      },
      "cell_type": "code",
      "source": [
        "clf.best_params_"
      ],
      "execution_count": 0,
      "outputs": [
        {
          "output_type": "execute_result",
          "data": {
            "text/plain": [
              "{'n_neighbors': 15, 'weights': 'uniform'}"
            ]
          },
          "metadata": {
            "tags": []
          },
          "execution_count": 33
        }
      ]
    },
    {
      "metadata": {
        "id": "uhSvZ6w122Se",
        "colab_type": "text"
      },
      "cell_type": "markdown",
      "source": [
        "**Confusion Matrix**\n",
        "\n",
        "Let's plot the confusion Matrix using the values predicted by the best estimator found by GridSearch for kd_tree algorithm of KNN for Bag Of Words format of data.\n",
        "\n",
        "**Note**\n",
        "* x-axis : predicted class\n",
        "* y-axis : actual class"
      ]
    },
    {
      "metadata": {
        "id": "RBK3mv46k1_t",
        "colab_type": "code",
        "colab": {
          "base_uri": "https://localhost:8080/",
          "height": 437
        },
        "outputId": "ad39ac4d-dda9-4119-a0a6-a85b5b81a823"
      },
      "cell_type": "code",
      "source": [
        "%%notify\n",
        "\n",
        "sbn.set()\n",
        "\n",
        "plt.figure(figsize=(15,6))#.suptitle('Confusion Matrix for Train and Test data')\n",
        "plt.subplot(1,2,1)\n",
        "\n",
        "cm_bow_kd_train = confusion_matrix(y_train, clf.predict(X_train_transformed_svd))\n",
        "df_cm = pd.DataFrame(cm_bow_kd_train, range(2), range(2))\n",
        "sbn.heatmap(df_cm, annot=True, annot_kws={\"size\":16}, cbar=False, fmt = 'd', xticklabels=['Negative', 'Positive'], yticklabels=['Negative', 'Positive'])\n",
        "plt.xticks(fontsize=13)\n",
        "plt.yticks(fontsize=13)\n",
        "plt.title('Confusion Matrix | Train data | Alg: kd_tree', fontsize = 14)\n",
        "\n",
        "plt.subplot(1,2,2)\n",
        "cm_bow_kd_test = confusion_matrix(y_test, clf.predict(X_test_transformed_svd))\n",
        "df_cm = pd.DataFrame(cm_bow_kd_test, range(2), range(2))\n",
        "sbn.heatmap(df_cm, annot=True, annot_kws={\"size\":16}, cbar=False, fmt = 'd', xticklabels=['Negative', 'Positive'], yticklabels=['Negative', 'Positive'])\n",
        "plt.xticks(fontsize=13)\n",
        "plt.yticks(fontsize=13)\n",
        "plt.title('Confusion Matrix | Test data | Alg: kd_tree', fontsize = 14)\n",
        "\n",
        "plt.tight_layout()"
      ],
      "execution_count": 0,
      "outputs": [
        {
          "output_type": "display_data",
          "data": {
            "image/png": "[encoded data removed]",
            "text/plain": [
              "<Figure size 1080x432 with 2 Axes>"
            ]
          },
          "metadata": {
            "tags": []
          }
        },
        {
          "output_type": "display_data",
          "data": {
            "application/javascript": [
              "$(document).ready(\n",
              "    function() {\n",
              "        function appendUniqueDiv(){\n",
              "            // append a div with our uuid so we can check that it's already\n",
              "            // been sent and avoid duplicates on page reload\n",
              "            var notifiedDiv = document.createElement(\"div\")\n",
              "            notifiedDiv.id = \"9c53e5bd-36f7-4d1f-8112-504d06d6dccc\"\n",
              "            element.append(notifiedDiv)\n",
              "        }\n",
              "\n",
              "        // only send notifications if the pageload is complete; this will\n",
              "        // help stop extra notifications when a saved notebook is loaded,\n",
              "        // which during testing gives us state \"interactive\", not \"complete\"\n",
              "        if (document.readyState === 'complete') {\n",
              "            // check for the div that signifies that the notification\n",
              "            // was already sent\n",
              "            if (document.getElementById(\"9c53e5bd-36f7-4d1f-8112-504d06d6dccc\") === null) {\n",
              "                var notificationPayload = {\"requireInteraction\": false, \"icon\": \"/static/base/images/favicon.ico\", \"body\": \"Cell execution has finished!\"};\n",
              "                if (Notification.permission !== 'denied') {\n",
              "                    if (Notification.permission !== 'granted') { \n",
              "                        Notification.requestPermission(function (permission) {\n",
              "                            if(!('permission' in Notification)) {\n",
              "                                Notification.permission = permission\n",
              "                            }\n",
              "                        })\n",
              "                    }\n",
              "                    if (Notification.permission === 'granted') {\n",
              "                    var notification = new Notification(\"Jupyter Notebook\", notificationPayload)\n",
              "                    appendUniqueDiv()\n",
              "                    notification.onclick = function () {\n",
              "                        window.focus();\n",
              "                        this.close();\n",
              "                        };\n",
              "                    } \n",
              "                }     \n",
              "            }\n",
              "        }\n",
              "    }\n",
              ")\n"
            ],
            "text/plain": [
              "<IPython.core.display.Javascript object>"
            ]
          },
          "metadata": {
            "tags": []
          }
        }
      ]
    },
    {
      "metadata": {
        "id": "w17z3vcBigBn",
        "colab_type": "text"
      },
      "cell_type": "markdown",
      "source": [
        "**precision and recall**"
      ]
    },
    {
      "metadata": {
        "id": "OZsI3XHBigBo",
        "colab_type": "code",
        "colab": {},
        "outputId": "9613fd43-8526-4d8c-aa5b-2d0b82080e59"
      },
      "cell_type": "code",
      "source": [
        "# print('Recall for BoW | Kd_tree | train: {}'.format(recall_score(y_train, clf.predict(X_train_transformed_svd))))\n",
        "# print('Recall for BoW | Kd_tree | test: {}'.format(recall_score(y_test, clf.predict(X_test_transformed_svd))))\n",
        "# print('Precision for BoW | Kd_tree | train: {}'.format(precision_score(y_train, clf.predict(X_train_transformed_svd))))\n",
        "# print('Precision for BoW | Kd_tree | test: {}'.format(precision_score(y_test, clf.predict(X_test_transformed_svd))))\n",
        "\n",
        "tn, fp, fn, tp = cm_bow_kd_train.ravel()\n",
        "print('Recall for BoW | Kd_tree | train: {}'.format(tp/(tp+fn)))\n",
        "print('Precision for BoW | Kd_tree | train: {}'.format(tp/(tp+fp)))\n",
        "tn, fp, fn, tp = cm_bow_kd_test.ravel()\n",
        "print('Recall for BoW | Kd_tree | test: {}'.format(tp/(tp+fn)))\n",
        "print('Precision for BoW | Kd_tree | test: {}'.format(tp/(tp+fp)))"
      ],
      "execution_count": 0,
      "outputs": [
        {
          "output_type": "stream",
          "text": [
            "Recall for BoW | Kd_tree | train: 0.999614170466503\n",
            "Precision for BoW | Kd_tree | train: 0.8920433203956429\n",
            "Recall for BoW | Kd_tree | test: 0.9995764506565015\n",
            "Precision for BoW | Kd_tree | test: 0.885775053171525\n"
          ],
          "name": "stdout"
        }
      ]
    },
    {
      "metadata": {
        "id": "kobKAlmgigBz",
        "colab_type": "text"
      },
      "cell_type": "markdown",
      "source": [
        "**A useful function** \n",
        "\n",
        "Let me define a function that creates a dataframe with columns k, weight and prediction accuracy for various estimators tried in GridSearch. It will help me create a heatmap of accuracy for various values of k and weight.\n",
        "\n",
        "This function will be used extensively in this notebook.  "
      ]
    },
    {
      "metadata": {
        "id": "R6zoxi8zsdGV",
        "colab_type": "code",
        "colab": {}
      },
      "cell_type": "code",
      "source": [
        "def k_weight_score(cv_results_):\n",
        "\n",
        "    D={'k':[], 'weight':[], 'score':[]}\n",
        "\n",
        "    for k in [9,11,13,15]:\n",
        "\n",
        "        for weight in ['uniform', 'distance']:\n",
        "\n",
        "            d={'n_neighbors': k, 'weights': weight}\n",
        "\n",
        "            ind=cv_results_['params'].index(d)\n",
        "            D['k'].append(k)\n",
        "            D['weight'].append(weight)\n",
        "            D['score'].append(cv_results_['mean_train_score'][ind])\n",
        "    \n",
        "    return(pd.DataFrame.from_dict(D))"
      ],
      "execution_count": 0,
      "outputs": []
    },
    {
      "metadata": {
        "id": "zazYCsISigB3",
        "colab_type": "text"
      },
      "cell_type": "markdown",
      "source": [
        "Call the above function for gridsearch we performed on BoW data for KD_tree algorithm. We'll save the dataframe returned for later use."
      ]
    },
    {
      "metadata": {
        "id": "HLbym53ftN_n",
        "colab_type": "code",
        "colab": {}
      },
      "cell_type": "code",
      "source": [
        "DF_bow_kd_train = k_weight_score(clf.cv_results_)\n",
        "\n",
        "# import pickle\n",
        "# fname = open('/home/ucanreachtvk/data/knn_pickle_files/DF_bow_kd_train_50k.pkl','wb')\n",
        "# pickle.dump(DF_bow_kd_train,fname)\n",
        "# fname.close()"
      ],
      "execution_count": 0,
      "outputs": []
    },
    {
      "metadata": {
        "id": "eoxxGz-0tkc9",
        "colab_type": "text"
      },
      "cell_type": "markdown",
      "source": [
        "### KNN with BoW | Brute "
      ]
    },
    {
      "metadata": {
        "id": "J_Ks1htTigB8",
        "colab_type": "text"
      },
      "cell_type": "markdown",
      "source": [
        "Remember that the original numpy arrays *X_train_transformed & X_test_transformed* still contain the full BoW data."
      ]
    },
    {
      "metadata": {
        "id": "CsXEFDRY3WBH",
        "colab_type": "code",
        "colab": {
          "base_uri": "https://localhost:8080/",
          "height": 52
        },
        "outputId": "bd6641a6-5822-4014-e46d-4d647488113c"
      },
      "cell_type": "code",
      "source": [
        "X_train_transformed"
      ],
      "execution_count": 0,
      "outputs": [
        {
          "output_type": "execute_result",
          "data": {
            "text/plain": [
              "<32000x22440 sparse matrix of type '<class 'numpy.float64'>'\n",
              "\twith 939149 stored elements in Compressed Sparse Row format>"
            ]
          },
          "metadata": {
            "tags": []
          },
          "execution_count": 38
        }
      ]
    },
    {
      "metadata": {
        "id": "mpaVuyU2igCC",
        "colab_type": "code",
        "colab": {},
        "outputId": "32247a2a-a000-4fa1-abaa-8f94930452e0"
      },
      "cell_type": "code",
      "source": [
        "X_test_transformed"
      ],
      "execution_count": 0,
      "outputs": [
        {
          "output_type": "execute_result",
          "data": {
            "text/plain": [
              "<8000x22440 sparse matrix of type '<class 'numpy.float64'>'\n",
              "\twith 234338 stored elements in Compressed Sparse Row format>"
            ]
          },
          "metadata": {
            "tags": []
          },
          "execution_count": 39
        }
      ]
    },
    {
      "metadata": {
        "id": "HUL-AMieigCH",
        "colab_type": "text"
      },
      "cell_type": "markdown",
      "source": [
        "Create a timeseries split of this data like earlier for cross validation. "
      ]
    },
    {
      "metadata": {
        "id": "iky88gI83G6J",
        "colab_type": "code",
        "colab": {}
      },
      "cell_type": "code",
      "source": [
        "try:\n",
        "    del(my_cv)\n",
        "    del(tscv)\n",
        "except:\n",
        "    pass\n",
        "\n",
        "tscv = TimeSeriesSplit(n_splits=5)\n",
        "my_cv = tscv.split(X_train_transformed)"
      ],
      "execution_count": 0,
      "outputs": []
    },
    {
      "metadata": {
        "id": "IdA8xRim_K5n",
        "colab_type": "code",
        "colab": {}
      },
      "cell_type": "code",
      "source": [
        "try:\n",
        "    del(clf)\n",
        "    del(knn)\n",
        "except:\n",
        "    print('variable/s not found')"
      ],
      "execution_count": 0,
      "outputs": []
    },
    {
      "metadata": {
        "id": "o6hbK8xXmlUe",
        "colab_type": "text"
      },
      "cell_type": "markdown",
      "source": [
        "**GridSearchCV object for Brute algorithm of KNN**"
      ]
    },
    {
      "metadata": {
        "id": "eDrlDqOltkCU",
        "colab_type": "code",
        "colab": {}
      },
      "cell_type": "code",
      "source": [
        "knn = KNeighborsClassifier(algorithm = 'brute')\n",
        "\n",
        "param_grid = {\n",
        "                'n_neighbors':[9,11,13,15],\n",
        "                'weights' : ['uniform', 'distance']\n",
        "             }\n",
        "\n",
        "clf = GridSearchCV(estimator=knn, cv=my_cv, param_grid=param_grid, n_jobs=2, return_train_score=True)"
      ],
      "execution_count": 0,
      "outputs": []
    },
    {
      "metadata": {
        "id": "EOZ4yOZ_igCU",
        "colab_type": "text"
      },
      "cell_type": "markdown",
      "source": [
        "Fit it!"
      ]
    },
    {
      "metadata": {
        "id": "lZxi-uAhS0_d",
        "colab_type": "code",
        "colab": {
          "base_uri": "https://localhost:8080/",
          "height": 177
        },
        "outputId": "23b01144-a9b2-4b4b-9418-1d1a5bd39580"
      },
      "cell_type": "code",
      "source": [
        "%%notify\n",
        "%%time\n",
        "clf.fit(X_train_transformed, y_train)"
      ],
      "execution_count": 0,
      "outputs": [
        {
          "output_type": "stream",
          "text": [
            "CPU times: user 1.31 s, sys: 144 ms, total: 1.45 s\n",
            "Wall time: 6min 28s\n"
          ],
          "name": "stdout"
        },
        {
          "output_type": "execute_result",
          "data": {
            "text/plain": [
              "GridSearchCV(cv=<generator object TimeSeriesSplit.split at 0x7f6c45543f10>,\n",
              "       error_score='raise',\n",
              "       estimator=KNeighborsClassifier(algorithm='brute', leaf_size=30, metric='minkowski',\n",
              "           metric_params=None, n_jobs=1, n_neighbors=5, p=2,\n",
              "           weights='uniform'),\n",
              "       fit_params=None, iid=True, n_jobs=2,\n",
              "       param_grid={'n_neighbors': [9, 11, 13, 15], 'weights': ['uniform', 'distance']},\n",
              "       pre_dispatch='2*n_jobs', refit=True, return_train_score=True,\n",
              "       scoring=None, verbose=0)"
            ]
          },
          "metadata": {
            "tags": []
          },
          "execution_count": 43
        },
        {
          "output_type": "display_data",
          "data": {
            "application/javascript": [
              "$(document).ready(\n",
              "    function() {\n",
              "        function appendUniqueDiv(){\n",
              "            // append a div with our uuid so we can check that it's already\n",
              "            // been sent and avoid duplicates on page reload\n",
              "            var notifiedDiv = document.createElement(\"div\")\n",
              "            notifiedDiv.id = \"a4cfe749-1475-4380-895e-b49ac6ce62ba\"\n",
              "            element.append(notifiedDiv)\n",
              "        }\n",
              "\n",
              "        // only send notifications if the pageload is complete; this will\n",
              "        // help stop extra notifications when a saved notebook is loaded,\n",
              "        // which during testing gives us state \"interactive\", not \"complete\"\n",
              "        if (document.readyState === 'complete') {\n",
              "            // check for the div that signifies that the notification\n",
              "            // was already sent\n",
              "            if (document.getElementById(\"a4cfe749-1475-4380-895e-b49ac6ce62ba\") === null) {\n",
              "                var notificationPayload = {\"requireInteraction\": false, \"icon\": \"/static/base/images/favicon.ico\", \"body\": \"Cell execution has finished!\"};\n",
              "                if (Notification.permission !== 'denied') {\n",
              "                    if (Notification.permission !== 'granted') { \n",
              "                        Notification.requestPermission(function (permission) {\n",
              "                            if(!('permission' in Notification)) {\n",
              "                                Notification.permission = permission\n",
              "                            }\n",
              "                        })\n",
              "                    }\n",
              "                    if (Notification.permission === 'granted') {\n",
              "                    var notification = new Notification(\"Jupyter Notebook\", notificationPayload)\n",
              "                    appendUniqueDiv()\n",
              "                    notification.onclick = function () {\n",
              "                        window.focus();\n",
              "                        this.close();\n",
              "                        };\n",
              "                    } \n",
              "                }     \n",
              "            }\n",
              "        }\n",
              "    }\n",
              ")\n"
            ],
            "text/plain": [
              "<IPython.core.display.Javascript object>"
            ]
          },
          "metadata": {
            "tags": []
          }
        }
      ]
    },
    {
      "metadata": {
        "id": "Fgzeevc0T651",
        "colab_type": "code",
        "colab": {
          "base_uri": "https://localhost:8080/",
          "height": 35
        },
        "outputId": "e99a44c7-79aa-4068-ed73-16ae47cfba8e"
      },
      "cell_type": "code",
      "source": [
        "clf.best_params_"
      ],
      "execution_count": 0,
      "outputs": [
        {
          "output_type": "execute_result",
          "data": {
            "text/plain": [
              "{'n_neighbors': 9, 'weights': 'uniform'}"
            ]
          },
          "metadata": {
            "tags": []
          },
          "execution_count": 44
        }
      ]
    },
    {
      "metadata": {
        "id": "OVnUmDtQT9ss",
        "colab_type": "code",
        "colab": {
          "base_uri": "https://localhost:8080/",
          "height": 70
        },
        "outputId": "387334c5-6daa-4969-cb1e-75acf2075274"
      },
      "cell_type": "code",
      "source": [
        "clf.best_estimator_"
      ],
      "execution_count": 0,
      "outputs": [
        {
          "output_type": "execute_result",
          "data": {
            "text/plain": [
              "KNeighborsClassifier(algorithm='brute', leaf_size=30, metric='minkowski',\n",
              "           metric_params=None, n_jobs=1, n_neighbors=9, p=2,\n",
              "           weights='uniform')"
            ]
          },
          "metadata": {
            "tags": []
          },
          "execution_count": 45
        }
      ]
    },
    {
      "metadata": {
        "id": "FcL7Xd26v-Nn",
        "colab_type": "text"
      },
      "cell_type": "markdown",
      "source": [
        "**Confusion Matrix**\n",
        "\n",
        "For various estimators tried by GridSearch using the brute algorithm of KNN.\n",
        "\n",
        "**Remember** \n",
        "\n",
        "* x-axis: predicted class\n",
        "* y-axis: actual class"
      ]
    },
    {
      "metadata": {
        "id": "EltOhThSwI3W",
        "colab_type": "code",
        "colab": {
          "base_uri": "https://localhost:8080/",
          "height": 437
        },
        "outputId": "00139370-3d1c-4589-8460-f6f31f4b54a9"
      },
      "cell_type": "code",
      "source": [
        "%%notify\n",
        "\n",
        "plt.figure(figsize=(15,6))#.suptitle('Confusion Matrix for Train and Test data')\n",
        "plt.subplot(1,2,1)\n",
        "\n",
        "cm_bow_brute_train = confusion_matrix(y_train, clf.predict(X_train_transformed))\n",
        "df_cm = pd.DataFrame(cm_bow_brute_train, range(2), range(2))\n",
        "sbn.heatmap(df_cm, annot=True, annot_kws={\"size\":16}, cbar=False, fmt = 'd', xticklabels=['Negative', 'Positive'], yticklabels=['Negative', 'Positive'])\n",
        "plt.xticks(fontsize=13)\n",
        "plt.yticks(fontsize=13)\n",
        "plt.title('Train Data', fontsize = 14)\n",
        "\n",
        "plt.subplot(1,2,2)\n",
        "cm_bow_brute_test = confusion_matrix(y_test, clf.predict(X_test_transformed))\n",
        "df_cm = pd.DataFrame(cm_bow_brute_test, range(2), range(2))\n",
        "sbn.heatmap(df_cm, annot=True, annot_kws={\"size\":16}, cbar=False, fmt = 'd', xticklabels=['Negative', 'Positive'], yticklabels=['Negative', 'Positive'])\n",
        "plt.xticks(fontsize=13)\n",
        "plt.xticks(fontsize=13)\n",
        "plt.title('Test Data', fontsize = 14)\n",
        "\n",
        "plt.tight_layout()"
      ],
      "execution_count": 0,
      "outputs": [
        {
          "output_type": "display_data",
          "data": {
            "image/png": "[encoded data removed]",
            "text/plain": [
              "<Figure size 1080x432 with 2 Axes>"
            ]
          },
          "metadata": {
            "tags": []
          }
        },
        {
          "output_type": "display_data",
          "data": {
            "application/javascript": [
              "$(document).ready(\n",
              "    function() {\n",
              "        function appendUniqueDiv(){\n",
              "            // append a div with our uuid so we can check that it's already\n",
              "            // been sent and avoid duplicates on page reload\n",
              "            var notifiedDiv = document.createElement(\"div\")\n",
              "            notifiedDiv.id = \"c0e88861-c741-4b06-9479-1310058f26f1\"\n",
              "            element.append(notifiedDiv)\n",
              "        }\n",
              "\n",
              "        // only send notifications if the pageload is complete; this will\n",
              "        // help stop extra notifications when a saved notebook is loaded,\n",
              "        // which during testing gives us state \"interactive\", not \"complete\"\n",
              "        if (document.readyState === 'complete') {\n",
              "            // check for the div that signifies that the notification\n",
              "            // was already sent\n",
              "            if (document.getElementById(\"c0e88861-c741-4b06-9479-1310058f26f1\") === null) {\n",
              "                var notificationPayload = {\"requireInteraction\": false, \"icon\": \"/static/base/images/favicon.ico\", \"body\": \"Cell execution has finished!\"};\n",
              "                if (Notification.permission !== 'denied') {\n",
              "                    if (Notification.permission !== 'granted') { \n",
              "                        Notification.requestPermission(function (permission) {\n",
              "                            if(!('permission' in Notification)) {\n",
              "                                Notification.permission = permission\n",
              "                            }\n",
              "                        })\n",
              "                    }\n",
              "                    if (Notification.permission === 'granted') {\n",
              "                    var notification = new Notification(\"Jupyter Notebook\", notificationPayload)\n",
              "                    appendUniqueDiv()\n",
              "                    notification.onclick = function () {\n",
              "                        window.focus();\n",
              "                        this.close();\n",
              "                        };\n",
              "                    } \n",
              "                }     \n",
              "            }\n",
              "        }\n",
              "    }\n",
              ")\n"
            ],
            "text/plain": [
              "<IPython.core.display.Javascript object>"
            ]
          },
          "metadata": {
            "tags": []
          }
        }
      ]
    },
    {
      "metadata": {
        "id": "L6HfwK4UigCj",
        "colab_type": "text"
      },
      "cell_type": "markdown",
      "source": [
        "**Precision and Recall**"
      ]
    },
    {
      "metadata": {
        "id": "H2QE59GWigCj",
        "colab_type": "code",
        "colab": {},
        "outputId": "41a15c50-004c-42aa-b7f2-4350e22029ca"
      },
      "cell_type": "code",
      "source": [
        "# print('Recall for BoW | Brute | train: {}'.format(recall_score(y_train, clf.predict(X_train_transformed))))\n",
        "# print('Recall for BoW | Brute | test: {}'.format(recall_score(y_test, clf.predict(X_test_transformed))))\n",
        "# print('Precision for BoW | Brute | train: {}'.format(precision_score(y_train, clf.predict(X_train_transformed))))\n",
        "# print('Precision for BoW | Brute | test: {}'.format(precision_score(y_test, clf.predict(X_test_transformed))))\n",
        "\n",
        "tn, fp, fn, tp = cm_bow_brute_train.ravel()\n",
        "print('Recall for BoW | Brute | train: {}'.format(tp/(tp+fn)))\n",
        "print('Precision for BoW | Brute | train: {}'.format(tp/(tp+fp)))\n",
        "tn, fp, fn, tp = cm_bow_brute_test.ravel()\n",
        "print('Recall for BoW | Brute | test: {}'.format(tp/(tp+fn)))\n",
        "print('Precision for BoW | Brute | test: {}'.format(tp/(tp+fp)))"
      ],
      "execution_count": 0,
      "outputs": [
        {
          "output_type": "stream",
          "text": [
            "Recall for BoW | Brute | train: 0.9995440196422308\n",
            "Precision for BoW | Brute | train: 0.8956251178578163\n",
            "Recall for BoW | Brute | test: 0.9984469857405054\n",
            "Precision for BoW | Brute | test: 0.8871048670346212\n"
          ],
          "name": "stdout"
        }
      ]
    },
    {
      "metadata": {
        "id": "hGRpPYRxigCm",
        "colab_type": "text"
      },
      "cell_type": "markdown",
      "source": [
        "Let's create a dataframe using the function I defined above. It will help me create a heatmap at the end of this section."
      ]
    },
    {
      "metadata": {
        "id": "ydx3G0p1XIxX",
        "colab_type": "code",
        "colab": {}
      },
      "cell_type": "code",
      "source": [
        "DF_bow_brute_train = k_weight_score(clf.cv_results_)"
      ],
      "execution_count": 0,
      "outputs": []
    },
    {
      "metadata": {
        "id": "jCgM-rc6mlUz",
        "colab_type": "code",
        "colab": {}
      },
      "cell_type": "code",
      "source": [
        "# fname = open('/home/ucanreachtvk/data/knn_pickle_files/DF_bow_brute_train_50k.pkl','wb')\n",
        "# pickle.dump(DF_bow_brute_train,fname)\n",
        "# fname.close()"
      ],
      "execution_count": 0,
      "outputs": []
    },
    {
      "metadata": {
        "id": "if5IH8WrigCp",
        "colab_type": "text"
      },
      "cell_type": "markdown",
      "source": [
        "### GridSearch summary\n",
        "\n",
        "Let's summarize the results of separate GridSearch performed for KNN on BoW for two algorithms: kd_tree and brute.\n",
        "\n",
        "The following grid shows the accuracy of KNN for different values of **n_neighbors** and **weight** parameters."
      ]
    },
    {
      "metadata": {
        "id": "Dc6-ml94l2iG",
        "colab_type": "code",
        "colab": {
          "base_uri": "https://localhost:8080/",
          "height": 437
        },
        "outputId": "b00aba40-cdb8-4f26-abc5-e991e3da3e85"
      },
      "cell_type": "code",
      "source": [
        "plt.figure(figsize=(15,6))\n",
        "\n",
        "plt.subplot(1,2,1)\n",
        "sbn.heatmap(data=DF_bow_brute_train.pivot('weight','k','score'), annot=True, linewidth = 0.5)\n",
        "plt.title('BoW | Training/CV set | Brute', fontsize = 15)\n",
        "plt.xlabel('K', fontsize = 14)\n",
        "plt.ylabel('Weight', fontsize = 14)\n",
        "plt.xticks(fontsize=13)\n",
        "plt.yticks(fontsize=13)\n",
        "#plt.show()\n",
        "\n",
        "plt.subplot(1,2,2)\n",
        "sbn.heatmap(data=DF_bow_kd_train.pivot('weight','k','score'), annot=True, linewidth = 0.5)\n",
        "plt.title('BoW | Training/CV set | kd_tree', fontsize = 15)\n",
        "plt.xlabel('K', fontsize = 14)\n",
        "plt.ylabel('Weight', fontsize = 14)\n",
        "plt.xticks(fontsize=13)\n",
        "plt.yticks(fontsize=13)\n",
        "\n",
        "plt.tight_layout()\n",
        "plt.show()"
      ],
      "execution_count": 0,
      "outputs": [
        {
          "output_type": "display_data",
          "data": {
            "image/png": "[encoded data removed]",
            "text/plain": [
              "<Figure size 1080x432 with 4 Axes>"
            ]
          },
          "metadata": {
            "tags": []
          }
        }
      ]
    },
    {
      "metadata": {
        "id": "6ywGxH_tsfAE",
        "colab_type": "text"
      },
      "cell_type": "markdown",
      "source": [
        "Finally, to conclude this section, let's find the accuracy on test data using the best estimator found by GridSeach."
      ]
    },
    {
      "metadata": {
        "id": "aAdp0AWcsewC",
        "colab_type": "code",
        "colab": {}
      },
      "cell_type": "code",
      "source": [
        "#X_test_transformed = bow_fit.transform(X_test)"
      ],
      "execution_count": 0,
      "outputs": []
    },
    {
      "metadata": {
        "id": "_Hk0eib-ordc",
        "colab_type": "code",
        "colab": {
          "base_uri": "https://localhost:8080/",
          "height": 35
        },
        "outputId": "e623bb4c-ddad-443e-8c1d-76ec91b280c3"
      },
      "cell_type": "code",
      "source": [
        "clf.score(X_test_transformed, y_test)"
      ],
      "execution_count": 0,
      "outputs": [
        {
          "output_type": "execute_result",
          "data": {
            "text/plain": [
              "0.886125"
            ]
          },
          "metadata": {
            "tags": []
          },
          "execution_count": 50
        }
      ]
    },
    {
      "metadata": {
        "id": "a9Euxjj-sxa4",
        "colab_type": "text"
      },
      "cell_type": "markdown",
      "source": [
        "## Tfidf\n",
        "\n",
        "In this section, we'll convert the raw text data into vectors by using the Tfidf format. The flow will be similar to what we did for BoW. \n",
        "\n",
        "Let's begin by creating a Tfidf object."
      ]
    },
    {
      "metadata": {
        "id": "jatGQ3T8s4uO",
        "colab_type": "code",
        "colab": {}
      },
      "cell_type": "code",
      "source": [
        "tfidf = TfidfVectorizer(ngram_range=(1,1))"
      ],
      "execution_count": 0,
      "outputs": []
    },
    {
      "metadata": {
        "id": "Y0PL7QQe4TGu",
        "colab_type": "code",
        "colab": {
          "base_uri": "https://localhost:8080/",
          "height": 141
        },
        "outputId": "abaf4136-3247-428d-b36e-099e57cf8462"
      },
      "cell_type": "code",
      "source": [
        "tfidf"
      ],
      "execution_count": 0,
      "outputs": [
        {
          "output_type": "execute_result",
          "data": {
            "text/plain": [
              "TfidfVectorizer(analyzer='word', binary=False, decode_error='strict',\n",
              "        dtype=<class 'numpy.int64'>, encoding='utf-8', input='content',\n",
              "        lowercase=True, max_df=1.0, max_features=None, min_df=1,\n",
              "        ngram_range=(1, 1), norm='l2', preprocessor=None, smooth_idf=True,\n",
              "        stop_words=None, strip_accents=None, sublinear_tf=False,\n",
              "        token_pattern='(?u)\\\\b\\\\w\\\\w+\\\\b', tokenizer=None, use_idf=True,\n",
              "        vocabulary=None)"
            ]
          },
          "metadata": {
            "tags": []
          },
          "execution_count": 52
        }
      ]
    },
    {
      "metadata": {
        "id": "dLkiQ9oV4YhL",
        "colab_type": "text"
      },
      "cell_type": "markdown",
      "source": [
        "Fit the train reviews corpus into Tfidf format. Following is a quick reminder of the raw data stored in X_train. "
      ]
    },
    {
      "metadata": {
        "id": "ArUsO98SigC3",
        "colab_type": "code",
        "colab": {},
        "outputId": "19cbd646-b9b0-4cce-ac1c-fe4266690993"
      },
      "cell_type": "code",
      "source": [
        "X_train[0]"
      ],
      "execution_count": 0,
      "outputs": [
        {
          "output_type": "execute_result",
          "data": {
            "text/plain": [
              "b'witti littl book make son laugh loud recit car drive along alway sing refrain he learn whale india droop love new word book introduc silli classic book will bet son still abl recit memori colleg'"
            ]
          },
          "metadata": {
            "tags": []
          },
          "execution_count": 53
        }
      ]
    },
    {
      "metadata": {
        "id": "JntABu-rtlfZ",
        "colab_type": "code",
        "colab": {}
      },
      "cell_type": "code",
      "source": [
        "tfidf_fit = tfidf.fit(X_train)"
      ],
      "execution_count": 0,
      "outputs": []
    },
    {
      "metadata": {
        "id": "6AfJaKcStr8R",
        "colab_type": "code",
        "colab": {
          "base_uri": "https://localhost:8080/",
          "height": 141
        },
        "outputId": "ab98910c-bcc9-4e86-c397-775fd22e5f65"
      },
      "cell_type": "code",
      "source": [
        "tfidf_fit"
      ],
      "execution_count": 0,
      "outputs": [
        {
          "output_type": "execute_result",
          "data": {
            "text/plain": [
              "TfidfVectorizer(analyzer='word', binary=False, decode_error='strict',\n",
              "        dtype=<class 'numpy.int64'>, encoding='utf-8', input='content',\n",
              "        lowercase=True, max_df=1.0, max_features=None, min_df=1,\n",
              "        ngram_range=(1, 1), norm='l2', preprocessor=None, smooth_idf=True,\n",
              "        stop_words=None, strip_accents=None, sublinear_tf=False,\n",
              "        token_pattern='(?u)\\\\b\\\\w\\\\w+\\\\b', tokenizer=None, use_idf=True,\n",
              "        vocabulary=None)"
            ]
          },
          "metadata": {
            "tags": []
          },
          "execution_count": 55
        }
      ]
    },
    {
      "metadata": {
        "id": "GvwIUhh34snB",
        "colab_type": "text"
      },
      "cell_type": "markdown",
      "source": [
        "\n",
        "Transform Train reviews"
      ]
    },
    {
      "metadata": {
        "id": "GR_eRIksttaK",
        "colab_type": "code",
        "colab": {},
        "outputId": "c420e256-eb79-4f08-8b11-7f4f3ee67a0a"
      },
      "cell_type": "code",
      "source": [
        "%%time\n",
        "try:\n",
        "    del(X_train_transformed)\n",
        "except:\n",
        "    print('variable not found.')\n",
        "    \n",
        "X_train_transformed = tfidf_fit.transform(X_train)"
      ],
      "execution_count": 0,
      "outputs": [
        {
          "output_type": "stream",
          "text": [
            "CPU times: user 972 ms, sys: 4.22 ms, total: 976 ms\n",
            "Wall time: 974 ms\n"
          ],
          "name": "stdout"
        }
      ]
    },
    {
      "metadata": {
        "id": "mRL3-CvTigC_",
        "colab_type": "text"
      },
      "cell_type": "markdown",
      "source": [
        "The X_train_transformed array now contains vectors in the Tfidf format."
      ]
    },
    {
      "metadata": {
        "id": "xJpRex6It1Cl",
        "colab_type": "code",
        "colab": {
          "base_uri": "https://localhost:8080/",
          "height": 52
        },
        "outputId": "570d5e3c-b341-4deb-d75b-d78606e02d32"
      },
      "cell_type": "code",
      "source": [
        "X_train_transformed"
      ],
      "execution_count": 0,
      "outputs": [
        {
          "output_type": "execute_result",
          "data": {
            "text/plain": [
              "<32000x22440 sparse matrix of type '<class 'numpy.float64'>'\n",
              "\twith 939149 stored elements in Compressed Sparse Row format>"
            ]
          },
          "metadata": {
            "tags": []
          },
          "execution_count": 57
        }
      ]
    },
    {
      "metadata": {
        "id": "JuB2zIwvigDC",
        "colab_type": "text"
      },
      "cell_type": "markdown",
      "source": [
        "Transform Test data as well."
      ]
    },
    {
      "metadata": {
        "id": "ZNpe7Lelyjvf",
        "colab_type": "code",
        "colab": {}
      },
      "cell_type": "code",
      "source": [
        "X_test_transformed = tfidf_fit.transform(X_test)"
      ],
      "execution_count": 0,
      "outputs": []
    },
    {
      "metadata": {
        "id": "QSOtjKCNys35",
        "colab_type": "code",
        "colab": {
          "base_uri": "https://localhost:8080/",
          "height": 52
        },
        "outputId": "f7456a85-9fa2-4b9a-800d-1bb66923b8e4"
      },
      "cell_type": "code",
      "source": [
        "X_test_transformed"
      ],
      "execution_count": 0,
      "outputs": [
        {
          "output_type": "execute_result",
          "data": {
            "text/plain": [
              "<8000x22440 sparse matrix of type '<class 'numpy.float64'>'\n",
              "\twith 234338 stored elements in Compressed Sparse Row format>"
            ]
          },
          "metadata": {
            "tags": []
          },
          "execution_count": 59
        }
      ]
    },
    {
      "metadata": {
        "id": "Ng5PyXZ1igDN",
        "colab_type": "text"
      },
      "cell_type": "markdown",
      "source": [
        "Standardize the data"
      ]
    },
    {
      "metadata": {
        "id": "9YD9I5OPigDO",
        "colab_type": "code",
        "colab": {}
      },
      "cell_type": "code",
      "source": [
        "scaler = StandardScaler(with_mean=False)\n",
        "X_train_transformed = scaler.fit_transform(X_train_transformed)"
      ],
      "execution_count": 0,
      "outputs": []
    },
    {
      "metadata": {
        "id": "SLSCcZk-igDP",
        "colab_type": "code",
        "colab": {}
      },
      "cell_type": "code",
      "source": [
        "X_test_transformed = scaler.transform(X_test_transformed)"
      ],
      "execution_count": 0,
      "outputs": []
    },
    {
      "metadata": {
        "id": "xAtTaY4I5YpQ",
        "colab_type": "text"
      },
      "cell_type": "markdown",
      "source": [
        "Similar to what we did for BoW, we need to reduce the dimensions of the Tfidf vectors so that the Kd_tree algorithm can handle the workload."
      ]
    },
    {
      "metadata": {
        "id": "wU3cnGWUmlVQ",
        "colab_type": "code",
        "colab": {}
      },
      "cell_type": "code",
      "source": [
        "try:\n",
        "    del(X_train_transformed_svd)\n",
        "except:\n",
        "    print('variable not found.')"
      ],
      "execution_count": 0,
      "outputs": []
    },
    {
      "metadata": {
        "id": "QFOMcHt05Xwf",
        "colab_type": "code",
        "colab": {
          "base_uri": "https://localhost:8080/",
          "height": 35
        },
        "outputId": "b2a54010-83c0-4e7a-df49-e08e455ad70c"
      },
      "cell_type": "code",
      "source": [
        "svd = TruncatedSVD(n_components=100, random_state = 7)\n",
        "X_train_transformed_svd = svd.fit_transform(X_train_transformed)\n",
        "X_train_transformed_svd.shape"
      ],
      "execution_count": 0,
      "outputs": [
        {
          "output_type": "execute_result",
          "data": {
            "text/plain": [
              "(32000, 100)"
            ]
          },
          "metadata": {
            "tags": []
          },
          "execution_count": 63
        }
      ]
    },
    {
      "metadata": {
        "id": "3KL3_14iigDW",
        "colab_type": "text"
      },
      "cell_type": "markdown",
      "source": [
        "Transform test data too."
      ]
    },
    {
      "metadata": {
        "id": "uWm6KQ0ky0p3",
        "colab_type": "code",
        "colab": {
          "base_uri": "https://localhost:8080/",
          "height": 35
        },
        "outputId": "77938f19-96eb-4031-eabd-6f017c4208a9"
      },
      "cell_type": "code",
      "source": [
        "X_test_transformed_svd = svd.transform(X_test_transformed)\n",
        "X_test_transformed_svd.shape"
      ],
      "execution_count": 0,
      "outputs": [
        {
          "output_type": "execute_result",
          "data": {
            "text/plain": [
              "(8000, 100)"
            ]
          },
          "metadata": {
            "tags": []
          },
          "execution_count": 64
        }
      ]
    },
    {
      "metadata": {
        "id": "86ZWpzLLigDY",
        "colab_type": "text"
      },
      "cell_type": "markdown",
      "source": [
        "Now, it's time to start preparing for GridSearch! Let's split the Train data using TimeSeriesSplit() like we did with BoW. "
      ]
    },
    {
      "metadata": {
        "id": "Zfca8cuf5o0q",
        "colab_type": "code",
        "colab": {}
      },
      "cell_type": "code",
      "source": [
        "try:\n",
        "    del(my_cv)\n",
        "    del(tscv)\n",
        "except:\n",
        "    print('Some variables not found.')\n",
        "\n",
        "tscv = TimeSeriesSplit(n_splits=3)\n",
        "my_cv = tscv.split(X_train_transformed_svd)"
      ],
      "execution_count": 0,
      "outputs": []
    },
    {
      "metadata": {
        "id": "P_PluxTSigDZ",
        "colab_type": "text"
      },
      "cell_type": "markdown",
      "source": [
        "Define the GridSearch object for KNN using the algorithm 'kd_tree'"
      ]
    },
    {
      "metadata": {
        "id": "ej3RDMp2570E",
        "colab_type": "code",
        "colab": {}
      },
      "cell_type": "code",
      "source": [
        "knn = KNeighborsClassifier(algorithm = 'kd_tree')\n",
        "\n",
        "param_grid = {\n",
        "                'n_neighbors':[9,11,13,15],\n",
        "                'weights' : ['uniform', 'distance']\n",
        "             }\n",
        "\n",
        "clf = GridSearchCV(estimator=knn, cv=my_cv, param_grid=param_grid, return_train_score=True, n_jobs=4)"
      ],
      "execution_count": 0,
      "outputs": []
    },
    {
      "metadata": {
        "id": "YJN1pgGOigDa",
        "colab_type": "text"
      },
      "cell_type": "markdown",
      "source": [
        "Fit it!"
      ]
    },
    {
      "metadata": {
        "id": "9cGmp91I6DPs",
        "colab_type": "code",
        "colab": {
          "base_uri": "https://localhost:8080/",
          "height": 177
        },
        "outputId": "2d63e1e8-6f7a-4478-b76a-21d653d021ec"
      },
      "cell_type": "code",
      "source": [
        "%%notify\n",
        "%%time\n",
        "clf.fit(X_train_transformed_svd, y_train)"
      ],
      "execution_count": 0,
      "outputs": [
        {
          "output_type": "stream",
          "text": [
            "CPU times: user 2.24 s, sys: 380 ms, total: 2.62 s\n",
            "Wall time: 17min 22s\n"
          ],
          "name": "stdout"
        },
        {
          "output_type": "execute_result",
          "data": {
            "text/plain": [
              "GridSearchCV(cv=<generator object TimeSeriesSplit.split at 0x7f6c4bedcb48>,\n",
              "       error_score='raise',\n",
              "       estimator=KNeighborsClassifier(algorithm='kd_tree', leaf_size=30, metric='minkowski',\n",
              "           metric_params=None, n_jobs=1, n_neighbors=5, p=2,\n",
              "           weights='uniform'),\n",
              "       fit_params=None, iid=True, n_jobs=4,\n",
              "       param_grid={'n_neighbors': [9, 11, 13, 15], 'weights': ['uniform', 'distance']},\n",
              "       pre_dispatch='2*n_jobs', refit=True, return_train_score=True,\n",
              "       scoring=None, verbose=0)"
            ]
          },
          "metadata": {
            "tags": []
          },
          "execution_count": 68
        },
        {
          "output_type": "display_data",
          "data": {
            "application/javascript": [
              "$(document).ready(\n",
              "    function() {\n",
              "        function appendUniqueDiv(){\n",
              "            // append a div with our uuid so we can check that it's already\n",
              "            // been sent and avoid duplicates on page reload\n",
              "            var notifiedDiv = document.createElement(\"div\")\n",
              "            notifiedDiv.id = \"b17b44e3-8f38-433e-a493-3e6e1072680f\"\n",
              "            element.append(notifiedDiv)\n",
              "        }\n",
              "\n",
              "        // only send notifications if the pageload is complete; this will\n",
              "        // help stop extra notifications when a saved notebook is loaded,\n",
              "        // which during testing gives us state \"interactive\", not \"complete\"\n",
              "        if (document.readyState === 'complete') {\n",
              "            // check for the div that signifies that the notification\n",
              "            // was already sent\n",
              "            if (document.getElementById(\"b17b44e3-8f38-433e-a493-3e6e1072680f\") === null) {\n",
              "                var notificationPayload = {\"requireInteraction\": false, \"icon\": \"/static/base/images/favicon.ico\", \"body\": \"Cell execution has finished!\"};\n",
              "                if (Notification.permission !== 'denied') {\n",
              "                    if (Notification.permission !== 'granted') { \n",
              "                        Notification.requestPermission(function (permission) {\n",
              "                            if(!('permission' in Notification)) {\n",
              "                                Notification.permission = permission\n",
              "                            }\n",
              "                        })\n",
              "                    }\n",
              "                    if (Notification.permission === 'granted') {\n",
              "                    var notification = new Notification(\"Jupyter Notebook\", notificationPayload)\n",
              "                    appendUniqueDiv()\n",
              "                    notification.onclick = function () {\n",
              "                        window.focus();\n",
              "                        this.close();\n",
              "                        };\n",
              "                    } \n",
              "                }     \n",
              "            }\n",
              "        }\n",
              "    }\n",
              ")\n"
            ],
            "text/plain": [
              "<IPython.core.display.Javascript object>"
            ]
          },
          "metadata": {
            "tags": []
          }
        }
      ]
    },
    {
      "metadata": {
        "id": "pgXIVtczzIhn",
        "colab_type": "text"
      },
      "cell_type": "markdown",
      "source": [
        "**Confusion Matrix**\n",
        "\n",
        "Plot the confusion matrix for Train and test data using KD_tree algorithm of KNN on Tfidf represented data."
      ]
    },
    {
      "metadata": {
        "id": "22SJxJZgzHdQ",
        "colab_type": "code",
        "colab": {
          "base_uri": "https://localhost:8080/",
          "height": 437
        },
        "outputId": "45525465-92fa-49af-f2d9-1f7ba7d51b9b"
      },
      "cell_type": "code",
      "source": [
        "%%notify\n",
        "\n",
        "plt.figure(figsize=(15,6))\n",
        "plt.subplot(1,2,1)\n",
        "\n",
        "cm_tfidf_kd_train = confusion_matrix(y_train, clf.predict(X_train_transformed_svd))\n",
        "df_cm = pd.DataFrame(cm_tfidf_kd_train, range(2), range(2))\n",
        "sbn.heatmap(df_cm, annot=True, annot_kws={\"size\":16}, cbar=False, fmt = 'd', xticklabels=['Negative', 'Positive'], yticklabels=['Negative', 'Positive'])\n",
        "plt.xticks(fontsize=13)\n",
        "plt.yticks(fontsize=13)\n",
        "plt.title('Train Data', fontsize = 14)\n",
        "\n",
        "plt.subplot(1,2,2)\n",
        "cm_tfidf_kd_test = confusion_matrix(y_test, clf.predict(X_test_transformed_svd))\n",
        "df_cm = pd.DataFrame(cm_tfidf_kd_test, range(2), range(2))\n",
        "sbn.heatmap(df_cm, annot=True, annot_kws={\"size\":16}, cbar=False, fmt = 'd', xticklabels=['Negative', 'Positive'], yticklabels=['Negative', 'Positive'])\n",
        "plt.xticks(fontsize=13)\n",
        "plt.yticks(fontsize=13)\n",
        "plt.title('Test Data', fontsize = 14)\n",
        "\n",
        "plt.tight_layout()"
      ],
      "execution_count": 0,
      "outputs": [
        {
          "output_type": "display_data",
          "data": {
            "image/png": "[encoded data removed]",
            "text/plain": [
              "<Figure size 1080x432 with 2 Axes>"
            ]
          },
          "metadata": {
            "tags": []
          }
        },
        {
          "output_type": "display_data",
          "data": {
            "application/javascript": [
              "$(document).ready(\n",
              "    function() {\n",
              "        function appendUniqueDiv(){\n",
              "            // append a div with our uuid so we can check that it's already\n",
              "            // been sent and avoid duplicates on page reload\n",
              "            var notifiedDiv = document.createElement(\"div\")\n",
              "            notifiedDiv.id = \"f4990e4a-724c-43b1-9894-7a9dec05714f\"\n",
              "            element.append(notifiedDiv)\n",
              "        }\n",
              "\n",
              "        // only send notifications if the pageload is complete; this will\n",
              "        // help stop extra notifications when a saved notebook is loaded,\n",
              "        // which during testing gives us state \"interactive\", not \"complete\"\n",
              "        if (document.readyState === 'complete') {\n",
              "            // check for the div that signifies that the notification\n",
              "            // was already sent\n",
              "            if (document.getElementById(\"f4990e4a-724c-43b1-9894-7a9dec05714f\") === null) {\n",
              "                var notificationPayload = {\"requireInteraction\": false, \"icon\": \"/static/base/images/favicon.ico\", \"body\": \"Cell execution has finished!\"};\n",
              "                if (Notification.permission !== 'denied') {\n",
              "                    if (Notification.permission !== 'granted') { \n",
              "                        Notification.requestPermission(function (permission) {\n",
              "                            if(!('permission' in Notification)) {\n",
              "                                Notification.permission = permission\n",
              "                            }\n",
              "                        })\n",
              "                    }\n",
              "                    if (Notification.permission === 'granted') {\n",
              "                    var notification = new Notification(\"Jupyter Notebook\", notificationPayload)\n",
              "                    appendUniqueDiv()\n",
              "                    notification.onclick = function () {\n",
              "                        window.focus();\n",
              "                        this.close();\n",
              "                        };\n",
              "                    } \n",
              "                }     \n",
              "            }\n",
              "        }\n",
              "    }\n",
              ")\n"
            ],
            "text/plain": [
              "<IPython.core.display.Javascript object>"
            ]
          },
          "metadata": {
            "tags": []
          }
        }
      ]
    },
    {
      "metadata": {
        "id": "GdbswWOJigDd",
        "colab_type": "text"
      },
      "cell_type": "markdown",
      "source": [
        "**Precision and Recall**"
      ]
    },
    {
      "metadata": {
        "id": "CgYMALMJigDe",
        "colab_type": "code",
        "colab": {},
        "outputId": "cb059792-32ec-4d42-f6c1-a27da83dc1dd"
      },
      "cell_type": "code",
      "source": [
        "%%time\n",
        "\n",
        "# print('Recall for Tfidf|Kd_tree|train: {}'.format(recall_score(y_train, clf.predict(X_train_transformed_svd))))\n",
        "# print('Recall for Tfidf|Kd_tree|test: {}'.format(recall_score(y_test, clf.predict(X_test_transformed_svd))))\n",
        "# print('Precision for Tfidf|Kd_tree|train: {}'.format(precision_score(y_train, clf.predict(X_train_transformed_svd))))\n",
        "# print('Precision for Tfidf|Kd_tree|test: {}'.format(precision_score(y_test, clf.predict(X_test_transformed_svd))))\n",
        "\n",
        "tn, fp, fn, tp = cm_tfidf_kd_train.ravel()\n",
        "print('Recall for Tfidf | kd_tree | train: {}'.format(tp/(tp+fn)))\n",
        "print('Precision for Tfidf | kd_tree | train: {}'.format(tp/(tp+fp)))\n",
        "tn, fp, fn, tp = cm_tfidf_kd_test.ravel()\n",
        "print('Recall for Tfidf | kd_tree | test: {}'.format(tp/(tp+fn)))\n",
        "print('Precision for Tfidf | kd_tree | test: {}'.format(tp/(tp+fp)))\n"
      ],
      "execution_count": 0,
      "outputs": [
        {
          "output_type": "stream",
          "text": [
            "Recall for Tfidf | kd_tree | train: 1.0\n",
            "Precision for Tfidf | kd_tree | train: 1.0\n",
            "Recall for Tfidf | kd_tree | test: 0.9978822532825075\n",
            "Precision for Tfidf | kd_tree | test: 0.8858252913898985\n",
            "CPU times: user 216 µs, sys: 0 ns, total: 216 µs\n",
            "Wall time: 180 µs\n"
          ],
          "name": "stdout"
        }
      ]
    },
    {
      "metadata": {
        "id": "vEasBnQCigDh",
        "colab_type": "text"
      },
      "cell_type": "markdown",
      "source": [
        "Save the results of cross validation in a dataframe."
      ]
    },
    {
      "metadata": {
        "id": "5ZiDw2MS6KUc",
        "colab_type": "code",
        "colab": {}
      },
      "cell_type": "code",
      "source": [
        "DF_tfidf_kd_train = k_weight_score(clf.cv_results_)"
      ],
      "execution_count": 0,
      "outputs": []
    },
    {
      "metadata": {
        "id": "KrIhYEyymlVb",
        "colab_type": "code",
        "colab": {}
      },
      "cell_type": "code",
      "source": [
        "fname = open('/home/ucanreachtvk/data/knn_pickle_files/DF_tfidf_kd_train_50k.pkl','wb')\n",
        "pickle.dump(DF_tfidf_kd_train,fname)\n",
        "fname.close()"
      ],
      "execution_count": 0,
      "outputs": []
    },
    {
      "metadata": {
        "id": "XzpTuZSR7A-z",
        "colab_type": "text"
      },
      "cell_type": "markdown",
      "source": [
        "**Brute algorithm of KNN**\n",
        "\n",
        "Let's do the same analysis, but this time using the brute algrithm of KNN. It can handle large number of features. So, no need to reduce the dimensions using SVD.\n",
        "\n",
        "Define cross validation split using TimeSeriesSplot()"
      ]
    },
    {
      "metadata": {
        "id": "O6vZO3e4t3Ma",
        "colab_type": "code",
        "colab": {}
      },
      "cell_type": "code",
      "source": [
        "try:\n",
        "    del(my_cv)\n",
        "    del(tscv)\n",
        "except:\n",
        "    print('Some variables not found.')\n",
        "\n",
        "tscv = TimeSeriesSplit(n_splits=3)\n",
        "my_cv = tscv.split(X_train_transformed)"
      ],
      "execution_count": 0,
      "outputs": []
    },
    {
      "metadata": {
        "id": "4wCur3s9igDk",
        "colab_type": "text"
      },
      "cell_type": "markdown",
      "source": [
        "Create a gridsearch object."
      ]
    },
    {
      "metadata": {
        "id": "Td5Ue9kXuslL",
        "colab_type": "code",
        "colab": {}
      },
      "cell_type": "code",
      "source": [
        "try:\n",
        "    del(clf)\n",
        "except:\n",
        "    print('Variable not found')\n",
        "    \n",
        "knn = KNeighborsClassifier(algorithm='brute')\n",
        "\n",
        "param_grid = {\n",
        "                'n_neighbors':[9,11,13,15],\n",
        "                'weights' : ['uniform', 'distance']\n",
        "             }\n",
        "\n",
        "clf = GridSearchCV(estimator=knn, cv=my_cv, param_grid=param_grid, return_train_score=True)"
      ],
      "execution_count": 0,
      "outputs": []
    },
    {
      "metadata": {
        "id": "p2wNIRSeigDn",
        "colab_type": "text"
      },
      "cell_type": "markdown",
      "source": [
        "Fit it!"
      ]
    },
    {
      "metadata": {
        "id": "92kBVKHfuhK5",
        "colab_type": "code",
        "colab": {
          "base_uri": "https://localhost:8080/",
          "height": 177
        },
        "outputId": "39dae49d-ac95-4661-a7e5-892bb9f49d2c"
      },
      "cell_type": "code",
      "source": [
        "%%notify\n",
        "%%time\n",
        "\n",
        "clf.fit(X_train_transformed, y_train)"
      ],
      "execution_count": 0,
      "outputs": [
        {
          "output_type": "stream",
          "text": [
            "CPU times: user 6min 27s, sys: 2min 22s, total: 8min 49s\n",
            "Wall time: 8min 42s\n"
          ],
          "name": "stdout"
        },
        {
          "output_type": "execute_result",
          "data": {
            "text/plain": [
              "GridSearchCV(cv=<generator object TimeSeriesSplit.split at 0x7f6c476c1a98>,\n",
              "       error_score='raise',\n",
              "       estimator=KNeighborsClassifier(algorithm='brute', leaf_size=30, metric='minkowski',\n",
              "           metric_params=None, n_jobs=1, n_neighbors=5, p=2,\n",
              "           weights='uniform'),\n",
              "       fit_params=None, iid=True, n_jobs=1,\n",
              "       param_grid={'n_neighbors': [9, 11, 13, 15], 'weights': ['uniform', 'distance']},\n",
              "       pre_dispatch='2*n_jobs', refit=True, return_train_score=True,\n",
              "       scoring=None, verbose=0)"
            ]
          },
          "metadata": {
            "tags": []
          },
          "execution_count": 74
        },
        {
          "output_type": "display_data",
          "data": {
            "application/javascript": [
              "$(document).ready(\n",
              "    function() {\n",
              "        function appendUniqueDiv(){\n",
              "            // append a div with our uuid so we can check that it's already\n",
              "            // been sent and avoid duplicates on page reload\n",
              "            var notifiedDiv = document.createElement(\"div\")\n",
              "            notifiedDiv.id = \"23f71a59-f07a-406e-959e-37a65633f137\"\n",
              "            element.append(notifiedDiv)\n",
              "        }\n",
              "\n",
              "        // only send notifications if the pageload is complete; this will\n",
              "        // help stop extra notifications when a saved notebook is loaded,\n",
              "        // which during testing gives us state \"interactive\", not \"complete\"\n",
              "        if (document.readyState === 'complete') {\n",
              "            // check for the div that signifies that the notification\n",
              "            // was already sent\n",
              "            if (document.getElementById(\"23f71a59-f07a-406e-959e-37a65633f137\") === null) {\n",
              "                var notificationPayload = {\"requireInteraction\": false, \"icon\": \"/static/base/images/favicon.ico\", \"body\": \"Cell execution has finished!\"};\n",
              "                if (Notification.permission !== 'denied') {\n",
              "                    if (Notification.permission !== 'granted') { \n",
              "                        Notification.requestPermission(function (permission) {\n",
              "                            if(!('permission' in Notification)) {\n",
              "                                Notification.permission = permission\n",
              "                            }\n",
              "                        })\n",
              "                    }\n",
              "                    if (Notification.permission === 'granted') {\n",
              "                    var notification = new Notification(\"Jupyter Notebook\", notificationPayload)\n",
              "                    appendUniqueDiv()\n",
              "                    notification.onclick = function () {\n",
              "                        window.focus();\n",
              "                        this.close();\n",
              "                        };\n",
              "                    } \n",
              "                }     \n",
              "            }\n",
              "        }\n",
              "    }\n",
              ")\n"
            ],
            "text/plain": [
              "<IPython.core.display.Javascript object>"
            ]
          },
          "metadata": {
            "tags": []
          }
        }
      ]
    },
    {
      "metadata": {
        "id": "06_bJxga0GtL",
        "colab_type": "text"
      },
      "cell_type": "markdown",
      "source": [
        "**Confusion matrix for Tfidf using Brute Algorithm**\n"
      ]
    },
    {
      "metadata": {
        "id": "D81I7_bX0MEd",
        "colab_type": "code",
        "colab": {
          "base_uri": "https://localhost:8080/",
          "height": 437
        },
        "outputId": "6cb6e45b-3b23-450e-a151-2cbc10f86493"
      },
      "cell_type": "code",
      "source": [
        "plt.figure(figsize=(15,6))\n",
        "plt.subplot(1,2,1)\n",
        "\n",
        "cm_tfidf_brute_train = confusion_matrix(y_train, clf.predict(X_train_transformed))\n",
        "df_cm = pd.DataFrame(cm_tfidf_brute_train, range(2), range(2))\n",
        "sbn.heatmap(df_cm, annot=True, annot_kws={\"size\":16}, cbar=False, fmt = 'd', xticklabels=['Negative', 'Positive'], yticklabels=['Negative', 'Positive'])\n",
        "plt.xticks(fontsize=13)\n",
        "plt.yticks(fontsize=13)\n",
        "plt.title('Train Data', fontsize = 14)\n",
        "\n",
        "plt.subplot(1,2,2)\n",
        "cm_tfidf_brute_test = confusion_matrix(y_test, clf.predict(X_test_transformed))\n",
        "df_cm = pd.DataFrame(cm_tfidf_brute_test, range(2), range(2))\n",
        "sbn.heatmap(df_cm, annot=True, annot_kws={\"size\":16}, cbar=False, fmt = 'd', xticklabels=['Negative', 'Positive'], yticklabels=['Negative', 'Positive'])\n",
        "plt.xticks(fontsize=13)\n",
        "plt.yticks(fontsize=13)\n",
        "plt.title('Test Data', fontsize = 14)\n",
        "\n",
        "plt.tight_layout()"
      ],
      "execution_count": 0,
      "outputs": [
        {
          "output_type": "display_data",
          "data": {
            "image/png": "[encoded data removed]",
            "text/plain": [
              "<Figure size 1080x432 with 2 Axes>"
            ]
          },
          "metadata": {
            "tags": []
          }
        }
      ]
    },
    {
      "metadata": {
        "id": "bDj1uwr2igDt",
        "colab_type": "text"
      },
      "cell_type": "markdown",
      "source": [
        "**Precision and Recall**"
      ]
    },
    {
      "metadata": {
        "id": "W_zL9wbJigDu",
        "colab_type": "code",
        "colab": {},
        "outputId": "d29521be-4d6d-4179-ac0e-ced847a43795"
      },
      "cell_type": "code",
      "source": [
        "# print('Recall for Tfidf | brute | train: {}'.format(recall_score(y_train, clf.predict(X_train_transformed))))\n",
        "# print('Recall for Tfidf | brute | test: {}'.format(recall_score(y_test, clf.predict(X_test_transformed))))\n",
        "# print('Precision for Tfidf | brute | train: {}'.format(precision_score(y_train, clf.predict(X_train_transformed))))\n",
        "# print('Precision for Tfidf | brute | test: {}'.format(precision_score(y_test, clf.predict(X_test_transformed))))\n",
        "\n",
        "tn, fp, fn, tp = cm_tfidf_brute_train.ravel()\n",
        "print('Recall for Tfidf | Brute | train: {}'.format(tp/(tp+fn)))\n",
        "print('Precision for Tfidf | Brute | train: {}'.format(tp/(tp+fp)))\n",
        "tn, fp, fn, tp = cm_tfidf_brute_test.ravel()\n",
        "print('Recall for Tfidf | Brute | test: {}'.format(tp/(tp+fn)))\n",
        "print('Precision for Tfidf | Brute | test: {}'.format(tp/(tp+fp)))"
      ],
      "execution_count": 0,
      "outputs": [
        {
          "output_type": "stream",
          "text": [
            "Recall for Tfidf | Brute | train: 0.9999298491757278\n",
            "Precision for Tfidf | Brute | train: 0.891934171829047\n",
            "Recall for Tfidf | Brute | test: 0.9998588168855005\n",
            "Precision for Tfidf | Brute | test: 0.886025272113099\n"
          ],
          "name": "stdout"
        }
      ]
    },
    {
      "metadata": {
        "id": "7gVJmkiLigDv",
        "colab_type": "text"
      },
      "cell_type": "markdown",
      "source": [
        "Save the results of GridSearch in a dataframe."
      ]
    },
    {
      "metadata": {
        "id": "hIdyIjE_uoxi",
        "colab_type": "code",
        "colab": {}
      },
      "cell_type": "code",
      "source": [
        "DF_tfidf_brute_train = k_weight_score(clf.cv_results_)"
      ],
      "execution_count": 0,
      "outputs": []
    },
    {
      "metadata": {
        "id": "exvS1vz4mlVu",
        "colab_type": "code",
        "colab": {}
      },
      "cell_type": "code",
      "source": [
        "fname = open('/home/ucanreachtvk/data/knn_pickle_files/DF_tfidf_brute_train.pkl','wb')\n",
        "pickle.dump(DF_tfidf_brute_train,fname)\n",
        "fname.close()"
      ],
      "execution_count": 0,
      "outputs": []
    },
    {
      "metadata": {
        "id": "kxANfg8kigDy",
        "colab_type": "text"
      },
      "cell_type": "markdown",
      "source": [
        "**Summary of Gridsearch of KNN using kd_tree and brute**\n",
        "\n",
        "The cells give the accuracy for corresponding combination of K and weight."
      ]
    },
    {
      "metadata": {
        "id": "T45Rvrp8mlVv",
        "colab_type": "code",
        "colab": {
          "base_uri": "https://localhost:8080/",
          "height": 437
        },
        "outputId": "f056ed93-6ef8-442e-fcbd-2d8aa5315546"
      },
      "cell_type": "code",
      "source": [
        "plt.figure(figsize=(15,6))\n",
        "\n",
        "plt.subplot(1,2,1)\n",
        "sbn.heatmap(data=DF_tfidf_brute_train.pivot('weight','k','score'), annot=True, linewidth = 0.5)\n",
        "plt.title('BoW | Training/CV set | Brute', fontsize = 15)\n",
        "plt.xlabel('K', fontsize = 14)\n",
        "plt.ylabel('Weight', fontsize = 14)\n",
        "plt.xticks(fontsize=13)\n",
        "plt.yticks(fontsize=13)\n",
        "#plt.show()\n",
        "\n",
        "plt.subplot(1,2,2)\n",
        "sbn.heatmap(data=DF_tfidf_kd_train.pivot('weight','k','score'), annot=True, linewidth = 0.5)\n",
        "plt.title('BoW | Training/CV set | kd_tree', fontsize = 15)\n",
        "plt.xlabel('K', fontsize = 14)\n",
        "plt.ylabel('Weight', fontsize = 14)\n",
        "plt.xticks(fontsize=13)\n",
        "plt.yticks(fontsize=13)\n",
        "\n",
        "plt.tight_layout()\n",
        "plt.show()"
      ],
      "execution_count": 0,
      "outputs": [
        {
          "output_type": "display_data",
          "data": {
            "image/png": "[encoded data removed]",
            "text/plain": [
              "<Figure size 1080x432 with 4 Axes>"
            ]
          },
          "metadata": {
            "tags": []
          }
        }
      ]
    },
    {
      "metadata": {
        "id": "68IWY5vHwaMm",
        "colab_type": "text"
      },
      "cell_type": "markdown",
      "source": [
        "To conclude this section on Tfidf, let's calculate the accuracy on test data using the best estimator found by gridsearch."
      ]
    },
    {
      "metadata": {
        "id": "wBqX5L2Owlu2",
        "colab_type": "code",
        "colab": {
          "base_uri": "https://localhost:8080/",
          "height": 35
        },
        "outputId": "967b2b90-8861-403d-9c31-86198dda7c50"
      },
      "cell_type": "code",
      "source": [
        "clf.score(X_test_transformed, y_test)"
      ],
      "execution_count": 0,
      "outputs": [
        {
          "output_type": "execute_result",
          "data": {
            "text/plain": [
              "0.886"
            ]
          },
          "metadata": {
            "tags": []
          },
          "execution_count": 79
        }
      ]
    },
    {
      "metadata": {
        "id": "CTDTvR5w449s",
        "colab_type": "text"
      },
      "cell_type": "markdown",
      "source": [
        "## Avg. W2V\n",
        "\n",
        "In this section, we'll represent the reviews in W2V format and perform the same analysis as before.\n",
        "\n",
        "For W2V howerver, each review will have only 50 dimenions which is very small compared to BoW and Tfidf. Hence, we can direcly use the kd_tree algorithm of KNN, without reducing the features first."
      ]
    },
    {
      "metadata": {
        "id": "MDIic_zc45BC",
        "colab_type": "code",
        "colab": {}
      },
      "cell_type": "code",
      "source": [
        "from gensim.models import Word2Vec\n",
        "from gensim.models import KeyedVectors"
      ],
      "execution_count": 0,
      "outputs": []
    },
    {
      "metadata": {
        "id": "CTLt-4ma45Ga",
        "colab_type": "code",
        "colab": {}
      },
      "cell_type": "code",
      "source": [
        "#!pip install --upgrade pip\n",
        "#!pip install gensim\n",
        "#!pip install google-compute-engine"
      ],
      "execution_count": 0,
      "outputs": []
    },
    {
      "metadata": {
        "id": "oORTqxxHigD5",
        "colab_type": "text"
      },
      "cell_type": "markdown",
      "source": [
        "Create a list of reviews to train our W2V model."
      ]
    },
    {
      "metadata": {
        "id": "6Njy_kcZ5Ed-",
        "colab_type": "code",
        "colab": {}
      },
      "cell_type": "code",
      "source": [
        "# Training a Word2Vec model using our own corpus\n",
        "\n",
        "list_of_reviews = []\n",
        "\n",
        "for review in X_train:\n",
        "    list_of_reviews.append(review.decode('utf-8').split())"
      ],
      "execution_count": 0,
      "outputs": []
    },
    {
      "metadata": {
        "id": "eptY8r215MkE",
        "colab_type": "code",
        "colab": {
          "base_uri": "https://localhost:8080/",
          "height": 35
        },
        "outputId": "3d8c3ebe-ac63-4aff-fa8c-8ab7f403795f"
      },
      "cell_type": "code",
      "source": [
        "len(list_of_reviews)"
      ],
      "execution_count": 0,
      "outputs": [
        {
          "output_type": "execute_result",
          "data": {
            "text/plain": [
              "32000"
            ]
          },
          "metadata": {
            "tags": []
          },
          "execution_count": 82
        }
      ]
    },
    {
      "metadata": {
        "id": "lfzrXJIkigD8",
        "colab_type": "text"
      },
      "cell_type": "markdown",
      "source": [
        "Train the W2V model and build vocabulary."
      ]
    },
    {
      "metadata": {
        "id": "2xtTH0qG5QYA",
        "colab_type": "code",
        "colab": {}
      },
      "cell_type": "code",
      "source": [
        "w2v_model = Word2Vec(list_of_reviews, min_count=4,size=50,workers=4)"
      ],
      "execution_count": 0,
      "outputs": []
    },
    {
      "metadata": {
        "id": "yPSuA5vQigD_",
        "colab_type": "text"
      },
      "cell_type": "markdown",
      "source": [
        "How many words are there in the vocabulary?"
      ]
    },
    {
      "metadata": {
        "id": "JpqYvZV45TkP",
        "colab_type": "code",
        "colab": {
          "base_uri": "https://localhost:8080/",
          "height": 35
        },
        "outputId": "dfc0b636-1ef6-43ee-e03d-6615499a8d2b"
      },
      "cell_type": "code",
      "source": [
        "words = list(w2v_model.wv.vocab)\n",
        "print(len(words))"
      ],
      "execution_count": 0,
      "outputs": [
        {
          "output_type": "stream",
          "text": [
            "8739\n"
          ],
          "name": "stdout"
        }
      ]
    },
    {
      "metadata": {
        "id": "RPgDwQL_mlWB",
        "colab_type": "text"
      },
      "cell_type": "markdown",
      "source": [
        "Calculate **Avg.** W2V representation of the training corpus."
      ]
    },
    {
      "metadata": {
        "id": "PfilW1vs5Vw0",
        "colab_type": "code",
        "colab": {}
      },
      "cell_type": "code",
      "source": [
        "corpus_vec_train = np.zeros(shape=(50))\n",
        "\n",
        "for review in X_train:\n",
        "    review_vector = np.zeros(shape=(50))\n",
        "    for word in review.decode('utf-8').split():\n",
        "        try:\n",
        "            \n",
        "            review_vector += w2v_model.wv[word]\n",
        "            \n",
        "        except KeyError:\n",
        "            continue\n",
        "    \n",
        "    review_vector /= 50\n",
        "    corpus_vec_train=np.vstack((corpus_vec_train,review_vector))    \n",
        "corpus_vec_train=np.delete(corpus_vec_train, 0, axis=0)"
      ],
      "execution_count": 0,
      "outputs": []
    },
    {
      "metadata": {
        "id": "f6cSx7x7igEJ",
        "colab_type": "text"
      },
      "cell_type": "markdown",
      "source": [
        "Let's confirm that each review has no more than 50 features."
      ]
    },
    {
      "metadata": {
        "id": "tDpeUA8B5lIU",
        "colab_type": "code",
        "colab": {
          "base_uri": "https://localhost:8080/",
          "height": 35
        },
        "outputId": "8682fec7-0216-420e-dbb0-ea6bf8403f0e"
      },
      "cell_type": "code",
      "source": [
        "corpus_vec_train.shape"
      ],
      "execution_count": 0,
      "outputs": [
        {
          "output_type": "execute_result",
          "data": {
            "text/plain": [
              "(32000, 50)"
            ]
          },
          "metadata": {
            "tags": []
          },
          "execution_count": 86
        }
      ]
    },
    {
      "metadata": {
        "id": "ouJxAvOmigEN",
        "colab_type": "text"
      },
      "cell_type": "markdown",
      "source": [
        "Standardize train data"
      ]
    },
    {
      "metadata": {
        "id": "x7sJiyOwigEN",
        "colab_type": "code",
        "colab": {}
      },
      "cell_type": "code",
      "source": [
        "scaler = StandardScaler()\n",
        "corpus_vec_train = scaler.fit_transform(corpus_vec_train)"
      ],
      "execution_count": 0,
      "outputs": []
    },
    {
      "metadata": {
        "id": "3lpPnr_RigEO",
        "colab_type": "text"
      },
      "cell_type": "markdown",
      "source": [
        "Once again, split the data using timeSeriesSplit for cross validation."
      ]
    },
    {
      "metadata": {
        "id": "ynF4P2gD5ydw",
        "colab_type": "code",
        "colab": {}
      },
      "cell_type": "code",
      "source": [
        "try:\n",
        "    del(tscv, my_cv)\n",
        "except:\n",
        "    print('variable/s not found.')\n",
        "    \n",
        "tscv = TimeSeriesSplit(n_splits=3)\n",
        "my_cv = tscv.split(corpus_vec_train)"
      ],
      "execution_count": 0,
      "outputs": []
    },
    {
      "metadata": {
        "id": "76uas9H56CEw",
        "colab_type": "code",
        "colab": {}
      },
      "cell_type": "code",
      "source": [
        "try:\n",
        "    del(clf)\n",
        "except:\n",
        "    print('variable not found')"
      ],
      "execution_count": 0,
      "outputs": []
    },
    {
      "metadata": {
        "id": "W9lNfQACigER",
        "colab_type": "text"
      },
      "cell_type": "markdown",
      "source": [
        "First let's try the kd_tree algorithm in GridSearch."
      ]
    },
    {
      "metadata": {
        "id": "pwujQ9fp5ohm",
        "colab_type": "code",
        "colab": {}
      },
      "cell_type": "code",
      "source": [
        "#del(clf)\n",
        "knn = KNeighborsClassifier(algorithm='kd_tree')\n",
        "param_grid = {\n",
        "                'n_neighbors':[9,11,13,15],\n",
        "                'weights' : ['uniform', 'distance']\n",
        "             }\n",
        "clf = GridSearchCV(estimator=knn, cv=my_cv, param_grid=param_grid, return_train_score=True, n_jobs=4)"
      ],
      "execution_count": 0,
      "outputs": []
    },
    {
      "metadata": {
        "id": "tcCzPEli6GhO",
        "colab_type": "code",
        "colab": {
          "base_uri": "https://localhost:8080/",
          "height": 177
        },
        "outputId": "bc4cbb5c-3ab8-497c-8fea-a1cccc07c807"
      },
      "cell_type": "code",
      "source": [
        "%%notify\n",
        "%%time\n",
        "\n",
        "\n",
        "clf.fit(corpus_vec_train, y_train)"
      ],
      "execution_count": 0,
      "outputs": [
        {
          "output_type": "stream",
          "text": [
            "CPU times: user 1.19 s, sys: 201 ms, total: 1.39 s\n",
            "Wall time: 7min 56s\n"
          ],
          "name": "stdout"
        },
        {
          "output_type": "execute_result",
          "data": {
            "text/plain": [
              "GridSearchCV(cv=<generator object TimeSeriesSplit.split at 0x7f6c4a98bf68>,\n",
              "       error_score='raise',\n",
              "       estimator=KNeighborsClassifier(algorithm='kd_tree', leaf_size=30, metric='minkowski',\n",
              "           metric_params=None, n_jobs=1, n_neighbors=5, p=2,\n",
              "           weights='uniform'),\n",
              "       fit_params=None, iid=True, n_jobs=4,\n",
              "       param_grid={'n_neighbors': [9, 11, 13, 15], 'weights': ['uniform', 'distance']},\n",
              "       pre_dispatch='2*n_jobs', refit=True, return_train_score=True,\n",
              "       scoring=None, verbose=0)"
            ]
          },
          "metadata": {
            "tags": []
          },
          "execution_count": 91
        },
        {
          "output_type": "display_data",
          "data": {
            "application/javascript": [
              "$(document).ready(\n",
              "    function() {\n",
              "        function appendUniqueDiv(){\n",
              "            // append a div with our uuid so we can check that it's already\n",
              "            // been sent and avoid duplicates on page reload\n",
              "            var notifiedDiv = document.createElement(\"div\")\n",
              "            notifiedDiv.id = \"c762ccd2-66c1-49de-8a13-0ee78f6da71b\"\n",
              "            element.append(notifiedDiv)\n",
              "        }\n",
              "\n",
              "        // only send notifications if the pageload is complete; this will\n",
              "        // help stop extra notifications when a saved notebook is loaded,\n",
              "        // which during testing gives us state \"interactive\", not \"complete\"\n",
              "        if (document.readyState === 'complete') {\n",
              "            // check for the div that signifies that the notification\n",
              "            // was already sent\n",
              "            if (document.getElementById(\"c762ccd2-66c1-49de-8a13-0ee78f6da71b\") === null) {\n",
              "                var notificationPayload = {\"requireInteraction\": false, \"icon\": \"/static/base/images/favicon.ico\", \"body\": \"Cell execution has finished!\"};\n",
              "                if (Notification.permission !== 'denied') {\n",
              "                    if (Notification.permission !== 'granted') { \n",
              "                        Notification.requestPermission(function (permission) {\n",
              "                            if(!('permission' in Notification)) {\n",
              "                                Notification.permission = permission\n",
              "                            }\n",
              "                        })\n",
              "                    }\n",
              "                    if (Notification.permission === 'granted') {\n",
              "                    var notification = new Notification(\"Jupyter Notebook\", notificationPayload)\n",
              "                    appendUniqueDiv()\n",
              "                    notification.onclick = function () {\n",
              "                        window.focus();\n",
              "                        this.close();\n",
              "                        };\n",
              "                    } \n",
              "                }     \n",
              "            }\n",
              "        }\n",
              "    }\n",
              ")\n"
            ],
            "text/plain": [
              "<IPython.core.display.Javascript object>"
            ]
          },
          "metadata": {
            "tags": []
          }
        }
      ]
    },
    {
      "metadata": {
        "id": "LQQMFnc_2XrM",
        "colab_type": "text"
      },
      "cell_type": "markdown",
      "source": [
        "**Transform Test Data**\n",
        "\n",
        "Here, I'm building the W2V vectors for test data using the W2V model which was built by looking at only the train data."
      ]
    },
    {
      "metadata": {
        "id": "YjpG7mtwigET",
        "colab_type": "code",
        "colab": {},
        "outputId": "a4445860-a267-4404-e275-1efb5f967648"
      },
      "cell_type": "code",
      "source": [
        "X_test.shape"
      ],
      "execution_count": 0,
      "outputs": [
        {
          "output_type": "execute_result",
          "data": {
            "text/plain": [
              "(8000,)"
            ]
          },
          "metadata": {
            "tags": []
          },
          "execution_count": 92
        }
      ]
    },
    {
      "metadata": {
        "id": "JYGjFkPI2ZAb",
        "colab_type": "code",
        "colab": {}
      },
      "cell_type": "code",
      "source": [
        "corpus_vec_test = np.zeros(shape=(50))\n",
        "\n",
        "for review in X_test:\n",
        "    review_vector = np.zeros(shape=(50))\n",
        "    for word in review.decode('utf-8').split():\n",
        "        try:\n",
        "            \n",
        "            review_vector += w2v_model.wv[word]\n",
        "            \n",
        "        except KeyError:\n",
        "            continue\n",
        "    \n",
        "    review_vector /= 50\n",
        "    corpus_vec_test=np.vstack((corpus_vec_test,review_vector))    \n",
        "\n",
        "corpus_vec_test=np.delete(corpus_vec_test, 0, axis=0)"
      ],
      "execution_count": 0,
      "outputs": []
    },
    {
      "metadata": {
        "id": "XQ6crA70igEX",
        "colab_type": "text"
      },
      "cell_type": "markdown",
      "source": [
        "Standardize test data."
      ]
    },
    {
      "metadata": {
        "id": "e8fhGTytigEX",
        "colab_type": "code",
        "colab": {}
      },
      "cell_type": "code",
      "source": [
        "corpus_vec_test = scaler.transform(corpus_vec_test)"
      ],
      "execution_count": 0,
      "outputs": []
    },
    {
      "metadata": {
        "id": "dulwUquMigEa",
        "colab_type": "code",
        "colab": {},
        "outputId": "158a7ea3-0bc9-4a86-b58e-00d8a4365641"
      },
      "cell_type": "code",
      "source": [
        "corpus_vec_test.shape"
      ],
      "execution_count": 0,
      "outputs": [
        {
          "output_type": "execute_result",
          "data": {
            "text/plain": [
              "(8000, 50)"
            ]
          },
          "metadata": {
            "tags": []
          },
          "execution_count": 95
        }
      ]
    },
    {
      "metadata": {
        "id": "lMdaUqQa2492",
        "colab_type": "text"
      },
      "cell_type": "markdown",
      "source": [
        "**Confusion Matrix**\n",
        "\n",
        "Plot confusion matrix for W2V, train and test data using KD tree approach"
      ]
    },
    {
      "metadata": {
        "id": "81JN_7vW2ABP",
        "colab_type": "code",
        "colab": {
          "base_uri": "https://localhost:8080/",
          "height": 437
        },
        "outputId": "b4e195b9-2610-4cdc-b142-ef006cd5c2cc"
      },
      "cell_type": "code",
      "source": [
        "plt.figure(figsize=(15,6))\n",
        "plt.subplot(1,2,1)\n",
        "\n",
        "cm_w2v_kd_train = confusion_matrix(y_train, clf.predict(corpus_vec_train))\n",
        "df_cm = pd.DataFrame(cm_w2v_kd_train, range(2), range(2))\n",
        "sbn.heatmap(df_cm, annot=True, annot_kws={\"size\":16}, cbar=False, fmt = 'd', xticklabels=['Negative', 'Positive'], yticklabels=['Negative', 'Positive'])\n",
        "plt.title('Train Data', fontsize = 14)\n",
        "\n",
        "plt.subplot(1,2,2)\n",
        "cm_w2v_kd_test = confusion_matrix(y_test, clf.predict(corpus_vec_test))\n",
        "df_cm = pd.DataFrame(cm_w2v_kd_test, range(2), range(2))\n",
        "sbn.heatmap(df_cm, annot=True, annot_kws={\"size\":16}, cbar=False, fmt = 'd', xticklabels=['Negative', 'Positive'], yticklabels=['Negative', 'Positive'])\n",
        "plt.title('Test Data', fontsize = 14)\n",
        "\n",
        "plt.tight_layout()"
      ],
      "execution_count": 0,
      "outputs": [
        {
          "output_type": "display_data",
          "data": {
            "image/png": "[encoded data removed]",
            "text/plain": [
              "<Figure size 1080x432 with 2 Axes>"
            ]
          },
          "metadata": {
            "tags": []
          }
        }
      ]
    },
    {
      "metadata": {
        "id": "qjxsj4tnigEg",
        "colab_type": "text"
      },
      "cell_type": "markdown",
      "source": [
        "**Precision and Recall**"
      ]
    },
    {
      "metadata": {
        "id": "K6NV5k21igEg",
        "colab_type": "code",
        "colab": {},
        "outputId": "99c82065-44b5-488a-b831-22713de8c376"
      },
      "cell_type": "code",
      "source": [
        "# print('Precision for W2V | Kd_tree | train: {}'.format(precision_score(y_train, clf.predict(corpus_vec_train))))\n",
        "# print('Precision for W2V | Kd_tree | test: {}'.format(precision_score(y_test, clf.predict(corpus_vec_test))))\n",
        "# print('Recall for W2V | Kd_tree | train: {}'.format(recall_score(y_train, clf.predict(corpus_vec_train))))\n",
        "# print('Recall for W2V | Kd_tree | test: {}'.format(recall_score(y_test, clf.predict(corpus_vec_test))))\n",
        "\n",
        "tn, fp, fn, tp = cm_w2v_kd_train.ravel()\n",
        "print('Recall for W2V | kd_tree | train: {}'.format(tp/(tp+fn)))\n",
        "print('Precision for W2V | kd_tree | train: {}'.format(tp/(tp+fp)))\n",
        "tn, fp, fn, tp = cm_w2v_kd_test.ravel()\n",
        "print('Recall for W2V | kd_tree | test: {}'.format(tp/(tp+fn)))\n",
        "print('Precision for W2V | kd_tree | test: {}'.format(tp/(tp+fp)))"
      ],
      "execution_count": 0,
      "outputs": [
        {
          "output_type": "stream",
          "text": [
            "Recall for W2V | kd_tree | train: 0.9937565766397756\n",
            "Precision for W2V | kd_tree | train: 0.9098850279401375\n",
            "Recall for W2V | kd_tree | test: 0.9933643936185232\n",
            "Precision for W2V | kd_tree | test: 0.9010116532206428\n"
          ],
          "name": "stdout"
        }
      ]
    },
    {
      "metadata": {
        "id": "eJQz7ZeQigEi",
        "colab_type": "text"
      },
      "cell_type": "markdown",
      "source": [
        "Save results of gridsearch in a dataframe."
      ]
    },
    {
      "metadata": {
        "id": "KBkskSfNmlWS",
        "colab_type": "code",
        "colab": {}
      },
      "cell_type": "code",
      "source": [
        "DF_w2v_kd_train = k_weight_score(clf.cv_results_)"
      ],
      "execution_count": 0,
      "outputs": []
    },
    {
      "metadata": {
        "id": "sSRgx3nAmlWU",
        "colab_type": "code",
        "colab": {}
      },
      "cell_type": "code",
      "source": [
        "import pickle\n",
        "fname = open('/home/ucanreachtvk/data/knn_pickle_files/DF_w2v_kd_train_50k.pkl','wb')\n",
        "pickle.dump(DF_w2v_kd_train,fname)\n",
        "fname.close()"
      ],
      "execution_count": 0,
      "outputs": []
    },
    {
      "metadata": {
        "id": "2sxyelMp3IoF",
        "colab_type": "text"
      },
      "cell_type": "markdown",
      "source": [
        "**Brute KNN on W2V**"
      ]
    },
    {
      "metadata": {
        "id": "Tw_XTJpEmlWW",
        "colab_type": "code",
        "colab": {}
      },
      "cell_type": "code",
      "source": [
        "try:\n",
        "    del(clf)\n",
        "    del(tscv, my_cv)\n",
        "except:\n",
        "    print('Some variables not found.')\n",
        "    \n",
        "tscv = TimeSeriesSplit(n_splits=3)\n",
        "my_cv = tscv.split(corpus_vec_train)"
      ],
      "execution_count": 0,
      "outputs": []
    },
    {
      "metadata": {
        "id": "55sVEAIPigEp",
        "colab_type": "text"
      },
      "cell_type": "markdown",
      "source": [
        "Define the GridSearch object for KNN using brute."
      ]
    },
    {
      "metadata": {
        "id": "KJXZ3pH1mlWY",
        "colab_type": "code",
        "colab": {}
      },
      "cell_type": "code",
      "source": [
        "knn = KNeighborsClassifier(algorithm='brute')\n",
        "param_grid = {\n",
        "                'n_neighbors':[9,11,13,15],\n",
        "                'weights' : ['uniform', 'distance']\n",
        "             }\n",
        "clf = GridSearchCV(estimator=knn, cv=my_cv, param_grid=param_grid, n_jobs=2, return_train_score=True)"
      ],
      "execution_count": 0,
      "outputs": []
    },
    {
      "metadata": {
        "id": "aaMS3PpQmlWZ",
        "colab_type": "code",
        "colab": {
          "base_uri": "https://localhost:8080/",
          "height": 177
        },
        "outputId": "4c53923d-bbff-4e54-e306-eab362cbba69"
      },
      "cell_type": "code",
      "source": [
        "%%notify\n",
        "clf.fit(corpus_vec_train, y_train)"
      ],
      "execution_count": 0,
      "outputs": [
        {
          "output_type": "execute_result",
          "data": {
            "text/plain": [
              "GridSearchCV(cv=<generator object TimeSeriesSplit.split at 0x7f6c46d3d8e0>,\n",
              "       error_score='raise',\n",
              "       estimator=KNeighborsClassifier(algorithm='brute', leaf_size=30, metric='minkowski',\n",
              "           metric_params=None, n_jobs=1, n_neighbors=5, p=2,\n",
              "           weights='uniform'),\n",
              "       fit_params=None, iid=True, n_jobs=2,\n",
              "       param_grid={'n_neighbors': [9, 11, 13, 15], 'weights': ['uniform', 'distance']},\n",
              "       pre_dispatch='2*n_jobs', refit=True, return_train_score=True,\n",
              "       scoring=None, verbose=0)"
            ]
          },
          "metadata": {
            "tags": []
          },
          "execution_count": 101
        },
        {
          "output_type": "display_data",
          "data": {
            "application/javascript": [
              "$(document).ready(\n",
              "    function() {\n",
              "        function appendUniqueDiv(){\n",
              "            // append a div with our uuid so we can check that it's already\n",
              "            // been sent and avoid duplicates on page reload\n",
              "            var notifiedDiv = document.createElement(\"div\")\n",
              "            notifiedDiv.id = \"f79fa1c9-d5d7-4f60-89eb-b32f6d51581d\"\n",
              "            element.append(notifiedDiv)\n",
              "        }\n",
              "\n",
              "        // only send notifications if the pageload is complete; this will\n",
              "        // help stop extra notifications when a saved notebook is loaded,\n",
              "        // which during testing gives us state \"interactive\", not \"complete\"\n",
              "        if (document.readyState === 'complete') {\n",
              "            // check for the div that signifies that the notification\n",
              "            // was already sent\n",
              "            if (document.getElementById(\"f79fa1c9-d5d7-4f60-89eb-b32f6d51581d\") === null) {\n",
              "                var notificationPayload = {\"requireInteraction\": false, \"icon\": \"/static/base/images/favicon.ico\", \"body\": \"Cell execution has finished!\"};\n",
              "                if (Notification.permission !== 'denied') {\n",
              "                    if (Notification.permission !== 'granted') { \n",
              "                        Notification.requestPermission(function (permission) {\n",
              "                            if(!('permission' in Notification)) {\n",
              "                                Notification.permission = permission\n",
              "                            }\n",
              "                        })\n",
              "                    }\n",
              "                    if (Notification.permission === 'granted') {\n",
              "                    var notification = new Notification(\"Jupyter Notebook\", notificationPayload)\n",
              "                    appendUniqueDiv()\n",
              "                    notification.onclick = function () {\n",
              "                        window.focus();\n",
              "                        this.close();\n",
              "                        };\n",
              "                    } \n",
              "                }     \n",
              "            }\n",
              "        }\n",
              "    }\n",
              ")\n"
            ],
            "text/plain": [
              "<IPython.core.display.Javascript object>"
            ]
          },
          "metadata": {
            "tags": []
          }
        }
      ]
    },
    {
      "metadata": {
        "id": "Ih_1l8x_3U3x",
        "colab_type": "text"
      },
      "cell_type": "markdown",
      "source": [
        "**Confusion Marix for Avg. W2V using brute algorithm**"
      ]
    },
    {
      "metadata": {
        "id": "uatMW1ww3VW4",
        "colab_type": "code",
        "colab": {
          "base_uri": "https://localhost:8080/",
          "height": 437
        },
        "outputId": "1fcd8898-ff9a-449a-a7a8-1ff884ffa2d2"
      },
      "cell_type": "code",
      "source": [
        "plt.figure(figsize=(15,6))\n",
        "plt.subplot(1,2,1)\n",
        "\n",
        "cm_w2v_brute_train = confusion_matrix(y_train, clf.predict(corpus_vec_train))\n",
        "df_cm = pd.DataFrame(cm_w2v_brute_train, range(2), range(2))\n",
        "sbn.heatmap(df_cm, annot=True, annot_kws={\"size\":16}, cbar=False, fmt = 'd', xticklabels=['Negative', 'Positive'], yticklabels=['Negative', 'Positive'])\n",
        "plt.xticks(fontsize=13)\n",
        "plt.yticks(fontsize=13)\n",
        "plt.title('Train Data', fontsize = 14)\n",
        "\n",
        "plt.subplot(1,2,2)\n",
        "cm_w2v_brute_test = confusion_matrix(y_test, clf.predict(corpus_vec_test))\n",
        "df_cm = pd.DataFrame(cm_w2v_brute_test, range(2), range(2))\n",
        "sbn.heatmap(df_cm, annot=True, annot_kws={\"size\":16}, cbar=False, fmt = 'd', xticklabels=['Negative', 'Positive'], yticklabels=['Negative', 'Positive'])\n",
        "plt.xticks(fontsize=13)\n",
        "plt.yticks(fontsize=13)\n",
        "plt.title('Test Data', fontsize = 14)\n",
        "\n",
        "plt.tight_layout()"
      ],
      "execution_count": 0,
      "outputs": [
        {
          "output_type": "display_data",
          "data": {
            "image/png": "[encoded data removed]",
            "text/plain": [
              "<Figure size 1080x432 with 2 Axes>"
            ]
          },
          "metadata": {
            "tags": []
          }
        }
      ]
    },
    {
      "metadata": {
        "id": "5Vxge9j4igEx",
        "colab_type": "text"
      },
      "cell_type": "markdown",
      "source": [
        "**Precision and Recall**"
      ]
    },
    {
      "metadata": {
        "id": "VI9H5-qhigEx",
        "colab_type": "code",
        "colab": {},
        "outputId": "ecfd92bf-054c-4644-bc88-194b806b9964"
      },
      "cell_type": "code",
      "source": [
        "# print('Precision for W2V | brute | train: {}'.format(precision_score(y_train, clf.predict(corpus_vec_train))))\n",
        "# print('Precision for W2V | brute | test: {}'.format(precision_score(y_test, clf.predict(corpus_vec_test))))\n",
        "# print('Recall for W2V | brute | train: {}'.format(recall_score(y_train, clf.predict(corpus_vec_train))))\n",
        "# print('Recall for W2V | brute | test: {}'.format(recall_score(y_test, clf.predict(corpus_vec_test))))\n",
        "\n",
        "tn, fp, fn, tp = cm_w2v_brute_train.ravel()\n",
        "print('Recall for w2v | Brute | train: {}'.format(tp/(tp+fn)))\n",
        "print('Precision for w2v | Brute | train: {}'.format(tp/(tp+fp)))\n",
        "tn, fp, fn, tp = cm_w2v_brute_test.ravel()\n",
        "print('Recall for w2v | Brute | test: {}'.format(tp/(tp+fn)))\n",
        "print('Precision for w2v | Brute | test: {}'.format(tp/(tp+fp)))"
      ],
      "execution_count": 0,
      "outputs": [
        {
          "output_type": "stream",
          "text": [
            "Recall for w2v | Brute | train: 0.9937565766397756\n",
            "Precision for w2v | Brute | train: 0.9098850279401375\n",
            "Recall for w2v | Brute | test: 0.9933643936185232\n",
            "Precision for w2v | Brute | test: 0.9010116532206428\n"
          ],
          "name": "stdout"
        }
      ]
    },
    {
      "metadata": {
        "id": "2vBvI1Y4igE0",
        "colab_type": "text"
      },
      "cell_type": "markdown",
      "source": [
        "Save results of grid search in a dataframe."
      ]
    },
    {
      "metadata": {
        "id": "wxgzvfU4mlWa",
        "colab_type": "code",
        "colab": {}
      },
      "cell_type": "code",
      "source": [
        "DF_w2v_brute_train = k_weight_score(clf.cv_results_)"
      ],
      "execution_count": 0,
      "outputs": []
    },
    {
      "metadata": {
        "id": "EPv8Zt0eigE2",
        "colab_type": "text"
      },
      "cell_type": "markdown",
      "source": [
        "Plot the summary of GridSearch!"
      ]
    },
    {
      "metadata": {
        "id": "PymOLWtYmlWd",
        "colab_type": "code",
        "colab": {
          "base_uri": "https://localhost:8080/",
          "height": 437
        },
        "outputId": "04ed8539-05ca-469a-a017-5ba5e0034241"
      },
      "cell_type": "code",
      "source": [
        "plt.figure(figsize=(15,6))\n",
        "\n",
        "plt.subplot(1,2,1)\n",
        "sbn.heatmap(data=DF_w2v_brute_train.pivot('weight','k','score'), annot=True, linewidth = 0.5)\n",
        "plt.title('Avg. W2V | Training/CV set Accuracy | Brute', fontsize = 15)\n",
        "plt.xlabel('K', fontsize = 14)\n",
        "plt.ylabel('Weight', fontsize = 14)\n",
        "plt.xticks(fontsize=13)\n",
        "plt.yticks(fontsize=13)\n",
        "\n",
        "plt.subplot(1,2,2)\n",
        "sbn.heatmap(data=DF_w2v_kd_train.pivot('weight','k','score'), annot=True, linewidth = 0.5)\n",
        "plt.title('Avg. W2V | Training/CV set Accuracy | kd_tree', fontsize = 15)\n",
        "plt.xlabel('K', fontsize = 14)\n",
        "plt.ylabel('Weight', fontsize = 14)\n",
        "plt.xticks(fontsize=13)\n",
        "plt.yticks(fontsize=13)\n",
        "\n",
        "plt.tight_layout()\n",
        "plt.show()"
      ],
      "execution_count": 0,
      "outputs": [
        {
          "output_type": "display_data",
          "data": {
            "image/png": "[encoded data removed]",
            "text/plain": [
              "<Figure size 1080x432 with 4 Axes>"
            ]
          },
          "metadata": {
            "tags": []
          }
        }
      ]
    },
    {
      "metadata": {
        "id": "5j59uon4687g",
        "colab_type": "text"
      },
      "cell_type": "markdown",
      "source": [
        "To conclude this section on KNN on Avg W2V, let's calculate the accuracy on test data obtained using the best estimator found by gridsearch."
      ]
    },
    {
      "metadata": {
        "id": "_cAYu-Sa7ywR",
        "colab_type": "code",
        "colab": {
          "base_uri": "https://localhost:8080/",
          "height": 35
        },
        "outputId": "d406d6fd-a048-49e5-cec8-c2468e30511c"
      },
      "cell_type": "code",
      "source": [
        "clf.score(corpus_vec_test, y_test)"
      ],
      "execution_count": 0,
      "outputs": [
        {
          "output_type": "execute_result",
          "data": {
            "text/plain": [
              "0.8975"
            ]
          },
          "metadata": {
            "tags": []
          },
          "execution_count": 106
        }
      ]
    },
    {
      "metadata": {
        "id": "E9ZbLjgm78P4",
        "colab_type": "text"
      },
      "cell_type": "markdown",
      "source": [
        "## Tfidf weighted W2V\n",
        "\n",
        "In this final section of this notebook, we'll work with the Tfidf weighted W2V form of food reviews. Once again, each review vector is going to have just 50 features, so KNN can use kd_tree without worrying about the dimensionality. Let's begin!"
      ]
    },
    {
      "metadata": {
        "id": "JOm7O5meigE5",
        "colab_type": "text"
      },
      "cell_type": "markdown",
      "source": [
        "Get the feature names from tfidf fit model."
      ]
    },
    {
      "metadata": {
        "id": "L7fsRRL_8JM4",
        "colab_type": "code",
        "colab": {}
      },
      "cell_type": "code",
      "source": [
        "features = tfidf_fit.get_feature_names()"
      ],
      "execution_count": 0,
      "outputs": []
    },
    {
      "metadata": {
        "id": "BzGaCgKrigE8",
        "colab_type": "text"
      },
      "cell_type": "markdown",
      "source": [
        "Build vector of training data corpus in Tfidf weighted W2V format"
      ]
    },
    {
      "metadata": {
        "id": "ji4B73hY8O3S",
        "colab_type": "code",
        "colab": {}
      },
      "cell_type": "code",
      "source": [
        "corpus_train_tfidf_weighted_w2v = np.zeros(shape=(50))\n",
        "\n",
        "review_number = 0\n",
        "\n",
        "for review in X_train:\n",
        "    review_vector_tfidf_weighted = np.zeros(shape=(50))\n",
        "    tfidf_sum = 0\n",
        "    for word in review.decode('utf-8').split():\n",
        "        try:\n",
        "            tfidf_value = X_train_transformed[review_number, features.index(word)]\n",
        "            review_vector_tfidf_weighted += w2v_model.wv[word] * tfidf_value\n",
        "            tfidf_sum += tfidf_value\n",
        "            \n",
        "        except KeyError:\n",
        "            continue\n",
        "    \n",
        "    review_number += 1\n",
        "    \n",
        "    if tfidf_sum !=0:\n",
        "        review_vector_tfidf_weighted /= tfidf_sum\n",
        "    corpus_train_tfidf_weighted_w2v=np.vstack((corpus_train_tfidf_weighted_w2v,review_vector_tfidf_weighted))\n",
        "    \n",
        "corpus_train_tfidf_weighted_w2v = np.delete(corpus_train_tfidf_weighted_w2v, 0, axis=0)"
      ],
      "execution_count": 0,
      "outputs": []
    },
    {
      "metadata": {
        "id": "U7qX1mKf9DPc",
        "colab_type": "code",
        "colab": {
          "base_uri": "https://localhost:8080/",
          "height": 35
        },
        "outputId": "6f8734fb-6301-4dd2-b783-8fb84e615bde"
      },
      "cell_type": "code",
      "source": [
        "corpus_train_tfidf_weighted_w2v.shape"
      ],
      "execution_count": 0,
      "outputs": [
        {
          "output_type": "execute_result",
          "data": {
            "text/plain": [
              "(32000, 50)"
            ]
          },
          "metadata": {
            "tags": []
          },
          "execution_count": 109
        }
      ]
    },
    {
      "metadata": {
        "id": "SCXOTW8digE-",
        "colab_type": "text"
      },
      "cell_type": "markdown",
      "source": [
        "Standardize data."
      ]
    },
    {
      "metadata": {
        "id": "IM00aYgpigE-",
        "colab_type": "code",
        "colab": {}
      },
      "cell_type": "code",
      "source": [
        "scaler = StandardScaler()\n",
        "corpus_train_tfidf_weighted_w2v = scaler.fit_transform(corpus_train_tfidf_weighted_w2v)"
      ],
      "execution_count": 0,
      "outputs": []
    },
    {
      "metadata": {
        "id": "gmVDfGLX4DE2",
        "colab_type": "text"
      },
      "cell_type": "markdown",
      "source": [
        "Transform Test data. Note that, there are some words in the test data corpus, which the W2V and Tfidf models have not seen. Such cases have to be handled with care. The avg. W2V is essentially a sum of all vectors belonging to a review, and the words which were not found have been skipped."
      ]
    },
    {
      "metadata": {
        "id": "xOdvKYk54D2l",
        "colab_type": "code",
        "colab": {}
      },
      "cell_type": "code",
      "source": [
        "corpus_test_tfidf_weighted_w2v = np.zeros(shape=(50))\n",
        "\n",
        "review_number = 0\n",
        "\n",
        "for review in X_test:\n",
        "    \n",
        "    review_vector_tfidf_weighted = np.zeros(shape=(50))\n",
        "    tfidf_sum = 0\n",
        "    for word in review.decode('utf-8').split():\n",
        "        \n",
        "            flag_tfidf = True\n",
        "            flag_w2v = True\n",
        "            \n",
        "            try:\n",
        "                \n",
        "                tfidf_value = X_train_transformed[review_number, features.index(word)]\n",
        "                    \n",
        "            except ValueError as v:\n",
        "                \n",
        "                flag_tfidf = False\n",
        "                tfidf_value = 1\n",
        "                    \n",
        "            try:\n",
        "                w2v_value = w2v_model.wv[word]\n",
        "                review_vector_tfidf_weighted += w2v_value * tfidf_value    \n",
        "                if flag_tfidf == True:\n",
        "                    tfidf_sum += tfidf_value\n",
        "                    \n",
        "            except KeyError:\n",
        "                \n",
        "                flag_w2v = False\n",
        "                continue                 \n",
        "            # review_vector_tfidf_weighted += w2v_model.wv[word] * tfidf_value\n",
        "            # tfidf_sum += tfidf_value\n",
        "                                   \n",
        "    review_number += 1\n",
        "    if tfidf_sum != 0:\n",
        "        review_vector_tfidf_weighted /= tfidf_sum\n",
        "    corpus_test_tfidf_weighted_w2v=np.vstack((corpus_test_tfidf_weighted_w2v,review_vector_tfidf_weighted))\n",
        "    \n",
        "corpus_test_tfidf_weighted_w2v = np.delete(corpus_test_tfidf_weighted_w2v, 0, axis=0)"
      ],
      "execution_count": 0,
      "outputs": []
    },
    {
      "metadata": {
        "id": "2HvzMoXLigFB",
        "colab_type": "code",
        "colab": {},
        "outputId": "42883770-ae36-4410-af50-e62626902690"
      },
      "cell_type": "code",
      "source": [
        "corpus_test_tfidf_weighted_w2v.shape"
      ],
      "execution_count": 0,
      "outputs": [
        {
          "output_type": "execute_result",
          "data": {
            "text/plain": [
              "(8000, 50)"
            ]
          },
          "metadata": {
            "tags": []
          },
          "execution_count": 112
        }
      ]
    },
    {
      "metadata": {
        "id": "ZcjoaIsXigFC",
        "colab_type": "text"
      },
      "cell_type": "markdown",
      "source": [
        "standardize test data."
      ]
    },
    {
      "metadata": {
        "id": "a1dwmIaZigFC",
        "colab_type": "code",
        "colab": {}
      },
      "cell_type": "code",
      "source": [
        "corpus_test_tfidf_weighted_w2v = scaler.transform(corpus_test_tfidf_weighted_w2v)"
      ],
      "execution_count": 0,
      "outputs": []
    },
    {
      "metadata": {
        "id": "LdZ26En3igFE",
        "colab_type": "text"
      },
      "cell_type": "markdown",
      "source": [
        "Our train and test vectors are ready and it's again time to perform grid search!\n",
        "\n",
        "Let's split the data for cross validation."
      ]
    },
    {
      "metadata": {
        "id": "cyyhsFRS9qev",
        "colab_type": "code",
        "colab": {}
      },
      "cell_type": "code",
      "source": [
        "try:\n",
        "    del(tscv)\n",
        "    del(my_cv)\n",
        "except:\n",
        "    pass\n",
        "\n",
        "tscv = TimeSeriesSplit(n_splits=3)\n",
        "my_cv = tscv.split(corpus_train_tfidf_weighted_w2v)"
      ],
      "execution_count": 0,
      "outputs": []
    },
    {
      "metadata": {
        "id": "SpmSAWcOigFG",
        "colab_type": "text"
      },
      "cell_type": "markdown",
      "source": [
        "Define the Grid Search, first for kd_tree method."
      ]
    },
    {
      "metadata": {
        "id": "AFUUWA__-UZY",
        "colab_type": "code",
        "colab": {}
      },
      "cell_type": "code",
      "source": [
        "try:\n",
        "    \n",
        "    del(clf)\n",
        "except:\n",
        "    print('variable not found.')\n",
        "\n",
        "knn = KNeighborsClassifier(algorithm = 'kd_tree')\n",
        "param_grid = {\n",
        "                'n_neighbors':[9,11,13,15],\n",
        "                'weights' : ['uniform', 'distance'],\n",
        "             }\n",
        "clf = GridSearchCV(estimator=knn, cv=my_cv, param_grid=param_grid, n_jobs=4, return_train_score=True)"
      ],
      "execution_count": 0,
      "outputs": []
    },
    {
      "metadata": {
        "id": "eo9PVx70-YFn",
        "colab_type": "code",
        "colab": {
          "base_uri": "https://localhost:8080/",
          "height": 177
        },
        "outputId": "850d2bac-7787-489c-906a-ea6b66482a41"
      },
      "cell_type": "code",
      "source": [
        "%%notify\n",
        "clf.fit(corpus_train_tfidf_weighted_w2v, y_train)"
      ],
      "execution_count": 0,
      "outputs": [
        {
          "output_type": "execute_result",
          "data": {
            "text/plain": [
              "GridSearchCV(cv=<generator object TimeSeriesSplit.split at 0x7f6c20cf2888>,\n",
              "       error_score='raise',\n",
              "       estimator=KNeighborsClassifier(algorithm='kd_tree', leaf_size=30, metric='minkowski',\n",
              "           metric_params=None, n_jobs=1, n_neighbors=5, p=2,\n",
              "           weights='uniform'),\n",
              "       fit_params=None, iid=True, n_jobs=4,\n",
              "       param_grid={'n_neighbors': [9, 11, 13, 15], 'weights': ['uniform', 'distance']},\n",
              "       pre_dispatch='2*n_jobs', refit=True, return_train_score=True,\n",
              "       scoring=None, verbose=0)"
            ]
          },
          "metadata": {
            "tags": []
          },
          "execution_count": 117
        },
        {
          "output_type": "display_data",
          "data": {
            "application/javascript": [
              "$(document).ready(\n",
              "    function() {\n",
              "        function appendUniqueDiv(){\n",
              "            // append a div with our uuid so we can check that it's already\n",
              "            // been sent and avoid duplicates on page reload\n",
              "            var notifiedDiv = document.createElement(\"div\")\n",
              "            notifiedDiv.id = \"6f3585cb-b7fd-460f-b3ab-4953c219680f\"\n",
              "            element.append(notifiedDiv)\n",
              "        }\n",
              "\n",
              "        // only send notifications if the pageload is complete; this will\n",
              "        // help stop extra notifications when a saved notebook is loaded,\n",
              "        // which during testing gives us state \"interactive\", not \"complete\"\n",
              "        if (document.readyState === 'complete') {\n",
              "            // check for the div that signifies that the notification\n",
              "            // was already sent\n",
              "            if (document.getElementById(\"6f3585cb-b7fd-460f-b3ab-4953c219680f\") === null) {\n",
              "                var notificationPayload = {\"requireInteraction\": false, \"icon\": \"/static/base/images/favicon.ico\", \"body\": \"Cell execution has finished!\"};\n",
              "                if (Notification.permission !== 'denied') {\n",
              "                    if (Notification.permission !== 'granted') { \n",
              "                        Notification.requestPermission(function (permission) {\n",
              "                            if(!('permission' in Notification)) {\n",
              "                                Notification.permission = permission\n",
              "                            }\n",
              "                        })\n",
              "                    }\n",
              "                    if (Notification.permission === 'granted') {\n",
              "                    var notification = new Notification(\"Jupyter Notebook\", notificationPayload)\n",
              "                    appendUniqueDiv()\n",
              "                    notification.onclick = function () {\n",
              "                        window.focus();\n",
              "                        this.close();\n",
              "                        };\n",
              "                    } \n",
              "                }     \n",
              "            }\n",
              "        }\n",
              "    }\n",
              ")\n"
            ],
            "text/plain": [
              "<IPython.core.display.Javascript object>"
            ]
          },
          "metadata": {
            "tags": []
          }
        }
      ]
    },
    {
      "metadata": {
        "id": "cchVT9EB4RIt",
        "colab_type": "text"
      },
      "cell_type": "markdown",
      "source": [
        "**Confusion Matrix KD tree**"
      ]
    },
    {
      "metadata": {
        "id": "txM9wI6z4Rrs",
        "colab_type": "code",
        "colab": {
          "base_uri": "https://localhost:8080/",
          "height": 437
        },
        "outputId": "05e066a1-3287-404b-f6f5-bb3c135b89e9"
      },
      "cell_type": "code",
      "source": [
        "plt.figure(figsize=(15,6))\n",
        "plt.subplot(1,2,1)\n",
        "\n",
        "cm_tfidf_weighted_w2v_kd_train = confusion_matrix(y_train, clf.predict(corpus_train_tfidf_weighted_w2v))\n",
        "df_cm = pd.DataFrame(cm_tfidf_weighted_w2v_kd_train, range(2), range(2))\n",
        "sbn.heatmap(df_cm, annot=True, annot_kws={\"size\":16}, cbar=False, fmt = 'd', xticklabels=['Negative', 'Positive'], yticklabels=['Negative', 'Positive'])\n",
        "plt.xticks(fontsize=13)\n",
        "plt.yticks(fontsize=13)\n",
        "plt.title('Train Data', fontsize = 14)\n",
        "\n",
        "plt.subplot(1,2,2)\n",
        "cm_tfidf_weighted_w2v_kd_test = confusion_matrix(y_test, clf.predict(corpus_test_tfidf_weighted_w2v))\n",
        "df_cm = pd.DataFrame(cm_tfidf_weighted_w2v_kd_test, range(2), range(2))\n",
        "sbn.heatmap(df_cm, annot=True, annot_kws={\"size\":16}, cbar=False, fmt = 'd', xticklabels=['Negative', 'Positive'], yticklabels=['Negative', 'Positive'])\n",
        "plt.xticks(fontsize=13)\n",
        "plt.yticks(fontsize=13)\n",
        "plt.title('Test Data', fontsize = 14)\n",
        "\n",
        "plt.tight_layout()"
      ],
      "execution_count": 0,
      "outputs": [
        {
          "output_type": "display_data",
          "data": {
            "image/png": "[encoded data removed]",
            "text/plain": [
              "<Figure size 1080x432 with 2 Axes>"
            ]
          },
          "metadata": {
            "tags": []
          }
        }
      ]
    },
    {
      "metadata": {
        "id": "_7M4916XigFL",
        "colab_type": "text"
      },
      "cell_type": "markdown",
      "source": [
        "**Precision and Recall**"
      ]
    },
    {
      "metadata": {
        "id": "EgrFBEavigFL",
        "colab_type": "code",
        "colab": {},
        "outputId": "c3dd5532-dde7-4e09-a49a-30abada062f0"
      },
      "cell_type": "code",
      "source": [
        "tn, fp, fn, tp = cm_tfidf_weighted_w2v_kd_train.ravel()\n",
        "print('Recall for tfidf_weighted_w2v | kd_tree | train: {}'.format(tp/(tp+fn)))\n",
        "print('Precision for tfidf_weighted_w2v | kd_tree | train: {}'.format(tp/(tp+fp)))\n",
        "tn, fp, fn, tp = cm_tfidf_weighted_w2v_kd_test.ravel()\n",
        "print('Recall for tfidf_weighted_w2v | kd_tree | test: {}'.format(tp/(tp+fn)))\n",
        "print('Precision for tfidf_weighted_w2v | kd_tree | test: {}'.format(tp/(tp+fp)))"
      ],
      "execution_count": 0,
      "outputs": [
        {
          "output_type": "stream",
          "text": [
            "Recall for tfidf_weighted_w2v | kd_tree | train: 1.0\n",
            "Precision for tfidf_weighted_w2v | kd_tree | train: 1.0\n",
            "Recall for tfidf_weighted_w2v | kd_tree | test: 0.9903995482140336\n",
            "Precision for tfidf_weighted_w2v | kd_tree | test: 0.8862918509159823\n"
          ],
          "name": "stdout"
        }
      ]
    },
    {
      "metadata": {
        "id": "Mdh6E5X-mlW1",
        "colab_type": "code",
        "colab": {}
      },
      "cell_type": "code",
      "source": [
        "DF_tfidf_weighted_w2v_kd_train = k_weight_score(clf.cv_results_)"
      ],
      "execution_count": 0,
      "outputs": []
    },
    {
      "metadata": {
        "id": "5SsV1Zf3igFO",
        "colab_type": "text"
      },
      "cell_type": "markdown",
      "source": [
        "**Brute KNN on Tfidf weighted W2V**"
      ]
    },
    {
      "metadata": {
        "id": "b4rFmnkdmlW1",
        "colab_type": "code",
        "colab": {}
      },
      "cell_type": "code",
      "source": [
        "try:\n",
        "    \n",
        "    del(clf, tscv, my_cv)\n",
        "except:\n",
        "    print('variables not found.')\n",
        "    \n",
        "tscv = TimeSeriesSplit(n_splits=3)\n",
        "my_cv = tscv.split(corpus_train_tfidf_weighted_w2v)\n",
        "\n",
        "knn = KNeighborsClassifier(algorithm = 'brute')\n",
        "\n",
        "param_grid = {\n",
        "                'n_neighbors':[9,11,13,15],\n",
        "                'weights' : ['uniform', 'distance']\n",
        "             }\n",
        "clf = GridSearchCV(estimator=knn, cv=my_cv, param_grid=param_grid, n_jobs=2, return_train_score=True)"
      ],
      "execution_count": 0,
      "outputs": []
    },
    {
      "metadata": {
        "id": "rqdLekEnmlW1",
        "colab_type": "code",
        "colab": {
          "base_uri": "https://localhost:8080/",
          "height": 177
        },
        "outputId": "bd2d8769-8bf7-4461-b80e-f32c337a5980"
      },
      "cell_type": "code",
      "source": [
        "clf.fit(corpus_train_tfidf_weighted_w2v, y_train)"
      ],
      "execution_count": 0,
      "outputs": [
        {
          "output_type": "execute_result",
          "data": {
            "text/plain": [
              "GridSearchCV(cv=<generator object TimeSeriesSplit.split at 0x7f6c4ebe27d8>,\n",
              "       error_score='raise',\n",
              "       estimator=KNeighborsClassifier(algorithm='brute', leaf_size=30, metric='minkowski',\n",
              "           metric_params=None, n_jobs=1, n_neighbors=5, p=2,\n",
              "           weights='uniform'),\n",
              "       fit_params=None, iid=True, n_jobs=2,\n",
              "       param_grid={'n_neighbors': [9, 11, 13, 15], 'weights': ['uniform', 'distance']},\n",
              "       pre_dispatch='2*n_jobs', refit=True, return_train_score=True,\n",
              "       scoring=None, verbose=0)"
            ]
          },
          "metadata": {
            "tags": []
          },
          "execution_count": 123
        }
      ]
    },
    {
      "metadata": {
        "id": "mjM40-yOigFR",
        "colab_type": "text"
      },
      "cell_type": "markdown",
      "source": [
        "**Confusion Matrix**"
      ]
    },
    {
      "metadata": {
        "id": "P-zldVg25SDA",
        "colab_type": "code",
        "colab": {
          "base_uri": "https://localhost:8080/",
          "height": 437
        },
        "outputId": "4756ce23-2888-42ac-9f7a-7970bcfb122d"
      },
      "cell_type": "code",
      "source": [
        "plt.figure(figsize=(15,6))\n",
        "plt.subplot(1,2,1)\n",
        "\n",
        "cm_tfidf_weighted_w2v_brute_train = confusion_matrix(y_train, clf.predict(corpus_train_tfidf_weighted_w2v))\n",
        "df_cm = pd.DataFrame(cm_tfidf_weighted_w2v_brute_train, range(2), range(2))\n",
        "sbn.heatmap(df_cm, annot=True, annot_kws={\"size\":16}, cbar=False, fmt = 'd', xticklabels=['Negative', 'Positive'], yticklabels=['Negative', 'Positive'])\n",
        "plt.xticks(fontsize=13)\n",
        "plt.yticks(fontsize=13)\n",
        "plt.title('Train Data', fontsize = 14)\n",
        "\n",
        "plt.subplot(1,2,2)\n",
        "cm_tfidf_weighted_w2v_brute_test = confusion_matrix(y_test, clf.predict(corpus_test_tfidf_weighted_w2v))\n",
        "df_cm = pd.DataFrame(cm_tfidf_weighted_w2v_brute_test, range(2), range(2))\n",
        "sbn.heatmap(df_cm, annot=True, annot_kws={\"size\":16}, cbar=False, fmt = 'd', xticklabels=['Negative', 'Positive'], yticklabels=['Negative', 'Positive'])\n",
        "plt.xticks(fontsize=13)\n",
        "plt.yticks(fontsize=13)\n",
        "plt.title('Test Data', fontsize = 14)\n",
        "\n",
        "plt.tight_layout()"
      ],
      "execution_count": 0,
      "outputs": [
        {
          "output_type": "display_data",
          "data": {
            "image/png": "[encoded data removed]",
            "text/plain": [
              "<Figure size 1080x432 with 2 Axes>"
            ]
          },
          "metadata": {
            "tags": []
          }
        }
      ]
    },
    {
      "metadata": {
        "id": "2anBqlwi75oj",
        "colab_type": "text"
      },
      "cell_type": "markdown",
      "source": [
        "**Precision and Recall**"
      ]
    },
    {
      "metadata": {
        "id": "L7enTZAL7wIx",
        "colab_type": "code",
        "colab": {
          "base_uri": "https://localhost:8080/",
          "height": 88
        },
        "outputId": "8286ebe8-e8d7-41f7-9328-4fc65ff85c94"
      },
      "cell_type": "code",
      "source": [
        "# print('Precision for Tfidf Weighted W2V|Brute|train: {}'.format(precision_score(y_train, clf.predict(corpus_train_tfidf_weighted_w2v))))\n",
        "# print('Precision for Tfidf Weighted W2V|Brute|test: {}'.format(precision_score(y_test, clf.predict(corpus_test_tfidf_weighted_w2v))))\n",
        "# print('Recall for Tfidf Weighted W2V|Brute|train: {}'.format(recall_score(y_train, clf.predict(corpus_train_tfidf_weighted_w2v))))\n",
        "# print('Recall for Tfidf Weighted W2V|Brute|test: {}'.format(recall_score(y_test, clf.predict(corpus_test_tfidf_weighted_w2v))))\n",
        "\n",
        "tn, fp, fn, tp = cm_tfidf_weighted_w2v_brute_train.ravel()\n",
        "print('Recall for tfidf_weighted_w2v | Brute | train: {}'.format(tp/(tp+fn)))\n",
        "print('Precision for tfidf_weighted_w2v | Brute | train: {}'.format(tp/(tp+fp)))\n",
        "tn, fp, fn, tp = cm_tfidf_weighted_w2v_brute_test.ravel()\n",
        "print('Recall for tfidf_weighted_w2v | Brute | test: {}'.format(tp/(tp+fn)))\n",
        "print('Precision for tfidf_weighted_w2v | Brute | test: {}'.format(tp/(tp+fp)))\n"
      ],
      "execution_count": 0,
      "outputs": [
        {
          "output_type": "stream",
          "text": [
            "Recall for tfidf_weighted_w2v | Brute | train: 1.0\n",
            "Precision for tfidf_weighted_w2v | Brute | train: 1.0\n",
            "Recall for tfidf_weighted_w2v | Brute | test: 0.9903995482140336\n",
            "Precision for tfidf_weighted_w2v | Brute | test: 0.8862918509159823\n"
          ],
          "name": "stdout"
        }
      ]
    },
    {
      "metadata": {
        "id": "hr58qb5wmlW2",
        "colab_type": "code",
        "colab": {}
      },
      "cell_type": "code",
      "source": [
        "DF_tfidf_weighted_w2v_brute_train = k_weight_score(clf.cv_results_)"
      ],
      "execution_count": 0,
      "outputs": []
    },
    {
      "metadata": {
        "id": "4eoTzftSigFU",
        "colab_type": "text"
      },
      "cell_type": "markdown",
      "source": [
        "**Summary of Grid Search of KNN on Tfidf weighted W2V**"
      ]
    },
    {
      "metadata": {
        "id": "L-i0ZzSwmlW4",
        "colab_type": "code",
        "colab": {
          "base_uri": "https://localhost:8080/",
          "height": 437
        },
        "outputId": "3f22cd5f-8614-4be6-c824-9796212747db"
      },
      "cell_type": "code",
      "source": [
        "plt.figure(figsize=(15,6))\n",
        "\n",
        "plt.subplot(1,2,1)\n",
        "sbn.heatmap(data=DF_tfidf_weighted_w2v_brute_train.pivot('weight','k','score'), annot=True, linewidth = 0.5)\n",
        "plt.title('Tfidf weighted W2v | Training/CV set | Brute', fontsize = 15)\n",
        "plt.xlabel('K', fontsize = 14)\n",
        "plt.ylabel('Weight', fontsize = 14)\n",
        "plt.xticks(fontsize=13)\n",
        "plt.yticks(fontsize=13)\n",
        "\n",
        "plt.subplot(1,2,2)\n",
        "sbn.heatmap(data=DF_tfidf_weighted_w2v_kd_train.pivot('weight','k','score'), annot=True, linewidth = 0.5)\n",
        "plt.title('Tfidf weighted W2V | Training/CV set | kd_tree', fontsize = 15)\n",
        "plt.xlabel('K', fontsize = 14)\n",
        "plt.ylabel('Weight', fontsize = 14)\n",
        "plt.xticks(fontsize=13)\n",
        "plt.yticks(fontsize=13)\n",
        "\n",
        "plt.tight_layout()\n",
        "plt.show()"
      ],
      "execution_count": 0,
      "outputs": [
        {
          "output_type": "display_data",
          "data": {
            "image/png": "[encoded data removed]",
            "text/plain": [
              "<Figure size 1080x432 with 4 Axes>"
            ]
          },
          "metadata": {
            "tags": []
          }
        }
      ]
    },
    {
      "metadata": {
        "id": "tGittjz_-hzx",
        "colab_type": "text"
      },
      "cell_type": "markdown",
      "source": [
        "To end this section, let's calculate the accuracy on test data using the best estimator found by gridsearch."
      ]
    },
    {
      "metadata": {
        "id": "zd3Xy3vv_Gkr",
        "colab_type": "code",
        "colab": {
          "base_uri": "https://localhost:8080/",
          "height": 35
        },
        "outputId": "8271c210-e288-4670-bf8e-65e0fa6ad6dd"
      },
      "cell_type": "code",
      "source": [
        "clf.score(corpus_test_tfidf_weighted_w2v, y_test)"
      ],
      "execution_count": 0,
      "outputs": [
        {
          "output_type": "execute_result",
          "data": {
            "text/plain": [
              "0.879"
            ]
          },
          "metadata": {
            "tags": []
          },
          "execution_count": 128
        }
      ]
    },
    {
      "metadata": {
        "id": "4Tn6YixhigFX",
        "colab_type": "text"
      },
      "cell_type": "markdown",
      "source": [
        "### Conclusion:\n",
        "\n",
        "* KNN was used to classify the Amazon Food Reviews into two classes - positive/negative.\n",
        "* Using GridSearch, we tried several combinations of K and the weight hyperparameters.\n",
        "* TimeSeriesSplit was used to partition data for cross validation.\n",
        "* Since the dataset is not balanced, accuracy is not the best metric to use. Precision is what we should be interested in, because, we need to reduce **False Positives** i.e. the reviews which are actually negative but have been classified as positve."
      ]
    }
  ]
}