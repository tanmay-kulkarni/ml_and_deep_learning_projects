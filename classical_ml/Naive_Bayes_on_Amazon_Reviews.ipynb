{
  "nbformat": 4,
  "nbformat_minor": 0,
  "metadata": {
    "colab": {
      "name": "Naive Bayes on Amazon Reviews.ipynb",
      "version": "0.3.2",
      "provenance": []
    },
    "kernelspec": {
      "display_name": "Python 3",
      "language": "python",
      "name": "python3"
    }
  },
  "cells": [
    {
      "metadata": {
        "id": "1p6Fi5fxeK6s",
        "colab_type": "text"
      },
      "cell_type": "markdown",
      "source": [
        "# Objective:\n",
        "\n",
        "To apply Naive Bayes on Amazon Food reiviews dataset to classify the reviews into positive and negative. \n",
        "\n"
      ]
    },
    {
      "metadata": {
        "id": "-dAujciseK6x",
        "colab_type": "code",
        "colab": {}
      },
      "cell_type": "code",
      "source": [
        "# To suprress the warnings as they make the notebook less presentable.\n",
        "\n",
        "import sys\n",
        "import warnings\n",
        "\n",
        "if not sys.warnoptions:\n",
        "    warnings.simplefilter(\"ignore\")"
      ],
      "execution_count": 0,
      "outputs": []
    },
    {
      "metadata": {
        "id": "ef4B-QbYeK7C",
        "colab_type": "text"
      },
      "cell_type": "markdown",
      "source": [
        "Import the necessary libraries."
      ]
    },
    {
      "metadata": {
        "id": "1qPgYY0leK7L",
        "colab_type": "code",
        "colab": {}
      },
      "cell_type": "code",
      "source": [
        "import pandas\n",
        "import matplotlib.pyplot as plt\n",
        "import seaborn as sbn\n",
        "from sklearn.preprocessing import StandardScaler\n",
        "from sklearn.metrics import recall_score, precision_score, confusion_matrix, accuracy_score\n",
        "from sklearn.model_selection import TimeSeriesSplit, GridSearchCV\n",
        "from sklearn.naive_bayes import ComplementNB, GaussianNB\n",
        "import pickle\n",
        "import numpy as np"
      ],
      "execution_count": 0,
      "outputs": []
    },
    {
      "metadata": {
        "id": "FlcCPmn_eK7X",
        "colab_type": "text"
      },
      "cell_type": "markdown",
      "source": [
        "This Jupyter notebook extension notifies you when a cell finishes its execution!"
      ]
    },
    {
      "metadata": {
        "id": "KSHwDtsueK7b",
        "colab_type": "code",
        "colab": {},
        "outputId": "7ad4fa51-975f-45f2-f1e7-3fc82fb26854"
      },
      "cell_type": "code",
      "source": [
        "%load_ext jupyternotify"
      ],
      "execution_count": 0,
      "outputs": [
        {
          "output_type": "display_data",
          "data": {
            "application/javascript": [
              "if (!(\"Notification\" in window)) {\n",
              "    alert(\"This browser does not support desktop notifications, so the %%notify magic will not work.\");\n",
              "} else if (Notification.permission !== 'granted' && Notification.permission !== 'denied') {\n",
              "    Notification.requestPermission(function (permission) {\n",
              "        if(!('permission' in Notification)) {\n",
              "            Notification.permission = permission;\n",
              "        }\n",
              "    })\n",
              "}\n"
            ],
            "text/plain": [
              "<IPython.core.display.Javascript object>"
            ]
          },
          "metadata": {
            "tags": []
          }
        }
      ]
    },
    {
      "metadata": {
        "id": "Q0xTL-5AeK70",
        "colab_type": "text"
      },
      "cell_type": "markdown",
      "source": [
        "## Choice of Naive Bayes\n",
        "\n",
        "I'm using *ComplementNB* here because it is better suited for unbalanced datasets. According to the scikit-learn documentation of ComplementNB -\n",
        "\n",
        ">CNB is an adaptation of the standard multinomial naive Bayes (MNB) algorithm that is particularly suited for imbalanced data sets. Specifically, CNB uses statistics from the complement of each class to compute the model’s weights. The inventors of CNB show empirically that the parameter estimates for CNB are more stable than those for MNB. Further, CNB regularly outperforms MNB (often by a considerable margin) on text classification tasks.\n",
        "\n",
        "As this is a text classification problem and also because the dataset is imbalanced, using ComplementNB seems worthwhile."
      ]
    },
    {
      "metadata": {
        "id": "oqWC8i1teK75",
        "colab_type": "text"
      },
      "cell_type": "markdown",
      "source": [
        "Load the target variable y for train and test sets."
      ]
    },
    {
      "metadata": {
        "id": "EloT0oeUeK78",
        "colab_type": "code",
        "colab": {},
        "outputId": "51b33fc1-b063-4e0f-c7c0-3dbf01c931f9"
      },
      "cell_type": "code",
      "source": [
        "f = open(r'D:\\data_science\\datasets\\amazon2\\y_train_full80_20.pkl', 'rb')\n",
        "# f = open('/home/ucanreachtvk/data/y_train_full80_20.pkl', 'rb')\n",
        "y_train = pickle.load(f)\n",
        "f.close()\n",
        "print('The datatype of y_train is : {}'.format(type(y_train)))\n",
        "print('The shape of y_train is : {}'.format(y_train.shape))"
      ],
      "execution_count": 0,
      "outputs": [
        {
          "output_type": "stream",
          "text": [
            "The datatype of y_train is : <class 'numpy.ndarray'>\n",
            "The shape of y_train is : (291336,)\n"
          ],
          "name": "stdout"
        }
      ]
    },
    {
      "metadata": {
        "id": "Jk-0FSCBeK8R",
        "colab_type": "code",
        "colab": {},
        "outputId": "81cf020d-9860-462b-e09a-c732445bb8f0"
      },
      "cell_type": "code",
      "source": [
        "f = open(r'D:\\data_science\\datasets\\amazon2\\y_test_full80_20.pkl', 'rb')\n",
        "# f = open('/home/ucanreachtvk/data/y_test_full80_20.pkl', 'rb')\n",
        "y_test = pickle.load(f)\n",
        "f.close()\n",
        "print('The datatype of y_test is : {}'.format(type(y_test)))\n",
        "print('The shape of y_test is : {}'.format(y_test.shape))"
      ],
      "execution_count": 0,
      "outputs": [
        {
          "output_type": "stream",
          "text": [
            "The datatype of y_test is : <class 'numpy.ndarray'>\n",
            "The shape of y_test is : (72835,)\n"
          ],
          "name": "stdout"
        }
      ]
    },
    {
      "metadata": {
        "id": "PgUu4MtseK8g",
        "colab_type": "text"
      },
      "cell_type": "markdown",
      "source": [
        "## Bag of Words\n",
        "\n",
        "I had saved the trained BoW model and the transformed data on disk. Let's load them. The entire original data containing around 350k reviews has been used. It is divided into train and test sets in ratio 80:20. "
      ]
    },
    {
      "metadata": {
        "id": "o3kLslNUeK8l",
        "colab_type": "code",
        "colab": {},
        "outputId": "8b831bb4-343b-4c94-d4b5-66b1443a128f"
      },
      "cell_type": "code",
      "source": [
        "f = open(r'D:\\data_science\\datasets\\amazon2\\X_train_transformed_bow_full_nparray.pkl', 'rb')\n",
        "# f = open('/home/ucanreachtvk/data/X_train_transformed_bow_full_nparray.pkl', 'rb')\n",
        "X_train_transformed_bow = pickle.load(f)\n",
        "f.close()\n",
        "print('The datatype of X_train_transformed_bow is : {}'.format(type(X_train_transformed_bow)))\n",
        "print('The shape of X_train_transformed_bow is : {}'.format(X_train_transformed_bow.shape))"
      ],
      "execution_count": 0,
      "outputs": [
        {
          "output_type": "stream",
          "text": [
            "The datatype of X_train_transformed_bow is : <class 'scipy.sparse.csr.csr_matrix'>\n",
            "The shape of X_train_transformed_bow is : (291336, 64221)\n"
          ],
          "name": "stdout"
        }
      ]
    },
    {
      "metadata": {
        "id": "W4bI4lC9eK81",
        "colab_type": "text"
      },
      "cell_type": "markdown",
      "source": [
        "There are 64221 features in the bow representation. Load test data too."
      ]
    },
    {
      "metadata": {
        "id": "0xtr-nszeK88",
        "colab_type": "code",
        "colab": {},
        "outputId": "bd152fb5-f071-4924-fb70-873f6fd5469f"
      },
      "cell_type": "code",
      "source": [
        "f = open(r'D:\\data_science\\datasets\\amazon2\\X_test_transformed_bow_full_nparray.pkl', 'rb')\n",
        "# f = open('/home/ucanreachtvk/data/X_test_transformed_bow_full_nparray.pkl', 'rb')\n",
        "X_test_transformed_bow = pickle.load(f)\n",
        "f.close()\n",
        "print('The datatype of X_test_transformed_bow is : {}'.format(type(X_test_transformed_bow)))\n",
        "print('The shape of X_test_transformed_bow is : {}'.format(X_test_transformed_bow.shape))"
      ],
      "execution_count": 0,
      "outputs": [
        {
          "output_type": "stream",
          "text": [
            "The datatype of X_test_transformed_bow is : <class 'scipy.sparse.csr.csr_matrix'>\n",
            "The shape of X_test_transformed_bow is : (72835, 64221)\n"
          ],
          "name": "stdout"
        }
      ]
    },
    {
      "metadata": {
        "id": "Od543mP3eK9U",
        "colab_type": "text"
      },
      "cell_type": "markdown",
      "source": [
        "## Feature scaling?\n",
        "\n",
        "Naive bayes is not a distance based algorithm. It only depends on probability calculations. Therefore there's no need to apply standardization to the dataset."
      ]
    },
    {
      "metadata": {
        "id": "xWV-Y50UeK9Y",
        "colab_type": "text"
      },
      "cell_type": "markdown",
      "source": [
        "## GridSearchCV\n",
        "\n",
        "First, split the 80% train data using TimeSeriesSplit() for cross validation then create a Naive Bayes object. Also create the GridSearchCV object which does 10 fold cross validation."
      ]
    },
    {
      "metadata": {
        "id": "3dcAEBWNeK9h",
        "colab_type": "code",
        "colab": {},
        "outputId": "4d85749d-baa8-46da-db2f-a12c8cdfb7d5"
      },
      "cell_type": "code",
      "source": [
        "try:\n",
        "    del(tscv)\n",
        "    del(my_cv)\n",
        "    del(clf)\n",
        "    del(nb)\n",
        "except:\n",
        "    print('one or more variables not found.')\n",
        "\n",
        "tscv = TimeSeriesSplit(n_splits=10)\n",
        "my_cv = tscv.split(X_train_transformed_bow)\n",
        "\n",
        "nb = ComplementNB()\n",
        "#nb = MultinomialNB()\n",
        "\n",
        "hyp_par = {\n",
        "            'alpha':[0.001, 0.01, 0.1, 10, 100, 1000, 10000]\n",
        "          }\n",
        "\n",
        "clf = GridSearchCV(estimator=nb, cv=my_cv, param_grid=hyp_par, n_jobs=4, return_train_score=True, pre_dispatch=2)"
      ],
      "execution_count": 0,
      "outputs": [
        {
          "output_type": "stream",
          "text": [
            "one or more variables not found.\n"
          ],
          "name": "stdout"
        }
      ]
    },
    {
      "metadata": {
        "id": "XseY12RieK-C",
        "colab_type": "code",
        "colab": {},
        "outputId": "69e01b14-0a8a-4dd1-ca4f-648aab9aa972"
      },
      "cell_type": "code",
      "source": [
        "%%notify\n",
        "%%time\n",
        "\n",
        "clf.fit(X_train_transformed_bow, y_train)"
      ],
      "execution_count": 0,
      "outputs": [
        {
          "output_type": "stream",
          "text": [
            "Wall time: 18.1 s\n"
          ],
          "name": "stdout"
        },
        {
          "output_type": "execute_result",
          "data": {
            "text/plain": [
              "GridSearchCV(cv=<generator object TimeSeriesSplit.split at 0x000002AFDE5E6DB0>,\n",
              "       error_score='raise-deprecating',\n",
              "       estimator=ComplementNB(alpha=1.0, class_prior=None, fit_prior=True, norm=False),\n",
              "       fit_params=None, iid='warn', n_jobs=4,\n",
              "       param_grid={'alpha': [0.001, 0.01, 0.1, 10, 100, 1000, 10000]},\n",
              "       pre_dispatch=2, refit=True, return_train_score=True, scoring=None,\n",
              "       verbose=0)"
            ]
          },
          "metadata": {
            "tags": []
          },
          "execution_count": 9
        },
        {
          "output_type": "display_data",
          "data": {
            "application/javascript": [
              "$(document).ready(\n",
              "    function() {\n",
              "        function appendUniqueDiv(){\n",
              "            // append a div with our uuid so we can check that it's already\n",
              "            // been sent and avoid duplicates on page reload\n",
              "            var notifiedDiv = document.createElement(\"div\")\n",
              "            notifiedDiv.id = \"dd0f8bad-3cd5-4a2f-a8af-788919a4bd03\"\n",
              "            element.append(notifiedDiv)\n",
              "        }\n",
              "\n",
              "        // only send notifications if the pageload is complete; this will\n",
              "        // help stop extra notifications when a saved notebook is loaded,\n",
              "        // which during testing gives us state \"interactive\", not \"complete\"\n",
              "        if (document.readyState === 'complete') {\n",
              "            // check for the div that signifies that the notification\n",
              "            // was already sent\n",
              "            if (document.getElementById(\"dd0f8bad-3cd5-4a2f-a8af-788919a4bd03\") === null) {\n",
              "                var notificationPayload = {\"requireInteraction\": false, \"icon\": \"/static/base/images/favicon.ico\", \"body\": \"Cell execution has finished!\"};\n",
              "                if (Notification.permission !== 'denied') {\n",
              "                    if (Notification.permission !== 'granted') { \n",
              "                        Notification.requestPermission(function (permission) {\n",
              "                            if(!('permission' in Notification)) {\n",
              "                                Notification.permission = permission\n",
              "                            }\n",
              "                        })\n",
              "                    }\n",
              "                    if (Notification.permission === 'granted') {\n",
              "                    var notification = new Notification(\"Jupyter Notebook\", notificationPayload)\n",
              "                    appendUniqueDiv()\n",
              "                    notification.onclick = function () {\n",
              "                        window.focus();\n",
              "                        this.close();\n",
              "                        };\n",
              "                    } \n",
              "                }     \n",
              "            }\n",
              "        }\n",
              "    }\n",
              ")\n"
            ],
            "text/plain": [
              "<IPython.core.display.Javascript object>"
            ]
          },
          "metadata": {
            "tags": []
          }
        }
      ]
    },
    {
      "metadata": {
        "id": "WwCC7zx5eK-b",
        "colab_type": "text"
      },
      "cell_type": "markdown",
      "source": [
        "Import prettytable to summarize the results in a table"
      ]
    },
    {
      "metadata": {
        "id": "l5cukP_ceK-f",
        "colab_type": "code",
        "colab": {}
      },
      "cell_type": "code",
      "source": [
        "#!pip install PrettyTable\n",
        "#from prettytable import PrettyTable\n",
        "from prettytable import PrettyTable\n",
        "table = PrettyTable()"
      ],
      "execution_count": 0,
      "outputs": []
    },
    {
      "metadata": {
        "id": "8E1LyGXceK-p",
        "colab_type": "text"
      },
      "cell_type": "markdown",
      "source": [
        "Let's define a couple of functions that we'll use.\n",
        "\n",
        "* give_me_ratios()\n",
        "\n",
        "* plot_confusion_matrix()\n",
        "  \n",
        "The first function takes the training and test data and creates a table containing various ratios like precision, recall, FPR, TPR, etc.\n",
        "\n",
        "The second function plots a confusion matrix for training and test datasets.\n"
      ]
    },
    {
      "metadata": {
        "id": "jFkoEYGKeK-s",
        "colab_type": "code",
        "colab": {}
      },
      "cell_type": "code",
      "source": [
        "def give_me_ratios(X_train, y_train, X_test, y_test, vector_type, table): \n",
        "    \n",
        "    cm_train = confusion_matrix(y_train, clf.predict(X_train))\n",
        "    tn, fp, fn, tp = cm_train.ravel()\n",
        "\n",
        "    recall_train = round(tp/(tp+fn),2)\n",
        "    precision_train = round(tp/(tp+fp),2)\n",
        "    tnr_train = round(tn/(tn+fp),2)\n",
        "    fpr_train = round(fp/(fp+tn),2)\n",
        "    fnr_train = round(fn/(fn+tp),2)\n",
        "    accuracy_train = round((tp+tn)/(tp+tn+fp+fn))\n",
        "    accuracy_train = (tp+tn)/(tp+tn+fp+fn)\n",
        "\n",
        "    cm_test = confusion_matrix(y_test, clf.predict(X_test))\n",
        "    tn, fp, fn, tp = cm_test.ravel()\n",
        "    recall_test = round(tp/(tp+fn),2)\n",
        "    precision_test = round(tp/(tp+fp),2)\n",
        "    tnr_test = round(tn/(tn+fp),2)\n",
        "    fpr_test = round(fp/(fp+tn),2)\n",
        "    fnr_test = round(fn/(fn+tp),2)\n",
        "    accuracy_test = round(tp+tn)/(tp+tn+fp+fn)\n",
        "\n",
        "    table.field_names = ['Vector Type','Data Set', 'Precision', 'Recall', 'TNR', 'FPR', 'FNR', 'Accuracy']\n",
        "    table.add_row([vector_type,'Train', precision_train, recall_train, tnr_train, fpr_train, fnr_train, accuracy_train])\n",
        "    table.add_row([vector_type,'Test', precision_test, recall_test, tnr_test, fpr_test, fnr_test, accuracy_test])\n",
        "\n",
        "    print(table)\n",
        "    \n",
        "    return (cm_train, cm_test)"
      ],
      "execution_count": 0,
      "outputs": []
    },
    {
      "metadata": {
        "id": "zAZ5awAmeK-3",
        "colab_type": "code",
        "colab": {}
      },
      "cell_type": "code",
      "source": [
        "def plot_confusion_matrix(cm_train, cm_test):\n",
        "    \n",
        "    import pandas as pd\n",
        "    plt.figure(figsize=(15,6))\n",
        "    \n",
        "    plt.subplot(1,2,1)\n",
        "    df_cm = pd.DataFrame(cm_train, range(2), range(2))\n",
        "    sbn.heatmap(df_cm, annot=True, annot_kws={\"size\":16}, cbar=False, fmt = 'd', xticklabels=['Negative', 'Positive'], yticklabels=['Negative', 'Positive'])\n",
        "    plt.xticks(fontsize=13)\n",
        "    plt.yticks(fontsize=13)\n",
        "    plt.title('Train Data', fontsize = 14)\n",
        "\n",
        "    plt.subplot(1,2,2)    \n",
        "    df_cm = pd.DataFrame(cm_test, range(2), range(2))\n",
        "    sbn.heatmap(df_cm, annot=True, annot_kws={\"size\":16}, cbar=False, fmt = 'd', xticklabels=['Negative', 'Positive'], yticklabels=['Negative', 'Positive'])\n",
        "    plt.xticks(fontsize=13)\n",
        "    plt.xticks(fontsize=13)\n",
        "    plt.title('Test Data', fontsize = 14)\n",
        "\n",
        "    plt.tight_layout()"
      ],
      "execution_count": 0,
      "outputs": []
    },
    {
      "metadata": {
        "id": "hGFWZLszeK_E",
        "colab_type": "text"
      },
      "cell_type": "markdown",
      "source": [
        "Calculate the ratios."
      ]
    },
    {
      "metadata": {
        "id": "-_FkRdCPeK_H",
        "colab_type": "code",
        "colab": {},
        "outputId": "397f9a91-5442-4cf8-e404-a0d9129b7f1a"
      },
      "cell_type": "code",
      "source": [
        "cm_bow_train, cm_bow_test = give_me_ratios(X_train_transformed_bow, y_train, X_test_transformed_bow, y_test, 'Bag of Words', table)"
      ],
      "execution_count": 0,
      "outputs": [
        {
          "output_type": "stream",
          "text": [
            "+--------------+----------+-----------+--------+------+------+------+--------------------+\n",
            "| Vector Type  | Data Set | Precision | Recall | TNR  | FPR  | FNR  |      Accuracy      |\n",
            "+--------------+----------+-----------+--------+------+------+------+--------------------+\n",
            "| Bag of Words |  Train   |    0.91   |  0.98  | 0.44 | 0.56 | 0.02 | 0.8990512672652882 |\n",
            "| Bag of Words |   Test   |    0.89   |  0.98  | 0.43 | 0.57 | 0.02 | 0.8875677902107503 |\n",
            "+--------------+----------+-----------+--------+------+------+------+--------------------+\n"
          ],
          "name": "stdout"
        }
      ]
    },
    {
      "metadata": {
        "id": "OqCrSLAoeK_Y",
        "colab_type": "text"
      },
      "cell_type": "markdown",
      "source": [
        "Plot the confusion matrix."
      ]
    },
    {
      "metadata": {
        "id": "h8kZQ9NaeK_b",
        "colab_type": "code",
        "colab": {},
        "outputId": "d16cbadc-ddd8-4b26-ebb1-3c657e86dcd8"
      },
      "cell_type": "code",
      "source": [
        "plot_confusion_matrix(cm_bow_train, cm_bow_test)"
      ],
      "execution_count": 0,
      "outputs": [
        {
          "output_type": "display_data",
          "data": {
            "image/png": "[encoded data removed]",
            "text/plain": [
              "<matplotlib.figure.Figure at 0x2afde647048>"
            ]
          },
          "metadata": {
            "tags": []
          }
        }
      ]
    },
    {
      "metadata": {
        "id": "QN4FbsOmeK_o",
        "colab_type": "text"
      },
      "cell_type": "markdown",
      "source": [
        "### Feature Importance\n",
        "\n",
        "Let's look at the log probabilities of feature importances, for each class."
      ]
    },
    {
      "metadata": {
        "id": "umfw6KrMeK_r",
        "colab_type": "code",
        "colab": {},
        "outputId": "2fd426fd-cd6e-4f8a-f34f-fb0a358c03ca"
      },
      "cell_type": "code",
      "source": [
        "clf.best_estimator_.feature_log_prob_"
      ],
      "execution_count": 0,
      "outputs": [
        {
          "output_type": "execute_result",
          "data": {
            "text/plain": [
              "array([[13.63213064, 12.56168923, 13.71914202, ..., 13.71914202,\n",
              "        13.71914202, 13.71914202],\n",
              "       [12.41965302, 12.32434284, 12.41965302, ..., 12.41965302,\n",
              "        12.41965302, 12.41965302]])"
            ]
          },
          "metadata": {
            "tags": []
          },
          "execution_count": 15
        }
      ]
    },
    {
      "metadata": {
        "id": "n0-OT1M5eK_6",
        "colab_type": "text"
      },
      "cell_type": "markdown",
      "source": [
        "Notice the shape of this array. For each class along the rows, it gives log probabilities for all words, which are along the columns."
      ]
    },
    {
      "metadata": {
        "id": "yq1yKK_GeK_9",
        "colab_type": "code",
        "colab": {},
        "outputId": "308ad8c4-e505-49d7-9408-8fa6b260e2c3"
      },
      "cell_type": "code",
      "source": [
        "clf.best_estimator_.feature_log_prob_.shape"
      ],
      "execution_count": 0,
      "outputs": [
        {
          "output_type": "execute_result",
          "data": {
            "text/plain": [
              "(2, 64221)"
            ]
          },
          "metadata": {
            "tags": []
          },
          "execution_count": 16
        }
      ]
    },
    {
      "metadata": {
        "id": "g_v5rnM9eLAM",
        "colab_type": "text"
      },
      "cell_type": "markdown",
      "source": [
        "Let's sort the probabilities such that in each row, the probabilities are in descending order. The argsort function is used to get the indexes of the probabilities in their sorted position. But it sorts in the ascending order by default. \n",
        "\n",
        "We first reverse the array with [::-1], select the needed row (0/1) and fetch the index of the top 25 features with the highest probability.\n",
        "\n",
        "Why do we need the indices of the words? Because we need to know which index corresponds to which word in the BoW trained model."
      ]
    },
    {
      "metadata": {
        "id": "wt0qz4zZeLAP",
        "colab_type": "code",
        "colab": {}
      },
      "cell_type": "code",
      "source": [
        "top_features_negative_bow_index = np.argsort(clf.best_estimator_.feature_log_prob_)[::-1][0][:25].tolist()"
      ],
      "execution_count": 0,
      "outputs": []
    },
    {
      "metadata": {
        "id": "W4NHVQ5-eLAY",
        "colab_type": "code",
        "colab": {}
      },
      "cell_type": "code",
      "source": [
        "top_features_positive_bow_index = np.argsort(clf.best_estimator_.feature_log_prob_)[::-1][1][:25].tolist()"
      ],
      "execution_count": 0,
      "outputs": []
    },
    {
      "metadata": {
        "id": "1-DWFV8DeLAk",
        "colab_type": "text"
      },
      "cell_type": "markdown",
      "source": [
        "Load the fit BoW model which contains the word to index mapping."
      ]
    },
    {
      "metadata": {
        "id": "AcTFOo1teLAq",
        "colab_type": "code",
        "colab": {}
      },
      "cell_type": "code",
      "source": [
        "f = open(r'D:\\data_science\\datasets\\amazon2\\bow_fit_model_full.pkl', 'rb')\n",
        "#f = open('/home/ucanreachtvk/data/bow_fit_model_full.pkl', 'rb')\n",
        "bow_fit = pickle.load(f)\n",
        "f.close()"
      ],
      "execution_count": 0,
      "outputs": []
    },
    {
      "metadata": {
        "id": "gZfypXcIeLA6",
        "colab_type": "text"
      },
      "cell_type": "markdown",
      "source": [
        "The bow fit model has an attribute that stores the index of each word against the word. But we need the word from its key, not the key from the word! So let's reverse the mapping of the dictionary."
      ]
    },
    {
      "metadata": {
        "id": "Vtc9Z2bneLA9",
        "colab_type": "code",
        "colab": {}
      },
      "cell_type": "code",
      "source": [
        "inv_map = {v:k for k, v in bow_fit.vocabulary_.items()}"
      ],
      "execution_count": 0,
      "outputs": []
    },
    {
      "metadata": {
        "id": "kI_i1S61eLBK",
        "colab_type": "text"
      },
      "cell_type": "markdown",
      "source": [
        "Printing the top 25 negative words."
      ]
    },
    {
      "metadata": {
        "id": "88cnJpBmeLBN",
        "colab_type": "code",
        "colab": {},
        "outputId": "5b06c3b1-3435-4089-d091-aaf9a578cd2f"
      },
      "cell_type": "code",
      "source": [
        "for ind in top_features_negative_bow_index:\n",
        "    print(inv_map[ind], end=' | ')"
      ],
      "execution_count": 0,
      "outputs": [
        {
          "output_type": "stream",
          "text": [
            "tast | like | product | one | flavor | would | tri | good | coffe | use | get | buy | order | food | tea | dont | box | even | amazon | make | bag | much | eat | time | realli | "
          ],
          "name": "stdout"
        }
      ]
    },
    {
      "metadata": {
        "id": "gNHA0bxgeLBa",
        "colab_type": "text"
      },
      "cell_type": "markdown",
      "source": [
        "Printing the top 25 positive words"
      ]
    },
    {
      "metadata": {
        "id": "r4rf2FvseLBf",
        "colab_type": "code",
        "colab": {},
        "outputId": "09cd0841-71ec-4b78-bb38-cd65a1598d98"
      },
      "cell_type": "code",
      "source": [
        "for ind in top_features_positive_bow_index:\n",
        "    print(inv_map[ind], end=' | ')"
      ],
      "execution_count": 0,
      "outputs": [
        {
          "output_type": "stream",
          "text": [
            "like | tast | good | flavor | love | great | use | one | product | tea | tri | coffe | make | get | food | time | would | buy | eat | realli | amazon | find | price | best | also | "
          ],
          "name": "stdout"
        }
      ]
    },
    {
      "metadata": {
        "id": "v7s3S3rDeLB4",
        "colab_type": "text"
      },
      "cell_type": "markdown",
      "source": [
        "Finally, let's calculate the accuracy using the best classifier found by gridsearch."
      ]
    },
    {
      "metadata": {
        "id": "Ct-0tNUAeLB6",
        "colab_type": "code",
        "colab": {},
        "outputId": "b000f8a5-32fd-446c-810a-1f8da11397ca"
      },
      "cell_type": "code",
      "source": [
        "clf.score(X_test_transformed_bow, y_test)"
      ],
      "execution_count": 0,
      "outputs": [
        {
          "output_type": "execute_result",
          "data": {
            "text/plain": [
              "0.8875677902107503"
            ]
          },
          "metadata": {
            "tags": []
          },
          "execution_count": 23
        }
      ]
    },
    {
      "metadata": {
        "id": "cRqRLn7WeLCM",
        "colab_type": "text"
      },
      "cell_type": "markdown",
      "source": [
        "## Tfidf\n",
        "\n",
        "In this section, we'll apply Naive Bayes on reviews represented in the Tfidf format. Load the transformed train and test sets."
      ]
    },
    {
      "metadata": {
        "id": "I2NnpHoeeLCR",
        "colab_type": "code",
        "colab": {},
        "outputId": "e88cd773-7c10-4c90-9890-b19ae29a3dff"
      },
      "cell_type": "code",
      "source": [
        "f = open(r'D:\\data_science\\datasets\\amazon2\\X_train_transformed_tfidf_full_nparray.pkl', 'rb')\n",
        "X_train_transformed_tfidf = pickle.load(f)\n",
        "f.close()\n",
        "print('The datatype of X_train_transformed_tfidf is : {}'.format(type(X_train_transformed_tfidf)))\n",
        "print('The shape of X_train_transformed_tfidf is : {}'.format(X_train_transformed_tfidf.shape))"
      ],
      "execution_count": 0,
      "outputs": [
        {
          "output_type": "stream",
          "text": [
            "The datatype of X_train_transformed_tfidf is : <class 'scipy.sparse.csr.csr_matrix'>\n",
            "The shape of X_train_transformed_tfidf is : (291336, 64221)\n"
          ],
          "name": "stdout"
        }
      ]
    },
    {
      "metadata": {
        "id": "RKa1Xlz_eLCq",
        "colab_type": "code",
        "colab": {},
        "outputId": "79406290-77af-42d3-8582-39fb65680227"
      },
      "cell_type": "code",
      "source": [
        "f = open(r'D:\\data_science\\datasets\\amazon2\\X_test_transformed_tfidf_full_nparray.pkl', 'rb')\n",
        "X_test_transformed_tfidf = pickle.load(f)\n",
        "f.close()\n",
        "print('The datatype of X_test_transformed_bow is : {}'.format(type(X_test_transformed_tfidf)))\n",
        "print('The shape of X_test_transformed_bow is : {}'.format(X_test_transformed_tfidf.shape))"
      ],
      "execution_count": 0,
      "outputs": [
        {
          "output_type": "stream",
          "text": [
            "The datatype of X_test_transformed_bow is : <class 'scipy.sparse.csr.csr_matrix'>\n",
            "The shape of X_test_transformed_bow is : (72835, 64221)\n"
          ],
          "name": "stdout"
        }
      ]
    },
    {
      "metadata": {
        "id": "713_4eaueLC2",
        "colab_type": "text"
      },
      "cell_type": "markdown",
      "source": [
        "GridSearchCV"
      ]
    },
    {
      "metadata": {
        "id": "ulx23_M6eLC7",
        "colab_type": "code",
        "colab": {}
      },
      "cell_type": "code",
      "source": [
        "try:\n",
        "    del(tscv)\n",
        "    del(my_cv)\n",
        "    del(clf)\n",
        "    del(nb)\n",
        "except:\n",
        "    print('one or more variables not found.')\n",
        "\n",
        "tscv = TimeSeriesSplit(n_splits=10)\n",
        "my_cv = tscv.split(X_train_transformed_tfidf)\n",
        "\n",
        "nb = ComplementNB()\n",
        "#nb = MultinomialNB()\n",
        "\n",
        "hyp_par = {\n",
        "            'alpha':[0.001, 0.01, 0.1, 10, 100, 1000, 10000]\n",
        "          }\n",
        "\n",
        "clf = GridSearchCV(estimator=nb, cv=my_cv, param_grid=hyp_par, n_jobs=4, return_train_score=True, pre_dispatch=2)"
      ],
      "execution_count": 0,
      "outputs": []
    },
    {
      "metadata": {
        "id": "NjCXU89HeLDF",
        "colab_type": "code",
        "colab": {},
        "outputId": "0ad871c7-95c5-457b-d048-8d74e995c3f2"
      },
      "cell_type": "code",
      "source": [
        "%%notify\n",
        "%%time\n",
        "\n",
        "clf.fit(X_train_transformed_tfidf, y_train)"
      ],
      "execution_count": 0,
      "outputs": [
        {
          "output_type": "stream",
          "text": [
            "Wall time: 14.2 s\n"
          ],
          "name": "stdout"
        },
        {
          "output_type": "execute_result",
          "data": {
            "text/plain": [
              "GridSearchCV(cv=<generator object TimeSeriesSplit.split at 0x000002AFDE73B728>,\n",
              "       error_score='raise-deprecating',\n",
              "       estimator=ComplementNB(alpha=1.0, class_prior=None, fit_prior=True, norm=False),\n",
              "       fit_params=None, iid='warn', n_jobs=4,\n",
              "       param_grid={'alpha': [0.001, 0.01, 0.1, 10, 100, 1000, 10000]},\n",
              "       pre_dispatch=2, refit=True, return_train_score=True, scoring=None,\n",
              "       verbose=0)"
            ]
          },
          "metadata": {
            "tags": []
          },
          "execution_count": 27
        },
        {
          "output_type": "display_data",
          "data": {
            "application/javascript": [
              "$(document).ready(\n",
              "    function() {\n",
              "        function appendUniqueDiv(){\n",
              "            // append a div with our uuid so we can check that it's already\n",
              "            // been sent and avoid duplicates on page reload\n",
              "            var notifiedDiv = document.createElement(\"div\")\n",
              "            notifiedDiv.id = \"8bf83257-ebbc-47ad-af3e-637b54fbb24e\"\n",
              "            element.append(notifiedDiv)\n",
              "        }\n",
              "\n",
              "        // only send notifications if the pageload is complete; this will\n",
              "        // help stop extra notifications when a saved notebook is loaded,\n",
              "        // which during testing gives us state \"interactive\", not \"complete\"\n",
              "        if (document.readyState === 'complete') {\n",
              "            // check for the div that signifies that the notification\n",
              "            // was already sent\n",
              "            if (document.getElementById(\"8bf83257-ebbc-47ad-af3e-637b54fbb24e\") === null) {\n",
              "                var notificationPayload = {\"requireInteraction\": false, \"icon\": \"/static/base/images/favicon.ico\", \"body\": \"Cell execution has finished!\"};\n",
              "                if (Notification.permission !== 'denied') {\n",
              "                    if (Notification.permission !== 'granted') { \n",
              "                        Notification.requestPermission(function (permission) {\n",
              "                            if(!('permission' in Notification)) {\n",
              "                                Notification.permission = permission\n",
              "                            }\n",
              "                        })\n",
              "                    }\n",
              "                    if (Notification.permission === 'granted') {\n",
              "                    var notification = new Notification(\"Jupyter Notebook\", notificationPayload)\n",
              "                    appendUniqueDiv()\n",
              "                    notification.onclick = function () {\n",
              "                        window.focus();\n",
              "                        this.close();\n",
              "                        };\n",
              "                    } \n",
              "                }     \n",
              "            }\n",
              "        }\n",
              "    }\n",
              ")\n"
            ],
            "text/plain": [
              "<IPython.core.display.Javascript object>"
            ]
          },
          "metadata": {
            "tags": []
          }
        }
      ]
    },
    {
      "metadata": {
        "id": "xhM2QI6neLDg",
        "colab_type": "text"
      },
      "cell_type": "markdown",
      "source": [
        "Upadate the table with ratios for Tfidf"
      ]
    },
    {
      "metadata": {
        "id": "pcRriH5beLDk",
        "colab_type": "code",
        "colab": {},
        "outputId": "76be3776-ccff-4644-891d-d4428351e921"
      },
      "cell_type": "code",
      "source": [
        "cm_tfidf_train, cm_tfidf_test = give_me_ratios(X_train_transformed_tfidf, y_train, X_test_transformed_tfidf, y_test, 'Tfidf', table)"
      ],
      "execution_count": 0,
      "outputs": [
        {
          "output_type": "stream",
          "text": [
            "+--------------+----------+-----------+--------+------+------+------+--------------------+\n",
            "| Vector Type  | Data Set | Precision | Recall | TNR  | FPR  | FNR  |      Accuracy      |\n",
            "+--------------+----------+-----------+--------+------+------+------+--------------------+\n",
            "| Bag of Words |  Train   |    0.91   |  0.98  | 0.44 | 0.56 | 0.02 | 0.8990512672652882 |\n",
            "| Bag of Words |   Test   |    0.89   |  0.98  | 0.43 | 0.57 | 0.02 | 0.8875677902107503 |\n",
            "|    Tfidf     |  Train   |    0.97   |  0.89  | 0.87 | 0.13 | 0.11 | 0.8871955405442513 |\n",
            "|    Tfidf     |   Test   |    0.96   |  0.87  | 0.81 | 0.19 | 0.13 | 0.860561543214114  |\n",
            "+--------------+----------+-----------+--------+------+------+------+--------------------+\n"
          ],
          "name": "stdout"
        }
      ]
    },
    {
      "metadata": {
        "id": "Vkmo-PJ0eLEa",
        "colab_type": "text"
      },
      "cell_type": "markdown",
      "source": [
        "Plot the confusion matrix.\n",
        "\n",
        "* y-axis : Actual class\n",
        "* x-axis : Predicted class"
      ]
    },
    {
      "metadata": {
        "id": "vI6_q_wGeLEf",
        "colab_type": "code",
        "colab": {},
        "outputId": "ba88eb85-242b-4d34-fb40-4976d8f749e3"
      },
      "cell_type": "code",
      "source": [
        "plot_confusion_matrix(cm_tfidf_train, cm_tfidf_test)"
      ],
      "execution_count": 0,
      "outputs": [
        {
          "output_type": "display_data",
          "data": {
            "image/png": "[encoded data removed]",
            "text/plain": [
              "<matplotlib.figure.Figure at 0x2afde811550>"
            ]
          },
          "metadata": {
            "tags": []
          }
        }
      ]
    },
    {
      "metadata": {
        "id": "fRCHD02reLEo",
        "colab_type": "text"
      },
      "cell_type": "markdown",
      "source": [
        "Log probabilities of features."
      ]
    },
    {
      "metadata": {
        "id": "-ehZmtZReLEp",
        "colab_type": "code",
        "colab": {},
        "outputId": "c630bac3-c90e-4e98-f424-387734f76c77"
      },
      "cell_type": "code",
      "source": [
        "clf.best_estimator_.feature_log_prob_"
      ],
      "execution_count": 0,
      "outputs": [
        {
          "output_type": "execute_result",
          "data": {
            "text/plain": [
              "array([[14.60628932, 12.57943632, 14.59455541, ..., 14.67032303,\n",
              "        14.78008342, 14.46814714],\n",
              "       [14.60638248, 13.45078789, 14.60638248, ..., 14.60638248,\n",
              "        14.60638248, 14.60638248]])"
            ]
          },
          "metadata": {
            "tags": []
          },
          "execution_count": 30
        }
      ]
    },
    {
      "metadata": {
        "id": "oFXH0INCeLE0",
        "colab_type": "text"
      },
      "cell_type": "markdown",
      "source": [
        "Extract the indices of the top 25 positive and negative words (features)"
      ]
    },
    {
      "metadata": {
        "id": "nscvn2fZeLE1",
        "colab_type": "code",
        "colab": {}
      },
      "cell_type": "code",
      "source": [
        "top_features_negative_tfidf_index = np.argsort(clf.best_estimator_.feature_log_prob_)[::-1][0][:25].tolist()\n",
        "top_features_positive_tfidf_index = np.argsort(clf.best_estimator_.feature_log_prob_)[::-1][1][:25].tolist()"
      ],
      "execution_count": 0,
      "outputs": []
    },
    {
      "metadata": {
        "id": "rHGcpRHheLE6",
        "colab_type": "text"
      },
      "cell_type": "markdown",
      "source": [
        "Load the Tfidf model"
      ]
    },
    {
      "metadata": {
        "id": "PX2JAc0yeLE7",
        "colab_type": "code",
        "colab": {}
      },
      "cell_type": "code",
      "source": [
        "f = open(r'D:\\data_science\\datasets\\amazon2\\tfidf_fit_model_full.pkl', 'rb')\n",
        "#f = open('/home/ucanreachtvk/data/bow_fit_model_full.pkl', 'rb')\n",
        "tfidf_fit = pickle.load(f)\n",
        "f.close()"
      ],
      "execution_count": 0,
      "outputs": []
    },
    {
      "metadata": {
        "id": "2kPFczobeLFA",
        "colab_type": "code",
        "colab": {}
      },
      "cell_type": "code",
      "source": [
        "inv_map = {v:k for k, v in tfidf_fit.vocabulary_.items()}"
      ],
      "execution_count": 0,
      "outputs": []
    },
    {
      "metadata": {
        "id": "zuU6vy-JeLFG",
        "colab_type": "text"
      },
      "cell_type": "markdown",
      "source": [
        "Top 25 negaive words"
      ]
    },
    {
      "metadata": {
        "id": "Sy2CWkEEeLFJ",
        "colab_type": "code",
        "colab": {},
        "outputId": "195a9676-0abd-46bd-aa8d-b9fd3a25e88c"
      },
      "cell_type": "code",
      "source": [
        "for ind in top_features_negative_tfidf_index:\n",
        "    print(inv_map[ind], end=' | ')"
      ],
      "execution_count": 0,
      "outputs": [
        {
          "output_type": "stream",
          "text": [
            "tast | like | product | would | flavor | coffe | one | tri | buy | order | box | tea | disappoint | good | dont | get | use | even | food | bag | bad | purchas | amazon | much | packag | "
          ],
          "name": "stdout"
        }
      ]
    },
    {
      "metadata": {
        "id": "XY9kd5XpeLFN",
        "colab_type": "text"
      },
      "cell_type": "markdown",
      "source": [
        "Top 25 positive words"
      ]
    },
    {
      "metadata": {
        "id": "T2fOf3w5eLFN",
        "colab_type": "code",
        "colab": {},
        "outputId": "0226b530-c23a-4d21-db34-4a867056c2a2"
      },
      "cell_type": "code",
      "source": [
        "for ind in top_features_positive_tfidf_index:\n",
        "    print(inv_map[ind], end=' | ')"
      ],
      "execution_count": 0,
      "outputs": [
        {
          "output_type": "stream",
          "text": [
            "great | love | tast | good | like | tea | flavor | coffe | product | use | one | tri | make | get | price | best | buy | food | amazon | find | order | time | realli | eat | store | "
          ],
          "name": "stdout"
        }
      ]
    },
    {
      "metadata": {
        "id": "A7zSprVceLFV",
        "colab_type": "code",
        "colab": {}
      },
      "cell_type": "code",
      "source": [
        "clf.score(X_test_transformed_tfidf, y_test)"
      ],
      "execution_count": 0,
      "outputs": []
    },
    {
      "metadata": {
        "id": "8bz0nXvfeLFX",
        "colab_type": "text"
      },
      "cell_type": "markdown",
      "source": [
        "## Avg W2V\n",
        "\n",
        "In this section, we'll apply NB on data represented in the avg. W2V format.\n",
        "load the train and test data stored on disk."
      ]
    },
    {
      "metadata": {
        "id": "9zTzAJAxeLFZ",
        "colab_type": "code",
        "colab": {},
        "outputId": "d1157585-753e-4cb6-8739-040ae282fcc2"
      },
      "cell_type": "code",
      "source": [
        "f = open(r'D:\\data_science\\datasets\\amazon2\\X_train_transformed_avgW2V_full80_20_nparray.pkl', 'rb')\n",
        "X_train_transformed_avgW2V = pickle.load(f)\n",
        "f.close()\n",
        "print('The datatype of X_train_transformed_avgW2V is : {}'.format(type(X_train_transformed_avgW2V)))\n",
        "print('The shape of X_train_transformed_avgW2V is : {}'.format(X_train_transformed_avgW2V.shape))"
      ],
      "execution_count": 0,
      "outputs": [
        {
          "output_type": "stream",
          "text": [
            "The datatype of X_train_transformed_avgW2V is : <class 'numpy.ndarray'>\n",
            "The shape of X_train_transformed_avgW2V is : (291336, 50)\n"
          ],
          "name": "stdout"
        }
      ]
    },
    {
      "metadata": {
        "id": "lmzl2wYneLFd",
        "colab_type": "code",
        "colab": {},
        "outputId": "88c51efe-4509-4613-e847-1a62f9d013c7"
      },
      "cell_type": "code",
      "source": [
        "f = open(r'D:\\data_science\\datasets\\amazon2\\X_test_transformed_avgW2V_full80_20_nparray.pkl', 'rb')\n",
        "X_test_transformed_avgW2V = pickle.load(f)\n",
        "f.close()\n",
        "print('The datatype of X_test_transformed_avgW2V is : {}'.format(type(X_test_transformed_avgW2V)))\n",
        "print('The shape of X_test_transformed_avgW2V is : {}'.format(X_test_transformed_avgW2V.shape))"
      ],
      "execution_count": 0,
      "outputs": [
        {
          "output_type": "stream",
          "text": [
            "The datatype of X_test_transformed_avgW2V is : <class 'numpy.ndarray'>\n",
            "The shape of X_test_transformed_avgW2V is : (72835, 50)\n"
          ],
          "name": "stdout"
        }
      ]
    },
    {
      "metadata": {
        "id": "S16UufMFeLFn",
        "colab_type": "text"
      },
      "cell_type": "markdown",
      "source": [
        "GridSearch\n",
        "\n",
        "We use GaussianNB for W2V, because there are negative values in the W2V matrix and MultinomialNB/ComplementNB works with only positive values."
      ]
    },
    {
      "metadata": {
        "id": "FXAEllFbeLFo",
        "colab_type": "code",
        "colab": {}
      },
      "cell_type": "code",
      "source": [
        "try:\n",
        "    del(tscv)\n",
        "    del(my_cv)\n",
        "    del(clf)\n",
        "    del(nb)\n",
        "except:\n",
        "    print('one or more variables not found.')\n",
        "\n",
        "tscv = TimeSeriesSplit(n_splits=10)\n",
        "my_cv = tscv.split(X_train_transformed_avgW2V)\n",
        "\n",
        "nb = GaussianNB()\n",
        "#nb = ComplementNB()\n",
        "#nb = MultinomialNB()\n",
        "\n",
        "hyp_par = {\n",
        "                #'alpha':[0.001, 0.01, 0.1, 10, 100, 1000, 10000]\n",
        "                'var_smoothing':[1e-09, 1e-06, 1e-03,1e-00]\n",
        "          }\n",
        "\n",
        "clf = GridSearchCV(estimator=nb, cv=my_cv, param_grid=hyp_par, n_jobs=4, return_train_score=True, pre_dispatch=2)"
      ],
      "execution_count": 0,
      "outputs": []
    },
    {
      "metadata": {
        "id": "VFlrYoz9eLFq",
        "colab_type": "code",
        "colab": {},
        "outputId": "6f6ce3e7-a9a5-4ebf-a1e8-0832234271d1"
      },
      "cell_type": "code",
      "source": [
        "%%notify\n",
        "%%time\n",
        "\n",
        "clf.fit(X_train_transformed_avgW2V, y_train)"
      ],
      "execution_count": 0,
      "outputs": [
        {
          "output_type": "stream",
          "text": [
            "Wall time: 20 s\n"
          ],
          "name": "stdout"
        },
        {
          "output_type": "execute_result",
          "data": {
            "text/plain": [
              "GridSearchCV(cv=<generator object TimeSeriesSplit.split at 0x000002AFDE73BE08>,\n",
              "       error_score='raise-deprecating',\n",
              "       estimator=GaussianNB(priors=None, var_smoothing=1e-09),\n",
              "       fit_params=None, iid='warn', n_jobs=4,\n",
              "       param_grid={'var_smoothing': [1e-09, 1e-06, 0.001, 1.0]},\n",
              "       pre_dispatch=2, refit=True, return_train_score=True, scoring=None,\n",
              "       verbose=0)"
            ]
          },
          "metadata": {
            "tags": []
          },
          "execution_count": 39
        },
        {
          "output_type": "display_data",
          "data": {
            "application/javascript": [
              "$(document).ready(\n",
              "    function() {\n",
              "        function appendUniqueDiv(){\n",
              "            // append a div with our uuid so we can check that it's already\n",
              "            // been sent and avoid duplicates on page reload\n",
              "            var notifiedDiv = document.createElement(\"div\")\n",
              "            notifiedDiv.id = \"95e828d4-66a8-426a-bd16-7c53dd2ee7ec\"\n",
              "            element.append(notifiedDiv)\n",
              "        }\n",
              "\n",
              "        // only send notifications if the pageload is complete; this will\n",
              "        // help stop extra notifications when a saved notebook is loaded,\n",
              "        // which during testing gives us state \"interactive\", not \"complete\"\n",
              "        if (document.readyState === 'complete') {\n",
              "            // check for the div that signifies that the notification\n",
              "            // was already sent\n",
              "            if (document.getElementById(\"95e828d4-66a8-426a-bd16-7c53dd2ee7ec\") === null) {\n",
              "                var notificationPayload = {\"requireInteraction\": false, \"icon\": \"/static/base/images/favicon.ico\", \"body\": \"Cell execution has finished!\"};\n",
              "                if (Notification.permission !== 'denied') {\n",
              "                    if (Notification.permission !== 'granted') { \n",
              "                        Notification.requestPermission(function (permission) {\n",
              "                            if(!('permission' in Notification)) {\n",
              "                                Notification.permission = permission\n",
              "                            }\n",
              "                        })\n",
              "                    }\n",
              "                    if (Notification.permission === 'granted') {\n",
              "                    var notification = new Notification(\"Jupyter Notebook\", notificationPayload)\n",
              "                    appendUniqueDiv()\n",
              "                    notification.onclick = function () {\n",
              "                        window.focus();\n",
              "                        this.close();\n",
              "                        };\n",
              "                    } \n",
              "                }     \n",
              "            }\n",
              "        }\n",
              "    }\n",
              ")\n"
            ],
            "text/plain": [
              "<IPython.core.display.Javascript object>"
            ]
          },
          "metadata": {
            "tags": []
          }
        }
      ]
    },
    {
      "metadata": {
        "id": "MEDq_P6ZeLFu",
        "colab_type": "text"
      },
      "cell_type": "markdown",
      "source": [
        "Update the table with values of Avg. W2V."
      ]
    },
    {
      "metadata": {
        "id": "n7TOBiR_eLFv",
        "colab_type": "code",
        "colab": {},
        "outputId": "866dffb8-8bbf-4488-c9ba-24f2fcca48d1"
      },
      "cell_type": "code",
      "source": [
        "cm_w2v_train, cm_w2v_test = give_me_ratios(X_train_transformed_avgW2V, y_train, X_test_transformed_avgW2V, y_test, 'Avg. W2V', table)"
      ],
      "execution_count": 0,
      "outputs": [
        {
          "output_type": "stream",
          "text": [
            "+--------------+----------+-----------+--------+------+------+------+--------------------+\n",
            "| Vector Type  | Data Set | Precision | Recall | TNR  | FPR  | FNR  |      Accuracy      |\n",
            "+--------------+----------+-----------+--------+------+------+------+--------------------+\n",
            "| Bag of Words |  Train   |    0.91   |  0.98  | 0.44 | 0.56 | 0.02 | 0.8990512672652882 |\n",
            "| Bag of Words |   Test   |    0.89   |  0.98  | 0.43 | 0.57 | 0.02 | 0.8875677902107503 |\n",
            "|    Tfidf     |  Train   |    0.97   |  0.89  | 0.87 | 0.13 | 0.11 | 0.8871955405442513 |\n",
            "|    Tfidf     |   Test   |    0.96   |  0.87  | 0.81 | 0.19 | 0.13 | 0.860561543214114  |\n",
            "|   Avg. W2V   |  Train   |    0.85   |  0.98  | 0.07 | 0.93 | 0.02 | 0.8424636845429333 |\n",
            "|   Avg. W2V   |   Test   |    0.84   |  0.98  | 0.07 | 0.93 | 0.02 | 0.8249056085673097 |\n",
            "+--------------+----------+-----------+--------+------+------+------+--------------------+\n"
          ],
          "name": "stdout"
        }
      ]
    },
    {
      "metadata": {
        "id": "27mNqsW2eLF0",
        "colab_type": "text"
      },
      "cell_type": "markdown",
      "source": [
        "Plot the confusion matrix."
      ]
    },
    {
      "metadata": {
        "id": "bZ5G6OxkeLF0",
        "colab_type": "code",
        "colab": {},
        "outputId": "8cafc612-bad6-4fff-f91a-66b38075d8d7"
      },
      "cell_type": "code",
      "source": [
        "plot_confusion_matrix(cm_w2v_train, cm_w2v_test)"
      ],
      "execution_count": 0,
      "outputs": [
        {
          "output_type": "display_data",
          "data": {
            "image/png": "[encoded data removed]",
            "text/plain": [
              "<matplotlib.figure.Figure at 0x2afdf0cd080>"
            ]
          },
          "metadata": {
            "tags": []
          }
        }
      ]
    },
    {
      "metadata": {
        "id": "KnINuRGeeLF3",
        "colab_type": "code",
        "colab": {},
        "outputId": "9a7dc029-9c51-4974-8fc3-278a3367fd6d"
      },
      "cell_type": "code",
      "source": [
        "clf.score(X_test_transformed_avgW2V, y_test)"
      ],
      "execution_count": 0,
      "outputs": [
        {
          "output_type": "execute_result",
          "data": {
            "text/plain": [
              "0.8249056085673097"
            ]
          },
          "metadata": {
            "tags": []
          },
          "execution_count": 42
        }
      ]
    },
    {
      "metadata": {
        "id": "wXz1K5YteLF8",
        "colab_type": "text"
      },
      "cell_type": "markdown",
      "source": [
        "## Tfidf weighted W2V\n",
        "\n",
        "In this last section, we apply NB on vectors represented in the form of Tfidf weighted W2V."
      ]
    },
    {
      "metadata": {
        "id": "8CaTxymheLF8",
        "colab_type": "code",
        "colab": {},
        "outputId": "434c3d29-639b-4218-c1a9-34b56fab42fc"
      },
      "cell_type": "code",
      "source": [
        "f = open(r'D:\\data_science\\datasets\\amazon2\\X_train_transformed_TfidfWeightedW2V_full80_20_nparray.pkl', 'rb')\n",
        "X_train_transformed_TfidfW2V = pickle.load(f)\n",
        "f.close()\n",
        "print('The datatype of X_train_transformed_TfidfW2V is : {}'.format(type(X_train_transformed_TfidfW2V)))\n",
        "print('The shape of X_train_transformed_TfidfW2V is : {}'.format(X_train_transformed_TfidfW2V.shape))"
      ],
      "execution_count": 0,
      "outputs": [
        {
          "output_type": "stream",
          "text": [
            "The datatype of X_train_transformed_TfidfW2V is : <class 'numpy.ndarray'>\n",
            "The shape of X_train_transformed_TfidfW2V is : (291336, 50)\n"
          ],
          "name": "stdout"
        }
      ]
    },
    {
      "metadata": {
        "id": "EwWqWiGOeLGD",
        "colab_type": "code",
        "colab": {},
        "outputId": "f2a15220-19a9-49d5-f48d-43318dda93eb"
      },
      "cell_type": "code",
      "source": [
        "f = open(r'D:\\data_science\\datasets\\amazon2\\X_test_transformed_TfidfWeightedW2V_full80_20_nparray.pkl', 'rb')\n",
        "X_test_transformed_TfidfW2V = pickle.load(f)\n",
        "f.close()\n",
        "print('The datatype of X_test_transformed_TfidfW2V is : {}'.format(type(X_test_transformed_TfidfW2V)))\n",
        "print('The shape of X_train_transformed_TfidfW2V is : {}'.format(X_test_transformed_TfidfW2V.shape))"
      ],
      "execution_count": 0,
      "outputs": [
        {
          "output_type": "stream",
          "text": [
            "The datatype of X_test_transformed_TfidfW2V is : <class 'numpy.ndarray'>\n",
            "The shape of X_train_transformed_TfidfW2V is : (72835, 50)\n"
          ],
          "name": "stdout"
        }
      ]
    },
    {
      "metadata": {
        "id": "wMDZsTHleLGH",
        "colab_type": "text"
      },
      "cell_type": "markdown",
      "source": [
        "Split the data for cross validation and create Gridsearch object."
      ]
    },
    {
      "metadata": {
        "id": "_oiTZ1lGeLGH",
        "colab_type": "code",
        "colab": {}
      },
      "cell_type": "code",
      "source": [
        "try:\n",
        "    del(tscv)\n",
        "    del(my_cv)\n",
        "    del(clf)\n",
        "    del(nb)\n",
        "except:\n",
        "    print('one or more variables not found.')\n",
        "\n",
        "tscv = TimeSeriesSplit(n_splits=10)\n",
        "my_cv = tscv.split(X_train_transformed_TfidfW2V)\n",
        "\n",
        "nb = GaussianNB()\n",
        "#nb = ComplementNB()\n",
        "#nb = MultinomialNB()\n",
        "\n",
        "hyp_par = {\n",
        "            'var_smoothing':[1e-09, 1e-06, 1e-03,1e-00]\n",
        "          }\n",
        "\n",
        "clf = GridSearchCV(estimator=nb, cv=my_cv, param_grid=hyp_par, n_jobs=4, return_train_score=True, pre_dispatch=2)"
      ],
      "execution_count": 0,
      "outputs": []
    },
    {
      "metadata": {
        "id": "QWOBwCYKeLGJ",
        "colab_type": "code",
        "colab": {},
        "outputId": "79859037-6e7d-49e1-98a6-b2ea03899454"
      },
      "cell_type": "code",
      "source": [
        "%%notify\n",
        "%%time\n",
        "\n",
        "clf.fit(X_train_transformed_TfidfW2V, y_train)"
      ],
      "execution_count": 0,
      "outputs": [
        {
          "output_type": "stream",
          "text": [
            "Wall time: 20.1 s\n"
          ],
          "name": "stdout"
        },
        {
          "output_type": "execute_result",
          "data": {
            "text/plain": [
              "GridSearchCV(cv=<generator object TimeSeriesSplit.split at 0x000002AFDF334048>,\n",
              "       error_score='raise-deprecating',\n",
              "       estimator=GaussianNB(priors=None, var_smoothing=1e-09),\n",
              "       fit_params=None, iid='warn', n_jobs=4,\n",
              "       param_grid={'var_smoothing': [1e-09, 1e-06, 0.001, 1.0]},\n",
              "       pre_dispatch=2, refit=True, return_train_score=True, scoring=None,\n",
              "       verbose=0)"
            ]
          },
          "metadata": {
            "tags": []
          },
          "execution_count": 46
        },
        {
          "output_type": "display_data",
          "data": {
            "application/javascript": [
              "$(document).ready(\n",
              "    function() {\n",
              "        function appendUniqueDiv(){\n",
              "            // append a div with our uuid so we can check that it's already\n",
              "            // been sent and avoid duplicates on page reload\n",
              "            var notifiedDiv = document.createElement(\"div\")\n",
              "            notifiedDiv.id = \"fbb9b384-f1f2-44fe-bfc4-2bc187954910\"\n",
              "            element.append(notifiedDiv)\n",
              "        }\n",
              "\n",
              "        // only send notifications if the pageload is complete; this will\n",
              "        // help stop extra notifications when a saved notebook is loaded,\n",
              "        // which during testing gives us state \"interactive\", not \"complete\"\n",
              "        if (document.readyState === 'complete') {\n",
              "            // check for the div that signifies that the notification\n",
              "            // was already sent\n",
              "            if (document.getElementById(\"fbb9b384-f1f2-44fe-bfc4-2bc187954910\") === null) {\n",
              "                var notificationPayload = {\"requireInteraction\": false, \"icon\": \"/static/base/images/favicon.ico\", \"body\": \"Cell execution has finished!\"};\n",
              "                if (Notification.permission !== 'denied') {\n",
              "                    if (Notification.permission !== 'granted') { \n",
              "                        Notification.requestPermission(function (permission) {\n",
              "                            if(!('permission' in Notification)) {\n",
              "                                Notification.permission = permission\n",
              "                            }\n",
              "                        })\n",
              "                    }\n",
              "                    if (Notification.permission === 'granted') {\n",
              "                    var notification = new Notification(\"Jupyter Notebook\", notificationPayload)\n",
              "                    appendUniqueDiv()\n",
              "                    notification.onclick = function () {\n",
              "                        window.focus();\n",
              "                        this.close();\n",
              "                        };\n",
              "                    } \n",
              "                }     \n",
              "            }\n",
              "        }\n",
              "    }\n",
              ")\n"
            ],
            "text/plain": [
              "<IPython.core.display.Javascript object>"
            ]
          },
          "metadata": {
            "tags": []
          }
        }
      ]
    },
    {
      "metadata": {
        "id": "ZPvTRZgHeLGN",
        "colab_type": "text"
      },
      "cell_type": "markdown",
      "source": [
        "Update table with values for Tfidf weighted W2V."
      ]
    },
    {
      "metadata": {
        "id": "eB9xm9R-eLGO",
        "colab_type": "code",
        "colab": {},
        "outputId": "3c680dbf-faf4-4d12-e74a-7a11990b219b"
      },
      "cell_type": "code",
      "source": [
        "cm_Tfidfw2v_train, cm_Tfidfw2v_test = give_me_ratios(X_train_transformed_TfidfW2V, y_train, X_test_transformed_TfidfW2V, y_test, 'Tfidf Weighted W2V', table)"
      ],
      "execution_count": 0,
      "outputs": [
        {
          "output_type": "stream",
          "text": [
            "+--------------------+----------+-----------+--------+------+------+------+--------------------+\n",
            "|    Vector Type     | Data Set | Precision | Recall | TNR  | FPR  | FNR  |      Accuracy      |\n",
            "+--------------------+----------+-----------+--------+------+------+------+--------------------+\n",
            "|    Bag of Words    |  Train   |    0.91   |  0.98  | 0.44 | 0.56 | 0.02 | 0.8990512672652882 |\n",
            "|    Bag of Words    |   Test   |    0.89   |  0.98  | 0.43 | 0.57 | 0.02 | 0.8875677902107503 |\n",
            "|       Tfidf        |  Train   |    0.97   |  0.89  | 0.87 | 0.13 | 0.11 | 0.8871955405442513 |\n",
            "|       Tfidf        |   Test   |    0.96   |  0.87  | 0.81 | 0.19 | 0.13 | 0.860561543214114  |\n",
            "|      Avg. W2V      |  Train   |    0.85   |  0.98  | 0.07 | 0.93 | 0.02 | 0.8424636845429333 |\n",
            "|      Avg. W2V      |   Test   |    0.84   |  0.98  | 0.07 | 0.93 | 0.02 | 0.8249056085673097 |\n",
            "| Tfidf Weighted W2V |  Train   |    0.86   |  0.99  | 0.13 | 0.87 | 0.01 | 0.8592621577834528 |\n",
            "| Tfidf Weighted W2V |   Test   |    0.83   |  0.98  | 0.06 | 0.94 | 0.02 | 0.8177799135031235 |\n",
            "+--------------------+----------+-----------+--------+------+------+------+--------------------+\n"
          ],
          "name": "stdout"
        }
      ]
    },
    {
      "metadata": {
        "id": "J2vSPlBdeLGW",
        "colab_type": "text"
      },
      "cell_type": "markdown",
      "source": [
        "Plot confusion matrix."
      ]
    },
    {
      "metadata": {
        "id": "2csc4UJPeLGW",
        "colab_type": "code",
        "colab": {},
        "outputId": "e1af6ff3-5332-4f8d-81b2-3f64b07fcf34"
      },
      "cell_type": "code",
      "source": [
        "plot_confusion_matrix(cm_Tfidfw2v_train, cm_Tfidfw2v_test)"
      ],
      "execution_count": 0,
      "outputs": [
        {
          "output_type": "display_data",
          "data": {
            "image/png": "[encoded data removed]",
            "text/plain": [
              "<matplotlib.figure.Figure at 0x2afdfef8fd0>"
            ]
          },
          "metadata": {
            "tags": []
          }
        }
      ]
    },
    {
      "metadata": {
        "id": "Xs9_19BWeLGb",
        "colab_type": "text"
      },
      "cell_type": "markdown",
      "source": [
        "Accuracy on test data."
      ]
    },
    {
      "metadata": {
        "id": "X45sk_eaeLGb",
        "colab_type": "code",
        "colab": {},
        "outputId": "72f5f820-1876-4af1-c9cb-8da9e5801dbf"
      },
      "cell_type": "code",
      "source": [
        "clf.score(X_test_transformed_TfidfW2V, y_test)"
      ],
      "execution_count": 0,
      "outputs": [
        {
          "output_type": "execute_result",
          "data": {
            "text/plain": [
              "0.8177799135031235"
            ]
          },
          "metadata": {
            "tags": []
          },
          "execution_count": 49
        }
      ]
    },
    {
      "metadata": {
        "id": "OH6EfP0teLGh",
        "colab_type": "text"
      },
      "cell_type": "markdown",
      "source": [
        "### Conclusion:\n",
        "\n",
        "* In this notebook, I applied Naive Bayes on amazon food reviews for various vector representaions.\n",
        "\n",
        "* The consolidated summary of various ratios can be found in the table above.\n"
      ]
    }
  ]
}