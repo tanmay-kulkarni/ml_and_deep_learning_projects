{
  "nbformat": 4,
  "nbformat_minor": 0,
  "metadata": {
    "colab": {
      "name": "SVM_on_Amazon_Reviews_v1.ipynb",
      "version": "0.3.2",
      "provenance": [],
      "collapsed_sections": []
    },
    "kernelspec": {
      "display_name": "Python 3",
      "language": "python",
      "name": "python3"
    }
  },
  "cells": [
    {
      "metadata": {
        "colab_type": "text",
        "id": "wTkqOy_1eUDu"
      },
      "cell_type": "markdown",
      "source": [
        "# Objective:\n",
        "\n",
        "Classify Amazon food reviews using Support Vector Classifier.\n",
        "\n",
        "We'll do the following exercises in this notebook\n",
        "\n",
        "* Load and standardize the data in the format\n",
        "        1. BoW\n",
        "        2. Tfidf\n",
        "        3. Avg. W2V\n",
        "        4. Tfidf weighted W2V\n",
        "* Divide the data in cross validation sets and find the optimal parameters C and gamma using GridSearchCV and RandomizedSearchCV\n",
        "* Plot the Cross Validation score for each combination of gamma and C in Cross Validation\n",
        "* Plot confusion matrix and calculate Precision, Recall, FPR, TNR, FNR. \n",
        "\n"
      ]
    },
    {
      "metadata": {
        "colab": {},
        "colab_type": "code",
        "id": "e5vAbAHkeUDx"
      },
      "cell_type": "code",
      "source": [
        "# To suprress the warnings as they make the notebook less presentable.\n",
        "\n",
        "import sys\n",
        "import warnings\n",
        "\n",
        "if not sys.warnoptions:\n",
        "    warnings.simplefilter(\"ignore\")"
      ],
      "execution_count": 0,
      "outputs": []
    },
    {
      "metadata": {
        "colab_type": "text",
        "id": "W-zrxyC8eUD5"
      },
      "cell_type": "markdown",
      "source": [
        "Import the necessary libraries."
      ]
    },
    {
      "metadata": {
        "colab": {},
        "colab_type": "code",
        "id": "y-1nQVyJeUD7"
      },
      "cell_type": "code",
      "source": [
        "import pandas as pd\n",
        "import matplotlib.pyplot as plt\n",
        "import seaborn as sbn\n",
        "from sklearn.preprocessing import StandardScaler\n",
        "from sklearn.metrics import recall_score, precision_score, confusion_matrix, accuracy_score\n",
        "from sklearn.model_selection import TimeSeriesSplit, GridSearchCV, cross_val_score, RandomizedSearchCV\n",
        "from sklearn.linear_model import LogisticRegression\n",
        "import pickle\n",
        "import numpy as np\n",
        "from sklearn.svm import SVC"
      ],
      "execution_count": 0,
      "outputs": []
    },
    {
      "metadata": {
        "colab_type": "text",
        "id": "600N-DHdeUEB"
      },
      "cell_type": "markdown",
      "source": [
        "This Jupyter notebook extension notifies you when a cell finishes its execution!"
      ]
    },
    {
      "metadata": {
        "colab": {},
        "colab_type": "code",
        "id": "_D23oW7BeUED",
        "outputId": "690bc3ae-490e-404a-b861-c6415e5defe3"
      },
      "cell_type": "code",
      "source": [
        "%load_ext jupyternotify"
      ],
      "execution_count": 0,
      "outputs": [
        {
          "output_type": "display_data",
          "data": {
            "application/javascript": [
              "if (!(\"Notification\" in window)) {\n",
              "    alert(\"This browser does not support desktop notifications, so the %%notify magic will not work.\");\n",
              "} else if (Notification.permission !== 'granted' && Notification.permission !== 'denied') {\n",
              "    Notification.requestPermission(function (permission) {\n",
              "        if(!('permission' in Notification)) {\n",
              "            Notification.permission = permission;\n",
              "        }\n",
              "    })\n",
              "}\n"
            ],
            "text/plain": [
              "<IPython.core.display.Javascript object>"
            ]
          },
          "metadata": {
            "tags": []
          }
        }
      ]
    },
    {
      "metadata": {
        "colab_type": "text",
        "id": "xg5S32D1eUEP"
      },
      "cell_type": "markdown",
      "source": [
        "## Important parameters of Support Vector Machines\n",
        "\n",
        "* C : This trades off correct classification of training examples against maximization of the decision function’s margin\n",
        "* gamma : Defines how far the influence of a single training example reaches, with low values meaning ‘far’ and high values meaning ‘close’"
      ]
    },
    {
      "metadata": {
        "colab_type": "text",
        "id": "cGuuWZ0_eUER"
      },
      "cell_type": "markdown",
      "source": [
        "Load the target variable y of train and test sets. Note that the entire dataset is being used. All 350k reviews. The dataset is divided into train and test with ratio 80:20 respectively."
      ]
    },
    {
      "metadata": {
        "colab": {},
        "colab_type": "code",
        "id": "odulbiCceUET",
        "outputId": "2238be2f-af2c-46ea-a7ba-820b3174d22a"
      },
      "cell_type": "code",
      "source": [
        "#f = open(r'D:\\data_science\\datasets\\amazon2\\y_train_full80_20.pkl', 'rb')\n",
        "f = open('/home/ucanreachtvk/data/y_train_full80_20.pkl', 'rb')\n",
        "y_train = pickle.load(f)\n",
        "f.close()\n",
        "print('The datatype of y_train is : {}'.format(type(y_train)))\n",
        "print('The shape of y_train is : {}'.format(y_train.shape))"
      ],
      "execution_count": 0,
      "outputs": [
        {
          "output_type": "stream",
          "text": [
            "The datatype of y_train is : <class 'numpy.ndarray'>\n",
            "The shape of y_train is : (291336,)\n"
          ],
          "name": "stdout"
        }
      ]
    },
    {
      "metadata": {
        "colab": {},
        "colab_type": "code",
        "id": "GgBUl6vaeUEb",
        "outputId": "bcb0e3d4-2f59-401d-d3de-3c0391ea96ac"
      },
      "cell_type": "code",
      "source": [
        "#f = open(r'D:\\data_science\\datasets\\amazon2\\y_test_full80_20.pkl', 'rb')\n",
        "f = open('/home/ucanreachtvk/data/y_test_full80_20.pkl', 'rb')\n",
        "y_test = pickle.load(f)\n",
        "f.close()\n",
        "print('The datatype of y_test is : {}'.format(type(y_test)))\n",
        "print('The shape of y_test is : {}'.format(y_test.shape))"
      ],
      "execution_count": 0,
      "outputs": [
        {
          "output_type": "stream",
          "text": [
            "The datatype of y_test is : <class 'numpy.ndarray'>\n",
            "The shape of y_test is : (72835,)\n"
          ],
          "name": "stdout"
        }
      ]
    },
    {
      "metadata": {
        "id": "B1mAkS5hel_y",
        "colab_type": "text"
      },
      "cell_type": "markdown",
      "source": [
        "Since Grid Search on a number of hyperparameters for SVM is expensive, I'll use 50k reviews. These are contiguous in time. So the temporal structure of the data is preserved."
      ]
    },
    {
      "metadata": {
        "id": "ExI3rCEpel_3",
        "colab_type": "code",
        "colab": {}
      },
      "cell_type": "code",
      "source": [
        "y_test = y_test[:10000]\n",
        "y_train = y_train[-40000:]"
      ],
      "execution_count": 0,
      "outputs": []
    },
    {
      "metadata": {
        "colab_type": "text",
        "id": "IHJTqb23eUEr"
      },
      "cell_type": "markdown",
      "source": [
        "## Bag of Words\n",
        "\n",
        "I had saved the trained BoW model and the transformed data on disk. Let's load it. "
      ]
    },
    {
      "metadata": {
        "colab": {},
        "colab_type": "code",
        "id": "5htJH-VfeUEu",
        "outputId": "62c59159-6374-4c51-c734-ec3739696d9a"
      },
      "cell_type": "code",
      "source": [
        "#f = open(r'D:\\data_science\\datasets\\amazon2\\X_train_transformed_bow_full_nparray.pkl', 'rb')\n",
        "f = open('/home/ucanreachtvk/data/X_train_transformed_bow_full_nparray.pkl', 'rb')\n",
        "X_train_transformed_bow = pickle.load(f)\n",
        "f.close()\n",
        "print('The datatype of X_train_transformed_bow is : {}'.format(type(X_train_transformed_bow)))\n",
        "print('The shape of X_train_transformed_bow is : {}'.format(X_train_transformed_bow.shape))"
      ],
      "execution_count": 0,
      "outputs": [
        {
          "output_type": "stream",
          "text": [
            "The datatype of X_train_transformed_bow is : <class 'scipy.sparse.csr.csr_matrix'>\n",
            "The shape of X_train_transformed_bow is : (291336, 64221)\n"
          ],
          "name": "stdout"
        }
      ]
    },
    {
      "metadata": {
        "colab_type": "text",
        "id": "o2LidzlZeUE2"
      },
      "cell_type": "markdown",
      "source": [
        "There are 64221 features in the bow representation. Load test data too."
      ]
    },
    {
      "metadata": {
        "colab": {},
        "colab_type": "code",
        "id": "E_aeMfj1eUE3",
        "outputId": "7a02cc04-0f57-44f0-ba7b-47cd8f3066ba"
      },
      "cell_type": "code",
      "source": [
        "#f = open(r'D:\\data_science\\datasets\\amazon2\\X_test_transformed_bow_full_nparray.pkl', 'rb')\n",
        "f = open('/home/ucanreachtvk/data/X_test_transformed_bow_full_nparray.pkl', 'rb')\n",
        "X_test_transformed_bow = pickle.load(f)\n",
        "f.close()\n",
        "print('The datatype of X_test_transformed_bow is : {}'.format(type(X_test_transformed_bow)))\n",
        "print('The shape of X_test_transformed_bow is : {}'.format(X_test_transformed_bow.shape))"
      ],
      "execution_count": 0,
      "outputs": [
        {
          "output_type": "stream",
          "text": [
            "The datatype of X_test_transformed_bow is : <class 'scipy.sparse.csr.csr_matrix'>\n",
            "The shape of X_test_transformed_bow is : (72835, 64221)\n"
          ],
          "name": "stdout"
        }
      ]
    },
    {
      "metadata": {
        "id": "MAz9pyNiemAk",
        "colab_type": "code",
        "colab": {}
      },
      "cell_type": "code",
      "source": [
        "X_test_transformed_bow = X_test_transformed_bow[:10000]\n",
        "X_train_transformed_bow = X_train_transformed_bow[-40000:]"
      ],
      "execution_count": 0,
      "outputs": []
    },
    {
      "metadata": {
        "colab_type": "text",
        "id": "euk65SnvpWuN"
      },
      "cell_type": "markdown",
      "source": [
        "Count the number of non-zero elements in the array."
      ]
    },
    {
      "metadata": {
        "colab": {},
        "colab_type": "code",
        "id": "ELWJZLameUFV",
        "outputId": "5f5f4510-4ce9-4ce8-a113-c7ab6958063d"
      },
      "cell_type": "code",
      "source": [
        "X_train_transformed_bow.count_nonzero"
      ],
      "execution_count": 0,
      "outputs": [
        {
          "output_type": "execute_result",
          "data": {
            "text/plain": [
              "<bound method _data_matrix.count_nonzero of <40000x64221 sparse matrix of type '<class 'numpy.int64'>'\n",
              "\twith 1316382 stored elements in Compressed Sparse Row format>>"
            ]
          },
          "metadata": {
            "tags": []
          },
          "execution_count": 10
        }
      ]
    },
    {
      "metadata": {
        "colab_type": "text",
        "id": "0ynhsKtUeUFt"
      },
      "cell_type": "markdown",
      "source": [
        "## Feature scaling\n",
        "\n",
        "Standardize the data."
      ]
    },
    {
      "metadata": {
        "colab": {},
        "colab_type": "code",
        "id": "gKN1V12yeUFx",
        "scrolled": true
      },
      "cell_type": "code",
      "source": [
        "scaler = StandardScaler(with_mean = False)\n",
        "X_train_transformed_bow_std = scaler.fit_transform(X_train_transformed_bow)"
      ],
      "execution_count": 0,
      "outputs": []
    },
    {
      "metadata": {
        "colab": {},
        "colab_type": "code",
        "id": "fil84pdgeUF5",
        "scrolled": true
      },
      "cell_type": "code",
      "source": [
        "X_test_transformed_bow_std = scaler.transform(X_test_transformed_bow)"
      ],
      "execution_count": 0,
      "outputs": []
    },
    {
      "metadata": {
        "id": "MqjBX5ojemBk",
        "colab_type": "code",
        "colab": {},
        "outputId": "35c45a7b-f5f6-4203-ecd6-c2f7620e5767"
      },
      "cell_type": "code",
      "source": [
        "X_train_transformed_bow_std.shape"
      ],
      "execution_count": 0,
      "outputs": [
        {
          "output_type": "execute_result",
          "data": {
            "text/plain": [
              "(40000, 64221)"
            ]
          },
          "metadata": {
            "tags": []
          },
          "execution_count": 13
        }
      ]
    },
    {
      "metadata": {
        "id": "2UQnswquemBz",
        "colab_type": "code",
        "colab": {},
        "outputId": "43e4b55f-b064-428a-8fe2-d8197f88307e"
      },
      "cell_type": "code",
      "source": [
        "y_train.shape"
      ],
      "execution_count": 0,
      "outputs": [
        {
          "output_type": "execute_result",
          "data": {
            "text/plain": [
              "(40000,)"
            ]
          },
          "metadata": {
            "tags": []
          },
          "execution_count": 14
        }
      ]
    },
    {
      "metadata": {
        "colab_type": "text",
        "id": "WdtyjBv9eUGU"
      },
      "cell_type": "markdown",
      "source": [
        "## Some Functions\n",
        "\n",
        "Let's define some functions that we'll call repeatedly in this notebook. \n",
        "\n",
        "1. **c_gamma_score** : Returns a dataframe containing the C, gamma, score found during cross validation\n",
        "\n",
        "2. **give_me_ratios** : To plot ratios such as Precision, Recall, TNR, FPR, FNR.\n",
        "3. **plot_confusion_matrix** : As the name says.\n",
        "4. **GridSearch** : Create Time based cross validation splits using TimeSeriesSplit() and  create a gridsearch object for a support vector classifier.\n",
        "5. **RandomSearch**: Same as GridSearch except that it uses RandomizedSearchCV()\n",
        "6. **headmap** : For each pair of (C, gamma) value in GridSearch, it will plot the score for train and test data during cross validation. For RandomizedSearchCV, for the pair of values not tried by the classifier, it will show -1 (NA)."
      ]
    },
    {
      "metadata": {
        "id": "iMTzyB3ZemB-",
        "colab_type": "code",
        "colab": {}
      },
      "cell_type": "code",
      "source": [
        "def c_gamma_score(cv_results_):\n",
        "\n",
        "    D={'c':[], 'gamma':[], 'score':[]}\n",
        "\n",
        "    for c in [0.01, 0.1, 10, 100]:\n",
        "\n",
        "        for gamma in ['auto',0.01, 0.1, 1, 10]:\n",
        "\n",
        "            d={'C': c, 'gamma': gamma}\n",
        "            \n",
        "            flag=True\n",
        "            \n",
        "            try:\n",
        "            \n",
        "                ind=cv_results_['params'].index(d)\n",
        "            \n",
        "            except:\n",
        "                \n",
        "                flag = False\n",
        "\n",
        "            D['c'].append(c)\n",
        "            D['gamma'].append(gamma)\n",
        "            \n",
        "            if flag == False:\n",
        "                \n",
        "                D['score'].append(-1)\n",
        "            \n",
        "            else:\n",
        "                D['score'].append(cv_results_['mean_train_score'][ind])\n",
        "                \n",
        "    return(pd.DataFrame.from_dict(D)) "
      ],
      "execution_count": 0,
      "outputs": []
    },
    {
      "metadata": {
        "colab": {},
        "colab_type": "code",
        "id": "tff3Jzr5eUHU"
      },
      "cell_type": "code",
      "source": [
        "def give_me_ratios(X_train, y_train, X_test, y_test, vector_type,search, table, clf, best_c, best_gamma): \n",
        "    \n",
        "    cm_train = confusion_matrix(y_train, clf.predict(X_train))\n",
        "    tn, fp, fn, tp = cm_train.ravel()\n",
        "\n",
        "    recall_train = round(tp/(tp+fn),2)\n",
        "    precision_train = round(tp/(tp+fp),2)\n",
        "    tnr_train = round(tn/(tn+fp),2)\n",
        "    fpr_train = round(fp/(fp+tn),2)\n",
        "    fnr_train = round(fn/(fn+tp),2)\n",
        "    accuracy_train = round((tp+tn)/(tp+tn+fp+fn))\n",
        "    accuracy_train = (tp+tn)/(tp+tn+fp+fn)\n",
        "\n",
        "    cm_test = confusion_matrix(y_test, clf.predict(X_test))\n",
        "    tn, fp, fn, tp = cm_test.ravel()\n",
        "    recall_test = round(tp/(tp+fn),2)\n",
        "    precision_test = round(tp/(tp+fp),2)\n",
        "    tnr_test = round(tn/(tn+fp),2)\n",
        "    fpr_test = round(fp/(fp+tn),2)\n",
        "    fnr_test = round(fn/(fn+tp),2)\n",
        "    accuracy_test = round(tp+tn)/(tp+tn+fp+fn)\n",
        "\n",
        "    table.field_names = ['Vector Type','Parameter Search','Data Set','Best C','Best Gamma', 'Precision', 'Recall', 'TNR', 'FPR', 'FNR', 'Accuracy']\n",
        "    table.add_row([vector_type,search,'Train',best_c,best_gamma, precision_train, recall_train, tnr_train, fpr_train, fnr_train, accuracy_train])\n",
        "    table.add_row([vector_type,search,'Test',best_c,best_gamma, precision_test, recall_test, tnr_test, fpr_test, fnr_test, accuracy_test])\n",
        "\n",
        "    print(table)\n",
        "    \n",
        "    return (cm_train, cm_test)"
      ],
      "execution_count": 0,
      "outputs": []
    },
    {
      "metadata": {
        "colab": {},
        "colab_type": "code",
        "id": "aaCW-HlKeUH1"
      },
      "cell_type": "code",
      "source": [
        "def plot_confusion_matrix(cm_train, cm_test, title):\n",
        "    \n",
        "    import pandas as pd\n",
        "    plt.figure(figsize=(15,6)).suptitle(title, fontsize=15)\n",
        "    \n",
        "    plt.subplot(1,2,1)\n",
        "    df_cm = pd.DataFrame(cm_train, range(2), range(2))\n",
        "    sbn.heatmap(df_cm, annot=True, annot_kws={\"size\":16}, cbar=False, fmt = 'd', xticklabels=['Negative', 'Positive'], yticklabels=['Negative', 'Positive'])\n",
        "    plt.xticks(fontsize=13)\n",
        "    plt.yticks(fontsize=13)\n",
        "    plt.xlabel('Predicted Class', fontsize=15)\n",
        "    plt.ylabel('Actual Class', fontsize=15)\n",
        "    plt.title('Train Data', fontsize = 14)\n",
        "\n",
        "    plt.subplot(1,2,2)    \n",
        "    df_cm = pd.DataFrame(cm_test, range(2), range(2))\n",
        "    sbn.heatmap(df_cm, annot=True, annot_kws={\"size\":16}, cbar=False, fmt = 'd', xticklabels=['Negative', 'Positive'], yticklabels=['Negative', 'Positive'])\n",
        "    plt.xticks(fontsize=13)\n",
        "    plt.yticks(fontsize=13)\n",
        "    plt.xlabel('Predicted Class', fontsize=15)\n",
        "    # plt.ylabel('Actual Class', fontsize=15)\n",
        "\n",
        "    plt.title('Test Data', fontsize = 14)\n",
        "\n",
        "    plt.tight_layout()"
      ],
      "execution_count": 0,
      "outputs": []
    },
    {
      "metadata": {
        "colab": {},
        "colab_type": "code",
        "id": "5tplTcS8eUGc"
      },
      "cell_type": "code",
      "source": [
        "def GridSearch(X_train):\n",
        "\n",
        "    tscv = TimeSeriesSplit(n_splits=4)\n",
        "    my_cv = tscv.split(X_train)\n",
        "\n",
        "    svc = SVC(kernel='rbf')\n",
        "    \n",
        "    hyp_par = {\n",
        "                'C':[ 0.01, 0.1, 10, 100],\n",
        "                'gamma':['auto',0.01, 0.1, 1, 10]\n",
        "        \n",
        "        }\n",
        "\n",
        "    clf = GridSearchCV(estimator=svc, cv=my_cv, param_grid=hyp_par, n_jobs=16, return_train_score=True)\n",
        "        \n",
        "    return clf"
      ],
      "execution_count": 0,
      "outputs": []
    },
    {
      "metadata": {
        "id": "9rmAxvxhemCe",
        "colab_type": "code",
        "colab": {}
      },
      "cell_type": "code",
      "source": [
        "def RandomSearch(X_train):\n",
        "\n",
        "    tscv = TimeSeriesSplit(n_splits=4)\n",
        "    my_cv = tscv.split(X_train)\n",
        "\n",
        "    svc = SVC(kernel='rbf')\n",
        "    \n",
        "    hyp_par = {\n",
        "                'C':[ 0.01, 0.1, 10, 100],\n",
        "                'gamma':['auto',0.01, 0.1, 1, 10]\n",
        "        \n",
        "        }\n",
        "    \n",
        "    clf = RandomizedSearchCV(estimator=svc, cv=my_cv, param_distributions=hyp_par, n_jobs=16, return_train_score=True)\n",
        "    \n",
        "    return clf"
      ],
      "execution_count": 0,
      "outputs": []
    },
    {
      "metadata": {
        "id": "e8HoDTc3emCo",
        "colab_type": "code",
        "colab": {}
      },
      "cell_type": "code",
      "source": [
        "def heatmap(df, vector_type, search_type):\n",
        "\n",
        "    plt.figure(figsize=(15,6))\n",
        "\n",
        "    plt.subplot(1,1,1)\n",
        "    sbn.heatmap(data=df.pivot('c','gamma','score'), annot=True, linewidth = 0.5)\n",
        "    plt.title('{} | Training/CV set | {}'.format(vector_type, search_type), fontsize = 15)\n",
        "    plt.xlabel('gamma', fontsize = 14)\n",
        "    plt.ylabel('C', fontsize = 14)\n",
        "    plt.xticks(fontsize=13)\n",
        "    plt.yticks(fontsize=13)\n",
        "\n",
        "    plt.tight_layout()\n",
        "    plt.show()"
      ],
      "execution_count": 0,
      "outputs": []
    },
    {
      "metadata": {
        "colab_type": "text",
        "id": "uH-jsWpweUGb"
      },
      "cell_type": "markdown",
      "source": [
        "**BoW | GridSearchCV**"
      ]
    },
    {
      "metadata": {
        "colab_type": "text",
        "id": "6VrY3Znv8rLq"
      },
      "cell_type": "markdown",
      "source": [
        "Get the classifier by calling the GridSearch funtion."
      ]
    },
    {
      "metadata": {
        "colab": {},
        "colab_type": "code",
        "id": "NhqyB9-peUGk"
      },
      "cell_type": "code",
      "source": [
        "clf_grid = GridSearch(X_train_transformed_bow_std)"
      ],
      "execution_count": 0,
      "outputs": []
    },
    {
      "metadata": {
        "colab_type": "text",
        "id": "yFdjK-QL8pRu"
      },
      "cell_type": "markdown",
      "source": [
        "Train the model"
      ]
    },
    {
      "metadata": {
        "colab": {},
        "colab_type": "code",
        "id": "qLi_keXeeUGr",
        "scrolled": false
      },
      "cell_type": "code",
      "source": [
        "%%notify\n",
        "%%time\n",
        "\n",
        "clf_grid.fit(X_train_transformed_bow_std, y_train)"
      ],
      "execution_count": 0,
      "outputs": []
    },
    {
      "metadata": {
        "colab_type": "text",
        "id": "GjLcL0JSeUHD"
      },
      "cell_type": "markdown",
      "source": [
        "Plot heatmap of score for each pair of (C,gamma) found during GridSearch."
      ]
    },
    {
      "metadata": {
        "colab": {},
        "colab_type": "code",
        "id": "fOQHfTcdeUHE",
        "outputId": "f7a56881-bcad-4cea-86f5-e2cb76b242e7",
        "scrolled": false
      },
      "cell_type": "code",
      "source": [
        "heatmap(c_gamma_score(clf_grid.cv_results_), vector_type='BoW', search_type='Grid')"
      ],
      "execution_count": 0,
      "outputs": [
        {
          "output_type": "display_data",
          "data": {
            "image/png": "[encoded data removed]",
            "text/plain": [
              "<Figure size 1080x432 with 2 Axes>"
            ]
          },
          "metadata": {
            "tags": []
          }
        }
      ]
    },
    {
      "metadata": {
        "colab_type": "text",
        "id": "yP_kkG5FeUHL"
      },
      "cell_type": "markdown",
      "source": [
        "Import prettytable to summarize the results in a table"
      ]
    },
    {
      "metadata": {
        "colab": {},
        "colab_type": "code",
        "id": "aJpxuLjceUHN"
      },
      "cell_type": "code",
      "source": [
        "# !pip install PrettyTable\n",
        "# from prettytable import PrettyTable\n",
        "from prettytable import PrettyTable\n",
        "table = PrettyTable()"
      ],
      "execution_count": 0,
      "outputs": []
    },
    {
      "metadata": {
        "colab_type": "text",
        "id": "lw5y6P6heUH-"
      },
      "cell_type": "markdown",
      "source": [
        "Calculate the ratios."
      ]
    },
    {
      "metadata": {
        "colab": {},
        "colab_type": "code",
        "id": "DTSqm-9PeUIA",
        "outputId": "d6e6f182-1804-4741-ba8f-d30174fbb8ce"
      },
      "cell_type": "code",
      "source": [
        "cm_bow_train, cm_bow_test = give_me_ratios(X_train_transformed_bow_std, y_train, X_test_transformed_bow_std, y_test, 'Bag of Words','Grid Search', table, clf_grid, clf_grid.best_params_['C'],clf_grid.best_params_['gamma'])"
      ],
      "execution_count": 0,
      "outputs": [
        {
          "output_type": "stream",
          "text": [
            "+--------------+------------------+----------+--------+------------+-----------+--------+------+------+------+----------+\n",
            "| Vector Type  | Parameter Search | Data Set | Best C | Best Gamma | Precision | Recall | TNR  | FPR  | FNR  | Accuracy |\n",
            "+--------------+------------------+----------+--------+------------+-----------+--------+------+------+------+----------+\n",
            "| Bag of Words |   Grid Search    |  Train   |  100   |    auto    |    0.99   |  1.0   | 0.95 | 0.05 | 0.0  |  0.9881  |\n",
            "| Bag of Words |   Grid Search    |   Test   |  100   |    auto    |    0.92   |  0.94  | 0.6  | 0.4  | 0.06 |  0.8842  |\n",
            "+--------------+------------------+----------+--------+------------+-----------+--------+------+------+------+----------+\n"
          ],
          "name": "stdout"
        }
      ]
    },
    {
      "metadata": {
        "colab_type": "text",
        "id": "BzLvSfHAeUIL"
      },
      "cell_type": "markdown",
      "source": [
        "Plot the confusion matrix."
      ]
    },
    {
      "metadata": {
        "colab": {},
        "colab_type": "code",
        "id": "8V7ZTPuxeUIN",
        "outputId": "a2b22f42-cfe8-414b-defb-7f81c9ece6ff"
      },
      "cell_type": "code",
      "source": [
        "plot_confusion_matrix(cm_bow_train, cm_bow_test, title=\"BOW | Grid Search\")"
      ],
      "execution_count": 0,
      "outputs": [
        {
          "output_type": "display_data",
          "data": {
            "image/png": "[encoded data removed]",
            "text/plain": [
              "<Figure size 1080x432 with 2 Axes>"
            ]
          },
          "metadata": {
            "tags": []
          }
        }
      ]
    },
    {
      "metadata": {
        "colab_type": "text",
        "id": "UmqTWX8weUIX"
      },
      "cell_type": "markdown",
      "source": [
        "**Random Search | BOW**"
      ]
    },
    {
      "metadata": {
        "colab_type": "text",
        "id": "Rt7qjrp19CUK"
      },
      "cell_type": "markdown",
      "source": [
        "Same as before, but this time using RandomizedSearchCV()"
      ]
    },
    {
      "metadata": {
        "colab": {},
        "colab_type": "code",
        "id": "tcbcBx4ZeUIZ"
      },
      "cell_type": "code",
      "source": [
        "clf_random = RandomSearch(X_train_transformed_bow_std)"
      ],
      "execution_count": 0,
      "outputs": []
    },
    {
      "metadata": {
        "colab": {},
        "colab_type": "code",
        "id": "l-72YumkeUIf",
        "scrolled": true
      },
      "cell_type": "code",
      "source": [
        "%%notify\n",
        "%%time\n",
        "\n",
        "clf_random.fit(X_train_transformed_bow_std, y_train)"
      ],
      "execution_count": 0,
      "outputs": []
    },
    {
      "metadata": {
        "colab_type": "text",
        "id": "lcFMl8UY9XjB"
      },
      "cell_type": "markdown",
      "source": [
        "Display heatmap of accuracy score. Remember that -1 indicates values which were not tried."
      ]
    },
    {
      "metadata": {
        "colab": {},
        "colab_type": "code",
        "id": "iAKJTelyeUI6",
        "outputId": "9f07c8e2-301b-4176-f1b6-fd3f888b5611",
        "scrolled": false
      },
      "cell_type": "code",
      "source": [
        "heatmap(c_gamma_score(clf_random.cv_results_), vector_type='BoW', search_type='Random')"
      ],
      "execution_count": 0,
      "outputs": [
        {
          "output_type": "display_data",
          "data": {
            "image/png": "[encoded data removed]",
            "text/plain": [
              "<Figure size 1080x432 with 2 Axes>"
            ]
          },
          "metadata": {
            "tags": []
          }
        }
      ]
    },
    {
      "metadata": {
        "colab_type": "text",
        "id": "JRowt6Mx9dEQ"
      },
      "cell_type": "markdown",
      "source": [
        "Get ratios."
      ]
    },
    {
      "metadata": {
        "colab": {},
        "colab_type": "code",
        "id": "HCqdWnBOeUJK",
        "outputId": "01c8ef69-fc0b-4b64-fc17-ddf699edc91e"
      },
      "cell_type": "code",
      "source": [
        "cm_bow_train, cm_bow_test = give_me_ratios(X_train_transformed_bow_std, y_train, X_test_transformed_bow_std, y_test, 'Bag of Words','Random Search', table, clf_random, clf_random.best_params_['C'],clf_random.best_params_['gamma'])"
      ],
      "execution_count": 0,
      "outputs": [
        {
          "output_type": "stream",
          "text": [
            "+--------------+------------------+----------+--------+------------+-----------+--------+------+------+------+----------+\n",
            "| Vector Type  | Parameter Search | Data Set | Best C | Best Gamma | Precision | Recall | TNR  | FPR  | FNR  | Accuracy |\n",
            "+--------------+------------------+----------+--------+------------+-----------+--------+------+------+------+----------+\n",
            "| Bag of Words |   Grid Search    |  Train   |  100   |    auto    |    0.99   |  1.0   | 0.95 | 0.05 | 0.0  |  0.9881  |\n",
            "| Bag of Words |   Grid Search    |   Test   |  100   |    auto    |    0.92   |  0.94  | 0.6  | 0.4  | 0.06 |  0.8842  |\n",
            "| Bag of Words |  Random Search   |  Train   |  100   |    auto    |    0.99   |  1.0   | 0.95 | 0.05 | 0.0  |  0.9881  |\n",
            "| Bag of Words |  Random Search   |   Test   |  100   |    auto    |    0.92   |  0.94  | 0.6  | 0.4  | 0.06 |  0.8842  |\n",
            "+--------------+------------------+----------+--------+------------+-----------+--------+------+------+------+----------+\n"
          ],
          "name": "stdout"
        }
      ]
    },
    {
      "metadata": {
        "colab_type": "text",
        "id": "XDd8zG9-99Bt"
      },
      "cell_type": "markdown",
      "source": [
        "Plot confusion matrix"
      ]
    },
    {
      "metadata": {
        "colab": {},
        "colab_type": "code",
        "id": "0gmFX5TneUJZ",
        "outputId": "141821bb-2a2b-4a92-81ba-d81f014d9a0a"
      },
      "cell_type": "code",
      "source": [
        "plot_confusion_matrix(cm_bow_train, cm_bow_test, \"BOW | Random Search\")"
      ],
      "execution_count": 0,
      "outputs": [
        {
          "output_type": "display_data",
          "data": {
            "image/png": "[encoded data removed]",
            "text/plain": [
              "<Figure size 1080x432 with 2 Axes>"
            ]
          },
          "metadata": {
            "tags": []
          }
        }
      ]
    },
    {
      "metadata": {
        "colab_type": "text",
        "id": "Ljz_0XlBeUJf"
      },
      "cell_type": "markdown",
      "source": [
        "## Tfidf\n",
        "\n",
        "In this section, we'll apply SVC on reviews represented in the Tfidf format. Load the transformed train and test sets."
      ]
    },
    {
      "metadata": {
        "colab": {},
        "colab_type": "code",
        "id": "R0_7y9FXeUJj",
        "outputId": "3779869c-11c6-440a-ea8e-f726b804be33"
      },
      "cell_type": "code",
      "source": [
        "# f = open(r'D:\\data_science\\datasets\\amazon2\\X_train_transformed_tfidf_full_nparray.pkl', 'rb')\n",
        "f = open('/home/ucanreachtvk/data/X_train_transformed_tfidf_full_nparray.pkl', 'rb')\n",
        "X_train_transformed_tfidf = pickle.load(f)\n",
        "f.close()\n",
        "print('The datatype of X_train_transformed_tfidf is : {}'.format(type(X_train_transformed_tfidf)))\n",
        "print('The shape of X_train_transformed_tfidf is : {}'.format(X_train_transformed_tfidf.shape))"
      ],
      "execution_count": 0,
      "outputs": [
        {
          "output_type": "stream",
          "text": [
            "The datatype of X_train_transformed_tfidf is : <class 'scipy.sparse.csr.csr_matrix'>\n",
            "The shape of X_train_transformed_tfidf is : (291336, 64221)\n"
          ],
          "name": "stdout"
        }
      ]
    },
    {
      "metadata": {
        "colab": {},
        "colab_type": "code",
        "id": "YcNq2J-2eUJw",
        "outputId": "35b9660c-5138-44ec-e6dc-6fd644a87635"
      },
      "cell_type": "code",
      "source": [
        "# f = open(r'D:\\data_science\\datasets\\amazon2\\X_test_transformed_tfidf_full_nparray.pkl', 'rb')\n",
        "f = open('/home/ucanreachtvk/data/X_test_transformed_tfidf_full_nparray.pkl', 'rb')\n",
        "X_test_transformed_tfidf = pickle.load(f)\n",
        "f.close()\n",
        "print('The datatype of X_test_transformed_tfidf is : {}'.format(type(X_test_transformed_tfidf)))\n",
        "print('The shape of X_test_transformed_tfidf is : {}'.format(X_test_transformed_tfidf.shape))"
      ],
      "execution_count": 0,
      "outputs": [
        {
          "output_type": "stream",
          "text": [
            "The datatype of X_test_transformed_tfidf is : <class 'scipy.sparse.csr.csr_matrix'>\n",
            "The shape of X_test_transformed_tfidf is : (72835, 64221)\n"
          ],
          "name": "stdout"
        }
      ]
    },
    {
      "metadata": {
        "id": "GTy7vEhjemFT",
        "colab_type": "text"
      },
      "cell_type": "markdown",
      "source": [
        "Like we did for Bow, select a subset of the data to work with."
      ]
    },
    {
      "metadata": {
        "id": "yug7Zhc2emFV",
        "colab_type": "code",
        "colab": {}
      },
      "cell_type": "code",
      "source": [
        "# y_train = y_train[:500]\n",
        "# y_test = y_test[:500]\n",
        "X_train_transformed_tfidf = X_train_transformed_tfidf[-40000:]\n",
        "X_test_transformed_tfidf = X_test_transformed_tfidf[:10000]"
      ],
      "execution_count": 0,
      "outputs": []
    },
    {
      "metadata": {
        "colab_type": "text",
        "id": "t-gIXgQ0eUJ9"
      },
      "cell_type": "markdown",
      "source": [
        "Standardize data"
      ]
    },
    {
      "metadata": {
        "colab": {},
        "colab_type": "code",
        "id": "feh76VtmeUJ-"
      },
      "cell_type": "code",
      "source": [
        "scaler = StandardScaler(with_mean = False)\n",
        "X_train_transformed_tfidf_std = scaler.fit_transform(X_train_transformed_tfidf)"
      ],
      "execution_count": 0,
      "outputs": []
    },
    {
      "metadata": {
        "colab": {},
        "colab_type": "code",
        "id": "leUbMILJeUKF"
      },
      "cell_type": "code",
      "source": [
        "X_test_transformed_tfidf_std = scaler.transform(X_test_transformed_tfidf)"
      ],
      "execution_count": 0,
      "outputs": []
    },
    {
      "metadata": {
        "colab_type": "text",
        "id": "-EM0DU8-eUKM"
      },
      "cell_type": "markdown",
      "source": [
        "**GridSearch | TFIDF **"
      ]
    },
    {
      "metadata": {
        "colab": {},
        "colab_type": "code",
        "id": "-dynXWIkeUKN"
      },
      "cell_type": "code",
      "source": [
        "clf_grid = GridSearch(X_train_transformed_tfidf_std)"
      ],
      "execution_count": 0,
      "outputs": []
    },
    {
      "metadata": {
        "colab_type": "text",
        "id": "HzraiTbM-YAG"
      },
      "cell_type": "markdown",
      "source": [
        "Train the model"
      ]
    },
    {
      "metadata": {
        "colab": {},
        "colab_type": "code",
        "id": "-RCAQJRweUKW",
        "scrolled": false
      },
      "cell_type": "code",
      "source": [
        "%%notify\n",
        "%%time\n",
        "\n",
        "clf_grid.fit(X_train_transformed_tfidf_std, y_train)"
      ],
      "execution_count": 0,
      "outputs": []
    },
    {
      "metadata": {
        "colab_type": "text",
        "id": "ELV6usqo-dYj"
      },
      "cell_type": "markdown",
      "source": [
        "Display accuracy heatmap"
      ]
    },
    {
      "metadata": {
        "colab": {},
        "colab_type": "code",
        "id": "EMicQmjbeUKg",
        "outputId": "ddc1b198-49eb-4c46-e0f4-7f40b651ee5d"
      },
      "cell_type": "code",
      "source": [
        "heatmap(c_gamma_score(clf_grid.cv_results_), vector_type='Tfidf', search_type='Grid Search')"
      ],
      "execution_count": 0,
      "outputs": [
        {
          "output_type": "display_data",
          "data": {
            "image/png": "[encoded data removed]",
            "text/plain": [
              "<Figure size 1080x432 with 2 Axes>"
            ]
          },
          "metadata": {
            "tags": []
          }
        }
      ]
    },
    {
      "metadata": {
        "colab_type": "text",
        "id": "F-KFilDy_qhs"
      },
      "cell_type": "markdown",
      "source": [
        "Create ratios"
      ]
    },
    {
      "metadata": {
        "colab": {},
        "colab_type": "code",
        "id": "r1y5JYpAeUKp",
        "outputId": "2c47f5ef-5473-4164-85a1-e3e61bdad9eb"
      },
      "cell_type": "code",
      "source": [
        "%%notify\n",
        "\n",
        "cm_tfidf_train, cm_tfidf_test = give_me_ratios(X_train_transformed_tfidf_std, y_train, X_test_transformed_tfidf_std, y_test, 'TFIDF','Grid Search', table, clf_grid, clf_grid.best_params_['C'],clf_grid.best_params_['gamma'])"
      ],
      "execution_count": 0,
      "outputs": [
        {
          "output_type": "stream",
          "text": [
            "+--------------+------------------+----------+--------+------------+-----------+--------+------+------+------+----------+\n",
            "| Vector Type  | Parameter Search | Data Set | Best C | Best Gamma | Precision | Recall | TNR  | FPR  | FNR  | Accuracy |\n",
            "+--------------+------------------+----------+--------+------------+-----------+--------+------+------+------+----------+\n",
            "| Bag of Words |   Grid Search    |  Train   |  100   |    auto    |    0.99   |  1.0   | 0.95 | 0.05 | 0.0  |  0.9881  |\n",
            "| Bag of Words |   Grid Search    |   Test   |  100   |    auto    |    0.92   |  0.94  | 0.6  | 0.4  | 0.06 |  0.8842  |\n",
            "| Bag of Words |  Random Search   |  Train   |  100   |    auto    |    0.99   |  1.0   | 0.95 | 0.05 | 0.0  |  0.9881  |\n",
            "| Bag of Words |  Random Search   |   Test   |  100   |    auto    |    0.92   |  0.94  | 0.6  | 0.4  | 0.06 |  0.8842  |\n",
            "|    TFIDF     |   Grid Search    |  Train   |   10   |    auto    |    0.98   |  1.0   | 0.89 | 0.11 | 0.0  | 0.977175 |\n",
            "|    TFIDF     |   Grid Search    |   Test   |   10   |    auto    |    0.91   |  0.96  | 0.53 | 0.47 | 0.04 |  0.8854  |\n",
            "+--------------+------------------+----------+--------+------------+-----------+--------+------+------+------+----------+\n"
          ],
          "name": "stdout"
        },
        {
          "output_type": "display_data",
          "data": {
            "application/javascript": [
              "$(document).ready(\n",
              "    function() {\n",
              "        function appendUniqueDiv(){\n",
              "            // append a div with our uuid so we can check that it's already\n",
              "            // been sent and avoid duplicates on page reload\n",
              "            var notifiedDiv = document.createElement(\"div\")\n",
              "            notifiedDiv.id = \"e1d1b62d-9cd6-4292-a362-dab61f1f8d44\"\n",
              "            element.append(notifiedDiv)\n",
              "        }\n",
              "\n",
              "        // only send notifications if the pageload is complete; this will\n",
              "        // help stop extra notifications when a saved notebook is loaded,\n",
              "        // which during testing gives us state \"interactive\", not \"complete\"\n",
              "        if (document.readyState === 'complete') {\n",
              "            // check for the div that signifies that the notification\n",
              "            // was already sent\n",
              "            if (document.getElementById(\"e1d1b62d-9cd6-4292-a362-dab61f1f8d44\") === null) {\n",
              "                var notificationPayload = {\"requireInteraction\": false, \"icon\": \"/static/base/images/favicon.ico\", \"body\": \"Cell execution has finished!\"};\n",
              "                if (Notification.permission !== 'denied') {\n",
              "                    if (Notification.permission !== 'granted') { \n",
              "                        Notification.requestPermission(function (permission) {\n",
              "                            if(!('permission' in Notification)) {\n",
              "                                Notification.permission = permission\n",
              "                            }\n",
              "                        })\n",
              "                    }\n",
              "                    if (Notification.permission === 'granted') {\n",
              "                    var notification = new Notification(\"Jupyter Notebook\", notificationPayload)\n",
              "                    appendUniqueDiv()\n",
              "                    notification.onclick = function () {\n",
              "                        window.focus();\n",
              "                        this.close();\n",
              "                        };\n",
              "                    } \n",
              "                }     \n",
              "            }\n",
              "        }\n",
              "    }\n",
              ")\n"
            ],
            "text/plain": [
              "<IPython.core.display.Javascript object>"
            ]
          },
          "metadata": {
            "tags": []
          }
        }
      ]
    },
    {
      "metadata": {
        "colab_type": "text",
        "id": "4CmfZ3NZeUKx"
      },
      "cell_type": "markdown",
      "source": [
        "Plot the confusion matrix."
      ]
    },
    {
      "metadata": {
        "colab": {},
        "colab_type": "code",
        "id": "W41SW_LWeUKy",
        "outputId": "e5533f05-3460-4940-ce26-e328147eed15"
      },
      "cell_type": "code",
      "source": [
        "plot_confusion_matrix(cm_tfidf_train, cm_tfidf_test, \"Tfidf | Grid Search\")"
      ],
      "execution_count": 0,
      "outputs": [
        {
          "output_type": "display_data",
          "data": {
            "image/png": "[encoded data removed]",
            "text/plain": [
              "<Figure size 1080x432 with 2 Axes>"
            ]
          },
          "metadata": {
            "tags": []
          }
        }
      ]
    },
    {
      "metadata": {
        "colab_type": "text",
        "id": "2izNzBOkeUK4"
      },
      "cell_type": "markdown",
      "source": [
        "**Random Search | TFIDF **"
      ]
    },
    {
      "metadata": {
        "colab": {},
        "colab_type": "code",
        "id": "cwACzKo_eUK5"
      },
      "cell_type": "code",
      "source": [
        "clf_random = RandomSearch(X_train_transformed_tfidf_std)"
      ],
      "execution_count": 0,
      "outputs": []
    },
    {
      "metadata": {
        "colab": {},
        "colab_type": "code",
        "id": "JACLrF9PeUK7",
        "outputId": "f23acfcc-b517-4f06-805c-a444c7012c87"
      },
      "cell_type": "code",
      "source": [
        "%%notify\n",
        "%%time\n",
        "\n",
        "clf_random.fit(X_train_transformed_tfidf_std, y_train)"
      ],
      "execution_count": 0,
      "outputs": [
        {
          "output_type": "stream",
          "text": [
            "CPU times: user 20min 25s, sys: 360 ms, total: 20min 25s\n",
            "Wall time: 1h 30min 6s\n"
          ],
          "name": "stdout"
        },
        {
          "output_type": "execute_result",
          "data": {
            "text/plain": [
              "RandomizedSearchCV(cv=<generator object TimeSeriesSplit.split at 0x7f644cfbfdb0>,\n",
              "          error_score='raise-deprecating',\n",
              "          estimator=SVC(C=1.0, cache_size=200, class_weight=None, coef0=0.0,\n",
              "  decision_function_shape='ovr', degree=3, gamma='auto_deprecated',\n",
              "  kernel='rbf', max_iter=-1, probability=False, random_state=None,\n",
              "  shrinking=True, tol=0.001, verbose=False),\n",
              "          fit_params=None, iid='warn', n_iter=10, n_jobs=16,\n",
              "          param_distributions={'C': [0.01, 0.1, 10, 100], 'gamma': ['auto', 0.01, 0.1, 1, 10]},\n",
              "          pre_dispatch='2*n_jobs', random_state=None, refit=True,\n",
              "          return_train_score=True, scoring=None, verbose=0)"
            ]
          },
          "metadata": {
            "tags": []
          },
          "execution_count": 47
        },
        {
          "output_type": "display_data",
          "data": {
            "application/javascript": [
              "$(document).ready(\n",
              "    function() {\n",
              "        function appendUniqueDiv(){\n",
              "            // append a div with our uuid so we can check that it's already\n",
              "            // been sent and avoid duplicates on page reload\n",
              "            var notifiedDiv = document.createElement(\"div\")\n",
              "            notifiedDiv.id = \"5b4967a6-b0e7-41c7-905d-15944f5c62a5\"\n",
              "            element.append(notifiedDiv)\n",
              "        }\n",
              "\n",
              "        // only send notifications if the pageload is complete; this will\n",
              "        // help stop extra notifications when a saved notebook is loaded,\n",
              "        // which during testing gives us state \"interactive\", not \"complete\"\n",
              "        if (document.readyState === 'complete') {\n",
              "            // check for the div that signifies that the notification\n",
              "            // was already sent\n",
              "            if (document.getElementById(\"5b4967a6-b0e7-41c7-905d-15944f5c62a5\") === null) {\n",
              "                var notificationPayload = {\"requireInteraction\": false, \"icon\": \"/static/base/images/favicon.ico\", \"body\": \"Cell execution has finished!\"};\n",
              "                if (Notification.permission !== 'denied') {\n",
              "                    if (Notification.permission !== 'granted') { \n",
              "                        Notification.requestPermission(function (permission) {\n",
              "                            if(!('permission' in Notification)) {\n",
              "                                Notification.permission = permission\n",
              "                            }\n",
              "                        })\n",
              "                    }\n",
              "                    if (Notification.permission === 'granted') {\n",
              "                    var notification = new Notification(\"Jupyter Notebook\", notificationPayload)\n",
              "                    appendUniqueDiv()\n",
              "                    notification.onclick = function () {\n",
              "                        window.focus();\n",
              "                        this.close();\n",
              "                        };\n",
              "                    } \n",
              "                }     \n",
              "            }\n",
              "        }\n",
              "    }\n",
              ")\n"
            ],
            "text/plain": [
              "<IPython.core.display.Javascript object>"
            ]
          },
          "metadata": {
            "tags": []
          }
        }
      ]
    },
    {
      "metadata": {
        "id": "eFenK1mFemGO",
        "colab_type": "text"
      },
      "cell_type": "markdown",
      "source": [
        "Display heatmap"
      ]
    },
    {
      "metadata": {
        "colab": {},
        "colab_type": "code",
        "id": "7ZfwPWG8eULC",
        "outputId": "c9a094bb-6e89-4d9e-cd43-03ccaab1a12a",
        "scrolled": false
      },
      "cell_type": "code",
      "source": [
        "heatmap(c_gamma_score(clf_random.cv_results_), vector_type='Tfidf', search_type='Random Search')"
      ],
      "execution_count": 0,
      "outputs": [
        {
          "output_type": "display_data",
          "data": {
            "image/png": "[encoded data removed]",
            "text/plain": [
              "<Figure size 1080x432 with 2 Axes>"
            ]
          },
          "metadata": {
            "tags": []
          }
        }
      ]
    },
    {
      "metadata": {
        "id": "UAKKmmh3emGQ",
        "colab_type": "text"
      },
      "cell_type": "markdown",
      "source": [
        "Get ratios"
      ]
    },
    {
      "metadata": {
        "colab": {},
        "colab_type": "code",
        "id": "UctxlXoueULG",
        "outputId": "f4a59b48-4bc1-4900-b707-1c2767df2f6b"
      },
      "cell_type": "code",
      "source": [
        "cm_tfidf_train, cm_tfidf_test = give_me_ratios(X_train_transformed_tfidf_std, y_train, X_test_transformed_tfidf_std, y_test, 'TFIDF','Random Search', table, clf_random, clf_random.best_params_['C'],clf_random.best_params_['gamma'])"
      ],
      "execution_count": 0,
      "outputs": [
        {
          "output_type": "stream",
          "text": [
            "+--------------+------------------+----------+--------+------------+-----------+--------+------+------+------+----------+\n",
            "| Vector Type  | Parameter Search | Data Set | Best C | Best Gamma | Precision | Recall | TNR  | FPR  | FNR  | Accuracy |\n",
            "+--------------+------------------+----------+--------+------------+-----------+--------+------+------+------+----------+\n",
            "| Bag of Words |   Grid Search    |  Train   |  100   |    auto    |    0.99   |  1.0   | 0.95 | 0.05 | 0.0  |  0.9881  |\n",
            "| Bag of Words |   Grid Search    |   Test   |  100   |    auto    |    0.92   |  0.94  | 0.6  | 0.4  | 0.06 |  0.8842  |\n",
            "| Bag of Words |  Random Search   |  Train   |  100   |    auto    |    0.99   |  1.0   | 0.95 | 0.05 | 0.0  |  0.9881  |\n",
            "| Bag of Words |  Random Search   |   Test   |  100   |    auto    |    0.92   |  0.94  | 0.6  | 0.4  | 0.06 |  0.8842  |\n",
            "|    TFIDF     |   Grid Search    |  Train   |   10   |    auto    |    0.98   |  1.0   | 0.89 | 0.11 | 0.0  | 0.977175 |\n",
            "|    TFIDF     |   Grid Search    |   Test   |   10   |    auto    |    0.91   |  0.96  | 0.53 | 0.47 | 0.04 |  0.8854  |\n",
            "|    TFIDF     |  Random Search   |  Train   |  0.01  |    0.01    |    0.82   |  1.0   | 0.0  | 1.0  | 0.0  | 0.82175  |\n",
            "|    TFIDF     |  Random Search   |   Test   |  0.01  |    0.01    |    0.83   |  1.0   | 0.0  | 1.0  | 0.0  |  0.8268  |\n",
            "+--------------+------------------+----------+--------+------------+-----------+--------+------+------+------+----------+\n"
          ],
          "name": "stdout"
        }
      ]
    },
    {
      "metadata": {
        "id": "mtsbRXkfemGV",
        "colab_type": "text"
      },
      "cell_type": "markdown",
      "source": [
        "Confusion matrix"
      ]
    },
    {
      "metadata": {
        "colab": {},
        "colab_type": "code",
        "id": "MQsX6nBPeULT",
        "outputId": "33565f3d-589d-404f-95c1-e9dc83d04b16"
      },
      "cell_type": "code",
      "source": [
        "plot_confusion_matrix(cm_tfidf_train, cm_tfidf_test, \"Tfidf | Random Search\")"
      ],
      "execution_count": 0,
      "outputs": [
        {
          "output_type": "display_data",
          "data": {
            "image/png": "[encoded data removed]",
            "text/plain": [
              "<Figure size 1080x432 with 2 Axes>"
            ]
          },
          "metadata": {
            "tags": []
          }
        }
      ]
    },
    {
      "metadata": {
        "colab_type": "text",
        "id": "C9bCe0pqeULY"
      },
      "cell_type": "markdown",
      "source": [
        "## Avg W2V\n",
        "\n",
        "In this section, we'll apply SVC on data represented in the avg. W2V format.\n",
        "load the train and test data stored on disk."
      ]
    },
    {
      "metadata": {
        "colab": {},
        "colab_type": "code",
        "id": "r4ZjF15CeULY",
        "outputId": "9cf2cfcf-f2e6-49f3-ea89-84e65085923f"
      },
      "cell_type": "code",
      "source": [
        "# f = open(r'D:\\data_science\\datasets\\amazon2\\X_train_transformed_avgW2V_full80_20_nparray.pkl', 'rb')\n",
        "f = open('/home/ucanreachtvk/data/X_train_transformed_avgW2V_full80_20_nparray.pkl', 'rb')\n",
        "X_train_transformed_avgW2V = pickle.load(f)\n",
        "f.close()\n",
        "print('The datatype of X_train_transformed_avgW2V is : {}'.format(type(X_train_transformed_avgW2V)))\n",
        "print('The shape of X_train_transformed_avgW2V is : {}'.format(X_train_transformed_avgW2V.shape))"
      ],
      "execution_count": 0,
      "outputs": [
        {
          "output_type": "stream",
          "text": [
            "The datatype of X_train_transformed_avgW2V is : <class 'numpy.ndarray'>\n",
            "The shape of X_train_transformed_avgW2V is : (291336, 50)\n"
          ],
          "name": "stdout"
        }
      ]
    },
    {
      "metadata": {
        "colab": {},
        "colab_type": "code",
        "id": "K_rnWiwKeULc",
        "outputId": "d68dfec9-e27e-414b-8630-0c633f2199fe"
      },
      "cell_type": "code",
      "source": [
        "#f = open(r'D:\\data_science\\datasets\\amazon2\\X_test_transformed_avgW2V_full80_20_nparray.pkl', 'rb')\n",
        "f = open('/home/ucanreachtvk/data/X_test_transformed_avgW2V_full80_20_nparray.pkl', 'rb')\n",
        "X_test_transformed_avgW2V = pickle.load(f)\n",
        "f.close()\n",
        "print('The datatype of X_test_transformed_avgW2V is : {}'.format(type(X_test_transformed_avgW2V)))\n",
        "print('The shape of X_test_transformed_avgW2V is : {}'.format(X_test_transformed_avgW2V.shape))"
      ],
      "execution_count": 0,
      "outputs": [
        {
          "output_type": "stream",
          "text": [
            "The datatype of X_test_transformed_avgW2V is : <class 'numpy.ndarray'>\n",
            "The shape of X_test_transformed_avgW2V is : (72835, 50)\n"
          ],
          "name": "stdout"
        }
      ]
    },
    {
      "metadata": {
        "id": "mWoq-xbDemGd",
        "colab_type": "text"
      },
      "cell_type": "markdown",
      "source": [
        "Select subset of data"
      ]
    },
    {
      "metadata": {
        "id": "bAIIfUepemGf",
        "colab_type": "code",
        "colab": {}
      },
      "cell_type": "code",
      "source": [
        "X_train_transformed_avgW2V = X_train_transformed_avgW2V[-40000:]\n",
        "X_test_transformed_avgW2V = X_test_transformed_avgW2V[:10000]"
      ],
      "execution_count": 0,
      "outputs": []
    },
    {
      "metadata": {
        "colab_type": "text",
        "id": "Oyp33cx5eULl"
      },
      "cell_type": "markdown",
      "source": [
        "Standardize the data"
      ]
    },
    {
      "metadata": {
        "colab": {},
        "colab_type": "code",
        "id": "twZEEFk9eULl"
      },
      "cell_type": "code",
      "source": [
        "scaler = StandardScaler(with_mean = True)\n",
        "X_train_transformed_avgW2V_std = scaler.fit_transform(X_train_transformed_avgW2V)"
      ],
      "execution_count": 0,
      "outputs": []
    },
    {
      "metadata": {
        "colab": {},
        "colab_type": "code",
        "id": "m9HPNlyceULo"
      },
      "cell_type": "code",
      "source": [
        "X_test_transformed_avgW2V_std = scaler.transform(X_test_transformed_avgW2V)"
      ],
      "execution_count": 0,
      "outputs": []
    },
    {
      "metadata": {
        "colab_type": "text",
        "id": "ubsZjqOoeULs"
      },
      "cell_type": "markdown",
      "source": [
        "**GridSearch | avg. W2V **\n",
        "\n"
      ]
    },
    {
      "metadata": {
        "colab": {},
        "colab_type": "code",
        "id": "oCB325ZReULt"
      },
      "cell_type": "code",
      "source": [
        "clf_grid = GridSearch(X_train_transformed_avgW2V_std)"
      ],
      "execution_count": 0,
      "outputs": []
    },
    {
      "metadata": {
        "colab": {},
        "colab_type": "code",
        "id": "BQ3A1d68eULw",
        "scrolled": true
      },
      "cell_type": "code",
      "source": [
        "%%notify\n",
        "%%time\n",
        "\n",
        "clf_grid.fit(X_train_transformed_avgW2V_std, y_train)"
      ],
      "execution_count": 0,
      "outputs": []
    },
    {
      "metadata": {
        "id": "CNsaNvQfemGn",
        "colab_type": "text"
      },
      "cell_type": "markdown",
      "source": [
        "Display heatmap"
      ]
    },
    {
      "metadata": {
        "colab": {},
        "colab_type": "code",
        "id": "9IBFuMv3eUL6",
        "outputId": "9f6bc329-1564-419c-eb66-b8bcd027fba3"
      },
      "cell_type": "code",
      "source": [
        "heatmap(c_gamma_score(clf_grid.cv_results_), vector_type='Avg. W2V', search_type='Grid Search')"
      ],
      "execution_count": 0,
      "outputs": [
        {
          "output_type": "display_data",
          "data": {
            "image/png": "[encoded data removed]",
            "text/plain": [
              "<Figure size 1080x432 with 2 Axes>"
            ]
          },
          "metadata": {
            "tags": []
          }
        }
      ]
    },
    {
      "metadata": {
        "colab_type": "text",
        "id": "wYnNvadYeUL9"
      },
      "cell_type": "markdown",
      "source": [
        "Update the table with ratios of Avg. W2V."
      ]
    },
    {
      "metadata": {
        "colab": {},
        "colab_type": "code",
        "id": "OckFz2MheUL-",
        "outputId": "e3c194fa-bd7b-4c9e-91b1-f101145a0a96"
      },
      "cell_type": "code",
      "source": [
        "%%notify\n",
        "\n",
        "cm_w2v_train, cm_w2v_test = give_me_ratios(X_train_transformed_avgW2V_std, y_train, X_test_transformed_avgW2V_std, y_test, 'Avg. W2V','Grid Search', table, clf_grid, clf_grid.best_params_['C'],clf_grid.best_params_['gamma'])"
      ],
      "execution_count": 0,
      "outputs": [
        {
          "output_type": "stream",
          "text": [
            "+--------------+------------------+----------+--------+------------+-----------+--------+------+------+------+----------+\n",
            "| Vector Type  | Parameter Search | Data Set | Best C | Best Gamma | Precision | Recall | TNR  | FPR  | FNR  | Accuracy |\n",
            "+--------------+------------------+----------+--------+------------+-----------+--------+------+------+------+----------+\n",
            "| Bag of Words |   Grid Search    |  Train   |  100   |    auto    |    0.99   |  1.0   | 0.95 | 0.05 | 0.0  |  0.9881  |\n",
            "| Bag of Words |   Grid Search    |   Test   |  100   |    auto    |    0.92   |  0.94  | 0.6  | 0.4  | 0.06 |  0.8842  |\n",
            "| Bag of Words |  Random Search   |  Train   |  100   |    auto    |    0.99   |  1.0   | 0.95 | 0.05 | 0.0  |  0.9881  |\n",
            "| Bag of Words |  Random Search   |   Test   |  100   |    auto    |    0.92   |  0.94  | 0.6  | 0.4  | 0.06 |  0.8842  |\n",
            "|    TFIDF     |   Grid Search    |  Train   |   10   |    auto    |    0.98   |  1.0   | 0.89 | 0.11 | 0.0  | 0.977175 |\n",
            "|    TFIDF     |   Grid Search    |   Test   |   10   |    auto    |    0.91   |  0.96  | 0.53 | 0.47 | 0.04 |  0.8854  |\n",
            "|    TFIDF     |  Random Search   |  Train   |  0.01  |    0.01    |    0.82   |  1.0   | 0.0  | 1.0  | 0.0  | 0.82175  |\n",
            "|    TFIDF     |  Random Search   |   Test   |  0.01  |    0.01    |    0.83   |  1.0   | 0.0  | 1.0  | 0.0  |  0.8268  |\n",
            "|   Avg. W2V   |   Grid Search    |  Train   |   10   |    0.01    |    0.93   |  0.98  | 0.68 | 0.32 | 0.02 | 0.92385  |\n",
            "|   Avg. W2V   |   Grid Search    |   Test   |   10   |    0.01    |    0.92   |  0.96  | 0.58 | 0.42 | 0.04 |  0.8971  |\n",
            "+--------------+------------------+----------+--------+------------+-----------+--------+------+------+------+----------+\n"
          ],
          "name": "stdout"
        },
        {
          "output_type": "display_data",
          "data": {
            "application/javascript": [
              "$(document).ready(\n",
              "    function() {\n",
              "        function appendUniqueDiv(){\n",
              "            // append a div with our uuid so we can check that it's already\n",
              "            // been sent and avoid duplicates on page reload\n",
              "            var notifiedDiv = document.createElement(\"div\")\n",
              "            notifiedDiv.id = \"e2eccf42-3ee5-4d96-a41e-3670f6cbec13\"\n",
              "            element.append(notifiedDiv)\n",
              "        }\n",
              "\n",
              "        // only send notifications if the pageload is complete; this will\n",
              "        // help stop extra notifications when a saved notebook is loaded,\n",
              "        // which during testing gives us state \"interactive\", not \"complete\"\n",
              "        if (document.readyState === 'complete') {\n",
              "            // check for the div that signifies that the notification\n",
              "            // was already sent\n",
              "            if (document.getElementById(\"e2eccf42-3ee5-4d96-a41e-3670f6cbec13\") === null) {\n",
              "                var notificationPayload = {\"requireInteraction\": false, \"icon\": \"/static/base/images/favicon.ico\", \"body\": \"Cell execution has finished!\"};\n",
              "                if (Notification.permission !== 'denied') {\n",
              "                    if (Notification.permission !== 'granted') { \n",
              "                        Notification.requestPermission(function (permission) {\n",
              "                            if(!('permission' in Notification)) {\n",
              "                                Notification.permission = permission\n",
              "                            }\n",
              "                        })\n",
              "                    }\n",
              "                    if (Notification.permission === 'granted') {\n",
              "                    var notification = new Notification(\"Jupyter Notebook\", notificationPayload)\n",
              "                    appendUniqueDiv()\n",
              "                    notification.onclick = function () {\n",
              "                        window.focus();\n",
              "                        this.close();\n",
              "                        };\n",
              "                    } \n",
              "                }     \n",
              "            }\n",
              "        }\n",
              "    }\n",
              ")\n"
            ],
            "text/plain": [
              "<IPython.core.display.Javascript object>"
            ]
          },
          "metadata": {
            "tags": []
          }
        }
      ]
    },
    {
      "metadata": {
        "colab_type": "text",
        "id": "WUeH0xyXeUMB"
      },
      "cell_type": "markdown",
      "source": [
        "Plot the confusion matrix."
      ]
    },
    {
      "metadata": {
        "colab": {},
        "colab_type": "code",
        "id": "NY_0J4BOeUMD",
        "outputId": "a5f3e78d-945a-4052-83f6-ac8a3daca684"
      },
      "cell_type": "code",
      "source": [
        "plot_confusion_matrix(cm_w2v_train, cm_w2v_test, \"Avg. W2V | Grid Search\")"
      ],
      "execution_count": 0,
      "outputs": [
        {
          "output_type": "display_data",
          "data": {
            "image/png": "[encoded data removed]",
            "text/plain": [
              "<Figure size 1080x432 with 2 Axes>"
            ]
          },
          "metadata": {
            "tags": []
          }
        }
      ]
    },
    {
      "metadata": {
        "colab_type": "text",
        "id": "w7rZqxWkeUMF"
      },
      "cell_type": "markdown",
      "source": [
        "**Random Search | avg. W2V **"
      ]
    },
    {
      "metadata": {
        "colab": {},
        "colab_type": "code",
        "id": "c6-vmWYVeUMG"
      },
      "cell_type": "code",
      "source": [
        "clf_random = RandomSearch(X_train_transformed_avgW2V_std)"
      ],
      "execution_count": 0,
      "outputs": []
    },
    {
      "metadata": {
        "colab": {},
        "colab_type": "code",
        "id": "TuOvpOYmeUMI"
      },
      "cell_type": "code",
      "source": [
        "%%notify\n",
        "%%time\n",
        "\n",
        "clf_random.fit(X_train_transformed_avgW2V_std, y_train)"
      ],
      "execution_count": 0,
      "outputs": []
    },
    {
      "metadata": {
        "colab": {},
        "colab_type": "code",
        "id": "p_uq8XIieUMS",
        "outputId": "3722266f-27b5-45ca-cae7-0df1b27ff110"
      },
      "cell_type": "code",
      "source": [
        "heatmap(c_gamma_score(clf_random.cv_results_), vector_type='Avg. W2V', search_type='Random Search')"
      ],
      "execution_count": 0,
      "outputs": [
        {
          "output_type": "display_data",
          "data": {
            "image/png": "[encoded data removed]",
            "text/plain": [
              "<Figure size 1080x432 with 2 Axes>"
            ]
          },
          "metadata": {
            "tags": []
          }
        }
      ]
    },
    {
      "metadata": {
        "id": "4UIURSOOemG3",
        "colab_type": "text"
      },
      "cell_type": "markdown",
      "source": [
        "Display ratios"
      ]
    },
    {
      "metadata": {
        "colab": {},
        "colab_type": "code",
        "id": "68l9mg5EeUMT",
        "outputId": "89a3033b-103b-47bc-a606-e578d6604c31"
      },
      "cell_type": "code",
      "source": [
        "%%notify\n",
        "\n",
        "cm_w2v_train, cm_w2v_test = give_me_ratios(X_train_transformed_avgW2V_std, y_train, X_test_transformed_avgW2V_std, y_test, 'Avg. W2V','Random Search', table, clf_random, clf_random.best_params_['C'],clf_random.best_params_['gamma'])"
      ],
      "execution_count": 0,
      "outputs": [
        {
          "output_type": "stream",
          "text": [
            "+--------------+------------------+----------+--------+------------+-----------+--------+------+------+------+----------+\n",
            "| Vector Type  | Parameter Search | Data Set | Best C | Best Gamma | Precision | Recall | TNR  | FPR  | FNR  | Accuracy |\n",
            "+--------------+------------------+----------+--------+------------+-----------+--------+------+------+------+----------+\n",
            "| Bag of Words |   Grid Search    |  Train   |  100   |    auto    |    0.99   |  1.0   | 0.95 | 0.05 | 0.0  |  0.9881  |\n",
            "| Bag of Words |   Grid Search    |   Test   |  100   |    auto    |    0.92   |  0.94  | 0.6  | 0.4  | 0.06 |  0.8842  |\n",
            "| Bag of Words |  Random Search   |  Train   |  100   |    auto    |    0.99   |  1.0   | 0.95 | 0.05 | 0.0  |  0.9881  |\n",
            "| Bag of Words |  Random Search   |   Test   |  100   |    auto    |    0.92   |  0.94  | 0.6  | 0.4  | 0.06 |  0.8842  |\n",
            "|    TFIDF     |   Grid Search    |  Train   |   10   |    auto    |    0.98   |  1.0   | 0.89 | 0.11 | 0.0  | 0.977175 |\n",
            "|    TFIDF     |   Grid Search    |   Test   |   10   |    auto    |    0.91   |  0.96  | 0.53 | 0.47 | 0.04 |  0.8854  |\n",
            "|    TFIDF     |  Random Search   |  Train   |  0.01  |    0.01    |    0.82   |  1.0   | 0.0  | 1.0  | 0.0  | 0.82175  |\n",
            "|    TFIDF     |  Random Search   |   Test   |  0.01  |    0.01    |    0.83   |  1.0   | 0.0  | 1.0  | 0.0  |  0.8268  |\n",
            "|   Avg. W2V   |   Grid Search    |  Train   |   10   |    0.01    |    0.93   |  0.98  | 0.68 | 0.32 | 0.02 | 0.92385  |\n",
            "|   Avg. W2V   |   Grid Search    |   Test   |   10   |    0.01    |    0.92   |  0.96  | 0.58 | 0.42 | 0.04 |  0.8971  |\n",
            "|   Avg. W2V   |  Random Search   |  Train   |   10   |    0.01    |    0.93   |  0.98  | 0.68 | 0.32 | 0.02 | 0.92385  |\n",
            "|   Avg. W2V   |  Random Search   |   Test   |   10   |    0.01    |    0.92   |  0.96  | 0.58 | 0.42 | 0.04 |  0.8971  |\n",
            "+--------------+------------------+----------+--------+------------+-----------+--------+------+------+------+----------+\n"
          ],
          "name": "stdout"
        },
        {
          "output_type": "display_data",
          "data": {
            "application/javascript": [
              "$(document).ready(\n",
              "    function() {\n",
              "        function appendUniqueDiv(){\n",
              "            // append a div with our uuid so we can check that it's already\n",
              "            // been sent and avoid duplicates on page reload\n",
              "            var notifiedDiv = document.createElement(\"div\")\n",
              "            notifiedDiv.id = \"aeeafe5f-2b74-4a7c-b4e6-369a8569a6b1\"\n",
              "            element.append(notifiedDiv)\n",
              "        }\n",
              "\n",
              "        // only send notifications if the pageload is complete; this will\n",
              "        // help stop extra notifications when a saved notebook is loaded,\n",
              "        // which during testing gives us state \"interactive\", not \"complete\"\n",
              "        if (document.readyState === 'complete') {\n",
              "            // check for the div that signifies that the notification\n",
              "            // was already sent\n",
              "            if (document.getElementById(\"aeeafe5f-2b74-4a7c-b4e6-369a8569a6b1\") === null) {\n",
              "                var notificationPayload = {\"requireInteraction\": false, \"icon\": \"/static/base/images/favicon.ico\", \"body\": \"Cell execution has finished!\"};\n",
              "                if (Notification.permission !== 'denied') {\n",
              "                    if (Notification.permission !== 'granted') { \n",
              "                        Notification.requestPermission(function (permission) {\n",
              "                            if(!('permission' in Notification)) {\n",
              "                                Notification.permission = permission\n",
              "                            }\n",
              "                        })\n",
              "                    }\n",
              "                    if (Notification.permission === 'granted') {\n",
              "                    var notification = new Notification(\"Jupyter Notebook\", notificationPayload)\n",
              "                    appendUniqueDiv()\n",
              "                    notification.onclick = function () {\n",
              "                        window.focus();\n",
              "                        this.close();\n",
              "                        };\n",
              "                    } \n",
              "                }     \n",
              "            }\n",
              "        }\n",
              "    }\n",
              ")\n"
            ],
            "text/plain": [
              "<IPython.core.display.Javascript object>"
            ]
          },
          "metadata": {
            "tags": []
          }
        }
      ]
    },
    {
      "metadata": {
        "id": "gsD0CPNremG4",
        "colab_type": "text"
      },
      "cell_type": "markdown",
      "source": [
        "Confusion matrix"
      ]
    },
    {
      "metadata": {
        "colab": {},
        "colab_type": "code",
        "id": "rbroDFq_eUMY",
        "outputId": "58d78371-cebd-4737-83b5-3a8983e5c486"
      },
      "cell_type": "code",
      "source": [
        "plot_confusion_matrix(cm_w2v_train, cm_w2v_test, \"Avg. W2V | Random Search\")"
      ],
      "execution_count": 0,
      "outputs": [
        {
          "output_type": "display_data",
          "data": {
            "image/png": "[encoded data removed]",
            "text/plain": [
              "<Figure size 1080x432 with 2 Axes>"
            ]
          },
          "metadata": {
            "tags": []
          }
        }
      ]
    },
    {
      "metadata": {
        "colab_type": "text",
        "id": "xGlNWooMeUMa"
      },
      "cell_type": "markdown",
      "source": [
        "## Tfidf weighted W2V\n",
        "\n",
        "In this last section, we apply SVC on vectors represented in the form of Tfidf weighted W2V."
      ]
    },
    {
      "metadata": {
        "colab": {},
        "colab_type": "code",
        "id": "dRTtrKGJeUMd",
        "outputId": "31e2efee-6848-4502-b9e8-f770f5a53586"
      },
      "cell_type": "code",
      "source": [
        "#f = open(r'D:\\data_science\\datasets\\amazon2\\X_train_transformed_TfidfWeightedW2V_full80_20_nparray.pkl', 'rb')\n",
        "f = open('/home/ucanreachtvk/data/X_train_transformed_TfidfWeightedW2V_full80_20_nparray.pkl', 'rb')\n",
        "X_train_transformed_TfidfW2V = pickle.load(f)\n",
        "f.close()\n",
        "print('The datatype of X_train_transformed_TfidfW2V is : {}'.format(type(X_train_transformed_TfidfW2V)))\n",
        "print('The shape of X_train_transformed_TfidfW2V is : {}'.format(X_train_transformed_TfidfW2V.shape))"
      ],
      "execution_count": 0,
      "outputs": [
        {
          "output_type": "stream",
          "text": [
            "The datatype of X_train_transformed_TfidfW2V is : <class 'numpy.ndarray'>\n",
            "The shape of X_train_transformed_TfidfW2V is : (291336, 50)\n"
          ],
          "name": "stdout"
        }
      ]
    },
    {
      "metadata": {
        "colab": {},
        "colab_type": "code",
        "id": "ic8s_tn2eUMh",
        "outputId": "0e292057-bdb0-498f-8e04-d3c8b0f083ab"
      },
      "cell_type": "code",
      "source": [
        "# f = open(r'D:\\data_science\\datasets\\amazon2\\X_test_transformed_TfidfWeightedW2V_full80_20_nparray.pkl', 'rb')\n",
        "f = open('/home/ucanreachtvk/data/X_test_transformed_TfidfWeightedW2V_full80_20_nparray.pkl', 'rb')\n",
        "X_test_transformed_TfidfW2V = pickle.load(f)\n",
        "f.close()\n",
        "print('The datatype of X_test_transformed_TfidfW2V is : {}'.format(type(X_test_transformed_TfidfW2V)))\n",
        "print('The shape of X_train_transformed_TfidfW2V is : {}'.format(X_test_transformed_TfidfW2V.shape))"
      ],
      "execution_count": 0,
      "outputs": [
        {
          "output_type": "stream",
          "text": [
            "The datatype of X_test_transformed_TfidfW2V is : <class 'numpy.ndarray'>\n",
            "The shape of X_train_transformed_TfidfW2V is : (72835, 50)\n"
          ],
          "name": "stdout"
        }
      ]
    },
    {
      "metadata": {
        "id": "aaMV8-uBemHC",
        "colab_type": "code",
        "colab": {}
      },
      "cell_type": "code",
      "source": [
        "X_train_transformed_TfidfW2V = X_train_transformed_TfidfW2V[-40000:]\n",
        "X_test_transformed_TfidfW2V = X_test_transformed_TfidfW2V[:10000]"
      ],
      "execution_count": 0,
      "outputs": []
    },
    {
      "metadata": {
        "colab_type": "text",
        "id": "1GJKiDlYeUMl"
      },
      "cell_type": "markdown",
      "source": [
        "Standardize data"
      ]
    },
    {
      "metadata": {
        "colab": {},
        "colab_type": "code",
        "id": "MrNSsQxSeUMq"
      },
      "cell_type": "code",
      "source": [
        "scaler = StandardScaler(with_mean = True)\n",
        "X_train_transformed_TfidfW2V_std = scaler.fit_transform(X_train_transformed_TfidfW2V)"
      ],
      "execution_count": 0,
      "outputs": []
    },
    {
      "metadata": {
        "colab": {},
        "colab_type": "code",
        "id": "jbN3XqYWeUMv"
      },
      "cell_type": "code",
      "source": [
        "X_test_transformed_TfidfW2V_std = scaler.transform(X_test_transformed_TfidfW2V)"
      ],
      "execution_count": 0,
      "outputs": []
    },
    {
      "metadata": {
        "colab_type": "text",
        "id": "5kVnwxHBeUMz"
      },
      "cell_type": "markdown",
      "source": [
        "**GridSearch | Tfidf Weighted W2V**"
      ]
    },
    {
      "metadata": {
        "colab": {},
        "colab_type": "code",
        "id": "UrDLFDFheUMz"
      },
      "cell_type": "code",
      "source": [
        "clf_grid = GridSearch(X_train_transformed_TfidfW2V_std)"
      ],
      "execution_count": 0,
      "outputs": []
    },
    {
      "metadata": {
        "colab": {},
        "colab_type": "code",
        "id": "oepudlcUeUM2",
        "scrolled": false
      },
      "cell_type": "code",
      "source": [
        "%%notify\n",
        "%%time\n",
        "\n",
        "clf_grid.fit(X_train_transformed_TfidfW2V_std, y_train)"
      ],
      "execution_count": 0,
      "outputs": []
    },
    {
      "metadata": {
        "id": "mQhWkWVsemHM",
        "colab_type": "text"
      },
      "cell_type": "markdown",
      "source": [
        "Heatmap of score"
      ]
    },
    {
      "metadata": {
        "colab": {},
        "colab_type": "code",
        "id": "OO1woAJteUM-",
        "outputId": "16eab512-bb1d-488b-85f7-995ebee7e666"
      },
      "cell_type": "code",
      "source": [
        "heatmap(c_gamma_score(clf_grid.cv_results_), vector_type='Tfidf weighted W2V', search_type='Grid Search')"
      ],
      "execution_count": 0,
      "outputs": [
        {
          "output_type": "display_data",
          "data": {
            "image/png": "[encoded data removed]",
            "text/plain": [
              "<Figure size 1080x432 with 2 Axes>"
            ]
          },
          "metadata": {
            "tags": []
          }
        }
      ]
    },
    {
      "metadata": {
        "colab": {},
        "colab_type": "code",
        "id": "5cJco8NXeUNB"
      },
      "cell_type": "code",
      "source": [
        "cm_tfidfw2v_train, cm_tfidfw2v_test = give_me_ratios(X_train_transformed_TfidfW2V_std, y_train, X_test_transformed_TfidfW2V_std, y_test, 'Tfidf weighted W2V','Grid Search', table, clf_grid, clf_grid.best_params_['C'],clf_grid.best_params_['gamma'])"
      ],
      "execution_count": 0,
      "outputs": []
    },
    {
      "metadata": {
        "id": "1GUsQNASemHQ",
        "colab_type": "text"
      },
      "cell_type": "markdown",
      "source": [
        "Confusion Matrix."
      ]
    },
    {
      "metadata": {
        "colab": {},
        "colab_type": "code",
        "id": "ij2sR-rieUNE",
        "outputId": "96041f20-d6e6-474a-d8e9-753dab618593"
      },
      "cell_type": "code",
      "source": [
        "plot_confusion_matrix(cm_tfidfw2v_train, cm_tfidfw2v_test, \"Tfidf weighted W2V | Grid Search\")"
      ],
      "execution_count": 0,
      "outputs": [
        {
          "output_type": "display_data",
          "data": {
            "image/png": "[encoded data removed]",
            "text/plain": [
              "<Figure size 1080x432 with 2 Axes>"
            ]
          },
          "metadata": {
            "tags": []
          }
        }
      ]
    },
    {
      "metadata": {
        "colab_type": "text",
        "id": "YyfCNdd1eUNF"
      },
      "cell_type": "markdown",
      "source": [
        "**Random Search | Tfidf Weighted W2V**"
      ]
    },
    {
      "metadata": {
        "colab": {},
        "colab_type": "code",
        "id": "PVPxyaGVeUNG"
      },
      "cell_type": "code",
      "source": [
        "clf_random = GridSearch(X_train_transformed_TfidfW2V_std)"
      ],
      "execution_count": 0,
      "outputs": []
    },
    {
      "metadata": {
        "colab": {},
        "colab_type": "code",
        "id": "Tk0kpGwNeUNK",
        "scrolled": true
      },
      "cell_type": "code",
      "source": [
        "%%notify\n",
        "%%time\n",
        "\n",
        "clf_random.fit(X_train_transformed_TfidfW2V_std, y_train)"
      ],
      "execution_count": 0,
      "outputs": []
    },
    {
      "metadata": {
        "id": "mbQXzQQiemHh",
        "colab_type": "text"
      },
      "cell_type": "markdown",
      "source": [
        "Heatmap of scores"
      ]
    },
    {
      "metadata": {
        "colab": {},
        "colab_type": "code",
        "id": "fdo85YkReUNP",
        "outputId": "13edce54-d214-4f9d-bdb6-547b5303c20f"
      },
      "cell_type": "code",
      "source": [
        "heatmap(c_gamma_score(clf_random.cv_results_), vector_type='Tfidf weighted W2V', search_type='Random Search')"
      ],
      "execution_count": 0,
      "outputs": [
        {
          "output_type": "display_data",
          "data": {
            "image/png": "[encoded data removed]",
            "text/plain": [
              "<Figure size 1080x432 with 2 Axes>"
            ]
          },
          "metadata": {
            "tags": []
          }
        }
      ]
    },
    {
      "metadata": {
        "id": "H8odWehPemHl",
        "colab_type": "text"
      },
      "cell_type": "markdown",
      "source": [
        "Display scores final"
      ]
    },
    {
      "metadata": {
        "colab": {},
        "colab_type": "code",
        "id": "l0pkBFQSeUNU",
        "outputId": "e856e4e3-283a-4fd2-ae6c-f016d9ef9c08"
      },
      "cell_type": "code",
      "source": [
        "cm_tfidfw2v_train, cm_tfidfw2v_test =  give_me_ratios(X_train_transformed_TfidfW2V_std, y_train, X_test_transformed_TfidfW2V_std, y_test, 'Tfidf weighted W2V','Random Search', table, clf_random, clf_random.best_params_['C'],clf_random.best_params_['gamma'])"
      ],
      "execution_count": 0,
      "outputs": [
        {
          "output_type": "stream",
          "text": [
            "+--------------------+------------------+----------+--------+------------+-----------+--------+------+------+------+----------+\n",
            "|    Vector Type     | Parameter Search | Data Set | Best C | Best Gamma | Precision | Recall | TNR  | FPR  | FNR  | Accuracy |\n",
            "+--------------------+------------------+----------+--------+------------+-----------+--------+------+------+------+----------+\n",
            "|    Bag of Words    |   Grid Search    |  Train   |  100   |    auto    |    0.99   |  1.0   | 0.95 | 0.05 | 0.0  |  0.9881  |\n",
            "|    Bag of Words    |   Grid Search    |   Test   |  100   |    auto    |    0.92   |  0.94  | 0.6  | 0.4  | 0.06 |  0.8842  |\n",
            "|    Bag of Words    |  Random Search   |  Train   |  100   |    auto    |    0.99   |  1.0   | 0.95 | 0.05 | 0.0  |  0.9881  |\n",
            "|    Bag of Words    |  Random Search   |   Test   |  100   |    auto    |    0.92   |  0.94  | 0.6  | 0.4  | 0.06 |  0.8842  |\n",
            "|       TFIDF        |   Grid Search    |  Train   |   10   |    auto    |    0.98   |  1.0   | 0.89 | 0.11 | 0.0  | 0.977175 |\n",
            "|       TFIDF        |   Grid Search    |   Test   |   10   |    auto    |    0.91   |  0.96  | 0.53 | 0.47 | 0.04 |  0.8854  |\n",
            "|       TFIDF        |  Random Search   |  Train   |  0.01  |    0.01    |    0.82   |  1.0   | 0.0  | 1.0  | 0.0  | 0.82175  |\n",
            "|       TFIDF        |  Random Search   |   Test   |  0.01  |    0.01    |    0.83   |  1.0   | 0.0  | 1.0  | 0.0  |  0.8268  |\n",
            "|      Avg. W2V      |   Grid Search    |  Train   |   10   |    0.01    |    0.93   |  0.98  | 0.68 | 0.32 | 0.02 | 0.92385  |\n",
            "|      Avg. W2V      |   Grid Search    |   Test   |   10   |    0.01    |    0.92   |  0.96  | 0.58 | 0.42 | 0.04 |  0.8971  |\n",
            "|      Avg. W2V      |  Random Search   |  Train   |   10   |    0.01    |    0.93   |  0.98  | 0.68 | 0.32 | 0.02 | 0.92385  |\n",
            "|      Avg. W2V      |  Random Search   |   Test   |   10   |    0.01    |    0.92   |  0.96  | 0.58 | 0.42 | 0.04 |  0.8971  |\n",
            "| Tfidf weighted W2V |   Grid Search    |  Train   |   10   |    0.01    |    0.93   |  0.98  | 0.65 | 0.35 | 0.02 | 0.921125 |\n",
            "| Tfidf weighted W2V |   Grid Search    |   Test   |   10   |    0.01    |    0.83   |  0.83  | 0.21 | 0.79 | 0.17 |  0.7237  |\n",
            "| Tfidf weighted W2V |  Random Search   |  Train   |   10   |    0.01    |    0.93   |  0.98  | 0.65 | 0.35 | 0.02 | 0.921125 |\n",
            "| Tfidf weighted W2V |  Random Search   |   Test   |   10   |    0.01    |    0.83   |  0.83  | 0.21 | 0.79 | 0.17 |  0.7237  |\n",
            "+--------------------+------------------+----------+--------+------------+-----------+--------+------+------+------+----------+\n"
          ],
          "name": "stdout"
        }
      ]
    },
    {
      "metadata": {
        "id": "pBF4DFetemHp",
        "colab_type": "text"
      },
      "cell_type": "markdown",
      "source": [
        "Confusion Matrix"
      ]
    },
    {
      "metadata": {
        "colab": {},
        "colab_type": "code",
        "id": "CV1f1m_0eUNW",
        "outputId": "1c4e5ee1-504c-43b3-99b7-38d8ba46c9d5"
      },
      "cell_type": "code",
      "source": [
        "plot_confusion_matrix(cm_tfidfw2v_train, cm_tfidfw2v_test, \"Tfidf weighted W2V | Random Search\")"
      ],
      "execution_count": 0,
      "outputs": [
        {
          "output_type": "display_data",
          "data": {
            "image/png": "[encoded data removed]",
            "text/plain": [
              "<Figure size 1080x432 with 2 Axes>"
            ]
          },
          "metadata": {
            "tags": []
          }
        }
      ]
    },
    {
      "metadata": {
        "colab_type": "text",
        "id": "8GxUPtGieUNZ"
      },
      "cell_type": "markdown",
      "source": [
        "### Conclusion:\n",
        "\n",
        "* We applied SVC on amazon food reviews for various vector representations.\n",
        "\n",
        "* Found the best C and gamma using GridSearch and RandomizedSearch. \n",
        "* Plotted the confusion matrix for train and test data and also calculated several important ratios based on it such as Precision, Recall, FNR, etc.\n"
      ]
    }
  ]
}