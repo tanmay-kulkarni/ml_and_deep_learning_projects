{
  "nbformat": 4,
  "nbformat_minor": 0,
  "metadata": {
    "colab": {
      "name": "t-SNE on Amazon reviews.ipynb",
      "version": "0.3.2",
      "provenance": [],
      "collapsed_sections": []
    },
    "kernelspec": {
      "display_name": "Python 3",
      "language": "python",
      "name": "python3"
    },
    "accelerator": "GPU"
  },
  "cells": [
    {
      "metadata": {
        "id": "1R74DY-Yinie",
        "colab_type": "text"
      },
      "cell_type": "markdown",
      "source": [
        "# Objective\n",
        "\n",
        "To reduce the number of dimensions of the Amazon food reviews dataset so that we can visualize it using a scatterplot. The plot should ideally distinguish between positive and negative reviews.\n",
        "\n",
        "I'm not building a classification model here. The goal is to apply t-SNE on various vector representation of the text data. I will use these models to vectorize text:\n",
        "\n",
        "\n",
        "*   Bag of Words (Unigram and Bigram)\n",
        "* Tfidf\n",
        "* Doc2Vec\n",
        "* Average W2V\n",
        "* Tfidf weighted W2V\n",
        "\n"
      ]
    },
    {
      "metadata": {
        "id": "R5iBk3AAinif",
        "colab_type": "text"
      },
      "cell_type": "markdown",
      "source": [
        "As always, let's start by loading the files that we need. I'm working on Google Colab for this Exercise, since my laptop isn't powerful enough to handle the workload.\n",
        "\n",
        "To avoid having to upload data from local disk everytime the environment is disconnected, I'll be using Google Drive to store all the data and pickled models."
      ]
    },
    {
      "metadata": {
        "id": "weEdm5tBcnUg",
        "colab_type": "code",
        "colab": {}
      },
      "cell_type": "code",
      "source": [
        "from google.colab import drive\n",
        "drive.mount('/gdrive')"
      ],
      "execution_count": 0,
      "outputs": []
    },
    {
      "metadata": {
        "id": "D8qUfEFa68-5",
        "colab_type": "text"
      },
      "cell_type": "markdown",
      "source": [
        "List files on the drive."
      ]
    },
    {
      "metadata": {
        "id": "uRKs5wAydFC8",
        "colab_type": "code",
        "colab": {}
      },
      "cell_type": "code",
      "source": [
        "# # List all files present on google drive\n",
        "# import os\n",
        "# os.listdir('/gdrive/My Drive')"
      ],
      "execution_count": 0,
      "outputs": []
    },
    {
      "metadata": {
        "id": "QBqKGH4Y7QbK",
        "colab_type": "text"
      },
      "cell_type": "markdown",
      "source": [
        "Import needed libraries"
      ]
    },
    {
      "metadata": {
        "id": "ZTpPDlPyinig",
        "colab_type": "code",
        "colab": {}
      },
      "cell_type": "code",
      "source": [
        "%matplotlib inline\n",
        "\n",
        "import sqlite3\n",
        "import pandas as pd\n",
        "import numpy as np\n",
        "import matplotlib.pyplot as plt\n",
        "import seaborn as sbn\n",
        "import nltk\n",
        "from sklearn.feature_extraction.text import TfidfTransformer, TfidfVectorizer, CountVectorizer\n",
        "from sklearn.metrics import confusion_matrix, roc_curve, auc\n",
        "from nltk.stem.porter import PorterStemmer"
      ],
      "execution_count": 0,
      "outputs": []
    },
    {
      "metadata": {
        "id": "RS6NMrl7inii",
        "colab_type": "text"
      },
      "cell_type": "markdown",
      "source": [
        "The raw data is present in the form of a sqlite file. Let's retrieve it from google drive."
      ]
    },
    {
      "metadata": {
        "id": "msbKWiCIinik",
        "colab_type": "code",
        "colab": {}
      },
      "cell_type": "code",
      "source": [
        "# load sqlite database\n",
        "con = sqlite3.connect(r'/gdrive/My Drive/amazon/database.sqlite')"
      ],
      "execution_count": 0,
      "outputs": []
    },
    {
      "metadata": {
        "id": "CRFVB56Qinil",
        "colab_type": "text"
      },
      "cell_type": "markdown",
      "source": [
        "Since the aim here is to just visualize the positive and negative reviews, I select only the reviews that aren't neutral. It's a fair assumption that the reviews with score = 3 are neutral. We'll work with reviews that have score either 1,2,4 or 5."
      ]
    },
    {
      "metadata": {
        "id": "7PXszWPzinim",
        "colab_type": "code",
        "colab": {}
      },
      "cell_type": "code",
      "source": [
        "df = pd.read_sql_query(\"select * from reviews where score <> 3;\", con)"
      ],
      "execution_count": 0,
      "outputs": []
    },
    {
      "metadata": {
        "id": "QUmXJU-H7f2i",
        "colab_type": "text"
      },
      "cell_type": "markdown",
      "source": [
        "There are about half a million reviews in the original data file that are not neautral."
      ]
    },
    {
      "metadata": {
        "id": "HcTlavSDinio",
        "colab_type": "code",
        "colab": {
          "base_uri": "https://localhost:8080/",
          "height": 280
        },
        "outputId": "a4f54321-1f6c-44f5-9f6f-51f8926ce0f9"
      },
      "cell_type": "code",
      "source": [
        "df.info()"
      ],
      "execution_count": 6,
      "outputs": [
        {
          "output_type": "stream",
          "text": [
            "<class 'pandas.core.frame.DataFrame'>\n",
            "RangeIndex: 525814 entries, 0 to 525813\n",
            "Data columns (total 10 columns):\n",
            "Id                        525814 non-null int64\n",
            "ProductId                 525814 non-null object\n",
            "UserId                    525814 non-null object\n",
            "ProfileName               525814 non-null object\n",
            "HelpfulnessNumerator      525814 non-null int64\n",
            "HelpfulnessDenominator    525814 non-null int64\n",
            "Score                     525814 non-null int64\n",
            "Time                      525814 non-null int64\n",
            "Summary                   525814 non-null object\n",
            "Text                      525814 non-null object\n",
            "dtypes: int64(5), object(5)\n",
            "memory usage: 40.1+ MB\n"
          ],
          "name": "stdout"
        }
      ]
    },
    {
      "metadata": {
        "id": "ZMcMh_j6init",
        "colab_type": "text"
      },
      "cell_type": "markdown",
      "source": [
        "For this exercise, we want score to be a categorical feature.\n",
        "* Mark reviews with rating > 3 as positive\n",
        "* Mark reviews with rating < 3 as negative"
      ]
    },
    {
      "metadata": {
        "id": "NRVj4hJcinit",
        "colab_type": "code",
        "colab": {}
      },
      "cell_type": "code",
      "source": [
        "m1 =  df['Score'] > 3 \n",
        "m2 =  df['Score'] < 3 \n",
        "\n",
        "df['Score'] = np.select([m1,m2], ['positive','negative'])"
      ],
      "execution_count": 0,
      "outputs": []
    },
    {
      "metadata": {
        "id": "ACcQw_RwV1_C",
        "colab_type": "text"
      },
      "cell_type": "markdown",
      "source": [
        "This is an imbalanced dataset. The number of positice reviews is almost 6 times the number of negative reviews!"
      ]
    },
    {
      "metadata": {
        "id": "0U3Xv6Khiniv",
        "colab_type": "code",
        "colab": {
          "base_uri": "https://localhost:8080/",
          "height": 70
        },
        "outputId": "d11c5fbb-a9f9-4195-dfc4-8036b9f292fe"
      },
      "cell_type": "code",
      "source": [
        "df.Score.value_counts()"
      ],
      "execution_count": 9,
      "outputs": [
        {
          "output_type": "execute_result",
          "data": {
            "text/plain": [
              "positive    443777\n",
              "negative     82037\n",
              "Name: Score, dtype: int64"
            ]
          },
          "metadata": {
            "tags": []
          },
          "execution_count": 9
        }
      ]
    },
    {
      "metadata": {
        "id": "ia1bEHAniniy",
        "colab_type": "text"
      },
      "cell_type": "markdown",
      "source": [
        "Let's change the datatype of Score in our Pandas dataframe to 'Category'. Using Categories instead of the default 'Object' datatype leads to performance improvement."
      ]
    },
    {
      "metadata": {
        "id": "lS_FDlGViniz",
        "colab_type": "code",
        "colab": {
          "base_uri": "https://localhost:8080/",
          "height": 280
        },
        "outputId": "aac4e07e-d23c-4c24-f567-7a424a25bbc1"
      },
      "cell_type": "code",
      "source": [
        "df['Score']=df['Score'].astype('category')\n",
        "df.info()"
      ],
      "execution_count": 10,
      "outputs": [
        {
          "output_type": "stream",
          "text": [
            "<class 'pandas.core.frame.DataFrame'>\n",
            "RangeIndex: 525814 entries, 0 to 525813\n",
            "Data columns (total 10 columns):\n",
            "Id                        525814 non-null int64\n",
            "ProductId                 525814 non-null object\n",
            "UserId                    525814 non-null object\n",
            "ProfileName               525814 non-null object\n",
            "HelpfulnessNumerator      525814 non-null int64\n",
            "HelpfulnessDenominator    525814 non-null int64\n",
            "Score                     525814 non-null category\n",
            "Time                      525814 non-null int64\n",
            "Summary                   525814 non-null object\n",
            "Text                      525814 non-null object\n",
            "dtypes: category(1), int64(4), object(5)\n",
            "memory usage: 36.6+ MB\n"
          ],
          "name": "stdout"
        }
      ]
    },
    {
      "metadata": {
        "id": "ZG25kMTbini2",
        "colab_type": "code",
        "colab": {
          "base_uri": "https://localhost:8080/",
          "height": 677
        },
        "outputId": "efea270d-fd17-4b4d-a4ce-15c595523abc"
      },
      "cell_type": "code",
      "source": [
        "df.head()"
      ],
      "execution_count": 11,
      "outputs": [
        {
          "output_type": "execute_result",
          "data": {
            "text/html": [
              "<div>\n",
              "<style scoped>\n",
              "    .dataframe tbody tr th:only-of-type {\n",
              "        vertical-align: middle;\n",
              "    }\n",
              "\n",
              "    .dataframe tbody tr th {\n",
              "        vertical-align: top;\n",
              "    }\n",
              "\n",
              "    .dataframe thead th {\n",
              "        text-align: right;\n",
              "    }\n",
              "</style>\n",
              "<table border=\"1\" class=\"dataframe\">\n",
              "  <thead>\n",
              "    <tr style=\"text-align: right;\">\n",
              "      <th></th>\n",
              "      <th>Id</th>\n",
              "      <th>ProductId</th>\n",
              "      <th>UserId</th>\n",
              "      <th>ProfileName</th>\n",
              "      <th>HelpfulnessNumerator</th>\n",
              "      <th>HelpfulnessDenominator</th>\n",
              "      <th>Score</th>\n",
              "      <th>Time</th>\n",
              "      <th>Summary</th>\n",
              "      <th>Text</th>\n",
              "    </tr>\n",
              "  </thead>\n",
              "  <tbody>\n",
              "    <tr>\n",
              "      <th>0</th>\n",
              "      <td>1</td>\n",
              "      <td>B001E4KFG0</td>\n",
              "      <td>A3SGXH7AUHU8GW</td>\n",
              "      <td>delmartian</td>\n",
              "      <td>1</td>\n",
              "      <td>1</td>\n",
              "      <td>positive</td>\n",
              "      <td>1303862400</td>\n",
              "      <td>Good Quality Dog Food</td>\n",
              "      <td>I have bought several of the Vitality canned d...</td>\n",
              "    </tr>\n",
              "    <tr>\n",
              "      <th>1</th>\n",
              "      <td>2</td>\n",
              "      <td>B00813GRG4</td>\n",
              "      <td>A1D87F6ZCVE5NK</td>\n",
              "      <td>dll pa</td>\n",
              "      <td>0</td>\n",
              "      <td>0</td>\n",
              "      <td>negative</td>\n",
              "      <td>1346976000</td>\n",
              "      <td>Not as Advertised</td>\n",
              "      <td>Product arrived labeled as Jumbo Salted Peanut...</td>\n",
              "    </tr>\n",
              "    <tr>\n",
              "      <th>2</th>\n",
              "      <td>3</td>\n",
              "      <td>B000LQOCH0</td>\n",
              "      <td>ABXLMWJIXXAIN</td>\n",
              "      <td>Natalia Corres \"Natalia Corres\"</td>\n",
              "      <td>1</td>\n",
              "      <td>1</td>\n",
              "      <td>positive</td>\n",
              "      <td>1219017600</td>\n",
              "      <td>\"Delight\" says it all</td>\n",
              "      <td>This is a confection that has been around a fe...</td>\n",
              "    </tr>\n",
              "    <tr>\n",
              "      <th>3</th>\n",
              "      <td>4</td>\n",
              "      <td>B000UA0QIQ</td>\n",
              "      <td>A395BORC6FGVXV</td>\n",
              "      <td>Karl</td>\n",
              "      <td>3</td>\n",
              "      <td>3</td>\n",
              "      <td>negative</td>\n",
              "      <td>1307923200</td>\n",
              "      <td>Cough Medicine</td>\n",
              "      <td>If you are looking for the secret ingredient i...</td>\n",
              "    </tr>\n",
              "    <tr>\n",
              "      <th>4</th>\n",
              "      <td>5</td>\n",
              "      <td>B006K2ZZ7K</td>\n",
              "      <td>A1UQRSCLF8GW1T</td>\n",
              "      <td>Michael D. Bigham \"M. Wassir\"</td>\n",
              "      <td>0</td>\n",
              "      <td>0</td>\n",
              "      <td>positive</td>\n",
              "      <td>1350777600</td>\n",
              "      <td>Great taffy</td>\n",
              "      <td>Great taffy at a great price.  There was a wid...</td>\n",
              "    </tr>\n",
              "  </tbody>\n",
              "</table>\n",
              "</div>"
            ],
            "text/plain": [
              "   Id   ProductId          UserId                      ProfileName  \\\n",
              "0   1  B001E4KFG0  A3SGXH7AUHU8GW                       delmartian   \n",
              "1   2  B00813GRG4  A1D87F6ZCVE5NK                           dll pa   \n",
              "2   3  B000LQOCH0   ABXLMWJIXXAIN  Natalia Corres \"Natalia Corres\"   \n",
              "3   4  B000UA0QIQ  A395BORC6FGVXV                             Karl   \n",
              "4   5  B006K2ZZ7K  A1UQRSCLF8GW1T    Michael D. Bigham \"M. Wassir\"   \n",
              "\n",
              "   HelpfulnessNumerator  HelpfulnessDenominator     Score        Time  \\\n",
              "0                     1                       1  positive  1303862400   \n",
              "1                     0                       0  negative  1346976000   \n",
              "2                     1                       1  positive  1219017600   \n",
              "3                     3                       3  negative  1307923200   \n",
              "4                     0                       0  positive  1350777600   \n",
              "\n",
              "                 Summary                                               Text  \n",
              "0  Good Quality Dog Food  I have bought several of the Vitality canned d...  \n",
              "1      Not as Advertised  Product arrived labeled as Jumbo Salted Peanut...  \n",
              "2  \"Delight\" says it all  This is a confection that has been around a fe...  \n",
              "3         Cough Medicine  If you are looking for the secret ingredient i...  \n",
              "4            Great taffy  Great taffy at a great price.  There was a wid...  "
            ]
          },
          "metadata": {
            "tags": []
          },
          "execution_count": 11
        }
      ]
    },
    {
      "metadata": {
        "id": "gfAPNg1qini5",
        "colab_type": "text"
      },
      "cell_type": "markdown",
      "source": [
        "Are there any duplicate rows in the dataset?\n",
        "Inspecting the \"Text\" column, we clearly see there are duplicates."
      ]
    },
    {
      "metadata": {
        "id": "RRzgNzUGini6",
        "colab_type": "code",
        "colab": {
          "base_uri": "https://localhost:8080/",
          "height": 70
        },
        "outputId": "0368ed59-44e1-4661-d5bd-79a821ca7d26"
      },
      "cell_type": "code",
      "source": [
        "df.duplicated('Text').value_counts()"
      ],
      "execution_count": 13,
      "outputs": [
        {
          "output_type": "execute_result",
          "data": {
            "text/plain": [
              "False    363836\n",
              "True     161978\n",
              "dtype: int64"
            ]
          },
          "metadata": {
            "tags": []
          },
          "execution_count": 13
        }
      ]
    },
    {
      "metadata": {
        "id": "_44vhsgkini8",
        "colab_type": "text"
      },
      "cell_type": "markdown",
      "source": [
        "There are also a few anomalies in the data where the HelpfulnessNumerator is greater than the helpfulnessDenominator. \n",
        "\n",
        "* HelpfulnessNumberator = Number of positive reviews\n",
        "* HelpfulnessDenominator = Number of positive reviews + Number of negative reviews\n",
        "\n",
        "Therefore, HelpfulnessDenominator can't be less than HelpfulnessNumerator.  We need to get rid of such erroneous records."
      ]
    },
    {
      "metadata": {
        "id": "Aw_32KTfini9",
        "colab_type": "code",
        "colab": {
          "base_uri": "https://localhost:8080/",
          "height": 332
        },
        "outputId": "a94d9374-cefe-46f6-9aac-e28157765ec8"
      },
      "cell_type": "code",
      "source": [
        "df[df['HelpfulnessNumerator'] > df['HelpfulnessDenominator']]"
      ],
      "execution_count": 12,
      "outputs": [
        {
          "output_type": "execute_result",
          "data": {
            "text/html": [
              "<div>\n",
              "<style scoped>\n",
              "    .dataframe tbody tr th:only-of-type {\n",
              "        vertical-align: middle;\n",
              "    }\n",
              "\n",
              "    .dataframe tbody tr th {\n",
              "        vertical-align: top;\n",
              "    }\n",
              "\n",
              "    .dataframe thead th {\n",
              "        text-align: right;\n",
              "    }\n",
              "</style>\n",
              "<table border=\"1\" class=\"dataframe\">\n",
              "  <thead>\n",
              "    <tr style=\"text-align: right;\">\n",
              "      <th></th>\n",
              "      <th>Id</th>\n",
              "      <th>ProductId</th>\n",
              "      <th>UserId</th>\n",
              "      <th>ProfileName</th>\n",
              "      <th>HelpfulnessNumerator</th>\n",
              "      <th>HelpfulnessDenominator</th>\n",
              "      <th>Score</th>\n",
              "      <th>Time</th>\n",
              "      <th>Summary</th>\n",
              "      <th>Text</th>\n",
              "    </tr>\n",
              "  </thead>\n",
              "  <tbody>\n",
              "    <tr>\n",
              "      <th>41159</th>\n",
              "      <td>44737</td>\n",
              "      <td>B001EQ55RW</td>\n",
              "      <td>A2V0I904FH7ABY</td>\n",
              "      <td>Ram</td>\n",
              "      <td>3</td>\n",
              "      <td>2</td>\n",
              "      <td>positive</td>\n",
              "      <td>1212883200</td>\n",
              "      <td>Pure cocoa taste with crunchy almonds inside</td>\n",
              "      <td>It was almost a 'love at first bite' - the per...</td>\n",
              "    </tr>\n",
              "    <tr>\n",
              "      <th>59301</th>\n",
              "      <td>64422</td>\n",
              "      <td>B000MIDROQ</td>\n",
              "      <td>A161DK06JJMCYF</td>\n",
              "      <td>J. E. Stephens \"Jeanne\"</td>\n",
              "      <td>3</td>\n",
              "      <td>1</td>\n",
              "      <td>positive</td>\n",
              "      <td>1224892800</td>\n",
              "      <td>Bought This for My Son at College</td>\n",
              "      <td>My son loves spaghetti so I didn't hesitate or...</td>\n",
              "    </tr>\n",
              "  </tbody>\n",
              "</table>\n",
              "</div>"
            ],
            "text/plain": [
              "          Id   ProductId          UserId              ProfileName  \\\n",
              "41159  44737  B001EQ55RW  A2V0I904FH7ABY                      Ram   \n",
              "59301  64422  B000MIDROQ  A161DK06JJMCYF  J. E. Stephens \"Jeanne\"   \n",
              "\n",
              "       HelpfulnessNumerator  HelpfulnessDenominator     Score        Time  \\\n",
              "41159                     3                       2  positive  1212883200   \n",
              "59301                     3                       1  positive  1224892800   \n",
              "\n",
              "                                            Summary  \\\n",
              "41159  Pure cocoa taste with crunchy almonds inside   \n",
              "59301             Bought This for My Son at College   \n",
              "\n",
              "                                                    Text  \n",
              "41159  It was almost a 'love at first bite' - the per...  \n",
              "59301  My son loves spaghetti so I didn't hesitate or...  "
            ]
          },
          "metadata": {
            "tags": []
          },
          "execution_count": 12
        }
      ]
    },
    {
      "metadata": {
        "id": "0Rzx1frGinjC",
        "colab_type": "text"
      },
      "cell_type": "markdown",
      "source": [
        "Let's drop these data points using the drop() method given by pandas."
      ]
    },
    {
      "metadata": {
        "id": "ng76k9OCinjD",
        "colab_type": "code",
        "colab": {}
      },
      "cell_type": "code",
      "source": [
        "df.drop(df[df['HelpfulnessNumerator'] > df['HelpfulnessDenominator']].index.tolist(), axis=0, inplace=True)"
      ],
      "execution_count": 0,
      "outputs": []
    },
    {
      "metadata": {
        "id": "yiuKfXWsinjG",
        "colab_type": "text"
      },
      "cell_type": "markdown",
      "source": [
        "Verify whether the rows have been dropped."
      ]
    },
    {
      "metadata": {
        "id": "P7lbO_fOinjG",
        "colab_type": "code",
        "colab": {
          "base_uri": "https://localhost:8080/",
          "height": 48
        },
        "outputId": "1c8f8381-cd58-4647-bfb8-da4027148222"
      },
      "cell_type": "code",
      "source": [
        "df [df['HelpfulnessNumerator'] > df['HelpfulnessDenominator']]"
      ],
      "execution_count": 15,
      "outputs": [
        {
          "output_type": "execute_result",
          "data": {
            "text/html": [
              "<div>\n",
              "<style scoped>\n",
              "    .dataframe tbody tr th:only-of-type {\n",
              "        vertical-align: middle;\n",
              "    }\n",
              "\n",
              "    .dataframe tbody tr th {\n",
              "        vertical-align: top;\n",
              "    }\n",
              "\n",
              "    .dataframe thead th {\n",
              "        text-align: right;\n",
              "    }\n",
              "</style>\n",
              "<table border=\"1\" class=\"dataframe\">\n",
              "  <thead>\n",
              "    <tr style=\"text-align: right;\">\n",
              "      <th></th>\n",
              "      <th>Id</th>\n",
              "      <th>ProductId</th>\n",
              "      <th>UserId</th>\n",
              "      <th>ProfileName</th>\n",
              "      <th>HelpfulnessNumerator</th>\n",
              "      <th>HelpfulnessDenominator</th>\n",
              "      <th>Score</th>\n",
              "      <th>Time</th>\n",
              "      <th>Summary</th>\n",
              "      <th>Text</th>\n",
              "    </tr>\n",
              "  </thead>\n",
              "  <tbody>\n",
              "  </tbody>\n",
              "</table>\n",
              "</div>"
            ],
            "text/plain": [
              "Empty DataFrame\n",
              "Columns: [Id, ProductId, UserId, ProfileName, HelpfulnessNumerator, HelpfulnessDenominator, Score, Time, Summary, Text]\n",
              "Index: []"
            ]
          },
          "metadata": {
            "tags": []
          },
          "execution_count": 15
        }
      ]
    },
    {
      "metadata": {
        "id": "7VGhDo2UinjK",
        "colab_type": "code",
        "colab": {
          "base_uri": "https://localhost:8080/",
          "height": 280
        },
        "outputId": "78db1860-158f-486a-b36b-aa7e395d4501"
      },
      "cell_type": "code",
      "source": [
        "df.info()"
      ],
      "execution_count": 16,
      "outputs": [
        {
          "output_type": "stream",
          "text": [
            "<class 'pandas.core.frame.DataFrame'>\n",
            "Int64Index: 525812 entries, 0 to 525813\n",
            "Data columns (total 10 columns):\n",
            "Id                        525812 non-null int64\n",
            "ProductId                 525812 non-null object\n",
            "UserId                    525812 non-null object\n",
            "ProfileName               525812 non-null object\n",
            "HelpfulnessNumerator      525812 non-null int64\n",
            "HelpfulnessDenominator    525812 non-null int64\n",
            "Score                     525812 non-null category\n",
            "Time                      525812 non-null int64\n",
            "Summary                   525812 non-null object\n",
            "Text                      525812 non-null object\n",
            "dtypes: category(1), int64(4), object(5)\n",
            "memory usage: 40.6+ MB\n"
          ],
          "name": "stdout"
        }
      ]
    },
    {
      "metadata": {
        "id": "0Fcazv0NinjN",
        "colab_type": "text"
      },
      "cell_type": "markdown",
      "source": [
        "Now, let's drop the reviews which have the same data for the attributes:\n",
        "* UserId\n",
        "* ProfileName\n",
        "* Time\n",
        "* Text\n",
        "\n",
        "These are the reviews for same products, duplicated in the dataset because Amazon considers slight variations of the same product to be different products. i.e. A food item with red color would be different than the same item of green color. We need to drop these."
      ]
    },
    {
      "metadata": {
        "id": "NlLbWfcdinjN",
        "colab_type": "code",
        "colab": {}
      },
      "cell_type": "code",
      "source": [
        "df.drop_duplicates(subset={\"UserId\",\"ProfileName\",\"Time\",\"Text\"}, keep = 'first', inplace=True)"
      ],
      "execution_count": 0,
      "outputs": []
    },
    {
      "metadata": {
        "id": "bEicQWJxinjU",
        "colab_type": "code",
        "colab": {
          "base_uri": "https://localhost:8080/",
          "height": 280
        },
        "outputId": "e0e2bf45-c87b-428b-d174-93bad8d9eaf5"
      },
      "cell_type": "code",
      "source": [
        "df.info()"
      ],
      "execution_count": 18,
      "outputs": [
        {
          "output_type": "stream",
          "text": [
            "<class 'pandas.core.frame.DataFrame'>\n",
            "Int64Index: 364171 entries, 0 to 525813\n",
            "Data columns (total 10 columns):\n",
            "Id                        364171 non-null int64\n",
            "ProductId                 364171 non-null object\n",
            "UserId                    364171 non-null object\n",
            "ProfileName               364171 non-null object\n",
            "HelpfulnessNumerator      364171 non-null int64\n",
            "HelpfulnessDenominator    364171 non-null int64\n",
            "Score                     364171 non-null category\n",
            "Time                      364171 non-null int64\n",
            "Summary                   364171 non-null object\n",
            "Text                      364171 non-null object\n",
            "dtypes: category(1), int64(4), object(5)\n",
            "memory usage: 28.1+ MB\n"
          ],
          "name": "stdout"
        }
      ]
    },
    {
      "metadata": {
        "id": "OgyX53wDinjb",
        "colab_type": "text"
      },
      "cell_type": "markdown",
      "source": [
        "Dropping the duplicate significantly reduces the size of our dataframe."
      ]
    },
    {
      "metadata": {
        "id": "-plJI5DGinjb",
        "colab_type": "code",
        "colab": {
          "base_uri": "https://localhost:8080/",
          "height": 34
        },
        "outputId": "3ed474cc-f7e5-43dc-fe1b-cbfed5778f25"
      },
      "cell_type": "code",
      "source": [
        "df.shape"
      ],
      "execution_count": 21,
      "outputs": [
        {
          "output_type": "execute_result",
          "data": {
            "text/plain": [
              "(364171, 10)"
            ]
          },
          "metadata": {
            "tags": []
          },
          "execution_count": 21
        }
      ]
    },
    {
      "metadata": {
        "id": "cSxf4-sNinje",
        "colab_type": "text"
      },
      "cell_type": "markdown",
      "source": [
        "### Text Cleaning"
      ]
    },
    {
      "metadata": {
        "id": "FSjyDhUsinje",
        "colab_type": "text"
      },
      "cell_type": "markdown",
      "source": [
        "Data collected from the web often contains unrendered HTML tags in them. Let's see if our reviews have them. We are only interested in the 'Text' column, because this is the column that will help us decide if a review is positive or negative. "
      ]
    },
    {
      "metadata": {
        "id": "Mj41MjP-injf",
        "colab_type": "code",
        "colab": {}
      },
      "cell_type": "code",
      "source": [
        "import re\n",
        "\n",
        "i=0\n",
        "\n",
        "for review in df['Text'].values:\n",
        "    if (len(re.findall('<.*>', review))):\n",
        "            i+=1\n",
        "            r=review"
      ],
      "execution_count": 0,
      "outputs": []
    },
    {
      "metadata": {
        "id": "dZHaCQW38kGJ",
        "colab_type": "text"
      },
      "cell_type": "markdown",
      "source": [
        "How many reviews contain HTML tags?"
      ]
    },
    {
      "metadata": {
        "id": "mPyIudg5inji",
        "colab_type": "code",
        "colab": {
          "base_uri": "https://localhost:8080/",
          "height": 125
        },
        "outputId": "509a8981-9382-4a42-b544-6a3397af5a13"
      },
      "cell_type": "code",
      "source": [
        "print('Number of reviews which contain HTML tags: {}'.format(i), end='\\n\\n------------------\\n\\n')\n",
        "print('Sample review containing HTML tags: {}'.format(r))"
      ],
      "execution_count": 23,
      "outputs": [
        {
          "output_type": "stream",
          "text": [
            "Number of reviews which contain HTML tags: 93153\n",
            "\n",
            "------------------\n",
            "\n",
            "Sample review containing HTML tags: Hoping there is no MSG in this, this tastes extremely good when i make it with toasted fish. I used to eat fried chicken and other chicken dishes when i was young and had no idea they tasted so good because of this spice mix. Now i know when i remember about the great aroma and lip smacking flavor this imparts to my fish.  This is also good in soups and gives you a kind of addiction that you will want to put this spice mix into everything you eat.<br />Would like to add this will make anyone eat any kind of meat or vegetable, in my case I prefer costly red salmon in a can but pink salmon is so cheaper and now with Five spice pink salmon toast feels as enjoyable as anything else i have eaten.\n"
          ],
          "name": "stdout"
        }
      ]
    },
    {
      "metadata": {
        "id": "fdpPYFlyinjl",
        "colab_type": "text"
      },
      "cell_type": "markdown",
      "source": [
        "Let's import some text processing libraries we need. "
      ]
    },
    {
      "metadata": {
        "id": "XRcR3OgPinjm",
        "colab_type": "code",
        "colab": {}
      },
      "cell_type": "code",
      "source": [
        "import re\n",
        "from nltk.corpus import stopwords\n",
        "from nltk.stem import PorterStemmer\n",
        "from nltk.stem.wordnet import WordNetLemmatizer"
      ],
      "execution_count": 0,
      "outputs": []
    },
    {
      "metadata": {
        "id": "PHTjzGcWinjr",
        "colab_type": "text"
      },
      "cell_type": "markdown",
      "source": [
        "Download the stopwords and wordnet if needed."
      ]
    },
    {
      "metadata": {
        "id": "iCmz7LSZKgoh",
        "colab_type": "code",
        "colab": {}
      },
      "cell_type": "code",
      "source": [
        "nltk.download('stopwords')"
      ],
      "execution_count": 0,
      "outputs": []
    },
    {
      "metadata": {
        "id": "e7qRqrxZaVGX",
        "colab_type": "code",
        "colab": {}
      },
      "cell_type": "code",
      "source": [
        "nltk.download('wordnet')"
      ],
      "execution_count": 0,
      "outputs": []
    },
    {
      "metadata": {
        "id": "fJqSERlhaCTa",
        "colab_type": "text"
      },
      "cell_type": "markdown",
      "source": [
        "Let's define a couple of handy functions to clean the data and the stemmer."
      ]
    },
    {
      "metadata": {
        "id": "aXzBf17Yinjs",
        "colab_type": "code",
        "colab": {}
      },
      "cell_type": "code",
      "source": [
        "stop_words = set(stopwords.words('english'))\n",
        "porter = PorterStemmer()\n",
        "lemma = WordNetLemmatizer()\n",
        "\n",
        "def clean_html(sentence, compiled_regex):\n",
        "    cleaned_sentence = re.sub(compiled_regex, ' ', sentence)\n",
        "    return cleaned_sentence\n",
        "\n",
        "def clean_punctuation(sentence):\n",
        "    cleaned_sentence = re.sub(r'[?|!|\\'|\"|#]', r'', sentence)\n",
        "    cleaned_sentence = re.sub(r'[.|,|)|(|\\|/]', r' ', cleaned_sentence)\n",
        "    return cleaned_sentence"
      ],
      "execution_count": 0,
      "outputs": []
    },
    {
      "metadata": {
        "id": "qEPL9mQhinjv",
        "colab_type": "code",
        "colab": {
          "base_uri": "https://localhost:8080/",
          "height": 142
        },
        "outputId": "7e838b5a-73a8-42db-9a0b-6bdd08b01e20"
      },
      "cell_type": "code",
      "source": [
        "print(stop_words, end='\\n\\n-------------------------\\n\\n')\n",
        "print('Stemmed form of \"Goodness\" is: {}'.format(porter.stem('Goodness')))\n",
        "print('Lemmatized form of \"Goodness\" is: {}'.format(lemma.lemmatize('Goodness')))"
      ],
      "execution_count": 29,
      "outputs": [
        {
          "output_type": "stream",
          "text": [
            "{'doesn', 'and', 'same', 'mustn', 'an', 'where', 'than', 'so', \"wouldn't\", 'we', 'who', 'am', 'there', 're', 'been', 'off', 'once', 'you', 'here', 'when', 'don', \"you'd\", 'them', \"don't\", 'what', 'did', 'doing', 'yourselves', 'haven', 'herself', 'while', 'hers', 'him', 'will', 'ma', 'didn', 'having', \"didn't\", 'are', \"hasn't\", \"weren't\", \"mustn't\", 'himself', 'was', 'these', \"wasn't\", 'some', 'theirs', 'me', 'yourself', 'can', 'of', 'into', 'from', 'for', \"aren't\", 'after', \"isn't\", 'through', 'most', \"needn't\", 'weren', 'have', 'not', 'no', 'both', 'because', 'wouldn', \"shouldn't\", 'down', 'yours', \"she's\", 'ain', 'my', 'by', 'each', 'wasn', 'your', 'being', 'up', 'during', 'other', 'they', 'then', 'ourselves', \"you've\", 'about', 'over', \"should've\", 'needn', 'do', \"couldn't\", 'won', 'out', 'to', 'those', 't', 'but', 'until', 'm', 'itself', 'under', 'shouldn', 'any', 'own', \"hadn't\", 'his', 'that', 'or', 'y', 'against', 'her', 'this', 'had', 'is', 'd', 'it', 'now', 'below', 'why', 'in', 'll', 'how', 'myself', 'the', 'whom', 'few', 'hasn', 'their', 'she', 'were', 'all', 'such', 'should', 'which', 'couldn', 'isn', 'a', 'nor', 'has', 'on', \"mightn't\", 'ours', 'at', 'just', 's', 'before', 'again', 'further', 'if', \"you'll\", \"doesn't\", 'shan', \"that'll\", 'with', 'between', 'above', 'its', 'aren', \"shan't\", \"you're\", 'does', 'too', \"won't\", 'themselves', 'hadn', 'mightn', 'very', 'he', \"it's\", 'our', 've', 'only', 'as', 'o', 'more', 'i', 'be', \"haven't\"}\n",
            "\n",
            "-------------------------\n",
            "\n",
            "Stemmed form of \"Goodness\" is: good\n",
            "Lemmatized form of \"Goodness\" is: Goodness\n"
          ],
          "name": "stdout"
        }
      ]
    },
    {
      "metadata": {
        "id": "88vgD39-inj4",
        "colab_type": "text"
      },
      "cell_type": "markdown",
      "source": [
        "Let's clean the reviews using the functions defined above."
      ]
    },
    {
      "metadata": {
        "id": "LdggYjXKinj4",
        "colab_type": "code",
        "colab": {}
      },
      "cell_type": "code",
      "source": [
        "#Code for implementing step-by-step the checks mentioned in the pre-processing phase\n",
        "# this code takes a while to run as it needs to run on 500k sentences.\n",
        "i=0\n",
        "str1=' '\n",
        "final_string=[]\n",
        "\n",
        "all_positive_words=[] # store words from +ve reviews here\n",
        "all_negative_words=[] # store words from -ve reviews here.\n",
        "\n",
        "s=''\n",
        "\n",
        "regex_html=re.compile('<.*?>')\n",
        "\n",
        "for review in df['Text'].values:\n",
        "    filtered_sentence=[]\n",
        "    #print(sent);\n",
        "    review=clean_html(review, regex_html) # remove HTMl tags\n",
        "    for w in review.split():\n",
        "        for cleaned_words in clean_punctuation(w).split():\n",
        "            if((cleaned_words.isalpha()) & (len(cleaned_words)>2)):    \n",
        "                if(cleaned_words.lower() not in stop_words):\n",
        "                    s = (porter.stem(cleaned_words.lower())).encode('utf8')\n",
        "                    filtered_sentence.append(s)\n",
        "                    if (df['Score'].values)[i] == 'positive': \n",
        "                        all_positive_words.append(s) #list of all words used to describe positive reviews\n",
        "                    if(df['Score'].values)[i] == 'negative':\n",
        "                        all_negative_words.append(s) #list of all words used to describe negative reviews reviews\n",
        "                else:\n",
        "                    continue\n",
        "            else:\n",
        "                continue \n",
        "    #print(filtered_sentence)\n",
        "    str1 = b\" \".join(filtered_sentence) #final string of cleaned words\n",
        "    #print(\"***********************************************************************\")\n",
        "    \n",
        "    final_string.append(str1)\n",
        "    i+=1\n",
        "\n",
        "df['cleaned_text']=final_string #adding a column of CleanedText which displays the data after pre-processing of the review "
      ],
      "execution_count": 0,
      "outputs": []
    },
    {
      "metadata": {
        "id": "tz-we1Nw9QAf",
        "colab_type": "text"
      },
      "cell_type": "markdown",
      "source": [
        "The column \"cleaned_text\" contains the cleaned reviews."
      ]
    },
    {
      "metadata": {
        "id": "Ipfz7pPKinj7",
        "colab_type": "code",
        "colab": {
          "base_uri": "https://localhost:8080/",
          "height": 677
        },
        "outputId": "478c54ec-4c40-4523-f131-f0e8c8570661"
      },
      "cell_type": "code",
      "source": [
        "df.head()"
      ],
      "execution_count": 31,
      "outputs": [
        {
          "output_type": "execute_result",
          "data": {
            "text/html": [
              "<div>\n",
              "<style scoped>\n",
              "    .dataframe tbody tr th:only-of-type {\n",
              "        vertical-align: middle;\n",
              "    }\n",
              "\n",
              "    .dataframe tbody tr th {\n",
              "        vertical-align: top;\n",
              "    }\n",
              "\n",
              "    .dataframe thead th {\n",
              "        text-align: right;\n",
              "    }\n",
              "</style>\n",
              "<table border=\"1\" class=\"dataframe\">\n",
              "  <thead>\n",
              "    <tr style=\"text-align: right;\">\n",
              "      <th></th>\n",
              "      <th>Id</th>\n",
              "      <th>ProductId</th>\n",
              "      <th>UserId</th>\n",
              "      <th>ProfileName</th>\n",
              "      <th>HelpfulnessNumerator</th>\n",
              "      <th>HelpfulnessDenominator</th>\n",
              "      <th>Score</th>\n",
              "      <th>Time</th>\n",
              "      <th>Summary</th>\n",
              "      <th>Text</th>\n",
              "      <th>cleaned_text</th>\n",
              "    </tr>\n",
              "  </thead>\n",
              "  <tbody>\n",
              "    <tr>\n",
              "      <th>0</th>\n",
              "      <td>1</td>\n",
              "      <td>B001E4KFG0</td>\n",
              "      <td>A3SGXH7AUHU8GW</td>\n",
              "      <td>delmartian</td>\n",
              "      <td>1</td>\n",
              "      <td>1</td>\n",
              "      <td>positive</td>\n",
              "      <td>1303862400</td>\n",
              "      <td>Good Quality Dog Food</td>\n",
              "      <td>I have bought several of the Vitality canned d...</td>\n",
              "      <td>b'bought sever vital can dog food product foun...</td>\n",
              "    </tr>\n",
              "    <tr>\n",
              "      <th>1</th>\n",
              "      <td>2</td>\n",
              "      <td>B00813GRG4</td>\n",
              "      <td>A1D87F6ZCVE5NK</td>\n",
              "      <td>dll pa</td>\n",
              "      <td>0</td>\n",
              "      <td>0</td>\n",
              "      <td>negative</td>\n",
              "      <td>1346976000</td>\n",
              "      <td>Not as Advertised</td>\n",
              "      <td>Product arrived labeled as Jumbo Salted Peanut...</td>\n",
              "      <td>b'product arriv label jumbo salt peanut peanut...</td>\n",
              "    </tr>\n",
              "    <tr>\n",
              "      <th>2</th>\n",
              "      <td>3</td>\n",
              "      <td>B000LQOCH0</td>\n",
              "      <td>ABXLMWJIXXAIN</td>\n",
              "      <td>Natalia Corres \"Natalia Corres\"</td>\n",
              "      <td>1</td>\n",
              "      <td>1</td>\n",
              "      <td>positive</td>\n",
              "      <td>1219017600</td>\n",
              "      <td>\"Delight\" says it all</td>\n",
              "      <td>This is a confection that has been around a fe...</td>\n",
              "      <td>b'confect around centuri light pillowi citru g...</td>\n",
              "    </tr>\n",
              "    <tr>\n",
              "      <th>3</th>\n",
              "      <td>4</td>\n",
              "      <td>B000UA0QIQ</td>\n",
              "      <td>A395BORC6FGVXV</td>\n",
              "      <td>Karl</td>\n",
              "      <td>3</td>\n",
              "      <td>3</td>\n",
              "      <td>negative</td>\n",
              "      <td>1307923200</td>\n",
              "      <td>Cough Medicine</td>\n",
              "      <td>If you are looking for the secret ingredient i...</td>\n",
              "      <td>b'look secret ingredi robitussin believ found ...</td>\n",
              "    </tr>\n",
              "    <tr>\n",
              "      <th>4</th>\n",
              "      <td>5</td>\n",
              "      <td>B006K2ZZ7K</td>\n",
              "      <td>A1UQRSCLF8GW1T</td>\n",
              "      <td>Michael D. Bigham \"M. Wassir\"</td>\n",
              "      <td>0</td>\n",
              "      <td>0</td>\n",
              "      <td>positive</td>\n",
              "      <td>1350777600</td>\n",
              "      <td>Great taffy</td>\n",
              "      <td>Great taffy at a great price.  There was a wid...</td>\n",
              "      <td>b'great taffi great price wide assort yummi ta...</td>\n",
              "    </tr>\n",
              "  </tbody>\n",
              "</table>\n",
              "</div>"
            ],
            "text/plain": [
              "   Id   ProductId          UserId                      ProfileName  \\\n",
              "0   1  B001E4KFG0  A3SGXH7AUHU8GW                       delmartian   \n",
              "1   2  B00813GRG4  A1D87F6ZCVE5NK                           dll pa   \n",
              "2   3  B000LQOCH0   ABXLMWJIXXAIN  Natalia Corres \"Natalia Corres\"   \n",
              "3   4  B000UA0QIQ  A395BORC6FGVXV                             Karl   \n",
              "4   5  B006K2ZZ7K  A1UQRSCLF8GW1T    Michael D. Bigham \"M. Wassir\"   \n",
              "\n",
              "   HelpfulnessNumerator  HelpfulnessDenominator     Score        Time  \\\n",
              "0                     1                       1  positive  1303862400   \n",
              "1                     0                       0  negative  1346976000   \n",
              "2                     1                       1  positive  1219017600   \n",
              "3                     3                       3  negative  1307923200   \n",
              "4                     0                       0  positive  1350777600   \n",
              "\n",
              "                 Summary                                               Text  \\\n",
              "0  Good Quality Dog Food  I have bought several of the Vitality canned d...   \n",
              "1      Not as Advertised  Product arrived labeled as Jumbo Salted Peanut...   \n",
              "2  \"Delight\" says it all  This is a confection that has been around a fe...   \n",
              "3         Cough Medicine  If you are looking for the secret ingredient i...   \n",
              "4            Great taffy  Great taffy at a great price.  There was a wid...   \n",
              "\n",
              "                                        cleaned_text  \n",
              "0  b'bought sever vital can dog food product foun...  \n",
              "1  b'product arriv label jumbo salt peanut peanut...  \n",
              "2  b'confect around centuri light pillowi citru g...  \n",
              "3  b'look secret ingredi robitussin believ found ...  \n",
              "4  b'great taffi great price wide assort yummi ta...  "
            ]
          },
          "metadata": {
            "tags": []
          },
          "execution_count": 31
        }
      ]
    },
    {
      "metadata": {
        "id": "w3td8A51eHY1",
        "colab_type": "text"
      },
      "cell_type": "markdown",
      "source": [
        "Considering how long it takes for a modest computer to run the above code for cleaning data, it's a good idea to store it  on disk for future use. The entire dataframe along with the newly created column \"cleaned_data\" is stored."
      ]
    },
    {
      "metadata": {
        "id": "TrsRZgJpKRjn",
        "colab_type": "code",
        "colab": {}
      },
      "cell_type": "code",
      "source": [
        "# #Save final cleaned dataframe to the drive.\n",
        "# conn = sqlite3.connect('/gdrive/My Drive/amazon/reviews_cleaned_final.sqlite')\n",
        "# df.to_sql('Reviews', conn)\n",
        "# conn.close()"
      ],
      "execution_count": 0,
      "outputs": []
    },
    {
      "metadata": {
        "id": "dqWMpl5beTGI",
        "colab_type": "text"
      },
      "cell_type": "markdown",
      "source": [
        "If the environment was disconnected, load the cleaned dataframe."
      ]
    },
    {
      "metadata": {
        "id": "actjv9OTrEkq",
        "colab_type": "code",
        "colab": {}
      },
      "cell_type": "code",
      "source": [
        "# conn = sqlite3.connect('/gdrive/My Drive/amazon/reviews_cleaned_final.sqlite')\n",
        "# df = pd.read_sql('select * from Reviews;', conn, index_col='index')\n",
        "# conn.close()\n",
        "# df.head()"
      ],
      "execution_count": 0,
      "outputs": []
    },
    {
      "metadata": {
        "id": "g3rrehYXinkF",
        "colab_type": "text"
      },
      "cell_type": "markdown",
      "source": [
        "### Bag of words\n",
        "\n",
        "Let's vectorize the data using the simplest method first: BoW\n",
        "\n",
        "There is class imbalance in our original dataset. The positive reviews are far more than the negative ones. Let's take 1500 positive and 1500 negative samples."
      ]
    },
    {
      "metadata": {
        "id": "SmImioWlinkG",
        "colab_type": "code",
        "colab": {}
      },
      "cell_type": "code",
      "source": [
        "n = df['Score'] == 'negative'\n",
        "p = df['Score'] == 'positive'\n",
        "#df_n = df[df['Score']]\n",
        "df_n = df[n][['cleaned_text','Score']][:1500]\n",
        "df_p = df[p][['cleaned_text', 'Score']][:1500]\n",
        "\n",
        "df_np = pd.concat([df_n, df_p])"
      ],
      "execution_count": 0,
      "outputs": []
    },
    {
      "metadata": {
        "id": "AvODyF_xxI8J",
        "colab_type": "text"
      },
      "cell_type": "markdown",
      "source": [
        "Initialize the CountVectorizer class which creates a Bag of Words representation. "
      ]
    },
    {
      "metadata": {
        "id": "699qDuNIinkI",
        "colab_type": "code",
        "colab": {}
      },
      "cell_type": "code",
      "source": [
        "count_vec = CountVectorizer()\n",
        "final_counts = count_vec.fit_transform(df_np['cleaned_text'].values)"
      ],
      "execution_count": 0,
      "outputs": []
    },
    {
      "metadata": {
        "id": "werUYy4V98Wm",
        "colab_type": "text"
      },
      "cell_type": "markdown",
      "source": [
        "Type of the returned object."
      ]
    },
    {
      "metadata": {
        "id": "I6Wm8_ysinkK",
        "colab_type": "code",
        "colab": {
          "base_uri": "https://localhost:8080/",
          "height": 70
        },
        "outputId": "6e08b07f-2a4a-41bc-ad46-9a009e7afa6d"
      },
      "cell_type": "code",
      "source": [
        "print('The type of final_counts is {}'.format(type(final_counts)))\n",
        "print('The shape of the matrix is {}'.format(final_counts.get_shape))"
      ],
      "execution_count": 36,
      "outputs": [
        {
          "output_type": "stream",
          "text": [
            "The type of final_counts is <class 'scipy.sparse.csr.csr_matrix'>\n",
            "The shape of the matrix is <bound method spmatrix.get_shape of <3000x7207 sparse matrix of type '<class 'numpy.int64'>'\n",
            "\twith 93620 stored elements in Compressed Sparse Row format>>\n"
          ],
          "name": "stdout"
        }
      ]
    },
    {
      "metadata": {
        "id": "okMW5PTAypHW",
        "colab_type": "text"
      },
      "cell_type": "markdown",
      "source": [
        "Convert the sparse matrix of Bag of Words model to a numpy array."
      ]
    },
    {
      "metadata": {
        "id": "CqUBtFRginkQ",
        "colab_type": "code",
        "colab": {}
      },
      "cell_type": "code",
      "source": [
        "review_vector_3k = final_counts.toarray()"
      ],
      "execution_count": 0,
      "outputs": []
    },
    {
      "metadata": {
        "id": "UOHOSn7vy2uC",
        "colab_type": "text"
      },
      "cell_type": "markdown",
      "source": [
        "Before applying t-SNE, it's necessary that we standardize our data. "
      ]
    },
    {
      "metadata": {
        "id": "mhMDZPwpinkR",
        "colab_type": "code",
        "colab": {
          "base_uri": "https://localhost:8080/",
          "height": 72
        },
        "outputId": "23edfe65-e0c1-4304-c615-34ce0628c763"
      },
      "cell_type": "code",
      "source": [
        "from sklearn.preprocessing import StandardScaler\n",
        "scaler = StandardScaler()\n",
        "X_scaled = scaler.fit_transform(review_vector_3k)"
      ],
      "execution_count": 38,
      "outputs": [
        {
          "output_type": "stream",
          "text": [
            "/usr/local/lib/python3.6/dist-packages/sklearn/utils/validation.py:475: DataConversionWarning: Data with input dtype int64 was converted to float64 by StandardScaler.\n",
            "  warnings.warn(msg, DataConversionWarning)\n"
          ],
          "name": "stderr"
        }
      ]
    },
    {
      "metadata": {
        "id": "LVnXXNeNgky9",
        "colab_type": "text"
      },
      "cell_type": "markdown",
      "source": [
        "Let's see the shape of of standardized data of BoW representation. It contains 3000 rows for 3000 reviews and 7207 dimensions."
      ]
    },
    {
      "metadata": {
        "id": "5lnc-DpLgifE",
        "colab_type": "code",
        "colab": {
          "base_uri": "https://localhost:8080/",
          "height": 34
        },
        "outputId": "34676160-a4c6-4ab1-d17b-0f0023bd854b"
      },
      "cell_type": "code",
      "source": [
        "X_scaled.shape"
      ],
      "execution_count": 39,
      "outputs": [
        {
          "output_type": "execute_result",
          "data": {
            "text/plain": [
              "(3000, 7207)"
            ]
          },
          "metadata": {
            "tags": []
          },
          "execution_count": 39
        }
      ]
    },
    {
      "metadata": {
        "id": "954Oo3P--a6L",
        "colab_type": "text"
      },
      "cell_type": "markdown",
      "source": [
        "Now apply t-SNE"
      ]
    },
    {
      "metadata": {
        "id": "8AxVvRCSinkT",
        "colab_type": "code",
        "colab": {}
      },
      "cell_type": "code",
      "source": [
        "from sklearn.manifold import TSNE\n",
        "\n",
        "tsne = TSNE(n_components=2, random_state=7, perplexity=40, early_exaggeration = 18, learning_rate = 250, method='exact')\n",
        "\n",
        "review_vector_3k_tsne = tsne.fit_transform(X_scaled)"
      ],
      "execution_count": 0,
      "outputs": []
    },
    {
      "metadata": {
        "id": "WRwgnj6giwCs",
        "colab_type": "text"
      },
      "cell_type": "markdown",
      "source": [
        "Let's see the shape of the array after reducing the dimensions with t-SNE. It should be 3000 x 2."
      ]
    },
    {
      "metadata": {
        "id": "HMj2nGlPinkU",
        "colab_type": "code",
        "colab": {
          "base_uri": "https://localhost:8080/",
          "height": 157
        },
        "outputId": "3043ccc0-8d41-4216-e519-b0cef247a8f8"
      },
      "cell_type": "code",
      "source": [
        "print(review_vector_3k_tsne.shape)\n",
        "print(review_vector_3k_tsne)"
      ],
      "execution_count": 42,
      "outputs": [
        {
          "output_type": "stream",
          "text": [
            "(3000, 2)\n",
            "[[  2.217929   -16.504608  ]\n",
            " [-39.40018     -1.17793   ]\n",
            " [ 10.396667   -11.995523  ]\n",
            " ...\n",
            " [  2.3932097   -0.36999798]\n",
            " [  1.7725201   -1.1499448 ]\n",
            " [  3.6150823   -1.3117751 ]]\n"
          ],
          "name": "stdout"
        }
      ]
    },
    {
      "metadata": {
        "id": "0l4dBrGTinkW",
        "colab_type": "text"
      },
      "cell_type": "markdown",
      "source": [
        "This model took an hour to run. It's a good idea to store it on disk for later use."
      ]
    },
    {
      "metadata": {
        "id": "n6jUh1qXinkX",
        "colab_type": "code",
        "colab": {}
      },
      "cell_type": "code",
      "source": [
        "import pickle\n",
        "pickle_file = open('/gdrive/My Drive/amazon/pickled_3k_reviews_tsne_bow.pkl', 'wb')\n",
        "pickle.dump(review_vector_3k_tsne, pickle_file)\n",
        "pickle_file.close()"
      ],
      "execution_count": 0,
      "outputs": []
    },
    {
      "metadata": {
        "id": "0-aIhGdxjmGM",
        "colab_type": "text"
      },
      "cell_type": "markdown",
      "source": [
        "Construct a dataframe to help visualize the t-SNE result."
      ]
    },
    {
      "metadata": {
        "id": "T39yv_ovinkb",
        "colab_type": "code",
        "colab": {}
      },
      "cell_type": "code",
      "source": [
        "bow_tsne_3k_array = np.vstack((review_vector_3k_tsne.T, df_np['Score'])).T\n",
        "df_bow_tsne_3k = pd.DataFrame(bow_tsne_3k_array, columns=['First Dimension', 'Second Dimension', 'Label'])"
      ],
      "execution_count": 0,
      "outputs": []
    },
    {
      "metadata": {
        "id": "JTarAow0-x0F",
        "colab_type": "text"
      },
      "cell_type": "markdown",
      "source": [
        "The following dataframe contains the new dimensions that were created by t-SNE. The original dimensions are lost."
      ]
    },
    {
      "metadata": {
        "id": "xtKJblOxinke",
        "colab_type": "code",
        "colab": {
          "base_uri": "https://localhost:8080/",
          "height": 199
        },
        "outputId": "187ba7fa-f6ff-4e14-f86a-07b94309f62e"
      },
      "cell_type": "code",
      "source": [
        "df_bow_tsne_3k.head()"
      ],
      "execution_count": 46,
      "outputs": [
        {
          "output_type": "execute_result",
          "data": {
            "text/html": [
              "<div>\n",
              "<style scoped>\n",
              "    .dataframe tbody tr th:only-of-type {\n",
              "        vertical-align: middle;\n",
              "    }\n",
              "\n",
              "    .dataframe tbody tr th {\n",
              "        vertical-align: top;\n",
              "    }\n",
              "\n",
              "    .dataframe thead th {\n",
              "        text-align: right;\n",
              "    }\n",
              "</style>\n",
              "<table border=\"1\" class=\"dataframe\">\n",
              "  <thead>\n",
              "    <tr style=\"text-align: right;\">\n",
              "      <th></th>\n",
              "      <th>First Dimension</th>\n",
              "      <th>Second Dimension</th>\n",
              "      <th>Label</th>\n",
              "    </tr>\n",
              "  </thead>\n",
              "  <tbody>\n",
              "    <tr>\n",
              "      <th>0</th>\n",
              "      <td>2.21793</td>\n",
              "      <td>-16.5046</td>\n",
              "      <td>negative</td>\n",
              "    </tr>\n",
              "    <tr>\n",
              "      <th>1</th>\n",
              "      <td>-39.4002</td>\n",
              "      <td>-1.17793</td>\n",
              "      <td>negative</td>\n",
              "    </tr>\n",
              "    <tr>\n",
              "      <th>2</th>\n",
              "      <td>10.3967</td>\n",
              "      <td>-11.9955</td>\n",
              "      <td>negative</td>\n",
              "    </tr>\n",
              "    <tr>\n",
              "      <th>3</th>\n",
              "      <td>14.2149</td>\n",
              "      <td>11.5484</td>\n",
              "      <td>negative</td>\n",
              "    </tr>\n",
              "    <tr>\n",
              "      <th>4</th>\n",
              "      <td>2.00719</td>\n",
              "      <td>-1.64662</td>\n",
              "      <td>negative</td>\n",
              "    </tr>\n",
              "  </tbody>\n",
              "</table>\n",
              "</div>"
            ],
            "text/plain": [
              "  First Dimension Second Dimension     Label\n",
              "0         2.21793         -16.5046  negative\n",
              "1        -39.4002         -1.17793  negative\n",
              "2         10.3967         -11.9955  negative\n",
              "3         14.2149          11.5484  negative\n",
              "4         2.00719         -1.64662  negative"
            ]
          },
          "metadata": {
            "tags": []
          },
          "execution_count": 46
        }
      ]
    },
    {
      "metadata": {
        "id": "aSP7VuFG-_MS",
        "colab_type": "text"
      },
      "cell_type": "markdown",
      "source": [
        "Display a scatter plot."
      ]
    },
    {
      "metadata": {
        "id": "UhcdpRBhinkg",
        "colab_type": "code",
        "colab": {
          "base_uri": "https://localhost:8080/",
          "height": 441
        },
        "outputId": "8d0b68dc-b767-4553-842b-d5117c5aa046"
      },
      "cell_type": "code",
      "source": [
        "sbn.FacetGrid(df_bow_tsne_3k, hue=\"Label\", size=6).map(plt.scatter, 'First Dimension', 'Second Dimension').add_legend()\n",
        "plt.show()"
      ],
      "execution_count": 47,
      "outputs": [
        {
          "output_type": "display_data",
          "data": {
            "image/png": "[encoded data removed]",
            "text/plain": [
              "<matplotlib.figure.Figure at 0x7fcf6e6b7278>"
            ]
          },
          "metadata": {
            "tags": []
          }
        }
      ]
    },
    {
      "metadata": {
        "id": "oDSpF9A6_D05",
        "colab_type": "text"
      },
      "cell_type": "markdown",
      "source": [
        "The above scatter plot doesn't make any sense. The positive and negative reviews are almost perfectly overlapped. \n",
        "\n",
        "This suggests that the Bag of Words model isn't really good at distinguishing between the two types of reviews."
      ]
    },
    {
      "metadata": {
        "id": "CyPrnooHinki",
        "colab_type": "text"
      },
      "cell_type": "markdown",
      "source": [
        "### BoW Bigrams \n",
        "\n",
        "This is an extension to the previous model. We consider bi-grams here instead of uni-grams.\n",
        "\n",
        "First, let's create lists of positive and negative words."
      ]
    },
    {
      "metadata": {
        "id": "PtxmxMa4inki",
        "colab_type": "code",
        "colab": {}
      },
      "cell_type": "code",
      "source": [
        "all_positive_words = []\n",
        "\n",
        "for w in df_p['cleaned_text']:\n",
        "    all_positive_words.extend(w.split())\n",
        "#all_positive_words\n",
        "\n",
        "all_negative_words = []\n",
        "\n",
        "for w in df_n['cleaned_text']:\n",
        "    all_negative_words.extend(w.split())\n",
        "#all_negative_words"
      ],
      "execution_count": 0,
      "outputs": []
    },
    {
      "metadata": {
        "id": "fmoo8C31AYSJ",
        "colab_type": "text"
      },
      "cell_type": "markdown",
      "source": [
        "Most used words in positive and negative reviews. "
      ]
    },
    {
      "metadata": {
        "id": "dWdBZVU3inkk",
        "colab_type": "code",
        "colab": {
          "base_uri": "https://localhost:8080/",
          "height": 72
        },
        "outputId": "5af6aaa8-9abe-4f22-edcc-de852c3536fb"
      },
      "cell_type": "code",
      "source": [
        "freq_dist_positive = nltk.FreqDist(all_positive_words)\n",
        "print('Most common positive words: {}'.format(freq_dist_positive.most_common(10)))\n",
        "\n",
        "freq_dist_negative = nltk.FreqDist(all_negative_words)\n",
        "print('Most common negative words: {}'.format(freq_dist_negative.most_common(10)))"
      ],
      "execution_count": 49,
      "outputs": [
        {
          "output_type": "stream",
          "text": [
            "Most common positive words: [(b'chip', 907), (b'flavor', 728), (b'like', 648), (b'love', 582), (b'great', 567), (b'tast', 552), (b'good', 549), (b'bag', 458), (b'use', 405), (b'one', 404)]\n",
            "Most common negative words: [(b'tast', 881), (b'like', 847), (b'product', 718), (b'flavor', 551), (b'one', 517), (b'tri', 508), (b'would', 486), (b'use', 417), (b'coffe', 408), (b'good', 389)]\n"
          ],
          "name": "stdout"
        }
      ]
    },
    {
      "metadata": {
        "id": "xvItnhqqinky",
        "colab_type": "code",
        "colab": {}
      },
      "cell_type": "code",
      "source": [
        "#  Bi-grams\n",
        "count_vec = CountVectorizer(ngram_range=(1,2))\n",
        "bigrams = count_vec.fit_transform(df_np['cleaned_text'].values)"
      ],
      "execution_count": 0,
      "outputs": []
    },
    {
      "metadata": {
        "id": "rsyVdprsAwwL",
        "colab_type": "text"
      },
      "cell_type": "markdown",
      "source": [
        "The number of bigrams is far more than the unigrams."
      ]
    },
    {
      "metadata": {
        "id": "MoRy-16Kink0",
        "colab_type": "code",
        "colab": {
          "base_uri": "https://localhost:8080/",
          "height": 34
        },
        "outputId": "fa716f6d-3235-47be-c6c7-49ed0e37cebf"
      },
      "cell_type": "code",
      "source": [
        "bigrams.shape"
      ],
      "execution_count": 53,
      "outputs": [
        {
          "output_type": "execute_result",
          "data": {
            "text/plain": [
              "(3000, 86158)"
            ]
          },
          "metadata": {
            "tags": []
          },
          "execution_count": 53
        }
      ]
    },
    {
      "metadata": {
        "id": "czCQ5E92ink2",
        "colab_type": "code",
        "colab": {
          "base_uri": "https://localhost:8080/",
          "height": 52
        },
        "outputId": "f05de970-af64-449c-a3b8-07a26606c652"
      },
      "cell_type": "code",
      "source": [
        "bigrams"
      ],
      "execution_count": 54,
      "outputs": [
        {
          "output_type": "execute_result",
          "data": {
            "text/plain": [
              "<3000x86158 sparse matrix of type '<class 'numpy.int64'>'\n",
              "\twith 202526 stored elements in Compressed Sparse Row format>"
            ]
          },
          "metadata": {
            "tags": []
          },
          "execution_count": 54
        }
      ]
    },
    {
      "metadata": {
        "id": "9YsF_VfHA4vy",
        "colab_type": "text"
      },
      "cell_type": "markdown",
      "source": [
        "Convert the sparse matrix to a dense numpy matrix."
      ]
    },
    {
      "metadata": {
        "id": "dZDWVu00ink4",
        "colab_type": "code",
        "colab": {}
      },
      "cell_type": "code",
      "source": [
        "review_vector_3k = bigrams.toarray()"
      ],
      "execution_count": 0,
      "outputs": []
    },
    {
      "metadata": {
        "id": "I82oRNdGink7",
        "colab_type": "code",
        "colab": {
          "base_uri": "https://localhost:8080/",
          "height": 34
        },
        "outputId": "bc1248b9-1131-4358-d7cd-905f22ed0e8d"
      },
      "cell_type": "code",
      "source": [
        "review_vector_3k.shape"
      ],
      "execution_count": 57,
      "outputs": [
        {
          "output_type": "execute_result",
          "data": {
            "text/plain": [
              "(3000, 86158)"
            ]
          },
          "metadata": {
            "tags": []
          },
          "execution_count": 57
        }
      ]
    },
    {
      "metadata": {
        "id": "XdglJQYLBH66",
        "colab_type": "text"
      },
      "cell_type": "markdown",
      "source": [
        "Standardize the data"
      ]
    },
    {
      "metadata": {
        "id": "cxivDB87-wrk",
        "colab_type": "code",
        "colab": {
          "base_uri": "https://localhost:8080/",
          "height": 72
        },
        "outputId": "54834049-9a33-4f70-829e-05ad3afb87d2"
      },
      "cell_type": "code",
      "source": [
        "from sklearn.preprocessing import StandardScaler\n",
        "\n",
        "scaler = StandardScaler()\n",
        "\n",
        "X_scaled = scaler.fit_transform(review_vector_3k)"
      ],
      "execution_count": 59,
      "outputs": [
        {
          "output_type": "stream",
          "text": [
            "/usr/local/lib/python3.6/dist-packages/sklearn/utils/validation.py:475: DataConversionWarning: Data with input dtype int64 was converted to float64 by StandardScaler.\n",
            "  warnings.warn(msg, DataConversionWarning)\n"
          ],
          "name": "stderr"
        }
      ]
    },
    {
      "metadata": {
        "id": "G58jK7qrQ3bF",
        "colab_type": "text"
      },
      "cell_type": "markdown",
      "source": [
        "At this point, memory is about to run out so let's store the variable on Google drive."
      ]
    },
    {
      "metadata": {
        "id": "soDtyiDvRAE6",
        "colab_type": "code",
        "colab": {}
      },
      "cell_type": "code",
      "source": [
        "# import pickle\n",
        "# pickle_file = open('/gdrive/My Drive/amazon/X_scaled_standardized_3k_bigram_bow_nparray.pkl', 'wb')\n",
        "# pickle.dump(X_scaled, pickle_file)\n",
        "# pickle_file.close()"
      ],
      "execution_count": 0,
      "outputs": []
    },
    {
      "metadata": {
        "id": "X4xoZLdNr1ws",
        "colab_type": "text"
      },
      "cell_type": "markdown",
      "source": [
        "Load the pickled X_scaled file."
      ]
    },
    {
      "metadata": {
        "id": "8Evh7FejondG",
        "colab_type": "code",
        "colab": {}
      },
      "cell_type": "code",
      "source": [
        "# import pickle\n",
        "# file_path = open('/gdrive/My Drive/amazon/X_scaled_standardized_3k_bigram_bow_nparray.pkl', 'rb')\n",
        "# X_scaled = pickle.load(file_path)"
      ],
      "execution_count": 0,
      "outputs": []
    },
    {
      "metadata": {
        "id": "ci-mKqjIBrx4",
        "colab_type": "text"
      },
      "cell_type": "markdown",
      "source": [
        "Create a t-SNE model"
      ]
    },
    {
      "metadata": {
        "id": "HEgFYRHMAY8X",
        "colab_type": "code",
        "colab": {}
      },
      "cell_type": "code",
      "source": [
        "from sklearn.manifold import TSNE\n",
        "\n",
        "tsne = TSNE(n_components=2, random_state=7, perplexity=40, early_exaggeration = 18, learning_rate = 250, method='exact')"
      ],
      "execution_count": 0,
      "outputs": []
    },
    {
      "metadata": {
        "id": "LGiGeJamink9",
        "colab_type": "code",
        "colab": {}
      },
      "cell_type": "code",
      "source": [
        "review_vector_3k_tsne = tsne.fit_transform(X_scaled)"
      ],
      "execution_count": 0,
      "outputs": []
    },
    {
      "metadata": {
        "id": "Y8acn9HJBzfu",
        "colab_type": "text"
      },
      "cell_type": "markdown",
      "source": [
        "Shape of the numpy array after reducing the dimensions to two. "
      ]
    },
    {
      "metadata": {
        "id": "eofBfPA-ink_",
        "colab_type": "code",
        "colab": {
          "base_uri": "https://localhost:8080/",
          "height": 34
        },
        "outputId": "1752cd14-085b-4556-ade6-75959db665ce"
      },
      "cell_type": "code",
      "source": [
        "review_vector_3k_tsne.shape"
      ],
      "execution_count": 64,
      "outputs": [
        {
          "output_type": "execute_result",
          "data": {
            "text/plain": [
              "(3000, 2)"
            ]
          },
          "metadata": {
            "tags": []
          },
          "execution_count": 64
        }
      ]
    },
    {
      "metadata": {
        "id": "tO3s-9GSCA96",
        "colab_type": "text"
      },
      "cell_type": "markdown",
      "source": [
        "Pickle important variables again."
      ]
    },
    {
      "metadata": {
        "id": "Ov3RHww9inlB",
        "colab_type": "code",
        "colab": {}
      },
      "cell_type": "code",
      "source": [
        "# # Pickle it first!\n",
        "# import pickle\n",
        "# pickle_file = open('/gdrive/My Drive/amazon/pickled_3k_reviews_tsne_bigram.pkl', 'wb')\n",
        "# pickle.dump(review_vector_3k_tsne, pickle_file)\n",
        "# pickle_file.close()"
      ],
      "execution_count": 0,
      "outputs": []
    },
    {
      "metadata": {
        "id": "I-Wy5OeYCM7B",
        "colab_type": "text"
      },
      "cell_type": "markdown",
      "source": [
        "Build dataframe"
      ]
    },
    {
      "metadata": {
        "id": "mVV4pCfMinlD",
        "colab_type": "code",
        "colab": {}
      },
      "cell_type": "code",
      "source": [
        "bigram_tsne_3k_array = np.vstack((review_vector_3k_tsne.T, df_np['Score'])).T\n",
        "df_bigram_tsne_3k = pd.DataFrame(bigram_tsne_3k_array, columns=['First Dimension', 'Second Dimension', 'Label'])"
      ],
      "execution_count": 0,
      "outputs": []
    },
    {
      "metadata": {
        "id": "Ogi-yfRhinlG",
        "colab_type": "code",
        "colab": {
          "base_uri": "https://localhost:8080/",
          "height": 199
        },
        "outputId": "62c67b06-d2ba-48f8-9cd3-5d77e33a7702"
      },
      "cell_type": "code",
      "source": [
        "df_bigram_tsne_3k.head()"
      ],
      "execution_count": 67,
      "outputs": [
        {
          "output_type": "execute_result",
          "data": {
            "text/html": [
              "<div>\n",
              "<style scoped>\n",
              "    .dataframe tbody tr th:only-of-type {\n",
              "        vertical-align: middle;\n",
              "    }\n",
              "\n",
              "    .dataframe tbody tr th {\n",
              "        vertical-align: top;\n",
              "    }\n",
              "\n",
              "    .dataframe thead th {\n",
              "        text-align: right;\n",
              "    }\n",
              "</style>\n",
              "<table border=\"1\" class=\"dataframe\">\n",
              "  <thead>\n",
              "    <tr style=\"text-align: right;\">\n",
              "      <th></th>\n",
              "      <th>First Dimension</th>\n",
              "      <th>Second Dimension</th>\n",
              "      <th>Label</th>\n",
              "    </tr>\n",
              "  </thead>\n",
              "  <tbody>\n",
              "    <tr>\n",
              "      <th>0</th>\n",
              "      <td>-2.51289</td>\n",
              "      <td>-1.45995</td>\n",
              "      <td>negative</td>\n",
              "    </tr>\n",
              "    <tr>\n",
              "      <th>1</th>\n",
              "      <td>-1.00926</td>\n",
              "      <td>-4.50503</td>\n",
              "      <td>negative</td>\n",
              "    </tr>\n",
              "    <tr>\n",
              "      <th>2</th>\n",
              "      <td>-0.242721</td>\n",
              "      <td>-7.09045</td>\n",
              "      <td>negative</td>\n",
              "    </tr>\n",
              "    <tr>\n",
              "      <th>3</th>\n",
              "      <td>1.18093</td>\n",
              "      <td>1.68865</td>\n",
              "      <td>negative</td>\n",
              "    </tr>\n",
              "    <tr>\n",
              "      <th>4</th>\n",
              "      <td>1.55271</td>\n",
              "      <td>-1.56169</td>\n",
              "      <td>negative</td>\n",
              "    </tr>\n",
              "  </tbody>\n",
              "</table>\n",
              "</div>"
            ],
            "text/plain": [
              "  First Dimension Second Dimension     Label\n",
              "0        -2.51289         -1.45995  negative\n",
              "1        -1.00926         -4.50503  negative\n",
              "2       -0.242721         -7.09045  negative\n",
              "3         1.18093          1.68865  negative\n",
              "4         1.55271         -1.56169  negative"
            ]
          },
          "metadata": {
            "tags": []
          },
          "execution_count": 67
        }
      ]
    },
    {
      "metadata": {
        "id": "4QQBlY4_CROI",
        "colab_type": "text"
      },
      "cell_type": "markdown",
      "source": [
        "Plot the result."
      ]
    },
    {
      "metadata": {
        "id": "P3f_eRYRinlJ",
        "colab_type": "code",
        "colab": {
          "base_uri": "https://localhost:8080/",
          "height": 441
        },
        "outputId": "6f2fec2f-4eed-40d1-f5bc-01a8d1612e6b"
      },
      "cell_type": "code",
      "source": [
        "sbn.FacetGrid(df_bigram_tsne_3k, hue=\"Label\", size=6).map(plt.scatter, 'First Dimension', 'Second Dimension').add_legend()\n",
        "plt.show()"
      ],
      "execution_count": 68,
      "outputs": [
        {
          "output_type": "display_data",
          "data": {
            "image/png": "[encoded data removed]",
            "text/plain": [
              "<matplotlib.figure.Figure at 0x7fcfa794f630>"
            ]
          },
          "metadata": {
            "tags": []
          }
        }
      ]
    },
    {
      "metadata": {
        "id": "powqdENNCfsI",
        "colab_type": "text"
      },
      "cell_type": "markdown",
      "source": [
        "Unfortunately, using bigrams also does not yield anything useful. Let's look at TFIDF next."
      ]
    },
    {
      "metadata": {
        "id": "j2rRYcTJinlM",
        "colab_type": "text"
      },
      "cell_type": "markdown",
      "source": [
        "### Tfidf\n",
        "\n",
        "Term Frequency Inverse Document Frequency. \n",
        "\n",
        "Let's define the model and fit it to the data."
      ]
    },
    {
      "metadata": {
        "id": "gl2dmdtAinlM",
        "colab_type": "code",
        "colab": {}
      },
      "cell_type": "code",
      "source": [
        "tfidf_vec = TfidfVectorizer(ngram_range=(1,1))\n",
        "tfidf = tfidf_vec.fit_transform(df_np['cleaned_text'].values)"
      ],
      "execution_count": 0,
      "outputs": []
    },
    {
      "metadata": {
        "id": "n6ykeHHIinlO",
        "colab_type": "code",
        "colab": {
          "base_uri": "https://localhost:8080/",
          "height": 34
        },
        "outputId": "a7e940c1-fc21-4cc7-e516-e83a6e9e61aa"
      },
      "cell_type": "code",
      "source": [
        "tfidf.shape"
      ],
      "execution_count": 124,
      "outputs": [
        {
          "output_type": "execute_result",
          "data": {
            "text/plain": [
              "(3000, 7207)"
            ]
          },
          "metadata": {
            "tags": []
          },
          "execution_count": 124
        }
      ]
    },
    {
      "metadata": {
        "id": "wBJIHV12DoEJ",
        "colab_type": "text"
      },
      "cell_type": "markdown",
      "source": [
        "There are 3000 rows as expected and 7207 dimensions."
      ]
    },
    {
      "metadata": {
        "id": "lW9y5IaainlQ",
        "colab_type": "code",
        "colab": {
          "base_uri": "https://localhost:8080/",
          "height": 34
        },
        "outputId": "a4fa243f-934a-4ef7-8280-a15e5a061ab6"
      },
      "cell_type": "code",
      "source": [
        "features = tfidf_vec.get_feature_names()\n",
        "len(features)"
      ],
      "execution_count": 125,
      "outputs": [
        {
          "output_type": "execute_result",
          "data": {
            "text/plain": [
              "7207"
            ]
          },
          "metadata": {
            "tags": []
          },
          "execution_count": 125
        }
      ]
    },
    {
      "metadata": {
        "id": "6eBoi0OaD8_6",
        "colab_type": "text"
      },
      "cell_type": "markdown",
      "source": [
        "These are some dimensions in the tfidf representation."
      ]
    },
    {
      "metadata": {
        "id": "BYzFwJRyinlR",
        "colab_type": "code",
        "colab": {
          "base_uri": "https://localhost:8080/",
          "height": 193
        },
        "outputId": "2f87f5f4-68d0-45ed-e80e-1cb2a27e17f4"
      },
      "cell_type": "code",
      "source": [
        "features[100:110]"
      ],
      "execution_count": 75,
      "outputs": [
        {
          "output_type": "execute_result",
          "data": {
            "text/plain": [
              "['age',\n",
              " 'agent',\n",
              " 'aggrav',\n",
              " 'aggress',\n",
              " 'aggriev',\n",
              " 'agil',\n",
              " 'ago',\n",
              " 'agood',\n",
              " 'agre',\n",
              " 'agricultur']"
            ]
          },
          "metadata": {
            "tags": []
          },
          "execution_count": 75
        }
      ]
    },
    {
      "metadata": {
        "id": "wi1qRHr9ENlJ",
        "colab_type": "text"
      },
      "cell_type": "markdown",
      "source": [
        "Convert the tfidf matrix to a dense numpy array."
      ]
    },
    {
      "metadata": {
        "id": "6VBOqe3-4VlM",
        "colab_type": "code",
        "colab": {
          "base_uri": "https://localhost:8080/",
          "height": 34
        },
        "outputId": "afdb4f22-a3b6-40ff-93f2-cd302531f304"
      },
      "cell_type": "code",
      "source": [
        "review_vector_3k_TFIDF=tfidf.toarray()\n",
        "review_vector_3k_TFIDF.shape"
      ],
      "execution_count": 128,
      "outputs": [
        {
          "output_type": "execute_result",
          "data": {
            "text/plain": [
              "(3000, 7207)"
            ]
          },
          "metadata": {
            "tags": []
          },
          "execution_count": 128
        }
      ]
    },
    {
      "metadata": {
        "id": "JlahfbW3Em8o",
        "colab_type": "text"
      },
      "cell_type": "markdown",
      "source": [
        "Standardize the tfidf data."
      ]
    },
    {
      "metadata": {
        "id": "fEUjK9T8ZNi5",
        "colab_type": "code",
        "colab": {}
      },
      "cell_type": "code",
      "source": [
        "from sklearn.preprocessing import StandardScaler\n",
        "\n",
        "scaler = StandardScaler()\n",
        "\n",
        "X_scaled = scaler.fit_transform(review_vector_3k)"
      ],
      "execution_count": 0,
      "outputs": []
    },
    {
      "metadata": {
        "id": "wi6DdKqdinlW",
        "colab_type": "code",
        "colab": {
          "base_uri": "https://localhost:8080/",
          "height": 34
        },
        "outputId": "f14ba359-abff-459e-a816-ce8523f648b7"
      },
      "cell_type": "code",
      "source": [
        "X_scaled.shape"
      ],
      "execution_count": 83,
      "outputs": [
        {
          "output_type": "execute_result",
          "data": {
            "text/plain": [
              "(3000, 7207)"
            ]
          },
          "metadata": {
            "tags": []
          },
          "execution_count": 83
        }
      ]
    },
    {
      "metadata": {
        "id": "T18rnJZXEi6l",
        "colab_type": "text"
      },
      "cell_type": "markdown",
      "source": [
        "Apply t-SNE"
      ]
    },
    {
      "metadata": {
        "id": "qOPbDsyKinlY",
        "colab_type": "code",
        "colab": {}
      },
      "cell_type": "code",
      "source": [
        "from sklearn.manifold import TSNE\n",
        "tsne = TSNE(n_components=2, random_state=7, perplexity=45, early_exaggeration = 17, learning_rate = 300, method='exact')\n",
        "review_vector_3k_tsne = tsne.fit_transform(X_scaled)"
      ],
      "execution_count": 0,
      "outputs": []
    },
    {
      "metadata": {
        "id": "IFiVDbLUEw8a",
        "colab_type": "text"
      },
      "cell_type": "markdown",
      "source": [
        "As expected, the newly create data array has 2 dimensions and 3000 reviews"
      ]
    },
    {
      "metadata": {
        "id": "FEAxxGufinlZ",
        "colab_type": "code",
        "colab": {
          "base_uri": "https://localhost:8080/",
          "height": 34
        },
        "outputId": "0b24b3e4-344e-4536-c449-c575a267c897"
      },
      "cell_type": "code",
      "source": [
        "review_vector_3k_tsne.shape"
      ],
      "execution_count": 85,
      "outputs": [
        {
          "output_type": "execute_result",
          "data": {
            "text/plain": [
              "(3000, 2)"
            ]
          },
          "metadata": {
            "tags": []
          },
          "execution_count": 85
        }
      ]
    },
    {
      "metadata": {
        "id": "ELEBgMEsE6nw",
        "colab_type": "text"
      },
      "cell_type": "markdown",
      "source": [
        "Pickle the tsne object to Google Drive."
      ]
    },
    {
      "metadata": {
        "id": "HV0p4zVQinlb",
        "colab_type": "code",
        "colab": {}
      },
      "cell_type": "code",
      "source": [
        "import pickle\n",
        "pickle_file = open('/gdrive/My Drive/amazon/pickled_3k_reviews_tsne_tfidf_1gram.pkl', 'wb')\n",
        "pickle.dump(review_vector_3k_tsne, pickle_file)\n",
        "pickle_file.close()"
      ],
      "execution_count": 0,
      "outputs": []
    },
    {
      "metadata": {
        "id": "O3LOjhukFAxW",
        "colab_type": "text"
      },
      "cell_type": "markdown",
      "source": [
        "Construct dataframe"
      ]
    },
    {
      "metadata": {
        "id": "BpfaSKBTinle",
        "colab_type": "code",
        "colab": {}
      },
      "cell_type": "code",
      "source": [
        "tfidf_tsne_3k_array = np.vstack((review_vector_3k_tsne.T, df_np['Score'])).T\n",
        "df_tfidf_tsne_3k = pd.DataFrame(tfidf_tsne_3k_array, columns=['First Dimension', 'Second Dimension', 'Label'])"
      ],
      "execution_count": 0,
      "outputs": []
    },
    {
      "metadata": {
        "id": "fGdpzLi9inlg",
        "colab_type": "code",
        "colab": {
          "base_uri": "https://localhost:8080/",
          "height": 199
        },
        "outputId": "0bf52758-45f5-4637-d89b-f0227a7b9d50"
      },
      "cell_type": "code",
      "source": [
        "df_tfidf_tsne_3k.head()"
      ],
      "execution_count": 88,
      "outputs": [
        {
          "output_type": "execute_result",
          "data": {
            "text/html": [
              "<div>\n",
              "<style scoped>\n",
              "    .dataframe tbody tr th:only-of-type {\n",
              "        vertical-align: middle;\n",
              "    }\n",
              "\n",
              "    .dataframe tbody tr th {\n",
              "        vertical-align: top;\n",
              "    }\n",
              "\n",
              "    .dataframe thead th {\n",
              "        text-align: right;\n",
              "    }\n",
              "</style>\n",
              "<table border=\"1\" class=\"dataframe\">\n",
              "  <thead>\n",
              "    <tr style=\"text-align: right;\">\n",
              "      <th></th>\n",
              "      <th>First Dimension</th>\n",
              "      <th>Second Dimension</th>\n",
              "      <th>Label</th>\n",
              "    </tr>\n",
              "  </thead>\n",
              "  <tbody>\n",
              "    <tr>\n",
              "      <th>0</th>\n",
              "      <td>-0.0512468</td>\n",
              "      <td>0.11966</td>\n",
              "      <td>negative</td>\n",
              "    </tr>\n",
              "    <tr>\n",
              "      <th>1</th>\n",
              "      <td>-7.52004</td>\n",
              "      <td>5.82849</td>\n",
              "      <td>negative</td>\n",
              "    </tr>\n",
              "    <tr>\n",
              "      <th>2</th>\n",
              "      <td>14.9827</td>\n",
              "      <td>-10.4608</td>\n",
              "      <td>negative</td>\n",
              "    </tr>\n",
              "    <tr>\n",
              "      <th>3</th>\n",
              "      <td>14.8202</td>\n",
              "      <td>-0.939338</td>\n",
              "      <td>negative</td>\n",
              "    </tr>\n",
              "    <tr>\n",
              "      <th>4</th>\n",
              "      <td>6.624</td>\n",
              "      <td>-1.51204</td>\n",
              "      <td>negative</td>\n",
              "    </tr>\n",
              "  </tbody>\n",
              "</table>\n",
              "</div>"
            ],
            "text/plain": [
              "  First Dimension Second Dimension     Label\n",
              "0      -0.0512468          0.11966  negative\n",
              "1        -7.52004          5.82849  negative\n",
              "2         14.9827         -10.4608  negative\n",
              "3         14.8202        -0.939338  negative\n",
              "4           6.624         -1.51204  negative"
            ]
          },
          "metadata": {
            "tags": []
          },
          "execution_count": 88
        }
      ]
    },
    {
      "metadata": {
        "id": "9otBnbnsFFHD",
        "colab_type": "text"
      },
      "cell_type": "markdown",
      "source": [
        "Plot the result of applying t-SNE on tfidf."
      ]
    },
    {
      "metadata": {
        "id": "c-dbI4CXinln",
        "colab_type": "code",
        "colab": {
          "base_uri": "https://localhost:8080/",
          "height": 441
        },
        "outputId": "c50d84c8-eada-49d2-84c6-70e0e630200c"
      },
      "cell_type": "code",
      "source": [
        "sbn.FacetGrid(df_tfidf_tsne_3k, hue=\"Label\", size=6).map(plt.scatter, 'First Dimension', 'Second Dimension').add_legend()\n",
        "plt.show()"
      ],
      "execution_count": 89,
      "outputs": [
        {
          "output_type": "display_data",
          "data": {
            "image/png": "[encoded data removed]",
            "text/plain": [
              "<matplotlib.figure.Figure at 0x7fcfa8ad77f0>"
            ]
          },
          "metadata": {
            "tags": []
          }
        }
      ]
    },
    {
      "metadata": {
        "id": "EnCgxoVGFLHz",
        "colab_type": "text"
      },
      "cell_type": "markdown",
      "source": [
        "The TFIDF model too didn't prove to be of much use here. Let's look at a different technique."
      ]
    },
    {
      "metadata": {
        "id": "UBTxx30LGAo3",
        "colab_type": "text"
      },
      "cell_type": "markdown",
      "source": [
        "### Doc2Vec"
      ]
    },
    {
      "metadata": {
        "id": "2M42XqH_f36E",
        "colab_type": "code",
        "colab": {}
      },
      "cell_type": "code",
      "source": [
        "# Install gensim if not installed\n",
        "\n",
        "!pip install gensim"
      ],
      "execution_count": 0,
      "outputs": []
    },
    {
      "metadata": {
        "id": "q5FKkfz3FpzB",
        "colab_type": "text"
      },
      "cell_type": "markdown",
      "source": [
        "Import gensim"
      ]
    },
    {
      "metadata": {
        "id": "PMa2_oXSinlp",
        "colab_type": "code",
        "colab": {}
      },
      "cell_type": "code",
      "source": [
        "import gensim\n",
        "from gensim.models import word2vec\n",
        "from gensim.models import KeyedVectors"
      ],
      "execution_count": 0,
      "outputs": []
    },
    {
      "metadata": {
        "id": "FddA7412F0FD",
        "colab_type": "text"
      },
      "cell_type": "markdown",
      "source": [
        "Define a function that reads each review and converts it into TaggedDocument format needed for training a model using Doc2Vec technique."
      ]
    },
    {
      "metadata": {
        "id": "mgZYQ_3Binlq",
        "colab_type": "code",
        "colab": {}
      },
      "cell_type": "code",
      "source": [
        "#train_corpus = gensim.utils.simple_preprocess(df_np['cleaned_text'][1])\n",
        "\n",
        "def read_corpus(df_np, tokens_only=False):\n",
        "        for i, review in enumerate(df_np['cleaned_text']):\n",
        "            if tokens_only:\n",
        "                yield gensim.utils.simple_preprocess(review)\n",
        "            else:\n",
        "                # For training data, add tags\n",
        "                yield gensim.models.doc2vec.TaggedDocument(gensim.utils.simple_preprocess(review), [i])\n",
        "\n",
        "train_corpus = list(read_corpus(df_np))"
      ],
      "execution_count": 0,
      "outputs": []
    },
    {
      "metadata": {
        "id": "8CLfdk3qinlt",
        "colab_type": "code",
        "colab": {
          "base_uri": "https://localhost:8080/",
          "height": 90
        },
        "outputId": "2649b146-5710-4409-84f5-41920aedf1cc"
      },
      "cell_type": "code",
      "source": [
        "train_corpus[:3]"
      ],
      "execution_count": 94,
      "outputs": [
        {
          "output_type": "execute_result",
          "data": {
            "text/plain": [
              "[TaggedDocument(words=['product', 'arriv', 'label', 'jumbo', 'salt', 'peanut', 'peanut', 'actual', 'small', 'size', 'unsalt', 'sure', 'error', 'vendor', 'intend', 'repres', 'product', 'jumbo'], tags=[0]),\n",
              " TaggedDocument(words=['look', 'secret', 'ingredi', 'robitussin', 'believ', 'found', 'got', 'addit', 'root', 'beer', 'extract', 'order', 'good', 'made', 'cherri', 'soda', 'flavor', 'medicin'], tags=[1]),\n",
              " TaggedDocument(words=['cat', 'happili', 'eat', 'felida', 'platinum', 'two', 'year', 'got', 'new', 'bag', 'shape', 'food', 'differ', 'tri', 'new', 'food', 'first', 'put', 'bowl', 'bowl', 'sit', 'full', 'kitti', 'touch', 'food', 'ive', 'notic', 'similar', 'review', 'relat', 'formula', 'chang', 'past', 'unfortun', 'need', 'find', 'new', 'food', 'cat', 'eat'], tags=[2])]"
            ]
          },
          "metadata": {
            "tags": []
          },
          "execution_count": 94
        }
      ]
    },
    {
      "metadata": {
        "id": "aA-I66lPGW4G",
        "colab_type": "text"
      },
      "cell_type": "markdown",
      "source": [
        "Define D2V model"
      ]
    },
    {
      "metadata": {
        "id": "fxLuAPIoinlu",
        "colab_type": "code",
        "colab": {}
      },
      "cell_type": "code",
      "source": [
        "model = gensim.models.doc2vec.Doc2Vec(vector_size=50, min_count=2, epochs=45)"
      ],
      "execution_count": 0,
      "outputs": []
    },
    {
      "metadata": {
        "id": "faqvTDX5GgyF",
        "colab_type": "text"
      },
      "cell_type": "markdown",
      "source": [
        "Build vocabulary"
      ]
    },
    {
      "metadata": {
        "id": "qAbqq2ITinlv",
        "colab_type": "code",
        "colab": {}
      },
      "cell_type": "code",
      "source": [
        "model.build_vocab(train_corpus)"
      ],
      "execution_count": 0,
      "outputs": []
    },
    {
      "metadata": {
        "id": "xFTiTA_zinlw",
        "colab_type": "code",
        "colab": {
          "base_uri": "https://localhost:8080/",
          "height": 34
        },
        "outputId": "69ec8d14-9a5c-44cf-baa0-19d474823bab"
      },
      "cell_type": "code",
      "source": [
        "model"
      ],
      "execution_count": 97,
      "outputs": [
        {
          "output_type": "execute_result",
          "data": {
            "text/plain": [
              "<gensim.models.doc2vec.Doc2Vec at 0x7fcf85c0c908>"
            ]
          },
          "metadata": {
            "tags": []
          },
          "execution_count": 97
        }
      ]
    },
    {
      "metadata": {
        "id": "B4pTK585Glos",
        "colab_type": "text"
      },
      "cell_type": "markdown",
      "source": [
        "Train D2V model"
      ]
    },
    {
      "metadata": {
        "id": "gSI73u3ainl1",
        "colab_type": "code",
        "colab": {
          "base_uri": "https://localhost:8080/",
          "height": 52
        },
        "outputId": "50550ee0-1c76-44e8-de0e-2f72c8fd4a69"
      },
      "cell_type": "code",
      "source": [
        "%time model.train(train_corpus, total_examples=model.corpus_count, epochs=model.epochs)"
      ],
      "execution_count": 98,
      "outputs": [
        {
          "output_type": "stream",
          "text": [
            "CPU times: user 23.1 s, sys: 2.82 s, total: 26 s\n",
            "Wall time: 14.9 s\n"
          ],
          "name": "stdout"
        }
      ]
    },
    {
      "metadata": {
        "id": "MHjcV89wGw4t",
        "colab_type": "text"
      },
      "cell_type": "markdown",
      "source": [
        "Create a corpus of vector representation of all reviews under consideration, using D2V technique."
      ]
    },
    {
      "metadata": {
        "id": "vKdrpFjzinl5",
        "colab_type": "code",
        "colab": {}
      },
      "cell_type": "code",
      "source": [
        "review_vector_3k = np.zeros((1,50))\n",
        "\n",
        "\n",
        "for review in df_np['cleaned_text']:\n",
        "    arr = np.reshape(model.infer_vector(str(review).split()), (1,-1))\n",
        "    review_vector_3k=np.vstack([review_vector_3k, arr])\n",
        "\n",
        "#model.infer_vector(str(df_np['cleaned_text'][1636]).split())\n",
        "#df_np['cleaned_text'][1637]\n",
        "#df_np['cleaned_text']\n",
        "#np.reshape(model.infer_vector(str(df_np['cleaned_text'][2]).split()), (1,-1)).shape\n",
        "\n",
        "review_vector_3k = np.delete(review_vector_3k, (0), axis=0)"
      ],
      "execution_count": 0,
      "outputs": []
    },
    {
      "metadata": {
        "id": "dgTSOMNgG-4X",
        "colab_type": "text"
      },
      "cell_type": "markdown",
      "source": [
        "A vector is generated that has 3000 rows, each for 1 review and 50 dimensions as defined by the vector_size parameter specified when we defined the model above."
      ]
    },
    {
      "metadata": {
        "id": "YTwhpQGjinl7",
        "colab_type": "code",
        "colab": {
          "base_uri": "https://localhost:8080/",
          "height": 34
        },
        "outputId": "b083f554-696f-4c8d-c808-2b01afd5282a"
      },
      "cell_type": "code",
      "source": [
        "review_vector_3k.shape"
      ],
      "execution_count": 100,
      "outputs": [
        {
          "output_type": "execute_result",
          "data": {
            "text/plain": [
              "(3000, 50)"
            ]
          },
          "metadata": {
            "tags": []
          },
          "execution_count": 100
        }
      ]
    },
    {
      "metadata": {
        "id": "2OY6GpwaHWIv",
        "colab_type": "text"
      },
      "cell_type": "markdown",
      "source": [
        "Standardize the data"
      ]
    },
    {
      "metadata": {
        "id": "skDDLW7ginl-",
        "colab_type": "code",
        "colab": {}
      },
      "cell_type": "code",
      "source": [
        "from sklearn.preprocessing import StandardScaler\n",
        "\n",
        "scaler = StandardScaler()\n",
        "\n",
        "review_vector_3k = scaler.fit_transform(review_vector_3k)"
      ],
      "execution_count": 0,
      "outputs": []
    },
    {
      "metadata": {
        "id": "vIFzHF8THZeJ",
        "colab_type": "text"
      },
      "cell_type": "markdown",
      "source": [
        "Define t-SNE and transform data"
      ]
    },
    {
      "metadata": {
        "id": "ffUhRJGuinl_",
        "colab_type": "code",
        "colab": {}
      },
      "cell_type": "code",
      "source": [
        "tsne = TSNE(n_components=2, random_state=7, perplexity=45, early_exaggeration = 13, learning_rate = 300, method='exact')\n",
        "\n",
        "review_vector_3k_tsne = tsne.fit_transform(review_vector_3k)"
      ],
      "execution_count": 0,
      "outputs": []
    },
    {
      "metadata": {
        "id": "9iGww6f7Hh5B",
        "colab_type": "text"
      },
      "cell_type": "markdown",
      "source": [
        "As expected, the resulting matrix has 2 dimensions which are created using t-SNE, from the original vector generated using Doc2Vec."
      ]
    },
    {
      "metadata": {
        "id": "4kwPk5E6inmA",
        "colab_type": "code",
        "colab": {
          "base_uri": "https://localhost:8080/",
          "height": 34
        },
        "outputId": "fdb0ed49-e95e-481a-986e-3d9fa70af6a5"
      },
      "cell_type": "code",
      "source": [
        "review_vector_3k_tsne.shape"
      ],
      "execution_count": 103,
      "outputs": [
        {
          "output_type": "execute_result",
          "data": {
            "text/plain": [
              "(3000, 2)"
            ]
          },
          "metadata": {
            "tags": []
          },
          "execution_count": 103
        }
      ]
    },
    {
      "metadata": {
        "id": "Vwrv_dMLH8TJ",
        "colab_type": "text"
      },
      "cell_type": "markdown",
      "source": [
        "Generate a dataframe from it."
      ]
    },
    {
      "metadata": {
        "id": "La380DxninmA",
        "colab_type": "code",
        "colab": {}
      },
      "cell_type": "code",
      "source": [
        "d2v_tsne_3k_array = np.vstack((review_vector_3k_tsne.T, df_np['Score'])).T\n",
        "df_d2v_tsne_3k = pd.DataFrame(d2v_tsne_3k_array, columns=['First Dimension', 'Second Dimension', 'Label'])"
      ],
      "execution_count": 0,
      "outputs": []
    },
    {
      "metadata": {
        "id": "b-yWWVWfinmB",
        "colab_type": "code",
        "colab": {
          "base_uri": "https://localhost:8080/",
          "height": 199
        },
        "outputId": "ba938ed9-18c5-4702-f2ae-09acd6077394"
      },
      "cell_type": "code",
      "source": [
        "df_d2v_tsne_3k.head()"
      ],
      "execution_count": 105,
      "outputs": [
        {
          "output_type": "execute_result",
          "data": {
            "text/html": [
              "<div>\n",
              "<style scoped>\n",
              "    .dataframe tbody tr th:only-of-type {\n",
              "        vertical-align: middle;\n",
              "    }\n",
              "\n",
              "    .dataframe tbody tr th {\n",
              "        vertical-align: top;\n",
              "    }\n",
              "\n",
              "    .dataframe thead th {\n",
              "        text-align: right;\n",
              "    }\n",
              "</style>\n",
              "<table border=\"1\" class=\"dataframe\">\n",
              "  <thead>\n",
              "    <tr style=\"text-align: right;\">\n",
              "      <th></th>\n",
              "      <th>First Dimension</th>\n",
              "      <th>Second Dimension</th>\n",
              "      <th>Label</th>\n",
              "    </tr>\n",
              "  </thead>\n",
              "  <tbody>\n",
              "    <tr>\n",
              "      <th>0</th>\n",
              "      <td>-11.1299</td>\n",
              "      <td>3.82575</td>\n",
              "      <td>negative</td>\n",
              "    </tr>\n",
              "    <tr>\n",
              "      <th>1</th>\n",
              "      <td>6.52225</td>\n",
              "      <td>-12.4862</td>\n",
              "      <td>negative</td>\n",
              "    </tr>\n",
              "    <tr>\n",
              "      <th>2</th>\n",
              "      <td>15.491</td>\n",
              "      <td>23.387</td>\n",
              "      <td>negative</td>\n",
              "    </tr>\n",
              "    <tr>\n",
              "      <th>3</th>\n",
              "      <td>8.68189</td>\n",
              "      <td>6.55631</td>\n",
              "      <td>negative</td>\n",
              "    </tr>\n",
              "    <tr>\n",
              "      <th>4</th>\n",
              "      <td>-8.87508</td>\n",
              "      <td>-0.928835</td>\n",
              "      <td>negative</td>\n",
              "    </tr>\n",
              "  </tbody>\n",
              "</table>\n",
              "</div>"
            ],
            "text/plain": [
              "  First Dimension Second Dimension     Label\n",
              "0        -11.1299          3.82575  negative\n",
              "1         6.52225         -12.4862  negative\n",
              "2          15.491           23.387  negative\n",
              "3         8.68189          6.55631  negative\n",
              "4        -8.87508        -0.928835  negative"
            ]
          },
          "metadata": {
            "tags": []
          },
          "execution_count": 105
        }
      ]
    },
    {
      "metadata": {
        "id": "1Mt7O2ZSIBub",
        "colab_type": "text"
      },
      "cell_type": "markdown",
      "source": [
        "Plot the result."
      ]
    },
    {
      "metadata": {
        "id": "DhznPJk3inmC",
        "colab_type": "code",
        "colab": {
          "base_uri": "https://localhost:8080/",
          "height": 441
        },
        "outputId": "826e4eb8-3472-4dff-c159-2bdb849e744a"
      },
      "cell_type": "code",
      "source": [
        "sbn.FacetGrid(df_d2v_tsne_3k, hue=\"Label\", size=6).map(plt.scatter, 'First Dimension', 'Second Dimension').add_legend()\n",
        "plt.show()"
      ],
      "execution_count": 106,
      "outputs": [
        {
          "output_type": "display_data",
          "data": {
            "image/png": "[encoded data removed]",
            "text/plain": [
              "<matplotlib.figure.Figure at 0x7fcfa8ae4c50>"
            ]
          },
          "metadata": {
            "tags": []
          }
        }
      ]
    },
    {
      "metadata": {
        "id": "wKD47biMIGdb",
        "colab_type": "text"
      },
      "cell_type": "markdown",
      "source": [
        "Not much here, either."
      ]
    },
    {
      "metadata": {
        "id": "18D0wfPpA4IH",
        "colab_type": "text"
      },
      "cell_type": "markdown",
      "source": [
        "### Word2Vec"
      ]
    },
    {
      "metadata": {
        "id": "rM41eNyaM4dH",
        "colab_type": "code",
        "colab": {}
      },
      "cell_type": "code",
      "source": [
        "from gensim.models import Word2Vec\n",
        "from gensim.models import KeyedVectors\n",
        "import pickle"
      ],
      "execution_count": 0,
      "outputs": []
    },
    {
      "metadata": {
        "id": "NXe2XKLfNdk8",
        "colab_type": "text"
      },
      "cell_type": "markdown",
      "source": [
        "Here, I'm training the model using our own corpus of food reviews. The reason behind not using Google's model trained on google news is - there are several words used in the food reviews that aren't present in the model trained by Google. Creating vectors of reviews using it throws exceptions. "
      ]
    },
    {
      "metadata": {
        "id": "Iml03KY7Zx3b",
        "colab_type": "code",
        "colab": {}
      },
      "cell_type": "code",
      "source": [
        "# Training a Word2Vec model using our own corpus\n",
        "\n",
        "list_of_reviews = []\n",
        "\n",
        "for review in df['cleaned_text'].values:\n",
        "    list_of_reviews.append(review.decode('utf-8').split())"
      ],
      "execution_count": 0,
      "outputs": []
    },
    {
      "metadata": {
        "id": "6EV3_dNBbGca",
        "colab_type": "code",
        "colab": {
          "base_uri": "https://localhost:8080/",
          "height": 90
        },
        "outputId": "71764abc-09eb-42c8-aee3-134567c263b1"
      },
      "cell_type": "code",
      "source": [
        "print(df['cleaned_text'][0])\n",
        "print('------------------')\n",
        "print(list_of_reviews[0])\n"
      ],
      "execution_count": 109,
      "outputs": [
        {
          "output_type": "stream",
          "text": [
            "b'bought sever vital can dog food product found good qualiti product look like stew process meat smell better labrador finicki appreci product better'\n",
            "------------------\n",
            "['bought', 'sever', 'vital', 'can', 'dog', 'food', 'product', 'found', 'good', 'qualiti', 'product', 'look', 'like', 'stew', 'process', 'meat', 'smell', 'better', 'labrador', 'finicki', 'appreci', 'product', 'better']\n"
          ],
          "name": "stdout"
        }
      ]
    },
    {
      "metadata": {
        "id": "XnRL5bw5bhkT",
        "colab_type": "code",
        "colab": {}
      },
      "cell_type": "code",
      "source": [
        "w2v_model = gensim.models.Word2Vec(list_of_reviews, min_count=4,size=50,workers=4)"
      ],
      "execution_count": 0,
      "outputs": []
    },
    {
      "metadata": {
        "id": "Ap9oRUBqb-TF",
        "colab_type": "code",
        "colab": {
          "base_uri": "https://localhost:8080/",
          "height": 34
        },
        "outputId": "91f19cd4-c0e2-4c9b-902f-dc37ac197588"
      },
      "cell_type": "code",
      "source": [
        "words = list(w2v_model.wv.vocab)\n",
        "print(len(words))"
      ],
      "execution_count": 111,
      "outputs": [
        {
          "output_type": "stream",
          "text": [
            "24867\n"
          ],
          "name": "stdout"
        }
      ]
    },
    {
      "metadata": {
        "id": "Y0QK5lQrOLVw",
        "colab_type": "text"
      },
      "cell_type": "markdown",
      "source": [
        "The following result is fascinating. It shows the words which are similar to 'smell'. The list of words printed is amazing."
      ]
    },
    {
      "metadata": {
        "id": "pk1zXWIYeT34",
        "colab_type": "code",
        "colab": {
          "base_uri": "https://localhost:8080/",
          "height": 248
        },
        "outputId": "48e06629-a24f-4b98-f164-4347716f463d"
      },
      "cell_type": "code",
      "source": [
        "w2v_model.wv.most_similar('smell')"
      ],
      "execution_count": 112,
      "outputs": [
        {
          "output_type": "stream",
          "text": [
            "/usr/local/lib/python3.6/dist-packages/gensim/matutils.py:737: FutureWarning: Conversion of the second argument of issubdtype from `int` to `np.signedinteger` is deprecated. In future, it will be treated as `np.int64 == np.dtype(int).type`.\n",
            "  if np.issubdtype(vec.dtype, np.int):\n"
          ],
          "name": "stderr"
        },
        {
          "output_type": "execute_result",
          "data": {
            "text/plain": [
              "[('scent', 0.7834073901176453),\n",
              " ('smelt', 0.7453423738479614),\n",
              " ('odor', 0.7058023810386658),\n",
              " ('perfum', 0.6976401805877686),\n",
              " ('fragranc', 0.6837777495384216),\n",
              " ('stink', 0.6754734516143799),\n",
              " ('musti', 0.6711809635162354),\n",
              " ('aroma', 0.6633960604667664),\n",
              " ('offens', 0.6588740348815918),\n",
              " ('whiff', 0.6521865129470825)]"
            ]
          },
          "metadata": {
            "tags": []
          },
          "execution_count": 112
        }
      ]
    },
    {
      "metadata": {
        "id": "V8cGgkMJOiZr",
        "colab_type": "text"
      },
      "cell_type": "markdown",
      "source": [
        "Similarly, words similar to 'bad'"
      ]
    },
    {
      "metadata": {
        "id": "F0Bxx40qedZ2",
        "colab_type": "code",
        "colab": {
          "base_uri": "https://localhost:8080/",
          "height": 248
        },
        "outputId": "e7c8d194-63d3-465c-ae09-4a2af686d93f"
      },
      "cell_type": "code",
      "source": [
        "w2v_model.wv.most_similar('bad')"
      ],
      "execution_count": 113,
      "outputs": [
        {
          "output_type": "stream",
          "text": [
            "/usr/local/lib/python3.6/dist-packages/gensim/matutils.py:737: FutureWarning: Conversion of the second argument of issubdtype from `int` to `np.signedinteger` is deprecated. In future, it will be treated as `np.int64 == np.dtype(int).type`.\n",
            "  if np.issubdtype(vec.dtype, np.int):\n"
          ],
          "name": "stderr"
        },
        {
          "output_type": "execute_result",
          "data": {
            "text/plain": [
              "[('terribl', 0.7701851725578308),\n",
              " ('okay', 0.7428017854690552),\n",
              " ('horribl', 0.731977105140686),\n",
              " ('aw', 0.7248077392578125),\n",
              " ('nasti', 0.7048215270042419),\n",
              " ('weird', 0.69244384765625),\n",
              " ('gross', 0.6909690499305725),\n",
              " ('alright', 0.689479649066925),\n",
              " ('funni', 0.6816542148590088),\n",
              " ('odd', 0.6704462170600891)]"
            ]
          },
          "metadata": {
            "tags": []
          },
          "execution_count": 113
        }
      ]
    },
    {
      "metadata": {
        "id": "lNkE2hScOpDk",
        "colab_type": "text"
      },
      "cell_type": "markdown",
      "source": [
        "Calculating the avg W2V representation for each review."
      ]
    },
    {
      "metadata": {
        "id": "Uz1_0xf9g_88",
        "colab_type": "code",
        "colab": {}
      },
      "cell_type": "code",
      "source": [
        "import sys\n",
        "\n",
        "corpus_vec = np.zeros(shape=(50))\n",
        "\n",
        "for review in df_np['cleaned_text'].values:\n",
        "    review_vector = np.zeros(shape=(50))\n",
        "    for word in review.decode('utf-8').split():\n",
        "        try:\n",
        "            \n",
        "            review_vector += w2v_model.wv[word]\n",
        "            \n",
        "        except KeyError:\n",
        "            continue\n",
        "    \n",
        "    review_vector /= 50\n",
        "    corpus_vec=np.vstack((corpus_vec,review_vector))    \n",
        "corpus_vec=np.delete(corpus_vec, 0, axis=0)"
      ],
      "execution_count": 0,
      "outputs": []
    },
    {
      "metadata": {
        "id": "5aGbqy5eULUI",
        "colab_type": "code",
        "colab": {
          "base_uri": "https://localhost:8080/",
          "height": 34
        },
        "outputId": "3aa7acc0-f8c6-49b2-b5ab-0cc754794a20"
      },
      "cell_type": "code",
      "source": [
        "corpus_vec.shape"
      ],
      "execution_count": 116,
      "outputs": [
        {
          "output_type": "execute_result",
          "data": {
            "text/plain": [
              "(3000, 50)"
            ]
          },
          "metadata": {
            "tags": []
          },
          "execution_count": 116
        }
      ]
    },
    {
      "metadata": {
        "id": "h34yEA8oOwZQ",
        "colab_type": "text"
      },
      "cell_type": "markdown",
      "source": [
        "Again, store the files on Google Drive for future use."
      ]
    },
    {
      "metadata": {
        "id": "Z0Fei3RrQUzV",
        "colab_type": "code",
        "colab": {}
      },
      "cell_type": "code",
      "source": [
        "import pickle\n",
        "pickle_file = open('/gdrive/My Drive/amazon/avg_w2v_nparray_3kcorpus_50dim.pkl', 'wb')\n",
        "pickle.dump(corpus_vec, pickle_file)\n",
        "pickle_file.close()"
      ],
      "execution_count": 0,
      "outputs": []
    },
    {
      "metadata": {
        "id": "3lw5hqeSIQRa",
        "colab_type": "code",
        "colab": {
          "base_uri": "https://localhost:8080/",
          "height": 34
        },
        "outputId": "6a0b78ad-bf13-48f6-9430-5500b0120343"
      },
      "cell_type": "code",
      "source": [
        "corpus_vec.shape"
      ],
      "execution_count": 118,
      "outputs": [
        {
          "output_type": "execute_result",
          "data": {
            "text/plain": [
              "(3000, 50)"
            ]
          },
          "metadata": {
            "tags": []
          },
          "execution_count": 118
        }
      ]
    },
    {
      "metadata": {
        "id": "MWJrZpd-O3M6",
        "colab_type": "text"
      },
      "cell_type": "markdown",
      "source": [
        "Appply t-SNE"
      ]
    },
    {
      "metadata": {
        "id": "fowz2hF_Rkma",
        "colab_type": "code",
        "colab": {}
      },
      "cell_type": "code",
      "source": [
        "from sklearn.manifold import TSNE\n",
        "\n",
        "tsne = TSNE(n_components=2, random_state=7, perplexity=45, early_exaggeration = 13, learning_rate = 250)\n",
        "\n",
        "review_vector_3k_tsne = tsne.fit_transform(corpus_vec)"
      ],
      "execution_count": 0,
      "outputs": []
    },
    {
      "metadata": {
        "id": "HRofSU_FYzH1",
        "colab_type": "code",
        "colab": {
          "base_uri": "https://localhost:8080/",
          "height": 34
        },
        "outputId": "68a97a53-2fbe-4972-fe01-fe266638f692"
      },
      "cell_type": "code",
      "source": [
        "review_vector_3k_tsne.shape"
      ],
      "execution_count": 120,
      "outputs": [
        {
          "output_type": "execute_result",
          "data": {
            "text/plain": [
              "(3000, 2)"
            ]
          },
          "metadata": {
            "tags": []
          },
          "execution_count": 120
        }
      ]
    },
    {
      "metadata": {
        "id": "4njvKJqtO76-",
        "colab_type": "text"
      },
      "cell_type": "markdown",
      "source": [
        "Build a dataframe for visualization"
      ]
    },
    {
      "metadata": {
        "id": "0OBbORDwXRKI",
        "colab_type": "code",
        "colab": {}
      },
      "cell_type": "code",
      "source": [
        "avg_w2v_tsne_3k_array = np.vstack((review_vector_3k_tsne.T, df_np['Score'])).T\n",
        "df_avg_w2v_tsne_3k = pd.DataFrame(avg_w2v_tsne_3k_array, columns=['First Dimension', 'Second Dimension', 'Label'])"
      ],
      "execution_count": 0,
      "outputs": []
    },
    {
      "metadata": {
        "id": "CrwkgjLaXWEH",
        "colab_type": "code",
        "colab": {
          "base_uri": "https://localhost:8080/",
          "height": 441
        },
        "outputId": "0dfc726b-e239-446f-81c7-c9d181b27709"
      },
      "cell_type": "code",
      "source": [
        "sbn.FacetGrid(df_avg_w2v_tsne_3k, hue=\"Label\", size=6).map(plt.scatter, 'First Dimension', 'Second Dimension').add_legend()\n",
        "plt.show()"
      ],
      "execution_count": 122,
      "outputs": [
        {
          "output_type": "display_data",
          "data": {
            "image/png": "[encoded data removed]",
            "text/plain": [
              "<matplotlib.figure.Figure at 0x7fcf86c0f4a8>"
            ]
          },
          "metadata": {
            "tags": []
          }
        }
      ]
    },
    {
      "metadata": {
        "id": "NCMpigUFPAqy",
        "colab_type": "text"
      },
      "cell_type": "markdown",
      "source": [
        "The above result is far from ideal, but it's slightly better than the techniques seen so far. The density of positive points is more in the right side of the map as compared to the left side."
      ]
    },
    {
      "metadata": {
        "id": "Nhc0jAz5Z4It",
        "colab_type": "text"
      },
      "cell_type": "markdown",
      "source": [
        "### Tfidf weighted W2V\n",
        "\n",
        "In this representation, each review is made up from the tfidf weighted sum of all the words in a review."
      ]
    },
    {
      "metadata": {
        "id": "ZpNaVhZ0Oyvo",
        "colab_type": "code",
        "colab": {}
      },
      "cell_type": "code",
      "source": [
        "corpus_tfidf_weighted_w2v = np.zeros(shape=(50))\n",
        "review_number = 0\n",
        "\n",
        "for review in df_np['cleaned_text'].values:\n",
        "    review_vector_tfidf_weighted = np.zeros(shape=(50))\n",
        "    tfidf_sum = 0\n",
        "    for word in review.decode('utf-8').split():\n",
        "        try:\n",
        "            tfidf_value = review_vector_3k_TFIDF[review_number, features.index(word)]\n",
        "            review_vector_tfidf_weighted += w2v_model.wv[word] * tfidf_value\n",
        "            tfidf_sum += tfidf_value\n",
        "            \n",
        "        except KeyError:\n",
        "            continue\n",
        "    \n",
        "    review_number += 1\n",
        "    \n",
        "    review_vector_tfidf_weighted /= tfidf_sum\n",
        "    corpus_tfidf_weighted_w2v=np.vstack((corpus_tfidf_weighted_w2v,review_vector_tfidf_weighted))\n",
        "    \n",
        "corpus_tfidf_weighted_w2v = np.delete(corpus_tfidf_weighted_w2v, 0, axis=0)"
      ],
      "execution_count": 0,
      "outputs": []
    },
    {
      "metadata": {
        "id": "GKsHLsGvPi11",
        "colab_type": "text"
      },
      "cell_type": "markdown",
      "source": [
        "Shape of the data matrix"
      ]
    },
    {
      "metadata": {
        "id": "vZFW9Ebmi-XO",
        "colab_type": "code",
        "colab": {
          "base_uri": "https://localhost:8080/",
          "height": 34
        },
        "outputId": "82e4ada5-8ec0-45fd-d769-e53b28d98f85"
      },
      "cell_type": "code",
      "source": [
        "corpus_tfidf_weighted_w2v.shape"
      ],
      "execution_count": 132,
      "outputs": [
        {
          "output_type": "execute_result",
          "data": {
            "text/plain": [
              "(3000, 50)"
            ]
          },
          "metadata": {
            "tags": []
          },
          "execution_count": 132
        }
      ]
    },
    {
      "metadata": {
        "id": "R8wZSAFCP8h9",
        "colab_type": "text"
      },
      "cell_type": "markdown",
      "source": [
        "Apply t-SNE "
      ]
    },
    {
      "metadata": {
        "id": "0fDV3bsbjddS",
        "colab_type": "code",
        "colab": {}
      },
      "cell_type": "code",
      "source": [
        "from sklearn.manifold import TSNE\n",
        "\n",
        "tsne = TSNE(n_components=2, random_state=13, perplexity=50, early_exaggeration = 14, learning_rate = 225)\n",
        "\n",
        "review_vector_3k_tsne = tsne.fit_transform(corpus_tfidf_weighted_w2v)"
      ],
      "execution_count": 0,
      "outputs": []
    },
    {
      "metadata": {
        "id": "_FlhX_9iQOCW",
        "colab_type": "text"
      },
      "cell_type": "markdown",
      "source": [
        "The dimensions of the array reduced to 2 as expected."
      ]
    },
    {
      "metadata": {
        "id": "ftu1Q0TBkj5w",
        "colab_type": "code",
        "colab": {
          "base_uri": "https://localhost:8080/",
          "height": 34
        },
        "outputId": "12d8d8fa-06c3-4c63-900b-013f88893d9b"
      },
      "cell_type": "code",
      "source": [
        "review_vector_3k_tsne.shape"
      ],
      "execution_count": 134,
      "outputs": [
        {
          "output_type": "execute_result",
          "data": {
            "text/plain": [
              "(3000, 2)"
            ]
          },
          "metadata": {
            "tags": []
          },
          "execution_count": 134
        }
      ]
    },
    {
      "metadata": {
        "id": "kJplJMefQVkz",
        "colab_type": "text"
      },
      "cell_type": "markdown",
      "source": [
        "Build a dataframe."
      ]
    },
    {
      "metadata": {
        "id": "BXbT588Sjc2A",
        "colab_type": "code",
        "colab": {}
      },
      "cell_type": "code",
      "source": [
        "avg_tfidf_weighted_w2v_tsne_3k_array = np.vstack((review_vector_3k_tsne.T, df_np['Score'])).T\n",
        "df_avg_tfidf_weighted_w2v_tsne_3k = pd.DataFrame(avg_tfidf_weighted_w2v_tsne_3k_array, columns=['First Dimension', 'Second Dimension', 'Label'])"
      ],
      "execution_count": 0,
      "outputs": []
    },
    {
      "metadata": {
        "id": "Jt_VRxdtjcoP",
        "colab_type": "code",
        "colab": {
          "base_uri": "https://localhost:8080/",
          "height": 441
        },
        "outputId": "70867d35-32cb-4c93-cb95-5cc679caab42"
      },
      "cell_type": "code",
      "source": [
        "sbn.FacetGrid(df_avg_w2v_tsne_3k, hue=\"Label\", size=6).map(plt.scatter, 'First Dimension', 'Second Dimension').add_legend()\n",
        "plt.show()"
      ],
      "execution_count": 136,
      "outputs": [
        {
          "output_type": "display_data",
          "data": {
            "image/png": "[encoded data removed]",
            "text/plain": [
              "<matplotlib.figure.Figure at 0x7fcfa467ba90>"
            ]
          },
          "metadata": {
            "tags": []
          }
        }
      ]
    },
    {
      "metadata": {
        "id": "RQdTVxZXQato",
        "colab_type": "text"
      },
      "cell_type": "markdown",
      "source": [
        "The tfidf weighted W2V plot is not very different from the plot obtained using the avg. W2V representation. "
      ]
    },
    {
      "metadata": {
        "id": "OVHAVAawQ3-g",
        "colab_type": "text"
      },
      "cell_type": "markdown",
      "source": [
        "TFIDF values of words in a review"
      ]
    },
    {
      "metadata": {
        "id": "xxoslXacbyQw",
        "colab_type": "code",
        "colab": {
          "base_uri": "https://localhost:8080/",
          "height": 333
        },
        "outputId": "83e0f815-8048-4654-e880-ed763a5e6a8f"
      },
      "cell_type": "code",
      "source": [
        "review = 414\n",
        "\n",
        "for word in df_np['cleaned_text'][review].decode('utf-8').split():\n",
        "    \n",
        "    print('{} : {}'.format(word, tfidf[review, features.index(word)]))"
      ],
      "execution_count": 130,
      "outputs": [
        {
          "output_type": "stream",
          "text": [
            "chip : 0.0\n",
            "right : 0.0\n",
            "amount : 0.0\n",
            "crunch : 0.0\n",
            "enjoy : 0.0\n",
            "tast : 0.11877744889822464\n",
            "chip : 0.0\n",
            "consist : 0.1376015524136066\n",
            "fairli : 0.0\n",
            "even : 0.0\n",
            "distribut : 0.0\n",
            "season : 0.0\n",
            "like : 0.11664406503962119\n",
            "size : 0.0\n",
            "bag : 0.0\n",
            "right : 0.0\n",
            "amount : 0.0\n",
            "chip : 0.0\n"
          ],
          "name": "stdout"
        }
      ]
    },
    {
      "metadata": {
        "id": "Ff7n7ujvQ-1t",
        "colab_type": "text"
      },
      "cell_type": "markdown",
      "source": [
        "## Conclusion\n",
        "\n",
        "In this exercise, I achieved the following goals:\n",
        "\n",
        "* Cleaning dirty data. \n",
        "            The original food reviews dataset contains lots of duplicate entries and HTML tags.\n",
        "* Vector representation of text using techniques such as \n",
        "            Bag Of Words (unigram & bigram), Tfidf, Doc2Vec, Avg. W2V, Tfidf weighted W2V\n",
        "            \n",
        "* Applying t-SNE on text data, which are represented in the form of vectors to reduce dimensions from hundreds to just two.\n",
        "\n",
        "* The cluster seperation may be improved by using larger amount of data. Due to limitations of hardware, I used just 3000 reviews in the dataset which is about 0.57% the size of the original dataset."
      ]
    }
  ]
}