{
 "cells": [
  {
   "cell_type": "markdown",
   "metadata": {},
   "source": [
    "# Objective\n",
    "\n",
    "To reduce the number of dimensions of the Amazon food reviews dataset using t-SNE so that we can visualize it using a scatterplot. The plot should ideally segeregate positive and negative reviews so that we can visually distinguish them.\n",
    "\n",
    "I'm not building a classification model here. The objective of this exercise is to drastically reduce the number of dimensions in text data and verify whether t-SNE is able to preserve the essence of the data."
   ]
  },
  {
   "cell_type": "markdown",
   "metadata": {},
   "source": [
    "As always, let's start by importing the libraries we need."
   ]
  },
  {
   "cell_type": "code",
   "execution_count": 1,
   "metadata": {},
   "outputs": [],
   "source": [
    "%matplotlib inline\n",
    "\n",
    "import sqlite3\n",
    "import pandas as pd\n",
    "import numpy as np\n",
    "import matplotlib.pyplot as plt\n",
    "import seaborn as sbn\n",
    "import nltk\n",
    "from sklearn.feature_extraction.text import TfidfTransformer, TfidfVectorizer, CountVectorizer\n",
    "from sklearn.metrics import confusion_matrix, roc_curve, auc\n",
    "from nltk.stem.porter import PorterStemmer"
   ]
  },
  {
   "cell_type": "markdown",
   "metadata": {},
   "source": [
    "The data is present on the disk in the form of a sqlite file. Let's connect to it to retrive the data we need."
   ]
  },
  {
   "cell_type": "code",
   "execution_count": 2,
   "metadata": {},
   "outputs": [],
   "source": [
    "# load sqlite database\n",
    "con = sqlite3.connect(r'C:\\Users\\ucanr\\aaic\\database.sqlite')"
   ]
  },
  {
   "cell_type": "markdown",
   "metadata": {},
   "source": [
    "Since the aim here is to just visualize the positive and negative reviews, I select only the reviews that aren't neutral. It's a fair assumption that the reviews with score = 3 are neutral."
   ]
  },
  {
   "cell_type": "code",
   "execution_count": 3,
   "metadata": {},
   "outputs": [],
   "source": [
    "df = pd.read_sql_query(\"select * from reviews where score <> 3;\", con)"
   ]
  },
  {
   "cell_type": "code",
   "execution_count": 4,
   "metadata": {},
   "outputs": [
    {
     "name": "stdout",
     "output_type": "stream",
     "text": [
      "<class 'pandas.core.frame.DataFrame'>\n",
      "RangeIndex: 525814 entries, 0 to 525813\n",
      "Data columns (total 10 columns):\n",
      "Id                        525814 non-null int64\n",
      "ProductId                 525814 non-null object\n",
      "UserId                    525814 non-null object\n",
      "ProfileName               525814 non-null object\n",
      "HelpfulnessNumerator      525814 non-null int64\n",
      "HelpfulnessDenominator    525814 non-null int64\n",
      "Score                     525814 non-null int64\n",
      "Time                      525814 non-null int64\n",
      "Summary                   525814 non-null object\n",
      "Text                      525814 non-null object\n",
      "dtypes: int64(5), object(5)\n",
      "memory usage: 40.1+ MB\n"
     ]
    }
   ],
   "source": [
    "df.info()"
   ]
  },
  {
   "cell_type": "markdown",
   "metadata": {},
   "source": [
    "For this exercise, we want score to be a categorical feature.\n",
    "* Mark reviews with rating > 3 as positive\n",
    "* Mark reviews with rating < 3 as negative"
   ]
  },
  {
   "cell_type": "code",
   "execution_count": 5,
   "metadata": {},
   "outputs": [],
   "source": [
    "m1 =  df['Score'] > 3 \n",
    "m2 =  df['Score'] < 3 \n",
    "\n",
    "df['Score'] = np.select([m1,m2], ['positive','negative'])"
   ]
  },
  {
   "cell_type": "code",
   "execution_count": 6,
   "metadata": {},
   "outputs": [
    {
     "data": {
      "text/plain": [
       "positive    443777\n",
       "negative     82037\n",
       "Name: Score, dtype: int64"
      ]
     },
     "execution_count": 6,
     "metadata": {},
     "output_type": "execute_result"
    }
   ],
   "source": [
    "df.Score.value_counts()"
   ]
  },
  {
   "cell_type": "markdown",
   "metadata": {},
   "source": [
    "Let's change the datatype of Score in our Pandas dataframe to 'Category'. Using Categories instead of the default 'Object' datatype leads to performance improvement."
   ]
  },
  {
   "cell_type": "code",
   "execution_count": 7,
   "metadata": {},
   "outputs": [
    {
     "name": "stdout",
     "output_type": "stream",
     "text": [
      "<class 'pandas.core.frame.DataFrame'>\n",
      "RangeIndex: 525814 entries, 0 to 525813\n",
      "Data columns (total 10 columns):\n",
      "Id                        525814 non-null int64\n",
      "ProductId                 525814 non-null object\n",
      "UserId                    525814 non-null object\n",
      "ProfileName               525814 non-null object\n",
      "HelpfulnessNumerator      525814 non-null int64\n",
      "HelpfulnessDenominator    525814 non-null int64\n",
      "Score                     525814 non-null category\n",
      "Time                      525814 non-null int64\n",
      "Summary                   525814 non-null object\n",
      "Text                      525814 non-null object\n",
      "dtypes: category(1), int64(4), object(5)\n",
      "memory usage: 36.6+ MB\n"
     ]
    }
   ],
   "source": [
    "df['Score']=df['Score'].astype('category')\n",
    "df.info()"
   ]
  },
  {
   "cell_type": "code",
   "execution_count": 8,
   "metadata": {},
   "outputs": [
    {
     "data": {
      "text/html": [
       "<div>\n",
       "<style scoped>\n",
       "    .dataframe tbody tr th:only-of-type {\n",
       "        vertical-align: middle;\n",
       "    }\n",
       "\n",
       "    .dataframe tbody tr th {\n",
       "        vertical-align: top;\n",
       "    }\n",
       "\n",
       "    .dataframe thead th {\n",
       "        text-align: right;\n",
       "    }\n",
       "</style>\n",
       "<table border=\"1\" class=\"dataframe\">\n",
       "  <thead>\n",
       "    <tr style=\"text-align: right;\">\n",
       "      <th></th>\n",
       "      <th>Id</th>\n",
       "      <th>ProductId</th>\n",
       "      <th>UserId</th>\n",
       "      <th>ProfileName</th>\n",
       "      <th>HelpfulnessNumerator</th>\n",
       "      <th>HelpfulnessDenominator</th>\n",
       "      <th>Score</th>\n",
       "      <th>Time</th>\n",
       "      <th>Summary</th>\n",
       "      <th>Text</th>\n",
       "    </tr>\n",
       "  </thead>\n",
       "  <tbody>\n",
       "    <tr>\n",
       "      <th>0</th>\n",
       "      <td>1</td>\n",
       "      <td>B001E4KFG0</td>\n",
       "      <td>A3SGXH7AUHU8GW</td>\n",
       "      <td>delmartian</td>\n",
       "      <td>1</td>\n",
       "      <td>1</td>\n",
       "      <td>positive</td>\n",
       "      <td>1303862400</td>\n",
       "      <td>Good Quality Dog Food</td>\n",
       "      <td>I have bought several of the Vitality canned d...</td>\n",
       "    </tr>\n",
       "    <tr>\n",
       "      <th>1</th>\n",
       "      <td>2</td>\n",
       "      <td>B00813GRG4</td>\n",
       "      <td>A1D87F6ZCVE5NK</td>\n",
       "      <td>dll pa</td>\n",
       "      <td>0</td>\n",
       "      <td>0</td>\n",
       "      <td>negative</td>\n",
       "      <td>1346976000</td>\n",
       "      <td>Not as Advertised</td>\n",
       "      <td>Product arrived labeled as Jumbo Salted Peanut...</td>\n",
       "    </tr>\n",
       "    <tr>\n",
       "      <th>2</th>\n",
       "      <td>3</td>\n",
       "      <td>B000LQOCH0</td>\n",
       "      <td>ABXLMWJIXXAIN</td>\n",
       "      <td>Natalia Corres \"Natalia Corres\"</td>\n",
       "      <td>1</td>\n",
       "      <td>1</td>\n",
       "      <td>positive</td>\n",
       "      <td>1219017600</td>\n",
       "      <td>\"Delight\" says it all</td>\n",
       "      <td>This is a confection that has been around a fe...</td>\n",
       "    </tr>\n",
       "    <tr>\n",
       "      <th>3</th>\n",
       "      <td>4</td>\n",
       "      <td>B000UA0QIQ</td>\n",
       "      <td>A395BORC6FGVXV</td>\n",
       "      <td>Karl</td>\n",
       "      <td>3</td>\n",
       "      <td>3</td>\n",
       "      <td>negative</td>\n",
       "      <td>1307923200</td>\n",
       "      <td>Cough Medicine</td>\n",
       "      <td>If you are looking for the secret ingredient i...</td>\n",
       "    </tr>\n",
       "    <tr>\n",
       "      <th>4</th>\n",
       "      <td>5</td>\n",
       "      <td>B006K2ZZ7K</td>\n",
       "      <td>A1UQRSCLF8GW1T</td>\n",
       "      <td>Michael D. Bigham \"M. Wassir\"</td>\n",
       "      <td>0</td>\n",
       "      <td>0</td>\n",
       "      <td>positive</td>\n",
       "      <td>1350777600</td>\n",
       "      <td>Great taffy</td>\n",
       "      <td>Great taffy at a great price.  There was a wid...</td>\n",
       "    </tr>\n",
       "  </tbody>\n",
       "</table>\n",
       "</div>"
      ],
      "text/plain": [
       "   Id   ProductId          UserId                      ProfileName  \\\n",
       "0   1  B001E4KFG0  A3SGXH7AUHU8GW                       delmartian   \n",
       "1   2  B00813GRG4  A1D87F6ZCVE5NK                           dll pa   \n",
       "2   3  B000LQOCH0   ABXLMWJIXXAIN  Natalia Corres \"Natalia Corres\"   \n",
       "3   4  B000UA0QIQ  A395BORC6FGVXV                             Karl   \n",
       "4   5  B006K2ZZ7K  A1UQRSCLF8GW1T    Michael D. Bigham \"M. Wassir\"   \n",
       "\n",
       "   HelpfulnessNumerator  HelpfulnessDenominator     Score        Time  \\\n",
       "0                     1                       1  positive  1303862400   \n",
       "1                     0                       0  negative  1346976000   \n",
       "2                     1                       1  positive  1219017600   \n",
       "3                     3                       3  negative  1307923200   \n",
       "4                     0                       0  positive  1350777600   \n",
       "\n",
       "                 Summary                                               Text  \n",
       "0  Good Quality Dog Food  I have bought several of the Vitality canned d...  \n",
       "1      Not as Advertised  Product arrived labeled as Jumbo Salted Peanut...  \n",
       "2  \"Delight\" says it all  This is a confection that has been around a fe...  \n",
       "3         Cough Medicine  If you are looking for the secret ingredient i...  \n",
       "4            Great taffy  Great taffy at a great price.  There was a wid...  "
      ]
     },
     "execution_count": 8,
     "metadata": {},
     "output_type": "execute_result"
    }
   ],
   "source": [
    "df.head()"
   ]
  },
  {
   "cell_type": "markdown",
   "metadata": {},
   "source": [
    "Are there any duplicate rows in the dataset?\n",
    "Just looking at the text column, we clearly see that there are duplicates."
   ]
  },
  {
   "cell_type": "code",
   "execution_count": 9,
   "metadata": {},
   "outputs": [
    {
     "data": {
      "text/plain": [
       "False    363836\n",
       "True     161978\n",
       "dtype: int64"
      ]
     },
     "execution_count": 9,
     "metadata": {},
     "output_type": "execute_result"
    }
   ],
   "source": [
    "df.duplicated('Text').value_counts()"
   ]
  },
  {
   "cell_type": "markdown",
   "metadata": {},
   "source": [
    "There are also a few anomalies in the data where the HelpfulnessNumerator is greater than the helpfulnessDenominator. We need to get rid of them."
   ]
  },
  {
   "cell_type": "code",
   "execution_count": 10,
   "metadata": {},
   "outputs": [
    {
     "data": {
      "text/html": [
       "<div>\n",
       "<style scoped>\n",
       "    .dataframe tbody tr th:only-of-type {\n",
       "        vertical-align: middle;\n",
       "    }\n",
       "\n",
       "    .dataframe tbody tr th {\n",
       "        vertical-align: top;\n",
       "    }\n",
       "\n",
       "    .dataframe thead th {\n",
       "        text-align: right;\n",
       "    }\n",
       "</style>\n",
       "<table border=\"1\" class=\"dataframe\">\n",
       "  <thead>\n",
       "    <tr style=\"text-align: right;\">\n",
       "      <th></th>\n",
       "      <th>Id</th>\n",
       "      <th>ProductId</th>\n",
       "      <th>UserId</th>\n",
       "      <th>ProfileName</th>\n",
       "      <th>HelpfulnessNumerator</th>\n",
       "      <th>HelpfulnessDenominator</th>\n",
       "      <th>Score</th>\n",
       "      <th>Time</th>\n",
       "      <th>Summary</th>\n",
       "      <th>Text</th>\n",
       "    </tr>\n",
       "  </thead>\n",
       "  <tbody>\n",
       "    <tr>\n",
       "      <th>41159</th>\n",
       "      <td>44737</td>\n",
       "      <td>B001EQ55RW</td>\n",
       "      <td>A2V0I904FH7ABY</td>\n",
       "      <td>Ram</td>\n",
       "      <td>3</td>\n",
       "      <td>2</td>\n",
       "      <td>positive</td>\n",
       "      <td>1212883200</td>\n",
       "      <td>Pure cocoa taste with crunchy almonds inside</td>\n",
       "      <td>It was almost a 'love at first bite' - the per...</td>\n",
       "    </tr>\n",
       "    <tr>\n",
       "      <th>59301</th>\n",
       "      <td>64422</td>\n",
       "      <td>B000MIDROQ</td>\n",
       "      <td>A161DK06JJMCYF</td>\n",
       "      <td>J. E. Stephens \"Jeanne\"</td>\n",
       "      <td>3</td>\n",
       "      <td>1</td>\n",
       "      <td>positive</td>\n",
       "      <td>1224892800</td>\n",
       "      <td>Bought This for My Son at College</td>\n",
       "      <td>My son loves spaghetti so I didn't hesitate or...</td>\n",
       "    </tr>\n",
       "  </tbody>\n",
       "</table>\n",
       "</div>"
      ],
      "text/plain": [
       "          Id   ProductId          UserId              ProfileName  \\\n",
       "41159  44737  B001EQ55RW  A2V0I904FH7ABY                      Ram   \n",
       "59301  64422  B000MIDROQ  A161DK06JJMCYF  J. E. Stephens \"Jeanne\"   \n",
       "\n",
       "       HelpfulnessNumerator  HelpfulnessDenominator     Score        Time  \\\n",
       "41159                     3                       2  positive  1212883200   \n",
       "59301                     3                       1  positive  1224892800   \n",
       "\n",
       "                                            Summary  \\\n",
       "41159  Pure cocoa taste with crunchy almonds inside   \n",
       "59301             Bought This for My Son at College   \n",
       "\n",
       "                                                    Text  \n",
       "41159  It was almost a 'love at first bite' - the per...  \n",
       "59301  My son loves spaghetti so I didn't hesitate or...  "
      ]
     },
     "execution_count": 10,
     "metadata": {},
     "output_type": "execute_result"
    }
   ],
   "source": [
    "df[df['HelpfulnessNumerator'] > df['HelpfulnessDenominator']]"
   ]
  },
  {
   "cell_type": "markdown",
   "metadata": {},
   "source": [
    "Let's drop these erraneous points using the drop() method given by pandas."
   ]
  },
  {
   "cell_type": "code",
   "execution_count": 11,
   "metadata": {},
   "outputs": [],
   "source": [
    "df.drop(df[df['HelpfulnessNumerator'] > df['HelpfulnessDenominator']].index.tolist(), axis=0, inplace=True)"
   ]
  },
  {
   "cell_type": "markdown",
   "metadata": {},
   "source": [
    "Verify whether the rows have been dropped."
   ]
  },
  {
   "cell_type": "code",
   "execution_count": 12,
   "metadata": {},
   "outputs": [
    {
     "data": {
      "text/html": [
       "<div>\n",
       "<style scoped>\n",
       "    .dataframe tbody tr th:only-of-type {\n",
       "        vertical-align: middle;\n",
       "    }\n",
       "\n",
       "    .dataframe tbody tr th {\n",
       "        vertical-align: top;\n",
       "    }\n",
       "\n",
       "    .dataframe thead th {\n",
       "        text-align: right;\n",
       "    }\n",
       "</style>\n",
       "<table border=\"1\" class=\"dataframe\">\n",
       "  <thead>\n",
       "    <tr style=\"text-align: right;\">\n",
       "      <th></th>\n",
       "      <th>Id</th>\n",
       "      <th>ProductId</th>\n",
       "      <th>UserId</th>\n",
       "      <th>ProfileName</th>\n",
       "      <th>HelpfulnessNumerator</th>\n",
       "      <th>HelpfulnessDenominator</th>\n",
       "      <th>Score</th>\n",
       "      <th>Time</th>\n",
       "      <th>Summary</th>\n",
       "      <th>Text</th>\n",
       "    </tr>\n",
       "  </thead>\n",
       "  <tbody>\n",
       "  </tbody>\n",
       "</table>\n",
       "</div>"
      ],
      "text/plain": [
       "Empty DataFrame\n",
       "Columns: [Id, ProductId, UserId, ProfileName, HelpfulnessNumerator, HelpfulnessDenominator, Score, Time, Summary, Text]\n",
       "Index: []"
      ]
     },
     "execution_count": 12,
     "metadata": {},
     "output_type": "execute_result"
    }
   ],
   "source": [
    "df [df['HelpfulnessNumerator'] > df['HelpfulnessDenominator']]"
   ]
  },
  {
   "cell_type": "code",
   "execution_count": 13,
   "metadata": {},
   "outputs": [
    {
     "name": "stdout",
     "output_type": "stream",
     "text": [
      "<class 'pandas.core.frame.DataFrame'>\n",
      "Int64Index: 525812 entries, 0 to 525813\n",
      "Data columns (total 10 columns):\n",
      "Id                        525812 non-null int64\n",
      "ProductId                 525812 non-null object\n",
      "UserId                    525812 non-null object\n",
      "ProfileName               525812 non-null object\n",
      "HelpfulnessNumerator      525812 non-null int64\n",
      "HelpfulnessDenominator    525812 non-null int64\n",
      "Score                     525812 non-null category\n",
      "Time                      525812 non-null int64\n",
      "Summary                   525812 non-null object\n",
      "Text                      525812 non-null object\n",
      "dtypes: category(1), int64(4), object(5)\n",
      "memory usage: 40.6+ MB\n"
     ]
    }
   ],
   "source": [
    "df.info()"
   ]
  },
  {
   "cell_type": "markdown",
   "metadata": {},
   "source": [
    "Now, let's drop the reviews which have the same data for the attributes:\n",
    "* UserId\n",
    "* ProfileName\n",
    "* Time\n",
    "* Text\n",
    "\n",
    "These are the reviews for same products, duplicated in the dataset due to Amazon considering slight variations of the same product to be different products. i.e. A food item with red color would be different than the same item of green color. We need to drop these."
   ]
  },
  {
   "cell_type": "code",
   "execution_count": 14,
   "metadata": {},
   "outputs": [],
   "source": [
    "df.drop_duplicates(subset={\"UserId\",\"ProfileName\",\"Time\",\"Text\"}, keep = 'first', inplace=True)"
   ]
  },
  {
   "cell_type": "code",
   "execution_count": 15,
   "metadata": {},
   "outputs": [
    {
     "name": "stdout",
     "output_type": "stream",
     "text": [
      "<class 'pandas.core.frame.DataFrame'>\n",
      "Int64Index: 364171 entries, 0 to 525813\n",
      "Data columns (total 10 columns):\n",
      "Id                        364171 non-null int64\n",
      "ProductId                 364171 non-null object\n",
      "UserId                    364171 non-null object\n",
      "ProfileName               364171 non-null object\n",
      "HelpfulnessNumerator      364171 non-null int64\n",
      "HelpfulnessDenominator    364171 non-null int64\n",
      "Score                     364171 non-null category\n",
      "Time                      364171 non-null int64\n",
      "Summary                   364171 non-null object\n",
      "Text                      364171 non-null object\n",
      "dtypes: category(1), int64(4), object(5)\n",
      "memory usage: 28.1+ MB\n"
     ]
    }
   ],
   "source": [
    "df.info()"
   ]
  },
  {
   "cell_type": "markdown",
   "metadata": {},
   "source": [
    "Sort data by Time"
   ]
  },
  {
   "cell_type": "code",
   "execution_count": 16,
   "metadata": {},
   "outputs": [],
   "source": [
    "df.sort_values('Time', ascending=True,inplace=True)"
   ]
  },
  {
   "cell_type": "code",
   "execution_count": 19,
   "metadata": {},
   "outputs": [
    {
     "data": {
      "text/html": [
       "<div>\n",
       "<style scoped>\n",
       "    .dataframe tbody tr th:only-of-type {\n",
       "        vertical-align: middle;\n",
       "    }\n",
       "\n",
       "    .dataframe tbody tr th {\n",
       "        vertical-align: top;\n",
       "    }\n",
       "\n",
       "    .dataframe thead th {\n",
       "        text-align: right;\n",
       "    }\n",
       "</style>\n",
       "<table border=\"1\" class=\"dataframe\">\n",
       "  <thead>\n",
       "    <tr style=\"text-align: right;\">\n",
       "      <th></th>\n",
       "      <th>Id</th>\n",
       "      <th>ProductId</th>\n",
       "      <th>UserId</th>\n",
       "      <th>ProfileName</th>\n",
       "      <th>HelpfulnessNumerator</th>\n",
       "      <th>HelpfulnessDenominator</th>\n",
       "      <th>Score</th>\n",
       "      <th>Time</th>\n",
       "      <th>Summary</th>\n",
       "      <th>Text</th>\n",
       "    </tr>\n",
       "  </thead>\n",
       "  <tbody>\n",
       "    <tr>\n",
       "      <th>138706</th>\n",
       "      <td>150524</td>\n",
       "      <td>0006641040</td>\n",
       "      <td>ACITT7DI6IDDL</td>\n",
       "      <td>shari zychinski</td>\n",
       "      <td>0</td>\n",
       "      <td>0</td>\n",
       "      <td>positive</td>\n",
       "      <td>939340800</td>\n",
       "      <td>EVERY book is educational</td>\n",
       "      <td>this witty little book makes my son laugh at l...</td>\n",
       "    </tr>\n",
       "    <tr>\n",
       "      <th>138683</th>\n",
       "      <td>150501</td>\n",
       "      <td>0006641040</td>\n",
       "      <td>AJ46FKXOVC7NR</td>\n",
       "      <td>Nicholas A Mesiano</td>\n",
       "      <td>2</td>\n",
       "      <td>2</td>\n",
       "      <td>positive</td>\n",
       "      <td>940809600</td>\n",
       "      <td>This whole series is great way to spend time w...</td>\n",
       "      <td>I can remember seeing the show when it aired o...</td>\n",
       "    </tr>\n",
       "    <tr>\n",
       "      <th>417839</th>\n",
       "      <td>451856</td>\n",
       "      <td>B00004CXX9</td>\n",
       "      <td>AIUWLEQ1ADEG5</td>\n",
       "      <td>Elizabeth Medina</td>\n",
       "      <td>0</td>\n",
       "      <td>0</td>\n",
       "      <td>positive</td>\n",
       "      <td>944092800</td>\n",
       "      <td>Entertainingl Funny!</td>\n",
       "      <td>Beetlejuice is a well written movie ..... ever...</td>\n",
       "    </tr>\n",
       "    <tr>\n",
       "      <th>212472</th>\n",
       "      <td>230285</td>\n",
       "      <td>B00004RYGX</td>\n",
       "      <td>A344SMIA5JECGM</td>\n",
       "      <td>Vincent P. Ross</td>\n",
       "      <td>1</td>\n",
       "      <td>2</td>\n",
       "      <td>positive</td>\n",
       "      <td>944438400</td>\n",
       "      <td>A modern day fairy tale</td>\n",
       "      <td>A twist of rumplestiskin captured on film, sta...</td>\n",
       "    </tr>\n",
       "    <tr>\n",
       "      <th>417838</th>\n",
       "      <td>451855</td>\n",
       "      <td>B00004CXX9</td>\n",
       "      <td>AJH6LUC1UT1ON</td>\n",
       "      <td>The Phantom of the Opera</td>\n",
       "      <td>0</td>\n",
       "      <td>0</td>\n",
       "      <td>positive</td>\n",
       "      <td>946857600</td>\n",
       "      <td>FANTASTIC!</td>\n",
       "      <td>Beetlejuice is an excellent and funny movie. K...</td>\n",
       "    </tr>\n",
       "  </tbody>\n",
       "</table>\n",
       "</div>"
      ],
      "text/plain": [
       "            Id   ProductId          UserId               ProfileName  \\\n",
       "138706  150524  0006641040   ACITT7DI6IDDL           shari zychinski   \n",
       "138683  150501  0006641040   AJ46FKXOVC7NR        Nicholas A Mesiano   \n",
       "417839  451856  B00004CXX9   AIUWLEQ1ADEG5          Elizabeth Medina   \n",
       "212472  230285  B00004RYGX  A344SMIA5JECGM           Vincent P. Ross   \n",
       "417838  451855  B00004CXX9   AJH6LUC1UT1ON  The Phantom of the Opera   \n",
       "\n",
       "        HelpfulnessNumerator  HelpfulnessDenominator     Score       Time  \\\n",
       "138706                     0                       0  positive  939340800   \n",
       "138683                     2                       2  positive  940809600   \n",
       "417839                     0                       0  positive  944092800   \n",
       "212472                     1                       2  positive  944438400   \n",
       "417838                     0                       0  positive  946857600   \n",
       "\n",
       "                                                  Summary  \\\n",
       "138706                          EVERY book is educational   \n",
       "138683  This whole series is great way to spend time w...   \n",
       "417839                               Entertainingl Funny!   \n",
       "212472                            A modern day fairy tale   \n",
       "417838                                         FANTASTIC!   \n",
       "\n",
       "                                                     Text  \n",
       "138706  this witty little book makes my son laugh at l...  \n",
       "138683  I can remember seeing the show when it aired o...  \n",
       "417839  Beetlejuice is a well written movie ..... ever...  \n",
       "212472  A twist of rumplestiskin captured on film, sta...  \n",
       "417838  Beetlejuice is an excellent and funny movie. K...  "
      ]
     },
     "execution_count": 19,
     "metadata": {},
     "output_type": "execute_result"
    }
   ],
   "source": [
    "df.head()"
   ]
  },
  {
   "cell_type": "markdown",
   "metadata": {},
   "source": [
    "Dropping the duplicate significantly reduces the size of our dataframe."
   ]
  },
  {
   "cell_type": "code",
   "execution_count": 20,
   "metadata": {},
   "outputs": [
    {
     "data": {
      "text/plain": [
       "(364171, 10)"
      ]
     },
     "execution_count": 20,
     "metadata": {},
     "output_type": "execute_result"
    }
   ],
   "source": [
    "df.shape"
   ]
  },
  {
   "cell_type": "markdown",
   "metadata": {},
   "source": [
    "### Text Cleaning"
   ]
  },
  {
   "cell_type": "markdown",
   "metadata": {},
   "source": [
    "Data collected from the web often contains unrendered HTML tags in them. Let's see if our reviews have them. We are only interested in the 'Text' column, because this is the column that will help us decide if a review is positive or negative. "
   ]
  },
  {
   "cell_type": "code",
   "execution_count": 35,
   "metadata": {},
   "outputs": [],
   "source": [
    "import re\n",
    "\n",
    "i=0\n",
    "for review in df['Text'].values:\n",
    "    if (len(re.findall('<.*>', review))):\n",
    "            i+=1\n",
    "            r=review"
   ]
  },
  {
   "cell_type": "code",
   "execution_count": 36,
   "metadata": {},
   "outputs": [
    {
     "name": "stdout",
     "output_type": "stream",
     "text": [
      "Number of reviews which contain HTML tags: 93153\n",
      "\n",
      "------------------\n",
      "\n",
      "Sample review containing HTML tags: They slush. All others turn into a frozen stick. A tasty piece of ice. Well, I don't like crunching ice, but I do like these because they freeze in a way that makes them not rock hard.<br /><br />Probably a chemical that prevents the ice-cube effect, that is no good for me, but I don't care, they are just too tasty and they can be eaten without using your teeth.<br /><br />So good.\n"
     ]
    }
   ],
   "source": [
    "print('Number of reviews which contain HTML tags: {}'.format(i), end='\\n\\n------------------\\n\\n')\n",
    "print('Sample review containing HTML tags: {}'.format(r))"
   ]
  },
  {
   "cell_type": "markdown",
   "metadata": {},
   "source": [
    "Let's import some text processing libraries we need. "
   ]
  },
  {
   "cell_type": "code",
   "execution_count": 2,
   "metadata": {},
   "outputs": [],
   "source": [
    "import re\n",
    "from nltk.corpus import stopwords\n",
    "from nltk.stem import PorterStemmer\n",
    "from nltk.stem.wordnet import WordNetLemmatizer"
   ]
  },
  {
   "cell_type": "markdown",
   "metadata": {},
   "source": [
    "Define the stemmer and a couple of functions we'll need"
   ]
  },
  {
   "cell_type": "code",
   "execution_count": 50,
   "metadata": {},
   "outputs": [],
   "source": [
    "stop_words = set(stopwords.words('english'))\n",
    "porter = PorterStemmer()\n",
    "lemma = WordNetLemmatizer()\n",
    "\n",
    "def clean_html(sentence, compiled_regex):\n",
    "    cleaned_sentence = re.sub(compiled_regex, ' ', sentence)\n",
    "    return cleaned_sentence\n",
    "\n",
    "def clean_punctuation(sentence):\n",
    "    cleaned_sentence = re.sub(r'[?|!|\\'|\"|#]', r'', sentence)\n",
    "    cleaned_sentence = re.sub(r'[.|,|)|(|\\|/]', r' ', cleaned_sentence)\n",
    "    return cleaned_sentence"
   ]
  },
  {
   "cell_type": "code",
   "execution_count": 54,
   "metadata": {},
   "outputs": [
    {
     "name": "stdout",
     "output_type": "stream",
     "text": [
      "{\"haven't\", 'hadn', 'ours', 'that', 'between', 'during', 'being', 'of', 'few', 'there', 't', 'below', \"didn't\", 'couldn', 'off', 'will', \"doesn't\", 'does', 've', 'have', 'their', 'hasn', 'the', \"won't\", 'here', 'my', 'am', 'should', \"hadn't\", 'whom', 'in', 'all', 'a', 'himself', 'as', 'm', 'are', \"couldn't\", 'both', \"you're\", 'into', 'such', 'y', \"you've\", \"don't\", 'wouldn', 're', 'from', 'itself', 'wasn', 'won', 'didn', 'over', 'ma', 'haven', 'than', 'me', 'herself', 'mightn', 'who', \"that'll\", 'them', 'did', 'but', 'above', 'll', 'needn', \"you'd\", 'yours', \"she's\", 'they', 'you', 'to', 'by', 'your', 'how', 'not', 'shouldn', 'after', 'weren', 'now', 'nor', 'isn', 'or', 'was', 'his', 'having', 'at', \"hasn't\", \"it's\", 'this', 'hers', \"you'll\", 'don', \"isn't\", 'so', 'be', 'mustn', \"shan't\", \"wasn't\", 'before', 'very', 'is', \"should've\", 'only', 'her', 'about', \"shouldn't\", 'o', 'any', 'it', 'd', \"aren't\", \"needn't\", 'theirs', 'own', 'for', 'other', 'aren', 'yourselves', 'some', 'i', 'while', 'same', 'and', 'out', 's', 'can', 'why', 'because', 'when', \"mustn't\", 'our', 'what', 'with', 'its', 'up', 'each', 'most', 'which', 'if', 'against', 'just', 'doesn', 'shan', 'once', 'more', 'yourself', 'under', 'down', 'she', 'were', 'do', 'on', 'too', 'further', 'had', 'he', 'those', \"weren't\", 'until', 'themselves', 'we', 'him', 'ain', 'an', 'again', 'ourselves', \"wouldn't\", \"mightn't\", 'myself', 'through', 'where', 'then', 'these', 'doing', 'has', 'no', 'been'}\n",
      "\n",
      "-------------------------\n",
      "\n",
      "Stemmed form of \"Goodness\" is: good\n",
      "Lemmatized form of \"Goodness\" is: Goodness\n"
     ]
    }
   ],
   "source": [
    "print(stop_words, end='\\n\\n-------------------------\\n\\n')\n",
    "print('Stemmed form of \"Goodness\" is: {}'.format(porter.stem('Goodness')))\n",
    "print('Lemmatized form of \"Goodness\" is: {}'.format(lemma.lemmatize('Goodness')))"
   ]
  },
  {
   "cell_type": "markdown",
   "metadata": {},
   "source": [
    "Code to clean the entire reviews column based on the checks mentioned above."
   ]
  },
  {
   "cell_type": "code",
   "execution_count": 56,
   "metadata": {},
   "outputs": [],
   "source": [
    "# #Code for implementing step-by-step the checks mentioned in the pre-processing phase\n",
    "# # this code takes a while to run as it needs to run on 500k sentences.\n",
    "# i=0\n",
    "# str1=' '\n",
    "# final_string=[]\n",
    "\n",
    "# all_positive_words=[] # store words from +ve reviews here\n",
    "# all_negative_words=[] # store words from -ve reviews here.\n",
    "\n",
    "# s=''\n",
    "\n",
    "# regex_html=re.compile('<.*?>')\n",
    "\n",
    "# for review in df['Text'].values:\n",
    "#     filtered_sentence=[]\n",
    "#     #print(sent);\n",
    "#     sent=clean_html(review, regex_html) # remove HTMl tags\n",
    "#     for w in review.split():\n",
    "#         for cleaned_words in clean_punctuation(w).split():\n",
    "#             if((cleaned_words.isalpha()) & (len(cleaned_words)>2)):    \n",
    "#                 if(cleaned_words.lower() not in stop_words):\n",
    "#                     s = (porter.stem(cleaned_words.lower())).encode('utf8')\n",
    "#                     filtered_sentence.append(s)\n",
    "#                     if (df['Score'].values)[i] == 'positive': \n",
    "#                         all_positive_words.append(s) #list of all words used to describe positive reviews\n",
    "#                     if(df['Score'].values)[i] == 'negative':\n",
    "#                         all_negative_words.append(s) #list of all words used to describe negative reviews reviews\n",
    "#                 else:\n",
    "#                     continue\n",
    "#             else:\n",
    "#                 continue \n",
    "#     #print(filtered_sentence)\n",
    "#     str1 = b\" \".join(filtered_sentence) #final string of cleaned words\n",
    "#     #print(\"***********************************************************************\")\n",
    "    \n",
    "#     final_string.append(str1)\n",
    "#     i+=1\n",
    "\n",
    "# df['cleaned_text']=final_string #adding a column of CleanedText which displays the data after pre-processing of the review "
   ]
  },
  {
   "cell_type": "code",
   "execution_count": 57,
   "metadata": {},
   "outputs": [
    {
     "data": {
      "text/html": [
       "<div>\n",
       "<style scoped>\n",
       "    .dataframe tbody tr th:only-of-type {\n",
       "        vertical-align: middle;\n",
       "    }\n",
       "\n",
       "    .dataframe tbody tr th {\n",
       "        vertical-align: top;\n",
       "    }\n",
       "\n",
       "    .dataframe thead th {\n",
       "        text-align: right;\n",
       "    }\n",
       "</style>\n",
       "<table border=\"1\" class=\"dataframe\">\n",
       "  <thead>\n",
       "    <tr style=\"text-align: right;\">\n",
       "      <th></th>\n",
       "      <th>Id</th>\n",
       "      <th>ProductId</th>\n",
       "      <th>UserId</th>\n",
       "      <th>ProfileName</th>\n",
       "      <th>HelpfulnessNumerator</th>\n",
       "      <th>HelpfulnessDenominator</th>\n",
       "      <th>Score</th>\n",
       "      <th>Time</th>\n",
       "      <th>Summary</th>\n",
       "      <th>Text</th>\n",
       "      <th>cleaned_text</th>\n",
       "    </tr>\n",
       "  </thead>\n",
       "  <tbody>\n",
       "    <tr>\n",
       "      <th>138706</th>\n",
       "      <td>150524</td>\n",
       "      <td>0006641040</td>\n",
       "      <td>ACITT7DI6IDDL</td>\n",
       "      <td>shari zychinski</td>\n",
       "      <td>0</td>\n",
       "      <td>0</td>\n",
       "      <td>positive</td>\n",
       "      <td>939340800</td>\n",
       "      <td>EVERY book is educational</td>\n",
       "      <td>this witty little book makes my son laugh at l...</td>\n",
       "      <td>b'witti littl book make son laugh loud recit c...</td>\n",
       "    </tr>\n",
       "    <tr>\n",
       "      <th>138683</th>\n",
       "      <td>150501</td>\n",
       "      <td>0006641040</td>\n",
       "      <td>AJ46FKXOVC7NR</td>\n",
       "      <td>Nicholas A Mesiano</td>\n",
       "      <td>2</td>\n",
       "      <td>2</td>\n",
       "      <td>positive</td>\n",
       "      <td>940809600</td>\n",
       "      <td>This whole series is great way to spend time w...</td>\n",
       "      <td>I can remember seeing the show when it aired o...</td>\n",
       "      <td>b'rememb see show air televis year ago child s...</td>\n",
       "    </tr>\n",
       "    <tr>\n",
       "      <th>417839</th>\n",
       "      <td>451856</td>\n",
       "      <td>B00004CXX9</td>\n",
       "      <td>AIUWLEQ1ADEG5</td>\n",
       "      <td>Elizabeth Medina</td>\n",
       "      <td>0</td>\n",
       "      <td>0</td>\n",
       "      <td>positive</td>\n",
       "      <td>944092800</td>\n",
       "      <td>Entertainingl Funny!</td>\n",
       "      <td>Beetlejuice is a well written movie ..... ever...</td>\n",
       "      <td>b'beetlejuic well written movi everyth excel a...</td>\n",
       "    </tr>\n",
       "    <tr>\n",
       "      <th>212472</th>\n",
       "      <td>230285</td>\n",
       "      <td>B00004RYGX</td>\n",
       "      <td>A344SMIA5JECGM</td>\n",
       "      <td>Vincent P. Ross</td>\n",
       "      <td>1</td>\n",
       "      <td>2</td>\n",
       "      <td>positive</td>\n",
       "      <td>944438400</td>\n",
       "      <td>A modern day fairy tale</td>\n",
       "      <td>A twist of rumplestiskin captured on film, sta...</td>\n",
       "      <td>b'twist rumplestiskin captur film star michael...</td>\n",
       "    </tr>\n",
       "    <tr>\n",
       "      <th>417838</th>\n",
       "      <td>451855</td>\n",
       "      <td>B00004CXX9</td>\n",
       "      <td>AJH6LUC1UT1ON</td>\n",
       "      <td>The Phantom of the Opera</td>\n",
       "      <td>0</td>\n",
       "      <td>0</td>\n",
       "      <td>positive</td>\n",
       "      <td>946857600</td>\n",
       "      <td>FANTASTIC!</td>\n",
       "      <td>Beetlejuice is an excellent and funny movie. K...</td>\n",
       "      <td>b'beetlejuic excel funni movi keaton hilari wa...</td>\n",
       "    </tr>\n",
       "  </tbody>\n",
       "</table>\n",
       "</div>"
      ],
      "text/plain": [
       "            Id   ProductId          UserId               ProfileName  \\\n",
       "138706  150524  0006641040   ACITT7DI6IDDL           shari zychinski   \n",
       "138683  150501  0006641040   AJ46FKXOVC7NR        Nicholas A Mesiano   \n",
       "417839  451856  B00004CXX9   AIUWLEQ1ADEG5          Elizabeth Medina   \n",
       "212472  230285  B00004RYGX  A344SMIA5JECGM           Vincent P. Ross   \n",
       "417838  451855  B00004CXX9   AJH6LUC1UT1ON  The Phantom of the Opera   \n",
       "\n",
       "        HelpfulnessNumerator  HelpfulnessDenominator     Score       Time  \\\n",
       "138706                     0                       0  positive  939340800   \n",
       "138683                     2                       2  positive  940809600   \n",
       "417839                     0                       0  positive  944092800   \n",
       "212472                     1                       2  positive  944438400   \n",
       "417838                     0                       0  positive  946857600   \n",
       "\n",
       "                                                  Summary  \\\n",
       "138706                          EVERY book is educational   \n",
       "138683  This whole series is great way to spend time w...   \n",
       "417839                               Entertainingl Funny!   \n",
       "212472                            A modern day fairy tale   \n",
       "417838                                         FANTASTIC!   \n",
       "\n",
       "                                                     Text  \\\n",
       "138706  this witty little book makes my son laugh at l...   \n",
       "138683  I can remember seeing the show when it aired o...   \n",
       "417839  Beetlejuice is a well written movie ..... ever...   \n",
       "212472  A twist of rumplestiskin captured on film, sta...   \n",
       "417838  Beetlejuice is an excellent and funny movie. K...   \n",
       "\n",
       "                                             cleaned_text  \n",
       "138706  b'witti littl book make son laugh loud recit c...  \n",
       "138683  b'rememb see show air televis year ago child s...  \n",
       "417839  b'beetlejuic well written movi everyth excel a...  \n",
       "212472  b'twist rumplestiskin captur film star michael...  \n",
       "417838  b'beetlejuic excel funni movi keaton hilari wa...  "
      ]
     },
     "execution_count": 57,
     "metadata": {},
     "output_type": "execute_result"
    }
   ],
   "source": [
    "df.head()"
   ]
  },
  {
   "cell_type": "markdown",
   "metadata": {},
   "source": [
    "Considering how long it takes for a modest computer to run the above code for cleaning data, it's a good idea to store it  on disk for future use. The entire dataframe along with the newly created column \"cleaned_data\" is stored."
   ]
  },
  {
   "cell_type": "code",
   "execution_count": 59,
   "metadata": {},
   "outputs": [],
   "source": [
    "# conn = sqlite3.connect(r'C:\\Users\\ucanr\\aaic\\reviews_with_processed_text.sqlite')\n",
    "# c=conn.cursor()\n",
    "# conn.text_factory = str\n",
    "# df.to_sql('Reviews', conn, flavor=None, schema=None, if_exists='replace', index=True, index_label=None, chunksize=None, dtype=None)"
   ]
  },
  {
   "cell_type": "code",
   "execution_count": 3,
   "metadata": {},
   "outputs": [],
   "source": [
    "# loading the dataframe again, since I lost all the data after OS restarted. Storing it on the disk was a wise decision.\n",
    "con = sqlite3.connect(r'C:\\Users\\ucanr\\aaic\\reviews_with_processed_text.sqlite')\n",
    "df = pd.read_sql_query('select * from Reviews', con)"
   ]
  },
  {
   "cell_type": "markdown",
   "metadata": {},
   "source": [
    "### Bag of words\n",
    "\n",
    "Let's vectorize the data using the simplest method first: BoW\n",
    "\n",
    "There is class imbalance in our original dataset. The positive reviews are far more than the negative ones. Let's take 1500 positive and 1500 negative samples."
   ]
  },
  {
   "cell_type": "code",
   "execution_count": 9,
   "metadata": {},
   "outputs": [],
   "source": [
    "n = df['Score'] == 'negative'\n",
    "p = df['Score'] == 'positive'\n",
    "#df_n = df[df['Score']]\n",
    "df_n = df[n][['cleaned_text','Score']][:1500]\n",
    "df_p = df[p][['cleaned_text', 'Score']][:1500]\n",
    "\n",
    "df_np = pd.concat([df_n, df_p])\n",
    "\n",
    "#df_np = df_n.stack(df_p)\n",
    "#len(df['Text'])\n",
    "#df['cleaned_text'][0:10000]"
   ]
  },
  {
   "cell_type": "code",
   "execution_count": 12,
   "metadata": {},
   "outputs": [],
   "source": [
    "count_vec = CountVectorizer()\n",
    "final_counts = count_vec.fit_transform(df_np['cleaned_text'].values)"
   ]
  },
  {
   "cell_type": "code",
   "execution_count": 13,
   "metadata": {},
   "outputs": [
    {
     "data": {
      "text/plain": [
       "(3000, 9415)"
      ]
     },
     "execution_count": 13,
     "metadata": {},
     "output_type": "execute_result"
    }
   ],
   "source": [
    "final_counts.get_shape()"
   ]
  },
  {
   "cell_type": "code",
   "execution_count": 14,
   "metadata": {},
   "outputs": [
    {
     "data": {
      "text/plain": [
       "scipy.sparse.csr.csr_matrix"
      ]
     },
     "execution_count": 14,
     "metadata": {},
     "output_type": "execute_result"
    }
   ],
   "source": [
    "type(final_counts)"
   ]
  },
  {
   "cell_type": "code",
   "execution_count": 15,
   "metadata": {},
   "outputs": [],
   "source": [
    "review_vector_3k = final_counts.toarray()"
   ]
  },
  {
   "cell_type": "code",
   "execution_count": 128,
   "metadata": {},
   "outputs": [
    {
     "name": "stderr",
     "output_type": "stream",
     "text": [
      "C:\\Users\\ucanr\\Anaconda3\\lib\\site-packages\\sklearn\\utils\\validation.py:475: DataConversionWarning: Data with input dtype int64 was converted to float64 by StandardScaler.\n",
      "  warnings.warn(msg, DataConversionWarning)\n"
     ]
    }
   ],
   "source": [
    "# from sklearn.preprocessing import StandardScaler\n",
    "# scaler = StandardScaler()\n",
    "# X_scaled = scaler.fit_transform(review_vector_3k)"
   ]
  },
  {
   "cell_type": "code",
   "execution_count": 16,
   "metadata": {},
   "outputs": [],
   "source": [
    "from sklearn.manifold import TSNE\n",
    "\n",
    "tsne = TSNE(n_components=2, random_state=33)\n",
    "\n",
    "review_vector_3k_tsne = tsne.fit_transform(review_vector_3k)"
   ]
  },
  {
   "cell_type": "code",
   "execution_count": 17,
   "metadata": {},
   "outputs": [
    {
     "data": {
      "text/plain": [
       "array([[-14.415383 ,  -7.2258954],\n",
       "       [ -6.333298 ,   3.4203813],\n",
       "       [-13.030654 ,   5.443019 ],\n",
       "       ...,\n",
       "       [-15.207543 ,  -7.5832987],\n",
       "       [  4.9479947,  -5.172777 ],\n",
       "       [ 15.671542 ,   2.958944 ]], dtype=float32)"
      ]
     },
     "execution_count": 17,
     "metadata": {},
     "output_type": "execute_result"
    }
   ],
   "source": [
    "review_vector_3k_tsne"
   ]
  },
  {
   "cell_type": "markdown",
   "metadata": {},
   "source": [
    "Above model took an hour to train. It's a good idea to store it on disk for later use."
   ]
  },
  {
   "cell_type": "code",
   "execution_count": 18,
   "metadata": {},
   "outputs": [],
   "source": [
    "import pickle\n",
    "pickle_file = open('pickled_3k_reviews_tsne_bow.pkl', 'wb')\n",
    "pickle.dump(review_vector_3k_tsne, pickle_file)\n",
    "pickle_file.close()"
   ]
  },
  {
   "cell_type": "code",
   "execution_count": 19,
   "metadata": {},
   "outputs": [
    {
     "data": {
      "text/plain": [
       "(3000, 2)"
      ]
     },
     "execution_count": 19,
     "metadata": {},
     "output_type": "execute_result"
    }
   ],
   "source": [
    "review_vector_3k_tsne.shape"
   ]
  },
  {
   "cell_type": "code",
   "execution_count": 20,
   "metadata": {},
   "outputs": [],
   "source": [
    "bow_tsne_3k_array = np.vstack((review_vector_3k_tsne.T, df_np['Score'])).T\n",
    "df_bow_tsne_3k = pd.DataFrame(bow_tsne_3k_array, columns=['First Dimension', 'Second Dimension', 'Label'])"
   ]
  },
  {
   "cell_type": "code",
   "execution_count": 21,
   "metadata": {},
   "outputs": [
    {
     "data": {
      "text/html": [
       "<div>\n",
       "<style scoped>\n",
       "    .dataframe tbody tr th:only-of-type {\n",
       "        vertical-align: middle;\n",
       "    }\n",
       "\n",
       "    .dataframe tbody tr th {\n",
       "        vertical-align: top;\n",
       "    }\n",
       "\n",
       "    .dataframe thead th {\n",
       "        text-align: right;\n",
       "    }\n",
       "</style>\n",
       "<table border=\"1\" class=\"dataframe\">\n",
       "  <thead>\n",
       "    <tr style=\"text-align: right;\">\n",
       "      <th></th>\n",
       "      <th>First Dimension</th>\n",
       "      <th>Second Dimension</th>\n",
       "      <th>Label</th>\n",
       "    </tr>\n",
       "  </thead>\n",
       "  <tbody>\n",
       "    <tr>\n",
       "      <th>0</th>\n",
       "      <td>-14.4154</td>\n",
       "      <td>-7.2259</td>\n",
       "      <td>negative</td>\n",
       "    </tr>\n",
       "    <tr>\n",
       "      <th>1</th>\n",
       "      <td>-6.3333</td>\n",
       "      <td>3.42038</td>\n",
       "      <td>negative</td>\n",
       "    </tr>\n",
       "    <tr>\n",
       "      <th>2</th>\n",
       "      <td>-13.0307</td>\n",
       "      <td>5.44302</td>\n",
       "      <td>negative</td>\n",
       "    </tr>\n",
       "    <tr>\n",
       "      <th>3</th>\n",
       "      <td>-13.5395</td>\n",
       "      <td>5.7427</td>\n",
       "      <td>negative</td>\n",
       "    </tr>\n",
       "    <tr>\n",
       "      <th>4</th>\n",
       "      <td>-4.17071</td>\n",
       "      <td>1.81495</td>\n",
       "      <td>negative</td>\n",
       "    </tr>\n",
       "  </tbody>\n",
       "</table>\n",
       "</div>"
      ],
      "text/plain": [
       "  First Dimension Second Dimension     Label\n",
       "0        -14.4154          -7.2259  negative\n",
       "1         -6.3333          3.42038  negative\n",
       "2        -13.0307          5.44302  negative\n",
       "3        -13.5395           5.7427  negative\n",
       "4        -4.17071          1.81495  negative"
      ]
     },
     "execution_count": 21,
     "metadata": {},
     "output_type": "execute_result"
    }
   ],
   "source": [
    "df_bow_tsne_3k.head()\n"
   ]
  },
  {
   "cell_type": "code",
   "execution_count": 22,
   "metadata": {},
   "outputs": [
    {
     "data": {
      "image/png": "[encoded data removed]",
      "text/plain": [
       "<matplotlib.figure.Figure at 0x2034109dd68>"
      ]
     },
     "metadata": {},
     "output_type": "display_data"
    }
   ],
   "source": [
    "sbn.FacetGrid(df_bow_tsne_3k, hue=\"Label\", size=6).map(plt.scatter, 'First Dimension', 'Second Dimension').add_legend()\n",
    "plt.show()"
   ]
  },
  {
   "cell_type": "markdown",
   "metadata": {},
   "source": [
    "### Bigrams"
   ]
  },
  {
   "cell_type": "code",
   "execution_count": 34,
   "metadata": {},
   "outputs": [],
   "source": [
    "all_positive_words = []\n",
    "\n",
    "for w in df_p['cleaned_text']:\n",
    "    all_positive_words.extend(w.split())\n",
    "#all_positive_words\n",
    "\n",
    "all_negative_words = []\n",
    "\n",
    "for w in df_n['cleaned_text']:\n",
    "    all_negative_words.extend(w.split())\n",
    "#all_negative_words\n"
   ]
  },
  {
   "cell_type": "code",
   "execution_count": 39,
   "metadata": {},
   "outputs": [
    {
     "name": "stdout",
     "output_type": "stream",
     "text": [
      "Most common positive words: [(b'like', 727), (b'tea', 697), (b'tast', 677), (b'flavor', 673), (b'one', 610), (b'coffe', 559), (b'use', 548), (b'make', 500), (b'good', 472), (b'tri', 444)]\n",
      "Most common negative words: [(b'tast', 785), (b'like', 746), (b'product', 648), (b'one', 493), (b'tri', 437), (b'would', 391), (b'order', 387), (b'good', 380), (b'flavor', 364), (b'get', 324)]\n"
     ]
    }
   ],
   "source": [
    "freq_dist_positive = nltk.FreqDist(all_positive_words)\n",
    "print('Most common positive words: {}'.format(freq_dist_positive.most_common(10)))\n",
    "\n",
    "freq_dist_negative = nltk.FreqDist(all_negative_words)\n",
    "print('Most common negative words: {}'.format(freq_dist_negative.most_common(10)))"
   ]
  },
  {
   "cell_type": "code",
   "execution_count": 40,
   "metadata": {},
   "outputs": [
    {
     "data": {
      "text/plain": [
       "(3000, 2)"
      ]
     },
     "execution_count": 40,
     "metadata": {},
     "output_type": "execute_result"
    }
   ],
   "source": [
    "df_np.shape"
   ]
  },
  {
   "cell_type": "code",
   "execution_count": 41,
   "metadata": {},
   "outputs": [],
   "source": [
    "#  Bi-grams.\n",
    "\n",
    "count_vec = CountVectorizer(ngram_range=(1,2))\n",
    "bigrams = count_vec.fit_transform(df_np['cleaned_text'].values)"
   ]
  },
  {
   "cell_type": "code",
   "execution_count": 42,
   "metadata": {},
   "outputs": [
    {
     "data": {
      "text/plain": [
       "(3000, 101053)"
      ]
     },
     "execution_count": 42,
     "metadata": {},
     "output_type": "execute_result"
    }
   ],
   "source": [
    "bigrams.shape"
   ]
  },
  {
   "cell_type": "code",
   "execution_count": 43,
   "metadata": {},
   "outputs": [
    {
     "data": {
      "text/plain": [
       "<3000x101053 sparse matrix of type '<class 'numpy.int64'>'\n",
       "\twith 224886 stored elements in Compressed Sparse Row format>"
      ]
     },
     "execution_count": 43,
     "metadata": {},
     "output_type": "execute_result"
    }
   ],
   "source": [
    "bigrams"
   ]
  },
  {
   "cell_type": "code",
   "execution_count": 44,
   "metadata": {},
   "outputs": [],
   "source": [
    "review_vector_3k = bigrams.toarray()"
   ]
  },
  {
   "cell_type": "code",
   "execution_count": 46,
   "metadata": {},
   "outputs": [
    {
     "data": {
      "text/plain": [
       "(3000, 101053)"
      ]
     },
     "execution_count": 46,
     "metadata": {},
     "output_type": "execute_result"
    }
   ],
   "source": [
    "review_vector_3k.shape"
   ]
  },
  {
   "cell_type": "code",
   "execution_count": 47,
   "metadata": {},
   "outputs": [],
   "source": [
    "review_vector_3k_tsne = tsne.fit_transform(review_vector_3k)"
   ]
  },
  {
   "cell_type": "code",
   "execution_count": 48,
   "metadata": {},
   "outputs": [
    {
     "data": {
      "text/plain": [
       "(3000, 2)"
      ]
     },
     "execution_count": 48,
     "metadata": {},
     "output_type": "execute_result"
    }
   ],
   "source": [
    "review_vector_3k_tsne.shape"
   ]
  },
  {
   "cell_type": "code",
   "execution_count": 49,
   "metadata": {},
   "outputs": [],
   "source": [
    "# Pickle it first!\n",
    "\n",
    "pickle_file = open('pickled_3k_reviews_tsne_bigram.pkl', 'wb')\n",
    "pickle.dump(review_vector_3k_tsne, pickle_file)\n",
    "pickle_file.close()"
   ]
  },
  {
   "cell_type": "code",
   "execution_count": 50,
   "metadata": {},
   "outputs": [],
   "source": [
    "bigram_tsne_3k_array = np.vstack((review_vector_3k_tsne.T, df_np['Score'])).T\n",
    "df_bigram_tsne_3k = pd.DataFrame(bigram_tsne_3k_array, columns=['First Dimension', 'Second Dimension', 'Label'])"
   ]
  },
  {
   "cell_type": "code",
   "execution_count": 51,
   "metadata": {},
   "outputs": [
    {
     "data": {
      "text/html": [
       "<div>\n",
       "<style scoped>\n",
       "    .dataframe tbody tr th:only-of-type {\n",
       "        vertical-align: middle;\n",
       "    }\n",
       "\n",
       "    .dataframe tbody tr th {\n",
       "        vertical-align: top;\n",
       "    }\n",
       "\n",
       "    .dataframe thead th {\n",
       "        text-align: right;\n",
       "    }\n",
       "</style>\n",
       "<table border=\"1\" class=\"dataframe\">\n",
       "  <thead>\n",
       "    <tr style=\"text-align: right;\">\n",
       "      <th></th>\n",
       "      <th>First Dimension</th>\n",
       "      <th>Second Dimension</th>\n",
       "      <th>Label</th>\n",
       "    </tr>\n",
       "  </thead>\n",
       "  <tbody>\n",
       "    <tr>\n",
       "      <th>0</th>\n",
       "      <td>0.242729</td>\n",
       "      <td>22.0469</td>\n",
       "      <td>negative</td>\n",
       "    </tr>\n",
       "    <tr>\n",
       "      <th>1</th>\n",
       "      <td>-16.6854</td>\n",
       "      <td>1.00439</td>\n",
       "      <td>negative</td>\n",
       "    </tr>\n",
       "    <tr>\n",
       "      <th>2</th>\n",
       "      <td>80.996</td>\n",
       "      <td>-63.6789</td>\n",
       "      <td>negative</td>\n",
       "    </tr>\n",
       "    <tr>\n",
       "      <th>3</th>\n",
       "      <td>-18.0724</td>\n",
       "      <td>-0.569745</td>\n",
       "      <td>negative</td>\n",
       "    </tr>\n",
       "    <tr>\n",
       "      <th>4</th>\n",
       "      <td>-11.8275</td>\n",
       "      <td>1.25155</td>\n",
       "      <td>negative</td>\n",
       "    </tr>\n",
       "  </tbody>\n",
       "</table>\n",
       "</div>"
      ],
      "text/plain": [
       "  First Dimension Second Dimension     Label\n",
       "0        0.242729          22.0469  negative\n",
       "1        -16.6854          1.00439  negative\n",
       "2          80.996         -63.6789  negative\n",
       "3        -18.0724        -0.569745  negative\n",
       "4        -11.8275          1.25155  negative"
      ]
     },
     "execution_count": 51,
     "metadata": {},
     "output_type": "execute_result"
    }
   ],
   "source": [
    "df_bigram_tsne_3k.head()"
   ]
  },
  {
   "cell_type": "code",
   "execution_count": 52,
   "metadata": {},
   "outputs": [
    {
     "data": {
      "image/png": "[encoded data removed]",
      "text/plain": [
       "<matplotlib.figure.Figure at 0x203475079b0>"
      ]
     },
     "metadata": {},
     "output_type": "display_data"
    }
   ],
   "source": [
    "sbn.FacetGrid(df_bigram_tsne_3k, hue=\"Label\", size=6).map(plt.scatter, 'First Dimension', 'Second Dimension').add_legend()\n",
    "plt.show()"
   ]
  },
  {
   "cell_type": "markdown",
   "metadata": {},
   "source": [
    "### Tfidf"
   ]
  },
  {
   "cell_type": "code",
   "execution_count": 53,
   "metadata": {},
   "outputs": [],
   "source": [
    "tfidf_vec = TfidfVectorizer(ngram_range=(1,2))\n",
    "tfidf = tfidf_vec.fit_transform(df_np['cleaned_text'].values)"
   ]
  },
  {
   "cell_type": "code",
   "execution_count": 55,
   "metadata": {},
   "outputs": [
    {
     "data": {
      "text/plain": [
       "(3000, 101053)"
      ]
     },
     "execution_count": 55,
     "metadata": {},
     "output_type": "execute_result"
    }
   ],
   "source": [
    "tfidf.shape"
   ]
  },
  {
   "cell_type": "code",
   "execution_count": 56,
   "metadata": {},
   "outputs": [
    {
     "data": {
      "text/plain": [
       "101053"
      ]
     },
     "execution_count": 56,
     "metadata": {},
     "output_type": "execute_result"
    }
   ],
   "source": [
    "features = tfidf_vec.get_feature_names()\n",
    "len(features)"
   ]
  },
  {
   "cell_type": "code",
   "execution_count": 57,
   "metadata": {},
   "outputs": [
    {
     "data": {
      "text/plain": [
       "['written',\n",
       " 'written amazon',\n",
       " 'written bottl',\n",
       " 'written clever',\n",
       " 'written compani',\n",
       " 'written custom',\n",
       " 'written direct',\n",
       " 'written know',\n",
       " 'written latin',\n",
       " 'written left']"
      ]
     },
     "execution_count": 57,
     "metadata": {},
     "output_type": "execute_result"
    }
   ],
   "source": [
    "features[100000:100010]"
   ]
  },
  {
   "cell_type": "code",
   "execution_count": 59,
   "metadata": {},
   "outputs": [],
   "source": [
    "review_vector_3k=tfidf.toarray()"
   ]
  },
  {
   "cell_type": "code",
   "execution_count": 60,
   "metadata": {},
   "outputs": [
    {
     "data": {
      "text/plain": [
       "(3000, 101053)"
      ]
     },
     "execution_count": 60,
     "metadata": {},
     "output_type": "execute_result"
    }
   ],
   "source": [
    "review_vector_3k.shape"
   ]
  },
  {
   "cell_type": "code",
   "execution_count": 61,
   "metadata": {},
   "outputs": [],
   "source": [
    "review_vector_3k_tsne = tsne.fit_transform(review_vector_3k)"
   ]
  },
  {
   "cell_type": "code",
   "execution_count": 62,
   "metadata": {},
   "outputs": [
    {
     "data": {
      "text/plain": [
       "(3000, 2)"
      ]
     },
     "execution_count": 62,
     "metadata": {},
     "output_type": "execute_result"
    }
   ],
   "source": [
    "review_vector_3k_tsne.shape"
   ]
  },
  {
   "cell_type": "code",
   "execution_count": 64,
   "metadata": {},
   "outputs": [],
   "source": [
    "pickle_file = open('pickled_3k_reviews_tsne_tfidf.pkl', 'wb')\n",
    "pickle.dump(review_vector_3k_tsne, pickle_file)\n",
    "pickle_file.close()"
   ]
  },
  {
   "cell_type": "code",
   "execution_count": 65,
   "metadata": {},
   "outputs": [],
   "source": [
    "tfidf_tsne_3k_array = np.vstack((review_vector_3k_tsne.T, df_np['Score'])).T\n",
    "df_tfidf_tsne_3k = pd.DataFrame(tfidf_tsne_3k_array, columns=['First Dimension', 'Second Dimension', 'Label'])"
   ]
  },
  {
   "cell_type": "code",
   "execution_count": 67,
   "metadata": {},
   "outputs": [
    {
     "data": {
      "text/html": [
       "<div>\n",
       "<style scoped>\n",
       "    .dataframe tbody tr th:only-of-type {\n",
       "        vertical-align: middle;\n",
       "    }\n",
       "\n",
       "    .dataframe tbody tr th {\n",
       "        vertical-align: top;\n",
       "    }\n",
       "\n",
       "    .dataframe thead th {\n",
       "        text-align: right;\n",
       "    }\n",
       "</style>\n",
       "<table border=\"1\" class=\"dataframe\">\n",
       "  <thead>\n",
       "    <tr style=\"text-align: right;\">\n",
       "      <th></th>\n",
       "      <th>First Dimension</th>\n",
       "      <th>Second Dimension</th>\n",
       "      <th>Label</th>\n",
       "    </tr>\n",
       "  </thead>\n",
       "  <tbody>\n",
       "    <tr>\n",
       "      <th>0</th>\n",
       "      <td>22.4675</td>\n",
       "      <td>-47.4719</td>\n",
       "      <td>negative</td>\n",
       "    </tr>\n",
       "    <tr>\n",
       "      <th>1</th>\n",
       "      <td>22.0417</td>\n",
       "      <td>-52.8478</td>\n",
       "      <td>negative</td>\n",
       "    </tr>\n",
       "    <tr>\n",
       "      <th>2</th>\n",
       "      <td>24.0581</td>\n",
       "      <td>-49.3262</td>\n",
       "      <td>negative</td>\n",
       "    </tr>\n",
       "    <tr>\n",
       "      <th>3</th>\n",
       "      <td>24.5416</td>\n",
       "      <td>-48.7316</td>\n",
       "      <td>negative</td>\n",
       "    </tr>\n",
       "    <tr>\n",
       "      <th>4</th>\n",
       "      <td>78.1818</td>\n",
       "      <td>-19.5757</td>\n",
       "      <td>negative</td>\n",
       "    </tr>\n",
       "  </tbody>\n",
       "</table>\n",
       "</div>"
      ],
      "text/plain": [
       "  First Dimension Second Dimension     Label\n",
       "0         22.4675         -47.4719  negative\n",
       "1         22.0417         -52.8478  negative\n",
       "2         24.0581         -49.3262  negative\n",
       "3         24.5416         -48.7316  negative\n",
       "4         78.1818         -19.5757  negative"
      ]
     },
     "execution_count": 67,
     "metadata": {},
     "output_type": "execute_result"
    }
   ],
   "source": [
    "df_tfidf_tsne_3k.head()"
   ]
  },
  {
   "cell_type": "code",
   "execution_count": 68,
   "metadata": {},
   "outputs": [
    {
     "data": {
      "image/png": "[encoded data removed]",
      "text/plain": [
       "<matplotlib.figure.Figure at 0x2035224c668>"
      ]
     },
     "metadata": {},
     "output_type": "display_data"
    }
   ],
   "source": [
    "sbn.FacetGrid(df_tfidf_tsne_3k, hue=\"Label\", size=6).map(plt.scatter, 'First Dimension', 'Second Dimension').add_legend()\n",
    "plt.show()"
   ]
  },
  {
   "cell_type": "code",
   "execution_count": 73,
   "metadata": {},
   "outputs": [],
   "source": [
    "import gensim\n",
    "from gensim.models import word2vec\n",
    "from gensim.models import KeyedVectors"
   ]
  },
  {
   "cell_type": "code",
   "execution_count": 85,
   "metadata": {},
   "outputs": [],
   "source": [
    "#train_corpus = gensim.utils.simple_preprocess(df_np['cleaned_text'][1])\n",
    "\n",
    "def read_corpus(df_np, tokens_only=False):\n",
    "        for i, review in enumerate(df_np['cleaned_text']):\n",
    "            if tokens_only:\n",
    "                yield gensim.utils.simple_preprocess(review)\n",
    "            else:\n",
    "                # For training data, add tags\n",
    "                yield gensim.models.doc2vec.TaggedDocument(gensim.utils.simple_preprocess(review), [i])\n",
    "\n",
    "train_corpus = list(read_corpus(df_np))"
   ]
  },
  {
   "cell_type": "code",
   "execution_count": 136,
   "metadata": {},
   "outputs": [
    {
     "data": {
      "text/plain": [
       "[TaggedDocument(words=['alway', 'enjoy', 'movi', 'funni', 'entertain', 'didnt', 'hesit', 'pick', 'clamshel', 'edit', 'guess', 'market', 'plan', 'make', 'movi', 'famili', 'someth', 'elimin', 'strong', 'profan', 'element', 'usual', 'edit', 'televis', 'version', 'warn', 'want', 'uncut', 'version', 'avoid', 'clamshel', 'edit'], tags=[0]),\n",
       " TaggedDocument(words=['michael', 'keaton', 'bring', 'distinguish', 'characterist', 'ghoul', 'beetlejuic', 'mere', 'act', 'bizarr', 'script', 'often', 'stun', 'cinematographi', 'movi', 'come', 'focu', 'like', 'find', 'one', 'beetlejuic', 'snack', 'popcorn'], tags=[1]),\n",
       " TaggedDocument(words=['continu', 'amaz', 'shoddi', 'treatment', 'movi', 'get', 'dvd', 'releas', 'dvd', 'simpli', 'disgrac', 'especi', 'consid', 'great', 'movi', 'give', 'movi', 'wonder', 'exampl', 'tim', 'burton', 'energi', 'style', 'dvd', 'extra', 'worth', 'mention', 'delet', 'scene', 'featurett', 'even', 'lousi', 'commentari', 'track', 'make', 'even', 'wors', 'film', 'cut', 'theatric', 'releas', 'never', 'seen', 'dvd', 'releas', 'get', 'less', 'origin', 'present', 'theater', 'advic', 'save', 'money', 'somebodi', 'figur', 'movi', 'releas', 'dvd', 'need', 'live', 'capabl', 'medium', 'alway', 'provid', 'materi', 'origin', 'releas', 'less'], tags=[2]),\n",
       " TaggedDocument(words=['let', 'know', 'movi', 'one', 'person', 'favorit', 'ghost', 'movi', 'said', 'feel', 'need', 'tell', 'detail', 'terribl', 'dvd', 'packag', 'fine', 'noth', 'great', 'work', 'pictur', 'sound', 'qualiti', 'good', 'make', 'good', 'cinemat', 'experi', 'howev', 'menu', 'complet', 'trash', 'extra', 'extrem', 'embarass', 'play', 'movi', 'actual', 'click', 'scene', 'select', 'click', 'first', 'chapter', 'play', 'button', 'what', 'problem', 'recal', 'film', 'afi', 'top', 'funniest', 'movi', 'ever', 'made', 'dont', 'think', 'could', 'make', 'better', 'dvd', 'garbag', 'sick', 'tire', 'movi', 'compani', 'get', 'away', 'sell', 'trash', 'doubl', 'side', 'disk', 'good', 'pick', 'format', 'want', 'first', 'time', 'watch', 'stick', 'side', 'whole', 'time', 'switch', 'time', 'side', 'get', 'scratch', 'person', 'think', 'fullscreen', 'idiot', 'think', 'theyr', 'get', 'whole', 'pictur', 'theyr', 'peopl', 'put', 'actual', 'thought', 'make', 'dvd', 'slap', 'crap', 'togeth', 'think', 'fine', 'fine', 'clean', 'act'], tags=[3]),\n",
       " TaggedDocument(words=['embarrass', 'comedi', 'come', 'like', 'child', 'attent', 'deficit', 'disord', 'beg', 'approv', 'even', 'film', 'intern', 'logic', 'thrown', 'away', 'toward', 'end', 'extra', 'purpos', 'girl', 'float', 'air', 'end', 'rather', 'sweet', 'though'], tags=[4]),\n",
       " TaggedDocument(words=['return', 'due', 'short', 'brief', 'expir', 'date', 'sept', 'would', 'less', 'use', 'pod', 'amazon', 'pull', 'shelv'], tags=[5]),\n",
       " TaggedDocument(words=['thing', 'like', 'point', 'roast', 'drink', 'northern', 'itali', 'make', 'espresso', 'vienna', 'roast', 'southern', 'itali', 'use', 'french', 'starbuck', 'appear', 'use', 'french', 'roast', 'label', 'french', 'roast', 'like', 'normal', 'person', 'would', 'product', 'descript', 'say', 'espresso', 'roast', 'shot', 'espresso', 'brew', 'coffe', 'press', 'one', 'versatil', 'patent', 'absurd', 'coffe', 'either', 'use', 'espresso', 'machin', 'press', 'here', 'shot', 'espresso', 'requir', 'fine', 'grind', 'make', 'coffe', 'press', 'coffe', 'requir', 'cours', 'grind', 'ground', 'coffe', 'appropri', 'espresso', 'machin', 'pass', 'filter', 'coffe', 'press', 'cup', 'sludg', 'use', 'ground', 'coffe', 'pass', 'presss', 'filter', 'espresso', 'machin', 'get', 'espresso', 'get', 'cafe', 'crema', 'good', 'entir', 'differ', 'beverag', 'imposs', 'tell', 'label', 'kind', 'coffe', 'maker', 'ground', 'like', 'normal', 'peopl', 'starbuck', 'excel', 'oper', 'buy', 'better', 'coffe', 'compani', 'size', 'roast', 'bean', 'vienna', 'french', 'bean', 'tast', 'best', 'particular', 'level', 'roast', 'vari', 'bean', 'bean', 'level', 'vienna', 'french', 'roast', 'bean', 'dark', 'guess', 'easier', 'way', 'also', 'let', 'renam', 'vienna', 'roast', 'austrian', 'dont', 'seem', 'care', 'said', 'still', 'better', 'get', 'supermarket', 'starbuck', 'special', 'coffe', 'sourc', 'much', 'better', 'bean', 'compani', 'also', 'make', 'chees', 'hot', 'dog', 'shampoo', 'cigarett', 'realli', 'want', 'good', 'coffe', 'grinder', 'noth', 'make', 'coffe', 'lose', 'flavor', 'like', 'keep', 'around', 'grind', 'drip', 'coffe', 'machin', 'get', 'grinder', 'spin', 'someth', 'els', 'like', 'press', 'vacuum', 'pot', 'get', 'grinder', 'burr', 'espresso', 'machin', 'get', 'nice', 'grinder', 'burr', 'amazon', 'good', 'deal', 'three', 'kind', 'search', 'coffe', 'grinder', 'much', 'money', 'your', 'somebodi', 'who', 'will', 'pay', 'starbuck', 'invest', 'one', 'local', 'coffe', 'shop', 'roast', 'coffe', 'give', 'date', 'roast', 'fresh', 'matter', 'good', 'bean', 'dont', 'tast', 'nearli', 'good', 'theyv', 'sit', 'around', 'peopl', 'local', 'shop', 'tell', 'correct', 'amount', 'bean', 'use', 'peopl', 'dont', 'use', 'right', 'amount', 'dont', 'use', 'enough', 'coffe', 'come', 'bitter', 'especi', 'drip', 'machin', 'enough', 'coffe', 'mean', 'bean', 'get', 'much', 'exposur', 'hot', 'water', 'make', 'bitter', 'coffe'], tags=[6]),\n",
       " TaggedDocument(words=['poor', 'excus', 'gopher', 'trap', 'lot', 'gopher', 'use', 'trap', 'recent', 'bought', 'four', 'set', 'trap', 'ill', 'design', 'gopher', 'abl', 'trip', 'without', 'get', 'caught', 'even', 'manag', 'push', 'set', 'trap', 'hole', 'problem', 'sweep', 'pincer', 'wide', 'mechan', 'easili', 'clog', 'sand', 'dirt', 'dont', 'bother', 'trap'], tags=[7]),\n",
       " TaggedDocument(words=['bake', 'organ', 'vanilla', 'past', 'realiz', 'vanilla', 'extract', 'found', 'product', 'mislead', 'even', 'though', 'categor', 'organ', 'product'], tags=[8]),\n",
       " TaggedDocument(words=['frost', 'sweet', 'low', 'calori', 'whenev', 'come', 'across', 'term', 'think', 'frost', 'sweet', 'sticki', 'obviou', 'chemic', 'tast', 'also', 'difficulti', 'obtain', 'frost', 'like', 'consist', 'enjoy', 'use', 'sweet', 'low', 'cake', 'mix', 'first', 'time', 'use', 'product', 'assum', 'follow', 'direct', 'properli', 'okay', 'direct', 'basic', 'add', 'water', 'beat', 'sugar', 'free', 'frost', 'cake', 'suggest', 'use', 'san', 'sucr', 'brand', 'dessert', 'mouss', 'mix', 'spread', 'quickli', 'cake', 'would', 'whip', 'frost'], tags=[9]),\n",
       " TaggedDocument(words=['product', 'ship', 'great', 'packag', 'look', 'good', 'tast', 'horribl', 'fact', 'much', 'one', 'wrong', 'good', 'fresh', 'crab', 'leg', 'steam', 'boil', 'freez', 'ship', 'ad', 'salt', 'leg', 'cook', 'much', 'tast', 'bad', 'opinion', 'cat', 'eat', 'either', 'save', 'money', 'local', 'store', 'carri', 'king', 'crab', 'leg', 'bet', 'wors', 'one', 'throw', 'away'], tags=[10]),\n",
       " TaggedDocument(words=['order', 'pecan', 'tin', 'christma', 'present', 'secretari', 'decemb', 'product', 'never', 'deliv', 'anyon', 'contact', 'call', 'tast', 'south', 'first', 'week', 'januari', 'inquir', 'statu', 'order', 'told', 'would', 'call', 'back', 'figur', 'one', 'ever', 'return', 'call', 'final', 'call', 'sale', 'repres', 'confirm', 'account', 'would', 'credit', 'error', 'today', 'januari', 'still', 'credit', 'appli', 'credit', 'card', 'small', 'complet', 'disorgan', 'busi', 'avoid', 'mess', 'buy', 'someon', 'els'], tags=[11]),\n",
       " TaggedDocument(words=['plant', 'healthi', 'arriv', 'quickli', 'good', 'shape', 'disappoint', 'describ', 'tall', 'pot', 'plant', 'tall', 'pot', 'look', 'silli', 'pot', 'way', 'small', 'height', 'look', 'due', 'height', 'seen', 'person', 'would', 'bought'], tags=[12]),\n",
       " TaggedDocument(words=['realli', 'hate', 'fan', 'van', 'patten', 'year', 'feel', 'must', 'save', 'money', 'open', 'substanc', 'releas', 'ungodli', 'stench', 'home', 'ever', 'displeasur', 'smell', 'call', 'stuff', 'like', 'say', 'michael', 'jackson', 'felin', 'everyth', 'within', 'kitti', 'power', 'sidestep', 'pungent', 'aroma', 'spawn', 'evil', 'cant', 'even', 'manag', 'feed', 'malnourish', 'squirrel', 'block', 'produc', 'kind', 'product', 'realli', 'must', 'get', 'sort', 'qualiti', 'control', 'keep', 'stench', 'check'], tags=[13]),\n",
       " TaggedDocument(words=['took', 'along', 'time', 'get', 'week', 'get', 'good', 'product', 'ship', 'slow'], tags=[14]),\n",
       " TaggedDocument(words=['senseo', 'machin', 'ship', 'two', 'sampl', 'pack', 'light', 'roast', 'medium', 'roast', 'excit', 'new', 'machin', 'brew', 'first', 'cup', 'coffe', 'disappoint', 'machin', 'awesom', 'qualiti', 'coffe', 'light', 'roast', 'medium', 'terribl', 'quickli', 'order', 'dark', 'compar', 'highli', 'recommend', 'dark', 'roast', 'two', 'option', 'dark', 'also', 'work', 'best', 'brew', 'mode', 'use', 'set', 'still', 'best', 'coffe', 'look', 'forward', 'compar', 'upcom', 'podhead', 'com', 'pod'], tags=[15]),\n",
       " TaggedDocument(words=['suppos', 'avoid', 'sugar', 'urinari', 'tract', 'infect'], tags=[16]),\n",
       " TaggedDocument(words=['truth', 'advertis', 'polic', 'knock', 'door', 'antica', 'italia', 'pasta', 'sauc', 'compani', 'drink', 'flavor', 'vodka', 'expect', 'abl', 'shake', 'stir', 'stuff', 'thick', 'drink', 'ad', 'tonic', 'ice', 'lime', 'still', 'avail', 'tri', 'stoli', 'vox', 'instead'], tags=[17]),\n",
       " TaggedDocument(words=['friend', 'mine', 'let', 'tri', 'insan', 'love', 'heat', 'kick', 'sinc', 'dave', 'purchas', 'limit', 'choic', 'groceri', 'store', 'supris', 'see', 'ass', 'kickin', 'cajun', 'hot', 'sauc', 'shelf', 'look', 'name', 'guess', 'would', 'hot', 'well', 'tri', 'burrito', 'say', 'hot', 'bottl', 'let', 'put', 'drop', 'time', 'spent', 'time', 'tri', 'get', 'hot', 'sauc', 'eat', 'sinc', 'hot', 'want', 'kept', 'put', 'tyre', 'get', 'heat', 'lead', 'anoth', 'tast', 'vinigar', 'strong', 'bad', 'look', 'forward', 'someth', 'realli', 'hot', 'guess', 'wait', 'internet', 'order', 'come', 'eat', 'tobasco', 'better', 'tobasco', 'littl', 'heat', 'want', 'hot', 'look', 'elsewher'], tags=[18]),\n",
       " TaggedDocument(words=['recent', 'trip', 'holland', 'opportun', 'excel', 'senseo', 'coffe', 'like', 'much', 'upon', 'return', 'immedi', 'check', 'machin', 'avail', 'state', 'thrill', 'find', 'amazon', 'com', 'last', 'week', 'senseo', 'machin', 'along', 'four', 'box', 'medium', 'pod', 'also', 'receiv', 'one', 'packag', 'regular', 'medium', 'one', 'packag', 'mild', 'roast', 'senseo', 'machin', 'horror', 'coffe', 'receiv', 'douw', 'egbert', 'coffe', 'enjoy', 'much', 'holland', 'coffe', 'deliv', 'weak', 'tasteless', 'fact', 'halfway', 'decent', 'coffe', 'use', 'two', 'pod', 'one', 'cup', 'unaccept', 'point', 'view', 'expens', 'use', 'machin', 'one', 'serv', 'time', 'request', 'provid', 'senseo', 'coffe', 'machin', 'user', 'qualiti', 'coffe', 'sell', 'holland', 'pod', 'twice', 'expens', 'will', 'coffe', 'superior', 'qualiti', 'starbuck', 'success', 'countri', 'sell', 'real', 'coffe', 'version', 'real', 'thing', 'receiv', 'qualiti', 'coffe', 'substitut', 'poor', 'tell', 'friend', 'neighbor', 'colleagu', 'might', 'interest', 'invest', 'senseo', 'machin', 'meantim', 'would', 'happi', 'return', 'coffe', 'use', 'pleas', 'let', 'know', 'expect', 'situat', 'hear', 'within', 'week', 'senseo', 'machin', 'remain', 'unus', 'portion', 'amazon', 'com', 'full', 'refund', 'look', 'forward', 'hear'], tags=[19]),\n",
       " TaggedDocument(words=['worst', 'dri', 'mango', 'product', 'tast', 'threw', 'away', 'whole', 'bag', 'ingredi', 'doesnt', 'read', 'use', 'sugar', 'preserv', 'thought', 'natur', 'sugar', 'saw', 'think', 'use', 'bunch', 'sugar', 'also', 'use', 'preserv', 'well', 'miss', 'ingredi', 'that', 'still', 'tast', 'good', 'product', 'also', 'use', 'sugar', 'preserv', 'howev', 'worst', 'dri', 'mango', 'ever', 'neither', 'pleas', 'health', 'alreadi', 'lost', 'money', 'spend', 'didnt', 'want', 'bother', 'mouth', 'health', 'worst', 'threw', 'away', 'whole', 'bag', 'decis', 'attach', 'recommend', 'philipin', 'import', 'dire', 'mango', 'product', 'mango', 'fine', 'refer', 'bought', 'organ', 'natur', 'dri', 'mango', 'quit', 'differ', 'philipin', 'product', 'real', 'dri', 'somewhat', 'hard', 'rather', 'soft', 'chewi', 'like', 'philipin', 'product', 'use', 'sugar', 'preserv'], tags=[20]),\n",
       " TaggedDocument(words=['worst', 'dri', 'mango', 'product', 'tast', 'threw', 'away', 'whole', 'bag', 'ingredi', 'doesnt', 'read', 'use', 'sugar', 'preserv', 'thought', 'natur', 'sugar', 'saw', 'think', 'use', 'bunch', 'sugar', 'also', 'use', 'preserv', 'well', 'miss', 'ingredi', 'that', 'still', 'tast', 'good', 'product', 'also', 'use', 'sugar', 'preserv', 'howev', 'worst', 'dri', 'mango', 'ever', 'neither', 'pleas', 'health', 'alreadi', 'lost', 'money', 'spend', 'didnt', 'want', 'lose', 'health', 'bother', 'mouth', 'worst', 'threw', 'away', 'whole', 'bag', 'decis', 'attach', 'recommend', 'philipin', 'import', 'dire', 'mango', 'product', 'mango', 'fine', 'refer', 'bought', 'organ', 'natur', 'dri', 'mango', 'quit', 'differ', 'philipin', 'product', 'real', 'dri', 'somewhat', 'hard', 'rather', 'soft', 'chewi', 'like', 'philipin', 'product', 'dont', 'tast', 'good', 'philpin', 'product', 'use', 'sugar', 'preserv'], tags=[21]),\n",
       " TaggedDocument(words=['think', 'expens', 'get', 'local', 'indian', 'chines', 'store', 'california'], tags=[22]),\n",
       " TaggedDocument(words=['havent', 'cat', 'yet', 'like', 'one', 'littl', 'interest', 'think', 'smell', 'nasti', 'think', 'tast', 'realli', 'get', 'current', 'cat', 'wont', 'touch', 'might', 'eat', 'coupl', 'bite', 'he', 'realli', 'hungri', 'alway', 'wind', 'throw', 'one', 'ground', 'cat', 'like', 'piec', 'dont', 'tri', 'one'], tags=[23]),\n",
       " TaggedDocument(words=['honestli', 'say', 'wont', 'buy', 'varieti', 'look', 'bad', 'smell', 'bad', 'sure', 'tast', 'bad', 'cat', 'wont', 'touch', 'way', 'wont', 'even', 'look', 'cat', 'way', 'one', 'look', 'like', 'huge', 'ground', 'mess', 'leftov', 'fish', 'market', 'sure', 'cat', 'must', 'like', 'still', 'made', 'there', 'thing', 'much', 'much', 'better', 'one'], tags=[24]),\n",
       " TaggedDocument(words=['ship', 'day', 'order', 'math', 'that', 'extra', 'ship', 'alon', 'crazi', 'talk', 'scharffen', 'berger', 'chocol', 'charg', 'day', 'order', 'dont', 'care', 'chocol', 'buy', 'dont', 'get', 'taken', 'ship', 'cheap', 'product'], tags=[25]),\n",
       " TaggedDocument(words=['sauc', 'well', 'bad', 'grant', 'differ', 'gazillion', 'hot', 'sauc', 'spici', 'seem', 'flavor', 'food', 'slight', 'aftertast', 'rot', 'veget'], tags=[26]),\n",
       " TaggedDocument(words=['thrill', 'find', 'kona', 'coffe', 'pod', 'senseo', 'machin', 'howev', 'pod', 'realli', 'fit', 'right', 'consequ', 'sometim', 'get', 'full', 'cup', 'mostli', 'water', 'might', 'get', 'half', 'cup', 'consist', 'much', 'coffe', 'actual', 'come', 'strong', 'weak', 'coffe', 'cant', 'tell', 'manufactur', 'irregular', 'whether', 'pod', 'poorli', 'design', 'event', 'one', 'five', 'pod', 'actual', 'produc', 'drinkabl', 'full', 'cup', 'coffe', 'email', 'aloha', 'island', 'coffe', 'compani', 'concern', 'ask', 'advic', 'yet', 'receiv', 'answer', 'two', 'week', 'go', 'back', 'douw', 'egbert', 'pod', 'least', 'consist', 'lot', 'less', 'expens'], tags=[27]),\n",
       " TaggedDocument(words=['recent', 'place', 'order', 'compani', 'disappoint', 'paid', 'extra', 'pear', 'gift', 'wrap', 'note', 'attach', 'pear', 'gift', 'wrap', 'loos', 'bubbl', 'wrap', 'fed', 'box', 'never', 'order', 'coampni'], tags=[28]),\n",
       " TaggedDocument(words=['agre', 'guy', 'complain', 'consist', 'wast', 'two', 'expens', 'pod', 'far', 'first', 'time', 'use', 'kona', 'pod', 'machin', 'jam', 'could', 'open', 'hour', 'caus', 'steam', 'lock', 'tablespoon', 'undrink', 'crap', 'came', 'senseo', 'next', 'time', 'tri', 'kona', 'pod', 'got', 'quarter', 'amount', 'two', 'cup', 'tri', 'impress', 'far', 'afraid', 'tri'], tags=[29]),\n",
       " TaggedDocument(words=['fan', 'japanes', 'candi', 'snack', 'gum', 'would', 'recommend', 'tast', 'like', 'children', 'grape', 'flavor', 'cough', 'medicin', 'throw', 'entir', 'pack', 'peopl', 'share', 'reaction', 'tri', 'anoth', 'flavor'], tags=[30]),\n",
       " TaggedDocument(words=['bought', 'three', 'bottl', 'product', 'felt', 'time', 'felt', 'much', 'wors', 'impress', 'product', 'would', 'cure', 'hemorrhoid', 'frankli', 'sick', 'tire', 'overpr', 'product', 'claim', 'kind', 'magic', 'bullet', 'wish', 'could', 'give', 'product', 'zero', 'star', 'unfortun', 'rate', 'system', 'low', 'close', 'save', 'hard', 'earn', 'money', 'wast', 'product', 'simpli', 'work'], tags=[31]),\n",
       " TaggedDocument(words=['recent', 'purchas', 'anchovi', 'stuf', 'oliv', 'hard', 'find', 'let', 'alon', 'tast', 'anchovi', 'oliv', 'jar', 'name', 'wish', 'anchovi', 'stuf', 'oliv', 'unfortun', 'funni', 'martini', 'group', 'continu', 'search', 'anchovi', 'stuf', 'oliv', 'substanc'], tags=[32]),\n",
       " TaggedDocument(words=['concerto', 'work', 'well', 'first', 'bottl', 'seiz', 'requir', 'littl', 'cook', 'oil', 'free', 'bottl', 'piec', 'pump', 'fell', 'bottom', 'good', 'concept', 'poor', 'reliabl'], tags=[33]),\n",
       " TaggedDocument(words=['mine', 'work', 'seem', 'start', 'stick', 'made', 'imposs', 'pump', 'anymor', 'tri', 'soak', 'entir', 'mechan', 'sever', 'time', 'soap', 'water', 'still', 'doesnt', 'work', 'init', 'like', 'click', 'featur', 'sleeker', 'design', 'model', 'gone', 'back', 'use', 'old', 'version', 'sinc', 'one', 'stop', 'work'], tags=[34]),\n",
       " TaggedDocument(words=['would', 'like', 'read', 'ingredi', 'purchas', 'pleas', 'show', 'ingredi'], tags=[35]),\n",
       " TaggedDocument(words=['teabag', 'isnt', 'even', 'enough', 'one', 'pot', 'perhap', 'tast', 'run', 'contrari', 'mainstream', 'like', 'tea', 'strong'], tags=[36]),\n",
       " TaggedDocument(words=['claim', 'best', 'vanilla', 'flavor', 'coffe', 'ever', 'product', 'even', 'tast', 'like', 'good', 'coffe', 'smell', 'like', 'vanilla', 'even', 'tast', 'like', 'coffe', 'overpr', 'terribl', 'far', 'concern'], tags=[37]),\n",
       " TaggedDocument(words=['echo', 'review', 'perform', 'consist', 'one', 'time', 'get', 'excel', 'coffe', 'morn', 'jam', 'senseo', 'machin', 'steam', 'lock', 'tell', 'abl', 'consid', 'price', 'pod', 'even', 'one', 'bad', 'pod', 'make', 'imposs', 'recommend', 'product'], tags=[38]),\n",
       " TaggedDocument(words=['reason', 'american', 'dont', 'like', 'tea', 'one', 'time', 'cup', 'lipton', 'tea', 'bitter', 'tast', 'absolut', 'horribl', 'good', 'brand', 'like', 'bigelow', 'darjeel', 'billi', 'tea'], tags=[39]),\n",
       " TaggedDocument(words=['actual', 'chees', 'great', 'get', 'ship', 'order', 'item', 'gift', 'took', 'week', 'ship', 'time', 'gift', 'would', 'better', 'go', 'around', 'corner', 'otherwis', 'great', 'deal'], tags=[40]),\n",
       " TaggedDocument(words=['big', 'disappoint', 'flavor', 'appear', 'mani', 'piec', 'shrivel', 'mottl', 'unsightli', 'shell', 'residu', 'cashew', 'tast', 'stale', 'surpris', 'given', 'flimsey', 'packag', 'secur', 'twisti', 'instead', 'vacuum', 'seal', 'buy'], tags=[41]),\n",
       " TaggedDocument(words=['texa', 'pete', 'averag', 'much', 'pepperi', 'tast', 'isnt', 'realli', 'hot', 'fact', 'would', 'describ', 'overal', 'flavor', 'bland', 'tasti', 'tri', 'lot', 'hot', 'sauc', 'texa', 'pete', 'bad', 'leav', 'littl', 'flat'], tags=[42]),\n",
       " TaggedDocument(words=['oliv', 'top', 'itslef', 'pickl', 'actual', 'hasnt', 'buy'], tags=[43]),\n",
       " TaggedDocument(words=['realli', 'like', 'senseo', 'coffe', 'maker', 'like', 'other', 'review', 'kona', 'pod', 'alway', 'search', 'better', 'tast', 'coffe', 'pod', 'use', 'machin', 'excit', 'see', 'kona', 'made', 'pod', 'also', 'happi', 'see', 'pod', 'cup', 'style', 'found', 'huge', 'deal', 'use', 'smaller', 'cup', 'size', 'pod', 'sound', 'nice', 'abl', 'put', 'one', 'larg', 'pod', 'machin', 'instead', 'smaller', 'one', 'read', 'review', 'could', 'figur', 'review', 'meant', 'kona', 'pod', 'make', 'differ', 'amount', 'coffe', 'per', 'cup', 'time', 'coffe', 'could', 'strang', 'undrink', 'didnt', 'make', 'sens', 'well', 'still', 'doesnt', 'make', 'sens', 'certainli', 'happen', 'coffe', 'made', 'use', 'kona', 'pod', 'also', 'result', 'overal', 'poor', 'disappoint', 'kona', 'pod', 'cost', 'lot', 'folger', 'pod', 'brand', 'buy', 'local', 'first', 'thing', 'notic', 'coffe', 'cup', 'size', 'kona', 'pod', 'pack', 'much', 'tightli', 'pod', 'ever', 'use', 'senseo', 'instruct', 'kona', 'pod', 'say', 'wiggl', 'pod', 'break', 'coffe', 'insert', 'machin', 'kona', 'pod', 'feel', 'hard', 'taken', 'packag', 'alway', 'wiggl', 'jiggl', 'pod', 'second', 'put', 'senseo', 'problem', 'kona', 'pod', 'husband', 'decid', 'wiggl', 'enough', 'promptli', 'wiggl', 'one', 'point', 'broke', 'open', 'much', 'done', 'pod', 'put', 'machin', 'first', 'thing', 'notic', 'amount', 'coffe', 'brew', 'use', 'kona', 'pod', 'quit', 'bit', 'less', 'use', 'smaller', 'pod', 'make', 'much', 'sens', 'sever', 'cup', 'kona', 'obviou', 'never', 'amount', 'coffe', 'come', 'use', 'small', 'one', 'cup', 'pod', 'best', 'figur', 'kona', 'pod', 'seem', 'hold', 'lot', 'water', 'water', 'remain', 'pod', 'brew', 'done', 'pod', 'heavier', 'take', 'throw', 'away', 'believ', 'reason', 'less', 'actual', 'coffe', 'use', 'kona', 'pod', 'pod', 'retain', 'lot', 'water', 'cannot', 'pass', 'coffe', 'cup', 'other', 'mention', 'problem', 'happen', 'time', 'use', 'kona', 'pod', 'problem', 'whatev', 'reason', 'water', 'actual', 'penetr', 'kona', 'pod', 'brew', 'cycl', 'coffe', 'suppos', 'come', 'spout', 'water', 'problem', 'one', 'still', 'cannot', 'realli', 'figur', 'kona', 'pod', 'littl', 'smaller', 'diamet', 'pod', 'tri', 'guess', 'somehow', 'water', 'enough', 'room', 'around', 'actual', 'pod', 'come', 'spout', 'without', 'go', 'pod', 'brew', 'coffe', 'also', 'wonder', 'paper', 'filter', 'kona', 'pod', 'differ', 'pod', 'reason', 'kona', 'paper', 'difficult', 'water', 'penetr', 'tri', 'wet', 'kona', 'pod', 'paper', 'filter', 'right', 'start', 'brew', 'coffe', 'think', 'perhap', 'would', 'help', 'water', 'penetr', 'paper', 'pod', 'work', 'back', 'regular', 'reason', 'price', 'coffe', 'pod', 'wast', 'mani', 'expens', 'kona', 'pod', 'tri', 'get', 'proper', 'cup', 'coffe', 'even', 'kona', 'pod', 'brew', 'cup', 'coffe', 'larg', 'amount', 'coffe', 'get', 'use', 'brand', 'ad', 'cost', 'kona', 'pod', 'fact', 'brew', 'smaller', 'amount', 'coffe', 'equal', 'product', 'way', 'expens', 'actual', 'work', 'read', 'product', 'call', 'ecopod', 'refil', 'pod', 'type', 'coffeemak', 'might', 'next', 'thing', 'tri'], tags=[44]),\n",
       " TaggedDocument(words=['made', 'wish', 'born', 'without', 'tast', 'bud', 'tast', 'sickeningli', 'sweet', 'first', 'absolut', 'horribl', 'disgustingli', 'bitter', 'aftertast', 'tast', 'like', 'would', 'poison', 'anyon', 'suggest', 'might', 'actual', 'drinkabl', 'let', 'know', 'nine', 'thing', 'sit', 'refriger'], tags=[45]),\n",
       " TaggedDocument(words=['pick', 'tin', 'brand', 'dalla', 'area'], tags=[46]),\n",
       " TaggedDocument(words=['highli', 'recommend', 'give', 'dog', 'greeni', 'german', 'shepherd', 'given', 'one', 'friend', 'love', 'tast', 'ate', 'wholeheartedli', 'howev', 'within', 'hour', 'vomit', 'blood', 'taken', 'vet', 'emerg', 'clinic', 'product', 'tear', 'throat', 'intestin', 'blockag', 'greeni', 'digest', 'easili', 'risk', 'emerg', 'surgeri', 'vet', 'abl', 'help', 'pass', 'week', 'folk', 'packag', 'greeni', 'even', 'say', 'fatal', 'thoroughli', 'chew', 'risk', 'almost', 'lost', 'best', 'friend'], tags=[47]),\n",
       " TaggedDocument(words=['bought', 'chees', 'chees', 'store', 'san', 'francisco', 'area', 'best', 'chees', 'ever', 'eaten', 'crumbl', 'fragrant', 'earth', 'reason', 'orang', 'deep', 'complex', 'flavor', 'kept', 'give', 'hunt', 'lo', 'angel', 'couldnt', 'find', 'final', 'track', 'line', 'igourmet', 'got', 'like', 'hard', 'littl', 'oili', 'particular', 'flavor', 'igourmet', 'credit', 'apolog', 'gave', 'full', 'refund', 'dont', 'blame', 'ive', 'sinc', 'read', 'chees', 'fragil', 'hard', 'find', 'best', 'state', 'even', 'itali', 'love', 'good', 'chees', 'put', 'effort', 'find', 'chees', 'store', 'carri', 'chees', 'best', 'unforgett', 'dont', 'tri', 'buy', 'line'], tags=[48]),\n",
       " TaggedDocument(words=['ill', 'marri', 'cousinpaco', 'cant', 'easiest', 'thing', 'world', 'among', 'thing', 'frequent', 'ninja', 'mission', 'take', 'away', 'home', 'long', 'interv', 'marriag', 'street', 'cousinpaco', 'compromis', 'believ', 'instanc', 'come', 'ginger', 'ale', 'canada', 'dri', 'man', 'take', 'motto', 'cousinpaco', 'better', 'half', 'grew', 'drink', 'vernor', 'sinc', 'she', 'one', 'handl', 'groceri', 'shop', 'guess', 'what', 'wait', 'fridg', 'return', 'infiltr', 'secret', 'base', 'sabotag', 'machin', 'yep', 'vernor', 'noth', 'vernor', 'cours', 'except', 'palat', 'vernor', 'tast', 'like', 'cough', 'medicin', 'know', 'know', 'could', 'get', 'keister', 'buy', 'your', 'fight', 'battl', 'moron', 'exampl', 'seek', 'conquer', 'world', 'build', 'giant', 'robot', 'dinosaur', 'last', 'thing', 'want', 'weekend', 'wait', 'groceri', 'line', 'behind', 'old', 'ladi', 'thirti', 'item', 'express', 'lane', 'probabl', 'want', 'pay', 'check', 'mean', 'drink', 'vernor', 'price', 'marriag', 'spose', 'agre', 'toilet', 'paper', 'pull', 'top', 'roll', 'underneath', 'would'], tags=[49]),\n",
       " TaggedDocument(words=['finish', 'watch', 'train', 'wreck', 'warn', 'anyon', 'who', 'consid', 'buy', 'stay', 'far', 'far', 'away', 'read', 'everi', 'review', 'like', 'your', 'look', 'someth', 'differ', 'fool', 'think', 'film', 'would', 'someth', 'special', 'view', 'left', 'disappoint', 'frustrat', 'one', 'question', 'glow', 'review', 'hell', 'watch', 'qualiti', 'moviemak', 'script', 'weak', 'plot', 'drag', 'way', 'long', 'took', 'minut', 'anyon', 'kill', 'factor', 'poor', 'music', 'score', 'sound', 'transfer', 'top', 'mediocr', 'act', 'amatu', 'film', 'far', 'special', 'effect', 'fast', 'forward', 'last', 'minut', 'littl', 'movi', 'offer', 'movi', 'remind', 'colleg', 'student', 'film', 'gone', 'wrong', 'put', 'bluntli', 'film', 'scare', 'your', 'amazon', 'offer', 'free', 'charg', 'ship', 'paid', 'much', 'check', 'someth', 'els'], tags=[50]),\n",
       " TaggedDocument(words=['look', 'dont', 'even', 'bother', 'real', 'jerk', 'sauc', 'sweet', 'sugar', 'sauc', 'pepper', 'thrown', 'make', 'seem', 'like', 'jerk', 'sauc', 'trust', 'unless', 'cant', 'handl', 'heat', 'dont', 'bother', 'make', 'one', 'decent', 'dish', 'sauc', 'cover', 'rib', 'sauc', 'bake', 'hour', 'tast', 'great', 'like', 'sweet', 'bbq', 'spici', 'jerk', 'flavor', 'isnt', 'right'], tags=[51]),\n",
       " TaggedDocument(words=['ive', 'tast', 'coffe', 'friend', 'hous', 'fabul', 'ship', 'fee', 'new', 'line', 'sale', 'charg', 'lavazza', 'blu', 'outrag', 'ridicul'], tags=[52]),\n",
       " TaggedDocument(words=['equal', 'nutrasweet', 'exact', 'product', 'exact', 'ingredi', 'made', 'exact', 'compani', 'consum', 'report', 'blew', 'cover', 'year', 'ago', 'funni', 'thing', 'could', 'find', 'groceri', 'store', 'shelv', 'right', 'next', 'see', 'compani', 'name', 'box', 'read', 'ingredi', 'amount', 'per', 'packet', 'amount', 'packet', 'per', 'box', 'yet', 'charg', 'doubl', 'money', 'equal', 'nutrasweet', 'even', 'consum', 'report', 'never', 'got', 'answer', 'compani', 'compani', 'produc', 'aspartam', 'longer', 'searl', 'head', 'ceo', 'donald', 'rumsfeld', 'instead', 'monsanto', 'compani', 'produc', 'toxic', 'agent', 'orang', 'look', 'substitut', 'natur', 'sweeten', 'diabet', 'stevia', 'someth', 'look', 'fda', 'allow', 'call', 'sweeten', 'label', 'nutrit', 'suppliment', 'law', 'compet', 'big', 'money', 'contribut', 'aspartam', 'equal', 'sucralos', 'splenda', 'although', 'stevia', 'safe', 'use', 'thousand', 'year', 'countri', 'even', 'diet', 'coke', 'japan', 'problem', 'fda', 'call', 'dont', 'take', 'word', 'anyth', 'said', 'pleas', 'research', 'know', 'truth'], tags=[53]),\n",
       " TaggedDocument(words=['act', 'bad', 'end', 'pretti', 'good', 'rest', 'movi', 'suck', 'pretti', 'bore', 'peopl', 'rate', 'star', 'wont', 'ever', 'understand', 'anoth', 'movi', 'brought', 'sold', 'day', 'idea', 'stori', 'bad', 'kid', 'talk', 'devil', 'comput', 'dont', 'know', 'movi', 'suck', 'imo', 'atleast', 'would', 'advis', 'anyon', 'rent', 'buy', 'find', 'use', 'like', 'dont', 'like', 'atleast', 'spent', 'instead'], tags=[54]),\n",
       " TaggedDocument(words=['recent', 'bought', 'pack', 'san', 'pellegrino', 'chinotto', 'local', 'supermarket', 'upon', 'sampl', 'bottl', 'item', 'promptli', 'grimac', 'gag', 'explos', 'initi', 'flavour', 'toler', 'hint', 'orang', 'lemon', 'first', 'impress', 'quickli', 'fade', 'rather', 'unpalat', 'bitter', 'tast', 'rather', 'like', 'melt', 'plastic', 'glad', 'wrap', 'definit', 'acquir', 'tast'], tags=[55]),\n",
       " TaggedDocument(words=['cellulos', 'gel', 'lactic', 'acid', 'sucralos', 'titanium', 'dioxid', 'salt', 'xanthan', 'gum', 'potassium', 'sorbat', 'yum', 'cant', 'wait', 'get', 'titanium', 'dioxid', 'great', 'sound'], tags=[56]),\n",
       " TaggedDocument(words=['use', 'world', 'greatest', 'litter', 'coupl', 'year', 'saw', 'shelv', 'decid', 'tri', 'swheat', 'scoop', 'cheaper', 'world', 'swheat', 'scoop', 'fun', 'say', 'swheat', 'scoop', 'less', 'dusti', 'world', 'bad', 'allerg', 'dust', 'swheat', 'scoop', 'clump', 'stick', 'like', 'glue', 'bottom', 'box', 'matter', 'deep', 'fill', 'instruct', 'use', 'bottom', 'bag', 'didnt', 'halp', 'alreadi', 'use', 'litter', 'track', 'much', 'wors', 'world', 'greatest', 'sinc', 'clump', 'harder', 'stick', 'paw', 'easier', 'transport', 'area', 'hous', 'litter', 'harder', 'step', 'tini', 'clump', 'bare', 'feet', 'hurt', 'thing', 'pain', 'litter', 'pearl', 'overal', 'impress', 'mileag', 'may', 'vari'], tags=[57]),\n",
       " TaggedDocument(words=['place', 'order', 'day', 'ago', 'track', 'show', 'travel', 'around', 'unit', 'state', 'state', 'amazon', 'say', 'order', 'money', 'debit', 'check', 'account', 'plan', 'repeat', 'neg', 'review', 'long', 'take'], tags=[58]),\n",
       " TaggedDocument(words=['may', 'healthier', 'bad', 'clump', 'difficult', 'remov', 'side', 'bottom', 'found', 'white', 'dust', 'everywher', 'within', 'feet', 'box', 'includ', 'top', 'refriger', 'pot', 'pan', 'start', 'use', 'get', 'away', 'possibl', 'harm', 'clay', 'dust', 'pleas', 'cheap', 'help', 'overlook', 'fact', 'workout', 'get', 'clump', 'year', 'use', 'could', 'longer', 'overlook', 'extrem', 'fine', 'white', 'dust', 'accumul', 'peanut', 'butter', 'jar', 'top', 'refriger', 'use', 'world', 'best', 'expens', 'worrth', 'buy', 'amazon', 'petfooddirect'], tags=[59]),\n",
       " TaggedDocument(words=['love', 'name', 'love', 'concept', 'tri', 'sever', 'month', 'final', 'switch', 'natur', 'miracl', 'harden', 'clump', 'imposs', 'get', 'use', 'screwdriv', 'chisel', 'wheat', 'past', 'glue', 'work', 'strang', 'ferment', 'dough', 'smell', 'box', 'thoroughli', 'clean', 'larg', 'dough', 'clump', 'clog', 'toilet', 'flush', 'even', 'wait', 'soften', 'flush', 'still', 'fairli', 'heavi', 'take', 'product', 'appear', 'ident', 'wheat', 'germ', 'cat', 'would', 'eat', 'occas', 'fresh', 'decid', 'didnt', 'feel', 'comfort', 'idea', 'cat', 'possibl', 'urin', 'grain', 'starv', 'peopl', 'world'], tags=[60]),\n",
       " TaggedDocument(words=['chilean', 'seabass', 'actual', 'call', 'patagonian', 'toothfish', 'fish', 'extinct', 'fish', 'take', 'decad', 'reach', 'matur', 'live', 'long', 'year', 'caught', 'faster', 'reproduc', 'black', 'sea', 'bass', 'stripe', 'bass', 'rockfish', 'instead', 'www', 'net', 'org', 'marin', 'csb', 'www', 'mbayaq', 'org'], tags=[61]),\n",
       " TaggedDocument(words=['java', 'podz', 'coffe', 'pad', 'fit', 'well', 'senseo', 'coffe', 'maker', 'one', 'pad', 'fit', 'two', 'cup', 'holder', 'make', 'weak', 'cup', 'coffe', 'order', 'larg', 'suppli', 'probabl', 'throw'], tags=[62]),\n",
       " TaggedDocument(words=['order', 'item', 'paid', 'extra', 'two', 'day', 'expedit', 'servic', 'arriv', 'six', 'day', 'later', 'whole', 'time', 'gift', 'pretti', 'much', 'like', 'flower', 'lost', 'sorri', 'money', 'paid', 'order', 'candi', 'depot', 'product', 'thirti', 'three', 'half', 'dollar', 'complet', 'wast', 'ill', 'tri', 'flower', 'next', 'time'], tags=[63]),\n",
       " TaggedDocument(words=['bought', 'say', 'compat', 'buyer', 'almost', 'broke', 'senseo', 'tri', 'use', 'senseo', 'got', 'stuck', 'close', 'wait', 'let', 'vacuum', 'think', 'coffe'], tags=[64]),\n",
       " TaggedDocument(words=['candi', 'fresh', 'hard', 'candi', 'rather', 'taffi', 'purchas'], tags=[65]),\n",
       " TaggedDocument(words=['put', 'area', 'yard', 'suggest', 'direct', 'dog', 'went', 'investig', 'immedi', 'snif', 'never', 'gone', 'dog', 'mayb', 'would', 'work', 'puppi'], tags=[66]),\n",
       " TaggedDocument(words=['wish', 'anoth', 'compani', 'would', 'make', 'product', 'better', 'qualiti', 'although', 'concept', 'spot', 'there', 'problem', 'rubber', 'insid', 'pump', 'slide', 'place', 'jam', 'pump', 'becom', 'unus', 'first', 'one', 'last', 'month', 'happen', 'will', 'tri', 'second', 'one', 'howev', 'last', 'less', 'month', 'slip', 'pump', 'jam', 'way', 'open', 'fix', 'fix', 'problem', 'product', 'hit', 'miss', 'caveat', 'emptor'], tags=[67]),\n",
       " TaggedDocument(words=['dont', 'know', 'item', 'yet', 'hasnt', 'arriv', 'order', 'may', 'ship', 'one', 'two', 'day', 'netgroc', 'june', 'yet'], tags=[68]),\n",
       " TaggedDocument(words=['first', 'doesnt', 'look', 'like', 'photo', 'rose', 'even', 'smaller', 'scrawnier', 'person', 'bad', 'shape', 'arriv'], tags=[69]),\n",
       " TaggedDocument(words=['elderli', 'mom', 'love', 'peanut', 'brittl', 'littl', 'gift', 'treat', 'pack', 'product', 'poor', 'bag', 'cellophan', 'window', 'candi', 'box', 'protect', 'pack', 'styrofoam', 'noth', 'box', 'punctur', 'torn', 'white', 'bag', 'littl', 'tini', 'insid', 'candi', 'gross'], tags=[70]),\n",
       " TaggedDocument(words=['surpris', 'find', 'wasabi', 'peanut', 'low', 'price', 'receiv', 'know', 'certainli', 'clear', 'sinus', 'qualiti', 'poor', 'would', 'best', 'describ', 'one', 'part', 'tini', 'stale', 'peanut', 'four', 'part', 'crunchi', 'wasabi', 'coat', 'dump', 'one', 'pound', 'bag', 'learn', 'pay', 'littl', 'get', 'less', 'higher', 'qualiti', 'tin', 'posit', 'note', 'vendor', 'prompt', 'ship', 'product', 'probabl', 'good', 'one'], tags=[71]),\n",
       " TaggedDocument(words=['order', 'tea', 'label', 'decaff', 'must', 'caffein', 'residu', 'level', 'test', 'tea', 'caffein', 'decaff', 'tea', 'anywher', 'caffein', 'caffein', 'caffein', 'tea', 'caffein', 'slightli', 'less', 'natur', 'present', 'tea', 'leaf'], tags=[72]),\n",
       " TaggedDocument(words=['texa', 'pete', 'hot', 'sauc', 'south', 'ubiquit', 'everi', 'type', 'restaur', 'ask', 'tabasco', 'your', 'like', 'get', 'texa', 'pete', 'hot', 'sauc', 'instead', 'compani', 'found', 'north', 'first', 'product', 'barbecu', 'sauc', 'hot', 'sauc', 'soon', 'follow', 'basic', 'hot', 'sauc', 'pepper', 'vinegar', 'salt', 'use', 'would', 'tabasco', 'louisiana', 'hot', 'sauc', 'unfortun', 'extrem', 'mild', 'often', 'find', 'order', 'add', 'desir', 'heat', 'food', 'add', 'much', 'food', 'becom', 'wateri', 'scrambl', 'egg', 'end', 'mess', 'still', 'tast', 'bland', 'like', 'mild', 'hot', 'sauc', 'texa', 'pete', 'one', 'top', 'choic', 'otherwis', 'avoid', 'wimpi', 'select', 'compani', 'websit', 'includ', 'plethora', 'recip', 'use', 'product', 'chicken', 'brunswick', 'stew', 'north', 'carolina', 'tradit'], tags=[73]),\n",
       " TaggedDocument(words=['product', 'receiv', 'partli', 'vanillin', 'artifici', 'vanilla', 'expect', 'get', 'pure', 'mexican', 'vanilla', 'natur', 'disappoint'], tags=[74]),\n",
       " TaggedDocument(words=['ive', 'never', 'found', 'irish', 'breakfast', 'tea', 'like', 'one', 'like', 'other', 'ive', 'tri', 'tast', 'like', 'boil', 'stick', 'dirt', 'drink', 'tire', 'appreci', 'flavor', 'cup', 'perhap', 'your', 'fan', 'style', 'youll', 'find', 'exquisit'], tags=[75]),\n",
       " TaggedDocument(words=['wouldnt', 'recommend', 'deck', 'sinc', 'cartooni', 'minor', 'arcana', 'number', 'suit', 'two', 'staff', 'two', 'wand'], tags=[76]),\n",
       " TaggedDocument(words=['ye', 'wrigley', 'gum', 'even', 'one', 'sugar', 'contain', 'least', 'one', 'mani', 'contain', 'two', 'aspartam', 'gum', 'sugar', 'need', 'danger', 'chemic', 'sweeten', 'mysteri', 'sinc', 'chang', 'logo', 'packag', 'gum', 'longer', 'buy', 'wrigley', 'brand', 'gum', 'without', 'one', 'nasti', 'chemic', 'addit', 'note', 'sucralos', 'aka', 'brand', 'name', 'splenda', 'thing', 'sucros', 'sugar', 'slight', 'spell', 'differ', 'deciev', 'read', 'ingredi', 'label', 'think', 'read', 'sucros', 'notic', 'sucralos', 'caus', 'sever', 'abdomin', 'pain', 'chew', 'gum', 'know', 'dozen', 'book', 'thousand', 'websit', 'explain', 'wrong', 'well', 'one', 'sad', 'never', 'get', 'enjoy', 'childhood', 'favorit', 'wrigley', 'spearmint', 'juici', 'fruit', 'big', 'red', 'ever'], tags=[77]),\n",
       " TaggedDocument(words=['equal', 'nutrasweet', 'exact', 'product', 'exact', 'ingredi', 'made', 'exact', 'compani', 'consum', 'report', 'blew', 'cover', 'year', 'ago', 'time', 'groceri', 'store', 'look', 'box', 'note', 'compani', 'address', 'box', 'note', 'ingredi', 'amount', 'product', 'per', 'box', 'exactli', 'differ', 'compani', 'charg', 'doubl', 'equal', 'consum', 'report', 'never', 'got', 'answer', 'compani', 'compani', 'produc', 'aspartam', 'longer', 'searl', 'head', 'ceo', 'donald', 'rumsfeld', 'instead', 'monsanto', 'compani', 'produc', 'toxic', 'agent', 'orang', 'look', 'substitut', 'natur', 'sweeten', 'diabet', 'stevia', 'someth', 'look', 'fda', 'allow', 'call', 'sweeten', 'label', 'nutrit', 'suppliment', 'law', 'compet', 'big', 'money', 'contribut', 'aspartam', 'equal', 'sucralos', 'splenda', 'although', 'stevia', 'safe', 'use', 'thousand', 'year', 'countri', 'even', 'diet', 'coke', 'japan', 'problem', 'fda', 'call', 'thing', 'rememb', 'aspartam', 'equal', 'nutrasweet', 'sucralos', 'splenda', 'acesuflamek', 'sacharin', 'warn', 'label', 'stevia', 'stevia', 'natur', 'other', 'harmful', 'chemic'], tags=[78]),\n",
       " TaggedDocument(words=['pee', 'post', 'larger', 'expect', 'smell', 'urin', 'probabl', 'pheramon', 'attract', 'dog', 'instal', 'yard', 'per', 'direct', 'brought', 'year', 'old', 'directli', 'usual', 'pee', 'time', 'tri', 'get', 'sniff', 'pay', 'attent', 'success', 'seen', 'take', 'one', 'sniff', 'pass', 'never', 'done', 'busi', 'even', 'close', 'pee', 'post', 'mayb', 'would', 'work', 'puppi', 'train', 'yet', 'work', 'dog'], tags=[79]),\n",
       " TaggedDocument(words=['tri', 'tea', 'disappoint', 'tast', 'green', 'tea', 'though', 'look', 'forward', 'actual', 'tea', 'leav', 'actual', 'roast', 'brown', 'rice', 'nibbl'], tags=[80]),\n",
       " TaggedDocument(words=['yogurt', 'suck', 'bad', 'enough', 'make', 'pretzel', 'dumb', 'anyon', 'like', 'yogurt', 'crazi', 'rotten', 'milk', 'nasti', 'put', 'pretzel', 'gross', 'cant', 'stand', 'yogurt', 'pretzel'], tags=[81]),\n",
       " TaggedDocument(words=['noth', 'particulari', 'outstand', 'chocol', 'good', 'extrem', 'high', 'ship', 'handl', 'cost', 'worth'], tags=[82]),\n",
       " TaggedDocument(words=['purchas', 'item', 'half', 'month', 'ago', 'never', 'reciev', 'fun', 'could', 'find', 'way', 'contact', 'custom', 'servic', 'pleas', 'let', 'know', 'happen', 'thank'], tags=[83]),\n",
       " TaggedDocument(words=['debbi', 'lee', 'wesserman', 'claim', 'cast', 'movi', 'perfect', 'alec', 'baldwin', 'perform', 'less', 'memor', 'cours', 'nonsens', 'cast', 'unmitig', 'disast', 'sole', 'except', 'alec', 'baldwin', 'manag', 'salvag', 'second', 'star', 'film', 'particularli', 'memor', 'perform'], tags=[84]),\n",
       " TaggedDocument(words=['fruit', 'slice', 'came', 'hot', 'weather', 'instead', 'coat', 'suger', 'soft', 'gummi'], tags=[85]),\n",
       " TaggedDocument(words=['realli', 'prefer', 'shoumei', 'green', 'tea', 'one', 'green', 'tea', 'find', 'isnt', 'bitter', 'white', 'tea', 'doesnt', 'sweet', 'isnt', 'much', 'fun', 'drink', 'drink', 'good'], tags=[86]),\n",
       " TaggedDocument(words=['product', 'arriv', 'without', 'fork', 'sign', 'ever', 'fork', 'attach', 'product', 'seller', 'also', 'fail', 'note', 'ship', 'cool', 'pack', 'need', 'refriger', 'order', 'apo', 'address', 'someon', 'notic', 'contact', 'note', 'perish', 'product', 'advertiz'], tags=[87]),\n",
       " TaggedDocument(words=['paid', 'expedit', 'deliveri', 'product', 'still', 'took', 'five', 'day', 'arriv', 'would', 'buy'], tags=[88]),\n",
       " TaggedDocument(words=['impress', 'guanabana', 'fruit', 'similar', 'ati', 'fruit', 'close', 'good', 'juic', 'didnt', 'like', 'much'], tags=[89]),\n",
       " TaggedDocument(words=['flat', 'coffe', 'tast', 'artifici', 'vanilla', 'blah', 'pod', 'ive', 'tri', 'senseo', 'worst'], tags=[90]),\n",
       " TaggedDocument(words=['weak', 'fact', 'last', 'hope', 'machin', 'sell', 'next', 'week', 'yard', 'sale', 'color', 'tea', 'bad'], tags=[91]),\n",
       " TaggedDocument(words=['heard', 'orangina', 'recent', 'found', 'refresh', 'drink', 'although', 'bit', 'pricey', 'make', 'nice', 'treat', 'probabl', 'everi', 'day', 'event'], tags=[92]),\n",
       " TaggedDocument(words=['ive', 'tri', 'flavor', 'powder', 'chai', 'rate', 'low', 'compar', 'elephan', 'chai', 'flavor', 'rich', 'would', 'buy', 'product'], tags=[93]),\n",
       " TaggedDocument(words=['thought', 'would', 'tri', 'product', 'sinc', 'ive', 'tri', 'number', 'green', 'tea', 'tri', 'impress', 'mean', 'dont', 'recommend', 'product', 'kind', 'flavor', 'ive', 'orient', 'opinion', 'hope', 'someon', 'els', 'enjoy', 'better'], tags=[94]),\n",
       " TaggedDocument(words=['much', 'white', 'pith', 'orang', 'peel', 'make', 'product', 'overli', 'bitter', 'dilut', 'real', 'good', 'tast', 'orang', 'zest'], tags=[95]),\n",
       " TaggedDocument(words=['first', 'tri', 'biscoff', 'cooki', 'way', 'new', 'orlean', 'airtran', 'serv', 'snack', 'travel', 'like', 'much', 'decid', 'order', 'famili', 'size', 'biscoff', 'compani', 'unfortun', 'arriv', 'notic', 'cooki', 'crack', 'chip', 'essenti', 'crumbl', 'piec', 'wouldnt', 'cooki', 'pack', 'weak', 'wrapper', 'packag', 'box', 'toss', 'around', 'period', 'fairli', 'disappoint', 'wast', 'money', 'bunch', 'destroy', 'cooki'], tags=[96]),\n",
       " TaggedDocument(words=['unfortun', 'unabl', 'rate', 'item', 'receiv', 'item', 'yet', 'blue'], tags=[97]),\n",
       " TaggedDocument(words=['disappoint', 'sugar', 'free', 'lemonad', 'bitter', 'yellow', 'grapefruit', 'juic', 'even', 'dilut', 'one', 'powder', 'cup', 'per', 'gallon', 'drink', 'gallon', 'water', 'sugar', 'free', 'drink', 'mix', 'per', 'day', 'crystal', 'light', 'lose', 'star', 'use', 'cheap', 'old', 'sweeten', 'lose', 'anoth', 'star', 'expens', 'lose', 'third', 'star', 'tast', 'bitter', 'instead', 'closer', 'pink', 'grapefruit', 'flavor'], tags=[98]),\n",
       " TaggedDocument(words=['bland', 'bore', 'flavor', 'close', 'child', 'red', 'color', 'drink', 'mix', 'even', 'dilut', 'gallon', 'per', 'powder', 'cup', 'drink', 'gallon', 'water', 'sugar', 'free', 'drink', 'mix', 'per', 'day', 'crystal', 'light', 'lose', 'star', 'use', 'cheap', 'old', 'sweeten', 'lose', 'anoth', 'star', 'expens', 'lose', 'third', 'star', 'lame', 'non', 'exist', 'flavor'], tags=[99]),\n",
       " TaggedDocument(words=['pod', 'fit', 'machin', 'good', 'caus', 'water', 'top', 'work', 'extra', 'pack', 'flavorit', 'coffe', 'work', 'fine', 'love', 'espresso', 'machin'], tags=[100]),\n",
       " TaggedDocument(words=['rather', 'dissapoint', 'product', 'ive', 'lavazza', 'rememb', 'flavor', 'mild', 'may', 'old', 'stock', 'best', 'use', 'date', 'bag', 'month', 'ago', 'wont', 'order', 'amazon', 'fear', 'somebodi', 'get', 'rid', 'old', 'stock', 'mail', 'order', 'ill', 'find', 'reput', 'store'], tags=[101]),\n",
       " TaggedDocument(words=['chocol', 'great', 'ship', 'cost', 'high', 'took', 'close', 'week', 'actual', 'ship', 'chocol'], tags=[102]),\n",
       " TaggedDocument(words=['recent', 'fallen', 'love', 'multi', 'grain', 'crix', 'green', 'packag', 'know', 'wholewheat', 'geeeeeeeeeez', 'noth', 'beat', 'tast', 'multigrain', 'tri', 'sure', 'like', 'start', 'use', 'continu', 'buy', 'crix', 'realli', 'vital', 'suppli', 'that', 'keep', 'one', 'offic', 'drawer'], tags=[103]),\n",
       " TaggedDocument(words=['one', 'best', 'children', 'book', 'ever', 'written', 'mini', 'version', 'book', 'portray', 'one', 'price', 'product', 'sent', 'email', 'regard', 'bewilder', 'amazon', 'got', 'respons'], tags=[104]),\n",
       " TaggedDocument(words=['coffe', 'realli', 'pretti', 'terribl', 'like', 'coffe', 'one', 'bu', 'stop', 'machin', 'give', 'littl', 'paper', 'cup', 'play', 'card', 'pour', 'weak', 'dishwat', 'color', 'coffe', 'stuff', 'bought', 'use', 'senseo', 'discov', 'even', 'espresso', 'mode', 'pod', 'one', 'cup', 'bare', 'drinkabl', 'better', 'buy', 'ecopad', 'grind', 'cheaper', 'far', 'better'], tags=[105]),\n",
       " TaggedDocument(words=['bought', 'french', 'roast', 'varieti', 'like', 'tast', 'unpleasantli', 'sour', 'smell', 'remind', 'wet', 'rug', 'left', 'dump', 'place', 'day', 'vendor', 'claim', 'one', 'pod', 'good', 'cup', 'sound', 'suspici', 'pod', 'doesnt', 'contain', 'much', 'coffe', 'fit', 'one', 'cup', 'tray', 'senseo', 'tri', 'brew', 'two', 'cup', 'first', 'one', 'normal', 'strength', 'second', 'one', 'weak', 'overal', 'disappoint', 'product', 'cost', 'douw', 'edbert', 'brand', 'tast', 'wors', 'second', 'star', 'gave', 'goe', 'conveni', 'pod', 'pack', 'separ', 'seal', 'envelop'], tags=[106]),\n",
       " TaggedDocument(words=['love', 'movi', 'bought', 'vh', 'long', 'time', 'ago', 'recent', 'bought', 'regular', 'version', 'dvd', 'mom', 'store', 'first', 'thing', 'notec', 'disc', 'doubl', 'side', 'halfway', 'thru', 'flip', 'disc', 'watch', 'rest', 'movi', 'anoth', 'censor', 'dont', 'mean', 'violenc', 'mean', 'languag', 'bought', 'version', 'hope', 'better', 'verson', 'instead', 'found', 'thing', 'differ', 'cover', 'reccomend', 'buy', 'vh', 'suck'], tags=[107]),\n",
       " TaggedDocument(words=['peopl', 'stay', 'busi', 'bought', 'hope', 'might', 'good', 'one', 'tast', 'put', 'lid', 'back', 'threw', 'wear', 'belong', 'trash', 'stori', 'sound', 'good', 'true'], tags=[108]),\n",
       " TaggedDocument(words=['mayb', 'tast', 'cooki', 'bought', 'hate', 'chocol', 'chip', 'walnut', 'oatmeal', 'raisin', 'delect', 'trail', 'mix', 'love', 'brand', 'cooki', 'trail', 'mix', 'cup', 'tea'], tags=[109]),\n",
       " TaggedDocument(words=['someth', 'eat', 'your', 'starv', 'pleas', 'give', 'real', 'food', 'hungri', 'peopl', 'kellogg', 'corn', 'flake', 'mill', 'corn', 'sugar', 'malt', 'flavor', 'high', 'fructos', 'corn', 'syrup', 'salt', 'ye', 'cours', 'also', 'lot', 'yummi', 'preserv', 'bht', 'synthet', 'vitamin', 'iron', 'minut', 'quantiti', 'nutrit', 'get', 'basic', 'carb', 'lot', 'sugar', 'almost', 'protein', 'add', 'skim', 'milk', 'youll', 'get', 'satur', 'fat', 'littl', 'protein', 'whole', 'milk', 'ad', 'nutrit', 'includ', 'slice', 'banana', 'cap', 'wheat', 'germ', 'like', 'corn', 'flake', 'busi', 'enjoy', 'health', 'food', 'poor', 'valu', 'cent', 'ounc', 'per', 'price', 'inner', 'packag', 'failur', 'maintain', 'fresh', 'even', 'bigger', 'drawback', 'one', 'think', 'long', 'may', 'take', 'finish', 'ounc', 'stuff', 'use', 'contain', 'like', 'kretschmer', 'wheat', 'germ', 'preserv', 'fresh', 'price', 'hungri', 'realli', 'eat', 'wrong', 'stuff', 'someth', 'eat', 'starv', 'pleas', 'give', 'real', 'food', 'hungri', 'peopl', 'pleas'], tags=[110]),\n",
       " TaggedDocument(words=['come', 'twinki', 'arent', 'food', 'anymor', 'cheez', 'whiz', 'twinki', 'invent', 'back', 'scienc', 'understood', 'impact', 'product', 'bodi', 'consid', 'day', 'doctor', 'use', 'advertis', 'cigarett', 'magazin', 'everyon', 'need', 'sugar', 'fix', 'everi', 'guilti', 'eat', 'twinki', 'practic', 'look', 'ingredi', 'list', 'read', 'yike', 'everyon', 'famili', 'deserv', 'tasti', 'snack', 'happen', 'healthi', 'sorri', 'hostess', 'definit', 'includ', 'twinki'], tags=[111]),\n",
       " TaggedDocument(words=['first', 'tri', 'cooki', 'delta', 'flight', 'realli', 'like', 'return', 'back', 'trip', 'order', 'cook', 'onlin', 'eagerli', 'wait', 'arriv', 'came', 'cooki', 'broken', 'small', 'piec', 'would', 'probabl', 'never', 'order', 'onlin', 'unless', 'improv', 'packag'], tags=[112]),\n",
       " TaggedDocument(words=['use', 'favorit', 'beverag', 'recent', 'drank', 'ocean', 'spray', 'cranappl', 'juic', 'least', 'twice', 'day', 'weekend', 'guzzl', 'glass', 'everi', 'breakfast', 'lunch', 'dinner', 'gain', 'lb', 'summer', 'wonder', 'happen', 'despit', 'stick', 'fat', 'diet', 'rigor', 'workout', 'regimen', 'cup', 'ocean', 'spray', 'least', 'gram', 'sugar', 'that', 'approxim', 'amount', 'snicker', 'candi', 'bar', 'sugar', 'corn', 'bad', 'your', 'health', 'consciou', 'even', 'wors', 'your', 'tri', 'control', 'sugar', 'intak', 'would', 'eat', 'snicker', 'candi', 'bar', 'three', 'four', 'time', 'day', 'wouldnt', 'that', 'amount', 'sugar', 'consum', 'daili', 'basi', 'learn', 'affect', 'waistlin', 'fit', 'goal', 'immedi', 'switch', 'fruit', 'juic', 'water', 'lost', 'lb', 'less', 'month', 'truth', 'fruit', 'juic', 'high', 'sugar', 'calori', 'theyr', 'good', 'whether', 'theyr', 'your', 'better', 'drink', 'either', 'moder', 'elimin', 'diet', 'altogeth'], tags=[113]),\n",
       " TaggedDocument(words=['haunt', 'movi', 'everyth', 'play', 'laugh', 'seriou', 'moment', 'deep', 'introspect', 'revel', 'life', 'review', 'insight', 'life', 'purpos', 'etc', 'gimmick', 'special', 'effect', 'sight', 'gag', 'visual', 'fluff', 'suitabl', 'younger', 'set', 'hero', 'heroin', 'drown', 'togeth', 'car', 'accid', 'discov', 'dead', 'back', 'dearli', 'belov', 'hous', 'cant', 'leav', 'monster', 'outsid', 'peac', 'interrupt', 'new', 'owner', 'decid', 'redo', 'place', 'ridicul', 'gaudi', 'style', 'notic', 'unexpect', 'book', 'handbook', 'recent', 'deceas', 'nightstand', 'serv', 'guid', 'new', 'situat', 'discov', 'reach', 'casework', 'obnoxi', 'haunter', 'name', 'might', 'abl', 'help', 'remov', 'new', 'occup', 'everyth', 'tri', 'fail', 'work', 'end', 'accept', 'new', 'owner', 'owner', 'daughter', 'becom', 'closer', 'provid', 'child', 'alway', 'want', 'couldnt', 'idea', 'see', 'mirror', 'new', 'owner', 'cannot', 'see', 'except', 'daugthter', 'littl', 'learn', 'afterlif', 'see', 'coupl', 'brief', 'scene', 'casework', 'offic', 'describ', 'depress', 'worst', 'movi', 'seen', 'long', 'time'], tags=[114]),\n",
       " TaggedDocument(words=['horchata', 'mix', 'tast', 'noth', 'like', 'horchata', 'better', 'altern', 'want', 'horchata'], tags=[115]),\n",
       " TaggedDocument(words=['weight', 'product', 'pay', 'one', 'ounc', 'one', 'frustrat', 'place', 'order', 'find', 'vital', 'info', 'miss', 'yuma'], tags=[116]),\n",
       " TaggedDocument(words=['descript', 'item', 'accur', 'bought', 'freez', 'dei', 'raspberri', 'stawberri', 'compani', 'great', 'howev', 'dehydr', 'mean', 'import', 'hard', 'soften', 'left', 'milk', 'water', 'dont', 'think', 'ad', 'cereal', 'trail', 'mix', 'eat', 'hand', 'satur', 'second', 'ingredi', 'coconut', 'oil', 'one', 'serv', 'calori', 'gram', 'fat', 'gram', 'satur', 'fat', 'your', 'better', 'eat', 'cheeto', 'extrem', 'unhealthi', 'dont', 'even', 'tast', 'great', 'unsurprisingli', 'oili', 'aftertast', 'buyer', 'bewar', 'stick', 'pure', 'freez', 'dri', 'fruit', 'noth', 'ad', 'healthi'], tags=[117]),\n",
       " TaggedDocument(words=['main', 'issu', 'pod', 'would', 'there', 'quit', 'enough', 'coff', 'one', 'pod', 'advertis', 'brew', 'coffe', 'expect', 'make', 'brew', 'singl', 'pod', 'oppos', 'senseo', 'pod', 'end', 'significantli', 'coffe', 'brew', 'slight', 'larger', 'singl', 'pod', 'result', 'wateri', 'almost', 'tasteless', 'remedi', 'instead', 'place', 'singl', 'pod', 'holder', 'place', 'pod', 'holder', 'brew', 'make', 'tolerab', 'coffe', 'term', 'strength', 'next', 'problem', 'tast', 'prefer', 'find', 'tast', 'decent', 'best', 'lack', 'flavor', 'bodi', 'perhap', 'bit', 'bitter', 'packag', 'embarras', 'huge', 'question', 'inidividu', 'pod', 'came', 'scratch', 'gener', 'packag', 'meanwhil', 'pod', 'packag', 'togeth', 'proper', 'javapodz', 'box', 'ziploc', 'bag', 'actual', 'would', 'forgiv', 'inidividu', 'pod', 'wrap', 'didnt', 'look', 'worn', 'cheap', 'almost', 'fake', 'hope', 'tri', 'flavor', 'highli', 'reluct', 'pod', 'gourmet', 'cafe', 'anoth', 'coffe', 'pod', 'stock', 'amazon', 'tri', 'previous', 'quit', 'good', 'good', 'tri', 'your', 'disappoint', 'javapodz'], tags=[118]),\n",
       " TaggedDocument(words=['honey', 'quit', 'unlik', 'anyth', 'experienc', 'flavor', 'pervas', 'bitter', 'unlik', 'clover', 'honey', 'tast', 'past', 'could', 'describ', 'reminisc', 'extrem', 'tea', 'made', 'cring', 'odor', 'also', 'certain', 'disagre', 'sweet', 'ye', 'accompani', 'faint', 'chemic', 'smell', 'like', 'petroleum', 'honeycomb', 'could', 'seen', 'suspend', 'throughout', 'honey', 'suppos', 'least', 'tell', 'authent', 'pleasant', 'bite', 'like', 'sticki', 'yet', 'dri', 'piec', 'shoe', 'chew', 'product'], tags=[119]),\n",
       " TaggedDocument(words=['tri', 'coffe', 'prior', 'brand', 'discontinu', 'mayb', 'pick', 'wrong', 'taster', 'choic', 'coffe', 'impress', 'particular', 'product', 'tast', 'like', 'liquefi', 'burn', 'reason', 'gave', 'extra', 'star', 'easi', 'make', 'get', 'lot', 'instant', 'coffe', 'money', 'howev', 'ultim', 'difficult', 'drink', 'amount', 'product', 'realli', 'isnt', 'benefit', 'consum'], tags=[120]),\n",
       " TaggedDocument(words=['price', 'foster', 'smith'], tags=[121]),\n",
       " TaggedDocument(words=['cant', 'believ', 'made', 'packag', 'human', 'consumpt', 'still', 'reel', 'attempt', 'eat', 'spare', 'packag', 'breath', 'headi', 'scent', 'ammonia', 'wait', 'warn', 'authent', 'scent', 'shirataki', 'recommend', 'parbroil', 'noodl', 'reduc', 'stench', 'excus', 'aroma', 'cook', 'enjoy', 'pseudonoodl', 'scent', 'consist', 'overcook', 'squid', 'mmmm', 'difficult', 'chew', 'perfect', 'diet', 'food', 'good', 'reason', 'wont', 'abl', 'finish', 'two', 'forkful'], tags=[122]),\n",
       " TaggedDocument(words=['cigar', 'came', 'shipment', 'gold', 'pink', 'one', 'shown', 'simul', 'tobacco', 'leaf', 'exterior'], tags=[123]),\n",
       " TaggedDocument(words=['love', 'tea', 'least', 'differ', 'type', 'tea', 'home', 'time', 'rare', 'tri', 'tea', 'dont', 'like', 'one', 'russian', 'caravan', 'defi', 'rule', 'strong', 'strong', 'tea', 'strong', 'flavor', 'imposs', 'drink', 'without', 'prepar', 'one', 'friend', 'mine', 'call', 'camel', 'feet', 'tea', 'afraid', 'case', 'agre'], tags=[124]),\n",
       " TaggedDocument(words=['pack', 'cocoa', 'order', 'pack', 'sloppi', 'one', 'cocoa', 'pack', 'broke', 'transit', 'needless', 'say', 'mess', 'creat', 'kitchen', 'open', 'box', 'sent', 'american', 'spice', 'email', 'complain', 'broken', 'packag', 'obvious', 'american', 'spice', 'time', 'never', 'bother', 'acknowledg', 'receipt', 'email', 'first', 'last', 'time', 'busi', 'american', 'spice'], tags=[125]),\n",
       " TaggedDocument(words=['web', 'site', 'say', 'deliv', 'hour', 'wait', 'day', 'product', 'yet', 'ship', 'amazon', 'ship', 'soon', 'design', 'imposs', 'cancel', 'order', 'current', 'estim', 'receiv', 'order', 'day', 'product', 'stock', 'ship', 'hour', 'today', 'receiv', 'notif', 'problem', 'order', 'inform', 'problem', 'dishonest', 'merchant'], tags=[126]),\n",
       " TaggedDocument(words=['saw', 'oprah', 'order', 'christma', 'gift', 'packag', 'realli', 'ugli', 'cheap', 'look', 'didnt', 'help', 'give', 'gift', 'save', 'packag', 'famili', 'christma', 'eve', 'treat', 'cant', 'say', 'horribl', 'tast', 'like', 'old', 'chocol', 'shake', 'strong', 'chocol', 'tast', 'ad', 'milk', 'tame', 'tast', 'pretti', 'exprens', 'expect', 'better'], tags=[127]),\n",
       " TaggedDocument(words=['gardenia', 'bonsai', 'arriv', 'good', 'shape', 'packag', 'well', 'look', 'like', 'bonsai', 'advertis', 'suppos', 'yr', 'old', 'mine', 'look', 'like', 'normal', 'gardenia', 'bush', 'prune', 'way', 'back', 'stuck', 'small', 'pot', 'plan', 'return', 'wife', 'disappoint', 'christma', 'gift'], tags=[128]),\n",
       " TaggedDocument(words=['order', 'bonsai', 'tree', 'list', 'amazon', 'wish', 'list', 'highest', 'christma', 'order', 'came', 'record', 'time', 'three', 'week', 'christma', 'set', 'babi', 'tree', 'day', 'follow', 'direct', 'tee', 'spray', 'water', 'exactli', 'direct', 'state', 'place', 'sunni', 'well', 'light', 'area', 'temperatur', 'condo', 'never', 'degre', 'night', 'slept', 'nonetheless', 'two', 'week', 'still', 'week', 'christma', 'leav', 'began', 'curl', 'turn', 'splotchi', 'fall', 'sad', 'tree', 'look', 'wonder', 'arriv', 'well', 'pack', 'time', 'christma', 'eve', 'arriv', 'half', 'origin', 'leav', 'wait', 'see', 'tree', 'better', 'home', 'sinc', 'happi', 'shed', 'love', 'keep', 'go', 'tri', 'nurtur', 'healthi', 'life', 'well', 'see', 'buchanan'], tags=[129]),\n",
       " TaggedDocument(words=['sure', 'plant', 'go', 'surviv', 'pot', 'broken', 'open', 'box', 'yet', 'ship', 'box', 'show', 'sign', 'damag', 'cant', 'find', 'return', 'either', 'sinc', 'plant', 'independ', 'amazon', 'merchant', 'make', 'return', 'difficult', 'much', 'present'], tags=[130]),\n",
       " TaggedDocument(words=['worth'], tags=[131]),\n",
       " TaggedDocument(words=['receiv', 'christma', 'gift', 'initi', 'fun', 'go', 'box', 'reliv', 'childhood', 'memori', 'candi', 'evok', 'hit', 'stale', 'candi', 'anoth', 'noth', 'wors', 'bite', 'stale', 'candi', 'unless', 'knowledg', 'someon', 'paid', 'premium', 'there', 'less', 'worth', 'candi', 'box', 'littl', 'retro', 'hard', 'candi', 'wrote', 'compani', 'respons', 'essenti', 'gee', 'that', 'bad', 'advis', 'put', 'candi', 'microwav', 'freshen', 'solut', 'fault', 'sum', 'candi', 'good', 'realli', 'bad', 'youll', 'never', 'know', 'mouth', 'wouldnt', 'buy', 'compani', 'dont', 'stand', 'behind', 'product'], tags=[132]),\n",
       " TaggedDocument(words=['hershey', 'new', 'version', 'call', 'european', 'style', 'dutch', 'process', 'cocoa', 'silver', 'white', 'red', 'box', 'updat', 'esdp', 'cocoa', 'european', 'style', 'dutch', 'process', 'cocoa', 'special', 'dark', 'use', 'buy', 'old', 'version', 'silver', 'box', 'case', 'love', 'made', 'best', 'hot', 'cocoa', 'mouss', 'ice', 'rich', 'smooth', 'wonder', 'chocol', 'flavor', 'way', 'describ', 'differ', 'old', 'version', 'like', 'devil', 'food', 'cake', 'dark', 'chocol', 'cake', 'call', 'hershey', 'christma', 'see', 'could', 'order', 'anoth', 'case', 'told', 'dont', 'make', 'anymor', 'updat', 'version', 'special', 'dark', 'bought', 'special', 'dark', 'tri', 'sever', 'recip', 'even', 'kid', 'didnt', 'like', 'hot', 'cocoa', 'new', 'hershey', 'special', 'dark', 'dark', 'dont', 'realli', 'mean', 'bittersweet', 'like', 'rich', 'old', 'version', 'seem', 'littl', 'bland', 'dont', 'know', 'hershey', 'ill', 'go', 'anoth', 'cocoa', 'one', 'time', 'larg', 'tin', 'guittard', 'probabl', 'back'], tags=[133]),\n",
       " TaggedDocument(words=['cat', 'pretti', 'laid', 'back', 'come', 'pill', 'two', 'person', 'job', 'pill', 'cat', 'pill', 'pocket', 'work', 'exactli', 'two', 'time', 'cat', 'got', 'wise', 'ruse', 'refus', 'anyth', 'wont', 'even', 'eat', 'pill', 'pocket', 'come', 'straight', 'packag', 'might', 'improv', 'odd', 'make', 'certain', 'pinch', 'treat', 'shut', 'hand', 'outsid', 'pick', 'flavor', 'smell', 'pill', 'think', 'cat', 'still', 'knew', 'someth', 'funni', 'treat', 'mayb', 'cat', 'realli', 'doesnt', 'like', 'salmon', 'flavor', 'eat', 'twice', 'decid', 'give', 'pill', 'pocket', 'one', 'tri', 'time', 'key', 'hint', 'must', 'take', 'extrem', 'care', 'get', 'flavor', 'odor', 'pill', 'outsid', 'treat', 'right', 'hand', 'put', 'pill', 'use', 'left', 'hand', 'pinch', 'treat', 'shut', 'better', 'sequenc', 'withhold', 'food', 'cat', 'three', 'four', 'hour', 'good', 'hungri', 'lock', 'cat', 'anoth', 'room', 'cant', 'see', 'smell', 'get', 'pill', 'prepar', 'cut', 'half', 'doseag', 'given', 'set', 'counter', 'wash', 'hand', 'care', 'use', 'soap', 'cat', 'doesnt', 'mind', 'rins', 'hand', 'well', 'dri', 'paper', 'towel', 'clean', 'dish', 'towel', 'use', 'tweezer', 'insert', 'pill', 'pill', 'pocket', 'use', 'pinch', 'pill', 'pocket', 'shut', 'care', 'touch', 'pill', 'feed', 'cat', 'first', 'thought', 'cat', 'start', 'chew', 'would', 'spit', 'pill', 'didnt', 'lick', 'nose', 'sign', 'swallow', 'everyth', 'new', 'experi', 'upgrad', 'rate', 'three', 'star', 'product', 'would', 'get', 'five', 'star', 'packag', 'given', 'instruct', 'similar'], tags=[134]),\n",
       " TaggedDocument(words=['read', 'review', 'syke', 'receiv', 'order', 'ibarra', 'chocol', 'love', 'hot', 'chocol', 'look', 'forward', 'tri', 'new', 'flavor', 'brand', 'ive', 'never', 'mexican', 'chocol', 'mayb', 'suppos', 'like', 'didnt', 'like', 'hard', 'rock', 'tasteless', 'messi', 'follow', 'instruct', 'boil', 'milk', 'chop', 'chocol', 'blender', 'mix', 'togeth', 'came', 'foami', 'like', 'one', 'review', 'describ', 'surpris', 'find', 'tasteless', 'flat', 'end', 'ad', 'standard', 'coco', 'mix', 'could', 'finish', 'drink', 'expect', 'three', 'review', 'look', 'open', 'packag', 'purchas', 'mine', 'one', 'yuck'], tags=[135]),\n",
       " TaggedDocument(words=['tri', 'noodl', 'numer', 'recommend', 'made', 'websit', 'hungrygirl', 'must', 'say', 'noodl', 'disgust', 'thing', 'ever', 'eaten', 'want', 'get', 'noodl', 'highli', 'suggest', 'get', 'one', 'pack', 'tri', 'stock', 'like', 'left', 'pack', 'noodl', 'wont', 'want', 'eat', 'noodl', 'unbear', 'smell', 'amount', 'rins', 'microwav', 'could', 'remov', 'horrend', 'stench', 'addit', 'oddli', 'chewi', 'gelatin', 'difficult', 'eat', 'kind', 'knaw', 'get', 'break', 'bite', 'nutrit', 'great', 'worth', 'calori', 'save', 'tast', 'horribl', 'youd', 'wish', 'youd', 'eaten', 'noth', 'wast', 'calori', 'noodl'], tags=[136]),\n",
       " TaggedDocument(words=['like', 'organ', 'organ', 'milk', 'meat', 'veget', 'afford', 'children', 'like', 'macaroni', 'chees', 'homemad', 'casserol', 'sweat', 'work', 'cours', 'lol', 'mac', 'come', 'box', 'hubbi', 'like', 'casserol', 'case', 'would', 'think', 'organ', 'natur', 'macaroni', 'come', 'box', 'would', 'popular', 'hous', 'simpl', 'put', 'children', 'wont', 'eat', 'tri', 'three', 'differ', 'kind', 'cheddar', 'regular', 'special', 'result', 'chees', 'sauc', 'come', 'littl', 'graini', 'mayb', 'made', 'wrong', 'testi', 'tike', 'wont', 'gobbl', 'like', 'wheat', 'kraft', 'mac', 'star', 'mayb', 'coupl', 'bad', 'box', 'mayb', 'didnt', 'make', 'right', 'day', 'two', 'boy', 'girl', 'would', 'eat', 'macaroni', 'chees', 'product', 'go', 'tri', 'product', 'get', 'improv', 'everi', 'day', 'advic', 'would', 'buy', 'one', 'box', 'tri', 'case'], tags=[137]),\n",
       " TaggedDocument(words=['love', 'salmon', 'spread', 'buy', 'thought', 'would', 'better', 'alaska', 'order', 'item', 'return', 'alaska', 'best', 'salmon', 'salmon', 'spread', 'order', 'item', 'hope', 'would', 'fantast', 'alaska', 'known', 'salmon', 'disappoint', 'tast', 'smell', 'like', 'cat', 'food', 'write', 'compani', 'yet', 'receiv', 'respons'], tags=[138]),\n",
       " TaggedDocument(words=['like', 'organ', 'organ', 'milk', 'meat', 'veget', 'afford', 'latter', 'children', 'like', 'macaroni', 'chees', 'homemad', 'casserol', 'cours', 'lol', 'box', 'reason', 'prefer', 'unknown', 'case', 'would', 'think', 'organ', 'natur', 'macaroni', 'would', 'popular', 'hous', 'simpl', 'put', 'children', 'wont', 'eat', 'lack', 'chemic', 'chees', 'sauc', 'come', 'littl', 'graini', 'mayb', 'made', 'wrong', 'testi', 'tike', 'wont', 'gobbl', 'like', 'wheat', 'kraft', 'mac', 'star', 'mayb', 'bad', 'box', 'mayb', 'didnt', 'make', 'right', 'day', 'two', 'boy', 'girl', 'would', 'eat', 'macaroni', 'chees', 'product', 'go', 'tri', 'product', 'get', 'improv', 'everi', 'day', 'advic', 'would', 'buy', 'one', 'box', 'tri', 'case'], tags=[139]),\n",
       " TaggedDocument(words=['word', 'seriou', 'best', 'bar', 'take', 'green', 'drink', 'packet', 'trip', 'eat', 'bar', 'twice', 'sometim', 'day', 'imagin', 'surpris', 'happen', 'look', 'calori', 'content', 'natur', 'use', 'anoth', 'bar', 'right', 'prove', 'chocol', 'use', 'pleas', 'tell', 'said', 'see', 'meal', 'bar', 'great', 'calori', 'snack', 'work', 'littl', 'much', 'woman', 'like', 'amaz', 'tast', 'hunger', 'afterward', 'dont', 'crash', 'realli', 'realli', 'great', 'realli', 'disappoint', 'calori', 'chang', 'respons', 'websit', 'consum', 'loyal', 'bought', 'long', 'time', 'calori', 'account', 'without', 'context', 'best', 'bar', 'ever', 'found', 'feel', 'like', 'tri', 'everyth'], tags=[140]),\n",
       " TaggedDocument(words=['flavorless', 'dark', 'chocol', 'ever', 'tast', 'flat', 'tast', 'melt', 'crumbl', 'mouth', 'prefer', 'rich', 'power', 'chocol', 'smooth', 'textur'], tags=[141]),\n",
       " TaggedDocument(words=['good', 'product', 'receiv', 'singl', 'gel', 'packag', 'instead', 'call', 'replac', 'packag', 'came', 'gel', 'pack', 'bill', 'twice', 'obvious', 'kink', 'distribut', 'custom', 'care', 'need', 'work'], tags=[142]),\n",
       " TaggedDocument(words=['tri', 'read', 'health', 'benefit', 'posit', 'review', 'written', 'custom', 'smell', 'pretti', 'bad', 'could', 'get', 'past', 'fact', 'would', 'easier', 'eat', 'rubber', 'got', 'tri', 'one', 'bite', 'spit', 'husband', 'tri', 'took', 'forev', 'chew', 'one', 'bite', 'threw', 'rest', 'trash', 'sound', 'good', 'read', 'pretti', 'tough', 'stomach', 'even', 'much', 'dont', 'wast', 'money'], tags=[143]),\n",
       " TaggedDocument(words=['tea', 'tast', 'like', 'expect', 'long', 'time', 'use', 'loos', 'leaf', 'white', 'tea', 'jasmin', 'enjoyingtea', 'com', 'realli', 'happi', 'want', 'portabl', 'tea', 'bag', 'offer', 'enjoyingtea', 'product', 'offer', 'purchas', 'republ', 'tea', 'asian', 'jasmin', 'white', 'tea', 'cost', 'plu', 'world', 'market', 'open', 'canist', 'smell', 'like', 'jasmin', 'rancid', 'candi', 'smell', 'jasmin', 'usual', 'sweet', 'floral', 'scent', 'tast', 'marri', 'well', 'green', 'white', 'tea', 'tea', 'smell', 'tast', 'like', 'almost', 'smell', 'like', 'mix', 'orang', 'flavor', 'white', 'tea', 'offer', 'use', 'sparklett', 'bottl', 'water', 'sinc', 'fan', 'tap', 'water', 'tast', 'tea', 'even', 'better', 'water', 'light', 'tea', 'tast', 'like', 'usual', 'white', 'tea', 'tea', 'turn', 'golden', 'yellow', 'like', 'tang', 'tast', 'tast', 'like', 'jasmin', 'tap', 'water', 'one', 'could', 'imagin', 'tast', 'would', 'much', 'wors', 'least', 'live', 'read', 'elsewher', 'tea', 'use', 'tea', 'bag', 'usual', 'lower', 'grade', 'usual', 'tast', 'way', 'resort', 'buy', 'box', 'tea', 'filter', 'bag', 'make', 'tea', 'bag', 'loos', 'leaf', 'tea', 'alreadi', 'familair', 'tast', 'white', 'tea', 'tea', 'bag', 'dissappoint', 'tri', 'loos', 'leaf', 'white', 'tea', 'jasmin', 'instead'], tags=[144]),\n",
       " TaggedDocument(words=['use', 'love', 'bagel', 'crisp', 'consistantli', 'tasti', 'good', 'textur', 'someth', 'chang', 'wors', 'longer', 'shape', 'like', 'bagel', 'isnt', 'big', 'deal', 'last', 'bag', 'bought', 'least', 'burn', 'unevenli', 'season', 'like', 'tast', 'salti', 'burn', 'toast', 'mean', 'buy', 'bagel', 'crisp'], tags=[145]),\n",
       " TaggedDocument(words=['serious', 'doubt', 'california', 'tomato', 'packer', 'export', 'itali', 'italian', 'fool', 'consum', 'reason', 'tomato', 'price', 'like', 'hunt', 'theyr', 'time', 'price', 'real', 'san', 'marzano', 'bewar'], tags=[146]),\n",
       " TaggedDocument(words=['would', 'anyon', 'spend', 'plu', 'minimum', 'ship', 'nut', 'without', 'know', 'quantiti', 'suppli', 'one', 'wonder', 'perhap', 'fast', 'becom', 'supermarket', 'pound', 'even', 'scant', 'inform', 'suppli', 'tell', 'interest', 'buyer', 'crucial', 'fact', 'suppos', 'expect', 'care', 'detail', 'offer', 'option', 'star'], tags=[147]),\n",
       " TaggedDocument(words=['wife', 'start', 'tradit', 'year', 'ago', 'would', 'make', 'boboli', 'pizza', 'rent', 'movi', 'everi', 'weekend', 'boboli', 'crust', 'use', 'good', 'progress', 'becom', 'wors', 'wors', 'last', 'coupl', 'year', 'use', 'thick', 'light', 'crust', 'lot', 'chees', 'becom', 'blob', 'almost', 'uncook', 'dough', 'coupl', 'speck', 'chees', 'seem', 'keep', 'chang', 'recip', 'time', 'get', 'wors', 'definit', 'time', 'new', 'tradit'], tags=[148]),\n",
       " TaggedDocument(words=['sturdi', 'enough', 'use', 'thought', 'cinnamon', 'flavor', 'kind', 'weak'], tags=[149]),\n",
       " TaggedDocument(words=['still', 'havent', 'gotten', 'product', 'gristed', 'forc', 'use', 'expedit', 'ship', 'cost', 'flat', 'whop', 'would', 'suggest', 'would', 'get', 'order', 'fast', 'wrong', 'two', 'week', 'noth', 'tri', 'contact', 'figur', 'get', 'cannot', 'access', 'order', 'right', 'gyp', 'like', 'bewar', 'ship', 'hope', 'actual', 'get', 'deliveri'], tags=[150]),\n",
       " TaggedDocument(words=['earth', 'think', 'packag', 'corn', 'muffin', 'mix', 'sell', 'two', 'dollar', 'kansa', 'usa', 'worth', 'fourteen', 'dollar', 'ripoff', 'muffin', 'mix', 'good', 'give', 'star', 'price'], tags=[151]),\n",
       " TaggedDocument(words=['sweet', 'tast', 'excess', 'unpleas', 'thought', 'fresh', 'tast', 'pictur', 'deceiv', 'fruit', 'cut', 'half', 'get', 'top', 'half', 'marzipan', 'entir', 'round', 'shape', 'fruit', 'glad', 'bought', 'small', 'size', 'sinc', 'end', 'throw', 'purchas', 'trash'], tags=[152]),\n",
       " TaggedDocument(words=['eaten', 'noodl', 'japan', 'china', 'south', 'east', 'asia', 'fact', 'noodl', 'one', 'favorit', 'food', 'amazingli', 'never', 'tast', 'anyth', 'foul', 'rubberey', 'disgust', 'parboil', 'stirfri', 'microwav', 'tri', 'everi', 'way', 'cook', 'elimin', 'aw', 'flavor', 'other', 'said', 'like', 'suggest', 'tri', 'one', 'packag', 'make', 'decis', 'think', 'food', 'requir', 'less', 'sensit', 'tast', 'mechan', 'eat'], tags=[153]),\n",
       " TaggedDocument(words=['product', 'shoddi', 'replac', 'european', 'cocoa', 'silver', 'contain', 'use', 'exclus', 'fantast', 'result', 'mortifi', 'discontinu', 'first', 'glad', 'see', 'put', 'anoth', 'cocoa', 'letdown', 'product', 'use', 'much', 'alkali', 'bitter', 'head', 'trash', 'hershey', 'think', 'wonder', 'product', 'discontinu', 'replac', 'lousi', 'product', 'use', 'peet', 'cocoa', 'callebaut'], tags=[154]),\n",
       " TaggedDocument(words=['bewar', 'order', 'compani', 'disappoint', 'product', 'wrote', 'compani', 'ask', 'could', 'done', 'exchang', 'refund', 'never', 'answer', 'never', 'purchas', 'compani'], tags=[155]),\n",
       " TaggedDocument(words=['zig', 'zag', 'ball', 'rememb', 'advertis', 'claim', 'zig', 'zag', 'action', 'realli', 'weight', 'ball', 'insid', 'larger', 'plastic', 'ball', 'occasion', 'caus', 'larger', 'ball', 'veer', 'cours', 'zig', 'zag', 'long', 'either', 'carpet', 'instruct', 'suggest', 'hardwood', 'floor', 'work', 'great', 'marbl', 'perhap', 'concret', 'dont', 'know', 'found', 'get', 'inner', 'ball', 'roll', 'insid', 'let', 'big', 'ball', 'loos', 'zig', 'zag', 'action', 'pronounc', 'still', 'excit', 'inner', 'ball', 'make', 'nois', 'attract', 'cat', 'use', 'anyway', 'didnt', 'live', 'promis'], tags=[156]),\n",
       " TaggedDocument(words=['absolut', 'worst', 'case', 'fals', 'advertis', 'sinc', 'ford', 'said', 'pinto', 'safe', 'sinc', 'said', 'chip', 'everi', 'bag', 'coffe', 'way', 'chock', 'full', 'nut', 'hope', 'find', 'kind', 'nut', 'peantu', 'cashew', 'almond', 'pistachio', 'chestnut', 'noth', 'rather', 'plain', 'regular', 'coffe', 'bad', 'coffe', 'favor', 'dont', 'get', 'coffe', 'hope', 'lead', 'disappoint'], tags=[157]),\n",
       " TaggedDocument(words=['great', 'organ', 'chocol', 'great', 'organ', 'chocol', 'even', 'good', 'even', 'fair', 'organ', 'chocol', 'extrem', 'poor', 'chocol', 'chalki', 'smooth', 'flavor', 'absolut', 'horrend', 'expect', 'hint', 'ginger', 'chai', 'bar', 'overpow', 'hint', 'flavor', 'complet', 'wash', 'chocol', 'flavor', 'surpris', 'nasti', 'bar', 'refus', 'call', 'chocol', 'spit', 'threw', 'bar', 'yuck'], tags=[158]),\n",
       " TaggedDocument(words=['good', 'custom', 'subject', 'find', 'thing', 'buy', 'com'], tags=[159]),\n",
       " TaggedDocument(words=['well', 'would', 'love', 'say', 'like', 'item', 'howev', 'order', 'week', 'later', 'still', 'reciev', 'anyth', 'although', 'price', 'wasnt', 'bad', 'ship', 'terribl', 'consid', 'day', 'ill', 'write', 'reciev', 'item', 'buyer', 'bewar'], tags=[160]),\n",
       " TaggedDocument(words=['note', 'descript', 'provid', 'produc', 'merchant', 'product', 'say', 'fill', 'gurlic', 'mayb', 'that', 'true', 'howev', 'primari', 'ingredi', 'season', 'noth', 'msg', 'pepper', 'msg', 'mayb', 'speck', 'type', 'powder', 'presum', 'deriv', 'msg', 'one', 'flake', 'oregano', 'msg', 'one', 'speck', 'parsley', 'flake', 'claim', 'onion', 'powder', 'think', 'msg', 'final', 'perfect', 'stuff', 'next', 'nightmar', 'headach', 'like', 'youv', 'never', 'known', 'youll', 'probabl', 'like', 'stuff', 'respond', 'lone', 'critic', 'claim', 'msg', 'individu', 'surmis', 'sharehold', 'employe', 'goya', 'here', 'ingredi', 'list', 'peopl', 'sinc', 'claim', 'msg', 'true', 'fail', 'provid', 'salt', 'granul', 'garlic', 'tricalcium', 'phosphat', 'prevent', 'cake', 'monosodium', 'glutam', 'oregano', 'black', 'pepper', 'tumer', 'onion', 'powder', 'spice', 'spice', 'also', 'term', 'includ', 'msg', 'well', 'extra', 'measur', 'least', 'spell', 'someth', 'review', 'must', 'miss', 'unabl', 'read', 'enjoy', 'msg'], tags=[161]),\n",
       " TaggedDocument(words=['must', 'kind', 'nostalgia', 'trip', 'peopl', 'love', 'cinnamon', 'thing', 'hardli', 'tast', 'gum', 'lot', 'better'], tags=[162]),\n",
       " TaggedDocument(words=['cat', 'pretti', 'mellow', 'except', 'take', 'pill', 'tri', 'pill', 'pocket', 'work', 'twice', 'care', 'contamin', 'medicin', 'tast', 'cat', 'unlik', 'dog', 'chewer', 'chew', 'medicin', 'pill', 'pocket', 'stop', 'eat', 'altogeth', 'anoth', 'time', 'ate', 'around', 'pocket', 'left', 'pill', 'later', 'tri', 'empti', 'pill', 'pocket', 'gulp', 'arghh', 'final', 'resort', 'crush', 'tablet', 'mix', 'small', 'amount', 'babi', 'food', 'ham', 'kind', 'meat', 'smear', 'cat', 'teeth', 'put', 'directli', 'insid', 'month', 'wont', 'eat', 'babi', 'food', 'med', 'otherwis', 'success', 'thank', 'good', 'found', 'way', 'administ', 'pill', 'sinc', 'cat', 'daili', 'dose', 'day'], tags=[163]),\n",
       " TaggedDocument(words=['bit', 'nutti', 'clever', 'market', 'sauc', 'pretti', 'crappi', 'given', 'chunki', 'consist', 'fact', 'word', 'colon', 'name', 'pretti', 'much', 'turn', 'appear', 'result', 'colon', 'cleans', 'ask', 'case', 'odd', 'slightli', 'bitter', 'tast', 'think', 'mustard', 'put', 'yuck'], tags=[164]),\n",
       " TaggedDocument(words=['yuck', 'melt', 'chees', 'hard', 'make', 'good', 'recip', 'everywher', 'tri', 'pound', 'gruyer', 'grate', 'pound', 'emmenthal', 'grate', 'toss', 'tbsp', 'corn', 'starch', 'simmer', 'cup', 'wine', 'slowli', 'add', 'grate', 'chees', 'stir', 'figur', 'ad', 'last', 'batch', 'incorper', 'add', 'tbsp', 'kirsch', 'ye', 'tri', 'specif', 'fondu', 'tast', 'right'], tags=[165]),\n",
       " TaggedDocument(words=['shep', 'akita', 'mix', 'bought', 'coonhound', 'eat', 'anyth', 'anyth', 'especi', 'made', 'food', 'put', 'treat', 'ball', 'thing', 'lick', 'coupl', 'time', 'lost', 'interest', 'problem', 'toy', 'hard', 'dog', 'get', 'grip', 'thing', 'shape', 'put', 'later', 'tri', 'knaw', 'side', 'jaw', 'got', 'littl', 'tast', 'noth', 'chew', 'savor', 'act', 'like', 'reward', 'lost', 'interest', 'say', 'lot', 'sinc', 'great', 'length', 'smallest', 'crumb', 'took', 'treat', 'ball', 'offer', 'dog', 'instand', 'result', 'work', 'away', 'right', 'think', 'lesson', 'toy', 'work', 'well', 'dog', 'enjoy', 'chew', 'hard', 'object', 'dont', 'break', 'piec', 'easili', 'dog', 'love', 'mine', 'appar', 'anyon', 'want', 'tri', 'dog', 'email', 'one', 'never', 'chew', 'mayb', 'dog', 'like', 'mine', 'five', 'buck'], tags=[166]),\n",
       " TaggedDocument(words=['chalki', 'unpleas', 'disk', 'come', 'crappi', 'synthet', 'flavor', 'that', 'need', 'said'], tags=[167]),\n",
       " TaggedDocument(words=['receiv', 'month', 'ice', 'cream', 'club', 'gift', 'disappoint', 'ice', 'cream', 'receiv', 'giver', 'unhappi', 'see', 'choic', 'sent', 'month', 'first', 'month', 'includ', 'duplic', 'black', 'walnut', 'bland', 'vanilla', 'frozen', 'yogurt', 'type', 'caramel', 'didnt', 'tast', 'like', 'caramel', 'tri', 'couldnt', 'give', 'away', 'also', 'peppermint', 'one', 'month', 'email', 'month', 'complaint', 'think', 'might', 'want', 'take', 'second', 'look', 'sent', 'receiv', 'immedi', 'respons', 'apolog', 'offer', 'extra', 'month', 'ice', 'cream', 'also', 'told', 'spoke', 'shipper', 'told', 'month', 'realli', 'go', 'scrumptou', 'receiv', 'may', 'somewhat', 'better', 'one', 'pint', 'higher', 'butterfat', 'averag', 'groceri', 'store', 'brand', 'frozen', 'custard', 'neopolitan', 'excit', 'squar', 'cardboard', 'carton', 'compani', 'even', 'mention', 'number', 'ice', 'cream', 'store', 'citi', 'thu', 'far', 'receiv', 'pint', 'month', 'might', 'compar', 'felt', 'write', 'review', 'person', 'sent', 'gift', 'review', 'read', 'idea', 'might', 'receiv', 'duplic', 'along', 'vanilla', 'custard', 'neopolitan'], tags=[168]),\n",
       " TaggedDocument(words=['natur', 'food', 'could', 'wors', 'wors', 'hydrogen', 'lard', 'load', 'tran', 'fatti', 'acid', 'cholesterol', 'satur', 'fat', 'agricultur', 'chemic', 'hormon', 'etc', 'that', 'product', 'interest', 'lard', 'soap', 'peopl', 'armour', 'armour', 'make', 'hydrogen', 'natur', 'lard', 'howev', 'though', 'armour', 'own', 'make', 'mani', 'less', 'healthi', 'edibl', 'websit', 'mention', 'lard', 'one', 'mani', 'product', 'use', 'lard', 'long', 'establish', 'brand', 'restur', 'use', 'though', 'hydrogen', 'good', 'product', 'hydrogen', 'lard', 'goe', 'winc', 'leav', 'restur', 'walk', 'park', 'lot', 'find', 'stare', 'huge', 'tub', 'empti', 'lard', 'contain', 'lie', 'around', 'dumpster', 'funni', 'swear', 'werent', 'ate', 'lard', 'hydrogen', 'lard', 'stricken', 'human', 'diet', 'possibl', 'possibl', 'armour', 'reliabl', 'brand', 'make', 'lard', 'forev', 'though', 'dont', 'want', 'admit', 'appar', 'howev', 'make', 'wonder', 'dial', 'affili', 'product'], tags=[169]),\n",
       " TaggedDocument(words=['think', 'dark', 'roast', 'think', 'full', 'bodi', 'dark', 'melitta', 'pod', 'worst', 'ive', 'tri', 'ive', 'tri', 'senseo', 'pod', 'mediocr', 'find', 'target', 'brand', 'archer', 'farm', 'pod', 'best', 'french', 'roast', 'realli', 'rival', 'starbuck', 'home', 'brew', 'cheap', 'pod', 'like', 'full', 'bodi', 'rich', 'dark', 'strong', 'cup', 'cofe', 'dont', 'melitta', 'found', 'senseo', 'archer', 'farm', 'pod', 'fit', 'melitta', 'pod', 'brewer', 'fine'], tags=[170]),\n",
       " TaggedDocument(words=['dont', 'give', 'inform', 'find', 'spammer', 'list', 'work', 'spammer'], tags=[171]),\n",
       " TaggedDocument(words=['rush', 'exud', 'thing', 'pocki', 'get', 'rid', 'sparkl', 'way', 'come', 'get', 'hast', 'sumo', 'think', 'instil', 'anger', 'lion', 'think', 'anger', 'anger', 'tablet', 'come', 'find', 'realiz', 'way', 'candi', 'littl', 'children', 'make', 'anger', 'anger', 'caus', 'teeth', 'becom', 'stuck', 'togeth', 'like', 'glue', 'high', 'mountain', 'avoid', 'rightli'], tags=[172]),\n",
       " TaggedDocument(words=['read', 'noodl', 'diet', 'magazin', 'intrigu', 'first', 'call', 'local', 'whole', 'food', 'didnt', 'carri', 'guess', 'guy', 'phone', 'said', 'dont', 'current', 'carri', 'plan', 'shortli', 'huge', 'number', 'request', 'receiv', 'place', 'order', 'wait', 'worri', 'perish', 'noodl', 'sit', 'somewher', 'rot', 'took', 'forev', 'three', 'week', 'deliv', 'final', 'got', 'box', 'packet', 'noodl', 'freezer', 'deali', 'design', 'keep', 'cool', 'tri', 'way', 'magazin', 'recommend', 'heat', 'microwav', 'yuk', 'big', 'tofu', 'lover', 'begin', 'noodl', 'similar', 'realli', 'overcook', 'spaghetti', 'tasteless', 'realli', 'strang', 'plastici', 'flavor', 'pour', 'beauti', 'homemad', 'marinara', 'turn', 'wateri', 'mess', 'heck', 'go', 'whole', 'wheat', 'noodl', 'protein', 'enrich', 'noodl', 'product', 'advertis', 'wasnt', 'tast'], tags=[173]),\n",
       " TaggedDocument(words=['first', 'diagnos', 'ib', 'bought', 'tea', 'sooth', 'digest', 'contain', 'fennel', 'peppermint', 'three', 'ingredi', 'known', 'help', 'discomfort', 'caus', 'ib', 'tasti', 'wasnt', 'help', 'symptom', 'diagnos', 'ib', 'may', 'possibl', 'also', 'like', 'pleas', 'awar', 'tea', 'contain', 'barley', 'malt', 'list', 'product', 'descript', 'danger', 'celiac'], tags=[174]),\n",
       " TaggedDocument(words=['like', 'walden', 'farm', 'product', 'gave', 'chocol', 'dip', 'star', 'one', 'good', 'tri', 'dip', 'differ', 'kind', 'fruit', 'tri', 'combin', 'chocol', 'dip', 'final', 'gave', 'threw', 'rest', 'away', 'cellulos', 'gel', 'walden', 'farm', 'use', 'give', 'sauc', 'bodi', 'seem', 'slight', 'spici', 'sour', 'bite', 'doesnt', 'bother', 'chocol', 'dip', 'dress', 'ruin', 'flavor'], tags=[175]),\n",
       " TaggedDocument(words=['bought', 'pack', 'trip', 'nyc', 'due', 'long', 'wait', 'could', 'get', 'restaur', 'pretti', 'bad', 'chocol', 'weird', 'would', 'better', 'make', 'chocol', 'milk', 'shake', 'order', 'use', 'pack', 'go', 'tri', 'add', 'coffe', 'milk', 'tri', 'mask', 'funni', 'tast'], tags=[176]),\n",
       " TaggedDocument(words=['expect', 'great', 'thing', 'price', 'omaha', 'steak', 'name', 'product', 'live', 'expect', 'breast', 'size', 'nice', 'cook', 'well', 'artichok', 'parmesan', 'ooz', 'cook', 'make', 'mess', 'stuf', 'ooz', 'leav', 'bland', 'horribl', 'expens', 'chicken', 'breast', 'steak', 'offer', 'chicken', 'cordon', 'bleu', 'better', 'tastebud', 'wallet'], tags=[177]),\n",
       " TaggedDocument(words=['total', 'shock', 'cost', 'ship', 'higher', 'cost', 'item', 'pay', 'much', 'find', 'taken', 'nearli', 'month', 'receiv', 'product', 'ridicul', 'place', 'order', 'sever', 'follow', 'promis', 'shipment', 'last', 'week', 'today', 'final', 'reciev', 'notic', 'would', 'ship', 'compani', 'wont', 'receiv', 'busi'], tags=[178]),\n",
       " TaggedDocument(words=['receiv', 'fruit', 'good', 'time', 'problem', 'mixtur', 'advertis', 'red', 'cherri', 'green', 'cherri', 'pineappl', 'order', 'two', 'packag', 'fruit', 'mix', 'one', 'contain', 'green', 'cherri', 'entir', 'packag', 'tri', 'twice', 'fax', 'contact', 'vendor', 'date', 'respons'], tags=[179]),\n",
       " TaggedDocument(words=['order', 'still', 'receiv', 'email', 'say', 'order', 'would', 'delay', 'credit', 'card', 'charg', 'also'], tags=[180]),\n",
       " TaggedDocument(words=['stuff', 'tasti', 'caveat', 'glorifi', 'creamer', 'first', 'ingredi', 'enjoy', 'artifici', 'flavor', 'vanilla', 'sandwich', 'cooki'], tags=[181]),\n",
       " TaggedDocument(words=['order', 'tree', 'valentin', 'gift', 'boyfriend', 'look', 'dead', 'tri', 'reviv', 'howev', 'doesnt', 'look', 'good', 'look', 'like', 'may', 'froze', 'expert', 'packag', 'everyon', 'say', 'pain', 'would', 'fine', 'look', 'healthi', 'unfortun', 'zero', 'rate', 'got', 'beauti', 'diamond', 'necklac', 'got', 'sick', 'look', 'tree'], tags=[182]),\n",
       " TaggedDocument(words=['heard', 'product', 'local', 'news', 'decid', 'tri', 'product', 'wors', 'product', 'ever', 'eaten', 'could', 'finish', 'stuck', 'anoth', 'bag', 'item', 'would', 'recommend', 'product', 'anyon', 'also', 'took', 'long', 'time', 'arriv'], tags=[183]),\n",
       " TaggedDocument(words=['noodl', 'need', 'refriger', 'costli', 'ship', 'smell', 'noodl', 'parboil', 'instruct', 'labl', 'stink', 'whole', 'kitchen', 'would', 'never', 'order'], tags=[184]),\n",
       " TaggedDocument(words=['horribl', 'felt', 'like', 'eat', 'rubber', 'take', 'trash', 'throw', 'packag', 'smelt', 'like', 'dead', 'fish', 'ate', 'one', 'packag', 'threw'], tags=[185]),\n",
       " TaggedDocument(words=['product', 'decent', 'flavor', 'consistentci', 'like', 'overcook', 'pasta', 'rubberi', 'live', 'think', 'passabl', 'altern', 'regular', 'pasta'], tags=[186]),\n",
       " TaggedDocument(words=['put', 'one', 'mouth', 'youll', 'understand', 'theyr', 'bad', 'bad', 'theyr', 'baddest', 'baddest', 'black', 'hole', 'tast', 'want', 'say', 'theyr', 'realli', 'forget'], tags=[187]),\n",
       " TaggedDocument(words=['product', 'rate', 'less', 'ideal', 'replac', 'regular', 'pasta', 'textur', 'slimi', 'slightli', 'rubberi', 'serv', 'sauc', 'saute', 'veget', 'chicken', 'hope', 'disguis', 'pasta', 'famili', 'knew', 'right', 'away', 'someth', 'differ', 'prefer', 'buy'], tags=[188]),\n",
       " TaggedDocument(words=['worth', 'money', 'wors', 'product', 'ever', 'eaten', 'would', 'recommend', 'order', 'item', 'throw', 'away', 'along', 'bag', 'bought', 'disappoint'], tags=[189]),\n",
       " TaggedDocument(words=['hear', 'great', 'thing', 'noodl', 'unfortun', 'anyth', 'like', 'heard', 'proceed', 'purchas', 'caution'], tags=[190]),\n",
       " TaggedDocument(words=['cook', 'noodl', 'per', 'direct', 'serv', 'sauc', 'top', 'horribl', 'rubberi', 'textur', 'everyth', 'went', 'right', 'garbag'], tags=[191]),\n",
       " TaggedDocument(words=['paid', 'premium', 'special', 'handl', 'make', 'think', 'get', 'item', 'order', 'via', 'overnight', 'day', 'ship', 'receiv', 'singl', 'item', 'via', 'standard', 'up', 'day', 'late', 'premium', 'ship', 'cost', 'tea', 'bag', 'order', 'shame', 'buyer', 'bewar', 'read', 'ad', 'close', 'pay', 'doublem', 'premium', 'send', 'compani', 'money'], tags=[192]),\n",
       " TaggedDocument(words=['anyon', 'rememb', 'make', 'bug', 'mini', 'extrud', 'machin', 'kid', 'well', 'noodl', 'though', 'basic', 'adopt', 'flavor', 'sauc', 'dress', 'chewi', 'rubberi', 'textur', 'didnt', 'find', 'smell', 'offens', 'pleas', 'appear', 'sinc', 'look', 'much', 'like', 'real', 'deal', 'use', 'mein', 'bite', 'per', 'fork', 'decid', 'bit', 'rubberi', 'purchas', 'bag', 'put', 'remain', 'trash', 'say', 'also', 'packag', 'size', 'prepar', 'weight', 'like', 'dri', 'pasta', 'ounc', 'stuff', 'goe', 'half', 'far', 'real', 'thing', 'dont', 'mind', 'chew', 'tast', 'like', 'whatev', 'cook', 'felt', 'like', 'eat', 'creepi', 'crawler', 'couldnt', 'get', 'beyond'], tags=[193]),\n",
       " TaggedDocument(words=['ever', 'seen', 'heart', 'worm', 'vet', 'offic', 'well', 'couldnt', 'get', 'past', 'look', 'noodl', 'packag', 'eat', 'defini', 'could', 'get', 'past', 'textur', 'like', 'choke', 'worm', 'ever', 'imagin', 'like', 'realli', 'disappoint', 'noodl', 'hope', 'go', 'one', 'key', 'weight', 'watch', 'success'], tags=[194]),\n",
       " TaggedDocument(words=['found', 'textur', 'smell', 'huge', 'turn', 'remind', 'squid', 'could', 'stomach', 'rubberi', 'hard', 'chew', 'realli', 'tast', 'get', 'past', 'smell', 'textur', 'noodl'], tags=[195]),\n",
       " TaggedDocument(words=['read', 'noodl', 'hungri', 'girl', 'follow', 'buzz', 'tri', 'afteral', 'ive', 'discov', 'lot', 'new', 'reduc', 'calori', 'option', 'year', 'merit', 'unfortun', 'noodl', 'worth', 'textur', 'alon', 'kept', 'want', 'two', 'bite', 'still', 'hope', 'mix', 'togeth', 'spaghetti', 'sauc', 'grate', 'parmesean', 'chees', 'let', 'sit', 'overnight', 'frig', 'sometim', 'flavor', 'make', 'better', 'second', 'day', 'luck', 'plain', 'yucki', 'mayb', 'put', 'soup', 'would', 'help', 'chang', 'rubberi', 'textur', 'sure', 'wont', 'tri', 'anytim', 'soon'], tags=[196]),\n",
       " TaggedDocument(words=['smell', 'horribl', 'remind', 'squid', 'could', 'stomach', 'also', 'rubberi', 'textur', 'make', 'difficult', 'eat'], tags=[197]),\n",
       " TaggedDocument(words=['rate', 'product', 'star', 'never', 'abl', 'tri', 'up', 'put', 'packag', 'mark', 'perish', 'patio', 'apart', 'sinc', 'winter', 'dont', 'note', 'left', 'apart', 'door', 'reason', 'found', 'neighbor', 'notic', 'told', 'spoil', 'feel', 'either', 'deserv', 'refund', 'redeliveri', 'product', 'cost', 'expect', 'prompt', 'resolut', 'problem', 'rebecca', 'robin'], tags=[198]),\n",
       " TaggedDocument(words=['place', 'order', 'janauri', 'noodl', 'due', 'overwhelm', 'demand', 'supplier', 'ran', 'wait', 'restock', 'item', 'restock', 'sent', 'link', 'up', 'day', 'statu', 'packag', 'went', 'receiv', 'bill', 'inform', 'except', 'packag', 'damag', 'transit', 'yet', 'replac', 'seller', 'respond', 'commun', 'usual', 'respond', 'quick', 'actual', 'receiv', 'product', 'hesit', 'use', 'seller'], tags=[199]),\n",
       " TaggedDocument(words=['author', 'purchas', 'item', 'sent', 'sever', 'indic', 'frustrat', 'ignor', 'cancel', 'order', 'day', 'notifi', 'process', 'order'], tags=[200]),\n",
       " TaggedDocument(words=['like', 'noodl', 'got', 'problem', 'took', 'month', 'half', 'get', 'product', 'accept', 'pay', 'ship', 'pay', 'much', 'get', 'noodl', 'expect', 'week', 'problem', 'depart'], tags=[201]),\n",
       " TaggedDocument(words=['took', 'month', 'get', 'product', 'correspond', 'custom', 'servic', 'happi', 'order', 'process'], tags=[202]),\n",
       " TaggedDocument(words=['hope', 'like', 'product', 'need', 'eat', 'lower', 'carb', 'food', 'hope', 'product', 'would', 'deliv', 'packag', 'came', 'smell', 'bad', 'horid', 'suggest', 'par', 'boil', 'much', 'better', 'cook', 'noodl', 'put', 'sauc', 'chees', 'textur', 'good', 'like', 'chew', 'piec', 'rubber', 'noodl', 'even', 'squeak', 'teeth', 'sort', 'like', 'balloon', 'would', 'sound', 'wierd', 'suffic', 'say', 'could', 'choke', 'coupl', 'bite', 'worst', 'funniest', 'part', 'let', 'dog', 'plate', 'watch', 'first', 'tri', 'chew', 'noodl', 'final', 'lap', 'sauc', 'chees', 'save', 'money', 'ship', 'killer'], tags=[203]),\n",
       " TaggedDocument(words=['took', 'nearli', 'four', 'week', 'reciev', 'nasti', 'product', 'unhappi', 'lack', 'commun', 'inform', 'delay', 'product'], tags=[204]),\n",
       " TaggedDocument(words=['paid', 'ship', 'even', 'receiv', 'product', 'month', 'half', 'later', 'see', 'someth', 'wrong', 'happi'], tags=[205]),\n",
       " TaggedDocument(words=['tri', 'case', 'nine', 'cat', 'none', 'would', 'eat', 'gave', 'last', 'can', 'someon', 'farm', 'cat', 'cat', 'manag', 'eat', 'anyth', 'vagu', 'edibl', 'cat', 'right', 'cat', 'might', 'eat', 'your', 'care', 'cat', 'didnt', 'like', 'food', 'either', 'sure', 'wysong', 'manag', 'get', 'cat', 'like', 'chicken'], tags=[206]),\n",
       " TaggedDocument(words=['purchas', 'pod', 'amazon', 'good', 'deal', 'dollar', 'cheaper', 'grocweri', 'store', 'know', 'open', 'packag', 'notic', 'senseo', 'watermark', 'faint', 'hardli', 'visabl', 'made', 'coffe', 'took', 'pod', 'make', 'decent', 'cup', 'coffe', 'what', 'point', 'make', 'pod', 'coffe', 'stand', 'day', 'make', 'good', 'cup', 'back', 'buy', 'pod', 'local', 'store'], tags=[207]),\n",
       " TaggedDocument(words=['bought', 'pod', 'amazon', 'dollar', 'cheaper', 'local', 'groceri', 'store', 'know', 'open', 'packag', 'senseo', 'watermark', 'faint', 'hardli', 'visabl', 'took', 'amount', 'pod', 'make', 'decent', 'cup', 'coffe', 'buyer', 'bewar', 'back', 'buy', 'pod', 'groceri', 'store'], tags=[208]),\n",
       " TaggedDocument(words=['thought', 'buy', 'coffe', 'maker', 'would', 'convient', 'mother', 'realiz', 'hard', 'get', 'disk', 'everyon', 'shop', 'line', 'especi', 'age', 'live', 'anoth', 'state', 'rural', 'area', 'hard', 'find', 'disk', 'also', 'never', 'abl', 'find', 'maxwel', 'hous', 'disk'], tags=[209]),\n",
       " TaggedDocument(words=['descript', 'product', 'leav', 'alot', 'desir', 'noodl', 'disgust', 'known', 'ship', 'liquid', 'need', 'refriger', 'would', 'never', 'purchas', 'flavor', 'textur', 'disgust', 'three', 'pack', 'noodl', 'sit', 'refriger', 'dont', 'know', 'consid', 'expens', 'ship', 'cost', 'throw', 'money', 'drain', 'purchas', 'product', 'husband', 'love', 'vegan', 'way', 'life', 'product', 'garbag'], tags=[210]),\n",
       " TaggedDocument(words=['gristed', 'forc', 'custom', 'pay', 'expedit', 'ship', 'yet', 'took', 'month', 'get', 'order', 'also', 'give', 'address', 'contact', 'cant', 'ever', 'talk', 'actual', 'person', 'would', 'say', 'order', 'anoth', 'compani', 'understand', 'peopl', 'problem', 'get', 'order', 'reason', 'time'], tags=[211]),\n",
       " TaggedDocument(words=['two', 'day', 'plant', 'arriv', 'leav', 'fell', 'like', 'first', 'cold', 'snap', 'eastern', 'fall', 'tri', 'get', 'come', 'back', 'life', 'success', 'yet', 'perhap', 'plant', 'fragil', 'ship'], tags=[212]),\n",
       " TaggedDocument(words=['hope', 'would', 'altern', 'can', 'tuna', 'isnt', 'full', 'skin', 'bone', 'salmon', 'meat', 'like', 'threw', 'whole', 'fish', 'shredder', 'can', 'didnt', 'even', 'remov', 'backbon', 'tri', 'remov', 'bone', 'skin', 'gave', 'threw', 'mayb', 'got', 'bad', 'guy', 'need', 'open', 'tuna', 'compar', 'product'], tags=[213]),\n",
       " TaggedDocument(words=['purchas', 'product', 'specialti', 'gift', 'shop', 'exact', 'item'], tags=[214]),\n",
       " TaggedDocument(words=['disgust', 'anyth', 'like', 'pasta', 'fool', 'tofu', 'smell', 'tast', 'like', 'tofu', 'particularli', 'enjoy', 'tofu', 'buy', 'product'], tags=[215]),\n",
       " TaggedDocument(words=['senseo', 'rock', 'love', 'coffe', 'make', 'coffe', 'bad', 'pod', 'make', 'good', 'crema', 'coffe', 'lot', 'like', 'instant', 'dark', 'especi', 'bad', 'make', 'two', 'cup', 'time', 'make', 'two', 'four', 'ounc', 'cup', 'want', 'larg', 'cup', 'pod', 'fit', 'senseo', 'includ', 'archer', 'farm', 'other', 'avail', 'onlin', 'wouldnt', 'make', 'pod', 'definit', 'tri', 'brand', 'insist', 'stick', 'best', 'keep', 'fresh', 'put', 'airtight', 'contain', 'bag', 'put', 'extra', 'freezer'], tags=[216]),\n",
       " TaggedDocument(words=['saw', 'spot', 'access', 'hollywood', 'noodl', 'realli', 'excit', 'took', 'month', 'arriv', 'cook', 'night', 'dinner', 'promis', 'textur', 'isnt', 'like', 'spaghetti', 'look', 'like', 'tast', 'like', 'felt', 'like', 'worm', 'mouth', 'know', 'gross', 'true', 'also', 'offens', 'like', 'fish', 'yuck'], tags=[217]),\n",
       " TaggedDocument(words=['although', 'receiv', 'shipment', 'time', 'manner', 'disappoint', 'product', 'tast', 'like', 'instant', 'dri', 'milk', 'noth', 'like', 'sour', 'cream', 'may', 'use', 'cook', 'bake', 'potato', 'also', 'come', 'direct', 'could', 'would', 'give', 'minu', 'star', 'that', 'disappoint', 'compani', 'may', 'good', 'product', 'may', 'good', 'sour', 'cream', 'powder'], tags=[218]),\n",
       " TaggedDocument(words=['watch', 'advertis', 'tofu', 'noodl', 'decid', 'tri', 'suppos', 'tast', 'like', 'pasta', 'statement', 'complet', 'lie', 'actual', 'tast', 'like', 'rubber', 'band', 'tast', 'terribl', 'save', 'money'], tags=[219]),\n",
       " TaggedDocument(words=['much', 'product', 'thought', 'would', 'give', 'tri', 'order', 'onlin', 'pay', 'like', 'ship', 'small', 'bag', 'realli', 'excit', 'tri', 'gross', 'isnt', 'much', 'tast', 'textur', 'horribl', 'stringi', 'strechi', 'big', 'disappoint', 'threw', 'second', 'bag'], tags=[220]),\n",
       " TaggedDocument(words=['product', 'deliv', 'wrong', 'adress', 'deliv', 'week', 'late'], tags=[221]),\n",
       " TaggedDocument(words=['come', 'seal', 'packag', 'small', 'ziploc', 'bag', 'use', 'also', 'ship', 'way', 'expens', 'comparison', 'valu', 'product'], tags=[222]),\n",
       " TaggedDocument(words=['best', 'altern', 'pasta', 'ever', 'tri', 'textur', 'similar', 'pasta', 'complement', 'sauc', 'beautifuli', 'buy'], tags=[223]),\n",
       " TaggedDocument(words=['warn', 'without', 'chang', 'look', 'packag', 'chang', 'ingredi', 'ruin', 'bar', 'along', 'loyal', 'custom', 'knew', 'would', 'order', 'boxload', 'supposedli', 'increas', 'product', 'theyv', 'ruin', 'balanc', 'ad', 'far', 'calori', 'fat', 'carb', 'decreas', 'protein', 'content', 'sad', 'perfect', 'energi', 'bar', 'still', 'mourn', 'send', 'box', 'back', 'directli', 'compani', 'hope', 'enough', 'peopl', 'persuad', 'continu', 'manufactur', 'old', 'formula', 'will', 'wait', 'stock', 'origin', 'product', 'pale', 'imit'], tags=[224]),\n",
       " TaggedDocument(words=['much', 'wine', 'wine', 'butter', 'sauc', 'littl', 'meat', 'ravioli', 'dish', 'wast', 'money'], tags=[225]),\n",
       " TaggedDocument(words=['noodl', 'tast', 'somewhat', 'normal', 'textur', 'make', 'imposs', 'eat', 'purchas', 'bag', 'gave', 'friend', 'tri', 'none', 'abl', 'actual', 'eat', 'bite', 'textur', 'like', 'rubber', 'ad', 'slime', 'difficult', 'chew'], tags=[226]),\n",
       " TaggedDocument(words=['dont', 'understand', 'hype', 'product', 'bought', 'bag', 'prepar', 'one', 'husband', 'dinner', 'shrimp', 'follow', 'direct', 'rins', 'well', 'noodl', 'chewi', 'textur', 'unappet', 'husband', 'hardli', 'ate', 'went', 'without', 'dinner', 'mayb', 'hope', 'promis', 'true', 'wouldnt', 'recommend', 'anyon', 'enjoy', 'food'], tags=[227]),\n",
       " TaggedDocument(words=['twinki', 'great', 'sold', 'big', 'corpor', 'qualiti', 'went', 'drain', 'artifici', 'tast', 'consid', 'food', 'ton', 'chemic', 'addit', 'ad', 'call', 'cake'], tags=[228]),\n",
       " TaggedDocument(words=['sorri', 'cook', 'differ', 'way', 'cant', 'get', 'soft', 'enough', 'chewi', 'tast', 'didnt', 'mind', 'smell', 'wash', 'textur', 'wrong', 'wrong', 'wrong', 'nanci'], tags=[229]),\n",
       " TaggedDocument(words=['order', 'box', 'candi', 'anniversari', 'gift', 'along', 'separ', 'order', 'flower', 'flower', 'arriv', 'time', 'fashion', 'candi', 'arriv', 'day', 'later', 'arriv', 'complet', 'melt', 'reform', 'box', 'recipi', 'call', 'say', 'happen', 'replac', 'box', 'sent', 'week', 'later', 'dont', 'know', 'blame', 'delay', 'ship', 'manner', 'ship', 'would', 'like', 'discuss', 'matter', 'pleas', 'call', 'mack', 'zaloga'], tags=[230]),\n",
       " TaggedDocument(words=['box', 'seem', 'item', 'differ', 'say', 'right', 'substitut', 'pictur', 'box', 'what', 'go'], tags=[231]),\n",
       " TaggedDocument(words=['suck', 'eat', 'lipton', 'chicken', 'noodl', 'soup', 'year', 'chang', 'receip', 'ever', 'cant', 'find', 'old', 'box', 'could', 'find', 'would', 'buy', 'case', 'two', 'look', 'everywher', 'everi', 'store', 'also', 'talk', 'peopl', 'disappoint', 'lipton', 'chicken', 'noodl', 'real', 'chicken', 'broth', 'like', 'peopl', 'folger', 'coffe', 'guess', 'cant', 'get', 'anymor', 'ill', 'switch', 'anoth', 'brand', 'unsatisfi', 'custom', 'kelli', 'bright'], tags=[232]),\n",
       " TaggedDocument(words=['receiv', 'product', 'promptli', 'problem', 'someth', 'wrong', 'hot', 'chocol', 'mix', 'horribl', 'tast', 'purchas', 'exact', 'one', 'coupl', 'month', 'ago', 'dealer', 'amazon', 'wonder', 'purchas', 'disappoint', 'deliveri', 'wonder', 'product', 'seem', 'stale', 'terribl'], tags=[233]),\n",
       " TaggedDocument(words=['dubbl', 'bubbl', 'worst', 'bubl', 'gum', 'ever', 'invent', 'moment', 'pop', 'mouth', 'alreadi', 'tast', 'aw', 'crap', 'rubberi', 'anyth', 'els'], tags=[234]),\n",
       " TaggedDocument(words=['realli', 'hate', 'candi', 'sister', 'alway', 'bought', 'crap', 'alway', 'made', 'feel', 'like', 'tri', 'chew', 'rock', 'swear', 'harder', 'couldv', 'porbabl', 'broke', 'teeth'], tags=[235]),\n",
       " TaggedDocument(words=['order', 'item', 'along', 'regular', 'noodl', 'never', 'got', 'made', 'million', 'attempt', 'success', 'charg', 'alreadi', 'paid', 'item', 'ship', 'gristed', 'probabl', 'never', 'order', 'amazon', 'gotten', 'satisfact', 'last', 'email', 'sent', 'never', 'even', 'answer'], tags=[236]),\n",
       " TaggedDocument(words=['got', 'gardenia', 'bonsai', 'expect', 'upon', 'open', 'packag', 'leav', 'dull', 'green', 'bud', 'dri', 'mostli', 'dark', 'brown', 'follow', 'instruct', 'even', 'research', 'work', 'internet', 'even', 'bought', 'extra', 'stuff', 'like', 'plant', 'food', 'cool', 'mist', 'humidifi', 'reviv', 'plant', 'well', 'week', 'leav', 'gone', 'branch', 'bare', 'look', 'like', 'bare', 'tree', 'see', 'winter', 'tri', 'contact', 'merchant', 'ask', 'advis', 'get', 'respons', 'bonsai', 'regular', 'gardenia', 'healthi', 'realli', 'want', 'gardenia', 'bonsai', 'bad'], tags=[237]),\n",
       " TaggedDocument(words=['month', 'sinc', 'order', 'although', 'bill', 'credit', 'card', 'yet', 'see', 'product', 'deliv', 'week', 'ago', 'inform', 'shipment', 'lost', 'would', 'file', 'claim', 'heard', 'word', 'sinc', 'poor', 'custom', 'servic', 'cancel', 'today', 'order', 'adam'], tags=[238]),\n",
       " TaggedDocument(words=['took', 'month', 'deliveri', 'state', 'time', 'busi', 'day', 'deliveri', 'ship', 'day', 'complain', 'compani', 'gristed', 'new', 'york', 'hmmmm', 'up', 'couldnt', 'figur', 'deliv', 'box', 'numer', 'packag', 'up', 'usp', 'box', 'make', 'matter', 'worst', 'shipment', 'short', 'packag', 'product', 'think', 'next', 'time', 'stay', 'west', 'coast', 'faster', 'deliveri', 'littl', 'extra', 'good', 'luck', 'order', 'gristed', 'market', 'new', 'york', 'rememb', 'stay', 'top', 'order', 'make', 'sure', 'actual', 'get', 'one', 'posit', 'note', 'product', 'awesom', 'far', 'fresh', 'present'], tags=[239]),\n",
       " TaggedDocument(words=['tend', 'chewi', 'pasta', 'italian', 'guess', 'wasnt', 'use'], tags=[240]),\n",
       " TaggedDocument(words=['coffe', 'maker', 'work', 'fine', 'impress', 'tast', 'coffe', 'tast', 'much', 'like', 'instant'], tags=[241]),\n",
       " TaggedDocument(words=['rooster', 'box', 'get', 'cartooni', 'face', 'whatev', 'happen', 'wonder', 'abstract', 'first', 'ruin', 'toni', 'tiger', 'high', 'fructos', 'corn', 'syrup', 'come', 'admittedli', 'flake', 'corn', 'nasti', 'ingredi', 'skip', 'cost', 'thing', 'like', 'drive', 'peopl', 'formerli', 'odd', 'grain', 'like', 'spelt', 'kamut'], tags=[242]),\n",
       " TaggedDocument(words=['like', 'tofu', 'spaghetti', 'tast', 'like', 'spaghetti', 'thought', 'would', 'take', 'tast', 'would', 'cook', 'tri', 'extrem', 'garlic', 'spaghetti', 'sauc', 'couldnt', 'eat', 'got', 'quickli', 'packag', 'well', 'though'], tags=[243]),\n",
       " TaggedDocument(words=['hear', 'mani', 'good', 'thing', 'product', 'tri', 'decid', 'order', 'made', 'order', 'two', 'packag', 'noodl', 'took', 'two', 'long', 'mth', 'final', 'receiv', 'constantli', 'call', 'left', 'mess', 'comp', 'return', 'call', 'expect', 'noodl', 'best', 'thing', 'sinc', 'slice', 'bread', 'final', 'arriv', 'tast', 'terribl', 'woulnt', 'reccomend', 'product', 'mention', 'compani', 'mess', 'voic', 'mail', 'state', 'difficult', 'meet', 'demandif', 'cant', 'meet', 'demand', 'product', 'need', 'look', 'anoth', 'field', 'work'], tags=[244]),\n",
       " TaggedDocument(words=['bother', 'purchas', 'noodl', 'worst', 'thing', 'ever', 'tast', 'like', 'eat', 'rubber', 'band', 'fear', 'factor'], tags=[245]),\n",
       " TaggedDocument(words=['look', 'forward', 'hearti', 'rich', 'soup', 'instead', 'got', 'corn', 'corn', 'soggi', 'crisp', 'soup', 'almost', 'curdl', 'even', 'though', 'defint', 'within', 'shelf', 'life', 'product', 'smell', 'well', 'husband', 'actual', 'ask', 'open', 'dog', 'food', 'hous', 'flavor', 'bland', 'slightli', 'salti', 'took', 'bite', 'threw', 'howev', 'picki', 'eater', 'peopl', 'might', 'enjoy', 'like', 'thick', 'greasi', 'food'], tags=[246]),\n",
       " TaggedDocument(words=['realli', 'sweet', 'add', 'littl', 'there', 'flavor', 'add', 'get', 'way', 'sweet', 'like', 'ad', 'pure', 'sugar', 'mild', 'coffe', 'flavor', 'detect', 'white', 'chocol', 'flavor', 'horribl', 'good', 'either', 'ghirardelli', 'flavor', 'better', 'like', 'chocol', 'cours', 'even', 'noth', 'special', 'realli', 'seem', 'cash', 'good', 'reput', 'ghirardelli', 'product', 'honestli', 'brand', 'even', 'great', 'valu', 'store', 'brand', 'good', 'much', 'lower', 'price'], tags=[247]),\n",
       " TaggedDocument(words=['drink', 'green', 'tea', 'year', 'love', 'tast', 'smell', 'open', 'box', 'tea', 'thought', 'stand', 'old', 'ash', 'tray', 'smell', 'horrid', 'doesnt', 'infus', 'well', 'water', 'steep', 'tabl', 'spoon', 'five', 'minut', 'water', 'color', 'bare', 'chang', 'highli', 'recommend', 'buy', 'tea', 'exot', 'product', 'asid', 'plain', 'old', 'lipton', 'green', 'tea', 'bag', 'groceri', 'store', 'far', 'better'], tags=[248]),\n",
       " TaggedDocument(words=['amazon', 'tell', 'product', 'ship', 'week', 'dont', 'believ', 'order', 'case', 'earli', 'feb', 'case', 'arriv', 'week', 'still', 'wait', 'that', 'week', 'folk', 'could', 'grown', 'soybean', 'can', 'stuff', 'week', 'made', 'mistak', 'tri', 'buy', 'case', 'earli', 'march', 'amazon', 'estim', 'deliveri', 'june', 'that', 'weeksit', 'crime', 'amazon', 'still', 'sell', 'product', 'unsuspect', 'custom'], tags=[249]),\n",
       " TaggedDocument(words=['got', 'refund', 'say', 'compani', 'carri', 'item', 'longer', 'disappoint', 'take', 'list'], tags=[250]),\n",
       " TaggedDocument(words=['start', 'run', 'coupl', 'year', 'ago', 'ran', 'first', 'marathon', 'last', 'year', 'alway', 'carri', 'powergel', 'long', 'run', 'ye', 'powergel', 'sugar', 'caffin', 'bonk', 'mile', 'mile', 'run', 'super', 'glad', 'one', 'pocket', 'think', 'benefit', 'come', 'mainli', 'sugar', 'tend', 'buy', 'flavor', 'caffin', 'gener', 'give', 'powergel', 'star', 'give', 'tangerin', 'flavor', 'two', 'star', 'didnt', 'like', 'tast', 'flavor', 'much', 'better'], tags=[251]),\n",
       " TaggedDocument(words=['admittedli', 'fever', 'must', 'say', 'devote', 'corn', 'flake', 'though', 'eat', 'trader', 'joe', 'flake', 'though', 'tasti', 'much', 'crap', 'cereal', 'true', 'target', 'place', 'great', 'bear', 'thought', 'creepi', 'bald', 'ladi', 'two', 'teeth', 'took', 'ticket', 'felt', 'gave', 'liscens', 'engag', 'convers', 'clown', 'reek', 'first', 'two', 'minut', 'set', 'tone', 'weird', 'film', 'float', 'ball', 'light', 'becam', 'speak', 'version', 'dead', 'histor', 'figur', 'never', 'got', 'along', 'life', 'pick', 'argument', 'right', 'left', 'screen', 'animatron', 'snap', 'crackl', 'pop', 'end', 'either', 'look', 'like', 'rise', 'grave', 'fall', 'worship', 'feet', 'toni', 'tiger', 'depend', 'whether', 'come', 'go', 'back', 'hope', 'uniqu', 'experi', 'involv', 'abl', 'find', 'ladi', 'crucial', 'scavang', 'hunt', 'minut', 'back', 'take', 'nap', 'want', 'shirt', 'say', 'wait', 'minut', 'complet', 'cereal', 'citi', 'scavang', 'hunt', 'got', 'crappi', 'sippi', 'cup', 'much', 'much', 'could', 'length', 'wont', 'main', 'point', 'get', 'sens', 'kellogg', 'compani', 'creepi', 'tourist', 'trap', 'avoid'], tags=[252]),\n",
       " TaggedDocument(words=['year', 'use', 'boboli', 'pizza', 'crust', 'enjoy', 'much', 'taken', 'market', 'period', 'time', 'month', 'ago', 'put', 'back', 'shelv', 'sinc', 'total', 'tasteless', 'noth', 'like', 'use', 'dont', 'know', 'previou', 'problem', 'probabl', 'purchas', 'last', 'boboli', 'pizza', 'crust', 'ask', 'rate', 'product', 'feel', 'even', 'qualifi', 'pleas', 'bring', 'back', 'previou', 'recip', 'explain', 'reason', 'chang'], tags=[253]),\n",
       " TaggedDocument(words=['everlast', 'treat', 'ball', 'great', 'concept', 'poorli', 'execut', 'everlast', 'treat', 'end', 'cap', 'come', 'easili', 'minimum', 'amount', 'slobber', 'puppi', 'would', 'lick', 'sure', 'tast', 'great', 'within', 'minut', 'cap', 'ball', 'soft', 'rubber', 'make', 'easi', 'get', 'way', 'theyr', 'littl', 'expens', 'made', 'poorli', 'puppi', 'love', 'chew', 'ball', 'get', 'inner', 'treat', 'food', 'better', 'product', 'market', 'disappoint', 'product'], tags=[254]),\n",
       " TaggedDocument(words=['order', 'product', 'januari', 'april', 'still', 'havent', 'receiv', 'leav', 'compani', 'alon', 'dont', 'buy'], tags=[255]),\n",
       " TaggedDocument(words=['noodl', 'terribl', 'squidi', 'textur', 'wholli', 'unpleas', 'smell', 'cook', 'strang', 'tast', 'odd'], tags=[256]),\n",
       " TaggedDocument(words=['remind', 'got', 'mud', 'mouth', 'play', 'digger', 'garden', 'wasnt', 'affaid', 'water', 'turn', 'black', 'tast', 'earthi'], tags=[257]),\n",
       " TaggedDocument(words=['three', 'turkish', 'angora', 'normal', 'play', 'anim', 'sit', 'sofa', 'watch', 'ball', 'floor', 'seem', 'stimul', 'slightest', 'play', 'ball', 'last', 'year', 'would', 'purchas', 'product'], tags=[258]),\n",
       " TaggedDocument(words=['boy', 'boy', 'walden', 'farm', 'realli', 'hit', 'miss', 'oper', 'think', 'stuff', 'probabl', 'least', 'favorit', 'product', 'ive', 'tast', 'far', 'make', 'sens', 'ingredi', 'might', 'add', 'tast', 'would', 'choos', 'employ', 'recip', 'arent', 'calor', 'spice', 'salt', 'would', 'long', 'way', 'toward', 'make', 'stuff', 'edibl', 'add', 'though', 'sauc', 'also', 'thin', 'deal', 'food', 'that', 'sacrific', 'live', 'flavor', 'lack', 'sort', 'savori', 'compon', 'make', 'stuff', 'flop', 'suspect', 'there', 'whole', 'lotta', 'splenda', 'goin', 'stuff', 'give', 'pass', 'thin', 'bottl', 'lite', 'alfredo', 'sauc', 'use', 'milk'], tags=[259]),\n",
       " TaggedDocument(words=['order', 'plant', 'cant', 'even', 'beleiv', 'your', 'allow', 'lie', 'like', 'get', 'away', 'item', 'descript', 'clearli', 'state', 'plant', 'suppos', 'old', 'inch', 'high', 'inch', 'pot', 'plant', 'inch', 'inch', 'pot', 'cant', 'beleiv', 'paid', 'plant', 'one', 'get', 'contact', 'return', 'ask', 'go', 'dont', 'understand', 'say', 'give', 'plant', 'complet', 'differ', 'receiv', 'unsatisfi', 'plant', 'even', 'bad', 'servic', 'one', 'anwser', 'email', 'question', 'anyon', 'help', 'email', 'com'], tags=[260]),\n",
       " TaggedDocument(words=['read', 'review', 'wonder', 'mine', 'gone', 'bad', 'almost', 'ferment', 'smell', 'husband', 'got', 'cashew', 'bar', 'got', 'banana', 'cooki', 'nasti', 'threw', 'away', 'without', 'eat'], tags=[261]),\n",
       " TaggedDocument(words=['love', 'celesti', 'season', 'rooibo', 'base', 'particular', 'madagascar', 'vanilla', 'red', 'moroccan', 'pomegran', 'red', 'safari', 'spice', 'tri', 'mani', 'thing', 'creat', 'busi', 'blend', 'grab', 'combin', 'fruit', 'spice', 'fan', 'banana', 'flavor', 'tea', 'season', 'get', 'extra', 'point', 'util', 'natur', 'recycl', 'paperboard', 'box', 'dont', 'packag', 'tea', 'bag', 'individu', 'instead', 'use', 'system', 'wax', 'paper', 'bag', 'insid', 'box', 'stay', 'shut', 'fold', 'keep', 'bag', 'fresh', 'util', 'less', 'packag', 'individu', 'wrap', 'bag', 'art', 'use', 'box', 'beauti', 'quot', 'inform', 'put', 'everi', 'surfac', 'thing', 'natur', 'someth', 'marvel', 'aristotl'], tags=[262]),\n",
       " TaggedDocument(words=['big', 'fan', 'high', 'qualiti', 'celesti', 'season', 'product', 'usual', 'good', 'tea', 'blend', 'particular', 'blend', 'make', 'cut', 'want', 'like', 'somehow', 'coconut', 'realli', 'work', 'tea', 'aroma', 'artifici', 'coconut', 'flavor', 'strang', 'somewhat', 'musti', 'coconut', 'flavor', 'without', 'notic', 'chai', 'spice', 'drinkabl', 'eccentr', 'diehard', 'coconut', 'lover', 'would', 'find', 'appeal', 'season', 'get', 'extra', 'point', 'util', 'natur', 'recycl', 'paperboard', 'box', 'dont', 'packag', 'tea', 'bag', 'individu', 'instead', 'use', 'system', 'wax', 'paper', 'bag', 'insid', 'box', 'stay', 'shut', 'fold', 'keep', 'bag', 'fresh', 'util', 'less', 'packag', 'individu', 'wrap', 'bag', 'art', 'use', 'box', 'beauti', 'quot', 'inform', 'put', 'everi', 'surfac', 'moment', 'energi', 'moment', 'spread', 'beyond', 'boundari', 'corita', 'kent'], tags=[263]),\n",
       " TaggedDocument(words=['use', 'buy', 'old', 'version', 'silver', 'box', 'whole', 'famili', 'love', 'best', 'afford', 'european', 'style', 'cocoa', 'powder', 'market', 'use', 'everyth', 'hot', 'cocoa', 'browni', 'birthday', 'cake', 'fill', 'chocol', 'mouss', 'truffl', 'rich', 'smooth', 'wonder', 'chocol', 'flavor', 'year', 'easter', 'run', 'cocoa', 'went', 'differ', 'store', 'tri', 'find', 'favorit', 'cocoa', 'hershey', 'european', 'style', 'couldnt', 'find', 'call', 'hershey', 'see', 'could', 'order', 'told', 'dont', 'make', 'anymor', 'updat', 'version', 'special', 'dark', 'bought', 'promis', 'make', 'mistak', 'ever', 'black', 'without', 'flavor', 'unpleas', 'hershey', 'specialist', 'idea', 'european', 'style', 'dutch', 'process', 'cocoa', 'wrong', 'mayb', 'need', 'trip', 'holland', 'drink', 'good', 'dark', 'cocoa', 'attend', 'train'], tags=[264]),\n",
       " TaggedDocument(words=['outstand', 'system', 'much', 'less', 'effort', 'exert', 'weak', 'plastic', 'handl', 'broke', 'month', 'use', 'wait', 'steel', 'version'], tags=[265]),\n",
       " TaggedDocument(words=['get', 'good', 'number', 'treat', 'even', 'thought', 'still', 'pricey', 'soft', 'quit', 'pretti', 'squish', 'though', 'treat', 'soft', 'enough', 'could', 'like', 'mold', 'around', 'pill', 'need', 'suppos', 'cat', 'gobbl', 'empti', 'one', 'second', 'eagerli', 'gobbl', 'one', 'pill', 'well', 'soon', 'bit', 'discov', 'pill', 'onto', 'floor', 'went', 'like', 'treat', 'enough', 'lick', 'treat', 'bit', 'though', 'leav', 'soggi', 'pill', 'behind', 'anoth', 'empti', 'ate', 'slightli', 'hesitantli', 'wonder', 'next', 'pill', 'actual', 'went', 'way', 'suppos', 'yay', 'thought', 'struggl', 'pill', 'next', 'time', 'though', 'bit', 'treat', 'found', 'pill', 'fact', 'hed', 'deliber', 'nibbl', 'uncov', 'pill', 'tri', 'start', 'refus', 'treat', 'even', 'without', 'pill', 'fact', 'hed', 'gotten', 'distrust', 'quickli', 'hidden', 'pill', 'trick', 'even', 'distrust', 'soft', 'treat', 'sever', 'day', 'resort', 'crunchi', 'one', 'reward', 'swallow', 'pill', 'bad', 'seem', 'chew', 'food', 'rather', 'bolt', 'hide', 'pill', 'food', 'never', 'work', 'either', 'think', 'didnt', 'chew', 'might', 'work', 'better', 'resort', 'routin', 'get', 'fed', 'pick', 'carri', 'particular', 'chair', 'get', 'sat', 'reciev', 'pill', 'pill', 'goe', 'he', 'reward', 'treat', 'soon', 'pill', 'goe', 'sever', 'time', 'routin', 'doesnt', 'come', 'run', 'settl', 'stop', 'struggl', 'run', 'away', 'right', 'rather', 'look', 'eagerli', 'say', 'where', 'treat', 'suppos', 'get', 'treat', 'know', 'least', 'pill', 'pocket', 'use', 'much', 'rate'], tags=[266]),\n",
       " TaggedDocument(words=['tast', 'like', 'someon', 'left', 'cereal', 'box', 'open', 'tooo', 'long', 'stale', 'side', 'though', 'smell', 'great', 'bad', 'purchas', 'bag', 'enjoy', 'banana', 'granola', 'though', 'excel'], tags=[267]),\n",
       " TaggedDocument(words=['vegan', 'tri', 'everi', 'tofu', 'product', 'market', 'noth', 'ever', 'came', 'close', 'terribl', 'textur', 'noodl', 'smell', 'open', 'bag', 'pleasant', 'wash', 'parboil', 'goe', 'away', 'replac', 'slightli', 'sweet', 'smell', 'dislik', 'almost', 'much', 'kept', 'open', 'mind', 'cook', 'noodl', 'minut', 'ad', 'favorit', 'sauc', 'fresh', 'ground', 'pepper', 'soy', 'chees', 'grate', 'top', 'whoever', 'said', 'like', 'eat', 'rubber', 'band', 'exactli', 'target', 'incred', 'chewi', 'dont', 'tast', 'great', 'either', 'even', 'low', 'calori', 'food', 'seem', 'like', 'wast', 'spend', 'calori', 'noodl'], tags=[268]),\n",
       " TaggedDocument(words=['bought', 'mother', 'day', 'gift', 'coffe', 'lover', 'found', 'came', 'one', 'pound', 'regular', 'one', 'pound', 'decaf', 'three', 'pound', 'regular', 'substitut', 'cracker', 'smash', 'cappuccino', 'liquer', 'cake', 'open', 'day', 'gift', 'wrap', 'realli', 'dissapoint', 'decaf', 'coffe', 'addict', 'turn', 'realli', 'expens', 'pound', 'coffe', 'nice', 'basket'], tags=[269]),\n",
       " TaggedDocument(words=['product', 'fine', 'whomev', 'tri', 'ship', 'must', 'also', 'milk', 'cow', 'put', 'milk', 'sun', 'wait', 'milk', 'becom', 'powder', 'must', 'rain', 'stuff', 'never', 'seem', 'come', 'dont', 'order', 'youll', 'wast', 'ton', 'money', 'buy', 'coop', 'drug', 'store', 'wait', 'forev', 'come', 'wait', 'might', 'good', 'thing', 'might', 'realiz', 'like', 'realli', 'quit', 'nice', 'good', 'thing', 'shop', 'local'], tags=[270]),\n",
       " TaggedDocument(words=['rate', 'actual', 'zero', 'choos', 'never', 'order', 'site', 'order', 'fukien', 'tea', 'tree', 'order', 'delay', 'big', 'problem', 'disappoint', 'tree', 'final', 'arriv', 'wrong', 'tree', 'receiv', 'gardenia', 'tree', 'fukien', 'tini', 'littl', 'white', 'flower', 'produc', 'small', 'red', 'berri', 'gardenia', 'larger', 'flower', 'like', 'happi', 'sinc', 'delay', 'shipment', 'fukien', 'tree', 'someon', 'took', 'upon', 'subsitut', 'differ', 'tree', 'think', 'would', 'know', 'differ', 'want', 'gardenia', 'would', 'order', 'shipment', 'return', 'next', 'day', 'hope', 'refund', 'time', 'manner'], tags=[271]),\n",
       " TaggedDocument(words=['order', 'product', 'receiv', 'one', 'box', 'back', 'natur', 'white', 'cheddar', 'spiral', 'dinner', 'instead', 'box', 'amazon', 'com', 'charg', 'entir', 'case', 'though', 'tri', 'anoth', 'time', 'send', 'correct', 'packag', 'got', 'one', 'box', 'told', 'could', 'keep', 'two', 'box', 'troubl', 'would', 'cancel', 'order', 'howev', 'month', 'later', 'charg', 'credit', 'card', 'two', 'box', 'call', 'take', 'charg', 'product', 'troubl', 'worth'], tags=[272]),\n",
       " TaggedDocument(words=['best', 'check', 'local', 'asian', 'food', 'market', 'japans', 'anim', 'store', 'price', 'usual', 'better', 'consid', 'wont', 'stuck', 'someth', 'end', 'hate', 'also', 'lot', 'varieti', 'pocki', 'what', 'sold', 'there', 'even', 'giant', 'pocki', 'custard', 'pocki', 'green', 'tea', 'etc', 'alway', 'new', 'one', 'come', 'market', 'internet', 'store', 'compar', 'price', 'mayb', 'wise', 'choic', 'curiou', 'snacker', 'bewar', 'though', 'even', 'didnt', 'like', 'sesam', 'fyi', 'men', 'pocki', 'bitter', 'instead', 'milk', 'chocol', 'best', 'flavor', 'opinion', 'novic', 'pocki', 'snacker', 'like', 'men', 'strawberri', 'without', 'extra', 'bit', 'almond', 'crush'], tags=[273]),\n",
       " TaggedDocument(words=['although', 'product', 'claim', 'viabl', 'addit', 'shake', 'drink', 'experi', 'wont', 'dissolv', 'without', 'blender', 'put', 'clump', 'tast', 'fine', 'actual', 'good', 'recommend', 'look', 'elsewher', 'drink', 'supplement'], tags=[274]),\n",
       " TaggedDocument(words=['sure', 'view', 'larger', 'imag', 'thought', 'anoth', 'david', 'bowi'], tags=[275]),\n",
       " TaggedDocument(words=['read', 'review', 'blood', 'thinner', 'tea', 'good', 'make', 'unhealthi', 'thin', 'blood', 'didnt', 'seem', 'affect', 'protim', 'concern'], tags=[276]),\n",
       " TaggedDocument(words=['version', 'set', 'exact', 'dvd', 'pal', 'cours', 'second', 'disc', 'longer', 'version', 'roughli', 'minut', 'definetli', 'better', 'buy'], tags=[277]),\n",
       " TaggedDocument(words=['bewar', 'pig', 'bought', 'cutesi', 'gift', 'xma', 'present', 'children', 'great', 'frankli', 'packag', 'great', 'pig', 'small', 'didnt', 'tast', 'good', 'advic', 'pass', 'one', 'chocol', 'voodoo', 'doll', 'went', 'lot', 'better', 'fun', 'tast', 'better', 'advic', 'would', 'get', 'item'], tags=[278]),\n",
       " TaggedDocument(words=['tea', 'reciv', 'woodi', 'stuff', 'littl', 'stick', 'green', 'stuff', 'ship', 'nearli', 'price', 'tea', 'end', 'pay', 'pound', 'yerba', 'reciev', 'order', 'got', 'smart', 'googl', 'yerba', 'mate', 'found', 'lot', 'site', 'offer', 'lot', 'tea', 'lot', 'less', 'money', 'like', 'instead', 'paid', 'also', 'site', 'offer', 'genuin', 'argentinean', 'brand', 'think', 'ill', 'tri', 'next'], tags=[279]),\n",
       " TaggedDocument(words=['cereal', 'hard', 'tasteless', 'difficult', 'chew', 'strang', 'would', 'recommend', 'anyon', 'fact', 'go', 'write', 'compani', 'letter', 'sinc', 'angri', 'five', 'half', 'bag', 'crappi', 'cereal', 'lie', 'around'], tags=[280]),\n",
       " TaggedDocument(words=['last', 'time', 'check', 'water', 'base', 'product', 'poop', 'arent', 'realli', 'frozen', 'degre', 'tri', 'catch', 'poop', 'bag', 'take', 'straight', 'deep', 'freez', 'prevent', 'freezer', 'burn', 'white', 'crusti', 'layer'], tags=[281]),\n",
       " TaggedDocument(words=['browni', 'rich', 'chocol', 'chunk', 'chip', 'top', 'much', 'much', 'smaller', 'pictur', 'chewi', 'soft', 'mushi', 'like', 'cheapo', 'one', 'get', 'groceri', 'store', 'box', 'stack', 'four', 'bottom', 'browni', 'stack', 'smash', 'half', 'size', 'rest', 'stuck', 'togeth', 'box', 'came', 'beauti', 'worth', 'much', 'content', 'paid', 'ship', 'small', 'browni', 'crumbl', 'worth', 'werent', 'stuck', 'togeth', 'drew', 'reluct', 'give', 'refund', 'would', 'respond', 'blackberri', 'repli', 'gave'], tags=[282]),\n",
       " TaggedDocument(words=['absolut', 'worst', 'cracker', 'ever', 'tast', 'styrofoam', 'could', 'serv', 'box', 'would', 'tast', 'like', 'save', 'money'], tags=[283]),\n",
       " TaggedDocument(words=['look', 'like', 'great', 'cereal', 'element', 'like', 'cereal', 'berri', 'flax', 'weird', 'ingredi', 'gave', 'tri', 'pour', 'bowl', 'cereal', 'day', 'got', 'mail', 'couldnt', 'finish', 'bowl', 'like', 'eat', 'raw', 'oat', 'pleasant', 'experi', 'weird', 'artifici', 'aftertast', 'even', 'though', 'doesnt', 'artifici', 'ingredi', 'couldnt', 'figur', 'tast', 'strang', 'sorri', 'guy', 'may', 'feed', 'remain', 'bag', 'cereal', 'local', 'hors', 'couldnt', 'even', 'choke'], tags=[284]),\n",
       " TaggedDocument(words=['problem', 'eat', 'bar', 'tast', 'thought', 'wow', 'nice', 'addit', 'raw', 'diet', 'hour', 'later', 'stomach', 'got', 'real', 'queasi', 'threw', 'sever', 'time', 'great', 'experi', 'return', 'bar', 'howev', 'postag', 'fee', 'etc', 'refund', 'dollar', 'total', 'order', 'buyer', 'bewar'], tags=[285]),\n",
       " TaggedDocument(words=['listen', 'gal', 'weight', 'year', 'thank', 'current', 'downsw', 'hope', 'stay', 'way', 'bring', 'hostess', 'twinki', 'overr', 'one', 'least', 'favorit', 'hostess', 'snack', 'want', 'truth', 'spong', 'cake', 'stinki'], tags=[286]),\n",
       " TaggedDocument(words=['say', 'aint', 'hostess', 'golden', 'cup', 'cake', 'look', 'want', 'golden', 'snack', 'cake', 'reeki', 'twinki', 'cup', 'cake', 'want', 'origin', 'chocol', 'proud', 'say', 'avoid', 'hostess', 'product', 'month', 'introduc', 'ridicul', 'product', 'holla'], tags=[287]),\n",
       " TaggedDocument(words=['though', 'wasnt', 'expect', 'lot', 'soft', 'toy', 'hope', 'would', 'abl', 'provid', 'littl', 'relief', 'teeth', 'pup', 'bone', 'easi', 'use', 'freez', 'actual', 'enjoy', 'time', 'limit', 'worth', 'time', 'take', 'refreez', 'minut', 'bone', 'thaw', 'point', 'drip', 'could', 'easili', 'hole', 'chew', 'fabric', 'went', 'refreez', 'poor', 'pup', 'didnt', 'understand', 'take', 'toy', 'end', 'becom', 'disinterest', 'quickli', 'next', 'time', 'brought', 'issu', 'hadnt', 'thought', 'freez', 'hard', 'heavi', 'bone', 'becom', 'puppi', 'like', 'throw', 'toy', 'pounc', 'becom', 'fli', 'projectil', 'seem', 'help', 'sore', 'teeth', 'provid', 'cool', 'treat', 'overal', 'experi', 'left', 'lot', 'desir'], tags=[288]),\n",
       " TaggedDocument(words=['die', 'get', 'hand', 'read', 'wonder', 'endors', 'noth', 'high', 'hope', 'total', 'open', 'mind', 'thought', 'seem', 'good', 'true', 'low', 'cal', 'carb', 'noodl', 'hey', 'optimist', 'guess', 'good', 'true', 'read', 'wash', 'dri', 'problem', 'ad', 'sauc', 'put', 'mouth', 'tast', 'problem', 'textur', 'serious', 'like', 'chew', 'rubber', 'band', 'noodl', 'resembl', 'whatsoev', 'honestli', 'cant', 'understand', 'rave', 'hey'], tags=[289]),\n",
       " TaggedDocument(words=['feel', 'like', 'got', 'box', 'plain', 'wood', 'almost', 'tell', 'suppos', 'cinnamon', 'realli', 'mayb', 'got', 'old', 'box', 'disappoint'], tags=[290]),\n",
       " TaggedDocument(words=['order', 'event', 'still', 'receiv', 'product', 'supplier', 'respond', 'email', 'inquiri', 'deliveri'], tags=[291]),\n",
       " TaggedDocument(words=['sorri', 'way', 'someth', 'smell', 'high', 'heaven', 'fri', 'can', 'gourmet', 'food', 'even', 'food'], tags=[292]),\n",
       " TaggedDocument(words=['would', 'first', 'applaud', 'product', 'good', 'unfortun', 'would', 'rather', 'give', 'drink', 'drink', 'tasteless', 'slop', 'nasti', 'artifici', 'acrid', 'citrusi', 'time', 'sweet', 'tast', 'product', 'strawberri', 'margherita', 'mix', 'faint', 'tast', 'strawberri', 'amount', 'doctor', 'could', 'make', 'drinkabl', 'pour', 'mix', 'mai', 'tai', 'mix', 'pour', 'bought', 'sever', 'bottl', 'dri', 'drink', 'mix', 'varieti', 'without', 'tri', 'first', 'big', 'mistak', 'either', 'go', 'pour', 'throw', 'sinc', 'folk', 'baja', 'bob', 'web', 'site', 'refus', 'even', 'respond', 'request', 'return', 'unopen', 'product', 'refund', 'also', 'note', 'web', 'site', 'fan', 'club', 'page', 'entri', 'save', 'money', 'unless', 'total', 'desper', 'youd', 'better', 'use', 'crystal', 'light', 'rubi', 'red', 'grapefruit', 'tast', 'pretti', 'good', 'mix', 'vodka'], tags=[293]),\n",
       " TaggedDocument(words=['salt', 'tast', 'test', 'wors', 'morton', 'kosher', 'absolut', 'sea', 'tast', 'look', 'grey', 'salt', 'grinder'], tags=[294]),\n",
       " TaggedDocument(words=['although', 'former', 'disgruntl', 'employe', 'develop', 'reserv', 'san', 'marzano', 'brand', 'tomato', 'bought', 'first', 'tomoato', 'local', 'groceri', 'store', 'thought', 'great', 'san', 'marzano', 'plum', 'tomato', 'stright', 'itali', 'got', 'home', 'open', 'tomato', 'insid', 'didnt', 'look', 'like', 'one', 'round', 'didnt', 'look', 'like', 'plum', 'tomato', 'resembl', 'littl', 'eggplant', 'read', 'label', 'realiz', 'tomato', 'california', 'noth', 'san', 'marzano', 'reigon', 'itali', 'dissapoint', 'buyer', 'tomato', 'san', 'marzano', 'probabl', 'arent', 'even', 'plum', 'tomato', 'tast', 'defin', 'left', 'wonder', 'where', 'great', 'sweet', 'fresh', 'flavor', 'peopl', 'say', 'san', 'marzano', 'tomato', 'look', 'averag', 'tomato', 'brand', 'suffic', 'want', 'real', 'san', 'marzano', 'tomato', 'pleas', 'save', 'youself', 'dissapoint', 'keep', 'look'], tags=[295]),\n",
       " TaggedDocument(words=['theyr', 'delici', 'ate', 'hands', 'coupl', 'hour', 'later', 'start', 'feel', 'realli', 'sick', 'spent', 'whole', 'rest', 'day', 'suffer', 'pain', 'gastrointestin', 'distress', 'believ', 'occasion', 'sugar', 'substitut', 'brand', 'lycasin', 'dont', 'problem', 'lycasin', 'right', 'ahead', 'munch', 'away', 'dont', 'know', 'tri', 'small', 'quantiti', 'first', 'make', 'sure', 'dont', 'caus', 'problem'], tags=[296]),\n",
       " TaggedDocument(words=['use', 'bomb', 'back', 'day', 'hot', 'flavor', 'weak', 'splinteri'], tags=[297]),\n",
       " TaggedDocument(words=['isnt', 'much', 'item', 'want', 'buy', 'less', 'case', 'lot', 'amazon', 'stori', 'open', 'groceri', 'sale', 'carri', 'news', 'said', 'smaller', 'lot', 'cannot', 'find', 'either', 'carri', 'smaller', 'lot', 'websit', 'need', 'rework', 'make', 'easier', 'find', 'need', 'actual', 'carri', 'smaller', 'lot', 'ind'], tags=[298]),\n",
       " TaggedDocument(words=['big', 'fan', 'pamela', 'product', 'plain', 'shortbread', 'pecan', 'shortbread', 'incred', 'optimist', 'lemon', 'shortbread', 'cooki', 'sinc', 'fan', 'everyth', 'cooki', 'sour', 'soggi', 'without', 'crumbl', 'butteri', 'textur', 'real', 'shortbread', 'tast', 'like', 'someon', 'spray', 'lemon', 'pledg', 'furnitur', 'cleaner', 'regular', 'shortbread', 'seal', 'plastic', 'damp', 'realli', 'gross', 'recommend'], tags=[299]),\n",
       " TaggedDocument(words=['wow', 'eat', 'your', 'fine', 'eat', 'half', 'hand', 'youll', 'pop', 'hour', 'eat', 'hand', 'better', 'stay', 'near', 'bathroom', 'rest', 'day', 'tast', 'great', 'like', 'regular', 'one', 'theyll', 'affect', 'way', 'one'], tags=[300]),\n",
       " TaggedDocument(words=['small', 'packag', 'noodl', 'came', 'huge', 'box', 'thought', 'huge', 'wast', 'complet', 'unnessecari', 'open', 'box', 'small', 'melt', 'ice', 'pack', 'fail', 'keep', 'noodl', 'cold', 'hot', 'smell', 'terribl', 'throw', 'trash', 'outsid', 'right', 'away', 'smell', 'call', 'gristed', 'left', 'upset', 'yet', 'polit', 'messag', 'almost', 'week', 'heard', 'dont', 'wast', 'money', 'supposedli', 'great', 'deal', 'worth'], tags=[301]),\n",
       " TaggedDocument(words=['also', 'receiv', 'wrong', 'tree', 'first', 'time', 'first', 'tree', 'came', 'quickli', 'also', 'gardenia', 'tree', 'contact', 'amazon', 'reship', 'correct', 'tree', 'came', 'quickli', 'pack', 'properli', 'upon', 'arriv', 'tree', 'look', 'good', 'quickli', 'chang', 'past', 'grown', 'bonsai', 'tree', 'success', 'requir', 'attent', 'proper', 'water', 'well', 'light', 'grow', 'condit', 'tree', 'came', 'ceram', 'pot', 'match', 'descript', 'differ', 'color', 'differ', 'photo', 'site', 'gardenia', 'tree', 'loos', 'leav', 'new', 'growth', 'somewhat', 'quickli', 'afterward', 'review', 'tree', 'order', 'fukien', 'tea', 'tree', 'start', 'loos', 'leav', 'appear', 'distress', 'kept', 'water', 'gave', 'great', 'morn', 'afternoon', 'light', 'maintain', 'temp', 'around', 'degre', 'sever', 'week', 'tree', 'lost', 'almost', 'green', 'growth', 'expert', 'view', 'tree', 'gentleman', 'seem', 'think', 'soil', 'tree', 'plant', 'dens', 'didnt', 'allow', 'oxygen', 'reach', 'root', 'seem', 'think', 'gardenia', 'tree', 'fukien', 'tea', 'tree', 'didnt', 'think', 'transplant', 'tree', 'soon', 'receipt', 'would', 'help', 'sinc', 'tree', 'need', 'time', 'adjust', 'new', 'surround', 'also', 'mention', 'direct', 'came', 'tree', 'also', 'notic', 'fertil', 'bead', 'soil', 'might', 'also', 'might', 'ideal', 'tree', 'recommend', 'water', 'base', 'food', 'mix', 'water', 'given', 'tree', 'weekli', 'wonder', 'condit', 'done', 'tree', 'sinc', 'send', 'correct', 'first', 'error', 'wrong', 'tree', 'though', 'love', 'amazon', 'would', 'recommend', 'anyon', 'consid', 'purchas', 'bonsai', 'tree', 'select', 'one', 'local', 'sourc', 'local', 'bonsai', 'retail', 'interest', 'help', 'get', 'perfect', 'tree', 'vest', 'interest', 'success', 'brussel', 'much', 'good', 'bunch', 'flower', 'florist', 'still', 'expect', 'tree', 'live', 'year'], tags=[302]),\n",
       " TaggedDocument(words=['bought', 'one', 'trader', 'joe', 'tri', 'brand', 'especi', 'pictur', 'front', 'label', 'look', 'delish', 'tempt', 'get', 'home', 'tri', 'soup', 'thought', 'tast', 'aw', 'like', 'miso', 'soup', 'btw', 'didnt', 'cut', 'tast', 'bland', 'pictur', 'deceiv'], tags=[303]),\n",
       " TaggedDocument(words=['like', 'review', 'nasti', 'reaction', 'someth', 'gummi', 'go', 'assum', 'sweeten', 'ate', 'coupl', 'hand', 'cours', 'coupl', 'hour', 'shortli', 'wound', 'sever', 'intestin', 'distress', 'last', 'good', 'six', 'hour', 'bewar', 'gummi', 'reaction', 'altern', 'sweeten', 'much', 'enjoy', 'haribo', 'gummi', 'candi', 'buy', 'varieti', 'sugar', 'free', 'one'], tags=[304]),\n",
       " TaggedDocument(words=['buy', 'melita', 'buzzworthi', 'dark', 'roast', 'pod', 'two', 'year', 'quit', 'satisfi', 'recent', 'increas', 'diamet', 'pod', 'enabl', 'fit', 'machin', 'also', 'understand', 'thet', 'increas', 'diamet', 'pod', 'holder', 'new', 'machin', 'sell', 'time', 'melita', 'made', 'chang', 'believ', 'also', 'reduc', 'qualiti', 'coffe', 'new', 'pod', 'tast', 'nearli', 'good', 'accordingli', 'rate', 'old', 'pod', 'star', 'new', 'pod', 'deserv', 'star', 'sampl', 'pod', 'compani', 'find', 'good', 'dark', 'roast', 'coffe'], tags=[305]),\n",
       " TaggedDocument(words=['previous', 'purchas', 'chunk', 'version', 'product', 'forest', 'organ', 'pineappl', 'chunk', 'can', 'pack', 'sinc', 'love', 'pineappl', 'delici', 'chunk', 'nice', 'size', 'even', 'cat', 'kept', 'bother', 'ate', 'appar', 'like', 'sweet', 'saw', 'version', 'label', 'crush', 'pictur', 'basic', 'make', 'look', 'like', 'smaller', 'chunk', 'chunk', 'version', 'instead', 'like', 'aw', 'kind', 'sludg', 'mush', 'reason', 'come', 'differ', 'countri', 'crush', 'version', 'doesnt', 'tast', 'good', 'opinion', 'stay', 'away', 'crush', 'chunk', 'version', 'ive', 'also', 'order', 'mini', 'ring', 'varieti', 'see'], tags=[306]),\n",
       " TaggedDocument(words=['took', 'forev', 'get', 'cooki', 'paid', 'express', 'ship', 'got', 'product', 'week', 'later', 'never', 'order', 'compani'], tags=[307]),\n",
       " TaggedDocument(words=['dont', 'get', 'wrong', 'nut', 'job', 'think', 'stuff', 'give', 'cancer', 'due', 'lack', 'test', 'realli', 'mif', 'fact', 'splenda', 'plenti', 'carbohydr', 'gram', 'per', 'cup', 'get', 'away', 'set', 'serv', 'size', 'tsp', 'would', 'believ', 'product', 'less', 'one', 'gram', 'carbohydr', 'sweeten', 'sucralos', 'carbohydr', 'sinc', 'sweet', 'sugar', 'need', 'bulk', 'make', 'measur', 'like', 'sugar', 'maltodextrin', 'use', 'filler', 'carbohydr', 'could', 'realli', 'screw', 'somebodi', 'atkin', 'induct', 'phase', 'exampl', 'day', 'learn', 'made', 'splenda', 'didnt', 'know', 'quart', 'drink', 'find', 'somebodi', 'onlin', 'sell', 'liquid', 'sucralos', 'use', 'water', 'filler', 'still', 'truli', 'carb', 'look', 'forward', 'day', 'mcneil', 'nutrit', 'meet', 'demand', 'splenda', 'that'], tags=[308]),\n",
       " TaggedDocument(words=['read', 'review', 'walnut', 'amazon', 'com', 'also', 'order', 'one', 'packag', 'senior', 'like', 'order', 'packag', 'sent', 'friend', 'differ', 'citi', 'everyon', 'like', 'baklawa', 'howev', 'last', 'week', 'decid', 'order', 'packag', 'baklawa', 'baklava', 'pistachio', 'believ', 'bodi', 'like', 'would', 'think', 'stuff', 'good', 'stuff', 'made', 'pistachio', 'wastag', 'money', 'feel', 'sorri', 'spend', 'doller', 'poor', 'qualiti', 'product', 'without', 'tast', 'dont', 'know', 'pistachio', 'use', 'product', 'low', 'qualiti', 'problem'], tags=[309]),\n",
       " TaggedDocument(words=['ate', 'hummu', 'turn', 'stomach', 'think', 'mightv', 'hummu', 'tri', 'anoth', 'day', 'good', 'thought', 'theyd', 'great', 'altern', 'ritz', 'cracker', 'hard', 'weird', 'aftertas', 'yuck'], tags=[310]),\n",
       " TaggedDocument(words=['pretti', 'interest', 'arent', 'good', 'bought', 'road', 'trip', 'land', 'hotel', 'one', 'night', 'fast', 'food', 'place', 'close', 'ate', 'left', 'food', 'two', 'packag', 'daughter', 'gfcf', 'open', 'spit', 'sister', 'ate', 'gag', 'hungri', 'pretzel', 'crunch', 'tast', 'mayb', 'salt', 'flavor', 'wouldnt'], tags=[311]),\n",
       " TaggedDocument(words=['okay', 'didnt', 'like', 'werent', 'preslic', 'thick', 'heavi', 'daughter', 'like', 'novelti', 'eat', 'bun', 'finish', 'hotdog', 'itsself', 'tri', 'half', 'threw', 'rest', 'away', 'microwav', 'cook', 'first', 'troubl', 'worth', 'wish', 'theyd', 'make', 'recip', 'light', 'white', 'rice', 'bread', 'loaf', 'theyd', 'probabl', 'realli', 'good'], tags=[312]),\n",
       " TaggedDocument(words=['good', 'spici', 'limey', 'crunch', 'factor', 'realli', 'aw', 'felt', 'like', 'teeth', 'go', 'break', 'love', 'name', 'chip', 'aw', 'wound', 'throw', 'bag', 'away'], tags=[313]),\n",
       " TaggedDocument(words=['youv', 'ever', 'eaten', 'real', 'meat', 'current', 'meat', 'eater', 'tri', 'veggi', 'product', 'asid', 'stuff', 'doesnt', 'tast', 'like', 'chicken', 'forgiv', 'isnt', 'chicken', 'tast', 'like', 'cross', 'cardboard', 'box', 'dog', 'food', 'sort', 'brownish', 'color', 'terribl', 'textur', 'like', 'cook', 'chicken', 'there', 'bit', 'cook', 'someon', 'sculpt', 'patti', 'coat', 'fri', 'mine', 'aw', 'none', 'could', 'eat', 'end', 'go', 'dinner'], tags=[314]),\n",
       " TaggedDocument(words=['machin', 'great', 'unfortun', 'coffe', 'use', 'douw', 'egbert', 'pod', 'horribl', 'go', 'get', 'rid', 'machin', 'friend', 'brought', 'differ', 'pod', 'suggest', 'spend', 'littl', 'extra', 'money', 'buy', 'qualiti', 'pod', 'differ', 'markedli', 'differ', 'person', 'buy', 'mine', 'www', 'familyroast', 'com', 'cool', 'stori', 'lot', 'peopl', 'make', 'pod', 'fit', 'machin', 'worth', 'hope', 'help'], tags=[315]),\n",
       " TaggedDocument(words=['disappoint', 'someon', 'defin', 'light', 'roast', 'standard', 'roast', 'process'], tags=[316]),\n",
       " TaggedDocument(words=['kindof', 'bland', 'side', 'rather', 'spend', 'calori', 'elsewher', 'side', 'calori', 'total', 'fat', 'satur', 'sugar', 'fiber', 'sugar', 'alcohol', 'protein'], tags=[317]),\n",
       " TaggedDocument(words=['bar', 'let', 'comparison', 'chocol', 'raspberri', 'version', 'would', 'buy', 'densli', 'pack', 'calori', 'fat', 'satur', 'carb', 'sugar', 'bland', 'would', 'rather', 'spend', 'calori', 'elsewher', 'weird', 'aftertast'], tags=[318]),\n",
       " TaggedDocument(words=['bar', 'horribl', 'worst', 'tast', 'look', 'bar', 'kashi', 'make', 'would', 'suggest', 'buy', 'bar'], tags=[319]),\n",
       " TaggedDocument(words=['tri', 'chicken', 'flavor', 'hope', 'could', 'disguis', 'nasti', 'flavor', 'pill', 'vitamin', 'supplement', 'unfortun', 'cat', 'doesnt', 'swallow', 'chew', 'reveal', 'stuff', 'insid', 'cours', 'refus', 'eat', 'even', 'empti', 'theyr', 'simpli', 'larg', 'cat', 'tini', 'thing', 'weigh', 'ten', 'pound', 'swallow', 'easili', 'switch', 'gelcap', 'instead'], tags=[320]),\n",
       " TaggedDocument(words=['fun', 'put', 'candi', 'cart', 'cent', 'ship', 'handl'], tags=[321]),\n",
       " TaggedDocument(words=['machin', 'great', 'unfortun', 'coffe', 'use', 'douw', 'egbert', 'pod', 'horribl', 'go', 'get', 'rid', 'machin', 'friend', 'brought', 'differ', 'pod', 'suggest', 'spend', 'littl', 'extra', 'money', 'buy', 'qualiti', 'pod', 'differ', 'markedli', 'differ', 'person', 'buy', 'mine', 'www', 'familyroast', 'com', 'cool', 'stori', 'lot', 'peopl', 'make', 'pod', 'fit', 'machin', 'worth', 'hope', 'help'], tags=[322]),\n",
       " TaggedDocument(words=['specif', 'order', 'merrick', 'brand', 'flossi', 'vendor', 'sent', 'gener', 'flossi', 'clear', 'differ', 'weight', 'qualiti', 'dog', 'dosent', 'like', 'email', 'ask', 'substitut', 'name', 'brand', 'gener', 'receiv', 'respons', 'merrick', 'flossi', 'vendor', 'hot'], tags=[323]),\n",
       " TaggedDocument(words=['think', 'coconut', 'dark', 'chocol', 'could', 'ever', 'tast', 'bad', 'expect', 'mainli', 'ingredi', 'wrong', 'mostli', 'date', 'flavor', 'textur', 'sprinkl', 'coconut', 'thin', 'chocol', 'coat', 'tast', 'cashew', 'almond', 'mayb', 'folk', 'rate', 'bar', 'highli', 'acquir', 'tast', 'item'], tags=[324]),\n",
       " TaggedDocument(words=['cannot', 'rate', 'product', 'open', 'jar', 'problem', 'negoti', 'amazon', 'purchas', 'although', 'tri', 'get', 'sent', 'anoth', 'address', 'along', 'sever', 'item', 'end', 'come', 'instead', 'ship', 'killer', 'want', 'warn', 'read', 'email', 'amazon', 'send', 'care', 'thing', 'may', 'happen', 'next', 'time', 'ship', 'someth', 'address', 'next', 'time', 'buy', 'directli', 'merchant', 'instead', 'go', 'amazon', 'ship', 'killer', 'star', 'amazon', 'ship', 'page'], tags=[325]),\n",
       " TaggedDocument(words=['ive', 'hawaii', 'time', 'dirt', 'like', 'everywher', 'els', 'hyster', 'sell', 'food', 'enjoy', 'sucker'], tags=[326]),\n",
       " TaggedDocument(words=['soy', 'free', 'diet', 'product', 'contain', 'soy', 'natur', 'flavor', 'contain', 'soy', 'lecithin'], tags=[327]),\n",
       " TaggedDocument(words=['product', 'impart', 'horribl', 'bitter', 'tast', 'beverag', 'tri', 'powder', 'tast', 'bitter', 'also', 'tri', 'alon', 'order', 'isol', 'ensur', 'anoth', 'ingredi', 'beverag', 'interact', 'anoth', 'ingredi', 'caus', 'bitter', 'attempt', 'exchang', 'refund', 'ignor'], tags=[328]),\n",
       " TaggedDocument(words=['mani', 'unsual', 'type', 'cola', 'drink', 'enjoy', 'dont', 'like', 'certain', 'drink', 'least', 'abl', 'sampl', 'decid', 'dont', 'particularli', 'like', 'case', 'chinotto', 'drink', 'tast', 'aw', 'sort', 'made', 'gag', 'littl', 'tri', 'second', 'tast', 'best', 'decrib', 'would', 'like', 'drink', 'liquid', 'vegemit', 'never', 'brought', 'vegemit', 'later', 'life', 'abl', 'pick', 'truli', 'enjoy', 'tast', 'would', 'recommend', 'give', 'shot', 'store', 'pop', 'one', 'open', 'quick', 'sip', 'leav', 'shelf', 'run', 'away', 'quickli', 'advanc', 'palat'], tags=[329]),\n",
       " TaggedDocument(words=['enpti', 'notic', 'black', 'area', 'top', 'appear', 'corrod', 'cours', 'afraid', 'eat', 'fruit', 'threw', 'away', 'wait', 'respons', 'nativ', 'forest', 'ascertain', 'type', 'metal', 'harm', 'one', 'would', 'expect', 'went', 'effort', 'certifi', 'organ', 'would', 'use', 'safe', 'canning', 'post', 'addendum', 'respons'], tags=[330]),\n",
       " TaggedDocument(words=['although', 'like', 'consid', 'open', 'cultur', 'cuisin', 'found', 'spit', 'stuff', 'pay', 'intern', 'marketplac', 'signific', 'like', 'salti', 'stuff', 'love', 'licoric', 'plain', 'nasti', 'salti', 'terribl', 'flavor', 'went', 'nose', 'made', 'wonder', 'perhap', 'candi', 'tamper', 'manufactur', 'incorrectli', 'went', 'onlin', 'read', 'review', 'peopl', 'similar', 'experi', 'guess', 'one', 'acquir', 'tast', 'develop', 'earli', 'dutch', 'love', 'hate', 'candi'], tags=[331]),\n",
       " TaggedDocument(words=['okay', 'actual', 'half', 'product', 'isnt', 'bad', 'mild', 'beef', 'sausag', 'tasti', 'littl', 'pencil', 'greasi', 'chees', 'hand', 'like', 'pastel', 'crayon', 'magic', 'properti', 'stick', 'wax', 'powder', 'crumbl', 'misfortun', 'bite', 'realli', 'disgust', 'tast', 'littl', 'like', 'ear', 'wax'], tags=[332]),\n",
       " TaggedDocument(words=['made', 'season', 'purchas', 'base', 'upon', 'item', 'unfortun', 'receiv', 'season', 'quit', 'differ', 'pictur', 'explain', 'lawri', 'made', 'signific', 'chang', 'taco', 'season', 'better', 'number', 'month', 'ago', 'also', 'chang', 'packag', 'product', 'base', 'purchas', 'upon', 'pictur', 'season', 'old', 'tasti', 'season', 'yet', 'receiv', 'new', 'season', 'purchas', 'groceri', 'store', 'worth', 'send', 'back', 'your', 'look', 'good', 'stuff', 'avoid', 'one', 'final', 'think', 'go', 'tri', 'hand', 'make', 'taco', 'season'], tags=[333]),\n",
       " TaggedDocument(words=['see', 'differ', 'price', 'product', 'would', 'like', 'see', 'incent', 'buy', 'everyon', 'know', 'look', 'ditch', 'senseo', 'coffe', 'way', 'expens', 'keep', 'look', 'better', 'price', 'thank', 'ask', 'opinion', 'sincer', 'josephin', 'arroyo', 'coffe', 'good', 'expens'], tags=[334]),\n",
       " TaggedDocument(words=['salmon', 'would', 'appeal', 'like', 'strong', 'salti', 'tast', 'normal', 'tast', 'would', 'also', 'come', 'wood', 'fire', 'tast', 'smell', 'fish', 'combin', 'heavi', 'salt', 'light', 'smoke', 'come', 'packag', 'brine', 'briney', 'flavor', 'like', 'heavi', 'smoke', 'tast', 'convers', 'fresh', 'fish', 'tast', 'avoid', 'product', 'give', 'subject', 'star', 'peopl', 'might', 'like', 'found', 'salt', 'tast', 'obscur', 'els', 'left', 'distinct', 'salti', 'aftertast'], tags=[335]),\n",
       " TaggedDocument(words=['didnt', 'like', 'thick', 'flavor', 'compar', 'anoth', 'protein', 'powder', 'use', 'optimum', 'nutrit', 'gold', 'standard', 'vanilla', 'perhap', 'natur', 'meal', 'replac', 'sure', 'use', 'carri', 'mix', 'well', 'lump', 'mix', 'water', 'rather', 'requir', 'milk'], tags=[336]),\n",
       " TaggedDocument(words=['thoroughli', 'disappoint', 'condit', 'cooki', 'arriv', 'receiev', 'chocol', 'chunk', 'choc', 'chip', 'pecan', 'choc', 'chip', 'arriv', 'two', 'shipment', 'broken', 'choc', 'chip', 'cooki', 'surviv', 'amazon', 'think', 'pack', 'wasnt', 'suffici', 'might', 'help', 'mark', 'outer', 'box', 'fragil'], tags=[337]),\n",
       " TaggedDocument(words=['mani', 'calori', 'much', 'fat', 'tran', 'fat', 'much', 'protein', 'full', 'ingredi', 'list', 'sound', 'great', 'nutrit', 'info', 'suppli', 'much', 'puzzl', 'order', 'without', 'know'], tags=[338]),\n",
       " TaggedDocument(words=['gluten', 'free', 'famili', 'mani', 'year', 'enjoy', 'new', 'product', 'continulli', 'introduc', 'pretzel', 'nearli', 'good', 'one', 'food', 'small', 'size', 'bag', 'glutano', 'larger', 'famili', 'size', 'bag', 'wyld', 'pretzel', 'one', 'review', 'alreadi', 'comment', 'salti', 'enough', 'salti', 'enough', 'feel', 'qualifi', 'satisfi', 'pretzel', 'yearn', 'pretzel', 'also', 'much', 'harder', 'other', 'dont', 'find', 'appeal', 'said', 'would', 'highli', 'recommend', 'glutano', 'food', 'pretzel', 'rate', 'simpli', 'anoth', 'gluten', 'free', 'product'], tags=[339]),\n",
       " TaggedDocument(words=['buy', 'crunchi', 'product', 'hot', 'summer', 'month', 'heat', 'sensit', 'packag', 'state', 'store', 'cool', 'dri', 'area', 'two', 'case', 'purchas', 'arriv', 'chewi', 'clump', 'togeth', 'probabl', 'cook', 'ship', 'raw', 'food', 'nutriti', 'anymor', 'two', 'bag', 'bit', 'powder', 'fruit', 'clump', 'chuck', 'fruit', 'one', 'open', 'amazon', 'com', 'accept', 'groceri', 'return', 'wast'], tags=[340]),\n",
       " TaggedDocument(words=['pretzel', 'suppos', 'salti', 'tad', 'salti', 'also', 'burnt', 'flavor', 'could', 'say', 'distinct', 'smokey', 'flavor', 'bag', 'ahead', 'prospect', 'unsatisfi', 'pallett', 'mighti', 'tall', 'order', 'hand', 'subtl', 'sweet', 'flavor', 'good', 'ordinari', 'pretzel', 'tri', 'safeti', 'first', 'instead', 'buy', 'bag', 'also', 'note', 'groceri', 'item', 'cannot', 'return', 'amazon'], tags=[341]),\n",
       " TaggedDocument(words=['wonder', 'anyon', 'els', 'seen', 'thesaturday', 'night', 'live', 'sketch', 'convent', 'pirat', 'whose', 'discours', 'limit', 'thearrrgh', 'sound', 'product', 'tast', 'like', 'alfalfa', 'barley', 'juic', 'except', 'popcorn', 'textur', 'make', 'difficult', 'make', 'tast', 'away', 'simpli', 'hold', 'nose', 'health', 'benefit', 'veggi', 'inde', 'impart', 'flavor', 'bag', 'equal', 'gram', 'protein', 'plu', 'nearli', 'calori', 'veggi', 'contribut', 'percentag', 'product', 'repres', 'unless', 'notic', 'dramat', 'health', 'benefit', 'go', 'troubl', 'dispos', 'bag', 'even', 'though', 'amazon', 'limit', 'larg', 'quantiti', 'dont', 'order', 'bag', 'havent', 'first', 'tri', 'one', 'way', 'consum', 'stuff', 'wash', 'everi', 'bite', 'mouth', 'cold', 'coke', 'pick', 'compani', 'pirat', 'theme', 'coke', 'lace', 'lot', 'rum', 'unassist', 'complementari', 'beverag', 'afraid', 'booti', 'elicit', 'pirat', 'celebratori', 'arrrgh', 'plain', 'yuck', 'like'], tags=[342]),\n",
       " TaggedDocument(words=['think', 'follow', 'direct', 'perfectli', 'even', 'cook', 'noodl', 'longer', 'requir', 'left', 'chewi', 'rice', 'noodl', 'salti', 'weird', 'sauc', 'never', 'buy', 'thai', 'best', 'done', 'restaur', 'guess'], tags=[343]),\n",
       " TaggedDocument(words=['high', 'hope', 'product', 'disappoint', 'stale', 'salti', 'live', 'learn'], tags=[344]),\n",
       " TaggedDocument(words=['pretti', 'good', 'inexpens', 'steak', 'sauc', 'marinad', 'signific', 'acid', 'content', 'typic', 'vinegar', 'order', 'tender', 'break', 'meat', 'mix', 'doesnt', 'qualifi', 'leav', 'steak', 'float', 'stuff', 'day', 'tast', 'grill', 'let', 'soak', 'minut', 'fork'], tags=[345]),\n",
       " TaggedDocument(words=['hadnt', 'whatchamacallit', 'year', 'time', 'tasti', 'manufactur', 'chang', 'recip', 'longer', 'tast', 'peanut', 'butter', 'caramel', 'flavor', 'gone', 'cours', 'american', 'havent', 'access', 'real', 'chocol', 'flavor', 'year'], tags=[346]),\n",
       " TaggedDocument(words=['texa', 'pete', 'worst', 'first', 'made', 'north', 'carolina', 'serv', 'diner', 'carolina', 'like', 'ketchup', 'complement', 'well', 'doesnt', 'add', 'heat', 'scovil', 'unit', 'texa', 'pete', 'describ', 'hot', 'sauc', 'flavor', 'tomato', 'sauc', 'dont', 'way', 'find', 'stuff', 'aint', 'worth'], tags=[347]),\n",
       " TaggedDocument(words=['know', 'love', 'steak', 'sauc', 'marinad', 'aint', 'differ', 'steak', 'sauc', 'consist', 'marinad', 'real', 'marinad', 'high', 'acid', 'content', 'penetr', 'meat', 'sauc', 'might', 'tast', 'finish', 'product', 'cannot', 'marin', 'pork', 'chicken', 'stuff', 'well', 'mayb', 'let', 'soak', 'month', 'two', 'arent', 'lot', 'good', 'jerk', 'marinad', 'market', 'your', 'better', 'make'], tags=[348]),\n",
       " TaggedDocument(words=['eat', 'box', 'nabisco', 'anim', 'cracker', 'right', 'cooki', 'almost', 'like', 'graham', 'cracker', 'leav', 'funni', 'aftertast', 'mouth', 'would', 'get', 'time', 'find', 'milk'], tags=[349]),\n",
       " TaggedDocument(words=['one', 'upset', 'custom', 'use', 'love', 'energi', 'bar', 'best', 'market', 'would', 'sever', 'box', 'coupl', 'month', 'almost', 'imposs', 'find', 'great', 'tast', 'healthi', 'snack', 'bar', 'cal', 'last', 'order', 'big', 'surpris', 'jump', 'much', 'fat', 'compani', 'realli', 'think', 'twice', 'drastic', 'chang', 'without', 'truli', 'hope', 'back', 'origin', 'version', 'opinion', 'pleas', 'call', 'number', 'packag', 'let'], tags=[350]),\n",
       " TaggedDocument(words=['sent', 'mother', 'store', 'emerg', 'situat', 'said', 'tast', 'like', 'buttermilk', 'cook', 'drink'], tags=[351]),\n",
       " TaggedDocument(words=['tast', 'great', 'lot', 'fiber', 'lot', 'protein', 'stay', 'crunchi', 'way', 'bowl', 'stay', 'bit', 'crunchi', 'morn', 'found', 'piec', 'crunch', 'bowl', 'remov', 'right', 'away', 'unfortun', 'next', 'spoon', 'hard', 'cereal', 'tri', 'chew', 'tooth', 'broke', 'half', 'ouch', 'sorri', 'cereal', 'break', 'tooth', 'ever', 'unfortun', 'ate', 'bowl', 'everi', 'day', 'good', 'actual', 'like', 'need', 'teeth', 'year', 'eat', 'risk'], tags=[352]),\n",
       " TaggedDocument(words=['given', 'energi', 'bar', 'bad', 'name', 'cours', 'theyr', 'good', 'lot', 'thing', 'avail', 'good', 'tast', 'good', 'isnt', 'one'], tags=[353]),\n",
       " TaggedDocument(words=['think', 'mix', 'tast', 'good', 'prepar', 'quickli', 'liptun', 'cajun', 'rice', 'bean'], tags=[354]),\n",
       " TaggedDocument(words=['kid', 'like', 'bland', 'pasti', 'mac', 'chees', 'might', 'like', 'bought', 'case', 'donat', 'box', 'hungri', 'colleg', 'student', 'street', 'look', 'compani', 'web', 'complain', 'search', 'name', 'found', 'part', 'kraft', 'wonder', 'guy', 'make', 'cooki', 'howev', 'tast', 'pretti', 'good', 'mac'], tags=[355]),\n",
       " TaggedDocument(words=['bought', 'two', 'small', 'dog', 'day', 'act', 'refus', 'eat', 'can', 'dog', 'food', 'well', 'thing', 'differ', 'daili', 'schedul', 'petrodex', 'dental', 'chew', 'read', 'label', 'state', 'wash', 'hand', 'handl', 'someth', 'toxic', 'chew', 'must', 'wash', 'hand', 'handl', 'sure', 'want', 'dog', 'chew', 'eat', 'garbag', 'could', 'award', 'zero', 'star', 'would', 'go', 'stick', 'breath', 'brusher', 'made', 'zuke', 'pricier', 'worth'], tags=[356]),\n",
       " TaggedDocument(words=['yea', 'total', 'rip', 'buy', 'box', 'cent', 'peic', 'walmart'], tags=[357]),\n",
       " TaggedDocument(words=['doubt', 'tea', 'job', 'smell', 'aw', 'normal', 'dont', 'problem', 'eat', 'drink', 'mildli', 'offens', 'thing', 'avers', 'smell', 'tea', 'top', 'note', 'moldi', 'dank', 'earth', 'base', 'note', 'acrid', 'pepper', 'gone', 'bad', 'box', 'say', 'contain', 'delici', 'sasparilla', 'dont', 'tast', 'anyth', 'like', 'sasparilla', 'rootbeer', 'bear', 'smell', 'aftertast'], tags=[358]),\n",
       " TaggedDocument(words=['disgust', 'diet', 'product', 'ive', 'tri', 'love', 'marshmallow', 'dip', 'wasnt', 'even', 'close', 'tast', 'like', 'chemic', 'tast', 'like', 'your', 'eat', 'spun', 'plastic', 'make', 'actual', 'scare', 'eat', 'even', 'bother', 'eat', 'ill', 'stick', 'fat', 'free', 'whip', 'top', 'least', 'flavor'], tags=[359]),\n",
       " TaggedDocument(words=['reason', 'product', 'flavor', 'ad', 'pepper', 'lack', 'flavor', 'resembl', 'stroganoff', 'way', 'would', 'get', 'star', 'option'], tags=[360]),\n",
       " TaggedDocument(words=['serious', 'stuff', 'doesnt', 'tast', 'good', 'coke', 'rue', 'day', 'quizno', 'switch', 'coke', 'pepsi'], tags=[361]),\n",
       " TaggedDocument(words=['ship', 'time', 'excel', 'product', 'inferior', 'pan', 'made', 'thin', 'plastic', 'alreadi', 'crack', 'less', 'week'], tags=[362]),\n",
       " TaggedDocument(words=['tri', 'get', 'thing', 'buy', 'pop', 'corn', 'local', 'groceri', 'pop', 'pour', 'bowl', 'ad', 'milk', 'made', 'reluct', 'tri', 'kashi', 'product', 'dont', 'see', 'peopl', 'continu', 'pay', 'outrag', 'price', 'amount', 'popcorn', 'amazon', 'add', 'zero', 'star', 'rate'], tags=[363]),\n",
       " TaggedDocument(words=['compel', 'write', 'review', 'steer', 'peopl', 'away', 'overpr', 'lousi', 'tast', 'bar', 'someon', 'love', 'tast', 'green', 'food', 'take', 'green', 'vibranc', 'wheatgrass', 'everi', 'morn', 'bar', 'rather', 'vile', 'tast', 'complet', 'lack', 'textur', 'disintegr', 'glue', 'mouth', 'sure', 'ingredi', 'list', 'impress', 'tast', 'make', 'chore', 'eat', 'clear', 'tri', 'larabar', 'pure', 'bar', 'actual', 'tast', 'wonder', 'less', 'calori', 'maintain', 'vibrant', 'textur', 'start', 'finish', 'bar', 'bad', 'like', 'healthi', 'green', 'food', 'take', 'word'], tags=[364]),\n",
       " TaggedDocument(words=['make', 'sure', 'everyon', 'clear', 'view', 'buy', 'side', 'coin', 'studi', 'show', 'xylitol', 'also', 'caus', 'health', 'problem', 'headach', 'queasi', 'everi', 'time', 'consum', 'chew', 'someth', 'xylitol', 'cant', 'eat', 'rest', 'day', 'get', 'queasi'], tags=[365]),\n",
       " TaggedDocument(words=['ball', 'squeez', 'box', 'flatten', 'tast', 'peanutti', 'disappoint'], tags=[366]),\n",
       " TaggedDocument(words=['bought', 'concept', 'better', 'deliveri', 'fix', 'box', 'look', 'full', 'make', 'wonder', 'use', 'smaller', 'box', 'anyway', 'flavor', 'salt', 'littl', 'high'], tags=[367]),\n",
       " TaggedDocument(words=['dont', 'tast', 'like', 'regular', 'honey', 'graham', 'sure', 'got', 'defect', 'item', 'couldnt', 'stomach', 'tast', 'stale'], tags=[368]),\n",
       " TaggedDocument(words=['couldnt', 'believ', 'price', 'berri', 'theyr', 'third', 'size', 'ill', 'stick', 'buy', 'mine', 'local', 'asian', 'food', 'groceri', 'pound'], tags=[369]),\n",
       " TaggedDocument(words=['proceed', 'open', 'contain', 'pour', 'front', 'girlfriend', 'imagin', 'embarass', 'powed', 'say', 'even', 'plan', 'take', 'bath', 'water', 'tast', 'aw', 'lot', 'like', 'milk', 'fault', 'though', 'think', 'compani', 'nido', 'powder'], tags=[370]),\n",
       " TaggedDocument(words=['thrill', 'one', 'though', 'seem', 'growth', 'get', 'yellow', 'day', 'sure', 'surviv', 'ship', 'well', 'moist', 'got', 'one', 'bloom', 'left', 'drop', 'one', 'week', 'didnt', 'care', 'differ', 'jade', 'sit', 'right', 'next', 'counter', 'thing', 'seem', 'attract', 'bug', 'final', 'put', 'outsid', 'get', 'pretti', 'bad', 'think', 'still', 'aliv', 'sure', 'much', 'longer'], tags=[371]),\n",
       " TaggedDocument(words=['use', 'pest', 'control', 'product', 'cloth', 'moth', 'place', 'sever', 'around', 'hous', 'closet', 'ect', 'none', 'trap', 'caught', 'moth', 'yet', 'sever', 'week', 'sinc', 'put', 'hous', 'would', 'recommend', 'tri', 'one', 'box', 'see', 'work', 'unfortun', 'order', 'sever', 'box', 'hope', 'would', 'help', 'far', 'havent', 'caught', 'moth', 'yet', 'everi', 'coul', 'day', 'see', 'one', 'two', 'still', 'fli', 'around', 'hous'], tags=[372]),\n",
       " TaggedDocument(words=['happi', 'find', 'pepperidg', 'farm', 'stuf', 'ship', 'fast', 'open', 'box', 'discov', 'packag', 'stale', 'date', 'expir', 'month', 'ago', 'ye', 'doubl', 'check', 'date', 'threw', 'trash'], tags=[373]),\n",
       " TaggedDocument(words=['realli', 'want', 'like', 'buy', 'case', 'time', 'equal', 'serv', 'would', 'advis', 'ad', 'littl', 'bit', 'water', 'macaroni', 'came', 'microwav', 'dri', 'also', 'realli', 'like', 'add', 'extra', 'salt', 'food', 'youll', 'probabl', 'like', 'salti', 'tast'], tags=[374]),\n",
       " TaggedDocument(words=['order', 'box', 'regular', 'hone', 'box', 'well', 'got', 'regular', 'hone', 'fine', 'milk', 'one', 'came', 'week', 'later', 'got', 'anoth', 'box', 'regular', 'one', 'mistak', 'awfulthey', 'werent', 'store', 'right', 'chewey', 'honey', 'crystal'], tags=[375]),\n",
       " TaggedDocument(words=['least', 'toler', 'food', 'bar', 'bad', 'threw', 'away', 'disappoint'], tags=[376]),\n",
       " TaggedDocument(words=['previous', 'tast', 'pumpkin', 'seed', 'version', 'snack', 'good', 'went', 'ahead', 'order', 'walnut', 'version', 'walnut', 'suppos', 'healthi', 'turn', 'bitter', 'children', 'spit', 'bitter', 'first', 'bite', 'other', 'bitter', 'aftertast', 'inform', 'amazon', 'cannot', 'return', 'food', 'item', 'went', 'back', 'tri', 'seem', 'good', 'one', 'among', 'bad', 'part', 'bitter', 'tast'], tags=[377]),\n",
       " TaggedDocument(words=['thought', 'first', 'review', 'may', 'overexagger', 'one', 'realli', 'tast', 'bad', 'believ', 'way', 'come', 'close', 'enjoy', 'chees', 'part', 'store', 'box', 'entireti', 'humid', 'environ', 'chees', 'well', 'get', 'soft', 'horribl', 'simpli', 'discard', 'slim', 'jim', 'hand', 'may', 'tast', 'better', 'dip', 'someth', 'skinni', 'slim', 'jim', 'know', 'addict', 'one', 'dont', 'want', 'ruin', 'tast', 'bud', 'beef', 'horribl', 'chees', 'move'], tags=[378]),\n",
       " TaggedDocument(words=['item', 'receiv', 'pot', 'crack', 'two', 'place', 'rather', 'return', 'hope', 'next', 'one', 'patch', 'plan', 'iti', 'happi', 'shipment', 'broken', 'plant', 'beauti'], tags=[379]),\n",
       " TaggedDocument(words=['tri', 'product', 'mostli', 'save', 'calori', 'boy', 'get', 'educ', 'ate', 'hand', 'gummi', 'bear', 'blew', 'like', 'balloon', 'felt', 'pain', 'like', 'ive', 'rare', 'felt', 'bathroom', 'good', 'hour', 'honestli', 'consid', 'call', 'one', 'point', 'day', 'digest', 'system', 'could', 'handl', 'regular', 'food', 'found', 'sweeten', 'otherwis', 'known', 'lycasin', 'actual', 'kill', 'certain', 'lower', 'anim', 'given', 'one', 'plan', 'read', 'label', 'much', 'care', 'avoid', 'like', 'plagu'], tags=[380]),\n",
       " TaggedDocument(words=['turkish', 'delight', 'tast', 'good', 'sorri', 'rather', 'powder', 'donut', 'cream', 'fill'], tags=[381]),\n",
       " TaggedDocument(words=['must', 'typeo', 'expens', 'pod', 'coffe', 'ever'], tags=[382]),\n",
       " TaggedDocument(words=['unholi', 'combin', 'dri', 'apricot', 'inner', 'tube', 'fig', 'newton', 'avoid', 'cost', 'also', 'satisfact', 'polici', 'manufactur', 'instruct', 'explain', 'store', 'food', 'product', 'check', 'manufactur', 'websit', 'recommend', 'cherri', 'flavor', 'bar', 'tast', 'somewhat', 'like', 'cherri', 'pie'], tags=[383]),\n",
       " TaggedDocument(words=['receiv', 'order', 'box', 'tri', 'quit', 'smoke', 'sad', 'report', 'greatli', 'disappoipnt', 'toothppick', 'ahv', 'cinnamon', 'flavor', 'rememb', 'eat', 'kid', 'would', 'burn', 'mouth', 'dont', 'worri', 'went', 'line', 'order', 'cinnamon', 'oil', 'soak', 'tast'], tags=[384]),\n",
       " TaggedDocument(words=['love', 'kid', 'couldnt', 'wait', 'tri', 'wow', 'lousi', 'littl', 'flavor', 'remot', 'hot', 'even', 'tri', 'combin', 'multipl', 'pick', 'still', 'flavor', 'previou', 'review', 'note', 'splinter', 'wood', 'true', 'becar', 'spit', 'wood', 'part', 'joy', 'guess', 'dont', 'wast', 'money'], tags=[385]),\n",
       " TaggedDocument(words=['candi', 'delici', 'probabl', 'fresh', 'enjoy', 'thank'], tags=[386]),\n",
       " TaggedDocument(words=['found', 'frost', 'pretti', 'disgust', 'one', 'like', 'put', 'word', 'frost', 'disgust', 'sentenc', 'end', 'tast', 'mainli', 'like', 'butter', 'scrape', 'sink', 'stay', 'one', 'clump', 'wouldnt', 'even', 'rins', 'sink', 'easili', 'like', 'youd', 'expect', 'butter', 'even', 'like', 'tast', 'bunch', 'butter', 'cake', 'save', 'money', 'ingredi', 'mix', 'powder', 'sugar', 'vanilla', 'salt', 'buy', 'cheapli', 'still', 'add', 'butter', 'direct', 'call', 'stick', 'gross'], tags=[387]),\n",
       " TaggedDocument(words=['add', 'coconut', 'snack', 'bar', 'would', 'great', 'without', 'coconut', 'find', 'cant', 'return', 'stuck', 'want', 'let', 'know', 'ill', 'trade', 'decent', 'granola', 'bar'], tags=[388]),\n",
       " TaggedDocument(words=['dont', 'mind', 'pay', 'jar', 'buy', 'local', 'albertson', 'freight', 'plu', 'chang', 'make', 'product', 'expens', 'could', 'offset', 'freight', 'charg', 'jar', 'lower', 'price'], tags=[389]),\n",
       " TaggedDocument(words=['bought', 'flavor', 'bar', 'cant', 'tell', 'apart', 'tast', 'like', 'date', 'pretti', 'bad', 'cant', 'tell', 'spirulina', 'coconut'], tags=[390]),\n",
       " TaggedDocument(words=['got', 'food', 'ball', 'record', 'time', 'cat', 'smart', 'tri', 'plastic', 'soda', 'bottl', 'hole', 'punch', 'ball', 'easi', 'mensa', 'cat'], tags=[391]),\n",
       " TaggedDocument(words=['bought', 'want', 'energi', 'meal', 'bar', 'tast', 'good', 'love', 'malt', 'flavor', 'realli', 'excit', 'tri', 'there', 'light', 'hint', 'chocol', 'malt', 'flavor', 'wasnt', 'written', 'packag', 'wouldnt', 'thought', 'tast', 'like', 'malt', 'basic', 'realli', 'like', 'malt', 'doesnt', 'tast', 'like', 'upsid', 'littl', 'larger', 'energi', 'bar', 'fill', 'tast', 'pretti', 'bland', 'search', 'continu', 'think', 'go', 'tri', 'oat', 'fruit', 'bar', 'next'], tags=[392]),\n",
       " TaggedDocument(words=['ive', 'anni', 'shell', 'cheddar', 'theyr', 'usual', 'good', 'want', 'tri', 'whole', 'wheat', 'healthier', 'realli', 'worth', 'differ', 'textur', 'didnt', 'like', 'flavor', 'okay', 'littl', 'bland', 'want', 'good', 'mac', 'chees', 'stick', 'origin', 'version', 'anni'], tags=[393]),\n",
       " TaggedDocument(words=['littl', 'disappoint', 'gum', 'piec', 'indivud', 'chiclet', 'blister', 'pack', 'tini', 'expect', 'pop', 'least', 'flavour', 'blow', 'pretti', 'quickli', 'chew', 'trident', 'mini', 'stick', 'time', 'use', 'xylitol', 'sweeten', 'retain', 'consist', 'flavour', 'much', 'longer', 'xlichew', 'initi', 'flavour', 'xylichew', 'pretti', 'weak', 'compar', 'trident', 'like', 'wont', 'buy', 'xylichew'], tags=[394]),\n",
       " TaggedDocument(words=['would', 'pay', 'product', 'content', 'equal', 'roughli', 'box', 'type', 'cereal', 'way', 'even', 'cost', 'ad', 'convien', 'individu', 'bowl', 'still', 'worth', 'pack', 'dispos', 'bowl', 'run', 'sorri', 'doesnt', 'add', 'would', 'mayb', 'close', 'defint', 'shame', 'though', 'special', 'main', 'food', 'sourc', 'eaten', 'twice', 'daili', 'current', 'diet', 'ive', 'drop', 'week'], tags=[395]),\n",
       " TaggedDocument(words=['basicli', 'like', 'toastbread', 'sweeter', 'buy', 'money', 'worth'], tags=[396]),\n",
       " TaggedDocument(words=['oili', 'film', 'good', 'flavor', 'somewhat', 'thick', 'consist', 'made', 'question', 'whether', 'realli', 'raw', 'seem', 'manufactur', 'process', 'raw', 'food', 'ive'], tags=[397]),\n",
       " TaggedDocument(words=['hardli', 'eat', 'salt', 'leav', 'thirsti', 'bad', 'ingredi', 'list', 'read', 'liter', 'organ', 'sweet', 'corn', 'sea', 'salt', 'noth', 'els', 'need', 'make', 'organ', 'sweet', 'corn', 'noth', 'els', 'theyd', 'probabl', 'someth', 'realli', 'great', 'stuck', 'bag', 'salti', 'corn', 'ill', 'give', 'away'], tags=[398]),\n",
       " TaggedDocument(words=['dont', 'know', 'mess', 'coconut', 'chocol', 'amount', 'fat', 'calori', 'babi', 'tast', 'lot', 'better', 'your', 'realli', 'look', 'delici', 'raw', 'food', 'bar', 'prefer', 'larabar'], tags=[399]),\n",
       " TaggedDocument(words=['notic', 'jag', 'edg', 'bone', 'dog', 'mix', 'chew', 'hour', 'brought', 'bone', 'veterinarian', 'said', 'wouldnt', 'feed', 'stori'], tags=[400]),\n",
       " TaggedDocument(words=['bob', 'red', 'mill', 'roast', 'oregon', 'hazelnut', 'tast', 'stale', 'cook', 'qualiti', 'product', 'good', 'valu', 'money', 'dont', 'wast', 'money', 'item'], tags=[401]),\n",
       " TaggedDocument(words=['littl', 'disappoint', 'amazon', 'although', 'advertis', 'never', 'got', 'receiv', 'messag', 'delay', 'three', 'time', 'cancel', 'order', 'would', 'like', 'tri', 'usual', 'love', 'amazon', 'everyth', 'ship', 'absolut', 'wonder', 'case'], tags=[402]),\n",
       " TaggedDocument(words=['disappoint', 'product', 'much', 'prefer', 'tast', 'near', 'east', 'couscou', 'howev', 'wasnt', 'offer', 'amazon', 'place', 'order'], tags=[403]),\n",
       " TaggedDocument(words=['dog', 'ate', 'noth', 'food', 'month', 'gave', 'recommend', 'amount', 'everyth', 'didnt', 'lose', 'weight', 'gain', 'pound', 'worth', 'money', 'troubl', 'although', 'love', 'way', 'tast', 'smell', 'strong', 'salmon'], tags=[404]),\n",
       " TaggedDocument(words=['organ', 'product', 'mani', 'use', 'hemp', 'cant', 'someon', 'make', 'hemp', 'protein', 'powder', 'youd', 'want', 'drink', 'first', 'powder', 'green', 'second', 'tast', 'horribl', 'ad', 'differ', 'kind', 'juic', 'tri', 'get', 'best', 'flavor', 'result', 'less', 'week', 'longer', 'bring', 'drink', 'look', 'canist', 'make', 'nauseou', 'unless', 'stomach', 'gross', 'tast', 'gross', 'appear', 'strongli', 'suggest', 'differ', 'product'], tags=[405]),\n",
       " TaggedDocument(words=['bought', 'sauc', 'tonight', 'felt', 'like', 'linguin', 'alfredo', 'sale', 'open', 'jar', 'got', 'whiff', 'someth', 'complet', 'artifici', 'cant', 'even', 'properli', 'describ', 'like', 'plastic', 'thought', 'huh', 'mayb', 'need', 'garlic', 'could', 'smell', 'garlic', 'whatsoev', 'despit', 'roast', 'garlic', 'label', 'mix', 'half', 'tsp', 'minc', 'garlic', 'nope', 'still', 'smell', 'like', 'melt', 'plastic', 'heat', 'smell', 'wors', 'tast', 'tast', 'wors', 'smell', 'line', 'like', 'alfredo', 'dont', 'buy', 'youll', 'end', 'throw', 'dinner', 'jar', 'sauc', 'like'], tags=[406]),\n",
       " TaggedDocument(words=['recommend', 'tri', 'pirat', 'booti', 'decid', 'order', 'onlin', 'get', 'local', 'store', 'receiv', 'shipment', 'seem', 'fine', 'remov', 'bag', 'box', 'realiz', 'bag', 'seal', 'pirat', 'booti', 'go', 'place', 'basic', 'paid', 'someth', 'could', 'even', 'eat', 'refund', 'dissatif'], tags=[407]),\n",
       " TaggedDocument(words=['purchas', 'product', 'thought', 'would', 'good', 'quick', 'meal', 'idea', 'howev', 'sauc', 'sweet', 'provid', 'way', 'much', 'found', 'toler', 'use', 'half', 'sauc', 'packet', 'also', 'product', 'say', 'babi', 'corn', 'sauc', 'packet', 'case', 'bought', 'half', 'half', 'piec', 'babi', 'corn', 'product', 'would', 'probabl', 'much', 'better', 'add', 'veggi', 'chicken', 'someth', 'sort', 'defeat', 'purpos', 'quick', 'meal'], tags=[408]),\n",
       " TaggedDocument(words=['bought', 'pack', 'sampler', 'directli', 'stash', 'decaf', 'vanilla', 'chai', 'tea', 'glad', 'that', 'bought', 'real', 'vanilla', 'strong', 'note', 'chemic', 'artifici', 'flavor', 'tri', 'tea', 'chill', 'milk', 'sugar', 'qualiti', 'brew', 'potpourri', 'sure', 'could', 'like', 'tea', 'much', 'better', 'tea', 'stash', 'organ', 'black', 'green', 'chai', 'tea', 'green', 'chai', 'tea', 'compani', 'least', 'tri', 'sampl', 'pack', 'buy', 'bag'], tags=[409]),\n",
       " TaggedDocument(words=['say', 'realli', 'want', 'like', 'muffin', 'could', 'realli', 'bitter', 'tast', 'whether', 'attribut', 'gluten', 'free', 'natur', 'product', 'know', 'hodgson', 'mill', 'blueberri', 'muffin', 'mix', 'far', 'better', 'choic', 'posit', 'note', 'rais', 'nice', 'unfortun', 'find', 'bare', 'edibl', 'five', 'box', 'mix', 'left'], tags=[410]),\n",
       " TaggedDocument(words=['bar', 'tast', 'good', 'sourish', 'tast', 'also', 'long', 'last', 'bitter', 'aftertast', 'tast', 'good'], tags=[411]),\n",
       " TaggedDocument(words=['ive', 'bought', 'gum', 'sever', 'time', 'good', 'tast', 'littl', 'aftertast', 'noth', 'bad', 'gave', 'two', 'star', 'didnt', 'feel', 'like', 'coffe', 'high', 'doesnt', 'even', 'come', 'close', 'coffe', 'tast', 'good', 'though', 'cant', 'hurt', 'tri', 'review', 'gum', 'anyway', 'bore'], tags=[412]),\n",
       " TaggedDocument(words=['good', 'wish', 'come', 'bigger', 'packag'], tags=[413]),\n",
       " TaggedDocument(words=['apal', 'see', 'someth', 'contain', 'tran', 'fat', 'bill', 'well', 'product', 'anyth', 'contain', 'partial', 'hydrogen', 'oil', 'bad'], tags=[414]),\n",
       " TaggedDocument(words=['vet', 'gave', 'littl', 'goodi', 'bad', 'full', 'vet', 'recommend', 'treat', 'first', 'puppi', 'visit', 'list', 'outsid', 'bag', 'state', 'name', 'item', 'bag', 'mani', 'item', 'oral', 'hygien', 'chew', 'one', 'goodi', 'bag', 'mayb', 'differ', 'flavor', 'regular'], tags=[415]),\n",
       " TaggedDocument(words=['error', 'made', 'initi', 'order', 'seller', 'concern', 'custom', 'satisfact', 'made', 'quick', 'correct', 'good', 'product', 'buy'], tags=[416]),\n",
       " TaggedDocument(words=['pound', 'cat', 'solid', 'month', 'kept', 'strict', 'diet', 'amount', 'recommend', 'size', 'actual', 'reduc', 'bit', 'measur', 'measur', 'cup', 'daili', 'didnt', 'even', 'lose', 'ounc'], tags=[417]),\n",
       " TaggedDocument(words=['far', 'worst', 'tast', 'cereal', 'weve', 'ever', 'raisin', 'fine', 'flake', 'leav', 'horribl', 'tast', 'mouth', 'sort', 'cross', 'fake', 'bacon', 'bit', 'cardboard', 'entir', 'famili', 'complain', 'even', 'year', 'old', 'eat', 'anyth', 'push', 'bowl', 'away', 'one', 'bite', 'bought', 'type', 'cereal', 'mill', 'wasnt', 'good', 'either', 'definit', 'worst'], tags=[418]),\n",
       " TaggedDocument(words=['unfortun', 'peopl', 'ill', 'inform', 'vegan', 'cat', 'includ', 'veterinarian', 'cat', 'fact', 'oblig', 'carnivor', 'howev', 'domest', 'hous', 'cat', 'bring', 'home', 'effect', 'remov', 'cat', 'natur', 'prey', 'mice', 'insect', 'bird', 'lizard', 'small', 'creatur', 'past', 'year', 'human', 'food', 'industri', 'search', 'way', 'salvag', 'use', 'wast', 'materi', 'process', 'line', 'came', 'upon', 'wonder', 'solut', 'let', 'boil', 'dri', 'add', 'food', 'make', 'cat', 'dog', 'result', 'vast', 'major', 'commerci', 'pet', 'food', 'contain', 'euphemist', 'refer', 'four', 'dead', 'die', 'disabl', 'diseas', 'anim', 'along', 'quit', 'undesir', 'materi', 'quit', 'frankli', 'feed', 'junk', 'pet', 'effect', 'poison', 'see', 'diseas', 'pet', 'today', 'never', 'seen', 'wide', 'varieti', 'contamin', 'ingredi', 'find', 'way', 'food', 'feed', 'companion', 'anim', 'know', 'garbag', 'garbag', 'issu', 'provid', 'essenti', 'amino', 'acid', 'build', 'block', 'protein', 'vitamin', 'miner', 'particularli', 'uniqu', 'physiolog', 'felid', 'cat', 'qualiti', 'quantiti', 'avail', 'nutrient', 'come', 'sourc', 'vegan', 'best', 'sourc', 'veget', 'base', 'thousand', 'perhap', 'hundr', 'thousand', 'cat', 'around', 'world', 'live', 'quit', 'well', 'one', 'sever', 'avail', 'vegan', 'cat', 'food', 'recogn', 'nutrit', 'complet', 'person', 'year', 'experi', 'feed', 'evolut', 'kibbl', 'product', 'review', 'address', 'high', 'qualiti', 'product', 'aafco', 'certifi', 'nutrit', 'complet', 'life', 'stage', 'cat', 'product', 'safe', 'feed', 'cat', 'follow', 'recommend', 'feed', 'procedur', 'find', 'mani', 'benefit', 'cat', 'health', 'wallet', 'desir', 'detail', 'inform', 'invit', 'googl', 'search', 'vegan', 'cat', 'would', 'put', 'web', 'page', 'inform', 'issu', 'review', 'polici', 'write', 'review', 'amazon', 'everyon', 'edif', 'research', 'issu', 'well', 'hour', 'read', 'hundr', 'technic', 'paper', 'visit', 'hundr', 'web', 'site', 'made', 'commit', 'special', 'felin', 'nutrit', 'part', 'veterinari', 'technician', 'studi', 'probabl', 'know', 'felin', 'nutrit', 'vet', 'world', 'felin', 'son', 'vegan', 'remain', 'absolut', 'certain', 'qualiti', 'life', 'enhanc', 'diet', 'choic', 'detriment', 'health', 'write', 'review', 'chang', 'posit', 'particular', 'product', 'year', 'person', 'experi', 'manufactur', 'evolut', 'food', 'chang', 'formul', 'food', 'regular', 'basi', 'time', 'found', 'felin', 'kibbl', 'abl', 'maintain', 'level', 'urin', 'cat', 'promis', 'label', 'literatur', 'least', 'wasnt', 'case', 'former', 'felin', 'son', 'current', 'felin', 'son', 'result', 'longer', 'recommend', 'use', 'evolut', 'felin', 'kibbl', 'male', 'cat', 'sinc', 'urinari', 'issu', 'differ', 'male', 'femal', 'cat', 'evolut', 'kibbl', 'may', 'satisfactori', 'feed', 'femal', 'cat', 'nutrit', 'evolut', 'food', 'seem', 'fine', 'nutrient', 'necessarili', 'adequ', 'maintain', 'proper', 'level', 'avoid', 'urinari', 'issu', 'male', 'cat', 'recommend', 'male', 'cat', 'use', 'vegecat', 'diet', 'provid', 'harbing', 'new', 'age', 'son', 'eat', 'food', 'supplement', 'special', 'prepar', 'gluten', 'formul', 'creat', 'call', 'vegan', 'felin', 'roast', 'protein', 'fat', 'carb', 'moistur', 'content', 'almost', 'perfect', 'combin', 'ingredi', 'mimic', 'natur', 'prey', 'son', 'find', 'product', 'palat', 'urinari', 'consist', 'three', 'year', 'produc', 'consum', 'food', 'drawback', 'take', 'half', 'hour', 'everi', 'day', 'make', 'food', 'cost', 'equival', 'premium', 'cat', 'food', 'hand', 'son', 'trim', 'full', 'energi', 'year', 'enjoy', 'great', 'health', 'longer', 'urinari', 'tract', 'issu', 'anim', 'die', 'order', 'provid', 'son', 'nutrit', 'still', 'consid', 'feed', 'evolut', 'kibbl', 'pleas', 'heed', 'warn', 'kibbl', 'moistur', 'content', 'follow', 'direct', 'given', 'manufactur', 'soak', 'kibbl', 'prior', 'feed', 'end', 'mushi', 'materi', 'cat', 'may', 'may', 'like', 'danger', 'feed', 'dri', 'kibbl', 'cat', 'eventu', 'becom', 'dehydr', 'amount', 'drink', 'suffici', 'avoid', 'hydrat', 'relat', 'ill', 'cat', 'natur', 'drink', 'water', 'almost', 'exclus', 'obtain', 'hydrat', 'food', 'consum', 'eat', 'someth', 'moistur', 'upon', 'consumpt', 'moistur', 'contain', 'within', 'digest', 'tract', 'cat', 'suck', 'food', 'order', 'give', 'enough', 'fluiditi', 'pass', 'intestin', 'often', 'lead', 'diseas', 'cat', 'constantli', 'drink', 'water', 'make', 'defici', 'amount', 'drink', 'enough', 'avoid', 'dehydr', 'problem', 'pleas', 'rememb', 'best', 'sourc', 'moistur', 'cat', 'health', 'come', 'wet', 'food', 'diet', 'around', 'moistur', 'octob', 'wrote', 'articl', 'vegan', 'cat', 'publish', 'vegfamili', 'magazin', 'inform', 'help', 'interest', 'vegan', 'diet', 'cat', 'understand', 'issu', 'vegan', 'felin', 'son', 'year', 'old', 'still', 'maintain', 'extrem', 'healthi', 'life', 'absolut', 'issu', 'kind', 'use', 'vegan', 'felin', 'roast', 'product', 'past', 'year', 'lab', 'test', 'indic', 'nutrit', 'need', 'adequ', 'met', 'vegan', 'diet', 'sceptic', 'vegan', 'diet', 'hous', 'cat', 'ampl', 'evid', 'sever', 'vegan', 'product', 'avail', 'satisfi', 'nutrit', 'need', 'cat', 'still', 'convinc', 'evolut', 'good', 'product', 'feed', 'base', 'past', 'histori', 'thousand', 'custom', 'seem', 'success', 'feed', 'evolut', 'howev', 'believ', 'vegan', 'felin', 'roast', 'mix', 'superior', 'product', 'yield', 'far', 'better', 'result', 'lifetim', 'feed', 'hous', 'cat', 'product', 'base', 'vegecat', 'phi', 'supplement', 'offer', 'hoana', 'found', 'excel', 'product', 'hit', 'miss', 'nutrit', 'element', 'would', 'otherwis', 'come', 'meat', 'vegecat', 'product', 'line', 'success', 'feed', 'thousand', 'cat', 'year', 'period', 'highli', 'recommend', 'use', 'vegecat', 'peopl', 'wish', 'formul', 'vegan', 'cat', 'food', 'differ', 'food', 'product', 'hoana', 'vegecat', 'product', 'product', 'mix', 'specif', 'formul', 'high', 'protein', 'high', 'fat', 'food', 'easi', 'make', 'highli', 'palat', 'vast', 'major', 'cat', 'would', 'caution', 'peopl', 'feed', 'evolut', 'kibbl', 'reconsid', 'problem', 'kibbl', 'gener', 'evolut', 'product', 'moistur', 'content', 'food', 'cat', 'eat', 'kibbl', 'exclus', 'invari', 'becom', 'dehydr', 'abl', 'consum', 'enough', 'water', 'drink', 'avoid', 'condit', 'evolut', 'kibbl', 'soak', 'water', 'prior', 'feed', 'recommend', 'manufactur', 'attempt', 'avoid', 'issu', 'howev', 'soak', 'product', 'reduc', 'palat', 'qualiti', 'cat', 'make', 'harder', 'continu', 'want', 'eat', 'product', 'strategi', 'fix', 'problem', 'inher', 'product', 'time', 'goe', 'becom', 'convinc', 'use', 'vegan', 'felin', 'roast', 'product', 'may', 'fact', 'cure', 'diseas', 'cat', 'like', 'flutd', 'diabet', 'point', 'time', 'would', 'like', 'perform', 'long', 'term', 'doubl', 'blind', 'scientif', 'signific', 'studi', 'support', 'empir', 'observ', 'son', 'start', 'year', 'ago', 'eat', 'evolut', 'kibbl', 'quickli', 'develop', 'flutd', 'condit', 'month', 'use', 'cost', 'vet', 'fix', 'last', 'year', 'eat', 'noth', 'vegan', 'felin', 'roast', 'remain', 'flutd', 'free', 'maintain', 'excel', 'health', 'save', 'alon', 'avoid', 'annual', 'teeth', 'clean', 'paid', 'use', 'product', 'bottom', 'line', 'recommend', 'use', 'evolut', 'kibbl', 'favor', 'either', 'hoana', 'vegecat', 'supplement', 'vegan', 'felin', 'roast', 'mix'], tags=[419]),\n",
       " TaggedDocument(words=['bought', 'got', 'first', 'cat', 'didnt', 'know', 'better', 'shed', 'like', 'crazi', 'someon', 'told', 'meow', 'mix', 'poor', 'qualiti', 'grade', 'food', 'switch', 'iam', 'stop', 'shed', 'almost', 'overnight', 'never', 'back', 'meow', 'mix'], tags=[420]),\n",
       " TaggedDocument(words=['didnt', 'like', 'jerki', 'read', 'review', 'decid', 'tri', 'howev', 'bag', 'receiv', 'soft', 'sweet', 'realiz', 'call', 'sweet', 'spici', 'wasnt', 'spici', 'sweet', 'overpow', 'prefer', 'dryer', 'jerki', 'also', 'soft', 'could', 'bite', 'right', 'use', 'jerki', 'tougher', 'know', 'ill', 'never', 'purchas', 'brand'], tags=[421]),\n",
       " TaggedDocument(words=['one', 'star', 'isnt', 'product', 'price', 'ive', 'use', 'melitta', 'coffe', 'javapod', 'year', 'love', 'howev', 'usual', 'buy', 'box', 'come'], tags=[422]),\n",
       " TaggedDocument(words=['gopher', 'trap', 'design', 'poorli', 'gopher', 'bought', 'trap', 'onlin', 'problem', 'part', 'come', 'trap', 'kill', 'gopher', 'get', 'stuck', 'dirt', 'set', 'trap', 'sure', 'didnt', 'dig', 'far', 'enough', 'problem', 'gopher', 'issu', 'solv', 'product'], tags=[423]),\n",
       " TaggedDocument(words=['tast', 'bad', 'return', 'use', 'one', 'pkg', 'cant', 'return', 'wont', 'buy', 'bulk', 'pleas', 'call'], tags=[424]),\n",
       " TaggedDocument(words=['second', 'flavor', 'last', 'outsid', 'strawberri', 'flavor', 'gum', 'mix', 'lime', 'liquid', 'center', 'pretti', 'enjoy', 'downhil', 'sinc', 'chew', 'fruit', 'strip', 'gum', 'child', 'rememb', 'gum', 'lose', 'flavor', 'quickli', 'mayb', 'get', 'minut', 'flavor', 'like', 'chew', 'rubber', 'packag', 'anoth', 'annoy', 'foil', 'blister', 'pack', 'cardboard', 'sleev', 'contain', 'nine', 'piec', 'gum', 'wast', 'packag', 'consid', 'whole', 'thing', 'could', 'put', 'packag', 'made', 'mistak', 'buy', 'pack', 'must', 'singl', 'pack', 'enough', 'turn'], tags=[425]),\n",
       " TaggedDocument(words=['order', 'babi', 'formula', 'wait', 'month', 'unaccept', 'amazon', 'problem', 'get', 'adequ', 'suppli', 'custom', 'mayb', 'offer'], tags=[426]),\n",
       " TaggedDocument(words=['get', 'order', 'case', 'got', 'licoric', 'salt', 'type', 'order'], tags=[427]),\n",
       " TaggedDocument(words=['tasti', 'mean', 'tast', 'like', 'sawdust', 'layer', 'chocol', 'horrid', 'rather', 'head', 'local', 'beach', 'stick', 'fistful', 'sand', 'mouth', 'ever', 'eat', 'thing', 'first', 'chew', 'arent', 'bad', 'soon', 'chocol', 'wear', 'realli', 'like', 'your', 'eat', 'sawdust', 'tast', 'horrid', 'textur', 'terribl', 'ever', 'think', 'tast', 'better', 'rice', 'crispi', 'treat', 'realli', 'need', 'back', 'eat', 'much', 'better', 'rice', 'crispi', 'treat', 'dont'], tags=[428]),\n",
       " TaggedDocument(words=['return', 'item', 'repres', 'websit', 'incorrectli', 'look', 'origin', 'beef', 'recip', 'new', 'one', 'delight', 'found', 'amazon', 'version', 'shown', 'avail', 'cat', 'health', 'problem', 'requir', 'specif', 'food', 'compar', 'ingredi', 'label', 'detail', 'match', 'place', 'order', 'care', 'receiv', 'cat', 'food', 'new', 'recip', 'want', 'appar', 'old', 'recip', 'avail', 'anymor', 'item', 'remov', 'websit'], tags=[429]),\n",
       " TaggedDocument(words=['haribo', 'make', 'wide', 'rang', 'candi', 'includ', 'world', 'class', 'goodi', 'one', 'frog', 'made', 'hard', 'gummi', 'green', 'except', 'thin', 'white', 'layer', 'frog', 'belli', 'might', 'recogn', 'frog', 'unless', 'your', 'told', 'discern', 'tast', 'textur', 'differ', 'white', 'green', 'substanc', 'case', 'flavor', 'unidentifi', 'unidentifi', 'good', 'definit', 'lime', 'advertis', 'mayb', 'somebodi', 'like', 'stuff', 'didnt', 'set', 'bag', 'offic', 'first', 'sampl'], tags=[430]),\n",
       " TaggedDocument(words=['order', 'arriv', 'late', 'cooki', 'fresh', 'stale', 'regret', 'place', 'order', 'definit', 'order', 'dont', 'recommend', 'purchas', 'cooki', 'find', 'live', 'local'], tags=[431]),\n",
       " TaggedDocument(words=['product', 'fine', 'descript', 'mislead', 'packag', 'contain', 'count', 'filter', 'pack', 'would', 'think', 'descript', 'price', 'reduct', 'ship', 'weight', 'lb', 'one', 'box', 'filter', 'youll', 'pay', 'fedex', 'bring', 'one', 'box', 'submit', 'feedback', 'issu', 'partial', 'refund', 'product', 'descript', 'still', 'need', 'correct', 'least', 'custom', 'servic', 'respons'], tags=[432]),\n",
       " TaggedDocument(words=['stay', 'away', 'great', 'american', 'spice', 'compani', 'dont', 'answer', 'number', 'local', 'number', 'email', 'investig', 'state', 'attorney', 'gener', 'ship', 'item', 'settl', 'dont', 'care', 'custom', 'ask', 'buy'], tags=[433]),\n",
       " TaggedDocument(words=['trick', 'review', 'ive', 'tri', 'sweet', 'hot', 'terribl', 'probabl', 'worst', 'tast', 'beef', 'jerki', 'ive', 'ever', 'decid', 'tri', 'someth', 'new', 'time', 'around', 'mistak'], tags=[434]),\n",
       " TaggedDocument(words=['receiv', 'sampl', 'pack', 'sent', 'amazon', 'groceri', 'say', 'found', 'tast', 'horribl', 'textur', 'remind', 'lighter', 'crumblier', 'mellow', 'mint', 'like', 'mellow', 'mint', 'might', 'wrong', 'name', 'see', 'often', 'wrap', 'green', 'silver', 'wrapper', 'sound', 'familiar'], tags=[435]),\n",
       " TaggedDocument(words=['found', 'coconut', 'greasi', 'coconut', 'natur', 'high', 'fat', 'content', 'bar', 'greasi', 'go', 'tri', 'keep', 'fridg', 'doubt', 'great', 'go', 'tri', 'give', 'away', 'friend', 'end', 'recommend', 'buy', 'flavor'], tags=[436]),\n",
       " TaggedDocument(words=['jerki', 'sound', 'pretti', 'promis', 'great', 'price', 'use', 'qualiti', 'beef', 'chemic', 'got', 'howev', 'underwhelm', 'flavor', 'sweet', 'spici', 'enough', 'also', 'got', 'done', 'chew', 'bunch', 'would', 'wad', 'unchew', 'fatti', 'junk', 'mouth', 'spit', 'use', 'qualiti', 'beef', 'growth', 'hormon', 'chemic', 'lot', 'good', 'second', 'ingredi', 'make', 'way', 'sweet', 'healthi', 'could', 'cut', 'littl', 'fatti', 'would', 'definit', 'buy', 'flavor', 'would', 'probabl', 'keep', 'look', 'consid', 'anoth', 'bag', 'golden', 'valley', 'jerki'], tags=[437]),\n",
       " TaggedDocument(words=['enjoy', 'mani', 'year', 'look', 'forward', 'case', 'ship', 'reciev', 'yesterday', 'tore', 'one', 'find', 'whole', 'box', 'old', 'spoil', 'one', 'dog', 'wouldnt', 'even', 'eat', 'pleas', 'take', 'warn', 'order', 'product', 'came', 'line', 'find', 'return', 'product', 'tell', 'guess', 'product', 'anyon', 'tell', 'short', 'contact', 'slimjim', 'way', 'get', 'refund', 'first', 'last', 'time', 'order', 'food', 'amazon', 'glad', 'didnt', 'order'], tags=[438]),\n",
       " TaggedDocument(words=['havent', 'purchas', 'product', 'want', 'post', 'mislead', 'tartar', 'salt', 'tartar', 'acid', 'cream', 'tartar', 'use', 'bake', 'tri', 'make', 'mascarpon', 'chees', 'need', 'tartar', 'acid'], tags=[439]),\n",
       " TaggedDocument(words=['ive', 'eat', 'candi', 'corn', 'life', 'tell', 'lot', 'compani', 'packag', 'littl', 'yellow', 'red', 'white', 'candi', 'one', 'candi', 'worthi', 'call', 'candi', 'corn', 'that', 'brach', 'varieti', 'other', 'poser', 'wannab', 'amazon', 'give', 'good', 'stuff'], tags=[440]),\n",
       " TaggedDocument(words=['hope', 'gluten', 'free', 'item', 'flavor', 'nutriti', 'tasti', 'snack', 'found', 'dri', 'dust', 'mouth', 'burnt', 'cheesi', 'flavor', 'like', 'could', 'send', 'back', 'would'], tags=[441]),\n",
       " TaggedDocument(words=['peach', 'favorit', 'fruit', 'wonder', 'experi', 'tomato', 'product', 'look', 'forward', 'tri', 'expect', 'someth', 'like', 'concentr', 'flavor', 'peach', 'tasti', 'crunchi', 'packag', 'expect', 'met', 'packag', 'crunchi', 'usual', 'littl', 'cube', 'tough', 'bite', 'littl', 'bit', 'cube', 'stuck', 'teeth', 'cube', 'bare', 'sweet', 'discern', 'tast', 'peach', 'initi', 'hand', 'one', 'famili', 'would', 'near', 'thing', 'end', 'throw', 'remain', 'cube', 'batch', 'cupcak', 'batter', 'figur', 'might', 'add', 'bit', 'extra', 'nutrit', 'even', 'better', 'chocol', 'cupcak', 'mild', 'tast', 'peach', 'way', 'would', 'buy', 'subtl', 'cupcak', 'flavor', 'ill', 'eat', 'strawberri', 'blueberri', 'leav', 'peach', 'find', 'nice', 'home', 'someon', 'els'], tags=[442]),\n",
       " TaggedDocument(words=['read', 'review', 'item', 'immedi', 'order', 'box', 'disappoint', 'although', 'isnt', 'bad', 'item', 'lack', 'flavor'], tags=[443]),\n",
       " TaggedDocument(words=['bought', 'gift', 'famili', 'turn', 'make', 'everybodi', 'disappoint', 'fish', 'look', 'pale', 'tast', 'odd', 'also', 'fell', 'apart', 'easili', 'final', 'could', 'eat', 'lot', 'thousand', 'island', 'dress', 'dont', 'even', 'tri'], tags=[444]),\n",
       " TaggedDocument(words=['believ', 'product', 'name', 'descript', 'mini', 'length', 'worth', 'cent', 'piec'], tags=[445]),\n",
       " TaggedDocument(words=['love', 'nana', 'cooki', 'bar', 'cooki', 'thought', 'give', 'tri', 'even', 'though', 'gluten', 'made', 'rice', 'flour', 'instead', 'wheat', 'flour', 'look', 'nice', 'textur', 'bit', 'strang', 'kind', 'like', 'eat', 'realli', 'fine', 'sand', 'dri', 'crumbl', 'slightest', 'touch', 'dont', 'tast', 'bad', 'plu', 'wont', 'buy'], tags=[446]),\n",
       " TaggedDocument(words=['bought', 'product', 'allergi', 'allert', 'forgot', 'mention', 'manufactur', 'facil', 'nut', 'might', 'contain', 'egg', 'person', 'peanut', 'egg', 'allergi', 'home', 'end', 'call', 'rescu', 'two', 'bite', 'can', 'open', 'melt', 'broken'], tags=[447]),\n",
       " TaggedDocument(words=['good', 'aroma', 'good', 'mouth', 'feel', 'tast', 'flavorless', 'like', 'crunchi', 'lump', 'flour', 'might', 'help', 'put', 'ginger'], tags=[448]),\n",
       " TaggedDocument(words=['yuk', 'way', 'overli', 'tender', 'tini', 'piec', 'jerki', 'dust', 'recommend', 'jerki', 'anyon', 'still', 'teeth'], tags=[449]),\n",
       " TaggedDocument(words=['calif', 'compani', 'manag', 'use', 'san', 'marzano', 'name', 'brand', 'name', 'way', 'shape', 'form', 'actual', 'san', 'marzano', 'tomato', 'overpr', 'horribl', 'buy', 'brand', 'look', 'real', 'san', 'marzano', 'tomato', 'progresso', 'tomato', 'better', 'price', 'peopl', 'asham'], tags=[450]),\n",
       " TaggedDocument(words=['love', 'black', 'licoric', 'differ', 'tast', 'good', 'way', 'salti', 'like', 'anchovi', 'fact', 'seem', 'bit', 'fishi'], tags=[451]),\n",
       " TaggedDocument(words=['excitedli', 'bought', 'sauc', 'realiz', 'california', 'compani', 'pose', 'italian', 'export', 'real', 'san', 'marzano', 'tomato', 'product', 'simpli', 'aw', 'paid', 'dollar', 'jar', 'sauc', 'better', 'ragu', 'usual', 'make', 'sauc', 'sinc', 'thought', 'buy', 'someth', 'made', 'actual', 'san', 'marzano', 'tomoato', 'decid', 'tri', 'time', 'bought', 'can', 'tomato', 'cant', 'get', 'real', 'thing', 'bella', 'real', 'italian', 'brand', 'stick', 'wth', 'progresso'], tags=[452]),\n",
       " TaggedDocument(words=['snack', 'disgust', 'inde', 'total', 'burnt', 'mention', 'thin', 'end', 'pulver', 'crumb', 'bag', 'instead', 'thick', 'simpli', 'salt', 'bagel', 'toast', 'use', 'littl', 'wafer', 'could', 'withstand', 'crappiest', 'dip', 'let', 'alon', 'cream', 'knife', 'wouldnt', 'buy'], tags=[453]),\n",
       " TaggedDocument(words=['plant', 'look', 'like', 'shave', 'look', 'like', 'pictur', 'qualiti', 'purchas', 'bonsai', 'vendor', 'look', 'great', 'trim', 'dead', 'leav', 'look', 'good', 'shape', 'plant', 'bad', 'day', 'leav', 'start', 'fall'], tags=[454]),\n",
       " TaggedDocument(words=['cut', 'sprite', 'zero', 'water', 'sprite', 'zero', 'prefer', 'strong', 'super', 'limey', 'acid', 'better', 'finest', 'call', 'carb', 'consciou', 'sugar', 'alcohol', 'make', 'feel', 'kinda', 'sick', 'better', 'tast'], tags=[455]),\n",
       " TaggedDocument(words=['look', 'mild', 'ginger', 'flavor', 'snap', 'howev', 'enjoy', 'strong', 'ginger', 'tast', 'give', 'tri'], tags=[456]),\n",
       " TaggedDocument(words=['chip', 'packag', 'open', 'must', 'pass', 'smell', 'test', 'didnt', 'order', 'case', 'bag', 'assum', 'would', 'ship', 'factori', 'pack', 'box', 'repackag', 'amazon', 'box', 'design', 'ten', 'bag', 'case', 'consist', 'bag', 'problem', 'packer', 'squeez', 'two', 'extra', 'bag', 'imagin', 'potato', 'chip', 'bag', 'whole', 'chip', 'bag', 'chip', 'piec', 'eaten', 'spoon'], tags=[457]),\n",
       " TaggedDocument(words=['order', 'stuff', 'veganessenti', 'year', 'ago', 'psych', 'vegan', 'jerki', 'blech', 'tast', 'like', 'oversp', 'cardboard', 'didnt', 'anyth', 'common', 'meat', 'jerki', 'recommend', 'primal', 'strip', 'brand', 'right', 'tast', 'textur', 'beef', 'jerki'], tags=[458]),\n",
       " TaggedDocument(words=['quit', 'bad', 'expect', 'strawberri', 'delight', 'flavor', 'frost', 'suffer', 'look', 'unnatur', 'pink', 'color', 'dy', 'wheat', 'biscuit', 'way', 'make', 'wholli', 'unappet', 'otherwis', 'offer', 'sweeten', 'tast', 'bare', 'remind', 'real', 'strawberri', 'least', 'point', 'wonder', 'point', 'variat', 'kellogg', 'one', 'serv', 'equal', 'calori', 'five', 'fat', 'good', 'news', 'measur', 'sodium', 'cholesterol', 'cereal', 'would', 'think', 'ad', 'real', 'strawberri', 'even', 'dri', 'berri', 'variat', 'would', 'prefer', 'cereal', 'think', 'ill', 'leav', 'pass'], tags=[459]),\n",
       " TaggedDocument(words=['indian', 'american', 'friend', 'get', 'free', 'whole', 'powder', 'egg', 'gov', 'commod', 'program', 'often', 'made', 'yummi', 'flavorful', 'egg', 'sandwich', 'scrambl', 'egg', 'decid', 'buy', 'honeyvil', 'tri', 'disappoint', 'scrambl', 'egg', 'dont', 'know', 'bake', 'flavor', 'stick', 'hard', 'oil', 'stainless', 'fri', 'pan', 'fri', 'like', 'pancak', 'med', 'low', 'work', 'better', 'mix', 'canola', 'oil', 'per', 'egg', 'like', 'waffl', 'egg', 'mix', 'cup', 'water', 'cup', 'mix', 'say', 'runni', 'mess', 'mayb', 'bake', 'shelf', 'life', 'store', 'unus', 'mix', 'freezer'], tags=[460]),\n",
       " TaggedDocument(words=['wait', 'month', 'saw', 'cloth', 'moth', 'fli', 'closet', 'pathet', 'product', 'never', 'attract', 'even', 'one', 'moth', 'disappoint', 'realli', 'upset', 'wast', 'money', 'time'], tags=[461]),\n",
       " TaggedDocument(words=['partial', 'hydrogen', 'fructos', 'corn', 'noth', 'healthi'], tags=[462]),\n",
       " TaggedDocument(words=['disgust', 'tender', 'beef', 'jerki', 'that', 'oxymoron', 'papaya', 'tender', 'destroy', 'tough', 'come', 'love', 'crave', 'beef', 'jerki', 'textur', 'doggi', 'treat', 'thank'], tags=[463]),\n",
       " TaggedDocument(words=['realli', 'disappoint', 'beand', 'market', 'kid', 'iron', 'vitamin', 'childhood', 'obes', 'epidem', 'proport', 'would', 'anyon', 'feed', 'children', 'empti', 'calori', 'like', 'give', 'coke', 'pepsi', 'breakfast', 'organ', 'coke', 'still', 'coke', 'sad', 'heard', 'great', 'thing', 'brand', 'realli', 'like', 'endang', 'speci', 'think', 'target', 'consum', 'children'], tags=[464]),\n",
       " TaggedDocument(words=['also', 'use', 'silver', 'version', 'discontinu', 'last', 'spring', 'contact', 'hershey', 'see', 'chang', 'differ', 'said', 'improv', 'give', 'richer', 'intens', 'flavor', 'suggest', 'back', 'draw', 'board', 'better', 'yet', 'back', 'silver', 'make', 'one', 'best', 'devil', 'food', 'cake', 'around', 'rich', 'chocol', 'moist', 'etc', 'even', 'freez', 'chocol', 'pie', 'enjoy', 'dri', 'lack', 'flavor', 'ice', 'well', 'great', 'dissapoint', 'doesnt', 'rate', 'one', 'star'], tags=[465]),\n",
       " TaggedDocument(words=['slim', 'jim', 'may', 'tast', 'that', 'greasi', 'that', 'help', 'flavor', 'cant', 'figur', 'anyon', 'would', 'like', 'cant', 'seem', 'chew', 'point', 'feel', 'comfort', 'swallow', 'like', 'eat', 'realli', 'realli', 'tough', 'piec', 'gristl', 'meat', 'amount', 'fat', 'cholesterol', 'etc', 'also', 'higher', 'beef', 'jerki', 'rather', 'eat', 'beef', 'jerki', 'stuff', 'least', 'chew', 'beef', 'jerki'], tags=[466]),\n",
       " TaggedDocument(words=['price', 'per', 'work', 'higher', 'cv', 'walgreen', 'store', 'sell', 'dollar', 'guy', 'ask', 'dollar', 'mean', 'around', 'dollar'], tags=[467]),\n",
       " TaggedDocument(words=['cereal', 'extrem', 'crunchi', 'tend', 'form', 'huge', 'lump', 'unsuit', 'eat', 'sweeten', 'cardboard', 'alway', 'come', 'mind', 'tri', 'describ', 'tast', 'extrem', 'low', 'calori', 'compar', 'cereal', 'granola', 'found', 'practic', 'ined'], tags=[468]),\n",
       " TaggedDocument(words=['shame', 'merrick', 'introduc', 'can', 'cat', 'food', 'truli', 'filler', 'excess', 'liver', 'bone', 'cartlidg', 'cheap', 'grind', 'swim', 'typic', 'major', 'cat', 'food', 'produc', 'minimum', 'grain', 'lot', 'turkey', 'addit', 'obviou', 'nutriti', 'veggi', 'berri', 'merrick', 'truli', 'king', 'howev', 'continu', 'buy', 'time', 'notic', 'distinct', 'degrad', 'qualiti', 'usual', 'buy', 'directli', 'compani', 'websit', 'address', 'issu', 'day', 'found', 'chunk', 'obviou', 'poulti', 'vertabra', 'cartlidg', 'larg', 'vertabra', 'ground', 'particular', 'lot', 'alreadi', 'seen', 'qualiti', 'food', 'go', 'downhil', 'addit', 'bone', 'cartlidg', 'upset', 'gave', 'benefit', 'doubt', 'wrote', 'inform', 'perhap', 'accid', 'happen', 'cold', 'uncar', 'want', 'remain', 'can', 'send', 'photograph', 'food', 'bone', 'cartlig', 'matter', 'can', 'lot', 'number', 'clearli', 'stamp', 'admit', 'blew', 'stack', 'attitud', 'last', 'straw', 'receiv', 'final', 'lot', 'unfortun', 'order', 'discoveri', 'liter', 'garbag', 'previou', 'lot', 'result', 'new', 'came', 'pour', 'can', 'brown', 'mass', 'gravi', 'visibl', 'piec', 'turkey', 'mass', 'liver', 'cheap', 'ground', 'poultri', 'hard', 'brittl', 'finger', 'merrick', 'inform', 'problem', 'qualiti', 'control', 'custom', 'awar', 'lot', 'differ', 'dramat', 'glad', 'kept', 'presev', 'can', 'bone', 'photograph', 'proof', 'want', 'pay', 'premium', 'price', 'kind', 'crap', 'throw', 'away', 'garbag', 'everi', 'day', 'mean', 'buy', 'merrick', 'take', 'chanc', 'feast', 'famin', 'compani', 'clearli', 'taken', 'advantag', 'fact', 'consum', 'realli', 'dont', 'bother', 'look', 'cat', 'food', 'shame', 'feed', 'cat', 'kitten', 'bone', 'cartlidg', 'merrick', 'blow'], tags=[469]),\n",
       " TaggedDocument(words=['think', 'amazon', 'right', 'track', 'offer', 'groceri', 'think', 'need', 'stick', 'major', 'brand', 'work', 'bit', 'make', 'price', 'competit', 'still', 'quit', 'bit', 'safeway', 'mention', 'expect', 'pay', 'littl', 'conveni', 'quit', 'much', 'rice', 'crispi', 'littl', 'differ', 'expect', 'dont', 'quit', 'understand', 'make', 'buy', 'quantiti', 'packag', 'pre', 'packag', 'expect', 'get', 'four', 'box', 'somehow', 'stuck', 'togeth', 'band', 'togeth', 'eas', 'ship', 'cost', 'quit', 'surpris', 'get', 'cereal', 'one', 'two', 'box', 'cereal', 'ship', 'box', 'go', 'ship', 'wouldnt', 'better', 'let', 'buy', 'smaller', 'quantiti', 'increas', 'overal', 'sale'], tags=[470]),\n",
       " TaggedDocument(words=['obvious', 'look', 'review', 'peopl', 'think', 'stuff', 'either', 'realli', 'good', 'realli', 'bad', 'think', 'accord', 'tast', 'expect', 'price', 'order', 'packet', 'two', 'differ', 'web', 'site', 'tast', 'like', 'frosti', 'rich', 'shake', 'order', 'drive', 'thru', 'window', 'wouldnt', 'pay', 'price', 'found', 'recip', 'serendip', 'restaur', 'make', 'frozen', 'hot', 'chocol', 'ad', 'tini', 'bit', 'real', 'chocol', 'bit', 'milk', 'cocoa', 'ice', 'blender', 'feel', 'recip', 'tast', 'much', 'like', 'oprah', 'said', 'good', 'equival', 'restaur', 'actual', 'serv', 'want', 'expens', 'milkshak', 'would', 'tri', 'recip', 'use', 'real', 'chocol', 'stay', 'away', 'drive', 'thru', 'milkshak', 'mix'], tags=[471]),\n",
       " TaggedDocument(words=['ive', 'gluten', 'free', 'diet', 'four', 'month', 'mayb', 'palat', 'yet', 'becom', 'accustom', 'thing', 'tast', 'horrid', 'worst', 'part', 'amazon', 'left', 'stuck', 'six', 'loav', 'put', 'squirrel', 'sure', 'theyd', 'eat', 'your', 'expect', 'someth', 'tast', 'anyth', 'like', 'bread', 'your', 'shock'], tags=[472]),\n",
       " TaggedDocument(words=['receiv', 'bonsai', 'day', 'promis', 'howev', 'tree', 'inch', 'tall', 'inch', 'state', 'pot', 'inch', 'round', 'bowl', 'inch', 'rectangular', 'glaze', 'pot', 'state', 'disappoint', 'never', 'buy', 'tree', 'seller'], tags=[473]),\n",
       " TaggedDocument(words=['buy', 'post', 'kellogg', 'stay', 'away', 'one', 'realli', 'leav', 'bad', 'tast', 'mouth', 'raisin', 'kid', 'peopl', 'like', 'ceral', 'dont', 'care', 'health', 'virtual', 'ined', 'threw', 'away', 'entir', 'order', 'good', 'way', 'anyon', 'say', 'review', 'isnt', 'help', 'buy', 'cereal', 'definit', 'live', 'regret', 'decis', 'tell', 'cardboard', 'tast', 'better', 'cereal'], tags=[474]),\n",
       " TaggedDocument(words=['food', 'use', 'hydrogen', 'oil', 'come', 'defibril', 'tran', 'fat', 'cooki', 'might', 'tast', 'cant', 'worth', 'clog', 'arteri'], tags=[475]),\n",
       " TaggedDocument(words=['review', 'dvd', 'thu', 'far', 'septemb', 'releas', 'know', 'dvd', 'collect', 'one', 'disappoint', 'without', 'go', 'minut', 'detail', 'make', 'film', 'classic', 'score', 'hilari', 'comedi', 'burton', 'twist', 'brilliant', 'qualiti', 'film', 'transfer', 'dvd', 'almost', 'crimin', 'probabl', 'wouldnt', 'notic', 'televis', 'screen', 'smaller', 'inch', 'larger', 'screen', 'pictur', 'becom', 'soft', 'graini', 'devoid', 'detail', 'utterli', 'perplex', 'given', 'movi', 'shot', 'late', 'first', 'thought', 'sprang', 'mind', 'watch', 'almost', 'immedi', 'remind', 'time', 'elementari', 'school', 'switch', 'video', 'transfer', 'reminisc', 'old', 'batter', 'film', 'reel', 'vcr', 'seen', 'better', 'film', 'transfer', 'video', 'tape', 'addit', 'extra', 'well', 'extra', 'sever', 'paragraph', 'product', 'note', 'basic', 'brief', 'overview', 'danni', 'elfman', 'tim', 'burton', 'noth', 'couldnt', 'gleam', 'wikipedia', 'three', 'minut', 'asid', 'pay', 'sam', 'club', 'old', 'axiom', 'get', 'pay', 'truer', 'expect', 'much', 'your', 'beetlejuic', 'fan', 'wait', 'inevit', 'criterion', 'collect', 'special', 'edit', 'remast'], tags=[476]),\n",
       " TaggedDocument(words=['high', 'hope', 'product', 'total', 'ineffect', 'fact', 'two', 'dog', 'wouldnt', 'near', 'pun', 'intend'], tags=[477]),\n",
       " TaggedDocument(words=['order', 'product', 'expect', 'least', 'pound', 'candi', 'inform', 'bag', 'tell', 'amount', 'get', 'near', 'pound', 'jelli', 'bean', 'separ', 'wrap', 'make', 'look', 'like', 'get', 'tast', 'good', 'probabl', 'use', 'jelli', 'belli', 'jelli', 'belli', 'flavor', 'medium', 'best', 'would', 'buy', 'product'], tags=[478]),\n",
       " TaggedDocument(words=['photo', 'cake', 'look', 'good', 'happi', 'send', 'choco', 'cake', 'someon', 'realli', 'far', 'away', 'call', 'store', 'make', 'sure', 'deliv', 'item', 'time', 'week', 'kept', 'check', 'deliveri', 'track', 'concern', 'might', 'arriv', 'time', 'arriv', 'time', 'fact', 'didnt', 'arriv', 'disappoint', 'end', 'send', 'gift', 'card'], tags=[479]),\n",
       " TaggedDocument(words=['parmeson', 'crisp', 'thought', 'would', 'similar', 'tast', 'burnt', 'hard', 'swallow', 'even', 'thourough', 'chew', 'tasti'], tags=[480]),\n",
       " TaggedDocument(words=['wont', 'order', 'pleas', 'order', 'someth', 'said', 'sustain', 'agricultur', 'good', 'half', 'can', 'dent', 'afraid', 'eat', 'unless', 'cook', 'cannot', 'use', 'salad', 'quarter', 'near', 'tell', 'tini', 'bit', 'lot', 'tough', 'outer', 'leav', 'can', 'ive', 'use', 'far', 'full', 'extrem', 'mushi', 'teeni', 'artichok', 'piec', 'wish', 'even', 'one', 'good', 'thing', 'say', 'dont', 'ive', 'throw', 'half', 'everi', 'ive', 'tri', 'use', 'far'], tags=[481]),\n",
       " TaggedDocument(words=['first', 'review', 'ever', 'written', 'amazon', 'wish', 'read', 'review', 'toss', 'commod', 'terribl', 'tase', 'thing', 'ever', 'put', 'mouth', 'textur', 'gritti', 'tast', 'except', 'excess', 'salt', 'chees', 'love', 'made', 'tast', 'bad', 'thing', 'good', 'smell', 'smell', 'like', 'butter', 'tast', 'like', 'one', 'hand', 'rest', 'flush', 'definit', 'check', 'review', 'buy', 'food', 'product', 'line'], tags=[482]),\n",
       " TaggedDocument(words=['took', 'decad', 'diet', 'variou', 'plan', 'four', 'success', 'hope', 'success', 'way', 'lost', 'lb', 'month', 'go', 'strong', 'lost', 'gradual', 'within', 'recommend', 'weight', 'loss', 'recommend', 'lb', 'week', 'didnt', 'starv', 'stop', 'social', 'life', 'diet', 'decre', 'definit', 'wasnt', 'tutelag', 'one', 'diet', 'done', 'alreadi', 'realiz', 'must', 'exercis', 'daili', 'must', 'mind', 'calori', 'must', 'eat', 'meal', 'snack', 'everi', 'day', 'type', 'nutrient', 'matter', 'omega', 'fat', 'thermogen', 'herb', 'antioxid', 'etc', 'greatest', 'myth', 'bust', 'form', 'perfection', 'candi', 'bar', 'doesnt', 'mean', 'big', 'failur', 'start', 'might', 'well', 'next', 'week', 'bing', 'meantim', 'diet', 'perfectionist', 'focu', 'one', 'aspect', 'healthi', 'eat', 'run', 'fit', 'mental', 'typic', 'delud', 'american', 'that', 'atkin', 'diet', 'illustr', 'worst', 'concept', 'howev', 'diet', 'arent', 'bad', 'extract', 'jewel', 'knowledg', 'regimen', 'atkin', 'taught', 'watch', 'carb', 'fear', 'protein', 'although', 'doesnt', 'mean', 'eat', 'bacon', 'fat', 'flush', 'teach', 'differ', 'good', 'bad', 'fat', 'thermogen', 'herb', 'rais', 'metabol', 'basic', 'understand', 'glycem', 'index', 'thurmond', 'teach', 'combin', 'food', 'work', 'lose', 'weight', 'power', 'eat', 'mani', 'small', 'meal', 'throughout', 'day', 'anoth', 'great', 'exampl', 'focus', 'diet', 'jewel', 'omega', 'fat', 'dietari', 'sweeten', 'increas', 'appetit', 'studi', 'correl', 'artifici', 'sweeten', 'weight', 'gain', 'high', 'glycem', 'index', 'count', 'natur', 'organ', 'kosher', 'that', 'great', 'focu', 'aspect', 'still', 'howev', 'popular', 'diet', 'becom', 'weight', 'watcher', 'jenni', 'craig', 'like', 'never', 'ignor', 'one', 'irrefut', 'truth', 'calori', 'take', 'determin', 'weight', 'immedi', 'futur', 'high', 'fat', 'percentag', 'calori', 'still', 'consid', 'fat', 'calori', 'health', 'bar', 'healthi', 'would', 'reward', 'good', 'workout', 'first', 'review', 'rate', 'low', 'pad', 'suspect', 'go', 'one', 'review', 'talk', 'low', 'calori', 'total', 'fals', 'two', 'review', 'talk', 'healthi', 'sound', 'close', 'infomerci', 'focus', 'one', 'aspect', 'ignor', 'anoth', 'suspicion', 'aris', 'two', 'review', 'rate', 'bar', 'star', 'freakin', 'time', 'word', 'must', 'mention', 'excess', 'calori', 'fat', 'bar', 'els', 'someon', 'go', 'insuffici', 'inform', 'eat', 'one', 'everi', 'day', 'sedentari', 'lifestyl', 'compar', 'bar', 'snicker', 'may', 'differ', 'perspect', 'label', 'healthi', 'bia', 'point', 'beyond', 'cant', 'focu', 'one', 'system', 'idea', 'health', 'nutrit', 'weight', 'loss', 'much', 'larger', 'much', 'demand', 'concept', 'natur', 'effect', 'bodi', 'sustain', 'develop', 'habit', 'balanc', 'life', 'knowledg', 'keep', 'head', 'deftli', 'cut', 'corner', 'increas', 'metabol', 'burn', 'maximum', 'calori', 'myth', 'bust', 'make', 'smart', 'choic', 'know', 'choic', 'first', 'choos', 'one', 'path', 'cant', 'choos', 'anoth', 'sacrific', 'may', 'particular', 'bodi', 'requir', 'healthi', 'lose', 'weight', 'wont', 'find', 'real', 'diet', 'wont', 'find', 'sugar', 'tast', 'exactli', 'like', 'sugar', 'one', 'path', 'lead', 'one', 'place', 'path', 'lead', 'anoth', 'note', 'differ', 'realist', 'health', 'chang', 'make', 'overnight', 'happen', 'head', 'bodi'], tags=[483]),\n",
       " TaggedDocument(words=['see', 'price', 'reduc', 'less', 'price', 'correctli', 'made', 'mistak', 'order', 'can', 'brand', 'longer', 'shown', 'think', 'must', 'someth', 'special', 'wasnt', 'fact', 'brand', 'sell', 'glass', 'jar', 'local', 'groceri', 'obvious', 'amazon', 'figur', 'price', 'way', 'line', 'guess', 'someon', 'snooker', 'buyer', 'unfortun', 'wast'], tags=[484]),\n",
       " TaggedDocument(words=['junk', 'food', 'cat', 'must', 'eat', 'meat', 'food', 'contain', 'taurin', 'essenti', 'vitamin', 'cat', 'cant', 'obtain', 'veget', 'sourc', 'cat', 'eat', 'food', 'face', 'horribl', 'death', 'vitamin', 'defici', 'possibl', 'includ', 'blind', 'first', 'feed', 'cat', 'cheapest', 'store', 'brand', 'give', 'stuff'], tags=[485]),\n",
       " TaggedDocument(words=['bug', 'tea', 'bag', 'arent', 'organ', 'bug', 'find', 'garden', 'plant', 'veggi', 'bug', 'dig', 'expir', 'produc', 'bug', 'bag', 'want', 'protein', 'boost', 'relax', 'bed', 'product', 'buy', 'also', 'tea', 'bag', 'arent', 'made', 'organdi', 'sort', 'plastic', 'polyest', 'burnt', 'bag', 'melt', 'turn', 'black', 'glu', 'onto', 'horribl', 'uneth', 'compani'], tags=[486]),\n",
       " TaggedDocument(words=['orderd', 'gift', 'embarrass', 'food', 'item', 'way', 'past', 'exper', 'date', 'also', 'cooki', 'smash', 'soggi', 'disappoint', 'humili', 'given', 'gift', 'poor', 'qualiti', 'surpris', 'amazon', 'includ', 'site', 'far', 'heard', 'back', 'compani', 'intend'], tags=[487]),\n",
       " TaggedDocument(words=['recent', 'end', 'tri', 'senseo', 'system', 'tri', 'douw', 'egbert', 'medium', 'roast', 'pod', 'normal', 'drink', 'toddi', 'coffe', 'even', 'though', 'sensit', 'bitter', 'acid', 'level', 'coffe', 'drink', 'dairi', 'sugar', 'immedi', 'need', 'quit', 'bit', 'sugar', 'start', 'drink', 'half', 'usual', 'amount', 'coffe', 'bitter', 'almost', 'couldnt', 'drink', 'acid', 'made', 'stomach', 'hurt', 'caffein', 'got', 'shake', 'first', 'time', 'problem', 'idea', 'result', 'senseo', 'process', 'toddi', 'method', 'result', 'less', 'bitter', 'less', 'acid', 'less', 'caffein', 'coffe', 'normal', 'coffe', 'brand', 'order', 'ecopad', 'refil', 'pod', 'pack', 'inexpens', 'tri', 'coffe', 'use', 'toddi', 'tast', 'slightli', 'weak', 'howev', 'enough', 'realiz', 'main', 'problem', 'douw', 'egbert', 'coffe', 'realli', 'love', 'harsher', 'starbuck', 'type', 'coffe', 'dont', 'think', 'youll', 'enjoy', 'acid', 'stomach', 'problem', 'dont', 'like', 'bitter', 'coffe', 'recommend', 'use', 'medium', 'roast', 'coffe', 'pod', 'senseo'], tags=[488]),\n",
       " TaggedDocument(words=['use', 'problem', 'one', 'day', 'impuls', 'decid', 'give', 'target', 'archer', 'farm', 'brand', 'coffe', 'pod', 'tri', 'breakfast', 'blend', 'aka', 'medium', 'roast', 'cost', 'less', 'bigger', 'individu', 'wrap', 'produc', 'much', 'smoother', 'coffe', 'cant', 'drink', 'douw', 'egbert', 'anymor', 'hook', 'archer', 'farm'], tags=[489]),\n",
       " TaggedDocument(words=['ive', 'use', 'silver', 'dutch', 'cocoa', 'year', 'alway', 'love', 'special', 'dark', 'version', 'darker', 'tast', 'nearli', 'good', 'silver', 'varieti', 'make', 'two', 'batch', 'chocol', 'ice', 'enough', 'silver', 'cocoa', 'one', 'use', 'new', 'stuff', 'second', 'batch', 'color', 'complet', 'differ', 'special', 'dark', 'version', 'almost', 'black', 'didnt', 'tast', 'nearli', 'good', 'mix', 'two', 'batch', 'togeth', 'cake', 'didnt', 'look', 'bad', 'think', 'peopl', 'area', 'arent', 'impress', 'special', 'dark', 'version', 'ive', 'notic', 'longer', 'avail', 'local', 'groceri', 'store'], tags=[490]),\n",
       " TaggedDocument(words=['okay', 'prefer', 'target', 'archer', 'farm', 'brand', 'coffe', 'pod', 'much', 'cost', 'less', 'bigger', 'individu', 'wrap', 'produc', 'much', 'smoother', 'coffe', 'real', 'vanilla', 'flavor'], tags=[491]),\n",
       " TaggedDocument(words=['open', 'box', 'hope', 'great', 'dissappoint', 'tast', 'like', 'fat', 'rancid', 'open', 'anoth', 'box', 'see', 'mayb', 'got', 'bad', 'box', 'aw', 'dog', 'wont', 'even', 'eat'], tags=[492]),\n",
       " TaggedDocument(words=['bought', 'two', 'jar', 'blood', 'orang', 'marmalad', 'base', 'great', 'review', 'howev', 'marmalad', 'tast', 'great', 'fact', 'one', 'better', 'blood', 'orang', 'marmalad', 'market', 'jar', 'small', 'plu', 'per', 'jar', 'see', 'jar', 'small', 'order', 'tast', 'marmalad', 'realli', 'good', 'good', 'tast', 'citru', 'review', 'must', 'tast', 'sarabeth', 'blood', 'orang', 'marmalad', 'june', 'taylor', 'blood', 'orang', 'marmalad', 'two', 'terrif', 'citru', 'tast', 'sarbeth', 'jar'], tags=[493]),\n",
       " TaggedDocument(words=['vendor', 'use', 'amazon', 'terribl', 'order', 'month', 'ago', 'receiv', 'order', 'wasnt', 'told', 'product', 'backord', 'made', 'purchas', 'vendor', 'gave', 'three', 'consequect', 'back', 'order', 'date', 'due', 'major', 'inconveni', 'cancel', 'order', 'dont', 'order', 'amazon'], tags=[494]),\n",
       " TaggedDocument(words=['take', 'stray', 'cat', 'current', 'one', 'come', 'someth', 'possibl', 'contagi', 'antibiot', 'week', 'pick', 'antibiot', 'vet', 'went', 'got', 'pet', 'store', 'happi', 'pill', 'mani', 'cat', 'final', 'go', 'simpl', 'easi', 'chang', 'shock', 'annoy', 'refus', 'eat', 'four', 'like', 'love', 'rest', 'smell', 'walk', 'away'], tags=[495]),\n",
       " TaggedDocument(words=['recent', 'tri', 'cooki', 'ginger', 'flavor', 'disgust', 'textur', 'similar', 'protein', 'bar', 'flavor', 'chocol', 'one', 'weak', 'contrari', 'label', 'state', 'rich', 'chocol', 'flavor', 'one', 'spici', 'sweet', 'cut', 'spice', 'pleasant', 'experi', 'didnt', 'finish', 'either'], tags=[496]),\n",
       " TaggedDocument(words=['like', 'idea', 'behind', 'product', 'opinion', 'tast', 'terribl', 'tast', 'like', 'medicin', 'note', 'recommend', 'take', 'powerbar', 'gel', 'water'], tags=[497]),\n",
       " TaggedDocument(words=['bought', 'product', 'openend', 'horror', 'skin', 'bone', 'includ', 'design', 'whole', 'can', 'cat', 'food', 'design', 'star', 'qualiti', 'smell', 'good', 'look', 'good', 'pretti', 'upset', 'uned'], tags=[498]),\n",
       " TaggedDocument(words=['kind', 'sick', 'genet', 'engin', 'horror', 'tomato', 'strawberri', 'must', 'devis', 'mad', 'scientist', 'loos', 'upon', 'unwari', 'world', 'sold', 'usual', 'slipperi', 'product', 'name', 'industri', 'tomato', 'strawberri', 'advertis', 'sole', 'fall', 'corrupt', 'scienc', 'sophistri'], tags=[499]),\n",
       " TaggedDocument(words=['dont', 'recommend', 'product', 'trick', 'descript', 'product', 'low', 'qualiti', 'tast', 'realli', 'bad', 'paid', 'buck', 'thing', 'wouldnt', 'eat', 'even', 'paid', 'heat', 'one', 'packag', 'microwav', 'smell', 'whole', 'apart', 'terribl', 'didnt', 'take', 'warn', 'real', 'tast', 'eeeeek'], tags=[500]),\n",
       " TaggedDocument(words=['thought', 'might', 'tast', 'like', 'parmeson', 'crisp', 'get', 'restaur', 'wrong', 'tast', 'burnt', 'hard', 'swallow', 'even', 'chew', 'thouroughli', 'also', 'still', 'quit', 'bit', 'sodium'], tags=[501]),\n",
       " TaggedDocument(words=['mainli', 'ate', 'first', 'half', 'caus', 'hazelnut', 'pretti', 'good', 'hate', 'seem', 'harsh', 'couldnt', 'bring', 'eat', 'whole', 'thing', 'rare', 'chocol', 'think', 'main', 'problem', 'use', 'chocol', 'liquor', 'inst', 'cocoa', 'give', 'bland', 'tast', 'textur'], tags=[502]),\n",
       " TaggedDocument(words=['bought', 'stuff', 'recip', 'champagn', 'cake', 'call', 'yuck', 'tast', 'plastic', 'gross', 'would', 'buy', 'dont', 'blame', 'seller', 'though', 'theyr', 'sell', 'recip'], tags=[503]),\n",
       " TaggedDocument(words=['purchas', 'candi', 'hope', 'good', 'tast', 'soft', 'licoric', 'candi', 'ummm', 'account', 'tast', 'mile', 'away', 'licoric', 'ive', 'thing', 'hard', 'rock', 'well', 'least', 'tri'], tags=[504]),\n",
       " TaggedDocument(words=['let', 'prefac', 'review', 'qualif', 'regularli', 'teriyaki', 'noodl', 'work', 'actual', 'pretti', 'good', 'said', 'couldnt', 'disagre', 'first', 'review', 'item', 'bad', 'gave', 'star', 'option', 'neg', 'star', 'product', 'qualifi', 'neg', 'star', 'rate', 'smell', 'open', 'flavor', 'packet', 'remind', 'unwash', 'feet', 'first', 'clue', 'chuck', 'whole', 'box', 'trash', 'howev', 'gave', 'benefit', 'doubt', 'nuke', 'food', 'way', 'think', 'describ', 'tast', 'imagin', 'smell', 'chainsmok', 'overful', 'ashtray', 'chainsmok', 'poor', 'housekeep', 'skill', 'translat', 'tast', 'took', 'one', 'bite', 'spit', 'back', 'contain', 'chuck', 'whole', 'thing', 'without', 'even', 'swallow', 'took', 'snicker', 'bar', 'get', 'rid', 'aftertast'], tags=[505]),\n",
       " TaggedDocument(words=['fan', 'anna', 'cooki', 'year', 'ginger', 'long', 'favorit', 'saw', 'price', 'jump', 'fast', 'shipment', 'arriv', 'day', 'aw', 'slow', 'huge', 'compani', 'imo', 'cooki', 'appear', 'littl', 'case', 'howev', 'open', 'find', 'everi', 'box', 'twelv', 'contain', 'cooki', 'crumbl', 'one', 'singl', 'cooki', 'shipment', 'arriv', 'guess', 'crumbl', 'ice', 'cream', 'etc', 'definit', 'wed', 'want', 'return', 'well', 'see', 'amazon', 'handl'], tags=[506]),\n",
       " TaggedDocument(words=['aerogarden', 'doesnt', 'live', 'claim', 'plant', 'outsid', 'corner', 'underperform', 'contact', 'aerogarden', 'directli', 'sent', 'new', 'pump', 'mean', 'disassembl', 'unit', 'take', 'plant', 'pod', 'instal', 'new', 'pump', 'doesnt', 'seem', 'make', 'much', 'differ', 'save', 'grow', 'herb', 'outsid', 'grow', 'season'], tags=[507]),\n",
       " TaggedDocument(words=['wife', 'two', 'year', 'old', 'like', 'cereal', 'howev', 'find', 'extrem', 'crunchi', 'unpleas', 'eat', 'prefer', 'pure', 'wish', 'came', 'eco', 'pack'], tags=[508]),\n",
       " TaggedDocument(words=['purchas', 'critter', 'ridder', 'repel', 'discourag', 'raccoon', 'roll', 'sod', 'total', 'ineffect', 'day', 'appli', 'raccoon', 'sod', 'roll', 'activ', 'doubl', 'order', 'live', 'trap', 'consid', 'use', 'remnant', 'critter', 'ridder', 'bait', 'trap'], tags=[509]),\n",
       " TaggedDocument(words=['sorri', 'first', 'review', 'right', 'tri', 'brand', 'coupl', 'time', 'hope', 'bought', 'bad', 'box', 'first', 'time', 'tast', 'like', 'cardboard', 'texttur', 'graini', 'eat', 'natur', 'food', 'one', 'standard', 'tri', 'back', 'natur', 'brand', 'anni', 'home', 'grown', 'kid', 'prefer', 'anni', 'bunni', 'like', 'back', 'natur', 'stick'], tags=[510]),\n",
       " TaggedDocument(words=['read', 'number', 'posit', 'review', 'product', 'want', 'tri', 'glad', 'went', 'local', 'whole', 'food', 'supermarket', 'instead', 'pay', 'excess', 'ship', 'cost', 'order', 'onlin', 'basic', 'like', 'dont', 'like', 'tast', 'realli', 'bother', 'smell', 'rins', 'eat', 'tofu', 'product', 'regularli', 'also', 'eat', 'pasta', 'occasion', 'would', 'rather', 'eat', 'whole', 'wheat', 'pasta', 'mth', 'eat', 'regularli', 'howev', 'everyon', 'differ', 'tast', 'want', 'tri', 'get', 'local', 'grocer', 'carri', 'otherwis', 'dont', 'wast', 'money', 'ship'], tags=[511]),\n",
       " TaggedDocument(words=['salmon', 'jerki', 'unbeliev', 'tough', 'pretti', 'much', 'ined', 'painstakingli', 'gnaw', 'doesnt', 'releas', 'much', 'flavor', 'instead', 'turn', 'sharpish', 'littl', 'stick', 'mouth', 'misfortun', 'order', 'bag', 'still', 'untouch', 'sure', 'even', 'tri', 'soak', 'jerki', 'tri', 'boil', 'macaroni', 'noth', 'seem', 'soften', 'stuff', 'wast', 'money', 'beef', 'jerki', 'instead', 'need', 'salmon', 'eat', 'fresh', 'can', 'product', 'joke'], tags=[512]),\n",
       " TaggedDocument(words=['buy', 'formula', 'price', 'without', 'pay', 'ship', 'charg', 'babi', 'even', 'cheaper'], tags=[513]),\n",
       " TaggedDocument(words=['ive', 'flavor', 'supermarket', 'suppos', 'like', 'brick', 'threw', 'shouldv', 'sent', 'back', 'lazi'], tags=[514]),\n",
       " TaggedDocument(words=['bought', 'daughter', 'want', 'someth', 'school', 'snack', 'tri', 'cafeteria', 'said', 'werent', 'bad', 'unfortun', 'chang', 'mind', 'time', 'gigant', 'box', 'arriv', 'doorstep', 'huband', 'tri', 'feel', 'like', 'give', 'stern', 'punish', 'maker', 'thing', 'besid', 'discern', 'nutrit', 'content', 'thing', 'much', 'salt', 'much', 'fake', 'cheez', 'powder', 'way', 'remov', 'grace', 'youe', 'eaten', 'puff', 'dont', 'like', 'feel', 'terribl', 'dump', 'food', 'pantri', 'perhap', 'ill', 'hide', 'larg', 'donat', 'healthier', 'item'], tags=[515]),\n",
       " TaggedDocument(words=['origin', 'europ', 'germani', 'love', 'italian', 'cook', 'move', 'state', 'hard', 'time', 'find', 'ingredi', 'use', 'get', 'easili', 'american', 'groceri', 'store', 'find', 'overpr', 'inferior', 'qualiti', 'parmigiano', 'reggiano', 'anyon', 'often', 'feel', 'peopl', 'knowingli', 'trick', 'industri', 'product', 'name', 'resembl', 'real', 'product', 'best', 'exampl', 'would', 'oliv', 'oil', 'least', 'find', 'one', 'favorit', 'pasta', 'brand', 'dececco', 'look', 'san', 'marzano', 'tomato', 'use', 'get', 'local', 'italian', 'groceri', 'store', 'euro', 'usd', 'acid', 'american', 'can', 'tomato', 'high', 'opinion', 'far', 'found', 'brand', 'local', 'groceri', 'store', 'read', 'label', 'suspici', 'san', 'marzano', 'tomato', 'produc', 'usa', 'gave', 'chanc', 'anyway', 'last', 'high', 'price', 'still', 'market', 'might', 'someth', 'go', 'open', 'instantli', 'saw', 'real', 'san', 'marzano', 'tomato', 'san', 'marzano', 'long', 'thin', 'bittersweet', 'tri', 'abl', 'tell', 'spheric', 'sweet', 'sour', 'use', 'soup', 'pasta', 'sauc', 'far', 'least', 'seem', 'littl', 'better', 'regular', 'can', 'tomato', 'groceri', 'store', 'justifi', 'price', 'tag', 'europ', 'get', 'qualiti', 'dollar', 'search', 'good', 'can', 'tomato', 'keep', 'search', 'might', 'tast', 'bad', 'san', 'marzano', 'expens', 'well'], tags=[516]),\n",
       " TaggedDocument(words=['inform', 'oliv', 'could', 'chosen', 'better', 'love', 'ionian', 'green', 'oliv', 'tri', 'anoth', 'peloponnes', 'product', 'think', 'excel', 'compani', 'oliv', 'meati', 'attract', 'dont', 'like', 'oliv', 'bunch', 'dri', 'herb', 'flavor', 'credit', 'flavor', 'heavi', 'hand', 'oregano', 'seem', 'get', 'stronger', 'stronger', 'objection', 'go', 'get', 'ionian', 'green', 'unflavor', 'straight', 'oliv', 'sure', 'there', 'room', 'refriger', 'pound', 'oliv'], tags=[517]),\n",
       " TaggedDocument(words=['suppos', 'natur', 'hfc', 'natur', 'toss', 'mine', 'could', 'eat', 'know', 'high', 'fructos', 'corn', 'syrup'], tags=[518]),\n",
       " TaggedDocument(words=['pop', 'absolut', 'aw', 'first', 'tri', 'german', 'chocol', 'cake', 'bare', 'tast', 'like', 'chocol', 'like', 'mild', 'root', 'beer', 'flavor', 'candi', 'second', 'tri', 'cherri', 'cheesecak', 'tast', 'like', 'cherri', 'flavor', 'cough', 'syrup', 'third', 'attempt', 'coconut', 'creme', 'pie', 'mild', 'coconut', 'flavor', 'gave', 'third', 'attempt', 'share', 'remain', 'pop', 'hate', 'pop', 'well', 'state', 'tast', 'artifici', 'disappoint', 'consid', 'product', 'natur', 'appear', 'higher', 'rate'], tags=[519]),\n",
       " TaggedDocument(words=['greatest', 'thought', 'would', 'great', 'hand', 'guest', 'come', 'expect'], tags=[520]),\n",
       " TaggedDocument(words=['bought', 'tea', 'job', 'stress', 'caus', 'lot', 'anxieti', 'indigest', 'etc', 'use', 'love', 'flavor', 'yogi', 'tea', 'unfortun', 'cant', 'handl', 'tast', 'one', 'strong', 'almost', 'burn', 'tongu', 'spici', 'normal', 'like', 'ginger', 'much'], tags=[521]),\n",
       " TaggedDocument(words=['ive', 'tri', 'mani', 'yogi', 'tea', 'realli', 'dont', 'like', 'tast', 'one', 'recommend', 'rejuvin', 'tea', 'green', 'tea', 'also', 'fight', 'free', 'radic', 'age', 'much', 'smoother', 'tast'], tags=[522]),\n",
       " TaggedDocument(words=['favorit', 'tea', 'damn', 'peppermint', 'ad', 'complet', 'differ', 'tea', 'new', 'tea', 'satisfi', 'unless', 'cours', 'want', 'feel', 'like', 'your', 'brush', 'teeth', 'instead', 'drink', 'tea', 'season', 'realli', 'shouldnt', 'claim', 'tea', 'realli', 'isnt', 'that', 'bad', 'consid', 'got', 'compani', 'start', 'wish', 'way', 'get', 'tea', 'without', 'peppermint', 'itll', 'probabl', 'never', 'happen'], tags=[523]),\n",
       " TaggedDocument(words=['dont', 'wast', 'money', 'tast', 'aw', 'thought', 'would', 'good', 'quick', 'meal', 'take', 'work', 'werid', 'tast', 'rubber', 'textur', 'gross', 'cant', 'beleiv', 'paid'], tags=[524]),\n",
       " TaggedDocument(words=['surpris', 'receiv', 'bar', 'total', 'seller', 'blame', 'amazon', 'put', 'wrong', 'inform', 'mark', 'sold', 'day', 'yesterday', 'check', 'back', 'contact', 'seller', 'blame', 'amazon', 'offer', 'pack', 'today', 'chang', 'pack', 'keep', 'close', 'eye', 'hope', 'honest', 'seller', 'would', 'check', 'list', 'honor', 'say', 'amazon', 'confus', 'thier', 'list', 'seller', 'product', 'one', 'sell', 'lindt', 'excel', 'dark', 'chocol', 'cocoa', 'bar', 'bar', 'park', 'could', 'amazon', 'gotten', 'confus', 'seller', 'alway', 'check', 'list'], tags=[525]),\n",
       " TaggedDocument(words=['isnt', 'horribl', 'bite', 'give', 'uniqu', 'flavor', 'defin', 'dont', 'care', 'say', 'howev', 'search', 'gener', 'orient', 'flavor', 'coffe', 'isnt', 'one', 'tri'], tags=[526]),\n",
       " TaggedDocument(words=['dont', 'dissappoint', 'machin', 'first', 'flavor', 'youv', 'tri', 'tassimo', 'coffe', 'blend', 'use', 'subscrib', 'gevalia', 'deliveri', 'servic', 'ive', 'tri', 'lot', 'automat', 'drip', 'coffe', 'incl', 'signatur', 'blend', 'dissapoint', 'tassimo', 'disc', 'version', 'gave', 'star', 'smooth', 'otherwis', 'lacklust', 'brew', 'much', 'rich', 'bodi', 'flavor', 'gener', 'coffe', 'crema', 'version', 'much', 'pretti', 'window', 'dress', 'pretti', 'bore', 'cup', 'husband', 'far', 'less', 'picki', 'coffe', 'agre', 'favor', 'tri', 'coffe', 'avail', 'tassimo', 'incl', 'websit', 'gevalia', 'espresso', 'good', 'maxwel', 'hous', 'latt', 'capuccino'], tags=[527]),\n",
       " TaggedDocument(words=['dont', 'dissappoint', 'machin', 'first', 'flavor', 'youv', 'tri', 'tassimo', 'coffe', 'blend', 'use', 'subscrib', 'gevalia', 'deliveri', 'servic', 'ive', 'tri', 'lot', 'automat', 'drip', 'coffe', 'incl', 'signatur', 'blend', 'dissapoint', 'tassimo', 'disc', 'version', 'gave', 'star', 'smooth', 'otherwis', 'lacklust', 'brew', 'much', 'rich', 'bodi', 'flavor', 'gener', 'coffe', 'crema', 'much', 'window', 'dress', 'pretti', 'bore', 'cup', 'husband', 'far', 'less', 'picki', 'coffe', 'agre', 'favor', 'tri', 'coffe', 'avail', 'tassimo', 'incl', 'websit', 'gevalia', 'espresso', 'good', 'maxwel', 'hous', 'latt', 'capuccino'], tags=[528]),\n",
       " TaggedDocument(words=['realli', 'tast', 'dri', 'cardboard', 'tast', 'wonder', 'realli', 'differ', 'flavor', 'put', 'one', 'packag', 'sinc', 'realli', 'dont', 'tast', 'els', 'say', 'worst', 'biscotti', 'ever', 'respect', 'comic', 'book', 'guy'], tags=[529]),\n",
       " TaggedDocument(words=['bought', 'instant', 'miso', 'soup', 'past', 'tast', 'similar', 'get', 'usual', 'sushi', 'restaur', 'order', 'one', 'shouldnt', 'order', 'without', 'tri', 'tast', 'strang', 'pleasant', 'stuck', 'someth', 'dont', 'like', 'hope', 'someon', 'els', 'avoid', 'mistak'], tags=[530]),\n",
       " TaggedDocument(words=['expect', 'someth', 'softer', 'textur', 'like', 'chew', 'rubber', 'flavor', 'much', 'hard', 'old', 'child', 'your', 'look', 'someth', 'tasti', 'softer', 'textur', 'tri', 'kasugai', 'gummi', 'candi'], tags=[531]),\n",
       " TaggedDocument(words=['review', 'organ', 'chicken', 'egg', 'noodl', 'soup', 'puzzl', 'review', 'rave', 'soup', 'thing', 'think', 'perhap', 'review', 'differ', 'kind', 'particular', 'soup', 'worth', 'money', 'need', 'get', 'magnifi', 'glass', 'see', 'chicken', 'egg', 'noodl', 'okay', 'youll', 'get', 'lot', 'water', 'celeri', 'like', 'flavor', 'good', 'better', 'variou', 'can', 'soup', 'buy', 'groceri', 'store', 'say', 'save', 'money'], tags=[532]),\n",
       " TaggedDocument(words=['disappoint', 'coffe', 'senseo', 'decaf', 'weak', 'paper', 'tast', 'also', 'miss', 'wonder', 'coffe', 'aroma', 'mcdonald', 'decaf', 'much', 'better', 'coffe', 'wish', 'came', 'pod'], tags=[533]),\n",
       " TaggedDocument(words=['bought', 'box', 'coffe', 'box', 'peanut', 'butter', 'hope', 'find', 'new', 'wonder', 'quck', 'bite', 'bar', 'grab', 'disapoint', 'tast', 'dri', 'gener', 'littl', 'flavor', 'one', 'positivi', 'aspect', 'good', 'size', 'far', 'fill', 'one', 'would', 'reccoment', 'mani', 'wonder', 'flavor', 'one', 'groceri', 'store', 'settl', 'tast'], tags=[534]),\n",
       " TaggedDocument(words=['sadli', 'cooki', 'shipment', 'soft', 'crunchi', 'buy', 'store', 'self', 'fresh'], tags=[535]),\n",
       " TaggedDocument(words=['fan', 'pepper', 'beef', 'jerki', 'probabl', 'look', 'someth', 'sweet', 'like', 'prefer', 'someth', 'spici', 'think', 'one', 'worst', 'tast', 'pepper', 'beef', 'jerki', 'tri', 'way', 'sweet', 'look', 'hate', 'beef', 'jerki', 'gross', 'dont', 'think', 'like', 'dont', 'reccomend', 'buy', 'enough', 'said'], tags=[536]),\n",
       " TaggedDocument(words=['alway', 'look', 'good', 'flavor', 'tea', 'usual', 'love', 'chai', 'disappoint', 'enough', 'spice'], tags=[537]),\n",
       " TaggedDocument(words=['suppos', 'everyon', 'bake', 'alway', 'search', 'holi', 'grail', 'would', 'make', 'product', 'textur', 'product', 'gluten', 'substitut', 'worth', 'effort', 'save', 'money'], tags=[538]),\n",
       " TaggedDocument(words=['wonder', 'hit', 'remov', 'tran', 'fat', 'cooki', 'hope', 'would', 'replac', 'bad', 'fat', 'poli', 'mono', 'unsatur', 'fat', 'chosen', 'palm', 'coconut', 'oil', 'two', 'nutrit', 'worst', 'veget', 'oil', 'make', 'matter', 'wors', 'fulli', 'hydrogen', 'oil', 'make', 'ratio', 'fat', 'found', 'cooki', 'satur', 'one', 'could', 'better', 'pick', 'almost', 'cooki', 'recommend', 'skip', 'one'], tags=[539]),\n",
       " TaggedDocument(words=['fed', 'cat', 'iam', 'weight', 'control', 'year', 'die', 'stomach', 'cancer', 'time', 'lost', 'weight', 'cancer', 'start', 'coat', 'dull', 'rough', 'experi', 'led', 'research', 'felin', 'nutrit', 'onlin', 'talk', 'anim', 'nutritionist', 'read', 'ingredi', 'list', 'iam', 'weight', 'control', 'youll', 'see', 'first', 'ingredi', 'corn', 'grain', 'cat', 'carnivor', 'need', 'diet', 'diet', 'extra', 'carb', 'store', 'fat', 'overweight', 'cat', 'steer', 'clear', 'iam', 'grain', 'free', 'premium', 'food', 'two', 'young', 'cat', 'eat', 'varieti', 'high', 'qualiti', 'food', 'feed', 'time', 'day', 'perfect', 'weight', 'coat', 'shini', 'soft', 'feed', 'cat', 'lot', 'better', 'food'], tags=[540]),\n",
       " TaggedDocument(words=['wish', 'kellogg', 'would', 'return', 'previou', 'style', 'strawberri', 'fill', 'mini', 'wheat', 'raisin', 'fill', 'blueberri', 'fill', 'much', 'better', 'frost', 'varieti'], tags=[541]),\n",
       " TaggedDocument(words=['excel', 'coffe', 'unlik', 'amazon', 'usual', 'great', 'servic', 'whoever', 'use', 'fulfil', 'coffe', 'order', 'terribl', 'order', 'sever', 'box', 'coffe', 'amazon', 'ship', 'thrown', 'box', 'anywher', 'cup', 'damag', 'unus', 'wors', 'yet', 'amazon', 'wont', 'take', 'return', 'sinc', 'food', 'item', 'summari', 'buy', 'coffe', 'amazon'], tags=[542]),\n",
       " TaggedDocument(words=['dont', 'wast', 'money', 'son', 'tri', 'wouldnt', 'take', 'anoth', 'bite', 'tri', 'could', 'see', 'tast', 'terribl', 'threw', 'whole', 'box', 'trash', 'wast'], tags=[543]),\n",
       " TaggedDocument(words=['disappoint', 'tea', 'love', 'chai', 'excit', 'find', 'decaf', 'version', 'howev', 'tea', 'tast', 'clove'], tags=[544]),\n",
       " TaggedDocument(words=['dog', 'hot', 'gave', 'bun', 'eat', 'hope', 'would', 'cool', 'seem', 'pant', 'much', 'eat', 'bun', 'would', 'say', 'hot', 'dog', 'bun', 'good', 'job', 'help', 'dog', 'keep', 'cool', 'futur', 'stick', 'give', 'dog', 'water'], tags=[545]),\n",
       " TaggedDocument(words=['enjoy', 'brand', 'cooki', 'flavor', 'isnt', 'good', 'tast', 'bit', 'like', 'stale', 'coffe'], tags=[546]),\n",
       " TaggedDocument(words=['like', 'everyth', 'product', 'except', 'tast', 'maker', 'obvious', 'put', 'lot', 'work', 'noodl', 'packag', 'organ', 'natur', 'product', 'green', 'onion', 'fewer', 'noodl', 'would', 'help', 'flat', 'tast'], tags=[547]),\n",
       " TaggedDocument(words=['youll', 'probabl', 'satisfi', 'pick', 'dri', 'corn', 'kernel', 'pig', 'trough', 'throw', 'fireplac', 'popcorn', 'bought', 'sever', 'box', 'product', 'wasnt', 'abl', 'pop', 'singl', 'adequ', 'bag', 'tri', 'remov', 'popcorn', 'microwav', 'entir', 'scale', 'differ', 'time', 'period', 'everi', 'singl', 'time', 'either', 'popcorn', 'would', 'burnt', 'small', 'portion', 'bag', 'would', 'pop', 'sometim', 'would', 'peic', 'popcorn', 'pop', 'would', 'burn', 'gener', 'groceri', 'store', 'brand', 'popcorn', 'pop', 'better', 'best', 'luck', 'product', 'unburn', 'popcorn', 'would', 'fill', 'bag', 'tri', 'eat', 'sinc', 'small', 'amount', 'popcorn', 'soak', 'greas', 'butter', 'tast', 'terribl', 'surpris', 'inferior', 'product', 'locat', 'search', 'gourmet', 'food', 'doesnt', 'even', 'compar', 'cheapest', 'brand', 'popcorn', 'market'], tags=[548]),\n",
       " TaggedDocument(words=['dont', 'care', 'flour', 'coat', 'sweet', 'like', 'raw', 'mejool', 'date', 'wild', 'oat', 'brand', 'good'], tags=[549]),\n",
       " TaggedDocument(words=['like', 'mango', 'ripe', 'mushi', 'bath', 'mango', 'pure', 'find', 'product', 'appeal', 'make', 'mango', 'mouss', 'mango', 'jello', 'anyth', 'els', 'might', 'need', 'pure', 'mango', 'would', 'perfect', 'chunk', 'sinc', 'theyr', 'soft', 'pulver', 'blender', 'seem', 'natur', 'thing', 'would', 'probabl', 'also', 'make', 'great', 'smoothi', 'mango', 'gelato', 'mango', 'bread', 'pud', 'get', 'idea'], tags=[550]),\n",
       " TaggedDocument(words=['happi', 'strawberri', 'like', 'add', 'fruit', 'cereal', 'year', 'round', 'peach', 'disappoint', 'hard', 'even', 'soak', 'milk', 'part', 'ined'], tags=[551]),\n",
       " TaggedDocument(words=['must', 'tast', 'bud', 'review', 'say', 'great', 'think', 'aw', 'dog', 'ate', 'see', 'one', 'review', 'say', 'mom', 'doctor', 'sour', 'cream', 'might', 'improv', 'better', 'anni', 'would', 'hate', 'tast', 'anni'], tags=[552]),\n",
       " TaggedDocument(words=['tast', 'coffe', 'bitter', 'smell', 'horribl', 'though', 'capsul', 'concept', 'conveni', 'product', 'qualiti', 'deliv', 'meet', 'expect', 'flavor', 'tast', 'foul'], tags=[553]),\n",
       " TaggedDocument(words=['ive', 'tri', 'sever', 'brand', 'pizza', 'crust', 'bought', 'latest', 'product', 'explor', 'huge', 'fan', 'mani', 'product', 'thought', 'one', 'would', 'slam', 'dunk', 'hit', 'wrong', 'pizza', 'crust', 'thin', 'dens', 'heavi', 'littl', 'tast', 'would', 'think', 'thin', 'heavi', 'would', 'contradictori', 'that', 'realli', 'mean', 'say', 'contrast', 'kinnikinnick', 'pizza', 'crust', 'light', 'fluffi', 'outstand', 'declici', 'flavor', 'would', 'strongli', 'suggest', 'buy', 'singl', 'packag', 'pizza', 'crust', 'local', 'health', 'food', 'store', 'first', 'made', 'mistak', 'trust', 'product', 'bought', 'whole', 'case', 'expens', 'lesson', 'nonetheless', 'huge', 'thank', 'amazon', 'offer', 'mani', 'product', 'start', 'becom', 'familiar', 'mani', 'peopl', 'affect', 'gluten'], tags=[554]),\n",
       " TaggedDocument(words=['flavor', 'wont', 'buy', 'thin', 'tough', 'get', 'gener', 'brand', 'textur', 'expect', 'thick', 'soft', 'descript', 'worth', 'price', 'eat', 'lot', 'jerkey', 'low', 'fat', 'high', 'protein', 'wont', 'one'], tags=[555]),\n",
       " TaggedDocument(words=['beef', 'jerki', 'littl', 'flavor', 'order', 'alot', 'jerki', 'one', 'worst'], tags=[556]),\n",
       " TaggedDocument(words=['sent', 'pink', 'kind', 'white', 'kind', 'still', 'tasti', 'order'], tags=[557]),\n",
       " TaggedDocument(words=['purchas', 'item', 'base', 'review', 'love', 'strawberri', 'aw'], tags=[558]),\n",
       " TaggedDocument(words=['love', 'anni', 'white', 'cheddar', 'hous', 'that', 'bought', 'case', 'certainli', 'disappoint', 'chalki', 'consist', 'product', 'receiv', 'notic', 'date', 'stamp', 'chees', 'powder', 'alreadi', 'expir', 'month', 'even', 'order', 'kid', 'wont', 'eat', 'disappoint'], tags=[559]),\n",
       " TaggedDocument(words=['product', 'chang', 'dramat', 'sinc', 'last', 'purchas', 'month', 'ago', 'even', 'tast', 'wors', 'theyv', 'ad', 'high', 'fructos', 'corn', 'syrup', 'cheapen', 'tast', 'tast', 'like', 'regular', 'syrup', 'found', 'supermarket', 'even', 'friend', 'said', 'thing', 'longer', 'special', 'wont', 'purchas', 'anymor', 'shame', 'use', 'good'], tags=[560]),\n",
       " TaggedDocument(words=['meat', 'poor', 'qualiti', 'tender', 'mani', 'piec', 'gristli', 'wed', 'wind', 'spit', 'wad', 'sinc', 'matter', 'much', 'chew', 'theyd', 'never', 'break', 'tast', 'okay', 'bit', 'sweet', 'like'], tags=[561]),\n",
       " TaggedDocument(words=['label', 'pretzel', 'like', 'compress', 'sawdust', 'ined', 'opinion', 'stuck', 'bag', 'yuk'], tags=[562]),\n",
       " TaggedDocument(words=['probabl', 'sensibl', 'tast', 'aw', 'cant', 'even', 'tell', 'fruit', 'eat'], tags=[563]),\n",
       " TaggedDocument(words=['like', 'idea', 'box', 'tea', 'tast', 'smell', 'like', 'glue', 'paint', 'remov', 'tea', 'box'], tags=[564]),\n",
       " TaggedDocument(words=['got', 'bad', 'batch', 'sent', 'anoth', 'tri', 'better', 'still', 'expect', 'piec', 'small', 'reason', 'look', 'like', 'one', 'mre', 'excel', 'may', 'cook', 'want', 'compani', 'custom', 'servic', 'top', 'notch', 'though'], tags=[565]),\n",
       " TaggedDocument(words=['snack', 'lol', 'tast', 'like', 'chees', 'bake', 'oven', 'month', 'kinda', 'look', 'like', 'make', 'sure', 'beverag', 'near', 'tri', 'dri'], tags=[566]),\n",
       " TaggedDocument(words=['ye', 'base', 'tri', 'give', 'grace', 'tast', 'dont', 'feel', 'like', 'pancak', 'mouth', 'dont', 'cook', 'like', 'pancak', 'look', 'bubbl', 'youll', 'hockey', 'puck', 'work', 'better', 'cook', 'like', 'slice', 'bread', 'son', 'like', 'jelli', 'like', 'appl', 'butter', 'oldest', 'even', 'made', 'pbj', 'well', 'finish', 'wont', 'buy'], tags=[567]),\n",
       " TaggedDocument(words=['love', 'popcorn', 'unfortun', 'didnt', 'send', 'order', 'sent', 'natur', 'natur', 'light'], tags=[568]),\n",
       " TaggedDocument(words=['excel', 'graham', 'cracker', 'love', 'kid', 'often', 'agre', 'youll', 'sorri', 'order', 'graham', 'cracker', 'food', 'damag', 'ship', 'amazon', 'recent', 'order', 'arriv', 'origin', 'box', 'factori', 'contain', 'box', 'new', 'morn', 'honey', 'graham', 'pack', 'materi', 'noth', 'shield', 'cracker', 'drop', 'shock', 'ship', 'didnt', 'get', 'graham', 'cracker', 'got', 'graham', 'crumb', 'graham', 'cracker', 'fragment', 'mean', 'order', 'cracker', 'dont', 'order', 'amazon', 'instead', 'find', 'retail', 'know', 'right', 'buy', 'local', 'groceri', 'unless', 'realli', 'want', 'graham', 'cracker', 'crumb'], tags=[569]),\n",
       " TaggedDocument(words=['purchas', 'regular', 'coconut', 'flake', 'delici', 'decid', 'buy', 'product', 'night', 'day', 'differ', 'grant', 'product', 'reduc', 'fat', 'soooo', 'dri', 'rather', 'bitter', 'tast', 'reorder', 'wonder', 'flake', 'eat', 'right', 'bag', 'tri', 'use', 'bake'], tags=[570]),\n",
       " TaggedDocument(words=['disappoint', 'can', 'receiv', 'terribl', 'dent', 'felt', 'unsaf', 'use', 'never', 'order', 'can', 'food', 'site'], tags=[571]),\n",
       " TaggedDocument(words=['hottest', 'stuff', 'everi', 'tri', 'tri', 'alot', 'first', 'put', 'mouth', 'bad', 'bout', 'second', 'cant', 'anyth', 'hang', 'ride', 'ane', 'believ', 'ride', 'fun', 'stuff', 'shoud', 'kept', 'way', 'reach', 'children', 'peopl', 'heart', 'problem'], tags=[572]),\n",
       " TaggedDocument(words=['biscotti', 'good', 'flavor', 'bar', 'broken', 'singl', 'one', 'whole', 'sent', 'second', 'order', 'also', 'broken', 'think', 'need', 'better', 'way', 'packag'], tags=[573]),\n",
       " TaggedDocument(words=['well', 'order', 'product', 'box', 'mi', 'mark', 'reciev', 'wrong', 'item', 'call', 'explain', 'custom', 'servic', 'resent', 'product', 'resent', 'wrong', 'item', 'total', 'wrong', 'marinad', 'reciev', 'gave', 'product', 'fantast', 'ever', 'get', 'usual', 'buy', 'groceri', 'store', 'safer', 'bad', 'amazon', 'qualiti', 'depart', 'correct', 'error'], tags=[574]),\n",
       " TaggedDocument(words=['look', 'like', 'grechka', 'smell', 'differ', 'weird', 'tast', 'tast', 'noth', 'like', 'real', 'thing', 'know', 'done', 'grain', 'like', 'chew', 'paper', 'tast', 'whatsoev', 'love', 'amazon', 'get', 'kind', 'stuff', 'cannot', 'find', 'anywher', 'els', 'recommend', 'find', 'russian', 'store', 'onlin', 'order', 'good', 'stuff'], tags=[575]),\n",
       " TaggedDocument(words=['hint', 'right', 'pleasant', 'chocolatey', 'minti', 'enough'], tags=[576]),\n",
       " TaggedDocument(words=['start', 'diet', 'month', 'ago', 'found', 'portion', 'control', 'one', 'import', 'factor', 'occasion', 'treat', 'one', 'small', 'bag', 'cooki', 'favorit', 'treat', 'mine', 'abl', 'buy', 'item', 'live', 'carri', 'area', 'live', 'order', 'item', 'impress', 'said', 'pack', 'meant', 'would', 'get', 'six', 'box', 'six', 'bag', 'cooki', 'nope', 'got', 'one', 'box', 'six', 'bag', 'cooki', 'royal', 'buy', 'cooki', 'cost', 'buck', 'groceri', 'store'], tags=[577]),\n",
       " TaggedDocument(words=['dog', 'love', 'bone', 'within', 'week', 'broken', 'teeth', 'item', 'worth', 'hundr', 'cost', 'vet', 'bill'], tags=[578]),\n",
       " TaggedDocument(words=['purchas', 'websit', 'state', 'made', 'banana', 'honey', 'read', 'fine', 'print', 'find', 'also', 'contain', 'ad', 'sugar', 'banana', 'flavor', 'coconut', 'oil', 'dont', 'even', 'tast', 'like', 'banana', 'ad', 'ingredi', 'expect'], tags=[579]),\n",
       " TaggedDocument(words=['worst', 'product', 'ever', 'gotten', 'old', 'date', 'would', 'ever', 'buy', 'product'], tags=[580]),\n",
       " TaggedDocument(words=['yuk', 'threw', 'away', 'guess', 'aquir', 'tast', 'love', 'black', 'licoric', 'thought', 'would', 'could', 'way', 'without', 'mani', 'calori'], tags=[581]),\n",
       " TaggedDocument(words=['littl', 'difficult', 'eat', 'expect', 'bulki', 'good', 'grain', 'littl', 'tough', 'somewhat', 'tasti', 'look', 'better', 'product'], tags=[582]),\n",
       " TaggedDocument(words=['salti', 'snack', 'lover', 'could', 'eat', 'time', 'total', 'lost', 'interest', 'rest', 'bag', 'would', 'sit', 'threw', 'away', 'like', 'almost', 'anyth', 'dont', 'like'], tags=[583]),\n",
       " TaggedDocument(words=['drink', 'bad', 'enough', 'sure', 'couldnt', 'get', 'ever', 'wish', 'could', 'drink', 'nutrit', 'valu', 'may', 'tri', 'capsul', 'instead'], tags=[584]),\n",
       " TaggedDocument(words=['seem', 'great', 'snack', 'item', 'easi', 'carri', 'everyth', 'els', 'bust', 'dri', 'dust', 'unpleas', 'mouth', 'far', 'salti', 'pleasant', 'around', 'bad', 'idea'], tags=[585]),\n",
       " TaggedDocument(words=['youd', 'think', 'pretti', 'contain', 'expens', 'price', 'would', 'make', 'differ', 'tast', 'guess', 'product', 'smell', 'realli', 'bad', 'sauc', 'veggi', 'drk', 'brown', 'color', 'tast', 'like', 'paint', 'serious', 'tri', 'eat', 'whole', 'thing', 'throw', 'away', 'disgust'], tags=[586]),\n",
       " TaggedDocument(words=['youd', 'think', 'your', 'buy', 'seven', 'box', 'youd', 'get', 'good', 'deal', 'buy', 'singl', 'box', 'local', 'wal', 'mart', 'less'], tags=[587]),\n",
       " TaggedDocument(words=['ship', 'busi', 'day', 'real', 'day', 'order', 'arriv', 'date', 'exceed', 'amazon', 'max', 'estim', 'busi', 'day', 'seem', 'feedback', 'page', 'late', 'mani', 'time', 'ppl', 'happi', 'qualiti', 'tea', 'understand', 'guess', 'onlin', 'store', 'ive', 'use', 'good', 'doesnt', 'say', 'anywher', 'product', 'whether', 'flavor', 'natur', 'artifici'], tags=[588]),\n",
       " TaggedDocument(words=['upon', 'open', 'bag', 'strong', 'odor', 'rancid', 'oil', 'open', 'assum', 'would', 'refund', 'open', 'bag', 'chip', 'end', 'throw', 'bag', 'garbag'], tags=[589]),\n",
       " TaggedDocument(words=['dont', 'understand', 'everyon', 'say', 'sooo', 'good', 'smell', 'tast', 'like', 'bean', 'flour', 'hard', 'mask', 'graini', 'like', 'regular', 'wheat', 'flour', 'husband', 'wont', 'eat', 'kid', 'complain', 'make', 'thing', 'like', 'fluffi'], tags=[590]),\n",
       " TaggedDocument(words=['thought', 'would', 'lot', 'better', 'turn', 'small', 'portion', 'look', 'good', 'shown', 'pictur', 'okay', 'great'], tags=[591]),\n",
       " TaggedDocument(words=['term', 'tast', 'one', 'want', 'cant', 'tell', 'realli', 'boost', 'one', 'immun', 'system', 'though'], tags=[592]),\n",
       " TaggedDocument(words=['take', 'grocer', 'exchang', 'bag', 'also', 'blue', 'chip', 'chip'], tags=[593]),\n",
       " TaggedDocument(words=['would', 'pay', 'price', 'stufff', 'fantast', 'want', 'publix', 'near', 'purchas', 'come', 'packag', 'serv', 'spent', 'ten', 'buck', 'site', 'tri', 'sell', 'rip', 'said', 'stuff', 'fantast', 'addicitv', 'well', 'behav', 'princ', 'princess', 'even', 'eat', 'flaki', 'dri', 'yummi'], tags=[594]),\n",
       " TaggedDocument(words=['receiv', 'item', 'dont', 'know', 'happen', 'get', 'explan', 'seller'], tags=[595]),\n",
       " TaggedDocument(words=['type', 'mac', 'chees', 'pasta', 'doesnt', 'produc', 'much', 'elbow', 'mac', 'chees', 'tast', 'good', 'stuff'], tags=[596]),\n",
       " TaggedDocument(words=['product', 'great', 'tuna', 'great', 'tast', 'delici', 'took', 'day', 'get', 'order', 'surpris', 'surpris', 'box', 'puch', 'instead', 'call', 'custom', 'servic', 'min', 'explanant', 'tey', 'told', 'onlin', 'return', 'box', 'get', 'anoth', 'one', 'item', 'consid', 'food', 'return', 'line', 'product', 'great', 'case', 'amazon', 'servic', 'pretti', 'low'], tags=[597]),\n",
       " TaggedDocument(words=['use', 'live', 'cincinnati', 'excit', 'tast', 'cincinnati', 'skylin', 'chili', 'bad', 'tast', 'expect', 'would', 'recommend', 'anyon', 'know', 'cincinnati', 'chili'], tags=[598]),\n",
       " TaggedDocument(words=['home', 'beyond', 'true', 'valu', 'offer', 'pack', 'coffe', 'filter', 'pack', 'order', 'two', 'pack', 'coffe', 'filter', 'home', 'beyond', 'sent', 'two', 'pack', 'pack', 'order', 'paid', 'advic', 'busi', 'home', 'beyond', 'true', 'valu', 'buy', 'coffe', 'filter', 'ship', 'list', 'say', 'amazon', 'start', 'enforc', 'home', 'beyond', 'true', 'valu', 'honor', 'list', 'offer', 'imho', 'buyer', 'need', 'somewher', 'els', 'weight', 'say', 'pound', 'tri', 'say', 'one', 'tini', 'pack', 'paper', 'coffe', 'filter', 'weigh', 'pound'], tags=[599]),\n",
       " TaggedDocument(words=['principl', 'splenda', 'margarita', 'mix', 'sound', 'like', 'great', 'idea', 'execut', 'terribl', 'pour', 'two', 'bottl', 'drain', 'would', 'pretti', 'despar', 'otherwis', 'never', 'decent', 'margarita', 'choic', 'would', 'rather', 'skip', 'altogeth', 'one', 'review', 'suggest', 'well', 'market', 'long', 'way', 'support', 'less', 'sugar', 'drink'], tags=[600]),\n",
       " TaggedDocument(words=['thought', 'would', 'healthi', 'snack', 'read', 'review', 'mine', 'arriv', 'safe', 'crunchi', 'unlik', 'review', 'got', 'bad', 'batch', 'howev', 'sweet', 'tasti', 'sister', 'describ', 'tast', 'like', 'cardboard', 'whole', 'bag', 'dont', 'know', 'mayb', 'ill', 'put', 'recip', 'hope', 'turn', 'better', 'recommend', 'tri', 'buy'], tags=[601]),\n",
       " TaggedDocument(words=['realli', 'want', 'like', 'tea', 'full', 'antioxid', 'hope', 'fruiti', 'flavor', 'instead', 'tast', 'like', 'cough', 'syrup', 'good', 'memori', 'cough', 'syrup', 'child', 'flavor', 'remind', 'much', 'yucki', 'cough', 'medicin', 'drink', 'tri', 'drink', 'anyway', 'think', 'benefit', 'tea', 'fill', 'outweigh', 'flavor', 'couldnt', 'well', 'cent', 'anyon', 'els', 'tri', 'agre', 'let', 'know'], tags=[602]),\n",
       " TaggedDocument(words=['never', 'ceas', 'amaz', 'brit', 'eat', 'horrif', 'dog', 'wonder', 'lost', 'revolutionari', 'war', 'clear', 'eat', 'marmit', 'vegamit', 'never', 'deserv', 'coloni', 'anyway'], tags=[603]),\n",
       " TaggedDocument(words=['usual', 'eat', 'tri', 'save', 'time', 'money', 'decid', 'take', 'advantag', 'special', 'offer', 'receiv', 'rest', 'food', 'order', 'get', 'give', 'tri', 'reluctantli', 'tri', 'second', 'time', 'confirm', 'stuff', 'terribl', 'wast', 'time', 'money', 'toss', 'remain', 'four', 'packag', 'wouldnt', 'even', 'tri', 'give', 'away', 'happi', 'tri', 'like', 'spent', 'thousand', 'dollar', 'made', 'mayb', 'purchas', 'amazon', 'second', 'time', 'rate', 'mayb', 'let', 'frustrat', 'tri', 'save', 'someon', 'make', 'mistak'], tags=[604]),\n",
       " TaggedDocument(words=['order', 'set', 'receiv', 'two', 'bag', 'ship', 'way', 'still', 'wait', 'return', 'info', 'hope', 'full', 'refund'], tags=[605]),\n",
       " TaggedDocument(words=['brew', 'weak', 'tea', 'prefer', 'tazo', 'bigelow', 'brand', 'bought', 'tea', 'amazon', 'buy'], tags=[606]),\n",
       " TaggedDocument(words=['can', 'dent', 'that', 'manag', 'good', 'price', 'guess'], tags=[607]),\n",
       " TaggedDocument(words=['definit', 'thing', 'chocol', 'toffe', 'flavor', 'way', 'want', 'hot', 'cocoa', 'would', 'order', 'howev', 'your', 'big', 'fan', 'cappuccino', 'may', 'appeal'], tags=[608]),\n",
       " TaggedDocument(words=['didnt', 'care', 'pumpkin', 'soup', 'tast', 'like', 'pumpkin', 'flavor', 'corn', 'starch'], tags=[609]),\n",
       " TaggedDocument(words=['would', 'give', 'zero', 'star', 'possibl', 'absout', 'terribl', 'wish', 'review', 'order', 'hope', 'good', 'crunchi', 'low', 'carb', 'snack', 'fill', 'bill', 'anyon', 'interest', 'unopen', 'bag'], tags=[610]),\n",
       " TaggedDocument(words=['say', 'includ', 'spice', 'impress', 'tradit', 'spice', 'box', 'would', 'come', 'tradit', 'spice', 'disappoint', 'even', 'thought', 'stainless', 'steel', 'contain', 'nice'], tags=[611]),\n",
       " TaggedDocument(words=['product', 'doesnt', 'mix', 'well', 'graini', 'like', 'sand', 'mix', 'also', 'vinegari', 'tast', 'product', 'color', 'dark', 'lite', 'creami', 'butteri', 'textur', 'ye', 'use', 'real', 'butter'], tags=[612]),\n",
       " TaggedDocument(words=['well', 'aerogrow', 'send', 'anoth', 'unit', 'alreadi', 'taken', 'troubl', 'send', 'replac', 'bowl', 'fix', 'first', 'problem', 'later', 'sent', 'replac', 'pump', 'shut', 'entir', 'system', 'dont', 'like', 'contact', 'get', 'replac', 'aerogrow', 'setup', 'look', 'like', 'flourish', 'result', 'local', 'kitchenwar', 'store', 'consum', 'experi', 'thu', 'far', 'stank', 'despit', 'custom', 'servic', 'effort', 'fix', 'problem', 'custom', 'servic', 'remain', 'courteou', 'attent', 'mail', 'part', 'promptli', 'buy', 'silenc', 'well', 'see', 'posit', 'review', 'true', 'site', 'make', 'mind', 'read', 'mine', 'one', 'experi', 'lost', 'money', 'lost', 'time', 'start', 'receiv', 'new', 'unit', 'order', 'amazon', 'would', 'return', 'money', 'refund', 'want', 'tri', 'hydropon', 'grow', 'ahead', 'buy', 'urg', 'buy', 'amazon', 'good', 'luck', 'issu', 'respond', 'aerogrow', 'custom', 'misl', 'order', 'directli', 'aerogrow', 'instead', 'amazon', 'cost', 'amazon', 'free', 'ship', 'would', 'becom', 'special', 'custom', 'receiv', 'discount', 'futur', 'purchas', 'seed', 'machin', 'wrote', 'aerogrow', 'receiv', 'membership', 'packet', 'told', 'addit', 'purchas', 'made', 'time', 'initi', 'purchas', 'experi', 'worthi', 'aerogrow', 'product', 'aerogrow', 'send', 'new', 'bowl', 'receiv', 'product', 'red', 'indic', 'light', 'low', 'water', 'level', 'alreadi', 'never', 'shut', 'follow', 'suggest', 'phone', 'rep', 'solv', 'problem', 'new', 'bowl', 'fix', 'problem', 'realiz', 'deep', 'grow', 'period', 'number', 'herb', 'grow', 'told', 'receiv', 'bad', 'pump', 'would', 'instal', 'new', 'one', 'aerogrow', 'would', 'send', 'would', 'start', 'begin', 'anoth', 'packet', 'herb', 'would', 'includ', 'packag', 'unplug', 'aerogrow', 'instal', 'pump', 'accord', 'blurri', 'pictur', 'instruct', 'sheet', 'entir', 'machin', 'turn', 'chang', 'pump', 'messi', 'recommend', 'dont', 'throw', 'away', 'attach', 'screw', 'old', 'pump', 'aerogrow', 'doesnt', 'give', 'anyth', 'pump', 'blurri', 'instruct', 'remain', 'survivor', 'go', 'die', 'that', 'okay', 'brand', 'new', 'packet', 'seed', 'two', 'month', 'might', 'herb', 'put', 'new', 'plug', 'today', 'machin', 'wont', 'turn', 'product', 'isnt', 'reliabl', 'price', 'high', 'riski', 'aerogrow', 'rep', 'alway', 'maintain', 'friendli', 'tone', 'polit', 'demeanor', 'deal', 'howev', 'still', 'felt', 'wrong', 'replac', 'never', 'show', 'week', 'email', 'request', 'full', 'refund', 'offer', 'ship', 'machin', 'back', 'could', 'investig', 'problem', 'said', 'could', 'chuck', 'old', 'machin', 'new', 'one', 'post', 'offic', 'wrong', 'address', 'would', 'credit', 'credit', 'card', 'check', 'see', 'dont', 'want', 'anoth', 'aerogrow', 'anyway'], tags=[613]),\n",
       " TaggedDocument(words=['good', 'dri', 'tasteless', 'consid', 'import', 'bulgaria', 'wonder', 'fresh', 'could'], tags=[614]),\n",
       " TaggedDocument(words=['said', 'vanilla', 'youll', 'get', 'vanillin', 'way', 'expens', 'vanilla', 'advertis', 'person', 'dont', 'care', 'vanillin', 'tast', 'harsh', 'stuff', 'tast', 'differ', 'fake', 'vanilla', 'supermarket', 'didnt', 'troubl', 'poor', 'mailman', 'deliv'], tags=[615]),\n",
       " TaggedDocument(words=['agre', 'person', 'said', 'hard', 'chew', 'slim', 'jim', 'length', 'way', 'see', 'allegedli', 'made', 'cow', 'hair', 'gross', 'beef', 'part', 'guess', 'partial', 'hydrogen', 'veg', 'oil', 'realli', 'long', 'word', 'chemic', 'make', 'mechan', 'separ', 'beef', 'chicken', 'look', 'like', 'hair', 'tast', 'good', 'thank', 'glad', 'buy', 'dog', 'realli', 'like', 'eat', 'dog'], tags=[616]),\n",
       " TaggedDocument(words=['although', 'love', 'nana', 'browni', 'mint', 'peanut', 'butter', 'flavor', 'cooki', 'found', 'ginger', 'cooki', 'disappoint', 'spici', 'enjoy', 'crumbl', 'cooki', 'flavor', 'crumbli', 'due', 'rice', 'flour', 'ginger', 'cooki', 'fatten', 'flavor', 'ive', 'calori', 'per', 'cooki', 'compar', 'peanut', 'butter', 'per', 'serv', 'chocol', 'mint', 'calori', 'nana', 'cooki', 'list', 'calori', 'count', 'per', 'serv', 'count', 'serv', 'size', 'half', 'cooki'], tags=[617]),\n",
       " TaggedDocument(words=['buy', 'lipton', 'less', 'dollar', 'generasl', 'dont', 'anyth', 'special', 'green', 'tea', 'tea', 'hasnt', 'fermint', 'make', 'tast', 'bitter', 'green', 'tea', 'great', 'cheap', 'tomato', 'juic'], tags=[618]),\n",
       " TaggedDocument(words=['interest', 'simpl', 'almond', 'past', 'almond', 'instead', 'producet', 'massiv', 'sweet', 'ad', 'almond', 'extract', 'difficult', 'purchas', 'product', 'ingredi', 'list'], tags=[619]),\n",
       " TaggedDocument(words=['big', 'fan', 'drinker', 'green', 'tea', 'big', 'fan', 'drinker', 'earl', 'grey', 'tea', 'littl', 'tast', 'may', 'plain', 'green', 'tea', 'natur', 'weaker', 'tast', 'black', 'tea', 'bergamot', 'therefor', 'evid', 'coupl', 'cup', 'decid', 'two', 'tast', 'best'], tags=[620]),\n",
       " TaggedDocument(words=['tri', 'spaghetti', 'hope', 'would', 'way', 'resembl', 'wheat', 'pasta', 'use', 'love', 'eat', 'doesnt', 'even', 'come', 'close', 'tast', 'ricey', 'bland', 'fall', 'apart', 'despit', 'follow', 'cook', 'direct', 'mani', 'good', 'pasta', 'product', 'day', 'isnt', 'one'], tags=[621]),\n",
       " TaggedDocument(words=['sell', 'sell', 'individu', 'can', 'thought', 'get', 'great', 'bargain', 'case', 'came', 'worth', 'tast', 'liveri', 'dark', 'color', 'tast', 'noth', 'rave', 'tri', 'go', 'donat', 'rest'], tags=[622]),\n",
       " TaggedDocument(words=['terribl', 'gritti', 'bland', 'noodl', 'arent', 'anyth', 'near', 'consist', 'wheat', 'pasta', 'sauc', 'littl', 'cheesi', 'bite', 'pass', 'one', 'use', 'chees', 'sauc', 'packet', 'better', 'pasta', 'tinkyada', 'brown', 'rice', 'pasta', 'brand', 'actual', 'tast', 'feel', 'like', 'real', 'pasta', 'wast', 'money', 'real', 'let', 'compani', 'whose', 'macnchees', 'realli', 'love', 'back', 'ate', 'gluten'], tags=[623]),\n",
       " TaggedDocument(words=['snack', 'star', 'first', 'inde', 'junk', 'food', 'one', 'third', 'calori', 'fat', 'high', 'glycem', 'carb', 'gram', 'fiber', 'gram', 'protein', 'second', 'chees', 'flavor', 'milder', 'age', 'white', 'cheddar', 'led', 'believ', 'textur', 'soft', 'styrofoam', 'pack', 'peanut', 'sorri', 'true', 'someon', 'offer', 'movi', 'next', 'sandwich', 'sure', 'gush', 'prais', 'read', 'led', 'purchas', 'bag', 'case', 'sale', 'share', 'freeli', 'temptat', 'hoard', 'theyr', 'could', 'give', 'bag', 'big', 'fan', 'would', 'pleasur'], tags=[624]),\n",
       " TaggedDocument(words=['peopl', 'spend', 'kind', 'money', 'belgian', 'chocol', 'like', 'never', 'abl', 'afford', 'vacat', 'belgium'], tags=[625]),\n",
       " TaggedDocument(words=['sorri', 'werent', 'somewhat', 'stale', 'tast', 'recommend', 'buy', 'singl', 'bag', 'buy', 'case', 'hesit'], tags=[626]),\n",
       " TaggedDocument(words=['throw', 'almost', 'raisin', 'contain', 'crawli', 'thing', 'look', 'like', 'drop', 'crawli', 'thing', 'must', 'say', 'gener', 'love', 'newman', 'product', 'will', 'give', 'raisin', 'benefit', 'doubt', 'natur', 'product', 'sometim', 'bug', 'get', 'that', 'part', 'territori', 'organ', 'matter', 'found', 'white', 'grub', 'littl', 'brown', 'dot', 'werent', 'part', 'raisin', 'box', 'box', 'box', 'fine', 'ate', 'raisin', 'major', 'taint', 'ill', 'need', 'assur', 'there', 'improv', 'qualiti', 'control', 'tri', 'newman', 'organ', 'raisin'], tags=[627]),\n",
       " TaggedDocument(words=['revolut', 'make', 'green', 'earl', 'grey', 'tea', 'item', 'mislabel', 'fine', 'green', 'tea', 'earl', 'grey', 'order', 'stuck', 'someth', 'want', 'second', 'time', 'happen', 'amazon', 'time', 'order', 'describ', 'pack', 'coffe', 'receiv', 'one', 'amazon', 'told', 'misprint', 'compens', 'offer', 'need', 'proof', 'reader', 'need', 'stand', 'behind', 'item', 'sell'], tags=[628]),\n",
       " TaggedDocument(words=['may', 'wors', 'thing', 'ive', 'ever', 'tast', 'life', 'aw', 'tast', 'bud', 'even', 'wors', 'box', 'sat', 'fat', 'stay', 'away', 'tast', 'thai', 'food'], tags=[629]),\n",
       " TaggedDocument(words=['read', 'review', 'thought', 'tri', 'curri', 'noodl', 'mistak', 'yuk'], tags=[630]),\n",
       " TaggedDocument(words=['enter', 'give', 'away', 'program', 'receiv', 'free', 'senseo', 'coffe', 'maker', 'came', 'mild', 'roast', 'coffe', 'horribl', 'sinc', 'love', 'good', 'strong', 'coffe', 'drink', 'black', 'order', 'senseo', 'dark', 'roast', 'pod', 'understand', 'review', 'rave', 'disappoint', 'flavor', 'coffe', 'stick', 'local', 'sold', 'coffe', 'coffe', 'press'], tags=[631]),\n",
       " TaggedDocument(words=['gah', 'stuff', 'terribl', 'get', 'pay', 'cheap', 'box', 'microwav', 'rice', 'tast', 'like', 'cheap', 'box', 'rice', 'cook', 'microwav'], tags=[632]),\n",
       " TaggedDocument(words=['order', 'item', 'thought', 'kinda', 'like', 'dehydr', 'tast', 'like', 'pickl', 'roll', 'sugar', 'yuck', 'origin', 'strawberri', 'tast', 'gone', 'compani', 'sent', 'promptli', 'great', 'packag', 'realli', 'thought', 'someth', 'els', 'page', 'provid', 'good', 'descript', 'product', 'realli'], tags=[633]),\n",
       " TaggedDocument(words=['yeah', 'old', 'offer', 'make', 'sure', 'fresh', 'pleas', 'get', 'new', 'one', 'caus', 'love', 'order', 'put', 'expir', 'date', 'somewher', 'well', 'know', 'order', 'someth'], tags=[634]),\n",
       " TaggedDocument(words=['got', 'product', 'ship', 'one', 'day', 'express', 'unfortun', 'arriv', 'open', 'saw', 'big', 'blob', 'melt', 'chocol', 'littl', 'macadamia', 'nut', 'center', 'holder'], tags=[635]),\n",
       " TaggedDocument(words=['product', 'drier', 'less', 'flavor', 'expect', 'end', 'use', 'cereal', 'rather', 'snack', 'could', 'bought', 'cereal', 'dehydr', 'berri'], tags=[636]),\n",
       " TaggedDocument(words=['despit', 'box', 'color', 'mislead', 'label', 'muesli', 'dont', 'fool', 'sugar', 'version', 'origin', 'formula', 'muesli', 'consist', 'expand', 'soak', 'milk', 'soymilk', 'wonder', 'date', 'pulp', 'flavor', 'new', 'hybrid', 'version', 'never', 'seen', 'sale', 'store', 'especi', 'creat', 'american', 'tast', 'use', 'lot', 'flake', 'raisin', 'finish', 'six', 'box', 'back', 'origin', 'formula', 'sugar', 'origin', 'formula'], tags=[637]),\n",
       " TaggedDocument(words=['look', 'ingredi', 'zero', 'pumpkin', 'call', 'pumpkin', 'style', 'basic', 'sugar', 'preserv', 'notic', 'ingredi', 'list', 'use', 'avail', 'longer', 'avail', 'hmm', 'hide', 'someth'], tags=[638]),\n",
       " TaggedDocument(words=['stuff', 'tast', 'great', 'research', 'got', 'bunch', 'fat', 'consid', 'healthi', 'first', 'item', 'list', 'mean', 'highest', 'mass', 'ingredi', 'partial', 'hydrogen', 'oil', 'problem', 'cholesterol', 'suggest', 'talk', 'doctor', 'mayb', 'might', 'want', 'like', 'mani', 'american', 'increas', 'lipitor', 'dosag', 'enjoy', 'tasti', 'potenti', 'unhealthi', 'creamer', 'godspe'], tags=[639]),\n",
       " TaggedDocument(words=['two', 'thing', 'like', 'corn', 'bread', 'way', 'sweet', 'like', 'sweet', 'corn', 'bread', 'sweet', 'tast', 'good', 'chili', 'soup', 'tast', 'like', 'someth', 'eat', 'dessert', 'wish', 'left', 'sugar', 'put', 'cant', 'take', 'crumbl', 'textur', 'like', 'must', 'higher', 'percentag', 'wheat', 'flour', 'use', 'textur', 'finer', 'like', 'gluten', 'like', 'mayb', 'fine', 'ground', 'corn', 'flour', 'dont', 'know', 'said', 'know', 'expect', 'sound', 'bad', 'might', 'like', 'suit', 'prefer'], tags=[640]),\n",
       " TaggedDocument(words=['like', 'coconut', 'ginger', 'flavor', 'thai', 'noodl', 'peanut', 'flavor', 'way', 'sweet', 'tast', 'hope', 'would', 'like', 'peanut', 'butter', 'honey', 'sandwich', 'noodl', 'instead', 'bread', 'glad', 'flavor'], tags=[641]),\n",
       " TaggedDocument(words=['like', 'product', 'perhap', 'never', 'one', 'perhap', 'need', 'mix', 'cook', 'like', 'nut', 'tradion', 'nut', 'could', 'eat', 'one'], tags=[642]),\n",
       " TaggedDocument(words=['sojo', 'diet', 'lack', 'calcium', 'fed', 'direct', 'caus', 'sever', 'metabol', 'bone', 'diseas', 'dog', 'diet', 'requir', 'supplement', 'balanc', 'calcium', 'phosphor', 'addit', 'safe'], tags=[643]),\n",
       " TaggedDocument(words=['bought', 'case', 'pantri', 'countri', 'french', 'bread', 'mix', 'french', 'bread', 'long', 'long', 'time', 'know', 'french', 'bread', 'ladi', 'gentlemen', 'french', 'bread', 'made', 'per', 'instruct', 'lot', 'like', 'loaf', 'biscuit', 'bad', 'part', 'noth', 'remot', 'like', 'french', 'bread', 'good', 'part', 'form', 'right', 'make', 'pretti', 'good', 'biscuit', 'realli', 'pretti', 'good', 'biscuit', 'make', 'drop', 'biscuit', 'put', 'egg', 'ring', 'around', 'keep', 'spread', 'much', 'bake', 'pan', 'make', 'quarter', 'mix', 'time', 'biscuit', 'store', 'well', 'cook', 'presto', 'biscuit', 'french', 'bread', 'like', 'call', 'cat', 'dog'], tags=[644]),\n",
       " TaggedDocument(words=['disappoint', 'receiv', 'pear', 'peel', 'seed', 'remov', 'peel', 'alon', 'could', 'probabl', 'forgiv', 'mani', 'piec', 'seed', 'core', 'make', 'difficult', 'eat', 'especi', 'children', 'even', 'tast', 'rather', 'bland', 'sweet', 'pear', 'leatheri', 'textur', 'definit', 'snack', 'stuck', 'fifti', 'buck', 'worth', 'seed', 'dri', 'pear', 'cant', 'return', 'food', 'definit', 'would', 'recommend'], tags=[645]),\n",
       " TaggedDocument(words=['son', 'use', 'love', 'erewhon', 'gluten', 'free', 'crispi', 'brown', 'rice', 'cereal', 'barley', 'amazon', 'carri', 'gluten', 'free', 'vserion', 'anymor'], tags=[646]),\n",
       " TaggedDocument(words=['realli', 'recommend', 'buyer', 'bewar', 'ate', 'hand', 'product', 'hour', 'later', 'minor', 'stomach', 'pain', 'anoth', 'hour', 'umimagin', 'pain', 'took', 'good', 'hour', 'sever', 'pain', 'bathroom', 'trip', 'abl', 'walk', 'upright', 'consid', 'behavior', 'hour', 'later', 'still', 'buy', 'full', 'sugar', 'version', 'littl', 'bag', 'learn', 'moder', 'version', 'good', 'answer'], tags=[647]),\n",
       " TaggedDocument(words=['jeremiah', 'produc', 'smooth', 'coffe', 'favorit', 'decid', 'give', 'organc', 'powercaf', 'tri', 'doesnt', 'tast', 'bad', 'tast', 'like', 'coffe', 'either', 'differ', 'your', 'want', 'drink', 'coffe', 'morn', 'tri', 'jeremiah', 'coffe', 'bean', 'stuff', 'jeremiah', 'kona', 'jeremiah', 'jamaican', 'blue', 'mountain'], tags=[648]),\n",
       " TaggedDocument(words=['plain', 'gross', 'tast', 'littl', 'chewi', 'weird', 'smell'], tags=[649]),\n",
       " TaggedDocument(words=['make', 'homemad', 'fruit', 'leather', 'ad', 'sugar', 'backpack', 'trip', 'famili', 'use', 'fairli', 'sweet', 'product', 'son', 'age', 'tri', 'fruit', 'leather', 'first', 'time', 'thought', 'grape', 'tast', 'like', 'plastic', 'thought', 'tast', 'better', 'plastic', 'could', 'use', 'stronger', 'fruit', 'flavor', 'rate', 'would', 'rate', 'flavor', 'tropic', 'fruit', 'much', 'better', 'grape'], tags=[650]),\n",
       " TaggedDocument(words=['bought', 'case', 'vegan', 'altern', 'fri', 'chicken', 'tri', 'cook', 'varieti', 'style', 'method', 'alway', 'came', 'short', 'say', 'tast', 'noth', 'like', 'chicken', 'fri', 'piec', 'resembl', 'flat', 'drumstick', 'that', 'similar', 'real', 'chicken', 'end', 'tast', 'like', 'compress', 'dough', 'dip', 'beefi', 'gravi', 'reminisc', 'bland', 'cat', 'food', 'ever', 'tri', 'bland', 'cat', 'food', 'would', 'recommend', 'pass', 'look', 'someth', 'palat', 'like', 'real', 'veget'], tags=[651]),\n",
       " TaggedDocument(words=['without', 'sulfit', 'preserv', 'hydrogen', 'oil', 'artifici', 'color', 'flavor', 'without', 'great', 'deal', 'sugar', 'corn', 'sweeten', 'like', 'previou', 'review', 'bought', 'costco', 'brought', 'back', 'due', 'tast', 'much', 'ad', 'sugar', 'get', 'littl', 'difficult', 'tast', 'berri', 'prefer', 'berri', 'naturel', 'littl', 'extra', 'sweet', 'watch', 'ingredi', 'list', 'sugar', 'second', 'ingredi', 'weight', 'corn', 'syrup', 'fourth'], tags=[652]),\n",
       " TaggedDocument(words=['tast', 'bad', 'textur', 'way', 'could', 'eat', 'crumbl', 'make', 'meat', 'loaf'], tags=[653]),\n",
       " TaggedDocument(words=['expect', 'someth', 'would', 'tast', 'good', 'good', 'textur', 'wrong', 'account', 'famili', 'hate', 'didnt', 'tri', 'dog', 'though', 'disappoint', 'ill', 'stay', 'promax', 'cliff', 'bar', 'power', 'bar'], tags=[654]),\n",
       " TaggedDocument(words=['will', 'pay', 'box', 'buy', 'ive', 'tast', 'good', 'good'], tags=[655]),\n",
       " TaggedDocument(words=['chocol', 'may', 'fabul', 'hope', 'sent', 'gift', 'thought', 'ship', 'charg', 'order', 'look', 'high', 'hurri', 'order', 'bunch', 'gift', 'includ', 'one', 'without', 'examin', 'close', 'anyway', 'ship', 'charg', 'product', 'alon', 'price', 'product', 'give', 'star', 'think', 'tacki', 'make', 'product', 'cost', 'doubl', 'think', 'tack', 'ridicul', 'ship', 'handl', 'charg', 'bewar'], tags=[656]),\n",
       " TaggedDocument(words=['box', 'say', 'flavor', 'improv', 'shock', 'claim', 'light', 'absolut', 'digust', 'flavor', 'appear', 'pasta', 'besid', 'rice', 'flour', 'also', 'contain', 'rice', 'bran', 'guess', 'suppos', 'give', 'textur', 'closer', 'wheat', 'pasta', 'well', 'doesnt', 'work', 'also', 'give', 'pasta', 'disturb', 'beig', 'hue', 'truli', 'vomit', 'tast', 'two', 'year', 'old', 'spit', 'almost', 'simultan', 'babi', 'ate', 'also', 'eat', 'lint', 'know'], tags=[657]),\n",
       " TaggedDocument(words=['bought', 'caus', 'chocol', 'snap', 'lover', 'crave', 'lack', 'tran', 'fat', 'descript', 'drew', 'say', 'took', 'famili', 'parti', 'none', 'kid', 'like', 'one', 'adult', 'best', 'could', 'say', 'think', 'two', 'folk', 'one', 'say', 'skip', 'cooki', 'dont', 'make', 'mouth', 'sing', 'chocolatey', 'snappi', 'joy'], tags=[658]),\n",
       " TaggedDocument(words=['love', 'arriv', 'mani', 'small', 'broken', 'piec', 'rather', 'difficult', 'spread', 'someth', 'crumb', 'wouldnt', 'suggest', 'item', 'mark', 'fragil', 'well', 'pleas', 'found', 'line', 'constant', 'search', 'tri', 'find', 'particular', 'cracker', 'seem', 'logic', 'answer', 'go', 'one', 'groceri', 'anoth', 'attempt', 'locat', 'howev', 'broken', 'cracker', 'look', 'weekend', 'order', 'box', 'case'], tags=[659]),\n",
       " TaggedDocument(words=['fudg', 'sweet', 'dens', 'never', 'heard', 'mapl', 'fudg', 'without', 'walnut', 'kind', 'nut', 'arriv', 'pack', 'well', 'fresh'], tags=[660]),\n",
       " TaggedDocument(words=['sound', 'good', 'true', 'good', 'true', 'thought', 'make', 'good', 'invest', 'purchas', 'item', 'turn', 'useless', 'filter', 'prevent', 'coffe', 'maker', 'complet', 'seal', 'place', 'senseo', 'coffe', 'maker', 'clamp', 'lid', 'press', 'botton', 'make', 'coffe', 'leak', 'hot', 'water', 'place', 'make', 'big', 'mess', 'also', 'rich', 'foami', 'coffe', 'get', 'senseo', 'pod', 'nowher', 'seen', 'use', 'starbuck', 'foam', 'weak', 'weak', 'weak', 'podfilt', 'fulli', 'load', 'coffe', 'even', 'cup', 'set', 'coffe', 'weak', 'folk', 'cannot', 'return', 'item', 'wonder', 'favor', 'keep', 'buy', 'senseo', 'pod', 'want', 'great', 'cup', 'coffe', 'forget', 'cheapskat', 'ive', 'learn', 'lesson', 'hard', 'way', 'buck', 'happi', 'total', 'rip', 'rate', 'avail', 'item', 'would', 'receiv'], tags=[661]),\n",
       " TaggedDocument(words=['dog', 'doesnt', 'real', 'problem', 'breath', 'got', 'cheap', 'clearanc', 'rack', 'want', 'tri', 'unfortun', 'luna', 'hate', 'give', 'spit', 'time', 'actual', 'ate', 'one', 'first', 'time', 'gave', 'anyway', 'look', 'smell', 'good', 'pointless', 'dog', 'refus', 'eat'], tags=[662]),\n",
       " TaggedDocument(words=['order', 'tree', 'novemb', 'deliv', 'decemb', 'frozen', 'deliv', 'needless', 'say', 'look', 'dead', 'box', 'said', 'day', 'air', 'wasnt', 'disappoint', 'item', 'suppos', 'gift', 'dead', 'becar', 'ord', 'plant', 'winter', 'time', 'live', 'michigan', 'must', 'set', 'up', 'offic', 'day', 'freezer', 'someth'], tags=[663]),\n",
       " TaggedDocument(words=['pleas', 'dont', 'drink', 'never', 'happi', 'tea', 'earl', 'grey', 'recommend', 'taylor', 'harrog', 'twine', 'even', 'stash', 'someth', 'fruitier', 'bit', 'differ'], tags=[664]),\n",
       " TaggedDocument(words=['nice', 'pecan', 'aroma', 'sweeten', 'pecan', 'pecan', 'pie', 'aroma', 'flavor', 'actual', 'lot', 'stronger', 'flavor', 'green', 'mountain', 'coffe', 'ive', 'coffe', 'less', 'sweet', 'less', 'obviou', 'flavor', 'other'], tags=[665]),\n",
       " TaggedDocument(words=['love', 'pamela', 'cooki', 'review', 'cooki', 'amazon', 'suppos', 'pack', 'order', 'receiv', 'pack', 'order', 'pamela', 'cooki', 'amazon', 'mani', 'time', 'never', 'problem', 'expens', 'pack', 'cooki', 'ever', 'purchas', 'tri', 'send', 'back', 'see', 'amazon', 'respond'], tags=[666]),\n",
       " TaggedDocument(words=['order', 'item', 'end', 'wast', 'terribl', 'bland', 'tast', 'stale', 'would', 'never', 'order', 'product', 'kay', 'natur', 'line'], tags=[667]),\n",
       " TaggedDocument(words=['dont', 'tell', 'first', 'three', 'ingredi', 'beef', 'beef', 'heart', 'water', 'also', 'includ', 'monosoldium', 'glutam', 'msg', 'corn', 'syrup', 'wish', 'known'], tags=[668]),\n",
       " TaggedDocument(words=['easi', 'overcook', 'pasta', 'chees', 'sauc', 'mix', 'yucki', 'product', 'match', 'macaroni', 'chees', 'grew', 'product', 'kraft'], tags=[669]),\n",
       " TaggedDocument(words=['okay', 'mayb', 'idiot', 'order', 'mayonnais', 'onlin', 'learn', 'mistak', 'mayonnais', 'arriv', 'ingredi', 'separ', 'look', 'absolut', 'disgust', 'doesnt', 'much', 'inspir', 'confid', 'wont', 'get', 'sick', 'consum', 'mayonnais', 'sure', 'anyon', 'els', 'experi', 'one', 'order', 'mayo', 'onlin', 'incident', 'product', 'like', 'groceri', 'product', 'inelig', 'return', 'stuck', 'six', 'bottl', 'eggwhit', 'vinegar'], tags=[670]),\n",
       " TaggedDocument(words=['expect', 'lobster', 'flavor', 'progresso', 'product', 'felt', 'lobster', 'flavor', 'weak', 'didnt', 'see', 'speck', 'lobster', 'meat', 'sauc', 'although', 'sauc', 'good', 'guest', 'thought', 'eat', 'regular', 'spaghetti', 'sauc', 'awar', 'seafood', 'sauc', 'need', 'improv'], tags=[671]),\n",
       " TaggedDocument(words=['never', 'receiv', 'product', 'order', 'suppos', 'includ', 'one', 'box', 'multipl', 'order', 'brought', 'attent', 'amazon', 'list', 'pack', 'slip', 'box', 'proof', 'weight', 'box', 'weight', 'would', 'differ', 'anyway', 'never', 'tri', 'product', 'given', 'refund', 'amazon', 'miss', 'merchandis'], tags=[672]),\n",
       " TaggedDocument(words=['celiac', 'sprue', 'ate', 'food', 'bread', 'childhood', 'teenag', 'year', 'simpli', 'need', 'safe', 'food', 'wasnt', 'anyth', 'better', 'time', 'commend', 'food', 'provid', 'truli', 'safe', 'food', 'gluten', 'intoler', 'dietari', 'restrict', 'bread', 'part', 'disgust', 'cooki', 'product', 'arent', 'better', 'white', 'rice', 'loaf', 'actual', 'use', 'favorit', 'compar', 'altern', 'edibl', 'toast', 'far', 'cri', 'option', 'pleas', 'dont', 'resign', 'eat', 'tri', 'whole', 'food', 'bakehous', 'bread', 'make', 'bett', 'hagman', 'cookbook', 'start', 'bake', 'bread', 'realiz', 'much', 'better', 'could', 'resolv', 'never', 'eat', 'food', 'bread', 'havent', 'occasion', 'think', 'sure', 'wasnt', 'bad', 'tri', 'one', 'doesnt', 'get', 'better', 'thing', 'bread', 'good', 'toast', 'slather', 'season', 'soak', 'broth', 'shoe', 'would', 'probabl', 'tast', 'sorri', 'food', 'appreci', 'product', 'could', 'compet', 'excel', 'altern'], tags=[673]),\n",
       " TaggedDocument(words=['thought', 'would', 'get', 'pure', 'version', 'agav', 'great', 'price', 'tri', 'stuff', 'dilut', 'compar', 'agav', 'wonder', 'cheap', 'compar', 'volcan', 'nectar', 'agav', 'nectar', 'never', 'back'], tags=[674]),\n",
       " TaggedDocument(words=['berri', 'gross', 'open', 'bag', 'odor', 'turn', 'immedi', 'also', 'arent', 'dri', 'rather', 'like', 'small', 'stone', 'made', 'think', 'stuff', 'put', 'bottom', 'fish', 'tank', 'someth', 'look', 'forward', 'eat', 'textur', 'dri', 'feel', 'like', 'small', 'pebbl', 'hand', 'toss', 'mouth', 'crunch', 'bit', 'juici', 'sure', 'like', 'flavor', 'thrown', 'nasti', 'tast', 'like', 'grain', 'dont', 'know', 'youv', 'ever', 'smell', 'rabbit', 'food', 'grain', 'hors', 'grew', 'hors', 'stuff', 'smell', 'like', 'moreov', 'imagin', 'tri', 'grain', 'would', 'tast', 'like', 'grain', 'berri', 'gross', 'got', 'pack', 'two', 'could', 'give', 'pouch', 'christma', 'hope', 'like', 'berri', 'perhap', 'would', 'better', 'smoothi', 'reluct', 'tri', 'didnt', 'funki', 'tast', 'like', 'better', 'smell', 'gross'], tags=[675]),\n",
       " TaggedDocument(words=['mocha', 'jive', 'mocha', 'java', 'smell', 'tast', 'hint', 'mocha', 'bare', 'tast', 'java', 'either', 'brown', 'gave', 'star'], tags=[676]),\n",
       " TaggedDocument(words=['member', 'food', 'polic', 'get', 'realli', 'mad', 'compani', 'short', 'chang', 'custom', 'hope', 'notic', 'especi', 'suppos', 'higher', 'end', 'gourmet', 'produc', 'like', 'quick', 'dirti', 'dont', 'want', 'read', 'detail', 'review', 'better', 'swiss', 'miss', 'ye', 'use', 'better', 'cut', 'serv', 'gener', 'ruin', 'decent', 'product', 'rest', 'ghirardelli', 'name', 'ye', 'way', 'impress', 'peopl', 'dont', 'know', 'better', 'albiet', 'price', 'probabl', 'still', 'recommend', 'ghirardelli', 'hot', 'chocol', 'nope', 'want', 'know', 'read', 'year', 'enjoy', 'ghirardelli', 'line', 'hot', 'chocol', 'year', 'born', 'subtitl', 'old', 'fashion', 'design', 'drop', 'reason', 'soon', 'becom', 'appar', 'also', 'quit', 'conspicu', 'drop', 'product', 'satisfact', 'guarante', 'along', 'ghirardelli', 'address', 'appli', 'reimburs', 'consum', 'dissatisfi', 'bode', 'well', 'judg', 'mean', 'let', 'ghirardelli', 'know', 'cannot', 'includ', 'address', 'due', 'amazon', 'review', 'polici', 'may', 'howev', 'contact', 'email', 'websit', 'strongli', 'encourag', 'hot', 'chocol', 'lover', 'want', 'origin', 'recipi', 'back', 'hope', 'read', 'review', 'ghirardelli', 'quit', 'simpli', 'boost', 'sugar', 'level', 'astronom', 'level', 'engag', 'call', 'short', 'serv', 'ghirardelli', 'hot', 'chocol', 'mix', 'consist', 'tbsp', 'yield', 'twenti', 'serv', 'per', 'one', 'serv', 'tbsp', 'gram', 'yield', 'twelv', 'serv', 'give', 'percent', 'less', 'serv', 'per', 'averag', 'per', 'less', 'increas', 'cent', 'serv', 'cent', 'serv', 'may', 'say', 'gourmet', 'hot', 'chocol', 'quarrel', 'cent', 'fair', 'question', 'let', 'sure', 'talk', 'chocol', 'cheap', 'filler', 'can', 'still', 'left', 'old', 'fashion', 'style', 'ghirardelli', 'market', 'year', 'differ', 'tast', 'differ', 'howev', 'post', 'nutrit', 'label', 'side', 'side', 'compar', 'add', 'analysi', 'end', 'hope', 'fact', 'clear', 'nutrit', 'label', 'requir', 'usda', 'reprint', 'everywher', 'assum', 'public', 'domain', 'inform', 'doesnt', 'mean', 'ghirardelli', 'like', 'tell', 'compar', 'ghirardelli', 'old', 'fashion', 'hot', 'chocol', 'doubl', 'chocol', 'new', 'replac', 'ghirardelli', 'premium', 'hot', 'cocoa', 'doubl', 'chocol', 'note', 'call', 'hot', 'cocoa', 'hot', 'chocol', 'chocol', 'mocha', 'chocol', 'hazelnut', 'compar', 'well', 'differ', 'neglig', 'usual', 'fat', 'mostli', 'sugar', 'usual', 'differ', 'cours', 'use', 'natur', 'artifici', 'flavor', 'fashion', 'hot', 'hot', 'size', 'tbsp', 'serv', 'size', 'tbsp', 'per', 'contain', 'serv', 'per', 'contain', 'cal', 'fat', 'calori', 'cal', 'fat', 'fat', 'total', 'fat', 'satur', 'fat', 'satur', 'fat', 'fat', 'cholesterol', 'sodium', 'carbohydr', 'total', 'carbohydr', 'dietari', 'fiber', 'dietari', 'fiber', 'sugar', 'sugar', 'protein', 'vitamin', 'iron', 'calcium', 'iron', 'virtual', 'ident', 'old', 'new', 'order', 'except', 'grammat', 'chang', 'one', 'except', 'unsweeten', 'chocol', 'list', 'process', 'alkali', 'new', 'formula', 'old', 'uncomfort', 'given', 'fat', 'cal', 'carbohydr', 'protein', 'cal', 'size', 'increas', 'decreas', 'cal', 'increas', 'fat', 'cal', 'increas', 'worth', 'fat', 'increas', 'calori', 'carb', 'increas', 'calori', 'increas', 'calori', 'increas', 'increas', 'calori', 'food', 'scientist', 'know', 'sometim', 'number', 'dont', 'alway', 'add', 'exactli', 'pain', 'obviou', 'extra', 'calori', 'went', 'sugar', 'other', 'complain', 'ghirardelli', 'mix', 'sweet', 'tast', 'new', 'formula', 'much', 'nutrit', 'label', 'bear', 'biggest', 'gripe', 'reformul', 'sweet', 'up', 'sugar', 'dramat', 'ad', 'salt', 'sugar', 'booster', 'longer', 'like', 'enough', 'fat', 'ingredi', 'ad', 'convinc', 'real', 'gain', 'chocol', 'made', 'tast', 'new', 'formula', 'bear', 'taken', 'cut', 'serv', 'size', 'ad', 'cocoa', 'powder', 'get', 'chocol', 'less', 'sugar', 'despis', 'short', 'pump', 'full', 'sugar', 'cut', 'serv', 'almost', 'half', 'price', 'stay', 'less', 'realli', 'frost', 'longer', 'recommend', 'product', 'decent', 'thing', 'go', 'blew', 'forward', 'review', 'compani', 'sinc', 'hot', 'chocol', 'go', 'experi', 'make', 'either', 'ganach', 'syrup', 'melt', 'chocol', 'cream', 'tri', 'find', 'way', 'fine', 'grate', 'powder', 'high', 'qualiti', 'chocol', 'make', 'brand', 'that', 'realli', 'old', 'style', 'hot', 'chocol', 'cocoa', 'sure', 'peopl', 'way', 'much', 'money', 'hot', 'chocol', 'avail', 'boutiqu', 'price', 'object', 'object', 'rich', 'besid', 'come', 'home', 'version', 'curl', 'toe', 'may', 'busi', 'enjoy', 'friend'], tags=[677]),\n",
       " TaggedDocument(words=['concept', 'bar', 'seem', 'pretti', 'cool', 'organ', 'live', 'food', 'etc', 'fat', 'good', 'fat', 'that', 'realli', 'anyth', 'worri', 'flavor', 'tri', 'cashew', 'agav', 'nectar', 'tast', 'horribl', 'though', 'get', 'idea', 'imagin', 'old', 'smelli', 'shoe', 'rot', 'meat', 'seawe', 'mix', 'togeth', 'coat', 'greas', 'that', 'tast', 'like', 'sometim', 'post', 'review', 'similar', 'item', 'might', 'see', 'review', 'anoth', 'flavor', 'whhich', 'doesnt', 'appli', 'revieww', 'cashew', 'agav', 'nectar'], tags=[678]),\n",
       " TaggedDocument(words=['minor', 'chang', 'soup', 'base', 'wors', 'increas', 'salt', 'starch', 'filler', 'expens', 'flavor', 'bought', 'soup', 'base', 'year', 'ago', 'especi', 'like', 'clam', 'mushroom', 'base', 'unfortun', 'manufactur', 'sent', 'promo', 'postcard', 'year', 'later', 'offer', 'free', 'ship', 'cheaper', 'price', 'order', 'directli', 'order', 'bunch', 'toler', 'one', 'low', 'sodium', 'chicken', 'mushroom', 'base', 'useless', 'tast', 'acrid', 'salti', 'ever', 'tast', 'mushroom', 'use', 'lieu', 'salt', 'bonu', 'msg', 'qualiti', 'oatmeal', 'teff', 'flour', 'ground', 'beef', 'ginger', 'piec', 'quit', 'cream', 'mushroom', 'soup'], tags=[679]),\n",
       " TaggedDocument(words=['question', 'hard', 'answer', 'author', 'none', 'mincemeat', 'must', 'sure', 'contend', 'runni', 'textur', 'poor', 'flavour', 'linger', 'chemic', 'aftertast', 'tell', 'avoid', 'product', 'one', 'purchas', 'yet', 'unfortun', 'one', 'find', 'everywher', 'store', 'shelv', 'tribut', 'borden', 'market', 'power', 'famili', 'guest', 'order', 'coupl', 'jar', 'cross', 'blackwel', 'mincemeat', 'instead'], tags=[680]),\n",
       " TaggedDocument(words=['never', 'seen', 'sloppi', 'unsuit', 'pack', 'job', 'affili', 'three', 'plant', 'base', 'protect', 'fit', 'next', 'carton', 'thrown', 'styrofoam', 'flake', 'popcorn', 'top', 'leav', 'rub', 'transit', 'work', 'bottom', 'carton', 'also', 'leafelet', 'wet', 'return', 'order'], tags=[681]),\n",
       " TaggedDocument(words=['chocol', 'purchas', 'wholesal', 'store', 'less', 'half', 'price', 'add', 'crazi', 'ship', 'charg', 'found', 'place', 'order', 'unfortun', 'arriv', 'complet', 'melt', 'deliveri', 'person', 'left', 'porch', 'far', 'flavor', 'goe', 'peopl', 'tri', 'thought', 'bitter'], tags=[682]),\n",
       " TaggedDocument(words=['bought', 'picki', 'sinc', 'shell', 'actual', 'eat', 'lunch', 'school', 'didnt', 'even', 'think', 'second', 'check', 'ingredi', 'see', 'ridden', 'cheap', 'partial', 'hydrogen', 'oil', 'use', 'make', 'froot', 'loop', 'mean', 'realli', 'cannot', 'believ', 'year', 'kellog', 'still', 'use', 'cheap', 'unhealthi', 'ingredi', 'cereal', 'aim', 'kid', 'least', 'attempt', 'make', 'cereal', 'seem', 'healthi', 'lower', 'sugar', 'content', 'would', 'even', 'better', 'took', 'partial', 'hydrogen', 'crap'], tags=[683]),\n",
       " TaggedDocument(words=['ruin', 'great', 'irish', 'oatmeal', 'addit', 'could', 'deriv', 'gmo', 'sourc', 'pop', 'recommend', 'item', 'order', 'without', 'check', 'ingredi', 'big', 'mistak', 'cant', 'risk', 'eat', 'sinc', 'cant', 'eat', 'anyth', 'gmo', 'corn', 'soy', 'good', 'organ', 'oatmeal', 'dont', 'add', 'question', 'ingredi'], tags=[684]),\n",
       " TaggedDocument(words=['bought', 'anni', 'chun', 'product', 'recomend', 'trader', 'joe', 'worker', 'anni', 'signatur', 'soba', 'noodl', 'cook', 'either', 'unapp', 'glue', 'still', 'hard', 'insid', 'sauc', 'unpleas', 'odor', 'fiance', 'would', 'even', 'tri', 'went', 'ahead', 'tri', 'couldnt', 'finish', 'think', 'gener', 'star', 'see', 'dog', 'wouldnt', 'eat', 'either'], tags=[685]),\n",
       " TaggedDocument(words=['bought', 'trader', 'joe', 'pretti', 'hard', 'mayb', 'old', 'other', 'said', 'hard', 'chewi', 'hurt', 'jaw', 'tast', 'chocolatey', 'hope', 'caramel', 'good', 'pretti', 'sticki', 'got', 'finger', 'nut', 'thing', 'outsid', 'pretti', 'good', 'kept', 'fall', 'onto', 'floor', 'guess', 'ill', 'tri', 'less', 'messi', 'kashi', 'bar', 'next', 'time'], tags=[686]),\n",
       " TaggedDocument(words=['basic', 'shape', 'consist', 'cheeto', 'nice', 'crunchi', 'arent', 'hot', 'spici', 'fact', 'dont', 'much', 'flavor'], tags=[687]),\n",
       " TaggedDocument(words=['idea', 'go', 'organ', 'type', 'product', 'make', 'feel', 'somewhat', 'better', 'grab', 'quick', 'fix', 'meal', 'solut', 'cook', 'easi', 'name', 'brand', 'market', 'refer', 'stovetop', 'method', 'small', 'sucepan', 'full', 'water', 'minut', 'boil', 'pasta', 'mix', 'sauc', 'accordng', 'direct', 'walla', 'instant', 'easi', 'meal', 'that', 'great', 'bowl', 'comput', 'front', 'tube', 'favorit', 'movi', 'first', 'bite', 'decent', 'sauc', 'doesnt', 'powderi', 'textur', 'pasta', 'averag', 'ordinari', 'shell', 'cook', 'dent', 'nice', 'textur', 'teeth', 'realli', 'sink', 'half', 'portion', 'tast', 'get', 'bitter', 'ye', 'milk', 'still', 'good', 'got', 'appear', 'normal', 'mac', 'white', 'cheddar', 'chees', 'product', 'tast', 'one', 'sore', 'lack', 'ive', 'never', 'encount', 'product', 'like', 'didnt', 'care', 'went', 'direct', 'tri', 'tradit', 'style', 'mayb', 'would', 'better', 'dress', 'somehow', 'consid', 'better', 'tast', 'product', 'prepar', 'per', 'direct', 'dress', 'like', 'like', 'dress', 'one', 'your', 'interest', 'tri', 'similar', 'product', 'consid', 'kraft', 'organ', 'white', 'cheddar', 'shell', 'back', 'natur', 'white', 'cheddar', 'spiral'], tags=[688]),\n",
       " TaggedDocument(words=['indian', 'food', 'one', 'favorit', 'cuisin', 'like', 'howev', 'spici', 'sweet', 'first', 'attempt', 'follow', 'direct', 'packet', 'watt', 'microwav', 'rice', 'undercook', 'need', 'time', 'havent', 'bother', 'tri', 'didnt', 'enjoy', 'prefer', 'tast', 'thai', 'coconut', 'ginger', 'peanut', 'compani'], tags=[689]),\n",
       " TaggedDocument(words=['ye', 'tast', 'good', 'anoth', 'sugar', 'lollipop', 'least', 'candi', 'tree', 'lollipop', 'arent', 'amd', 'cane', 'sugar', 'evapor', 'cane', 'juic', 'actual', 'tast', 'like', 'fruit', 'sweet', 'fruit'], tags=[690]),\n",
       " TaggedDocument(words=['pleas', 'note', 'sweet', 'low', 'sugar', 'free', 'frost', 'sugar', 'free', 'howev', 'your', 'diabet', 'go', 'ingest', 'someth', 'higher', 'impact', 'rais', 'blood', 'glucos', 'regular', 'sugar', 'frost', 'maltodextrin', 'first', 'ingredi', 'list', 'sweet', 'low', 'frost', 'athlet', 'use', 'maltodextrin', 'energi', 'drink', 'food', 'give', 'glucos', 'diabet', 'famili', 'member', 'postprandi', 'glucomet', 'read', 'incred', 'high', 'eat', 'ive', 'written', 'compani', 'impact', 'product', 'stop', 'tout', 'must', 'diabet', 'never', 'respond', 'pleas', 'pleas', 'pleas', 'realiz', 'your', 'diabet', 'eat', 'maltodextrin', 'wors', 'eat', 'sugar', 'quick', 'rise', 'impact', 'blood', 'diabet', 'job', 'consum', 'inform', 'hope', 'help', 'diabet', 'enjoy', 'product', 'test', 'afterward', 'see', 'blood', 'glucos', 'skyrocket'], tags=[691]),\n",
       " TaggedDocument(words=['cat', 'wouldnt', 'touch', 'stuff', 'wound', 'give', 'aspca'], tags=[692]),\n",
       " TaggedDocument(words=['couldnt', 'tell', 'tomato', 'strawberri', 'order', 'tomato', 'strawberri', 'tub', 'sure', 'got', 'whatev', 'there', 'none', 'sweet', 'juici', 'fruiti', 'good', 'find', 'strawberri', 'tomato', 'call', 'someth', 'dri', 'use', 'fruit', 'someth', 'like'], tags=[693]),\n",
       " TaggedDocument(words=['disappoint', 'pictur', 'lead', 'believ', 'candi', 'honey', 'almond', 'ingredi', 'list', 'say', 'honey', 'almond', 'flaor', 'main', 'ingredi', 'sugar'], tags=[694]),\n",
       " TaggedDocument(words=['didnt', 'care', 'much', 'cracker', 'know', 'suppos', 'better', 'suppos', 'die', 'hard', 'chees', 'fan', 'like', 'kashi', 'granola', 'bar', 'definit', 'healthi', 'chick', 'full', 'good', 'ingredi', 'weird', 'aftertast', 'textur', 'lot', 'like', 'reduc', 'fat', 'chees', 'didnt', 'like', 'flavor', 'pretti', 'bland', 'anyway', 'sorri', 'kashi'], tags=[695]),\n",
       " TaggedDocument(words=['amazon', 'sent', 'wrong', 'thing', 'separ', 'packag', 'cranberri', 'tart', 'cherri', 'bing', 'dri', 'fruit', 'mixtur', 'advertis', 'see', 'ingredi', 'list', 'enough', 'avoid', 'melissa', 'brand', 'altogeth', 'ingredi', 'includ', 'high', 'fructos', 'corn', 'syrup', 'sucros', 'juic', 'concentr', 'partial', 'hydrogen', 'oil', 'yuck'], tags=[696]),\n",
       " TaggedDocument(words=['best', 'advic', 'give', 'tri', 'buy', 'get', 'small', 'packag', 'groceri', 'store', 'wont', 'entir', 'case', 'someth', 'that', 'hard', 'palat', 'concept', 'sound', 'awesom', 'crunchi', 'snack', 'made', 'plain', 'chees', 'spice', 'execut', 'howev', 'lack', 'dri', 'perhap', 'lack', 'moistur', 'mayb', 'salt', 'make', 'thirsti', 'fast', 'much', 'barbequ', 'flavor', 'seem', 'bit', 'standard', 'bbq', 'hope', 'find', 'one', 'friend', 'famili', 'member', 'take', 'packag', 'hand', 'dont', 'thrown'], tags=[697]),\n",
       " TaggedDocument(words=['got', 'sinc', 'usual', 'enjoy', 'numi', 'tea', 'bag', 'would', 'never', 'consid', 'give', 'one', 'box', 'flimsi', 'tea', 'pot', 'joke', 'strainer', 'includ', 'lid', 'pot', 'even', 'fit', 'pot', 'danger', 'pour', 'hot', 'tea', 'lid', 'want', 'sit', 'pot', 'ye', 'cool', 'see', 'flower', 'unfold', 'end', 'color', 'flavor', 'impress', 'expect', 'want', 'return', 'item', 'later', 'found', 'groceri', 'item', 'return', 'wish', 'note', 'item', 'page', 'check', 'recommend', 'item'], tags=[698]),\n",
       " TaggedDocument(words=['wow', 'know', 'someon', 'could', 'make', 'busi', 'sell', 'food', 'tast', 'bad', 'wonder', 'call', 'raw', 'revolut', 'tast', 'serious', 'blow', 'mind', 'someon', 'could', 'make', 'food', 'chocol', 'coconut', 'tast', 'aw', 'first', 'tast', 'poor', 'best', 'mouth', 'feel', 'graini', 'aftertast', 'wow', 'that', 'nasti', 'order', 'sale', 'want', 'tri', 'organ', 'raw', 'food', 'good', 'thing', 'cheap', 'lesson', 'learn', 'mistak', 'dont', 'buy'], tags=[699]),\n",
       " TaggedDocument(words=['gumbal', 'fine', 'lot', 'gumbal', 'howev', 'custom', 'servic', 'ship', 'process', 'candi', 'depot', 'total', 'inept', 'first', 'receiv', 'email', 'order', 'cancel', 'explan', 'cancel', 'email', 'inquir', 'go', 'got', 'email', 'back', 'say', 'item', 'ship', 'quicker', 'servic', 'could', 'receiv', 'gumbal', 'time', 'christma', 'gumbal', 'machin', 'purchas', 'gift', 'great', 'two', 'day', 'later', 'get', 'email', 'amazon', 'state', 'gumbal', 'ship', 'day', 'date', 'candi', 'depot', 'state', 'ship', 'item', 'christma', 'day', 'gumbal', 'machin', 'gumbal', 'cours', 'candi', 'depot', 'honest', 'least', 'total', 'incompetit', 'could', 'gone', 'local', 'gotten', 'ala', 'late', 'way', 'got', 'amazon', 'shipment', 'notif', 'email', 'candi', 'depot', 'ask', 'go', 'forward', 'email', 'state', 'ship', 'ask', 'go', 'surpris', 'respons', 'suggest', 'get', 'gumbal', 'local', 'someon', 'candi', 'depot', 'unless', 'dont', 'care', 'get', 'week'], tags=[700]),\n",
       " TaggedDocument(words=['cours', 'prefer', 'freshli', 'made', 'espresso', 'sometim', 'instant', 'good', 'pinch', 'travel', 'around', 'europ', 'extens', 'sever', 'brand', 'avail', 'arent', 'bad', 'brand', 'use', 'coffe', 'flavor', 'custard', 'etc', 'beverag', 'rate', 'rock', 'bottom', 'book'], tags=[701]),\n",
       " TaggedDocument(words=['trap', 'work', 'well', 'came', 'squar', 'bait', 'packag', 'fit', 'back', 'slot', 'bait', 'chang', 'squar', 'pink', 'piec', 'stick', 'insid', 'complt', 'ineffect', 'moth', 'fli', 'aroound', 'pantri', 'infest', 'box', 'food', 'never', 'near', 'trap', 'trap', 'moth', 'doesnt', 'stick', 'glue', 'fli', 'right', 'back', 'made', 'known', 'safer', 'mfg', 'soon', 'chang', 'bait', 'done', 'noth', 'wast', 'trap', 'past', 'year', 'found', 'noth', 'replac', 'sinc', 'compani', 'use', 'kind', 'bait'], tags=[702]),\n",
       " TaggedDocument(words=['like', 'hot', 'stuff', 'thing', 'killer', 'put', 'tini', 'dab', 'toothpick', 'sick', 'rest', 'day'], tags=[703]),\n",
       " TaggedDocument(words=['first', 'ship', 'cost', 'packag', 'noodl', 'tast', 'peculiar', 'enough', 'couldnt', 'finish', 'ask', 'compani', 'cancel', 'order', 'ship', 'didnt', 'wrote', 'would', 'cut', 'ship', 'half', 'troubl', 'pay', 'bag', 'noodl', 'gross', 'tast', 'textur', 'worth'], tags=[704]),\n",
       " TaggedDocument(words=['like', 'sever', 'mcdougal', 'item', 'one', 'dont', 'wast', 'money', 'tri', 'one', 'soup', 'instead', 'like', 'split', 'pea', 'minestron'], tags=[705]),\n",
       " TaggedDocument(words=['found', 'chees', 'snack', 'terribl', 'smell', 'like', 'dog', 'treat', 'tast', 'like', 'would', 'imagin', 'dog', 'treat', 'tast', 'like', 'implor', 'avoid', 'snack'], tags=[706]),\n",
       " TaggedDocument(words=['three', 'himalyan', 'turn', 'nose', 'treat', 'offer', 'cat', 'review', 'impress', 'textur', 'portion', 'size', 'believ', 'feral', 'stray', 'neighborhood', 'may', 'enjoy'], tags=[707]),\n",
       " TaggedDocument(words=['never', 'prepar', 'anyth', 'disgust', 'tast', 'mix', 'sour', 'milk', 'cardboard', 'smell', 'bad', 'take', 'trash', 'whole', 'room', 'begin', 'smell', 'bake', 'often', 'know', 'kitchen', 'error', 'picki', 'could', 'stop', 'gag', 'would', 'recommend', 'pamela', 'extra', 'dark', 'chocol', 'theyr', 'delici', 'browni', 'bite', 'cooki', 'side', 'recip', 'bag', 'even', 'make', 'super', 'healthi', 'use', 'applesaus', 'instead', 'oil'], tags=[708]),\n",
       " TaggedDocument(words=['start', 'use', 'amazon', 'groceri', 'order', 'variou', 'healthi', 'snack', 'directli', 'sent', 'offic', 'paid', 'enorm', 'great', 'shape', 'eat', 'lot', 'high', 'energi', 'food', 'low', 'sugar', 'throughout', 'day', 'let', 'light', 'lunch', 'said', 'guess', 'expect', 'order', 'amazon', 'groceri', 'price', 'right', 'biggest', 'problem', 'kind', 'tasteless', 'realli', 'need', 'eat', 'someth', 'els', 'major', 'problem', 'come', 'broken', 'best', 'cracker', 'intact', 'realli', 'end', 'eat', 'box', 'cracker', 'chip', 'also', 'box', 'clasp', 'fold', 'way', 'actual', 'close', 'thing', 'isnt', 'exactli', 'bastion', 'fresh', 'alright', 'expect', 'prepar', 'get', 'might', 'surpris'], tags=[709]),\n",
       " TaggedDocument(words=['claim', 'jumper', 'restaur', 'use', 'helen', 'grace', 'fudg', 'top', 'mud', 'pie', 'dessert', 'dessert', 'recent', 'like', 'fudg', 'accent', 'well', 'decid', 'buy', 'unfortun', 'experi', 'home', 'fudg', 'top', 'jar', 'tast', 'differ', 'top', 'restaur', 'far', 'sweeter', 'jar', 'also', 'seem', 'differ', 'consist', 'fudg', 'top', 'jar', 'even', 'though', 'start', 'warm', 'smooth', 'froze', 'instantli', 'unappet', 'glob', 'top', 'ice', 'cream', 'sure', 'explan', 'differ', 'although', 'suspect', 'claim', 'jumper', 'somehow', 'tweak', 'top', 'serv', 'claim', 'jumper', 'top', 'mud', 'pie', 'fabul', 'home', 'jar', 'top', 'disappoint', 'helen', 'grace', 'offer', 'refund', 'though', 'custom', 'servic', 'excel', 'that', 'gave', 'two', 'star'], tags=[710]),\n",
       " TaggedDocument(words=['cooki', 'disgust', 'tast', 'like', 'two', 'dri', 'cracker', 'tini', 'bit', 'dri', 'frost', 'middl', 'couldnt', 'give', 'thing', 'away', 'anyon', 'tri', 'one', 'theyd', 'hand', 'whole', 'packag', 'back', 'end', 'throw', 'theyr', 'sooo', 'gross', 'thing', 'dont', 'even', 'resembl', 'cooki'], tags=[711]),\n",
       " TaggedDocument(words=['know', 'swiss', 'cake', 'roll', 'never', 'achiev', 'delici', 'statu', 'enjoy', 'yodel', 'realli', 'give', 'effort', 'major', 'complaint', 'snack', 'dri', 'attempt', 'surround', 'creme', 'fill', 'kind', 'chocol', 'cake', 'result', 'come', 'cheap', 'tast', 'joke', 'dont', 'realli', 'advic', 'littl', 'debbi', 'improv', 'product', 'though', 'simpli', 'leav', 'expert', 'drake', 'snack', 'food'], tags=[712]),\n",
       " TaggedDocument(words=['bought', 'love', 'haribo', 'gummi', 'product', 'howev', 'disappoint', 'see', 'made', 'haribo', 'franc', 'realli', 'german', 'haribo', 'believ', 'huge', 'differ', 'one', 'greasi', 'soft', 'almost', 'strawberri', 'flavor', 'dont', 'wast', 'money'], tags=[713]),\n",
       " TaggedDocument(words=['recent', 'use', 'food', 'exclus', 'sever', 'disturb', 'incid', 'switch', 'brand', 'last', 'month', 'found', 'cardboard', 'hair', 'bug', 'three', 'separ', 'varieti', 'merrick', 'dog', 'cat', 'food', 'found', 'cardboard', 'contact', 'compani', 'find', 'apolog', 'mail', 'coupon', 'sinc', 'found', 'hair', 'two', 'varieti', 'dog', 'food', 'final', 'straw', 'last', 'week', 'open', 'cat', 'food', 'find', 'dead', 'fli', 'right', 'top', 'food', 'way', 'food', 'produc', 'human', 'facil', 'qualiti', 'appal', 'especi', 'price', 'spent', 'thousand', 'merrick', 'pet', 'food', 'lost', 'busi', 'forev'], tags=[714]),\n",
       " TaggedDocument(words=['simpli', 'dont', 'like', 'easi', 'prepar', 'eat', 'feel', 'eat', 'lot', 'artifici', 'ingredi', 'cannot', 'even', 'finish', 'one', 'fourth'], tags=[715]),\n",
       " TaggedDocument(words=['excit', 'get', 'read', 'ingredi', 'purchas', 'big', 'mistak', 'far', 'sweet', 'almost', 'sappi', 'tast', 'dont', 'feel', 'like', 'eat', 'someth', 'healthi', 'rather', 'chewi', 'snakc', 'make', 'kid', 'high', 'fructos', 'insan', 'realli', 'feel', 'would', 'better', 'fraction', 'add'], tags=[716]),\n",
       " TaggedDocument(words=['expect', 'basket', 'receiv', 'box', 'also', 'felt', 'somewhat', 'pricey', 'ship', 'fee', 'ad', 'hesit', 'order', 'anyth', 'els', 'futur'], tags=[717]),\n",
       " TaggedDocument(words=['tri', 'melita', 'pod', 'unit', 'produc', 'bland', 'unexcept', 'coffe', 'consid', 'cost', 'equival', 'pound', 'might', 'expect', 'ordinari', 'java'], tags=[718]),\n",
       " TaggedDocument(words=['child', 'rare', 'candi', 'percept', 'sweet', 'gear', 'fruit', 'junk', 'food', 'still', 'wont', 'eat', 'lace', 'told', 'almost', 'tast', 'tri', 'agre'], tags=[719]),\n",
       " TaggedDocument(words=['well', 'open', 'box', 'new', 'year', 'breakfast', 'expect', 'first', 'wooden', 'box', 'secondli', 'typic', 'smoke', 'salmon', 'use', 'state', 'previous', 'pack', 'brine', 'liquid', 'fish', 'appear', 'smoke', 'either', 'flavor', 'appear', 'although', 'salmon', 'tast', 'smell', 'like', 'tuna', 'give', 'one', 'star', 'zero', 'option', 'purchas'], tags=[720]),\n",
       " TaggedDocument(words=['redeem', 'qualiti', 'need', 'refriger', 'cook', 'cook', 'minut', 'great', 'quick', 'meal', 'side', 'dish', 'butter', 'tomato', 'sauc', 'gnocchi', 'greatest', 'like', 'starchi', 'dumpl', 'heavi', 'dough', 'potato', 'textur', 'tast'], tags=[721]),\n",
       " TaggedDocument(words=['bit', 'disappoint', 'crumbl', 'easili', 'unusu', 'textur', 'son', 'like'], tags=[722]),\n",
       " TaggedDocument(words=['gave', 'one', 'star', 'concept', 'fan', 'dave', 'hot', 'sauc', 'combin', 'smoki', 'barbecu', 'flavor', 'invigor', 'heat', 'alway', 'get', 'saliva', 'go', 'spray', 'disappointingli', 'lack', 'respect', 'exagger', 'say', 'virtual', 'none', 'speak', 'tast', 'like', 'bad', 'wateri', 'vinegar', 'buy', 'stuff', 'doesnt', 'tast', 'good', 'get', 'endorphin', 'habanero', 'come', 'solut', 'collect', 'top', 'bottl', 'instead', 'homogen', 'red', 'color', 'see', 'photo', 'get', 'blood', 'red', 'color', 'float', 'top', 'murki', 'yellow', 'color', 'need', 'get', 'spray', 'look', 'normal', 'call', 'dave', 'told', 'that', 'typic', 'excit', 'sauc', 'want', 'way', 'evenli', 'coat', 'pizza', 'got', 'spray', 'bottl', 'fill', 'someth', 'realli', 'cant', 'describ', 'edibl', 'fill', 'anoth', 'sauc', 'itd', 'probabl', 'clog', 'nozzl', 'also', 'intend', 'use', 'natur', 'pest', 'repel', 'dave', 'suggest', 'spritz', 'garden', 'keep', 'rodent', 'bird', 'away', 'never', 'tri', 'dont', 'know', 'work', 'claim', 'hope', 'els', 'product', 'complet', 'without', 'merit'], tags=[723]),\n",
       " TaggedDocument(words=['would', 'excel', 'base', 'build', 'nice', 'pot', 'healthi', 'soup', 'msg', 'unneccessarili', 'high', 'sodium', 'content', 'reduc', 'salt', 'version', 'would', 'merit', 'star'], tags=[724]),\n",
       " TaggedDocument(words=['littl', 'meali', 'graini', 'pretti', 'high', 'carb', 'though'], tags=[725]),\n",
       " TaggedDocument(words=['tran', 'fat', 'flavor', 'basic', 'tast', 'like', 'cardboard', 'children', 'wont', 'eat'], tags=[726]),\n",
       " TaggedDocument(words=['order', 'favorit', 'assort', 'pack', 'receiv', 'question', 'order', 'told', 'stock', 'origin', 'order', 'could', 'return', 'order', 'receiv', 'wont', 'order'], tags=[727]),\n",
       " TaggedDocument(words=['bought', 'love', 'mr', 'may', 'almond', 'crunch', 'weve', 'bought', 'costco', 'like', 'walnut', 'thought', 'snack', 'would', 'good', 'almond', 'crunch', 'unfortun', 'skin', 'walnut', 'make', 'walnut', 'crunch', 'tast', 'bitter', 'there', 'strang', 'kind', 'malti', 'tast', 'kept', 'open', 'bag', 'think', 'next', 'one', 'would', 'better', 'buy', 'almond', 'crunch', 'instead', 'that', 'realli', 'good'], tags=[728]),\n",
       " TaggedDocument(words=['like', 'could', 'recommend', 'buy', 'disappoint', 'idea', 'sound', 'great'], tags=[729]),\n",
       " TaggedDocument(words=['buy', 'product', 'donat', 'entir', 'box', 'local', 'food', 'bank', 'fill', 'peculiar', 'smell', 'feel', 'like', 'eat', 'cooki', 'serious', 'stay', 'away', 'product'], tags=[730]),\n",
       " TaggedDocument(words=['save', 'money', 'chees', 'round', 'terribl', 'dri', 'high', 'salt', 'that', 'tast', 'would', 'give', 'big', 'zero'], tags=[731]),\n",
       " TaggedDocument(words=['limp', 'soggi', 'littl', 'tast', 'bit', 'like', 'real', 'pad', 'thai'], tags=[732]),\n",
       " TaggedDocument(words=['wonder', 'twine', 'earl', 'grey', 'come', 'know', 'love', 'pull', 'new', 'coke', 'blunder', 'best', 'earl', 'grey', 'tea', 'ever', 'avail', 'tea', 'weak', 'tasteless', 'hate', 'stupid', 'especi', 'corpor', 'market'], tags=[733]),\n",
       " TaggedDocument(words=['packag', 'came', 'hole', 'plastic', 'wierd', 'cobwebbi', 'dust', 'around', 'open', 'wing', 'bug', 'threw', 'bad', 'one', 'good', 'one', 'soon', 'develop', 'symptom', 'disgust', 'wast', 'amazon', 'realli', 'list', 'expir', 'date', 'type', 'product', 'yuck'], tags=[734]),\n",
       " TaggedDocument(words=['flavor', 'main', 'reason', 'bought', 'system', 'green', 'mountain', 'flavor', 'coffe', 'happen', 'favor', 'brand', 'coffe', 'stand', 'big', 'disappoint', 'flavor', 'subdu', 'cant', 'even', 'guess', 'one', 'varieti', 'pack', 'drink', 'big', 'disappoint'], tags=[735]),\n",
       " TaggedDocument(words=['hadnt', 'whatchamacallit', 'year', 'time', 'tasti', 'manufactur', 'chang', 'recip', 'longer', 'tast', 'peanut', 'butter', 'caramel', 'flavor', 'gone', 'cours', 'american', 'havent', 'access', 'real', 'chocol', 'flavor', 'year'], tags=[736]),\n",
       " TaggedDocument(words=['obvious', 'cant', 'tell', 'pictur', 'whether', 'pumpkin', 'seed', 'shell', 'assum', 'sinc', 'salt', 'probabl', 'without', 'shell', 'well', 'buy', 'hope', 'type', 'like', 'eat', 'pumpkin', 'seed', 'shell', 'arent', 'seed', 'larg', 'shell', 'easi', 'open', 'disappoint', 'opinion', 'use', 'like', 'eat', 'shell'], tags=[737]),\n",
       " TaggedDocument(words=['product', 'came', 'pack', 'bag', 'can', 'disappoint'], tags=[738]),\n",
       " TaggedDocument(words=['pictur', 'packag', 'assum', 'chocol', 'came', 'small', 'piec', 'instead', 'seem', 'huge', 'hunk', 'cannot', 'use', 'purpos', 'purchas', 'allow', 'return', 'accord', 'amazon', 'polici', 'packag', 'never', 'open', 'sit', 'shelf', 'kitchen'], tags=[739]),\n",
       " TaggedDocument(words=['like', 'idea', 'healthi', 'soup', 'market', 'peopl', 'go', 'continu', 'buy', 'anni', 'chun', 'doesnt', 'improv', 'tast', 'would', 'eat', 'kid', 'think', 'blah', 'tast'], tags=[740]),\n",
       " TaggedDocument(words=['gumbal', 'smiley', 'face', 'look', 'cute', 'new', 'gumbal', 'machin', 'unfortun', 'neither', 'husband', 'children', 'like', 'gum', 'tast', 'artifici'], tags=[741]),\n",
       " TaggedDocument(words=['smackaroo', 'diet', 'treat', 'garlic', 'lob', 'carb', 'cracker', 'arriv', 'baggi', 'seal', 'stale'], tags=[742]),\n",
       " TaggedDocument(words=['gumbal', 'look', 'great', 'new', 'gumbal', 'machin', 'unfortun', 'neither', 'husband', 'children', 'enjoy', 'tast', 'much'], tags=[743]),\n",
       " TaggedDocument(words=['pretti', 'coffe', 'noth', 'special', 'suppos', 'fair', 'deal', 'price', 'pick', 'pack', 'emerg', 'stash', 'work', 'well', 'caffein', 'deliv', 'system', 'choic', 'cours', 'coffe', 'choic', 'three', 'time', 'cost', 'stuff', 'comparison', 'fair'], tags=[744]),\n",
       " TaggedDocument(words=['plant', 'healthi', 'receiv', 'didnt', 'even', 'gibe', 'gift', 'intend', 'bad', 'look'], tags=[745]),\n",
       " TaggedDocument(words=['first', 'order', 'lost', 'sinc', 'arrang', 'birthday', 'distress', 'arriv', 'anywher', 'close', 'flower', 'thin', 'look', 'accord', 'recipi', 'well', 'ask', 'honest', 'previou', 'order', 'seller', 'great', 'dont', 'know', 'what', 'happen', 'sever', 'friend', 'advis', 'experienc', 'similar', 'problem', 'deliveri', 'qualiti', 'recent', 'month', 'order', 'elsewher', 'futur'], tags=[746]),\n",
       " TaggedDocument(words=['though', 'qualiti', 'pepper', 'excel', 'much', 'expens', 'good', 'could', 'overpay', 'anywher'], tags=[747]),\n",
       " TaggedDocument(words=['cooki', 'may', 'inclin', 'give', 'three', 'star', 'arriv', 'whole', 'cooki', 'everi', 'last', 'cooki', 'broken', 'understand', 'probabl', 'due', 'poor', 'packag', 'consist', 'bit', 'graini', 'dri', 'though', 'milk', 'help', 'next', 'time', 'ill', 'purchas', 'chewi', 'brand', 'mr', 'field'], tags=[748]),\n",
       " TaggedDocument(words=['tast', 'cinnamon', 'use', 'lot', 'product', 'fast', 'worth', 'money', 'use', 'regular', 'cinnamon'], tags=[749]),\n",
       " TaggedDocument(words=['beyond', 'glare', 'fact', 'product', 'arent', 'tomato', 'one', 'blight', 'tomato', 'etho', 'two', 'ingredi', 'anyth', 'includ', 'banana', 'strawberri', 'dont', 'call', 'cracker', 'jack', 'peanut', 'popcorn', 'high', 'fructos', 'corn', 'syrup', 'someth', 'come', 'packag', 'dont', 'call', 'varieti', 'pack', 'cereal', 'grain', 'high', 'fructos', 'corn', 'syrup', 'tomato', 'folk', 'deserv', 'credit', 'aspir', 'puriti', 'goe', 'beyond', 'goe', 'mimalist', 'reduct', 'concept', 'absolut', 'roccoco', 'right'], tags=[750]),\n",
       " TaggedDocument(words=['high', 'hope', 'product', 'first', 'open', 'packag', 'noodl', 'great', 'textur', 'sauc', 'look', 'appeal', 'food', 'easi', 'prepar', 'workplac', 'howev', 'tast', 'oili', 'flavorless', 'big', 'peanut', 'satay', 'fan', 'expect', 'spice', 'flavor'], tags=[751]),\n",
       " TaggedDocument(words=['seller', 'respond', 'ingredi', 'list', 'websit', 'item', 'accur', 'need', 'avoid', 'gluten', 'gluten', 'list', 'websit', 'ingredi', 'howev', 'receiv', 'product', 'gluten', 'seller', 'care', 'satisfi', 'respond', 'complaint', 'sever', 'sent'], tags=[752]),\n",
       " TaggedDocument(words=['happi', 'gift', 'basket', 'deliv', 'howev', 'compani', 'one', 'distribut', 'center', 'california', 'obvious', 'effici', 'deliv', 'east', 'coast', 'compani', 'ambit', 'becom', 'nation', 'compani', 'will', 'poni', 'money', 'get', 'addit', 'distribut', 'facil', 'outsid', 'california', 'mayb', 'great', 'live', 'california', 'howev', 'live', 'florida', 'order', 'decemb', 'basket', 'arriv', 'januari', 'think', 'would', 'unaccept', 'anyon', 'view', 'espesci', 'sinc', 'give', 'gift', 'basket', 'compani', 'get', 'program', 'get', 'distribut', 'facil', 'would', 'stay', 'away', 'unless', 'want', 'wait', 'two', 'week', 'simpl', 'basket', 'deliv'], tags=[753]),\n",
       " TaggedDocument(words=['love', 'malt', 'flavor', 'like', 'kashi', 'golean', 'bar', 'tasti', 'take', 'forev', 'chew', 'one', 'bite', 'hard', 'hard', 'hard'], tags=[754]),\n",
       " TaggedDocument(words=['purchas', 'item', 'groceri', 'store', 'previous', 'realli', 'enjoy', 'big', 'fan', 'anchovi', 'unfortun', 'everi', 'tin', 'order', 'reveal', 'homogen', 'muck', 'anchovi', 'goo', 'scatter', 'caper', 'float', 'wonder', 'case', 'aggres', 'shaken', 'deliveri', 'may', 'fluke', 'order'], tags=[755]),\n",
       " TaggedDocument(words=['poor', 'product', 'dont', 'wast', 'money'], tags=[756]),\n",
       " TaggedDocument(words=['stuff', 'stuf', 'good', 'save', 'money'], tags=[757]),\n",
       " TaggedDocument(words=['best', 'thing', 'say', 'bar', 'less', 'disgust', 'chocol', 'coconut', 'bar', 'still', 'pretti', 'disgust', 'raw', 'food', 'fan', 'food', 'bar', 'look'], tags=[758]),\n",
       " TaggedDocument(words=['popcorn', 'rather', 'bland', 'purchas', 'gener', 'like', 'newman', 'brand', 'like', 'idea', 'organ', 'popcorn', 'flavorless', 'would', 'buy'], tags=[759]),\n",
       " TaggedDocument(words=['servic', 'may', 'great', 'life', 'saver', 'werent', 'old', 'crumbl', 'open', 'packag', 'found', 'look', 'exper', 'date'], tags=[760]),\n",
       " TaggedDocument(words=['piec', 'cheap', 'cant', 'get', 'compani', 'return', 'phone', 'call', 'return'], tags=[761]),\n",
       " TaggedDocument(words=['sinc', 'total', 'carb', 'import', 'diabet', 'recommend', 'gram', 'carb', 'gram', 'fiber', 'per', 'cup', 'cook', 'pasta', 'almost', 'total', 'amount', 'carb', 'allow', 'diabet', 'complet', 'meal', 'cup', 'maximum', 'carb', 'meal', 'eat', 'one', 'cup', 'mislead', 'diabet', 'digest', 'carb', 'mean', 'total', 'carb', 'less', 'fiber', 'count', 'diabet', 'thu', 'diabet', 'bewar', 'want', 'eat', 'rememb', 'cup', 'complet', 'meal', 'carb'], tags=[762]),\n",
       " TaggedDocument(words=['known', 'someth', 'fishi', 'product', 'detail', 'said', 'product', 'dimens', 'inch', 'pound', 'ship', 'weight', 'said', 'pound', 'actual', 'come', 'cheap', 'even', 'know', 'wood', 'box', 'weigh', 'pound', 'postal', 'scale', 'howev', 'fair', 'taken', 'plastic', 'wrapper', 'gift', 'could', 'thin', 'wood', 'addit', 'contain', 'open', 'like', 'box', 'rather', 'chest', 'hing', 'back', 'disappoint', 'tea', 'chest', 'price'], tags=[763]),\n",
       " TaggedDocument(words=['would', 'buy', 'desper', 'dessert', 'dont', 'anyth', 'els', 'prepar', 'would', 'probabl', 'satisfi', 'crave', 'dont', 'plan', 'serv', 'guest', 'though'], tags=[764]),\n",
       " TaggedDocument(words=['follow', 'direct', 'exactli', 'got', 'stiff', 'dri', 'noodl', 'gummi', 'tast', 'sauc', 'wont', 'buy', 'realli', 'wish', 'could', 'return', 'box'], tags=[765]),\n",
       " TaggedDocument(words=['advert', 'pure', 'kona', 'coffe', 'blend', 'less', 'kona', 'bean', 'wasnt', 'worth', 'purchas', 'unfortun', 'sure', 'food', 'wine', 'tast', 'differ', 'coffe'], tags=[766]),\n",
       " TaggedDocument(words=['base', 'mostli', 'posit', 'review', 'purchas', 'well', 'believ', 'neg', 'review', 'cheap', 'think', 'dollar', 'store', 'glass', 'teapot', 'without', 'strainer', 'hold', 'ounc', 'sinc', 'receiv', 'yesterday', 'use', 'one', 'flower', 'fail', 'bloom', 'tea', 'flavor', 'impress', 'concept', 'uniqu', 'way', 'pricey', 'get', 'bamboo', 'box', 'pretti', 'realli', 'suffici', 'sturdi', 'store', 'anyth', 'except', 'light', 'weight', 'item'], tags=[767]),\n",
       " TaggedDocument(words=['dont', 'know', 'product', 'dormant', 'dead', 'leav', 'give', 'great', 'care', 'grow', 'lamp', 'azalea', 'geranium', 'reorder', 'advis', 'given', 'help'], tags=[768]),\n",
       " TaggedDocument(words=['agre', 'complet', 'previou', 'licoric', 'even', 'come', 'close', 'usual', 'qualiti', 'candi', 'stuff', 'dri', 'hard', 'leav', 'hand', 'sticki', 'waxi', 'greas', 'littl', 'kind', 'fake', 'floral', 'recommend'], tags=[769]),\n",
       " TaggedDocument(words=['soup', 'horribl', 'almost', 'tast', 'pretti', 'hard', 'screw', 'soup', 'whoever', 'made', 'obvious', 'didnt', 'tast', 'test', 'idea', 'cruel', 'joke'], tags=[770]),\n",
       " TaggedDocument(words=['use', 'think', 'stuff', 'best', 'coffe', 'around', 'start', 'tri', 'variou', 'brand', 'grind', 'came', 'realiz', 'best', 'stuff', 'averag', 'can', 'stuff', 'groceri', 'store', 'that', 'review', 'right', 'nutti', 'flavor', 'realli', 'need', 'love', 'nut', 'one', 'turn', 'secondli', 'fairli', 'light', 'roast', 'tend', 'enjoy', 'dark', 'roast', 'one', 'doesnt', 'enough', 'kick', 'blend', 'isnt', 'realli', 'good', 'thing', 'coffe', 'freak', 'tend', 'like', 'bean', 'specif', 'region', 'world', 'blend', 'realli', 'mess', 'tast', 'enjoy', 'blend', 'gener', 'peopl', 'arent', 'seriou', 'coffe'], tags=[771]),\n",
       " TaggedDocument(words=['pleas', 'pleas', 'feed', 'treat', 'dog', 'cat', 'compani', 'public', 'risk', 'blockag', 'choke', 'dog', 'die', 'result', 'ingest', 'greeni', 'tri', 'googl', 'greeni', 'blockag', 'death', 'product', 'safe', 'dog', 'sent', 'free', 'sampl', 'reformul', 'greeni', 'mail', 'packag', 'claim', 'treat', 'easier', 'digest', 'gave', 'treat', 'dog', 'pound', 'weimaran', 'watch', 'dog', 'chew', 'treat', 'chew', 'appropri', 'take', 'time', 'chew', 'piec', 'small', 'digest', 'chunk', 'next', 'day', 'dog', 'refus', 'eat', 'drink', 'anyth', 'vomit', 'least', 'three', 'time', 'act', 'listless', 'letharg', 'day', 'even', 'call', 'vet', 'told', 'vet', 'last', 'thing', 'dog', 'ate', 'greeni', 'vet', 'inform', 'greeni', 'known', 'caus', 'intestin', 'blockag', 'case', 'suggest', 'take', 'emerg', 'vet', 'clinic', 'advanc', 'treatment', 'took', 'emerg', 'clinic', 'diagnosi', 'vet', 'treat', 'medic', 'told', 'return', 'continu', 'vomit', 'cost', 'visit', 'approxim', 'next', 'day', 'woke', 'find', 'dog', 'cover', 'bloodi', 'soft', 'stool', 'three', 'bout', 'diarreha', 'two', 'hour', 'soft', 'bloodi', 'call', 'vet', 'told', 'dog', 'experienc', 'sever', 'intestin', 'distress', 'caus', 'bloodi', 'stool', 'suggest', 'give', 'water', 'return', 'clinic', 'earli', 'dog', 'pass', 'greeni', 'bodi', 'pass', 'greeni', 'would', 'requir', 'exploratori', 'surgeri', 'vet', 'estim', 'cost', 'approxim', 'depend', 'natur', 'blockag', 'represent', 'new', 'reformul', 'greeni', 'easier', 'digest', 'patent', 'fals', 'dog', 'properli', 'chew', 'greeni', 'yet', 'treat', 'still', 'insolubl', 'indigest', 'ingest', 'greeni', 'caus', 'seriou', 'health', 'issu', 'thing', 'arent', 'safe', 'pleas', 'dont', 'support', 'compani', 'put', 'dog', 'health', 'risk'], tags=[772]),\n",
       " TaggedDocument(words=['tomato', 'domest', 'grown', 'person', 'said', 'didnt', 'know', 'anyon', 'tell', 'theyr', 'read', 'product', 'descript', 'written', 'manufactur', 'say', 'domest', 'grown', 'tomato', 'also', 'say', 'grown', 'california', 'right', 'label', 'person', 'said', 'tast', 'refer', 'anoth', 'review', 'comment', 'said', 'person', 'tast', 'pleas', 'reread', 'review', 'clearli', 'state', 'tast', 'cook', 'mani', 'time', 'sale', 'local', 'safeway', 'definit', 'real', 'deal', 'look', 'like', 'tast', 'like', 'real', 'san', 'marzano', 'tomato', 'grown', 'tast', 'cook', 'mani', 'time', 'tast', 'like', 'run', 'mill', 'american', 'groceri', 'store', 'brand', 'agre', 'review', 'label', 'fals', 'advertis', 'price', 'charg', 'amazon', 'highway', 'robberi', 'ouch', 'paid', 'per', 'sale', 'local', 'market', 'save', 'time', 'look', 'real', 'deal', 'websit', 'sell', 'noth', 'real', 'italian', 'product', 'grown', 'itali', 'stamp', 'offici', 'italian', 'dop', 'seal'], tags=[773]),\n",
       " TaggedDocument(words=['realli', 'horrifi', 'thing', 'god', 'aw', 'bar', 'nuclear', 'wast', 'isnt', 'someon', 'would', 'manufactur', 'peopl', 'wrote', 'review', 'state', 'like', 'tast', 'good', 'peopl', 'identifi', 'round', 'institution', 'indefinit', 'period', 'time', 'trueli', 'would', 'much', 'rather', 'enjoy', 'eat', 'big', 'bowl', 'dirt'], tags=[774]),\n",
       " TaggedDocument(words=['ive', 'tri', 'number', 'differ', 'kind', 'australian', 'licoric', 'realli', 'came', 'short', 'licoric', 'tast', 'rather', 'thin', 'weak', 'textur', 'pasti', 'nice', 'linger', 'aftertast', 'posit', 'possibl', 'lot', 'variabl', 'among', 'batch', 'tri', 'sever', 'bag', 'similar'], tags=[775]),\n",
       " TaggedDocument(words=['although', 'fda', 'label', 'claim', 'tran', 'fat', 'ingredi', 'tell', 'differ', 'stori', 'partial', 'hydrogen', 'coconut', 'palm', 'kernel', 'first', 'ingredi', 'list', 'poison', 'outlaw', 'new', 'york', 'restaur', 'care', 'eat', 'want', 'make', 'sure', 'stay', 'away', 'turn', 'claim', 'tran', 'fat', 'content', 'less', 'per', 'serv', 'product', 'contain', 'signific', 'amount', 'tran', 'fat', 'your', 'go', 'drop', 'dead', 'use', 'teaspoon', 'coffe', 'regular', 'prolong', 'use', 'detriment', 'health', 'your', 'better', 'stay', 'away', 'altogeth', 'anyway', 'may', 'want', 'contact', 'nestl', 'consum', 'servic', 'complain', 'decept', 'practic', 'product', 'made', 'healthier', 'ingredi'], tags=[776]),\n",
       " TaggedDocument(words=['dissappoint', 'product', 'first', 'solidifi', 'like', 'rock', 'jar', 'suspect', 'shelf', 'long', 'time', 'expect', 'white', 'cheddar', 'got', 'mostli', 'salt', 'flavor', 'pleas', 'bare', 'cheeselik', 'favor', 'buy', 'white', 'cheddar', 'popcorn', 'premad', 'bag', 'store', 'hundr', 'time', 'better', 'bought', 'box', 'six', 'jar', 'even', 'box', 'look', 'ancient', 'threw', 'trash', 'star', 'avail', 'would', 'pick', 'instead'], tags=[777]),\n",
       " TaggedDocument(words=['vendor', 'never', 'ship', 'product', 'contact', 'tell', 'final', 'tri', 'sever', 'time', 'contact', 'vendor', 'advis', 'item', 'stock', 'late', 'make', 'christma', 'candi', 'gift', 'give'], tags=[778]),\n",
       " TaggedDocument(words=['like', 'hot', 'hard', 'chew', 'littl', 'tast', 'tri', 'didnt', 'enjoy'], tags=[779]),\n",
       " TaggedDocument(words=['difficult', 'find', 'old', 'fashion', 'day', 'old', 'famili', 'favorit', 'like', 'mincemeat', 'pie', 'husband', 'request', 'mincemeat', 'pie', 'age', 'decid', 'search', 'web', 'mincement', 'without', 'lot', 'effort', 'appreci', 'pie', 'delici', 'way', 'love'], tags=[780]),\n",
       " TaggedDocument(words=['first', 'ran', 'cracker', 'aj', 'fine', 'food', 'local', 'groceri', 'cracker', 'tast', 'great', 'gener', 'amount', 'rosemari', 'cracker', 'hasnt', 'fallen', 'cracker', 'recent', 'order', 'pack', 'box', 'amazon', 'found', 'problem', 'box', 'local', 'groceri', 'box', 'sever', 'larg', 'cracker', 'size', 'box', 'larg', 'cracker', 'dont', 'seem', 'surviv', 'ship', 'handl', 'either', 'amazon', 'local', 'groceri', 'box', 'lot', 'cracker', 'piec', 'rang', 'cracker', 'size', 'piec', 'size', 'quarter', 'plu', 'rosemari', 'fallen', 'box', 'tablespoon', 'spice', 'cracker', 'bottom', 'bag', 'real', 'shame', 'hope', 'compani', 'figur', 'way', 'produc', 'surviv', 'transport', 'great', 'cracker', 'box', 'ship', 'amazon', 'box', 'well', 'dont', 'believ', 'amazon', 'specif', 'problem', 'wont', 'buy', 'onlin', 'sinc', 'even', 'one', 'store', 'requir', 'visual', 'inspect', 'want', 'cracker', 'instead', 'piec', 'cracker'], tags=[781]),\n",
       " TaggedDocument(words=['pictur', 'show', 'unhappi', 'substitut', 'order', 'zotz', 'string', 'one', 'color', 'multip', 'favor', 'one', 'string', 'could', 'got', 'anyon', 'email', 'let', 'know', 'displeasur', 'never', 'receiv', 'respons'], tags=[782]),\n",
       " TaggedDocument(words=['disappoint', 'product', 'alway', 'enjoy', 'anni', 'product', 'never', 'problem', 'chees', 'solidli', 'clump', 'unabl', 'make', 'sauc', 'without', 'lump', 'use', 'differ', 'packag', 'order', 'problem', 'sure', 'result', 'manufactur', 'issu', 'sit', 'shelf', 'long', 'warehous', 'either', 'way', 'bewar'], tags=[783]),\n",
       " TaggedDocument(words=['unfortun', 'cracker', 'came', 'intact', 'true', 'flavor', 'test', 'say', 'made', 'excel', 'bread', 'fish', 'get', 'replac', 'shipment', 'cracker', 'also', 'crush', 'arriv'], tags=[784]),\n",
       " TaggedDocument(words=['wateri', 'gruel', 'amazon', 'sell', 'pack', 'one', 'even', 'toler', 'one'], tags=[785]),\n",
       " TaggedDocument(words=['smother', 'bland', 'chocol', 'want', 'tast', 'horribl'], tags=[786]),\n",
       " TaggedDocument(words=['would', 'love', 'item', 'actual', 'realli', 'want', 'much', 'call', 'twice', 'time', 'sent', 'packag', 'pecan', 'could', 'probabl', 'would', 'bought', 'store', 'husband', 'extrem', 'fond', 'can', 'pecan', 'excit', 'told', 'locat', 'line', 'dont', 'tell', 'disappoint', 'sent', 'other', 'sorri', 'ill', 'realli', 'research', 'product', 'order', 'judi', 'cardwel'], tags=[787]),\n",
       " TaggedDocument(words=['tea', 'littl', 'stronger', 'english', 'breakfast', 'flavor', 'ive', 'tri', 'dilut', 'water', 'enjoy'], tags=[788]),\n",
       " TaggedDocument(words=['never', 'receiv', 'item', 'never', 'got', 'ship'], tags=[789]),\n",
       " TaggedDocument(words=['bought', 'box', 'finish', 'almost', 'didnt', 'see', 'signific', 'increas', 'milk', 'product', 'mayb', 'doesnt', 'work'], tags=[790]),\n",
       " TaggedDocument(words=['hard', 'edit', 'threw', 'order', 'answer', 'candi', 'depot', 'complaint', 'would', 'give', 'star'], tags=[791]),\n",
       " TaggedDocument(words=['misread', 'thought', 'chees', 'flavor', 'popcorn', 'care', 'tast'], tags=[792]),\n",
       " TaggedDocument(words=['day', 'husband', 'spaghetti', 'dinner', 'boil', 'shirataki', 'noodl', 'minut', 'tri', 'eat', 'tast', 'wasnt', 'bad', 'tri', 'chew', 'textur', 'realli', 'weird', 'chew', 'lot', 'realli', 'want', 'final', 'gave', 'ate', 'spaghetti', 'sauc', 'real', 'pasta'], tags=[793]),\n",
       " TaggedDocument(words=['buster', 'cube', 'mini', 'cube', 'great', 'idea', 'problem', 'almost', 'broke', 'ten', 'finger', 'tri', 'get', 'inner', 'cylind', 'clean', 'purpos', 'let', 'sever', 'peopl', 'tri', 'thought', 'might', 'trick', 'none', 'success', 'even', 'went', 'petsmart', 'sell', 'toy', 'needless', 'say', 'nobodi', 'success', 'well', 'end', 'send', 'back', 'put', 'ice', 'hurt', 'finger', 'star', 'idea'], tags=[794]),\n",
       " TaggedDocument(words=['disappoint', 'qualiti', 'size', 'candi', 'flavor', 'good', 'although', 'unusu'], tags=[795]),\n",
       " TaggedDocument(words=['waist', 'flower', 'tea', 'flower', 'matter', 'hot', 'get', 'dissapoin', 'waist'], tags=[796]),\n",
       " TaggedDocument(words=['good', 'excus', 'morn', 'cereal', 'good', 'chicken', 'squirel', 'etc'], tags=[797]),\n",
       " TaggedDocument(words=['well', 'know', 'difficult', 'find', 'white', 'rice', 'puf', 'compani', 'quaker', 'doesnt', 'cut', 'sorri', 'wont', 'tri', 'puf', 'rice', 'product', 'dont', 'tell', 'puf', 'rice', 'product', 'brown', 'rice', 'puf', 'rice', 'truth', 'think', 'rice', 'puf', 'doesnt', 'tast', 'white', 'rice', 'puf', 'still', 'find', 'albertson', 'around', 'buck', 'box'], tags=[798]),\n",
       " TaggedDocument(words=['ye', 'puf', 'rice', 'right', 'brown', 'rice', 'white', 'rice', 'puf', 'dont', 'tell', 'front', 'brown', 'rice', 'puf', 'doesnt', 'cut', 'tast', 'noth', 'like', 'white', 'rice', 'puf', 'rice', 'tast', 'would', 'make', 'frost', 'white', 'puf', 'rice', 'would', 'sell'], tags=[799]),\n",
       " TaggedDocument(words=['littl', 'tree', 'arriv', 'good', 'condit', 'gradual', 'drop', 'leav', 'noth', 'left', 'disappoint', 'mayb', 'didnt', 'get', 'enough', 'light', 'apart'], tags=[800]),\n",
       " TaggedDocument(words=['displeas', 'receiv', 'feuill', 'brick', 'cater', 'import', 'client', 'ingredi', 'readi', 'assembl', 'feuill', 'due', 'dryness', 'feuill', 'brick', 'could', 'bake', 'dessert'], tags=[801]),\n",
       " TaggedDocument(words=['disappoint', 'compani', 'stop', 'make', 'brand', 'like', 'make', 'new', 'version', 'give', 'total', 'differ', 'tast', 'old', 'version', 'compani', 'order', 'nice', 'refund', 'money', 'minu', 'ship', 'handl', 'charg', 'even', 'let', 'keep', 'product', 'sent', 'howev', 'give', 'daughter', 'school', 'treat', 'children', 'inform', 'compani', 'chanc', 'bring', 'old', 'version', 'back', 'order', 'go', 'continu', 'look', 'even', 'contact', 'maker', 'jolli', 'rancher'], tags=[802]),\n",
       " TaggedDocument(words=['one', 'like', 'aftertast', 'hard', 'eat'], tags=[803]),\n",
       " TaggedDocument(words=['worth', 'price', 'bitter', 'tast', 'add', 'ton', 'honey', 'make', 'worth', 'damn', 'help', 'coat', 'throat', 'anyway'], tags=[804]),\n",
       " TaggedDocument(words=['love', 'blueberri', 'fresh', 'dri', 'sugar', 'ad', 'make', 'far', 'sweet', 'tast', 'dri', 'fruit', 'alway', 'natur', 'sweet', 'ad', 'sweeten', 'turn', 'pure', 'candi', 'instead', 'natur', 'healthi', 'snack', 'thumb', 'one'], tags=[805]),\n",
       " TaggedDocument(words=['order', 'noodl', 'onlin', 'cost', 'bag', 'ship', 'approxim', 'saw', 'huge', 'cost', 'ship', 'tri', 'back', 'sale', 'appar', 'alreadi', 'confirm', 'order', 'furiou', 'bag', 'small', 'advis', 'local', 'asian', 'market', 'shipper', 'major', 'rip', 'noodl', 'great', 'though'], tags=[806]),\n",
       " TaggedDocument(words=['wasnt', 'overli', 'happi', 'flavor', 'brought', 'work', 'case', 'someon', 'els', 'would', 'like', 'tri', 'werent', 'overli', 'impress', 'either', 'found', 'one', 'purchas', 'decemb', 'carri', 'expir', 'date', 'februari', 'year', 'cant', 'find', 'way', 'complain', 'amazon', 'yet', 'might', 'tast', 'better', 'fresh'], tags=[807]),\n",
       " TaggedDocument(words=['flavor', 'good', 'didnt', 'care', 'textur', 'one', 'grain', 'thoroughli', 'cook', 'anoth', 'crunchi'], tags=[808]),\n",
       " TaggedDocument(words=['complet', 'bag', 'small', 'tea', 'leaf', 'piec', 'normal', 'fall', 'bottom', 'larger', 'leaf', 'piec', 'end', 'bottom', 'contain', 'tea'], tags=[809]),\n",
       " TaggedDocument(words=['cancel', 'order', 'cancel', 'without', 'problem', 'posit', 'note'], tags=[810]),\n",
       " TaggedDocument(words=['tast', 'alright', 'made', 'flat', 'pictur', 'hard', 'eat'], tags=[811]),\n",
       " TaggedDocument(words=['realli', 'like', 'excit', 'found', 'onlin', 'although', 'receiv', 'stale', 'hard', 'eat'], tags=[812]),\n",
       " TaggedDocument(words=['bought', 'sauc', 'local', 'smart', 'final', 'make', 'ice', 'white', 'mocha', 'love', 'much', 'would', 'normal', 'spend', 'venti', 'white', 'mocha', 'husband', 'decid', 'get', 'espresso', 'machin', 'well', 'excit', 'readi', 'clear', 'plastic', 'cup', 'lid', 'white', 'chocol', 'sauc', 'unfortun', 'aw', 'knew', 'wasnt', 'go', 'good', 'pour', 'sauc', 'transpar', 'yellowish', 'tone', 'thick', 'white', 'sauc', 'normal', 'see', 'barista', 'squirt', 'cup', 'pour', 'back', 'bottl', 'think', 'need', 'shake', 'didnt', 'chang', 'tast', 'aw', 'even', 'old', 'son', 'enjoy', 'white', 'mocha', 'time', 'decaf', 'cours', 'didnt', 'want', 'anyth', 'thank', 'old', 'hasnt', 'mani', 'white', 'mocha', 'son', 'gave', 'thumb', 'hope', 'finish', 'stuff', 'complet', 'wast', 'order', 'torani', 'white', 'chocol', 'sauc', 'pump', 'hope', 'exactli', 'look', 'good', 'luck'], tags=[813]),\n",
       " TaggedDocument(words=['accustom', 'coarser', 'grind', 'stone', 'mill', 'product', 'stuff', 'like', 'dust', 'tasteless', 'buy', 'hodgson', 'mill', 'realli', 'enjoy', 'old', 'fashion', 'byckwheat', 'pancak', 'dont', 'work', 'sell', 'hodgson'], tags=[814]),\n",
       " TaggedDocument(words=['month', 'ago', 'friend', 'turn', 'bag', 'mariani', 'phillipin', 'mango', 'hook', 'excit', 'saw', 'amazon', 'sold', 'bulk', 'order', 'arriv', 'open', 'bag', 'disappoint', 'varieti', 'amazon', 'carri', 'mariani', 'thailand', 'mango', 'one', 'went', 'crazi', 'mariani', 'phillipin', 'mango', 'huge', 'differ', 'tast', 'textur', 'ill', 'see', 'want', 'unopen', 'bag', 'least', 'buy', 'one', 'like', 'local', 'jewel', 'food', 'store'], tags=[815]),\n",
       " TaggedDocument(words=['difficult', 'work', 'tend', 'turn', 'solid', 'rock', 'even', 'follow', 'direct', 'tast', 'less', 'desir'], tags=[816]),\n",
       " TaggedDocument(words=['sauc', 'mussel', 'aw', 'ascerb', 'tangi', 'bitter', 'first', 'run', 'mussel', 'water', 'palat', 'agre', 'hard', 'open', 'even', 'though', 'pull', 'top'], tags=[817]),\n",
       " TaggedDocument(words=['kid', 'like', 'product', 'end', 'case', 'like', 'fig', 'cooki', 'dont', 'like', 'either', 'therefor', 'like', 'fig', 'cooki', 'one', 'would', 'great'], tags=[818]),\n",
       " TaggedDocument(words=['found', 'land', 'lake', 'cappuccino', 'mix', 'vanilla', 'mocha', 'overli', 'thick', 'artifici', 'geletin', 'thick', 'agent', 'also', 'sweet', 'cappuccino', 'mix', 'gener', 'food', 'intern', 'brand', 'much', 'better', 'would', 'buy', 'land', 'lake'], tags=[819]),\n",
       " TaggedDocument(words=['order', 'six', 'can', 'due', 'fact', 'brand', 'longer', 'carri', 'local', 'supermarket', 'good', 'receiv', 'time', 'basi', 'poor', 'packag', 'result', 'six', 'can', 'sever', 'dent', 'receiv', 'four', 'six', 'discard', 'due', 'food', 'safeti', 'concern', 'unlik', 'ever', 'purchas', 'can', 'good', 'product', 'requir', 'prtectiv', 'packag', 'site'], tags=[820]),\n",
       " TaggedDocument(words=['disappoint', 'receiv', 'case', 'food', 'product', 'fresh', 'expir', 'date', 'two', 'month', 'purchas', 'unrealist', 'expect', 'case', 'jiffi', 'pop', 'would', 'use', 'singl', 'consum', 'two', 'month', 'felt', 'cheat', 'return', 'product', 'seem', 'excercis', 'futil'], tags=[821]),\n",
       " TaggedDocument(words=['product', 'dri', 'prune', 'good', 'newman', 'raisin', 'keep', 'product', 'stew', 'make', 'plump', 'order'], tags=[822]),\n",
       " TaggedDocument(words=['gift', 'recipi', 'dislik', 'product', 'basic', 'wast', 'money', 'remain', 'carton', 'never', 'open'], tags=[823]),\n",
       " TaggedDocument(words=['open', 'one', 'could', 'eat', 'friend', 'said', 'thing', 'give', 'rest', 'case', 'food', 'bank', 'food', 'spoil', 'way', 'away', 'stuf', 'cabbag', 'rollsi', 'ever', 'product', 'turkey'], tags=[824]),\n",
       " TaggedDocument(words=['product', 'weird', 'tast', 'wonder', 'honey', 'spoil', 'wish', 'could', 'brought', 'one', 'bottl'], tags=[825]),\n",
       " TaggedDocument(words=['learn', 'fact', 'product', 'cheaper', 'wholesal', 'club', 'never', 'order', 'compani', 'hope', 'amazon', 'take', 'vendor', 'list'], tags=[826]),\n",
       " TaggedDocument(words=['six', 'mustard', 'outdat', 'bewar', 'buy', 'food', 'amazon', 'food', 'could', 'outdat'], tags=[827]),\n",
       " TaggedDocument(words=['bar', 'littl', 'dri', 'hard', 'mention', 'bland', 'tast', 'side'], tags=[828]),\n",
       " TaggedDocument(words=['sure', 'seller', 'bill', 'product', 'never', 'reciev'], tags=[829]),\n",
       " TaggedDocument(words=['reciev', 'time', 'ship', 'wrong', 'address', 'item', 'reciev', 'month', 'date', 'time', 'boyfriend', 'birthday'], tags=[830]),\n",
       " TaggedDocument(words=['bonsai', 'came', 'complet', 'dead', 'arriv', 'almost', 'month', 'order', 'sad', 'open', 'packag', 'find', 'dead', 'dri', 'creep', 'look', 'bonsai', 'certainli', 'noth', 'like', 'one', 'shown', 'pictur', 'would', 'never', 'buy', 'plant', 'internet', 'ever'], tags=[831]),\n",
       " TaggedDocument(words=['order', 'product', 'thought', 'get', 'larg', 'size', 'call', 'shipper', 'return', 'call', 'cant', 'realli', 'use', 'item', 'ship', 'need', 'larg', 'item', 'return', 'shipper', 'doesnt', 'return', 'call', 'happi', 'custom', 'product'], tags=[832]),\n",
       " TaggedDocument(words=['thought', 'would', 'like', 'product', 'like', 'rice', 'like', 'raisin', 'end', 'throw', 'away', 'much', 'spice', 'kind', 'made', 'nasti', 'tast'], tags=[833]),\n",
       " TaggedDocument(words=['tea', 'came', 'three', 'week', 'one', 'pack', 'instead', 'six', 'call', 'complain', 'follow', 'week', 'got', 'anoth', 'one', 'pack', 'instead', 'six', 'ever', 'receiv', 'money', 'refund', 'dont', 'realli', 'know', 'happen', 'never', 'got', 'explan', 'distributor'], tags=[834]),\n",
       " TaggedDocument(words=['diappoint', 'find', 'tran', 'fat', 'cooki', 'one', 'favorit', 'flavor', 'howev', 'tran', 'fat', 'would', 'buy', 'tran', 'fat', 'remov'], tags=[835]),\n",
       " TaggedDocument(words=['order', 'love', 'dri', 'cherri', 'eat', 'plain', 'bake', 'well', 'disappoint', 'tri', 'arriv', 'tast', 'like', 'cross', 'raisin', 'dri', 'stawberri', 'would', 'recommend', 'buy', 'product'], tags=[836]),\n",
       " TaggedDocument(words=['thing', 'impress', 'speed', 'browni', 'like', 'piec', 'kid', 'chocol', 'cake', 'choco', 'better', 'littl', 'debbi', 'shelf', 'local', 'supermaket', 'price', 'absurd', 'half', 'price', 'discount', 'would', 'look', 'ice', 'cream', 'coupon', 'sorri', 'folk', 'worth', 'money'], tags=[837]),\n",
       " TaggedDocument(words=['aw', 'unless', 'realli', 'heavi', 'heavi', 'spice', 'ton', 'tomato', 'past', 'threw', 'away'], tags=[838]),\n",
       " TaggedDocument(words=['receiv', 'yet', 'expect', 'ship', 'februari'], tags=[839]),\n",
       " TaggedDocument(words=['amazon', 'sell', 'would', 'ever', 'pay', 'plu', 'ship', 'seem', 'crazi', 'look', 'youll', 'sike'], tags=[840]),\n",
       " TaggedDocument(words=['dog', 'ball', 'tini', 'plastic', 'piec', 'hour', 'pop', 'everlast', 'treat', 'minut', 'grant', 'luck', 'get', 'cooki', 'insid', 'would', 'gotten', 'shred', 'entir', 'toy', 'hadnt', 'take', 'away'], tags=[841]),\n",
       " TaggedDocument(words=['fault', 'read', 'ingredi', 'market', 'info', 'product', 'extrem', 'mislead', 'bag', 'blueberri', 'candi', 'high', 'fructos', 'corn', 'syrup', 'second', 'ingredi', 'oil', 'flavor', 'also', 'ad', 'dont', 'anyth', 'candi', 'stuff', 'left', 'teeth', 'tingl', 'hour', 'ate', 'actual', 'brush', 'teeth', 'twice', 'product', 'natur', 'organ', 'categori', 'dont', 'wast', 'money'], tags=[842]),\n",
       " TaggedDocument(words=['nacho', 'chili', 'great', 'realli', 'terribl', 'grandkid', 'wouldnt', 'eat', 'smell', 'gross', 'sort', 'musti', 'stale', 'someth', 'foul', 'smell', 'upon', 'open', 'bag', 'guess', 'poor', 'combin', 'herb', 'lemon', 'becam', 'expens', 'dog', 'treat'], tags=[843]),\n",
       " TaggedDocument(words=['anxiou', 'find', 'salt', 'chees', 'flavor', 'snack', 'well', 'salt', 'grate', 'chees', 'shaker', 'lot', 'appeal', 'aftertast', 'may', 'send', 'right', 'hershey', 'bar', 'also', 'funki', 'stomach', 'feel', 'desper', 'enough', 'tri', 'stuff', 'twice', 'box', 'wasnt', 'result', 'bad', 'first', 'impress', 'chip', 'aw'], tags=[844]),\n",
       " TaggedDocument(words=['made', 'way', 'kashi', 'chocol', 'peanut', 'roll', 'enjoy', 'eat', 'brand', 'energi', 'protein', 'bar', 'least', 'half', 'amount', 'sugar', 'bar', 'hope', 'one', 'would', 'tasti', 'extrem', 'stiff', 'bite', 'much', 'outer', 'coat', 'rice', 'fell', 'tri', 'lever', 'bite', 'roll', 'dri', 'aftertast', 'like', 'stale', 'unsalt', 'peanut', 'hint', 'chocol'], tags=[845]),\n",
       " TaggedDocument(words=['order', 'fudg', 'look', 'good', 'seem', 'price', 'well', 'thought', 'would', 'give', 'tri', 'look', 'everi', 'store', 'live', 'find', 'mapl', 'fudg', 'hope', 'tast', 'good', 'look', 'send', 'anoth', 'feedback', 'first', 'bite', 'cant', 'wait'], tags=[846]),\n",
       " TaggedDocument(words=['realli', 'like', 'sever', 'tea', 'taylor', 'harrog', 'decid', 'tri', 'earl', 'grey', 'realli', 'although', 'tea', 'smell', 'delici', 'bergamot', 'tast', 'speak', 'drink', 'mix', 'earl', 'grey', 'tea', 'nice', 'combin', 'tast', 'smell', 'recommend', 'capac'], tags=[847]),\n",
       " TaggedDocument(words=['product', 'descript', 'say', 'tea', 'slightli', 'sweet', 'well', 'bunch', 'descriptor', 'didnt', 'get', 'sweet', 'optimist', 'normal', 'love', 'everyth', 'tazo', 'offer', 'time', 'hope', 'dash', 'brew', 'mug', 'tea', 'immedi', 'alarm', 'bouquet', 'teabag', 'smell', 'differ', 'hot', 'water', 'hit', 'smell', 'seem', 'realli', 'magnifi', 'scoop', 'teaspoon', 'sugar', 'hope', 'best', 'manag', 'choke', 'third', 'cup', 'call', 'day', 'life', 'short', 'drink', 'someth', 'dont', 'like', 'read', 'review', 'mention', 'good', 'palat', 'tea', 'combin', 'tazo', 'lotu', 'figur', 'worth', 'shot', 'otherwis', 'throw', 'tea', 'altogeth', 'lotu', 'smell', 'great', 'excit', 'blend', 'two', 'bag', 'one', 'lotu', 'one', 'wild', 'sweet', 'orang', 'larg', 'mug', 'remov', 'wild', 'sweet', 'orang', 'minut', 'left', 'lotu', 'anoth', 'minut', 'two', 'yeah', 'definit', 'two', 'result', 'unusu', 'unapp', 'beverag', 'would', 'drink', 'day', 'interest', 'someth', 'ill', 'tri', 'ye', 'learn', 'guess'], tags=[848]),\n",
       " TaggedDocument(words=['receiv', 'item', 'poor', 'condit', 'leav', 'eaten', 'bug', 'trunk', 'seem', 'sort', 'rot', 'go', 'vase', 'one', 'stalk', 'alot', 'leav', 'fallen', 'item', 'pretti', 'much', 'wast', 'money', 'that', 'get', 'buy', 'plant', 'internet'], tags=[849]),\n",
       " TaggedDocument(words=['isnt', 'realli', 'even', 'hotsauc', 'strictli', 'kid', 'stuff', 'heat', 'power', 'mitten', 'flavor', 'dont', 'think', 'much', 'sure', 'buy', 'mope', 'recip', 'like', 'someon', 'wouldnt', 'even', 'bother'], tags=[850]),\n",
       " TaggedDocument(words=['well', 'guess', 'fli', 'review', 'ointment', 'dave', 'hotsauc', 'wont', 'buy', 'synthet', 'qualiti', 'flavor', 'almost', 'due', 'made', 'directli', 'capsaicin', 'extract', 'oppos', 'actual', 'pepper', 'offer', 'nuclear', 'level', 'heat', 'seem', 'recip', 'ulcer', 'opinion', 'accord', 'wikipedia', 'scovil', 'heat', 'fire', 'index', 'rate', 'unit', 'contrast', 'tobasco', 'rate', 'need', 'much', 'heat', 'human', 'be', 'stuff', 'lethal', 'thank'], tags=[851]),\n",
       " TaggedDocument(words=['order', 'pack', 'jerkey', 'tri', 'stay', 'rang', 'grown', 'healthi', 'eat', 'got', 'got', 'one', 'pack', 'pay', 'cant', 'fault', 'jerki', 'amazon', 'ship', 'folk', 'howev', 'bag', 'jerki', 'strang', 'gray', 'fungu', 'grow', 'told', 'good', 'jerkey', 'guess', 'ill', 'never', 'know', 'may', 'gotten', 'rare', 'moldi', 'pack', 'ill', 'shi', 'away', 'stuff'], tags=[852]),\n",
       " TaggedDocument(words=['look', 'comatos', 'arriv', 'within', 'two', 'day', 'white', 'cocoon', 'remain', 'leav', 'never', 'chanc', 'also', 'say', 'first', 'product', 'ever', 'return', 'amazon', 'process', 'world', 'class', 'easi', 'simpl', 'quick', 'refund', 'hassl'], tags=[853]),\n",
       " TaggedDocument(words=['got', 'bar', 'local', 'organ', 'groceri', 'store', 'great', 'box', 'bought', 'wasnt', 'nearli', 'good', 'seem', 'like', 'got', 'bottom', 'barrel', 'almond', 'shave', 'bare', 'cherri', 'basic', 'bore', 'dark', 'chocol', 'bar', 'expens', 'wrote', 'compani', 'help', 'feedback', 'didnt', 'repli', 'week', 'expect', 'mail', 'bar', 'back', 'get', 'time', 'hassl'], tags=[854]),\n",
       " TaggedDocument(words=['love', 'product', 'bought', 'place', 'reason', 'bought', 'amazon', 'deal', 'allow', 'buy', 'much', 'less', 'per', 'bag', 'place', 'got', 'notic', 'one', 'bag', 'open', 'alreadi', 'still', 'black', 'deal', 'put', 'shelf', 'day', 'pull', 'get', 'anoth', 'bag', 'open', 'bag', 'open', 'isnt', 'accept'], tags=[855]),\n",
       " TaggedDocument(words=['cracker', 'test', 'good', 'kid', 'like', 'reason', 'star', 'shippment', 'problem', 'receiv', 'box', 'bag', 'instead', 'box', 'bag', 'describ', 'produc', 'featur', 'six', 'box', 'contain', 'six', 'packag', 'total', 'packag', 'ounc', 'receiv', 'replac', 'shipgment', 'day', 'call', 'custum', 'servic', 'still', 'wrong', 'quantiti', 'box', 'bag', 'insid', 'first', 'time', 'custum', 'servic', 'repres', 'jame', 'promis', 'get', 'full', 'quantiti', 'replac', 'shippment', 'disappoint', 'call', 'custmer', 'servic', 'total', 'dont', 'understand', 'repres', 'ladi', 'talk', 'disappoint', 'amazon', 'doesnt', 'check', 'product', 'ship', 'custom', 'made', 'wrong', 'replec'], tags=[856]),\n",
       " TaggedDocument(words=['buy', 'product', 'read', 'review', 'felt', 'pretti', 'assur', 'product', 'would', 'give', 'energi', 'boost', 'want', 'bought', 'pack', 'decent', 'amount', 'tri', 'rel', 'well', 'built', 'six', 'foot', 'guy', 'decid', 'drink', 'one', 'bottl', 'work', 'felt', 'absolut', 'none', 'energ', 'effect', 'promis', 'manufactur', 'tri', 'coupl', 'time', 'time', 'expreienc', 'result', 'decid', 'drink', 'bottl', 'see', 'whether', 'dosag', 'might', 'blame', 'drink', 'two', 'bottl', 'notic', 'heart', 'beat', 'increas', 'difficulti', 'tri', 'catch', 'breath', 'none', 'energi', 'benefit', 'promis', 'still', 'bottl', 'probabl', 'finish', 'think', 'result', 'better', 'guess', 'need', 'tri', 'order', 'see', 'whether', 'formula', 'complement', 'bodi', 'chemistri', 'certainli', 'didnt', 'complement', 'mine'], tags=[857]),\n",
       " TaggedDocument(words=['purchas', 'diamond', 'pecan', 'shell', 'decemb', 'note', 'alreadi', 'shell', 'one', 'discov', 'kid', 'eat', 'rancid', 'sure', 'check', 'date', 'werent', 'nut', 'there', 'much', 'wors', 'ruin', 'whatev', 'your', 'tri', 'make', 'rancid', 'nut', 'learn', 'purchas', 'pecan', 'place', 'date', 'packag', 'smell', 'tast'], tags=[858]),\n",
       " TaggedDocument(words=['sadli', 'pretti', 'crummi', 'tea', 'decent', 'orang', 'peko', 'remain', 'sold', 'typhoo'], tags=[859]),\n",
       " TaggedDocument(words=['pump', 'work', 'fine', 'click', 'sound', 'work', 'first', 'two', 'bottl', 'send', 'mail', 'vacu', 'vin', 'answer', 'pretti', 'fast', 'tell', 'shouldnt', 'worri', 'long', 'pump', 'air', 'thing', 'click', 'sound', 'doesnt', 'work', 'get', 'pump', 'doesnt', 'cost', 'dl', 'click', 'sound'], tags=[860]),\n",
       " TaggedDocument(words=['order', 'amazon', 'order', 'anoth', 'compani', 'send', 'time', 'manner', 'reach', 'receiv', 'christma', 'order', 'thing', 'like'], tags=[861]),\n",
       " TaggedDocument(words=['tummi', 'troubl', 'doctor', 'order', 'bland', 'diet', 'well', 'stuff', 'doctor', 'order', 'almost', 'complet', 'tasteless', 'cant', 'give', 'one', 'star', 'qualifi', 'hate', 'cant', 'hate', 'anyth', 'pasta', 'one', 'ingredi', 'good', 'make', 'kraft', 'mac', 'chees', 'seem', 'excit', 'would', 'reorder', 'would', 'fear', 'order', 'anyth', 'els', 'anni', 'would', 'young', 'children', 'hate', 'anyth', 'tast'], tags=[862]),\n",
       " TaggedDocument(words=['excit', 'found', 'product', 'local', 'groceri', 'store', 'recent', 'purchas', 'garden', 'chile', 'pepper', 'blend', 'past', 'refriger', 'produc', 'section', 'pleas', 'product', 'hesit', 'buy', 'anoth', 'product', 'tube', 'mistak', 'believ', 'manufactur', 'made', 'pesto', 'dri', 'basil', 'tase', 'like', 'dust', 'look', 'like', 'thought', 'least', 'could', 'make', 'pesto', 'butter', 'freez', 'wasnt', 'good', 'enough', 'sauc', 'end', 'pitch', 'whole', 'thing', 'wast', 'time', 'there', 'substitut', 'tast', 'real', 'thing'], tags=[863]),\n",
       " TaggedDocument(words=['disgust', 'recomend', 'product', 'dont', 'wast', 'youll', 'spend', 'ship'], tags=[864]),\n",
       " TaggedDocument(words=['purchas', 'aerogrow', 'work', 'one', 'didnt', 'aerogrow', 'servic', 'number', 'respond', 'mani', 'tri', 'email', 'respons', 'amazon', 'valu', 'tri', 'circular', 'system', 'lead', 'guess', 'ill', 'stick', 'order', 'item', 'calalog', 'amazon', 'none', 'rmaho', 'garden'], tags=[865]),\n",
       " TaggedDocument(words=['purchas', 'friend', 'often', 'talk', 'candi', 'grew', 'eat', 'content', 'penni', 'candi', 'still', 'avail', 'today', 'packag', 'cute', 'half', 'price', 'could', 'put', 'togeth', 'simmilar', 'assort'], tags=[866]),\n",
       " TaggedDocument(words=['may', 'healthi', 'mine', 'went', 'trash', 'couldnt', 'get', 'anyon', 'eat', 'tast', 'like', 'fishi', 'berri'], tags=[867]),\n",
       " TaggedDocument(words=['charg', 'ship', 'handl', 'figur', 'okay', 'temperatur', 'secur', 'packag', 'rush', 'perish', 'came', 'regular', 'box', 'sent', 'holiday', 'weekend', 'spent', 'extra', 'time', 'float', 'around', 'arriv', 'individuali', 'wrap', 'two', 'larg', 'bag', 'one', 'box', 'main', 'ingredi', 'veget', 'shorten', 'flavor', 'textur', 'frost', 'bake', 'shelv', 'groceri', 'store', 'wast', 'time', 'money', 'arent', 'picki', 'flavor', 'okay'], tags=[868]),\n",
       " TaggedDocument(words=['order', 'thought', 'get', 'plain', 'white', 'tea', 'spice', 'varieti', 'dont', 'realli', 'care'], tags=[869]),\n",
       " TaggedDocument(words=['last', 'night', 'spoke', 'jane', 'newman', 'told', 'truffl', 'sent', 'christma', 'gift', 'moldi', 'aw', 'didnt', 'ask', 'whether', 'contact', 'compani', 'apolog', 'profus', 'terribl', 'embarrass', 'wont', 'order', 'anyth', 'compani'], tags=[870]),\n",
       " TaggedDocument(words=['list', 'ingredi', 'like', 'hard', 'believ', 'passabl', 'chocol', 'underwhelm', 'tart', 'agav', 'overwhelm'], tags=[871]),\n",
       " TaggedDocument(words=['thought', 'terribl', 'couldnt', 'finish', 'whole', 'bag', 'howev', 'nacho', 'flavor', 'thought', 'expens', 'tast', 'brought', 'work', 'coupl', 'cowork', 'like', 'realli', 'dont', 'theyr', 'crunci', 'enough', 'feel', 'littl', 'soft', 'blah', 'didnt', 'like'], tags=[872]),\n",
       " TaggedDocument(words=['nut', 'stale', 'tastless', 'tri', 'get', 'refund', 'said', 'could', 'refund', 'threw'], tags=[873]),\n",
       " TaggedDocument(words=['tast', 'great', 'cap', 'bottl', 'doesnt', 'seal', 'well', 'ship', 'leak', 'take', 'without', 'put', 'anoth', 'contain'], tags=[874]),\n",
       " TaggedDocument(words=['pot', 'tree', 'broken', 'time', 'christma', 'sesaon', 'tri', 'return', 'send', 'anoth', 'one'], tags=[875]),\n",
       " TaggedDocument(words=['bought', 'think', 'would', 'get', 'tast', 'licoric', 'allsort', 'britian', 'even', 'close', 'strang', 'tast', 'hard', 'care', 'look', 'famou', 'allsort'], tags=[876]),\n",
       " TaggedDocument(words=['littl', 'debbi', 'much', 'like', 'hostess', 'compani', 'serv', 'chocol', 'product', 'groceri', 'store', 'find', 'dirt', 'cheap', 'swiss', 'cake', 'roll', 'tasti', 'tast', 'cheap', 'chocol', 'set', 'rain', 'long', 'there', 'someth', 'resembl', 'cheap', 'tast', 'insid', 'creme', 'much', 'therefor', 'tast', 'somewhat', 'dri', 'fresh', 'chocol', 'cake', 'wrap', 'around', 'tast', 'blank', 'unnatur', 'extra', 'chocol', 'tast', 'bad', 'overal', 'term', 'littl', 'debbi', 'swiss', 'cake', 'roll', 'good', 'choclat', 'tast', 'cheap', 'unnatur', 'enough', 'creme', 'insid', 'roll', 'favor', 'pass', 'littl', 'debbi', 'product', 'star'], tags=[877]),\n",
       " TaggedDocument(words=['ive', 'found', 'timothi', 'consist', 'good', 'better', 'green', 'mountain', 'varieti', 'ive', 'tri', 'except', 'nantucket', 'newman', 'parisian', 'night', 'first', 'timothi', 'offer', 'didnt', 'impress', 'bought', 'two', 'box', 'amazon', 'tri', 'use', 'differ', 'brew', 'strength', 'alway', 'tast', 'bland', 'bold', 'strong', 'advertis', 'plebeian', 'someon', 'who', 'bought', 'keurig', 'blend', 'first', 'cup', 'might', 'tast', 'pretti', 'compar', 'better', 'varieti', 'avail', 'one', 'better', 'skip', 'think', 'fanci', 'name', 'bore', 'blend', 'noth', 'distinct', 'midnight', 'dark', 'roast', 'definit', 'tasti', 'even', 'better', 'columbian', 'italian', 'smooth', 'think', 'timothi', 'best', 'columbian', 'market', 'parisian', 'night', 'well', 'let', 'say', 'everybodi', 'make', 'mistak'], tags=[878]),\n",
       " TaggedDocument(words=['high', 'fructos', 'corn', 'syrup', 'hydrogen', 'oil', 'search', 'see', 'think', 'wont', 'touch', 'stuff'], tags=[879]),\n",
       " TaggedDocument(words=['dear', 'tea', 'lover', 'product', 'rather', 'loos', 'leav', 'advertis', 'receiv', 'box', 'fine', 'dust', 'made', 'tea', 'bitter', 'harsh', 'recent', 'move', 'love', 'taylor', 'product', 'dont', 'understand', 'happen', 'perhap', 'cynic', 'effort', 'sell', 'process', 'wast', 'american'], tags=[880]),\n",
       " TaggedDocument(words=['suppos', 'abl', 'pick', 'kind', 'tea', 'want', 'offer', 'receiv', 'box', 'red', 'rose', 'mountain', 'tea', 'includ', 'ship', 'handl', 'want', 'red', 'rose', 'orang', 'peko', 'peko', 'cut', 'black', 'tea', 'bag', 'well', 'sinc', 'suppos', 'give', 'review', 'cant', 'wasnt', 'sent', 'kind', 'one', 'receiv', 'dont', 'care', 'use', 'would', 'nice', 'get', 'order', 'jean', 'planett'], tags=[881]),\n",
       " TaggedDocument(words=['holi', 'cow', 'never', 'seen', 'much', 'greas', 'box', 'product', 'like', 'also', 'enough', 'salt', 'kill', 'entir', 'famili', 'slug', 'use', 'garden', 'dont', 'eat'], tags=[882]),\n",
       " TaggedDocument(words=['like', 'tea', 'smell', 'strong', 'right', 'box', 'never', 'brew', 'wont', 'buy'], tags=[883]),\n",
       " TaggedDocument(words=['realli', 'like', 'splenda', 'hazelnut', 'flavor', 'distinctli', 'tast', 'doesnt', 'much', 'nutti', 'perhap', 'flavor', 'better'], tags=[884]),\n",
       " TaggedDocument(words=['disappoint', 'receiv', 'dri', 'cherri', 'realiz', 'includ', 'sugar', 'sunflow', 'oil', 'open', 'packag', 'could', 'feel', 'oil', 'cherri', 'rins', 'hot', 'water', 'could', 'use', 'inform', 'includ', 'anywher', 'descript'], tags=[885]),\n",
       " TaggedDocument(words=['understood', 'jello', 'receiv', 'regular', 'jello', 'discov', 'item'], tags=[886]),\n",
       " TaggedDocument(words=['coffe', 'sour', 'tast', 'almost', 'went', 'bad', 'milk', 'that', 'past', 'date', 'made', 'one', 'cup', 'throw', 'rest', 'bag', 'certainli', 'wont', 'order', 'brand'], tags=[887]),\n",
       " TaggedDocument(words=['good', 'tast', 'tea', 'extract', 'artifici', 'sugar', 'complet', 'unfood', 'tast', 'thought', 'order', 'green', 'tea', 'bag', 'sinc', 'lipton', 'good', 'reput', 'thought', 'product', 'would', 'good'], tags=[888]),\n",
       " TaggedDocument(words=['okay', 'son', 'toler', 'give', 'star', 'otherwis', 'mushi', 'dog', 'tasti', 'love', 'worthington', 'superlink', 'thought', 'would', 'compar'], tags=[889]),\n",
       " TaggedDocument(words=['first', 'time', 'buy', 'oatmeal', 'children', 'dont', 'like', 'tast'], tags=[890]),\n",
       " TaggedDocument(words=['glitter', 'pretti', 'pastri', 'impress', 'would', 'flavorless', 'actual', 'yucki', 'aftertast'], tags=[891]),\n",
       " TaggedDocument(words=['yike', 'flavor', 'gross', 'smell', 'tast', 'like', 'musti', 'old', 'basement', 'remind', 'summer', 'camp', 'old', 'log', 'cabin', 'avoid'], tags=[892]),\n",
       " TaggedDocument(words=['love', 'popcorn', 'ship', 'cost', 'insan', 'total', 'rip', 'wabash', 'valley', 'farm', 'amazon', 'whoever', 'charg', 'ship', 'mind', 'star', 'popcorn', 'minu', 'star', 'terribl', 'cost', 'associ', 'ship', 'argh', 'ye', 'popcorn', 'tender', 'lusciou', 'melt', 'mouth', 'like', 'your', 'eat', 'cook', 'grasshopp', 'come', 'cant', 'ship', 'product', 'pound', 'bag', 'even', 'wors', 'bad', 'realli'], tags=[893]),\n",
       " TaggedDocument(words=['dont', 'hate', 'way', 'compani', 'discreetli', 'add', 'anim', 'product', 'otherwis', 'unseemingli', 'vegan', 'product'], tags=[894]),\n",
       " TaggedDocument(words=['love', 'black', 'tea', 'vanilla', 'thought', 'tea', 'artifici', 'smell', 'tast'], tags=[895]),\n",
       " TaggedDocument(words=['receiv', 'caramel', 'open', 'packag', 'one', 'bag', 'rip', 'tri', 'one', 'caramel', 'hard', 'seem', 'stale', 'look', 'packag', 'date', 'aug', 'outdat', 'contact', 'caramoo', 'told', 'sell', 'old', 'candi', 'receiv', 'email', 'back', 'explain', 'date', 'packag', 'wrong', 'howev', 'candi', 'bag', 'get', 'rip', 'candi', 'get', 'hard', 'stale', 'quickli', 'happen', 'mine', 'return', 'mine', 'rip', 'packag', 'caramoo', 'suggest', 'keep', 'candi', 'air', 'tight', 'contain', 'pass', 'info', 'hope', 'improv', 'packag'], tags=[896]),\n",
       " TaggedDocument(words=['sure', 'stuff', 'actual', 'work', 'look', 'return', 'actual'], tags=[897]),\n",
       " TaggedDocument(words=['tast', 'good', 'although', 'much', 'tougher', 'sugar', 'brand', 'ate', 'serv', 'half', 'husband', 'right', 'got', 'even', 'bloat', 'terribl', 'flatul', 'holiday', 'didnt', 'immedi', 'attribut', 'vine', 'brought', 'work', 'satisfi', 'afternoon', 'sugar', 'crave', 'ate', 'anoth', 'serv', 'sit', 'desk', 'later', 'afternoon', 'import', 'meet', 'bloat', 'beyond', 'belief', 'tri', 'embarrass', 'sinc', 'thrown', 'thing', 'creat', 'best', 'embarrass', 'uncomfort', 'sever', 'hour', 'wors', 'terribl', 'health', 'problem', 'think', 'taken', 'market', 'least', 'label', 'warn', 'may', 'caus', 'signific', 'distress', 'digest', 'track', 'embarrass', 'flatul'], tags=[898]),\n",
       " TaggedDocument(words=['idea', 'peopl', 'say', 'bar', 'dont', 'tast', 'great', 'full', 'sugar', 'high', 'fructos', 'corn', 'syrup', 'much', 'prefer', 'luna', 'bar', 'south', 'beach', 'meal', 'tast', 'ton', 'better', 'healthier'], tags=[899]),\n",
       " TaggedDocument(words=['bought', 'treat', 'ball', 'aussi', 'puppi', 'want', 'someth', 'would', 'keep', 'busi', 'crate', 'someth', 'couldnt', 'destroy', 'within', 'minut', 'actual', 'chicken', 'treat', 'ball', 'within', 'replac', 'aussi', 'mix', 'ball', 'within', 'less', 'minut', 'treat', 'consum', 'got', 'work', 'ball', 'great', 'item', 'dachshund', 'aussi', 'german', 'shepherd', 'hardli', 'everlast', 'darn', 'hope', 'final', 'found', 'someth', 'littl', 'herder', 'couldnt', 'immedi', 'destroy'], tags=[900]),\n",
       " TaggedDocument(words=['dont', 'know', 'sugar', 'sand', 'time', 'sinc', 'ingredi', 'kavli', 'crispi', 'thin', 'list', 'amazon', 'time', 'receiv', 'order', 'sugar', 'ad', 'product', 'go', 'get', 'troubl', 'mister'], tags=[901]),\n",
       " TaggedDocument(words=['bottl', 'arriv', 'half', 'empti', 'say', 'get', 'initi', 'impress', 'bought', 'half', 'bottl', 'nutmeg', 'plu', 'thought', 'buy', 'amazon', 'groceri', 'free', 'ship', 'wound', 'pay', 'much', 'ship', 'nut', 'mistak'], tags=[902]),\n",
       " TaggedDocument(words=['amazon', 'good', 'price', 'product', 'compar', 'place', 'tea', 'set', 'allright', 'idea', 'flower', 'tea', 'kind', 'cool', 'better', 'tast', 'flower', 'tea', 'market', 'harney', 'son', 'howev', 'bamboo', 'box', 'contain', 'tea', 'set', 'poorli', 'made', 'orang', 'paint', 'box', 'come', 'finger', 'touch', 'need', 'care', 'get', 'splinter', 'open', 'box', 'packag', 'better', 'would', 'realli', 'cool', 'gift', 'origin', 'bought', 'xma', 'gift', 'give', 'friend', 'qualiti', 'good', 'expect', 'decid', 'keep', 'flower', 'tea', 'look', 'cool', 'dont', 'expect', 'much', 'tast', 'wouldnt', 'buy', 'product'], tags=[903]),\n",
       " TaggedDocument(words=['sold', 'formula', 'reason', 'true', 'need', 'investig', 'go', 'feed', 'newborn', 'organ', 'look', 'best', 'made', 'hain', 'celesti', 'rule', 'sililac', 'right', 'away', 'first', 'ingredi', 'cane', 'sugar', 'cheap', 'way', 'introduc', 'carb', 'formula', 'firmli', 'believ', 'sugar', 'culprit', 'mani', 'ail', 'societi', 'today', 'includ', 'control', 'type', 'diabet', 'children', 'last', 'thing', 'want', 'feed', 'child', 'fast', 'food', 'formula', 'organ', 'intrigu', 'earth', 'best', 'babi', 'read', 'babi', 'websit', 'like', 'coupl', 'thing', 'state', 'realli', 'knock', 'earth', 'best', 'one', 'cow', 'use', 'dairi', 'babi', 'small', 'run', 'famili', 'cow', 'farm', 'commit', 'organ', 'farm', 'practic', 'sound', 'oppos', 'earth', 'best', 'sourc', 'milk', 'horizon', 'own', 'huge', 'food', 'processor', 'dean', 'food', 'dean', 'one', 'largest', 'milk', 'produc', 'countri', 'babi', 'organ', 'peopl', 'insinu', 'cow', 'dean', 'treat', 'well', 'may', 'trueli', 'organ', 'like', 'cow', 'due', 'water', 'usda', 'regul', 'mayb', 'true', 'mayb', 'would', 'like', 'believ', 'support', 'product', 'truth', 'told', 'horizon', 'largest', 'purchas', 'small', 'run', 'famili', 'farm', 'milk', 'countri', 'estim', 'half', 'milk', 'suppli', 'obtain', 'way', 'thing', 'realli', 'bother', 'babi', 'organ', 'claim', 'carbohydr', 'sourc', 'superior', 'use', 'brown', 'rice', 'syrup', 'claim', 'break', 'slower', 'complex', 'sugar', 'thu', 'lower', 'spike', 'insulin', 'level', 'wherea', 'believ', 'compar', 'cane', 'sugar', 'corn', 'syrup', 'brainer', 'would', 'choos', 'brown', 'rice', 'syrup', 'here', 'think', 'total', 'wrong', 'earth', 'best', 'use', 'lactos', 'primari', 'sugar', 'carb', 'sourc', 'human', 'breast', 'milk', 'lactos', 'almost', 'exclus', 'sourc', 'carb', 'exactli', 'earth', 'best', 'babi', 'websit', 'claim', 'lactos', 'inferior', 'brown', 'rice', 'syrup', 'show', 'evid', 'support', 'claim', 'especi', 'lactos', 'what', 'breast', 'reason', 'bring', 'point', 'know', 'fed', 'babi', 'babi', 'week', 'life', 'believ', 'websit', 'brown', 'rice', 'better', 'soooo', 'much', 'ga', 'burp', 'flatul', 'uncomfort', 'use', 'formula', 'switch', 'earth', 'best', 'problem', 'went', 'away', 'realli', 'think', 'brown', 'rice', 'syrup', 'use', 'much', 'harder', 'babi', 'digest', 'thu', 'mess', 'fragil', 'system', 'lactos', 'ingredi', 'found', 'human', 'breast', 'milk', 'cannot', 'understand', 'babi', 'peopl', 'deni', 'formula', 'maker', 'found', 'stand', 'claim', 'brown', 'rice', 'better', 'lactos', 'call', 'toddler', 'formula', 'mayb', 'good', 'reason', 'read', 'place', 'wherea', 'nutrient', 'infant', 'formula', 'call', 'toddler', 'want', 'polit', 'correct', 'state', 'babi', 'month', 'breast', 'feed', 'experi', 'think', 'well', 'toler', 'infant', 'formula', 'ingredi', 'choic'], tags=[904]),\n",
       " TaggedDocument(words=['bought', 'pound', 'bag', 'candi', 'review', 'beam', 'good', 'ive', 'bought', 'gummi', 'frog', 'past', 'like', 'thought', 'give', 'tri', 'gross', 'theyr', 'huge', 'recommend', 'gummi', 'frog', 'better', 'altern', 'know', 'tri', 'candi', 'smaller', 'portion', 'first', 'invest', 'next', 'pound', 'bag', 'star', 'well', 'fair', 'peopl', 'like', 'say', 'absolut', 'terribl', 'still', 'pound', 'bag', 'candi', 'get', 'rid'], tags=[905]),\n",
       " TaggedDocument(words=['revers', 'bake', 'shake', 'your', 'go', 'get', 'mess', 'parmesan', 'wont', 'stick', 'extra', 'gritti', 'want', 'good', 'chicken', 'make', 'sure', 'follow', 'prescrib', 'your', 'go', 'finest', 'chicken', 'known', 'man', 'bake', 'babi'], tags=[906]),\n",
       " TaggedDocument(words=['coffe', 'strong', 'enough', 'way', 'bland', 'favor', 'get', 'better', 'pod', 'experi', 'found', 'gourmet', 'cafe', 'make', 'best', 'pod', 'senseo', 'pod', 'machin'], tags=[907]),\n",
       " TaggedDocument(words=['tri', 'break', 'heavi', 'lunch', 'found', 'realli', 'nasti', 'flavor', 'powder', 'clump', 'matter', 'vigor', 'stir', 'mess', 'bean', 'stay', 'bit', 'hard', 'final', 'textur', 'like', 'mapl', 'syrup', 'lump', 'flavor', 'horrid', 'dri', 'someth', 'resembl', 'food', 'ive', 'homemad', 'black', 'bean', 'soup', 'favorit', 'seem', 'product', 'devis', 'someon', 'consid', 'food', 'nutrient', 'object', 'potenti', 'sourc', 'joy', 'life', 'cannot', 'recommend', 'anyon', 'tast', 'bud'], tags=[908]),\n",
       " TaggedDocument(words=['pod', 'perform', 'poorli', 'espresso', 'machin', 'ground', 'bean', 'perform', 'well', 'could', 'filter', 'pod', 'espresso', 'come', 'uneven', 'spout', 'flavor', 'strong'], tags=[909]),\n",
       " TaggedDocument(words=['entir', 'case', 'snack', 'discard', 'ined', 'dri', 'horribl', 'tast', 'wish', 'seen', 'review', 'purchas'], tags=[910]),\n",
       " TaggedDocument(words=['expens', 'kroger', 'meijer', 'kroger', 'meijer', 'sell'], tags=[911]),\n",
       " TaggedDocument(words=['stuff', 'take', 'way', 'longer', 'minut', 'cook', 'even', 'hour', 'hard', 'chew', 'almost', 'unbear', 'realli', 'still', 'day', 'understand', 'buy', 'like', 'like', 'cook', 'small', 'rock'], tags=[912]),\n",
       " TaggedDocument(words=['msg', 'third', 'ingredi', 'salt', 'expens', 'would', 'rather', 'real', 'thing', 'flavorless', 'chemic', 'send', 'signal', 'brain', 'tell', 'tast', 'salt', 'plu', 'could', 'live', 'without', 'headach', 'stuff', 'much', 'gourmet', 'chees', 'whiz', 'french'], tags=[913]),\n",
       " TaggedDocument(words=['could', 'bought', 'macdonald', 'coffe', 'want', 'yet', 'went', 'swill', 'gross', 'last', 'drop'], tags=[914]),\n",
       " TaggedDocument(words=['worst', 'coffe', 'ever', 'get', 'liter', 'warm', 'water', 'secretari', 'tri', 'dump', 'cup', 'pot', 'tast', 'like', 'warm', 'dilut', 'milk', 'san', 'coffe'], tags=[915]),\n",
       " TaggedDocument(words=['may', 'expresso', 'grind', 'expect', 'love', 'dark', 'aromat', 'coffe', 'espresso', 'think', 'bitter', 'drunk', 'margin', 'better', 'combin', 'milk', 'cappuchino', 'shoulda', 'known', 'betta'], tags=[916]),\n",
       " TaggedDocument(words=['dri', 'cherri', 'like', 'candi', 'dri', 'fruit', 'expect', 'chewi', 'tart', 'treat', 'got', 'instant', 'sugar', 'high', 'instead', 'use', 'rest', 'cherri', 'salad', 'cereal', 'wont', 'buy'], tags=[917]),\n",
       " TaggedDocument(words=['replac', 'new', 'softer', 'bazooka', 'aw', 'wont', 'chew', 'bazooka', 'unless', 'return', 'old', 'formula'], tags=[918]),\n",
       " TaggedDocument(words=['reciv', 'maca', 'powder', 'lot', 'leak', 'ship', 'box', 'seem', 'cant', 'return', 'groceri', 'item', 'feel', 'basic', 'cheat', 'buck', 'want', 'eat', 'somth', 'ship', 'box', 'damag', 'enough', 'leak', 'say', 'buyer', 'bewar'], tags=[919]),\n",
       " TaggedDocument(words=['pound', 'candi', 'cost', 'corner', 'store', 'thin', 'plastic', 'box', 'call', 'highway', 'robberi'], tags=[920]),\n",
       " TaggedDocument(words=['know', 'suppos', 'good', 'littl', 'hard', 'get', 'without', 'lot', 'liquid', 'also', 'way', 'expens', 'dont', 'think', 'buy'], tags=[921]),\n",
       " TaggedDocument(words=['previous', 'bought', 'lomo', 'iberico', 'approxim', 'bought', 'one', 'lot', 'cheaper', 'campofrio', 'known', 'brand', 'spain', 'disappoint', 'hard', 'made', 'difficult', 'cut', 'also', 'lomo', 'deep', 'fold', 'across', 'length', 'small', 'fold', 'normal', 'coupl', 'hard', 'textur', 'made', 'difficult', 'serv', 'guest', 'even', 'fat', 'around', 'edg', 'hard', 'flavor', 'good', 'excel', 'time', 'buy', 'iberico', 'ye', 'expens', 'smoother', 'better', 'flavor', 'lot', 'easier', 'cut', 'prepar', 'serv', 'guest'], tags=[922]),\n",
       " TaggedDocument(words=['enjoy', 'cup', 'coffe', 'bailey', 'irish', 'cream', 'decid', 'tri', 'irish', 'cream', 'flavor', 'coffe', 'opinion', 'seem', 'bitter', 'tast', 'smell', 'one', 'least', 'favorit'], tags=[923]),\n",
       " TaggedDocument(words=['grew', 'loma', 'linda', 'product', 'excit', 'see', 'avail', 'amazon', 'bad', 'news', 'low', 'fat', 'big', 'frank', 'way', 'differ', 'normal', 'one', 'excit', 'newli', 'vegetarian', 'girlfriend', 'tri', 'embarrass', 'werent', 'nearli', 'good', 'actual', 'made', 'littl', 'sick', 'theyr', 'dens', 'strang', 'linkett', 'find', 'normal', 'big', 'frank', 'somewher', 'els', 'dont', 'think', 'amazon'], tags=[924]),\n",
       " TaggedDocument(words=['favorit', 'product', 'rasin', 'hard', 'sometim', 'burnt', 'take', 'long', 'soften'], tags=[925]),\n",
       " TaggedDocument(words=['found', 'green', 'mountain', 'breakfast', 'blend', 'bland', 'timothi', 'breakfast', 'blend', 'excel', 'altern'], tags=[926]),\n",
       " TaggedDocument(words=['regular', 'strong', 'earl', 'grey', 'twine', 'come', 'love', 'version', 'lack', 'strength', 'flavor', 'two', 'teabag', 'need', 'regular', 'strength', 'tea', 'even', 'state', 'box', 'light', 'flavour', 'strenght', 'leav', 'five', 'bewar'], tags=[927]),\n",
       " TaggedDocument(words=['didnt', 'like', 'found', 'chemic', 'nice', 'redol', 'ginger', 'love', 'gave', 'away', 'cute', 'littl', 'tin', 'adventur', 'happen', 'thing', 'feel', 'arent', 'expect', 'time', 'time', 'certainli', 'one', 'sure', 'like', 'like', 'dont', 'let', 'stop', 'tri', 'person', 'tastebud', 'mine', 'tea', 'real', 'peach', 'either'], tags=[928]),\n",
       " TaggedDocument(words=['ingredi', 'good', 'yorki', 'play', 'treat', 'eat', 'buy', 'newman', 'chicken', 'treat', 'instead'], tags=[929]),\n",
       " TaggedDocument(words=['roast', 'light', 'medium', 'tri', 'variou', 'grind', 'wega', 'espresso', 'machin', 'bodi', 'charact', 'make', 'good', 'espresso', 'beverag', 'look', 'darker', 'roast', 'make', 'pretti', 'good', 'drip'], tags=[930]),\n",
       " TaggedDocument(words=['grant', 'huge', 'tofu', 'fan', 'read', 'fabul', 'review', 'site', 'hungri', 'girl', 'site', 'thought', 'give', 'shot', 'tri', 'marinara', 'like', 'anoth', 'review', 'said', 'sauc', 'slid', 'textur', 'way', 'squid', 'fine', 'eat', 'squid', 'like', 'want', 'pasta', 'tast', 'noth', 'like', 'pasta', 'disappoint', 'give', 'packag', 'away', 'perhap', 'would', 'better', 'asian', 'soup', 'dish', 'definit', 'substitut', 'good', 'old', 'spaghetti'], tags=[931]),\n",
       " TaggedDocument(words=['ship', 'expens', 'least', 'indic', 'anywher', 'much', 'better', 'tri', 'find', 'store', 'carri', 'noodl', 'tri', 'dish', 'sauc', 'shrimp', 'dont', 'tast', 'bad', 'didnt', 'hold', 'sauc', 'like', 'pasta', 'would', 'sauc', 'slid', 'plate', 'might', 'work', 'better', 'differ', 'dish'], tags=[932]),\n",
       " TaggedDocument(words=['kellogg', 'gone', 'deep', 'end', 'buy', 'food', 'much', 'less', 'meal', 'bar', 'tast', 'like', 'hay', 'movi', 'road', 'wellvil', 'youll', 'see', 'kellogg', 'huge', 'fan', 'milk', 'enema', 'special', 'strawberri', 'protein', 'meal', 'bar', 'crystal', 'meth'], tags=[933]),\n",
       " TaggedDocument(words=['reciev', 'one', 'instead', 'box', 'amazon', 'abl', 'still', 'wait', 'remaind', 'order'], tags=[934]),\n",
       " TaggedDocument(words=['licoric', 'excel', 'licoric', 'soft', 'take', 'time', 'chew', 'get', 'burst', 'pure', 'licoric', 'flavor', 'whole', 'time', 'satisfi', 'love', 'real', 'licoric', 'love', 'one', 'howev', 'think', 'twice', 'buy', 'amazon', 'bought', 'two', 'box', 'packag', 'stale', 'made', 'dri', 'except', 'hard', 'almost', 'brittl', 'think', 'must', 'wareh', 'long', 'packag', 'contain', 'sell', 'date', 'know', 'differ', 'buy', 'exact', 'product', 'local', 'softer', 'much', 'better'], tags=[935]),\n",
       " TaggedDocument(words=['look', 'quaker', 'rice', 'cake', 'decid', 'tri', 'instead', 'flavor', 'bland', 'objection', 'difficult', 'eat', 'fell', 'apart', 'quit', 'easili', 'snack', 'daughter', 'pet', 'rat'], tags=[936]),\n",
       " TaggedDocument(words=['found', 'bug', 'packett', 'dont', 'like', 'bug', 'might', 'want', 'item'], tags=[937]),\n",
       " TaggedDocument(words=['two', 'great', 'dane', 'love', 'toy', 'especi', 'kong', 'brought', 'everlast', 'treat', 'ball', 'home', 'abl', 'pop', 'treat', 'within', 'minut', 'enjoy', 'expens', 'plastic', 'ball', 'useless', 'return', 'product', 'tomorrow'], tags=[938]),\n",
       " TaggedDocument(words=['huge', 'special', 'fan', 'especi', 'red', 'berri', 'heart', 'chocohol', 'excit', 'hear', 'chocol', 'version', 'ran', 'right', 'tri', 'averag', 'special', 'flake', 'addit', 'chocol', 'piec', 'problem', 'leav', 'horribl', 'waxi', 'coat', 'mouth', 'poor', 'qualiti', 'chocol', 'sure', 'stay', 'healthi', 'would', 'rather', 'fat', 'free', 'chocol', 'jello', 'calori', 'pack', 'deal', 'feel', 'leav', 'mouth', 'back', 'red', 'berri'], tags=[939]),\n",
       " TaggedDocument(words=['order', 'give', 'gift', 'recd', 'packag', 'open', 'complet', 'wrong', 'thing', 'haribo', 'mislabl', 'box', 'recd', 'lb', 'sugar', 'coat', 'gummi', 'appl', 'instead', 'diappoint', 'although', 'amazon', 'understand', 'refund', 'total', 'amount', 'hesit', 'order', 'item'], tags=[940]),\n",
       " TaggedDocument(words=['like', 'apricot', 'dont', 'know', 'fact', 'apricot', 'liquefi', 'appl', 'sauc', 'mix', 'someth', 'els', 'cup', 'nasti', 'aftertast', 'kind', 'like', 'dirt', 'definit', 'wont', 'buy', 'flavor', 'leroux', 'creek', 'flavor', 'cinnamon', 'appl', 'good'], tags=[941]),\n",
       " TaggedDocument(words=['go', 'everyon', 'els', 'review', 'far', 'found', 'rice', 'dri', 'bland', 'certainli', 'delici', 'extrem', 'disappoint', 'particularli', 'bought', 'strength', 'review', 'curiou', 'made', 'zojirushi', 'made', 'japan', 'rice', 'cooker', 'make', 'perfect', 'rice', 'everi', 'time', 'plu', 'side', 'certainli', 'healthi', 'peopl', 'seem', 'like', 'didnt'], tags=[942]),\n",
       " TaggedDocument(words=['piec', 'inconsist', 'okay', 'though', 'still', 'great', 'tast', 'aw', 'dri', 'wet'], tags=[943]),\n",
       " TaggedDocument(words=['someth', 'pick', 'cent', 'unfortun', 'hotter', 'gener', 'hot', 'sauc', 'tast', 'terribl', 'smell', 'like', 'oliv', 'somehow', 'get', 'way', 'flavor', 'food', 'your', 'put'], tags=[944]),\n",
       " TaggedDocument(words=['want', 'item', 'readi', 'wait', 'havent', 'receiv', 'within', 'week', 'still', 'ship', 'cancel', 'order'], tags=[945]),\n",
       " TaggedDocument(words=['coffe', 'doesnt', 'anyth', 'special', 'like', 'good', 'kona', 'coffe', 'think', 'star', 'realli', 'tell'], tags=[946]),\n",
       " TaggedDocument(words=['dont', 'slim', 'jim', 'snap', 'realli', 'kind', 'gross', 'brother', 'seem', 'like', 'hem', 'though', 'lost'], tags=[947]),\n",
       " TaggedDocument(words=['disagre', 'hot', 'sauc', 'south', 'certain', 'part', 'south', 'live', 'whole', 'life', 'texa', 'never', 'even', 'heard', 'texa', 'pete', 'travel', 'think', 'made', 'new', 'hampshir', 'someth', 'texa', 'sauc', 'like', 'refer', 'fairli', 'mild', 'use', 'cayenn', 'pepper', 'texa', 'prefer', 'spicier', 'sauc', 'instead', 'cayenn', 'tend', 'favor', 'ancho', 'flavor', 'serrano', 'even', 'habanero', 'heat', 'cours', 'ubiquit', 'jalapeno', 'good', 'laugh', 'encount', 'stuff', 'good', 'hot', 'sauc', 'xxx', 'houston', 'enorm', 'vietnames', 'popul', 'sriracha', 'also', 'common', 'even', 'mexican', 'restaur', 'call', 'ketchup'], tags=[948]),\n",
       " TaggedDocument(words=['realli', 'look', 'forward', 'pod', 'base', 'review', 'starbuck', 'good', 'prefer', 'bolder', 'tast', 'imagin', 'surpris', 'order', 'box', 'expir', 'one', 'expir', 'back', 'gosh', 'sake', 'admit', 'amazon', 'agre', 'credit', 'cost', 'plu', 'part', 'ship', 'geez', 'year', 'expir', 'hope', 'find', 'local', 'san', 'diego', 'area', 'shopp', 'carri', 'pod', 'tri', 'someth', 'differ', 'starbuck'], tags=[949]),\n",
       " TaggedDocument(words=['kind', 'hate', 'cant', 'realli', 'bring', 'use', 'still', 'havent', 'plant', 'basil', 'seed', 'suppli', 'yet', 'need', 'doctor', 'chees', 'still', 'dark', 'oili', 'recommend', 'may', 'pinch', 'lieu', 'dri', 'basil', 'would', 'use', 'anyway', 'buy'], tags=[950]),\n",
       " TaggedDocument(words=['love', 'blue', 'box', 'one', 'like', 'think', 'less', 'salti', 'cheesi', 'enough', 'handi', 'lunch'], tags=[951]),\n",
       " TaggedDocument(words=['thought', 'gummi', 'bear', 'tast', 'funni', 'like', 'perfum', 'eaten', 'brand', 'gummi', 'bear', 'gummi', 'bear', 'wannab', 'tast', 'anyth', 'like', 'flavor', 'distinct', 'fruiti', 'textur', 'also', 'differ', 'palat', 'know', 'vegan', 'gummi', 'bear', 'contain', 'gelatin', 'assum', 'textur', 'differ', 'howev', 'eaten', 'anoth', 'brand', 'sunni', 'bear', 'gummi', 'bear', 'textur', 'differ', 'like', 'jelli', 'candi', 'would', 'buy', 'regular', 'gummi', 'bear', 'allerg', 'dye', 'cant', 'find', 'except', 'sunni', 'bear', 'wrote', 'amazon', 'custom', 'servic', 'product', 'explain', 'could', 'stand', 'eat', 'want', 'return', 'immedi', 'refund', 'money', 'question', 'ask', 'even', 'though', 'product', 'elig', 'return', 'groceri', 'item', 'impress'], tags=[952]),\n",
       " TaggedDocument(words=['chees', 'bake', 'crunchi', 'low', 'carb', 'low', 'calori', 'snack', 'tast', 'burnt', 'extrem', 'crunchi', 'like', 'tooth', 'break', 'crunchi', 'buy'], tags=[953]),\n",
       " TaggedDocument(words=['love', 'sentiment', 'expect', 'though', 'somehow', 'thought', 'chees', 'would', 'gift', 'box', 'similar', 'one', 'shown', 'stuf', 'dismal', 'styrofoam', 'certain', 'make', 'leak', 'eplorateur', 'rewrap', 'plastic', 'wrap', 'hmmm', 'wonder', 'ship', 'way', 'someon', 'open', 'contain', 'freez', 'doubt', 'thaw', 'probabl', 'dinner', 'jewel', 'next', 'year'], tags=[954]),\n",
       " TaggedDocument(words=['bitter', 'tast', 'sweet', 'weird', 'aftertast', 'spent', 'alot', 'money', 'product', 'disapoint'], tags=[955]),\n",
       " TaggedDocument(words=['bewar', 'sent', 'one', 'bottl', 'contact', 'amazon', 'said', 'would', 'correct', 'order', 'send', 'singl', 'bottl', 'order', 'cancel', 'nice', 'product', 'watch'], tags=[956]),\n",
       " TaggedDocument(words=['free', 'great', 'memori', 'foam', 'mattress', 'topper', 'best', 'head', 'howev', 'need', 'elev', 'feet', 'lie', 'comfort'], tags=[957]),\n",
       " TaggedDocument(words=['way', 'sweet', 'poor', 'textur', 'beef', 'jerki'], tags=[958]),\n",
       " TaggedDocument(words=['ive', 'bought', 'millston', 'sever', 'groceri', 'store', 'sever', 'year', 'alway', 'pretti', 'good', 'order', 'two', 'packag', 'amazon', 'tast', 'absolut', 'aw', 'wonder', 'best', 'date', 'packag', 'coffe', 'date', 'two', 'month', 'prior', 'order', 'still', 'buy', 'dri', 'good', 'true', 'unperish', 'item', 'amazon', 'groceri', 'ill', 'skip', 'thing', 'like', 'coffe', 'nut', 'food', 'bad', 'degrad', 'qualiti', 'signific', 'storag', 'time'], tags=[959]),\n",
       " TaggedDocument(words=['mayb', 'person', 'tast', 'tri', 'close', 'senseo', 'pod', 'flavor', 'one', 'regret', 'buy', 'gener', 'like', 'dark', 'coffe', 'yuban', 'howev', 'never', 'purchas', 'flavor', 'senseo'], tags=[960]),\n",
       " TaggedDocument(words=['sister', 'work', 'starbuck', 'use', 'get', 'unground', 'espresso', 'bean', 'free', 'occas', 'pump', 'espresso', 'machin', 'cheap', 'blade', 'grinder', 'tell', 'scale', 'said', 'prefer', 'starbuck', 'espresso', 'spite', 'drastic', 'differ', 'price', 'buy', 'retail', 'though', 'one', 'peopl', 'examin', 'stuff', 'overli', 'much', 'know', 'like', 'tast', 'fact', 'drink', 'latt', 'shot', 'latt', 'latt', 'none', 'less'], tags=[961]),\n",
       " TaggedDocument(words=['fairli', 'good', 'asst', 'tea', 'sent', 'updat', 'version', 'product', 'happi', 'new', 'asst', 'describ', 'desc', 'pomegranit', 'tea', 'instead', 'appl', 'cinnamon', 'buy', 'get', 'appl', 'cinnamon', 'hope', 'someon', 'read', 'doesnt', 'make', 'mistak', 'want', 'appl', 'cinnamon', 'tea'], tags=[962]),\n",
       " TaggedDocument(words=['order', 'red', 'rose', 'valentin', 'day', 'sent', 'assort', 'two', 'order', 'manag', 'get', 'wrong'], tags=[963]),\n",
       " TaggedDocument(words=['sinc', 'product', 'hasnt', 'deliv', 'cant', 'review', 'thing', 'happi', 'deliveri', 'charg', 'product'], tags=[964]),\n",
       " TaggedDocument(words=['order', 'famili', 'snack', 'come', 'sick', 'within', 'hour', 'pain', 'old', 'spent', 'night', 'vomit', 'know', 'sinc', 'one', 'ate', 'dinner', 'day', 'lunch', 'breakfast', 'differ', 'everyon', 'fun', 'month', 'pregnant', 'famili', 'sick', 'night'], tags=[965]),\n",
       " TaggedDocument(words=['packet', 'say', 'contain', 'two', 'serv', 'instruct', 'call', 'hot', 'water', 'heap', 'tablespoon', 'cocoa', 'powder', 'packet', 'open', 'contain', 'less', 'round', 'tablespoon', 'definit', 'doesnt', 'equal', 'two', 'serv', 'heap', 'teaspoon', 'make', 'adequ', 'cuppa', 'adequ', 'add', 'tsp', 'get', 'good', 'flavor', 'way', 'instruct', 'say', 'watch', 'magic', 'trun', 'purpl', 'turn', 'unhealthi', 'shade', 'pale', 'blue', 'grey', 'realli', 'pretti', 'lame', 'stuff', 'seller', 'hasnt', 'bother', 'respond', 'make', 'lamer', 'crap', 'btw', 'hotic', 'review', 'seller', 'remov', 'didnt', 'remov', 'truli', 'lame'], tags=[966]),\n",
       " TaggedDocument(words=['order', 'dozen', 'red', 'rose', 'assur', 'deliveri', 'februari', 'rose', 'never', 'arriv', 'yet', 'reciev', 'repli', 'enquieri', 'horribl', 'servic'], tags=[967]),\n",
       " TaggedDocument(words=['thing', 'salti', 'finish', 'bag'], tags=[968]),\n",
       " TaggedDocument(words=['taco', 'shell', 'buy', 'taco', 'taco', 'bell', 'price', 'includ', 'tax', 'local'], tags=[969]),\n",
       " TaggedDocument(words=['kid', 'usual', 'love', 'can', 'pea', 'didnt', 'like', 'pea', 'pea', 'larg', 'kind', 'mushi', 'also', 'one', 'can', 'pretti', 'badli', 'dent', 'pea', 'definit', 'worth', 'premium', 'pricei', 'paid'], tags=[970]),\n",
       " TaggedDocument(words=['gener', 'like', 'vanilla', 'black', 'tea', 'vanilla', 'flavor', 'twine', 'vanilla', 'tea', 'overpow', 'combin', 'artifici', 'natur', 'flavor', 'complet', 'spoilt', 'tea'], tags=[971]),\n",
       " TaggedDocument(words=['thing', 'special', 'realli', 'melt', 'mouth', 'ordinari', 'flavor', 'could', 'finish', 'even', 'half', 'bag', 'leonida', 'godiva', 'instead'], tags=[972]),\n",
       " TaggedDocument(words=['sorri', 'say', 'recvd', 'box', 'christma', 'gift', 'simpli', 'aw', 'tossd', 'away', 'howev', 'save', 'day', 'husband', 'buy', 'tj', 'trader', 'joe', 'buy', 'truffl', 'similar', 'box', 'look', 'kinda', 'textur', 'tast', 'shelf', 'life', 'get', 'eaten', 'quick', 'wonder', 'packag', 'lot', 'individu', 'cellophan', 'bag', 'cardboard', 'fine', 'serv', 'dinner', 'parti', 'nibbl', 'tj'], tags=[973]),\n",
       " TaggedDocument(words=['bought', 'sale', 'price', 'fact', 'realli', 'like', 'sun', 'maid', 'peach', 'regret', 'say', 'disappoint', 'tast', 'fruit', 'realli', 'struggl', 'find', 'apricot', 'flavor', 'wors', 'sensit', 'toung', 'notic', 'sulfur', 'overton', 'furthermor', 'apricot', 'realli', 'realli', 'soft', 'mushi', 'notic', 'right', 'away', 'use', 'dri', 'peach', 'appl', 'final', 'thought', 'odd', 'day', 'age', 'come', 'reseal', 'contain', 'might', 'use', 'ad', 'color', 'salad', 'overal', 'cannot', 'rate', 'highli', 'probabl', 'eat', 'sinc', 'spent', 'money', 'horribl', 'buy'], tags=[974]),\n",
       " TaggedDocument(words=['call', 'treasur', 'treasur', 'big', 'disappoint'], tags=[975]),\n",
       " TaggedDocument(words=['tast', 'bad', 'thought', 'purchas', 'someth', 'substanti', 'sweet', 'chocol', 'flavor', 'water'], tags=[976]),\n",
       " TaggedDocument(words=['tast', 'bad', 'disappoint', 'expect', 'like', 'sweet', 'chocol', 'flavor', 'water'], tags=[977]),\n",
       " TaggedDocument(words=['love', 'twine', 'tea', 'add', 'tell', 'one', 'light', 'flavor', 'two', 'leav', 'five', 'enough', 'flavor', 'lucki', 'get', 'one', 'cup'], tags=[978]),\n",
       " TaggedDocument(words=['qualiti', 'tea', 'good', 'especi', 'compar', 'superb', 'tea', 'two', 'leav', 'bud', 'mostli', 'powder', 'insid', 'bag', 'strong', 'grassi', 'smell', 'somewhat', 'bitter', 'aftertast', 'top', 'took', 'week', 'amazon', 'deliv'], tags=[979]),\n",
       " TaggedDocument(words=['herb', 'kit', 'receiv', 'aerogarden', 'unit', 'unimpress', 'seed', 'fail', 'germin', 'problem', 'cherri', 'tomato', 'kit', 'grown', 'inch', 'day'], tags=[980]),\n",
       " TaggedDocument(words=['order', 'pack', 'good', 'earth', 'tea', 'first', 'shipment', 'came', 'pack', 'took', 'long', 'time', 'find', 'place', 'webb', 'site', 'allow', 'place', 'complaint', 'day', 'ship', 'new', 'shipment', 'pack', 'phone', 'call', 'talk', 'real', 'person', 'guess', 'shippment', 'done', 'robot', 'otherwis', 'dont', 'understand', 'cant', 'get', 'write', 'still', 'wait', 'refund', 'dont', 'think', 'ever', 'use', 'amazon', 'make', 'lot', 'onlin', 'purchas', 'worst', 'experi', 'ever'], tags=[981]),\n",
       " TaggedDocument(words=['product', 'previous', 'order', 'excel', 'time', 'tast', 'old', 'threw', 'away', 'figur', 'ever', 'got', 'first', 'place', 'order', 'anoth', 'product', 'amazon', 'somehow', 'got', 'well'], tags=[982]),\n",
       " TaggedDocument(words=['didnt', 'like', 'much', 'bit', 'spici', 'leav', 'bad', 'smell', 'hous', 'cook', 'would', 'given', 'three', 'star', 'though', 'smell'], tags=[983]),\n",
       " TaggedDocument(words=['order', 'product', 'hope', 'would', 'give', 'good', 'result', 'first', 'time', 'use', 'product', 'feel', 'energ', 'without', 'jitter', 'like', 'bodi', 'got', 'use', 'felt', 'noth'], tags=[984]),\n",
       " TaggedDocument(words=['one', 'worst', 'chip', 'salti', 'take', 'piec'], tags=[985]),\n",
       " TaggedDocument(words=['like', 'eat', 'cardboard', 'sorri', 'neg', 'good', 'even', 'review', 'said', 'wast', 'money', 'believ', 'review'], tags=[986]),\n",
       " TaggedDocument(words=['order', 'box', 'couldnt', 'stomach', 'spice', 'type', 'dish', 'point', 'made', 'couldnt', 'stand', 'tast', 'way', 'much', 'cinnamon', 'end', 'thrown', 'box', 'would', 'recommend', 'kohinoor', 'brand', 'day'], tags=[987]),\n",
       " TaggedDocument(words=['time', 'spent', 'wait', 'order', 'fli', 'trap', 'arriv', 'went', 'bought', 'regular', 'fli', 'ribbon', 'bad', 'fli', 'problem', 'sure', 'kind', 'fli', 'slightli', 'bigger', 'fruit', 'fli', 'least', 'week', 'ive', 'one', 'fli', 'trap', 'ive', 'caught', 'zero', 'fli', 'fli', 'trap', 'caught', 'probabl', 'fli', 'regular', 'fli', 'ribbon', 'one', 'point', 'even', 'saw', 'fli', 'fli', 'trap', 'thought', 'caught', 'gone', 'even', 'pictur', 'prove'], tags=[988]),\n",
       " TaggedDocument(words=['like', 'idea', 'get', 'sampl', 'refrig', 'tough', 'get', 'sauc', 'small', 'bottl', 'buy', 'add', 'came', 'broken', 'ship', 'upset', 'refrig', 'direct', 'make', 'yet', 'pull', 'open', 'other', 'sinc'], tags=[989]),\n",
       " TaggedDocument(words=['folk', 'offic', 'includ', 'truli', 'found', 'cloy', 'artifici', 'tast', 'regardless', 'flavor', 'select', 'underli', 'mapl', 'flavor', 'peopl', 'love', 'flavor', 'coffe', 'mayb', 'lot', 'sugar', 'would', 'float', 'boat', 'true', 'coffe', 'afficionado', 'pass'], tags=[990]),\n",
       " TaggedDocument(words=['love', 'dri', 'peach', 'normal', 'respect', 'sunmaid', 'brand', 'thought', 'bargain', 'unfortun', 'pungent', 'smell', 'kind', 'funki', 'turn', 'edibl', 'think', 'ill', 'give', 'away', 'unopen', 'pack', 'local', 'food', 'bank', 'rather', 'eat'], tags=[991]),\n",
       " TaggedDocument(words=['tast', 'like', 'coupl', 'piec', 'toast', 'anyon', 'like', 'bagel', 'stay', 'away'], tags=[992]),\n",
       " TaggedDocument(words=['first', 'let', 'say', 'product', 'high', 'get', 'great', 'get', 'howev', 'hassl', 'order', 'item', 'sent', 'singl', 'box', 'barley', 'instead', 'case', 'box', 'order', 'paid', 'tri', 'get', 'problem', 'resolv', 'involv', 'frequent', 'interact', 'custom', 'servic', 'amazon', 'attempt', 'fix', 'problem', 'resend', 'order', 'made', 'mistak', 'send', 'box', 'instead', 'case', 'request', 'paid', 'ultim', 'told', 'amazon', 'unabl', 'fix', 'glitch', 'order', 'cancel', 'problem', 'rectifi', 'doesnt', 'make', 'sens', 'opinion', 'purchas', 'item'], tags=[993]),\n",
       " TaggedDocument(words=['muffiin', 'absolut', 'tast', 'ad', 'extra', 'sweeten', 'ginger', 'cinnamon', 'tast', 'much', 'better'], tags=[994]),\n",
       " TaggedDocument(words=['like', 'old', 'smucker', 'fill', 'strawberri', 'better', 'aka', 'fruit', 'wheat', 'fruit', 'fill', 'better', 'probabl', 'switch', 'got', 'expens', 'make', 'unless', 'start', 'make', 'china', 'thu', 'nestl', 'quick', 'artifici', 'strawberri', 'tast', 'stuff'], tags=[995]),\n",
       " TaggedDocument(words=['love', 'riedel', 'glass', 'order', 'past', 'amazon', 'unfortun', 'amazon', 'ship', 'depart', 'seem', 'difficulti', 'pack', 'delic', 'first', 'shipment', 'includ', 'coupl', 'heavi', 'book', 'shift', 'mail', 'broke', 'glass', 'replac', 'box', 'glass', 'jam', 'one', 'corner', 'air', 'pack', 'around', 'three', 'side', 'arriv', 'broken', 'also', 'guess', 'well', 'purchas', 'glass', 'wine', 'shop', 'love', 'amazon', 'first', 'time', 'weve', 'ship', 'problem'], tags=[996]),\n",
       " TaggedDocument(words=['bought', 'hope', 'find', 'replac', 'tea', 'favorit', 'gingerbread', 'spice', 'tea', 'huge', 'disappoint', 'tast', 'smell', 'realli', 'strang', 'lack', 'better', 'descript', 'tast', 'like', 'phoni', 'chemic', 'appl', 'yuck'], tags=[997]),\n",
       " TaggedDocument(words=['enjoy', 'product', 'lot', 'fresh', 'problem', 'qualiti', 'product', 'vari', 'dont', 'know', 'go', 'get', 'box', 'fresh', 'cut', 'stale', 'hard', 'rock', 'piec', 'fresh', 'think', 'one', 'best', 'tast', 'jerki', 'howev', 'stale', 'hard', 'edibl', 'inconsist', 'qualiti', 'purchas', 'product', 'shame', 'need', 'work', 'qualiti', 'control'], tags=[998]),\n",
       " TaggedDocument(words=['tri', 'almost', 'hemp', 'protein', 'product', 'love', 'eat', 'powder', 'raw', 'nutiva', 'product', 'tast', 'good', 'compar', 'product', 'tast', 'like', 'dirt', 'mill', 'fine', 'powder', 'coars', 'crunchi', 'decid', 'blend', 'anyth', 'thing', 'go', 'product', 'pack', 'fiber', 'brand', 'look', 'good', 'tast', 'hemp', 'protein', 'live', 'harvest', 'manitoba', 'harvest', 'ruth', 'hemp', 'protein', 'eat', 'hemp', 'religi', 'trust', 'take', 'advic', 'avoid', 'one', 'bottom', 'hemp', 'powder', 'complet', 'sourc', 'protein', 'easi', 'digest'], tags=[999]),\n",
       " ...]"
      ]
     },
     "execution_count": 136,
     "metadata": {},
     "output_type": "execute_result"
    }
   ],
   "source": [
    "train_corpus"
   ]
  },
  {
   "cell_type": "code",
   "execution_count": 86,
   "metadata": {},
   "outputs": [],
   "source": [
    "model = gensim.models.doc2vec.Doc2Vec(vector_size=50, min_count=2, epochs=40)"
   ]
  },
  {
   "cell_type": "code",
   "execution_count": 87,
   "metadata": {},
   "outputs": [],
   "source": [
    "model.build_vocab(train_corpus)"
   ]
  },
  {
   "cell_type": "code",
   "execution_count": 88,
   "metadata": {},
   "outputs": [
    {
     "data": {
      "text/plain": [
       "<gensim.models.doc2vec.Doc2Vec at 0x203485b7fd0>"
      ]
     },
     "execution_count": 88,
     "metadata": {},
     "output_type": "execute_result"
    }
   ],
   "source": [
    "model"
   ]
  },
  {
   "cell_type": "code",
   "execution_count": 89,
   "metadata": {},
   "outputs": [
    {
     "name": "stdout",
     "output_type": "stream",
     "text": [
      "Wall time: 5.89 s\n"
     ]
    }
   ],
   "source": [
    "%time model.train(train_corpus, total_examples=model.corpus_count, epochs=model.epochs)"
   ]
  },
  {
   "cell_type": "code",
   "execution_count": 129,
   "metadata": {},
   "outputs": [],
   "source": [
    "review_vector_3k = np.zeros((1,50))\n",
    "\n",
    "\n",
    "for review in df_np['cleaned_text']:\n",
    "    arr = np.reshape(model.infer_vector(str(review).split()), (1,-1))\n",
    "    review_vector_3k=np.vstack([review_vector_3k, arr])\n",
    "\n",
    "\n",
    "    \n",
    "#model.infer_vector(str(df_np['cleaned_text'][1636]).split())\n",
    "\n",
    "#df_np['cleaned_text'][1637]\n",
    "#df_np['cleaned_text']\n",
    "\n",
    "#np.reshape(model.infer_vector(str(df_np['cleaned_text'][2]).split()), (1,-1)).shape\n",
    "\n",
    "review_vector_3k = np.delete(review_vector_3k, (0), axis=0)"
   ]
  },
  {
   "cell_type": "code",
   "execution_count": 142,
   "metadata": {},
   "outputs": [
    {
     "data": {
      "text/plain": [
       "(3000, 50)"
      ]
     },
     "execution_count": 142,
     "metadata": {},
     "output_type": "execute_result"
    }
   ],
   "source": [
    "review_vector_3k.shape"
   ]
  },
  {
   "cell_type": "code",
   "execution_count": 143,
   "metadata": {},
   "outputs": [],
   "source": [
    "from sklearn.preprocessing import StandardScaler\n",
    "\n",
    "scaler = StandardScaler()\n",
    "\n",
    "review_vector_3k = scaler.fit_transform(review_vector_3k)"
   ]
  },
  {
   "cell_type": "code",
   "execution_count": 144,
   "metadata": {},
   "outputs": [],
   "source": [
    "tsne = TSNE(n_components=2, random_state=33, perplexity=40)\n",
    "\n",
    "review_vector_3k_tsne = tsne.fit_transform(review_vector_3k)"
   ]
  },
  {
   "cell_type": "code",
   "execution_count": 145,
   "metadata": {},
   "outputs": [
    {
     "data": {
      "text/plain": [
       "(3000, 2)"
      ]
     },
     "execution_count": 145,
     "metadata": {},
     "output_type": "execute_result"
    }
   ],
   "source": [
    "review_vector_3k_tsne.shape"
   ]
  },
  {
   "cell_type": "code",
   "execution_count": 146,
   "metadata": {},
   "outputs": [],
   "source": [
    "d2v_tsne_3k_array = np.vstack((review_vector_3k_tsne.T, df_np['Score'])).T\n",
    "df_d2v_tsne_3k = pd.DataFrame(d2v_tsne_3k_array, columns=['First Dimension', 'Second Dimension', 'Label'])"
   ]
  },
  {
   "cell_type": "code",
   "execution_count": 140,
   "metadata": {},
   "outputs": [
    {
     "data": {
      "text/html": [
       "<div>\n",
       "<style scoped>\n",
       "    .dataframe tbody tr th:only-of-type {\n",
       "        vertical-align: middle;\n",
       "    }\n",
       "\n",
       "    .dataframe tbody tr th {\n",
       "        vertical-align: top;\n",
       "    }\n",
       "\n",
       "    .dataframe thead th {\n",
       "        text-align: right;\n",
       "    }\n",
       "</style>\n",
       "<table border=\"1\" class=\"dataframe\">\n",
       "  <thead>\n",
       "    <tr style=\"text-align: right;\">\n",
       "      <th></th>\n",
       "      <th>First Dimension</th>\n",
       "      <th>Second Dimension</th>\n",
       "      <th>Label</th>\n",
       "    </tr>\n",
       "  </thead>\n",
       "  <tbody>\n",
       "    <tr>\n",
       "      <th>0</th>\n",
       "      <td>13.4623</td>\n",
       "      <td>-9.81128</td>\n",
       "      <td>negative</td>\n",
       "    </tr>\n",
       "    <tr>\n",
       "      <th>1</th>\n",
       "      <td>-1.67255</td>\n",
       "      <td>0.441635</td>\n",
       "      <td>negative</td>\n",
       "    </tr>\n",
       "    <tr>\n",
       "      <th>2</th>\n",
       "      <td>-19.1338</td>\n",
       "      <td>4.7497</td>\n",
       "      <td>negative</td>\n",
       "    </tr>\n",
       "    <tr>\n",
       "      <th>3</th>\n",
       "      <td>-19.0741</td>\n",
       "      <td>4.69081</td>\n",
       "      <td>negative</td>\n",
       "    </tr>\n",
       "    <tr>\n",
       "      <th>4</th>\n",
       "      <td>6.38907</td>\n",
       "      <td>3.53909</td>\n",
       "      <td>negative</td>\n",
       "    </tr>\n",
       "  </tbody>\n",
       "</table>\n",
       "</div>"
      ],
      "text/plain": [
       "  First Dimension Second Dimension     Label\n",
       "0         13.4623         -9.81128  negative\n",
       "1        -1.67255         0.441635  negative\n",
       "2        -19.1338           4.7497  negative\n",
       "3        -19.0741          4.69081  negative\n",
       "4         6.38907          3.53909  negative"
      ]
     },
     "execution_count": 140,
     "metadata": {},
     "output_type": "execute_result"
    }
   ],
   "source": [
    "df_d2v_tsne_3k.head()"
   ]
  },
  {
   "cell_type": "code",
   "execution_count": 147,
   "metadata": {},
   "outputs": [
    {
     "data": {
      "image/png": "[encoded data removed]",
      "text/plain": [
       "<matplotlib.figure.Figure at 0x20305dbdf28>"
      ]
     },
     "metadata": {},
     "output_type": "display_data"
    }
   ],
   "source": [
    "sbn.FacetGrid(df_d2v_tsne_3k, hue=\"Label\", size=6).map(plt.scatter, 'First Dimension', 'Second Dimension').add_legend()\n",
    "plt.show()"
   ]
  },
  {
   "cell_type": "code",
   "execution_count": null,
   "metadata": {},
   "outputs": [],
   "source": []
  }
 ],
 "metadata": {
  "kernelspec": {
   "display_name": "Python 3",
   "language": "python",
   "name": "python3"
  },
  "language_info": {
   "codemirror_mode": {
    "name": "ipython",
    "version": 3
   },
   "file_extension": ".py",
   "mimetype": "text/x-python",
   "name": "python",
   "nbconvert_exporter": "python",
   "pygments_lexer": "ipython3",
   "version": "3.6.4"
  }
 },
 "nbformat": 4,
 "nbformat_minor": 2
}
