{
 "cells": [
  {
   "cell_type": "markdown",
   "metadata": {},
   "source": [
    "<h1 align=\"center\">Classifying MNIST digits using Keras </h1>\n",
    "\n",
    "## Introduction\n",
    "\n",
    "The `MNIST` dataset is a famous dataset of several thousand samples of handwritten digits, each of which is encoded in a low resolution image of 28*28 pixels. There are 10 possible digits from 0 to 9. The objective of this study is to try out several Neural Networks (Multi Layered Perceptrons) that classify the digits with high accuracy.\n",
    "\n",
    "The library I'll be using is `Keras` which is a high level deep learning framework and API. The backend used will be `Tensorflow`.\n",
    "\n",
    "Let's begin by importing the requied libraries."
   ]
  },
  {
   "cell_type": "code",
   "execution_count": 50,
   "metadata": {},
   "outputs": [],
   "source": [
    "from keras.datasets import mnist\n",
    "import seaborn as sbn\n",
    "import matplotlib.pyplot as plt\n",
    "from matplotlib import rcParams\n",
    "import time\n",
    "from keras.initializers import RandomNormal, glorot_normal, he_normal\n",
    "from keras.utils import np_utils\n",
    "from keras.models import Sequential \n",
    "from keras.layers import Dense, Activation \n",
    "import warnings\n",
    "warnings.filterwarnings('ignore')\n",
    "from keras.layers import Dropout\n",
    "from keras.layers.normalization import BatchNormalization\n",
    "from keras.initializers import he_normal"
   ]
  },
  {
   "cell_type": "markdown",
   "metadata": {},
   "source": [
    "Specify the plotting parameters."
   ]
  },
  {
   "cell_type": "code",
   "execution_count": 51,
   "metadata": {},
   "outputs": [],
   "source": [
    "rcParams['figure.figsize'] = (14.5,5)"
   ]
  },
  {
   "cell_type": "markdown",
   "metadata": {},
   "source": [
    "### Function to plot Validation loss vs Test loss"
   ]
  },
  {
   "cell_type": "code",
   "execution_count": 52,
   "metadata": {},
   "outputs": [],
   "source": [
    "def plot_loss(x, vy, ty, title):\n",
    "    plt.plot(x, vy, 'b', label=\"Validation Loss\")\n",
    "    plt.plot(x, ty, 'r', label=\"Train Loss\")\n",
    "    plt.title(title)\n",
    "    plt.xlabel('epoch')\n",
    "    plt.ylabel('Categorical Crossentropy Loss')\n",
    "    plt.legend()\n",
    "    plt.grid()\n",
    "    \n",
    "    plt.show()"
   ]
  },
  {
   "cell_type": "markdown",
   "metadata": {},
   "source": [
    "Load the MNIST data. It comes with the installation of Keras."
   ]
  },
  {
   "cell_type": "code",
   "execution_count": 53,
   "metadata": {},
   "outputs": [],
   "source": [
    "# the data, shuffled and split between train and test sets \n",
    "(X_train, y_train), (X_test, y_test) = mnist.load_data()"
   ]
  },
  {
   "cell_type": "markdown",
   "metadata": {},
   "source": [
    "Dimensions of the data"
   ]
  },
  {
   "cell_type": "code",
   "execution_count": 54,
   "metadata": {},
   "outputs": [
    {
     "name": "stdout",
     "output_type": "stream",
     "text": [
      "Shape of X_train: (60000, 28, 28)\n",
      "Shape of y_train: (60000,)\n",
      "Shape of X_test: (10000, 28, 28)\n",
      "Shape of y_test: (10000,)\n"
     ]
    }
   ],
   "source": [
    "print('Shape of X_train: {}'.format(X_train.shape))\n",
    "print('Shape of y_train: {}'.format(y_train.shape))\n",
    "print('Shape of X_test: {}'.format(X_test.shape))\n",
    "print('Shape of y_test: {}'.format(y_test.shape))"
   ]
  },
  {
   "cell_type": "markdown",
   "metadata": {},
   "source": [
    "In the above 3-dimensional tensor, each digit is stored as a 2-dimensional vector of shape `28*28`"
   ]
  },
  {
   "cell_type": "code",
   "execution_count": 55,
   "metadata": {
    "scrolled": true
   },
   "outputs": [
    {
     "data": {
      "text/plain": [
       "(28, 28)"
      ]
     },
     "execution_count": 55,
     "metadata": {},
     "output_type": "execute_result"
    }
   ],
   "source": [
    "X_train[0].shape"
   ]
  },
  {
   "cell_type": "markdown",
   "metadata": {},
   "source": [
    "### Sample images of digits"
   ]
  },
  {
   "cell_type": "code",
   "execution_count": 56,
   "metadata": {},
   "outputs": [
    {
     "data": {
      "image/png": "[encoded data removed]",
      "text/plain": [
       "<Figure size 1008x432 with 24 Axes>"
      ]
     },
     "metadata": {},
     "output_type": "display_data"
    }
   ],
   "source": [
    "class_names = ['Zero', 'One', 'Two', 'Three', 'Four', \n",
    "               'Five', 'Six', 'Seven', 'Eight', 'Nine']\n",
    "\n",
    "plt.figure(figsize=(14,6))\n",
    "for i in range(25):\n",
    "    plt.subplot(5,5,i+1)\n",
    "    plt.xticks([])\n",
    "    plt.yticks([])\n",
    "    plt.grid(False)\n",
    "    plt.imshow(X_train[i], cmap=plt.cm.binary)\n",
    "    plt.xlabel(class_names[y_train[i]])\n",
    "    plt.tight_layout()"
   ]
  },
  {
   "cell_type": "markdown",
   "metadata": {},
   "source": [
    "### Flatten 2D image into a 1D array"
   ]
  },
  {
   "cell_type": "code",
   "execution_count": 57,
   "metadata": {},
   "outputs": [],
   "source": [
    "# if you observe the input shape its 3 dimensional vector\n",
    "# for each image we have a (28*28) vector\n",
    "# we will convert the (28*28) vector into single dimensional vector of 1 * 784 \n",
    "\n",
    "X_train = X_train.reshape(X_train.shape[0], X_train.shape[1]*X_train.shape[2]) \n",
    "X_test = X_test.reshape(X_test.shape[0], X_test.shape[1]*X_test.shape[2])"
   ]
  },
  {
   "cell_type": "markdown",
   "metadata": {},
   "source": [
    "Shape of the new vectors"
   ]
  },
  {
   "cell_type": "code",
   "execution_count": 58,
   "metadata": {},
   "outputs": [
    {
     "name": "stdout",
     "output_type": "stream",
     "text": [
      "Shape of X_train: (60000, 784)\n",
      "Shape of y_train: (60000,)\n",
      "Shape of X_test: (10000, 784)\n",
      "Shape of y_test: (10000,)\n"
     ]
    }
   ],
   "source": [
    "print('Shape of X_train: {}'.format(X_train.shape))\n",
    "print('Shape of y_train: {}'.format(y_train.shape))\n",
    "print('Shape of X_test: {}'.format(X_test.shape))\n",
    "print('Shape of y_test: {}'.format(y_test.shape))"
   ]
  },
  {
   "cell_type": "markdown",
   "metadata": {},
   "source": [
    "## Normalize the array values\n",
    "\n",
    "Each cell is having a value between 0-255. Before we move to apply machine learning algorithms lets try to normalize the data\n",
    "\n",
    "    X => (X - Xmin)/(Xmax-Xmin) = X/255\n"
   ]
  },
  {
   "cell_type": "code",
   "execution_count": 59,
   "metadata": {},
   "outputs": [],
   "source": [
    "X_train = X_train / 255\n",
    "X_test = X_test / 255"
   ]
  },
  {
   "cell_type": "markdown",
   "metadata": {},
   "source": [
    "### Convert target variable\n",
    "\n",
    "The target variable by contains the actual value of the digit. We need to convert it into a form that's suitable for a neural network output. Let's convert each output into a 10 dimensional binary array. "
   ]
  },
  {
   "cell_type": "code",
   "execution_count": 60,
   "metadata": {},
   "outputs": [
    {
     "name": "stdout",
     "output_type": "stream",
     "text": [
      "Class label of first image : 5\n"
     ]
    }
   ],
   "source": [
    "# here we are having a class number for each image\n",
    "print(\"Class label of first image :\", y_train[0])\n",
    "\n",
    "# lets convert this into a 10 dimensional vector\n",
    "# ex: consider an image is 5 convert it into 5 => [0, 0, 0, 0, 0, 1, 0, 0, 0, 0]\n",
    "# this conversion needed for MLPs \n",
    "\n",
    "y_train = np_utils.to_categorical(y_train, 10) \n",
    "y_test = np_utils.to_categorical(y_test, 10)"
   ]
  },
  {
   "cell_type": "code",
   "execution_count": 61,
   "metadata": {},
   "outputs": [
    {
     "name": "stdout",
     "output_type": "stream",
     "text": [
      "After converting the output into a vector :  [0. 1. 0. 0. 0. 0. 0. 0. 0. 0.]\n"
     ]
    }
   ],
   "source": [
    "print(\"After converting the output into a vector : \",y_train[3])"
   ]
  },
  {
   "cell_type": "markdown",
   "metadata": {},
   "source": [
    "### Define common model parameters"
   ]
  },
  {
   "cell_type": "code",
   "execution_count": 62,
   "metadata": {},
   "outputs": [],
   "source": [
    "# some model parameters\n",
    "output_dim = 10\n",
    "input_dim = X_train.shape[1]\n",
    "batch_size = 128 \n",
    "nb_epoch = 20"
   ]
  },
  {
   "cell_type": "markdown",
   "metadata": {},
   "source": [
    "## Model 1: Two hidden layers of neurons \n",
    "\n",
    "[ 784 - 256 - BN - DO -128 - BN - DO - 10 ]\n",
    "\n",
    "In the architecture above, \n",
    "\n",
    "        BN: Batch Normalization Layer\n",
    "        DO: DropOut Layer\n",
    "        \n",
    "Let's define the model step by step."
   ]
  },
  {
   "cell_type": "code",
   "execution_count": 63,
   "metadata": {},
   "outputs": [
    {
     "name": "stdout",
     "output_type": "stream",
     "text": [
      "_________________________________________________________________\n",
      "Layer (type)                 Output Shape              Param #   \n",
      "=================================================================\n",
      "dense_17 (Dense)             (None, 256)               200960    \n",
      "_________________________________________________________________\n",
      "batch_normalization_13 (Batc (None, 256)               1024      \n",
      "_________________________________________________________________\n",
      "dropout_13 (Dropout)         (None, 256)               0         \n",
      "_________________________________________________________________\n",
      "dense_18 (Dense)             (None, 128)               32896     \n",
      "_________________________________________________________________\n",
      "batch_normalization_14 (Batc (None, 128)               512       \n",
      "_________________________________________________________________\n",
      "dropout_14 (Dropout)         (None, 128)               0         \n",
      "_________________________________________________________________\n",
      "dense_19 (Dense)             (None, 10)                1290      \n",
      "=================================================================\n",
      "Total params: 236,682\n",
      "Trainable params: 235,914\n",
      "Non-trainable params: 768\n",
      "_________________________________________________________________\n"
     ]
    }
   ],
   "source": [
    "model = Sequential()\n",
    "\n",
    "model.add(Dense(256, activation='relu', input_shape=(input_dim,), kernel_initializer=RandomNormal(mean=0.0, stddev=0.039, seed=None)))\n",
    "model.add(BatchNormalization())\n",
    "model.add(Dropout(0.5))\n",
    "\n",
    "model.add(Dense(128, activation='relu', kernel_initializer=RandomNormal(mean=0.0, stddev=0.55, seed=None)) )\n",
    "model.add(BatchNormalization())\n",
    "model.add(Dropout(0.5))\n",
    "\n",
    "model.add(Dense(output_dim, activation='softmax'))\n",
    "\n",
    "model.summary()"
   ]
  },
  {
   "cell_type": "markdown",
   "metadata": {},
   "source": [
    "Compile the model"
   ]
  },
  {
   "cell_type": "code",
   "execution_count": 64,
   "metadata": {},
   "outputs": [],
   "source": [
    "model.compile(optimizer='adam', loss='categorical_crossentropy', metrics=['accuracy'])"
   ]
  },
  {
   "cell_type": "markdown",
   "metadata": {},
   "source": [
    "Train the neural network."
   ]
  },
  {
   "cell_type": "code",
   "execution_count": 65,
   "metadata": {},
   "outputs": [
    {
     "name": "stdout",
     "output_type": "stream",
     "text": [
      "Train on 60000 samples, validate on 10000 samples\n",
      "Epoch 1/20\n",
      "60000/60000 [==============================] - 6s 102us/step - loss: 0.5829 - acc: 0.8205 - val_loss: 0.1895 - val_acc: 0.9412\n",
      "Epoch 2/20\n",
      "60000/60000 [==============================] - 5s 77us/step - loss: 0.3009 - acc: 0.9093 - val_loss: 0.1467 - val_acc: 0.9552\n",
      "Epoch 3/20\n",
      "60000/60000 [==============================] - 4s 72us/step - loss: 0.2443 - acc: 0.9267 - val_loss: 0.1250 - val_acc: 0.9607\n",
      "Epoch 4/20\n",
      "60000/60000 [==============================] - 5s 91us/step - loss: 0.2103 - acc: 0.9349 - val_loss: 0.1119 - val_acc: 0.9664\n",
      "Epoch 5/20\n",
      "60000/60000 [==============================] - 6s 100us/step - loss: 0.1917 - acc: 0.9415 - val_loss: 0.1031 - val_acc: 0.9686\n",
      "Epoch 6/20\n",
      "60000/60000 [==============================] - 7s 110us/step - loss: 0.1732 - acc: 0.9474 - val_loss: 0.0942 - val_acc: 0.9717\n",
      "Epoch 7/20\n",
      "60000/60000 [==============================] - 6s 99us/step - loss: 0.1638 - acc: 0.9506 - val_loss: 0.0931 - val_acc: 0.9718\n",
      "Epoch 8/20\n",
      "60000/60000 [==============================] - 6s 96us/step - loss: 0.1480 - acc: 0.9560 - val_loss: 0.0929 - val_acc: 0.9721\n",
      "Epoch 9/20\n",
      "60000/60000 [==============================] - 6s 105us/step - loss: 0.1423 - acc: 0.9564 - val_loss: 0.0878 - val_acc: 0.9735\n",
      "Epoch 10/20\n",
      "60000/60000 [==============================] - 6s 100us/step - loss: 0.1387 - acc: 0.9583 - val_loss: 0.0896 - val_acc: 0.9727\n",
      "Epoch 11/20\n",
      "60000/60000 [==============================] - 6s 93us/step - loss: 0.1282 - acc: 0.9603 - val_loss: 0.0801 - val_acc: 0.9758\n",
      "Epoch 12/20\n",
      "60000/60000 [==============================] - 5s 86us/step - loss: 0.1218 - acc: 0.9627 - val_loss: 0.0839 - val_acc: 0.9752\n",
      "Epoch 13/20\n",
      "60000/60000 [==============================] - 5s 77us/step - loss: 0.1174 - acc: 0.9650 - val_loss: 0.0818 - val_acc: 0.9755\n",
      "Epoch 14/20\n",
      "60000/60000 [==============================] - 5s 82us/step - loss: 0.1142 - acc: 0.9654 - val_loss: 0.0770 - val_acc: 0.9777\n",
      "Epoch 15/20\n",
      "60000/60000 [==============================] - 5s 90us/step - loss: 0.1094 - acc: 0.9672 - val_loss: 0.0719 - val_acc: 0.9785\n",
      "Epoch 16/20\n",
      "60000/60000 [==============================] - 6s 96us/step - loss: 0.1046 - acc: 0.9675 - val_loss: 0.0663 - val_acc: 0.9806\n",
      "Epoch 17/20\n",
      "60000/60000 [==============================] - 6s 99us/step - loss: 0.1029 - acc: 0.9679 - val_loss: 0.0737 - val_acc: 0.9775\n",
      "Epoch 18/20\n",
      "60000/60000 [==============================] - 6s 101us/step - loss: 0.0989 - acc: 0.9687 - val_loss: 0.0726 - val_acc: 0.9782\n",
      "Epoch 19/20\n",
      "60000/60000 [==============================] - 6s 102us/step - loss: 0.0945 - acc: 0.9710 - val_loss: 0.0711 - val_acc: 0.9794\n",
      "Epoch 20/20\n",
      "60000/60000 [==============================] - 6s 101us/step - loss: 0.0925 - acc: 0.9714 - val_loss: 0.0720 - val_acc: 0.9788\n"
     ]
    }
   ],
   "source": [
    "history = model.fit(X_train, y_train, batch_size=batch_size, epochs=nb_epoch, verbose=1, validation_data=(X_test, y_test)) "
   ]
  },
  {
   "cell_type": "markdown",
   "metadata": {},
   "source": [
    "### Validation vs Test loss"
   ]
  },
  {
   "cell_type": "code",
   "execution_count": 66,
   "metadata": {},
   "outputs": [
    {
     "name": "stdout",
     "output_type": "stream",
     "text": [
      "Test score: 0.07196902272452135\n",
      "Test accuracy: 0.9788\n"
     ]
    },
    {
     "data": {
      "image/png": "[encoded data removed]",
      "text/plain": [
       "<Figure size 1044x360 with 1 Axes>"
      ]
     },
     "metadata": {
      "needs_background": "light"
     },
     "output_type": "display_data"
    }
   ],
   "source": [
    "score = model.evaluate(X_test, y_test, verbose=False) \n",
    "print('Test score:', score[0]) \n",
    "print('Test accuracy:', score[1])\n",
    "\n",
    "# list of epoch numbers\n",
    "x = list(range(1,nb_epoch+1))\n",
    "\n",
    "vy = history.history['val_loss']\n",
    "ty = history.history['loss']\n",
    "plot_loss(x, vy, ty, title='Two hidden Layers')"
   ]
  },
  {
   "cell_type": "code",
   "execution_count": 67,
   "metadata": {},
   "outputs": [
    {
     "name": "stdout",
     "output_type": "stream",
     "text": [
      "Train accuracy: 0.9910833333333333\n"
     ]
    }
   ],
   "source": [
    "score = model.evaluate(X_train, y_train, verbose=False)\n",
    "print('Train accuracy:', score[1])"
   ]
  },
  {
   "cell_type": "code",
   "execution_count": 82,
   "metadata": {},
   "outputs": [],
   "source": [
    "from prettytable import PrettyTable\n",
    "table = PrettyTable()\n",
    "\n",
    "table.field_names = ['#', 'Architecture', 'Train Accuracy', 'Test Accuracy']\n",
    "table.add_row(['1', '784-256-BN-DO-128-BN-DO-10', '0.99108', '0.9788' ])"
   ]
  },
  {
   "cell_type": "markdown",
   "metadata": {},
   "source": [
    "## Model 2: Three hidden layers of Neurons\n",
    "\n",
    "[ 784 - 256 - BN - DO -128 - BN - DO - 64 - BN - DO - 10] \n",
    "\n",
    "As we did above, we'll define this architecture step by step, compile the model, and then train it."
   ]
  },
  {
   "cell_type": "code",
   "execution_count": 69,
   "metadata": {},
   "outputs": [
    {
     "name": "stdout",
     "output_type": "stream",
     "text": [
      "_________________________________________________________________\n",
      "Layer (type)                 Output Shape              Param #   \n",
      "=================================================================\n",
      "dense_20 (Dense)             (None, 256)               200960    \n",
      "_________________________________________________________________\n",
      "batch_normalization_15 (Batc (None, 256)               1024      \n",
      "_________________________________________________________________\n",
      "dropout_15 (Dropout)         (None, 256)               0         \n",
      "_________________________________________________________________\n",
      "dense_21 (Dense)             (None, 128)               32896     \n",
      "_________________________________________________________________\n",
      "batch_normalization_16 (Batc (None, 128)               512       \n",
      "_________________________________________________________________\n",
      "dropout_16 (Dropout)         (None, 128)               0         \n",
      "_________________________________________________________________\n",
      "dense_22 (Dense)             (None, 64)                8256      \n",
      "_________________________________________________________________\n",
      "batch_normalization_17 (Batc (None, 64)                256       \n",
      "_________________________________________________________________\n",
      "dropout_17 (Dropout)         (None, 64)                0         \n",
      "_________________________________________________________________\n",
      "dense_23 (Dense)             (None, 10)                650       \n",
      "=================================================================\n",
      "Total params: 244,554\n",
      "Trainable params: 243,658\n",
      "Non-trainable params: 896\n",
      "_________________________________________________________________\n"
     ]
    }
   ],
   "source": [
    "model = Sequential()\n",
    "\n",
    "model.add(Dense(256, activation='relu', input_shape=(input_dim,), kernel_initializer=RandomNormal(mean=0.0, stddev=0.039, seed=None)))\n",
    "model.add(BatchNormalization())\n",
    "model.add(Dropout(0.5))\n",
    "\n",
    "model.add(Dense(128, activation='relu', kernel_initializer=RandomNormal(mean=0.0, stddev=0.55, seed=None)) )\n",
    "model.add(BatchNormalization())\n",
    "model.add(Dropout(0.5))\n",
    "\n",
    "model.add(Dense(64, activation='relu', kernel_initializer=RandomNormal(mean=0.0, stddev=0.55, seed=None)) )\n",
    "model.add(BatchNormalization())\n",
    "model.add(Dropout(0.5))\n",
    "\n",
    "model.add(Dense(output_dim, activation='softmax'))\n",
    "\n",
    "model.summary()"
   ]
  },
  {
   "cell_type": "markdown",
   "metadata": {},
   "source": [
    "Compile and Train"
   ]
  },
  {
   "cell_type": "code",
   "execution_count": 70,
   "metadata": {},
   "outputs": [
    {
     "name": "stdout",
     "output_type": "stream",
     "text": [
      "Train on 60000 samples, validate on 10000 samples\n",
      "Epoch 1/20\n",
      "60000/60000 [==============================] - 9s 142us/step - loss: 1.0175 - acc: 0.6798 - val_loss: 0.2661 - val_acc: 0.9240\n",
      "Epoch 2/20\n",
      "60000/60000 [==============================] - 6s 106us/step - loss: 0.4789 - acc: 0.8587 - val_loss: 0.1960 - val_acc: 0.9411\n",
      "Epoch 3/20\n",
      "60000/60000 [==============================] - 7s 116us/step - loss: 0.3772 - acc: 0.8909 - val_loss: 0.1634 - val_acc: 0.9505\n",
      "Epoch 4/20\n",
      "60000/60000 [==============================] - 7s 111us/step - loss: 0.3176 - acc: 0.9107 - val_loss: 0.1531 - val_acc: 0.9533\n",
      "Epoch 5/20\n",
      "60000/60000 [==============================] - 7s 114us/step - loss: 0.2815 - acc: 0.9200 - val_loss: 0.1272 - val_acc: 0.9612\n",
      "Epoch 6/20\n",
      "60000/60000 [==============================] - 7s 123us/step - loss: 0.2514 - acc: 0.9288 - val_loss: 0.1281 - val_acc: 0.9622\n",
      "Epoch 7/20\n",
      "60000/60000 [==============================] - 6s 106us/step - loss: 0.2324 - acc: 0.9345 - val_loss: 0.1127 - val_acc: 0.9687\n",
      "Epoch 8/20\n",
      "60000/60000 [==============================] - 7s 113us/step - loss: 0.2147 - acc: 0.9404 - val_loss: 0.1052 - val_acc: 0.9688\n",
      "Epoch 9/20\n",
      "60000/60000 [==============================] - 6s 95us/step - loss: 0.2038 - acc: 0.9443 - val_loss: 0.0999 - val_acc: 0.9722\n",
      "Epoch 10/20\n",
      "60000/60000 [==============================] - 6s 94us/step - loss: 0.1877 - acc: 0.9467 - val_loss: 0.0935 - val_acc: 0.9733\n",
      "Epoch 11/20\n",
      "60000/60000 [==============================] - 6s 104us/step - loss: 0.1777 - acc: 0.9502 - val_loss: 0.0968 - val_acc: 0.9721\n",
      "Epoch 12/20\n",
      "60000/60000 [==============================] - 6s 100us/step - loss: 0.1762 - acc: 0.9501 - val_loss: 0.0888 - val_acc: 0.9743\n",
      "Epoch 13/20\n",
      "60000/60000 [==============================] - 6s 100us/step - loss: 0.1672 - acc: 0.9532 - val_loss: 0.0904 - val_acc: 0.9741\n",
      "Epoch 14/20\n",
      "60000/60000 [==============================] - 6s 101us/step - loss: 0.1571 - acc: 0.9565 - val_loss: 0.0866 - val_acc: 0.9746\n",
      "Epoch 15/20\n",
      "60000/60000 [==============================] - 6s 95us/step - loss: 0.1547 - acc: 0.9565 - val_loss: 0.0848 - val_acc: 0.9751\n",
      "Epoch 16/20\n",
      "60000/60000 [==============================] - 6s 107us/step - loss: 0.1460 - acc: 0.9587 - val_loss: 0.0878 - val_acc: 0.9759\n",
      "Epoch 17/20\n",
      "60000/60000 [==============================] - 6s 108us/step - loss: 0.1400 - acc: 0.9608 - val_loss: 0.0850 - val_acc: 0.9770\n",
      "Epoch 18/20\n",
      "60000/60000 [==============================] - 6s 103us/step - loss: 0.1408 - acc: 0.9606 - val_loss: 0.0790 - val_acc: 0.9785\n",
      "Epoch 19/20\n",
      "60000/60000 [==============================] - 6s 97us/step - loss: 0.1333 - acc: 0.9623 - val_loss: 0.0817 - val_acc: 0.9784\n",
      "Epoch 20/20\n",
      "60000/60000 [==============================] - 6s 98us/step - loss: 0.1322 - acc: 0.9630 - val_loss: 0.0823 - val_acc: 0.9774\n"
     ]
    }
   ],
   "source": [
    "model.compile(optimizer='adam', loss='categorical_crossentropy', metrics=['accuracy'])\n",
    "history = model.fit(X_train, y_train, batch_size=batch_size, epochs=nb_epoch, verbose=1, validation_data=(X_test, y_test))"
   ]
  },
  {
   "cell_type": "markdown",
   "metadata": {},
   "source": [
    "### Validation vs Test Loss"
   ]
  },
  {
   "cell_type": "code",
   "execution_count": 71,
   "metadata": {
    "scrolled": false
   },
   "outputs": [
    {
     "name": "stdout",
     "output_type": "stream",
     "text": [
      "Test score: 0.08227364041905384\n",
      "Test accuracy: 0.9774\n"
     ]
    },
    {
     "data": {
      "image/png": "[encoded data removed]",
      "text/plain": [
       "<Figure size 1044x360 with 1 Axes>"
      ]
     },
     "metadata": {
      "needs_background": "light"
     },
     "output_type": "display_data"
    }
   ],
   "source": [
    "score = model.evaluate(X_test, y_test, verbose=False) \n",
    "print('Test score:', score[0]) \n",
    "print('Test accuracy:', score[1])\n",
    "\n",
    "# list of epoch numbers\n",
    "x = list(range(1,nb_epoch+1))\n",
    "\n",
    "vy = history.history['val_loss']\n",
    "ty = history.history['loss']\n",
    "plot_loss(x, vy, ty, title='Three hidden Layers')"
   ]
  },
  {
   "cell_type": "code",
   "execution_count": 72,
   "metadata": {},
   "outputs": [
    {
     "name": "stdout",
     "output_type": "stream",
     "text": [
      "Train accuracy: 0.98695\n"
     ]
    }
   ],
   "source": [
    "score = model.evaluate(X_train, y_train, verbose=False)\n",
    "print('Train accuracy:', score[1])"
   ]
  },
  {
   "cell_type": "code",
   "execution_count": 83,
   "metadata": {},
   "outputs": [],
   "source": [
    "table.add_row(['2', '784-256-BN-DO-128-BN-DO-64-BN-DO-10', '0.98695', '0.9774' ])"
   ]
  },
  {
   "cell_type": "markdown",
   "metadata": {},
   "source": [
    "## Model 3: Five hidden Layers of Neurons\n",
    "\n",
    "[784-512-BN-DO-256-BN-DO-128-BN-DO-64-BN-DO-32-BN-DO-10] "
   ]
  },
  {
   "cell_type": "code",
   "execution_count": 74,
   "metadata": {},
   "outputs": [
    {
     "name": "stdout",
     "output_type": "stream",
     "text": [
      "_________________________________________________________________\n",
      "Layer (type)                 Output Shape              Param #   \n",
      "=================================================================\n",
      "dense_24 (Dense)             (None, 512)               401920    \n",
      "_________________________________________________________________\n",
      "batch_normalization_18 (Batc (None, 512)               2048      \n",
      "_________________________________________________________________\n",
      "dropout_18 (Dropout)         (None, 512)               0         \n",
      "_________________________________________________________________\n",
      "dense_25 (Dense)             (None, 256)               131328    \n",
      "_________________________________________________________________\n",
      "batch_normalization_19 (Batc (None, 256)               1024      \n",
      "_________________________________________________________________\n",
      "dropout_19 (Dropout)         (None, 256)               0         \n",
      "_________________________________________________________________\n",
      "dense_26 (Dense)             (None, 128)               32896     \n",
      "_________________________________________________________________\n",
      "batch_normalization_20 (Batc (None, 128)               512       \n",
      "_________________________________________________________________\n",
      "dropout_20 (Dropout)         (None, 128)               0         \n",
      "_________________________________________________________________\n",
      "dense_27 (Dense)             (None, 64)                8256      \n",
      "_________________________________________________________________\n",
      "batch_normalization_21 (Batc (None, 64)                256       \n",
      "_________________________________________________________________\n",
      "dropout_21 (Dropout)         (None, 64)                0         \n",
      "_________________________________________________________________\n",
      "dense_28 (Dense)             (None, 32)                2080      \n",
      "_________________________________________________________________\n",
      "batch_normalization_22 (Batc (None, 32)                128       \n",
      "_________________________________________________________________\n",
      "dropout_22 (Dropout)         (None, 32)                0         \n",
      "_________________________________________________________________\n",
      "dense_29 (Dense)             (None, 10)                330       \n",
      "=================================================================\n",
      "Total params: 580,778\n",
      "Trainable params: 578,794\n",
      "Non-trainable params: 1,984\n",
      "_________________________________________________________________\n"
     ]
    }
   ],
   "source": [
    "model = Sequential()\n",
    "\n",
    "model.add(Dense(512, activation='relu', input_shape=(input_dim,), kernel_initializer=RandomNormal(mean=0.0, stddev=0.039, seed=None)))\n",
    "model.add(BatchNormalization())\n",
    "model.add(Dropout(0.5))\n",
    "\n",
    "model.add(Dense(256, activation='relu', kernel_initializer=RandomNormal(mean=0.0, stddev=0.55, seed=None)) )\n",
    "model.add(BatchNormalization())\n",
    "model.add(Dropout(0.5))\n",
    "\n",
    "model.add(Dense(128, activation='relu', kernel_initializer=RandomNormal(mean=0.0, stddev=0.55, seed=None)) )\n",
    "model.add(BatchNormalization())\n",
    "model.add(Dropout(0.5))\n",
    "\n",
    "model.add(Dense(64, activation='relu', kernel_initializer=RandomNormal(mean=0.0, stddev=0.55, seed=None)) )\n",
    "model.add(BatchNormalization())\n",
    "model.add(Dropout(0.5))\n",
    "\n",
    "model.add(Dense(32, activation='relu', kernel_initializer=RandomNormal(mean=0.0, stddev=0.55, seed=None)) )\n",
    "model.add(BatchNormalization())\n",
    "model.add(Dropout(0.5))\n",
    "\n",
    "model.add(Dense(output_dim, activation='softmax'))\n",
    "\n",
    "model.summary()"
   ]
  },
  {
   "cell_type": "markdown",
   "metadata": {},
   "source": [
    "Compile and Train the model"
   ]
  },
  {
   "cell_type": "code",
   "execution_count": 75,
   "metadata": {},
   "outputs": [
    {
     "name": "stdout",
     "output_type": "stream",
     "text": [
      "Train on 60000 samples, validate on 10000 samples\n",
      "Epoch 1/20\n",
      "60000/60000 [==============================] - 16s 270us/step - loss: 1.9314 - acc: 0.3434 - val_loss: 0.7666 - val_acc: 0.8411\n",
      "Epoch 2/20\n",
      "60000/60000 [==============================] - 14s 240us/step - loss: 1.0538 - acc: 0.6385 - val_loss: 0.4167 - val_acc: 0.8931\n",
      "Epoch 3/20\n",
      "60000/60000 [==============================] - 15s 245us/step - loss: 0.7422 - acc: 0.7617 - val_loss: 0.2827 - val_acc: 0.9246\n",
      "Epoch 4/20\n",
      "60000/60000 [==============================] - 15s 257us/step - loss: 0.5902 - acc: 0.8231 - val_loss: 0.2151 - val_acc: 0.9404\n",
      "Epoch 5/20\n",
      "60000/60000 [==============================] - 15s 244us/step - loss: 0.4889 - acc: 0.8589 - val_loss: 0.1819 - val_acc: 0.9497\n",
      "Epoch 6/20\n",
      "60000/60000 [==============================] - 14s 231us/step - loss: 0.4294 - acc: 0.8828 - val_loss: 0.1673 - val_acc: 0.9546\n",
      "Epoch 7/20\n",
      "60000/60000 [==============================] - 14s 230us/step - loss: 0.3765 - acc: 0.9003 - val_loss: 0.1481 - val_acc: 0.9590\n",
      "Epoch 8/20\n",
      "60000/60000 [==============================] - 15s 247us/step - loss: 0.3381 - acc: 0.9129 - val_loss: 0.1384 - val_acc: 0.9655\n",
      "Epoch 9/20\n",
      "60000/60000 [==============================] - 15s 250us/step - loss: 0.3152 - acc: 0.9207 - val_loss: 0.1325 - val_acc: 0.9671\n",
      "Epoch 10/20\n",
      "60000/60000 [==============================] - 15s 249us/step - loss: 0.2904 - acc: 0.9283 - val_loss: 0.1289 - val_acc: 0.9672\n",
      "Epoch 11/20\n",
      "60000/60000 [==============================] - 15s 252us/step - loss: 0.2670 - acc: 0.9350 - val_loss: 0.1200 - val_acc: 0.9699\n",
      "Epoch 12/20\n",
      "60000/60000 [==============================] - 15s 248us/step - loss: 0.2602 - acc: 0.9374 - val_loss: 0.1143 - val_acc: 0.9721\n",
      "Epoch 13/20\n",
      "60000/60000 [==============================] - 15s 242us/step - loss: 0.2448 - acc: 0.9419 - val_loss: 0.1093 - val_acc: 0.9732\n",
      "Epoch 14/20\n",
      "60000/60000 [==============================] - 15s 254us/step - loss: 0.2287 - acc: 0.9452 - val_loss: 0.1105 - val_acc: 0.9747\n",
      "Epoch 15/20\n",
      "60000/60000 [==============================] - 15s 246us/step - loss: 0.2203 - acc: 0.9480 - val_loss: 0.1035 - val_acc: 0.9762\n",
      "Epoch 16/20\n",
      "60000/60000 [==============================] - 13s 218us/step - loss: 0.2109 - acc: 0.9501 - val_loss: 0.1024 - val_acc: 0.9774\n",
      "Epoch 17/20\n",
      "60000/60000 [==============================] - 13s 225us/step - loss: 0.2065 - acc: 0.9511 - val_loss: 0.1034 - val_acc: 0.9766\n",
      "Epoch 18/20\n",
      "60000/60000 [==============================] - 12s 201us/step - loss: 0.1988 - acc: 0.9541 - val_loss: 0.1040 - val_acc: 0.9773\n",
      "Epoch 19/20\n",
      "60000/60000 [==============================] - 13s 218us/step - loss: 0.1876 - acc: 0.9562 - val_loss: 0.1011 - val_acc: 0.9776\n",
      "Epoch 20/20\n",
      "60000/60000 [==============================] - 13s 212us/step - loss: 0.1864 - acc: 0.9568 - val_loss: 0.0994 - val_acc: 0.9779\n"
     ]
    }
   ],
   "source": [
    "model.compile(optimizer='adam', loss='categorical_crossentropy', metrics=['accuracy'])\n",
    "history = model.fit(X_train, y_train, batch_size=batch_size, epochs=nb_epoch, verbose=1, validation_data=(X_test, y_test))"
   ]
  },
  {
   "cell_type": "markdown",
   "metadata": {},
   "source": [
    "### Validation vs Test loss "
   ]
  },
  {
   "cell_type": "code",
   "execution_count": 76,
   "metadata": {},
   "outputs": [
    {
     "name": "stdout",
     "output_type": "stream",
     "text": [
      "Test score: 0.09940273783607409\n",
      "Test accuracy: 0.9779\n"
     ]
    },
    {
     "data": {
      "image/png": "[encoded data removed]",
      "text/plain": [
       "<Figure size 1044x360 with 1 Axes>"
      ]
     },
     "metadata": {
      "needs_background": "light"
     },
     "output_type": "display_data"
    }
   ],
   "source": [
    "score = model.evaluate(X_test, y_test, verbose=False) \n",
    "print('Test score:', score[0]) \n",
    "print('Test accuracy:', score[1])\n",
    "\n",
    "# list of epoch numbers\n",
    "x = list(range(1,nb_epoch+1))\n",
    "\n",
    "vy = history.history['val_loss']\n",
    "ty = history.history['loss']\n",
    "plot_loss(x, vy, ty, title='Five Hidden Layers')"
   ]
  },
  {
   "cell_type": "code",
   "execution_count": 77,
   "metadata": {},
   "outputs": [
    {
     "name": "stdout",
     "output_type": "stream",
     "text": [
      "Train accuracy: 0.9875833333333334\n"
     ]
    }
   ],
   "source": [
    "score = model.evaluate(X_train, y_train, verbose=False)\n",
    "print('Train accuracy:', score[1])"
   ]
  },
  {
   "cell_type": "code",
   "execution_count": 84,
   "metadata": {},
   "outputs": [],
   "source": [
    "table.add_row(['3', '784-512-BN-DO-256-BN-DO-128-BN-DO-64-BN-DO-32-BN-DO-10', '0.9875', '0.9779' ])"
   ]
  },
  {
   "cell_type": "markdown",
   "metadata": {},
   "source": [
    "# Conclusion:\n",
    "\n",
    "* We tried 3 different MLP architectures for classifying the classic MNIST digits dataset. The number of neurons used in each layer were:\n",
    "    \n",
    "        1. 256-128 (2 hidden layers)\n",
    "        2. 256-128-64 (3 hidden layers)\n",
    "        3. 512-256-128-64-32 (5 hidden layers)\n",
    "    \n",
    "    Batch normalization and Dropouts were also used.\n",
    "* We found that the simple 2 layered MLP performed the best and increasing the complexity of the model does not always mean that the results obtained will be better too. You can find the summary of this study below.  "
   ]
  },
  {
   "cell_type": "code",
   "execution_count": 85,
   "metadata": {},
   "outputs": [
    {
     "name": "stdout",
     "output_type": "stream",
     "text": [
      "+---+--------------------------------------------------------+----------------+---------------+\n",
      "| # |                      Architecture                      | Train Accuracy | Test Accuracy |\n",
      "+---+--------------------------------------------------------+----------------+---------------+\n",
      "| 1 |               784-256-BN-DO-128-BN-DO-10               |    0.99108     |     0.9788    |\n",
      "| 2 |          784-256-BN-DO-128-BN-DO-64-BN-DO-10           |    0.98695     |     0.9774    |\n",
      "| 3 | 784-512-BN-DO-256-BN-DO-128-BN-DO-64-BN-DO-32-BN-DO-10 |     0.9875     |     0.9779    |\n",
      "+---+--------------------------------------------------------+----------------+---------------+\n"
     ]
    }
   ],
   "source": [
    "print(table)"
   ]
  }
 ],
 "metadata": {
  "kernelspec": {
   "display_name": "Python 3",
   "language": "python",
   "name": "python3"
  },
  "language_info": {
   "codemirror_mode": {
    "name": "ipython",
    "version": 3
   },
   "file_extension": ".py",
   "mimetype": "text/x-python",
   "name": "python",
   "nbconvert_exporter": "python",
   "pygments_lexer": "ipython3",
   "version": "3.6.4"
  }
 },
 "nbformat": 4,
 "nbformat_minor": 2
}
