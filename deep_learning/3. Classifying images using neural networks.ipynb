{
 "cells": [
  {
   "cell_type": "markdown",
   "metadata": {},
   "source": [
    "# The Fasion MNIST dataset"
   ]
  },
  {
   "cell_type": "code",
   "execution_count": 1,
   "metadata": {
    "ExecuteTime": {
     "end_time": "2019-05-07T13:58:41.373736Z",
     "start_time": "2019-05-07T13:58:24.422241Z"
    }
   },
   "outputs": [],
   "source": [
    "import tensorflow as tf\n",
    "import matplotlib.pyplot as plt"
   ]
  },
  {
   "cell_type": "code",
   "execution_count": 2,
   "metadata": {
    "ExecuteTime": {
     "end_time": "2019-05-07T13:59:12.339055Z",
     "start_time": "2019-05-07T13:59:12.321930Z"
    }
   },
   "outputs": [
    {
     "data": {
      "text/plain": [
       "'1.13.1'"
      ]
     },
     "execution_count": 2,
     "metadata": {},
     "output_type": "execute_result"
    }
   ],
   "source": [
    "tf.__version__"
   ]
  },
  {
   "cell_type": "markdown",
   "metadata": {},
   "source": [
    "# Load the fasion MNIST dataset"
   ]
  },
  {
   "cell_type": "code",
   "execution_count": 5,
   "metadata": {
    "ExecuteTime": {
     "end_time": "2019-05-07T13:59:28.520915Z",
     "start_time": "2019-05-07T13:59:28.514399Z"
    }
   },
   "outputs": [],
   "source": [
    "mnist = tf.keras.datasets.fashion_mnist"
   ]
  },
  {
   "cell_type": "markdown",
   "metadata": {},
   "source": [
    "## Create test and train data"
   ]
  },
  {
   "cell_type": "code",
   "execution_count": 6,
   "metadata": {
    "ExecuteTime": {
     "end_time": "2019-05-07T13:59:31.427527Z",
     "start_time": "2019-05-07T13:59:30.532529Z"
    }
   },
   "outputs": [],
   "source": [
    "(training_images, training_labels), (test_images, test_labels) = mnist.load_data()"
   ]
  },
  {
   "cell_type": "markdown",
   "metadata": {},
   "source": [
    "## Let's take a look at the data"
   ]
  },
  {
   "cell_type": "code",
   "execution_count": 7,
   "metadata": {
    "ExecuteTime": {
     "end_time": "2019-05-07T13:59:35.236090Z",
     "start_time": "2019-05-07T13:59:34.525106Z"
    }
   },
   "outputs": [
    {
     "data": {
      "text/plain": [
       "<matplotlib.image.AxesImage at 0x7fb5c3020898>"
      ]
     },
     "execution_count": 7,
     "metadata": {},
     "output_type": "execute_result"
    },
    {
     "data": {
      "image/png": "[encoded data removed]",
      "text/plain": [
       "<Figure size 432x288 with 1 Axes>"
      ]
     },
     "metadata": {
      "needs_background": "light"
     },
     "output_type": "display_data"
    }
   ],
   "source": [
    "plt.imshow(training_images[11])"
   ]
  },
  {
   "cell_type": "code",
   "execution_count": 8,
   "metadata": {
    "ExecuteTime": {
     "end_time": "2019-05-07T13:59:38.556934Z",
     "start_time": "2019-05-07T13:59:38.541947Z"
    }
   },
   "outputs": [
    {
     "data": {
      "text/plain": [
       "array([[  0,   0,   0,   0,   0,   0,   0,   0,   0,   0,   0,   0,   0,\n",
       "          0,  39, 111,  93,  85,  27,   0,   0,   0,   0,   0,   1,   0,\n",
       "          0,   0],\n",
       "       [  0,   0,   0,   0,   0,   0,   0,   0,   0,   0,   0,   1,   0,\n",
       "          0, 190, 244, 248, 255, 255, 155, 202, 212, 150,   9,   0,   3,\n",
       "          0,   0],\n",
       "       [  0,   0,   0,   0,   0,   0,   0,   0,   0,   0,   0,   2,   0,\n",
       "          0, 213, 227, 233, 227, 243, 246, 255, 250, 255, 146,   0,   9,\n",
       "          0,   0],\n",
       "       [  0,   0,   0,   0,   0,   0,   0,   0,   0,   0,   0,   4,   0,\n",
       "          6, 244, 233, 236, 244, 232, 214, 248, 242, 251,  33,   0,   7,\n",
       "          0,   0],\n",
       "       [  0,   0,   0,   0,   0,   0,   0,   0,   0,   0,   1,   6,   0,\n",
       "         72, 255, 231, 239, 244, 237, 226, 255, 252, 207,  44,  24,   0,\n",
       "          2,   0],\n",
       "       [  0,   0,   0,   0,   0,   0,   0,   0,   0,   0,   0,   0,   0,\n",
       "        125, 231, 215, 253, 252, 234, 246, 254, 239, 128, 114,  63,   0,\n",
       "          3,   0],\n",
       "       [  0,   0,   0,   0,   0,   0,   0,   0,   0,   0,   1,   0,   0,\n",
       "        189, 230, 198, 185, 219, 218, 255, 206, 255, 133,  31,   0,   0,\n",
       "          0,   0],\n",
       "       [  0,   0,   0,   0,   0,   0,   0,   0,   0,   0,   4,   0,   0,\n",
       "        224, 241, 255, 236, 237, 223, 191, 219, 166,   0,   0,   1,   0,\n",
       "          0,   0],\n",
       "       [  0,   0,   0,   0,   0,   0,   0,   0,   0,   0,   1,   0,  61,\n",
       "        245, 202, 220, 237, 220, 242, 199, 255, 178,   0,   0,   1,   0,\n",
       "          0,   0],\n",
       "       [  0,   0,   0,   0,   0,   0,   0,   0,   0,   0,   0,   0, 153,\n",
       "        247, 205, 202, 212, 207, 225, 190, 255,  93, 141,   0,   0,   1,\n",
       "          0,   0],\n",
       "       [  0,   0,   0,   0,   0,   0,   0,   0,   0,   3,   0,   0, 222,\n",
       "        228, 233, 243, 248, 242, 242, 209, 255,   0,  90, 177,   0,   0,\n",
       "          0,   0],\n",
       "       [  0,   0,   0,   0,   0,   0,   0,   0,   0,   2,   0,  46, 255,\n",
       "        221, 235, 235, 213, 248, 220, 206, 255, 225,  28, 255,   0,   0,\n",
       "          0,   0],\n",
       "       [  0,   0,   0,   0,   0,   0,   0,   0,   0,   0,   0, 116, 250,\n",
       "        215, 227, 231, 226, 255, 195, 216, 250, 255, 159, 255, 160,   0,\n",
       "          0,   0],\n",
       "       [  0,   0,   0,   0,   0,   0,   0,   0,   3,   0,   7, 226, 202,\n",
       "        241, 247, 241, 228, 255, 175, 229, 252, 241, 255, 224, 224,  76,\n",
       "          0,   0],\n",
       "       [  0,   0,   0,   0,   0,   0,   0,   0,   0,   0, 131, 255, 210,\n",
       "        212, 251, 252, 229, 255, 175, 227, 254, 239, 245, 230, 223, 149,\n",
       "         90,   0],\n",
       "       [  0,   0,   0,   0,   0,   0,   0,   2,   0,   0, 227, 238, 238,\n",
       "        225, 205, 242, 246, 223, 187, 221, 254, 238, 255, 233, 156,   0,\n",
       "          0,   0],\n",
       "       [  0,   0,   0,   0,   0,   1,   0,   0,   0,  77, 255, 239, 248,\n",
       "        252, 237, 195, 201, 232, 190, 205, 252, 235, 255, 199,   0,   0,\n",
       "          0,   0],\n",
       "       [  0,   0,   0,   0,   0,   0,   0,   0,   0, 207, 223, 186, 215,\n",
       "        223, 255, 255, 217, 229, 254, 251, 244, 240, 255, 207,   0,   0,\n",
       "          1,   0],\n",
       "       [  0,   0,   0,   0,   0,   0,   2,   0,  53, 254, 234, 239, 222,\n",
       "        190, 187, 200, 250, 237, 195, 251, 250, 237, 253, 192,   0,   0,\n",
       "          0,   0],\n",
       "       [  0,   0,   0,   2,   4,   2,   0,   0, 190, 247, 233, 231, 250,\n",
       "        254, 247, 208, 208, 231, 226, 207, 246, 235, 248, 175,   0,   0,\n",
       "          0,   0],\n",
       "       [  0,   1,   6,   0,   0,   0,   0, 117, 245, 184, 242, 238, 235,\n",
       "        238, 244, 233, 255, 255,  99, 155, 255, 233, 252, 154,   0,   0,\n",
       "          0,   0],\n",
       "       [  0,   0,   0,   0,   3,  33, 141, 255, 197, 208, 184, 234, 246,\n",
       "        240, 243, 231, 255,  77,   0, 172, 255, 231, 253, 139,   0,   1,\n",
       "          0,   0],\n",
       "       [  0,   0,  84, 243, 246, 255, 254, 240, 241, 190, 229, 198, 243,\n",
       "        244, 238, 255,  80,   0,   0, 176, 255, 231, 252, 113,   0,   3,\n",
       "          0,   0],\n",
       "       [  0,  25, 223, 239, 230, 231, 231, 234, 241, 247, 191, 225, 230,\n",
       "        252, 255, 173,   0,   0,   0, 170, 255, 228, 251,  97,   0,   4,\n",
       "          0,   0],\n",
       "       [  0, 103, 241, 217, 228, 230, 238, 241, 238, 248, 244, 216, 172,\n",
       "        223, 255,   0,   0,   7,   0, 159, 255, 234, 251,  74,   0,   4,\n",
       "          0,   0],\n",
       "       [  0,   9, 188, 229, 242, 241, 243, 240, 236, 238, 241, 251, 237,\n",
       "        253,  64,   0,   0,   3,   0, 154, 255, 229, 255,  62,   0,   7,\n",
       "          0,   0],\n",
       "       [  0,   0,   0,  28, 123, 199, 249, 255, 255, 255, 255, 255, 245,\n",
       "         72,   0,   0,   0,   3,   0, 117, 255, 245, 220,  19,   0,   4,\n",
       "          0,   0],\n",
       "       [  0,   0,   0,   0,   0,   0,   0,  38,  72,  89,  71,  37,   0,\n",
       "          0,   0,   0,   0,   3,   0,   0,  64,  42,  24,   0,   0,   0,\n",
       "          0,   0]], dtype=uint8)"
      ]
     },
     "execution_count": 8,
     "metadata": {},
     "output_type": "execute_result"
    }
   ],
   "source": [
    "training_images[11]"
   ]
  },
  {
   "cell_type": "code",
   "execution_count": 9,
   "metadata": {
    "ExecuteTime": {
     "end_time": "2019-05-07T14:00:23.978124Z",
     "start_time": "2019-05-07T14:00:23.966962Z"
    }
   },
   "outputs": [
    {
     "data": {
      "text/plain": [
       "9"
      ]
     },
     "execution_count": 9,
     "metadata": {},
     "output_type": "execute_result"
    }
   ],
   "source": [
    "training_labels[11]"
   ]
  },
  {
   "cell_type": "markdown",
   "metadata": {},
   "source": [
    "## Normalizing\n",
    "\n",
    "Notice that in the array above, the values lie between 0 to 255. For training a neural network, for various reasons it is better if all the values lie between 0 and 1. This can be done using a process called Normalization. Let's do this."
   ]
  },
  {
   "cell_type": "code",
   "execution_count": 10,
   "metadata": {
    "ExecuteTime": {
     "end_time": "2019-05-07T14:00:26.387873Z",
     "start_time": "2019-05-07T14:00:25.901606Z"
    }
   },
   "outputs": [],
   "source": [
    "training_images = training_images / 255\n",
    "test_images = test_images / 255"
   ]
  },
  {
   "cell_type": "markdown",
   "metadata": {},
   "source": [
    "# A new type of network\n",
    "\n",
    "Until now, we've used the simplest of the networks. A one neuron network. Time has come to try something more adventurous.\n",
    "\n",
    "`Sequential`: This defines the sequence of layers in the neural network\n",
    "\n",
    "`Flatten` : Converts a two dimensional array of data points into a one dimensional set\n",
    "\n",
    "`Dense` : A layer of neurons having several nodes\n",
    "\n",
    "Each neuron needs an activation function. the `relu` is one of the most widely used functions. It is defined as -\n",
    "\n",
    "    function relu():\n",
    "        if x >= 0:\n",
    "            return x\n",
    "        else:\n",
    "            return 0\n",
    "what this essentially does is, it only passes 0 or more values to the next layer in the network.\n",
    "\n",
    "`softmax`: This function is typically used for multiclass classification problems. What it basically does, is that it receives a set of values and outputs 1 for the highest value in the array."
   ]
  },
  {
   "cell_type": "code",
   "execution_count": 11,
   "metadata": {
    "ExecuteTime": {
     "end_time": "2019-05-07T14:00:30.817579Z",
     "start_time": "2019-05-07T14:00:30.501865Z"
    }
   },
   "outputs": [],
   "source": [
    "model = tf.keras.models.Sequential([tf.keras.layers.Flatten(),\n",
    "                                   tf.keras.layers.Dense(128, activation=tf.nn.relu),\n",
    "                                   tf.keras.layers.Dense(10, activation=tf.nn.softmax)])"
   ]
  },
  {
   "cell_type": "markdown",
   "metadata": {},
   "source": [
    "# Compile the model\n",
    "\n",
    "Now that we've defined the model, it's time to compile it. We do this like before, by supplying the optimizer and loss function. The next step is to train the model using the training data we defined above. "
   ]
  },
  {
   "cell_type": "code",
   "execution_count": 12,
   "metadata": {
    "ExecuteTime": {
     "end_time": "2019-05-07T14:02:50.469831Z",
     "start_time": "2019-05-07T14:00:34.483180Z"
    }
   },
   "outputs": [
    {
     "name": "stdout",
     "output_type": "stream",
     "text": [
      "WARNING:tensorflow:From /home/tanmay/anaconda3/lib/python3.7/site-packages/tensorflow/python/ops/resource_variable_ops.py:435: colocate_with (from tensorflow.python.framework.ops) is deprecated and will be removed in a future version.\n",
      "Instructions for updating:\n",
      "Colocations handled automatically by placer.\n",
      "Epoch 1/15\n",
      "60000/60000 [==============================] - 11s 176us/sample - loss: 0.4970 - acc: 0.8270\n",
      "Epoch 2/15\n",
      "60000/60000 [==============================] - 10s 169us/sample - loss: 0.3754 - acc: 0.8650\n",
      "Epoch 3/15\n",
      "60000/60000 [==============================] - 7s 118us/sample - loss: 0.3350 - acc: 0.8766\n",
      "Epoch 4/15\n",
      "60000/60000 [==============================] - 8s 130us/sample - loss: 0.3115 - acc: 0.8859\n",
      "Epoch 5/15\n",
      "60000/60000 [==============================] - 9s 158us/sample - loss: 0.2937 - acc: 0.8914\n",
      "Epoch 6/15\n",
      "60000/60000 [==============================] - 9s 153us/sample - loss: 0.2789 - acc: 0.8964\n",
      "Epoch 7/15\n",
      "60000/60000 [==============================] - 10s 158us/sample - loss: 0.2668 - acc: 0.9002\n",
      "Epoch 8/15\n",
      "60000/60000 [==============================] - 10s 159us/sample - loss: 0.2560 - acc: 0.9053\n",
      "Epoch 9/15\n",
      "60000/60000 [==============================] - 9s 156us/sample - loss: 0.2479 - acc: 0.9071\n",
      "Epoch 10/15\n",
      "60000/60000 [==============================] - 9s 148us/sample - loss: 0.2399 - acc: 0.9098\n",
      "Epoch 11/15\n",
      "60000/60000 [==============================] - 10s 173us/sample - loss: 0.2311 - acc: 0.9122\n",
      "Epoch 12/15\n",
      "60000/60000 [==============================] - 7s 117us/sample - loss: 0.2240 - acc: 0.9153\n",
      "Epoch 13/15\n",
      "60000/60000 [==============================] - 7s 115us/sample - loss: 0.2154 - acc: 0.9196\n",
      "Epoch 14/15\n",
      "60000/60000 [==============================] - 9s 142us/sample - loss: 0.2106 - acc: 0.9204\n",
      "Epoch 15/15\n",
      "60000/60000 [==============================] - 9s 157us/sample - loss: 0.2052 - acc: 0.9224\n"
     ]
    },
    {
     "data": {
      "text/plain": [
       "<tensorflow.python.keras.callbacks.History at 0x7fb5c38486a0>"
      ]
     },
     "execution_count": 12,
     "metadata": {},
     "output_type": "execute_result"
    }
   ],
   "source": [
    "model.compile(optimizer=tf.train.AdamOptimizer(),\n",
    "             loss='sparse_categorical_crossentropy',\n",
    "             metrics=['accuracy'])\n",
    "\n",
    "model.fit(training_images, training_labels, epochs=15)"
   ]
  },
  {
   "cell_type": "markdown",
   "metadata": {},
   "source": [
    "# Test the performance of the model"
   ]
  },
  {
   "cell_type": "code",
   "execution_count": 13,
   "metadata": {
    "ExecuteTime": {
     "end_time": "2019-05-07T14:02:54.953111Z",
     "start_time": "2019-05-07T14:02:54.312747Z"
    }
   },
   "outputs": [
    {
     "name": "stdout",
     "output_type": "stream",
     "text": [
      "10000/10000 [==============================] - 1s 60us/sample - loss: 0.3979 - acc: 0.8660\n"
     ]
    },
    {
     "data": {
      "text/plain": [
       "[0.3979239483833313, 0.866]"
      ]
     },
     "execution_count": 13,
     "metadata": {},
     "output_type": "execute_result"
    }
   ],
   "source": [
    "model.evaluate(test_images, test_labels)"
   ]
  },
  {
   "cell_type": "markdown",
   "metadata": {},
   "source": [
    "# Understanding the output\n",
    "\n",
    "There are 10k data points in our test dataset, as can be seen in the output of the cell below."
   ]
  },
  {
   "cell_type": "code",
   "execution_count": 29,
   "metadata": {
    "ExecuteTime": {
     "end_time": "2019-05-07T14:21:34.938097Z",
     "start_time": "2019-05-07T14:21:34.927122Z"
    }
   },
   "outputs": [
    {
     "data": {
      "text/plain": [
       "(10000, 28, 28)"
      ]
     },
     "execution_count": 29,
     "metadata": {},
     "output_type": "execute_result"
    }
   ],
   "source": [
    "test_images.shape"
   ]
  },
  {
   "cell_type": "code",
   "execution_count": 36,
   "metadata": {
    "ExecuteTime": {
     "end_time": "2019-05-07T14:24:45.232189Z",
     "start_time": "2019-05-07T14:24:45.220968Z"
    }
   },
   "outputs": [
    {
     "data": {
      "text/plain": [
       "array([0, 1, 2, 3, 4, 5, 6, 7, 8, 9], dtype=uint8)"
      ]
     },
     "execution_count": 36,
     "metadata": {},
     "output_type": "execute_result"
    }
   ],
   "source": [
    "np.unique(test_labels)"
   ]
  },
  {
   "cell_type": "markdown",
   "metadata": {},
   "source": [
    "the predict method returns an array of of size 10k x 10. There are 10 different classes to choose from."
   ]
  },
  {
   "cell_type": "code",
   "execution_count": 39,
   "metadata": {
    "ExecuteTime": {
     "end_time": "2019-05-07T14:31:24.117643Z",
     "start_time": "2019-05-07T14:31:23.612433Z"
    }
   },
   "outputs": [],
   "source": [
    "classifications = model.predict(test_images)"
   ]
  },
  {
   "cell_type": "markdown",
   "metadata": {},
   "source": [
    "The classifications array contains probability that an image belongs to each of the classes, respectively. Thus the class which will have the highest probability will be chosen as the predicted class.  "
   ]
  },
  {
   "cell_type": "code",
   "execution_count": 42,
   "metadata": {
    "ExecuteTime": {
     "end_time": "2019-05-07T14:33:50.867608Z",
     "start_time": "2019-05-07T14:33:50.856978Z"
    }
   },
   "outputs": [
    {
     "data": {
      "text/plain": [
       "(10000, 10)"
      ]
     },
     "execution_count": 42,
     "metadata": {},
     "output_type": "execute_result"
    }
   ],
   "source": [
    "classifications.shape"
   ]
  },
  {
   "cell_type": "code",
   "execution_count": 40,
   "metadata": {
    "ExecuteTime": {
     "end_time": "2019-05-07T14:31:31.178305Z",
     "start_time": "2019-05-07T14:31:31.167012Z"
    }
   },
   "outputs": [
    {
     "data": {
      "text/plain": [
       "array([5.5339220e-05, 3.7541023e-17, 9.9703372e-01, 1.8600655e-12,\n",
       "       4.2544300e-04, 1.5192966e-09, 2.4855293e-03, 2.3324862e-18,\n",
       "       5.8822192e-10, 7.0322600e-13], dtype=float32)"
      ]
     },
     "execution_count": 40,
     "metadata": {},
     "output_type": "execute_result"
    }
   ],
   "source": [
    "classifications[1]"
   ]
  },
  {
   "cell_type": "markdown",
   "metadata": {},
   "source": [
    "The maximum probability of classification for the second data point (index 1) is `0.9970` of class 2. "
   ]
  },
  {
   "cell_type": "code",
   "execution_count": 49,
   "metadata": {
    "ExecuteTime": {
     "end_time": "2019-05-07T14:40:03.989968Z",
     "start_time": "2019-05-07T14:40:03.970063Z"
    },
    "code_folding": []
   },
   "outputs": [
    {
     "data": {
      "text/plain": [
       "(0.9970337, (array([2]),))"
      ]
     },
     "execution_count": 49,
     "metadata": {},
     "output_type": "execute_result"
    }
   ],
   "source": [
    "max(classifications[1]), np.where(\n",
    "    classifications[1] == max(classifications[1]))"
   ]
  },
  {
   "cell_type": "markdown",
   "metadata": {},
   "source": [
    "Let's see what the actual class of this image is. It is 2...so we can conclude that our neural network made the correct prediction."
   ]
  },
  {
   "cell_type": "code",
   "execution_count": 50,
   "metadata": {
    "ExecuteTime": {
     "end_time": "2019-05-07T14:45:34.109606Z",
     "start_time": "2019-05-07T14:45:34.101452Z"
    }
   },
   "outputs": [
    {
     "name": "stdout",
     "output_type": "stream",
     "text": [
      "2\n"
     ]
    }
   ],
   "source": [
    "print(test_labels[1])"
   ]
  },
  {
   "cell_type": "markdown",
   "metadata": {},
   "source": [
    "# Trying another model\n",
    "\n",
    "Let's create a different model and play with it. Can we increase our accuracy? let's see..."
   ]
  },
  {
   "cell_type": "code",
   "execution_count": 53,
   "metadata": {
    "ExecuteTime": {
     "end_time": "2019-05-07T14:56:35.539777Z",
     "start_time": "2019-05-07T14:53:55.678631Z"
    }
   },
   "outputs": [
    {
     "name": "stdout",
     "output_type": "stream",
     "text": [
      "Epoch 1/5\n",
      "60000/60000 [==============================] - 32s 538us/sample - loss: 0.4713 - acc: 0.8311\n",
      "Epoch 2/5\n",
      "60000/60000 [==============================] - 32s 528us/sample - loss: 0.3580 - acc: 0.8677\n",
      "Epoch 3/5\n",
      "60000/60000 [==============================] - 31s 523us/sample - loss: 0.3192 - acc: 0.8822\n",
      "Epoch 4/5\n",
      "60000/60000 [==============================] - 31s 523us/sample - loss: 0.2972 - acc: 0.8896\n",
      "Epoch 5/5\n",
      "60000/60000 [==============================] - 32s 527us/sample - loss: 0.2774 - acc: 0.8966\n"
     ]
    },
    {
     "data": {
      "text/plain": [
       "<tensorflow.python.keras.callbacks.History at 0x7fb5445db6a0>"
      ]
     },
     "execution_count": 53,
     "metadata": {},
     "output_type": "execute_result"
    }
   ],
   "source": [
    "model = tf.keras.models.Sequential([\n",
    "    tf.keras.layers.Flatten(),\n",
    "    tf.keras.layers.Dense(1024, activation=tf.nn.relu),\n",
    "    tf.keras.layers.Dense(10, activation=tf.nn.softmax)\n",
    "])\n",
    "\n",
    "model.compile(optimizer='adam', loss='sparse_categorical_crossentropy', metrics=['accuracy'])\n",
    "\n",
    "model.fit(training_images, training_labels, epochs=5)"
   ]
  },
  {
   "cell_type": "code",
   "execution_count": 54,
   "metadata": {
    "ExecuteTime": {
     "end_time": "2019-05-07T14:57:04.856079Z",
     "start_time": "2019-05-07T14:57:03.157466Z"
    }
   },
   "outputs": [
    {
     "name": "stdout",
     "output_type": "stream",
     "text": [
      "10000/10000 [==============================] - 2s 160us/sample - loss: 0.3499 - acc: 0.8761\n"
     ]
    },
    {
     "data": {
      "text/plain": [
       "[0.3498943436026573, 0.8761]"
      ]
     },
     "execution_count": 54,
     "metadata": {},
     "output_type": "execute_result"
    }
   ],
   "source": [
    "model.evaluate(test_images, test_labels)"
   ]
  },
  {
   "cell_type": "code",
   "execution_count": 56,
   "metadata": {
    "ExecuteTime": {
     "end_time": "2019-05-07T14:57:55.142713Z",
     "start_time": "2019-05-07T14:57:53.927839Z"
    }
   },
   "outputs": [
    {
     "name": "stdout",
     "output_type": "stream",
     "text": [
      "[1.6852969e-06 8.4251059e-09 4.0851567e-09 2.9693076e-10 4.7224313e-10\n",
      " 9.1694100e-03 7.0497215e-08 2.7743510e-03 4.3116013e-09 9.8805445e-01]\n",
      "9\n"
     ]
    }
   ],
   "source": [
    "classifications = model.predict(test_images)\n",
    "\n",
    "print(classifications[0])\n",
    "print(test_labels[0])"
   ]
  }
 ],
 "metadata": {
  "kernelspec": {
   "display_name": "Python 3",
   "language": "python",
   "name": "python3"
  },
  "language_info": {
   "codemirror_mode": {
    "name": "ipython",
    "version": 3
   },
   "file_extension": ".py",
   "mimetype": "text/x-python",
   "name": "python",
   "nbconvert_exporter": "python",
   "pygments_lexer": "ipython3",
   "version": "3.7.3"
  },
  "toc": {
   "base_numbering": 1,
   "nav_menu": {},
   "number_sections": true,
   "sideBar": true,
   "skip_h1_title": false,
   "title_cell": "Table of Contents",
   "title_sidebar": "Contents",
   "toc_cell": false,
   "toc_position": {},
   "toc_section_display": true,
   "toc_window_display": false
  },
  "varInspector": {
   "cols": {
    "lenName": 16,
    "lenType": 16,
    "lenVar": 40
   },
   "kernels_config": {
    "python": {
     "delete_cmd_postfix": "",
     "delete_cmd_prefix": "del ",
     "library": "var_list.py",
     "varRefreshCmd": "print(var_dic_list())"
    },
    "r": {
     "delete_cmd_postfix": ") ",
     "delete_cmd_prefix": "rm(",
     "library": "var_list.r",
     "varRefreshCmd": "cat(var_dic_list()) "
    }
   },
   "types_to_exclude": [
    "module",
    "function",
    "builtin_function_or_method",
    "instance",
    "_Feature"
   ],
   "window_display": false
  }
 },
 "nbformat": 4,
 "nbformat_minor": 2
}
