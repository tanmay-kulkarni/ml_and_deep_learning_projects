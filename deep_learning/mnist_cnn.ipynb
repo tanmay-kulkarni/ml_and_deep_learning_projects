{
 "cells": [
  {
   "cell_type": "markdown",
   "metadata": {
    "colab_type": "text",
    "id": "4zWHasX9hAFD"
   },
   "source": [
    "<h1 align=\"center\">Classifying MNIST digits using ConvNets</h1>\n",
    "\n",
    "## Introduction\n",
    "\n",
    "In a related notebook, I'd classified MNIST digits with basic MultiLayered Perceptrons using Keras. In this part however, I'll try Convolutional Neural Networks for the same task. CNNs are neural networks specially designed for Image Classification. Their architecture is a lot different than that of an MLP. To describe it in very brief - CNNs find patterns in images using operations Convolution followed by Pooling.\n",
    "\n",
    "In this notebook, we'll define seveal CNN architectures using `Keras` and try to classify the images with as much accuracy as possible.\n",
    "\n",
    "Let's begin by importing the needed libraries."
   ]
  },
  {
   "cell_type": "code",
   "execution_count": 0,
   "metadata": {
    "colab": {},
    "colab_type": "code",
    "id": "4ekVw3CmXmbX"
   },
   "outputs": [],
   "source": [
    "import keras\n",
    "from keras.datasets import mnist\n",
    "from keras.models import Sequential\n",
    "from keras.layers import Dense, Dropout, Flatten\n",
    "from keras.layers import Conv2D, MaxPooling2D, BatchNormalization\n",
    "from keras import backend as K\n",
    "import matplotlib.pyplot as plt\n",
    "from matplotlib import rcParams\n",
    "rcParams['figure.figsize'] = (14, 4.5)"
   ]
  },
  {
   "cell_type": "code",
   "execution_count": 135,
   "metadata": {
    "colab": {
     "base_uri": "https://localhost:8080/",
     "height": 34
    },
    "colab_type": "code",
    "executionInfo": {
     "elapsed": 1428,
     "status": "ok",
     "timestamp": 1544524270685,
     "user": {
      "displayName": "Tanmay Kulkarni",
      "photoUrl": "https://lh5.googleusercontent.com/-7z9lDW0_tAs/AAAAAAAAAAI/AAAAAAAACQs/eRGM98t-bp8/s64/photo.jpg",
      "userId": "01313005946152921621"
     },
     "user_tz": -330
    },
    "id": "mBno_ZkUXu2W",
    "outputId": "91ff3678-48f1-4535-c5f9-c74a32a85ad8"
   },
   "outputs": [
    {
     "data": {
      "text/plain": [
       "'channels_last'"
      ]
     },
     "execution_count": 135,
     "metadata": {
      "tags": []
     },
     "output_type": "execute_result"
    }
   ],
   "source": [
    "K.image_data_format()"
   ]
  },
  {
   "cell_type": "markdown",
   "metadata": {
    "colab_type": "text",
    "id": "BIxhi8M1otmC"
   },
   "source": [
    "What is the backend used by Keras?"
   ]
  },
  {
   "cell_type": "code",
   "execution_count": 136,
   "metadata": {
    "colab": {
     "base_uri": "https://localhost:8080/",
     "height": 34
    },
    "colab_type": "code",
    "executionInfo": {
     "elapsed": 2005,
     "status": "ok",
     "timestamp": 1544524271277,
     "user": {
      "displayName": "Tanmay Kulkarni",
      "photoUrl": "https://lh5.googleusercontent.com/-7z9lDW0_tAs/AAAAAAAAAAI/AAAAAAAACQs/eRGM98t-bp8/s64/photo.jpg",
      "userId": "01313005946152921621"
     },
     "user_tz": -330
    },
    "id": "C74ZyQF-YhlB",
    "outputId": "e7700061-64a6-4d8e-e7cd-95c7c9e9515a"
   },
   "outputs": [
    {
     "data": {
      "text/plain": [
       "'tensorflow'"
      ]
     },
     "execution_count": 136,
     "metadata": {
      "tags": []
     },
     "output_type": "execute_result"
    }
   ],
   "source": [
    "K.backend()"
   ]
  },
  {
   "cell_type": "markdown",
   "metadata": {
    "colab_type": "text",
    "id": "4SWY2jdqozzJ"
   },
   "source": [
    "Define common CNN parameters"
   ]
  },
  {
   "cell_type": "code",
   "execution_count": 0,
   "metadata": {
    "colab": {},
    "colab_type": "code",
    "id": "1J80oxJjYj5R"
   },
   "outputs": [],
   "source": [
    "batch_size = 128\n",
    "num_classes = 10\n",
    "epochs = 20\n",
    "# input image dimensions\n",
    "img_rows, img_cols = 28, 28"
   ]
  },
  {
   "cell_type": "markdown",
   "metadata": {
    "colab_type": "text",
    "id": "3Uu4PTXQo-Je"
   },
   "source": [
    "## Sample MNIST images\n",
    "\n",
    "Load the data and display a few digits"
   ]
  },
  {
   "cell_type": "code",
   "execution_count": 138,
   "metadata": {
    "colab": {
     "base_uri": "https://localhost:8080/",
     "height": 437
    },
    "colab_type": "code",
    "executionInfo": {
     "elapsed": 5251,
     "status": "ok",
     "timestamp": 1544524274553,
     "user": {
      "displayName": "Tanmay Kulkarni",
      "photoUrl": "https://lh5.googleusercontent.com/-7z9lDW0_tAs/AAAAAAAAAAI/AAAAAAAACQs/eRGM98t-bp8/s64/photo.jpg",
      "userId": "01313005946152921621"
     },
     "user_tz": -330
    },
    "id": "wYJw0ng3YxKJ",
    "outputId": "aed397b7-1831-4db0-abb5-f06e7569d5c2"
   },
   "outputs": [
    {
     "data": {
      "image/png": "[encoded data removed]",
      "text/plain": [
       "<matplotlib.figure.Figure at 0x7f94f11d7748>"
      ]
     },
     "metadata": {
      "tags": []
     },
     "output_type": "display_data"
    }
   ],
   "source": [
    "# the data, split between train and test sets\n",
    "(x_train, y_train), (x_test, y_test) = mnist.load_data()\n",
    "\n",
    "\n",
    "class_names = ['Zero', 'One', 'Two', 'Three', 'Four', \n",
    "               'Five', 'Six', 'Seven', 'Eight', 'Nine']\n",
    "\n",
    "plt.figure(figsize=(14,6))\n",
    "for i in range(25):\n",
    "    plt.subplot(5,5,i+1)\n",
    "    plt.xticks([])\n",
    "    plt.yticks([])\n",
    "    plt.grid(False)\n",
    "    plt.imshow(x_train[i], cmap=plt.cm.binary)\n",
    "    plt.xlabel(class_names[y_train[i]])\n",
    "    plt.tight_layout()"
   ]
  },
  {
   "cell_type": "markdown",
   "metadata": {},
   "source": [
    "Reshape the 2D image vectors into 1D vectors"
   ]
  },
  {
   "cell_type": "code",
   "execution_count": 0,
   "metadata": {
    "colab": {},
    "colab_type": "code",
    "id": "hbPxpyOaxmKY"
   },
   "outputs": [],
   "source": [
    "if K.image_data_format() == 'channels_first':\n",
    "    x_train = x_train.reshape(x_train.shape[0], 1, img_rows, img_cols)\n",
    "    x_test = x_test.reshape(x_test.shape[0], 1, img_rows, img_cols)\n",
    "    input_shape = (1, img_rows, img_cols)\n",
    "else:\n",
    "    x_train = x_train.reshape(x_train.shape[0], img_rows, img_cols, 1)\n",
    "    x_test = x_test.reshape(x_test.shape[0], img_rows, img_cols, 1)\n",
    "    input_shape = (img_rows, img_cols, 1)"
   ]
  },
  {
   "cell_type": "markdown",
   "metadata": {
    "colab_type": "text",
    "id": "q1x6kkyHqL-L"
   },
   "source": [
    "## Normalize the data\n",
    "\n",
    "The image vectors currently have digits from 0 to 255. Convert the numbers in range [0, 1]. "
   ]
  },
  {
   "cell_type": "code",
   "execution_count": 140,
   "metadata": {
    "colab": {
     "base_uri": "https://localhost:8080/",
     "height": 70
    },
    "colab_type": "code",
    "executionInfo": {
     "elapsed": 5192,
     "status": "ok",
     "timestamp": 1544524274557,
     "user": {
      "displayName": "Tanmay Kulkarni",
      "photoUrl": "https://lh5.googleusercontent.com/-7z9lDW0_tAs/AAAAAAAAAAI/AAAAAAAACQs/eRGM98t-bp8/s64/photo.jpg",
      "userId": "01313005946152921621"
     },
     "user_tz": -330
    },
    "id": "YU-fs0TJY32k",
    "outputId": "36415572-81c5-45db-d775-92542feaedaf"
   },
   "outputs": [
    {
     "name": "stdout",
     "output_type": "stream",
     "text": [
      "x_train shape: (60000, 28, 28, 1)\n",
      "60000 train samples\n",
      "10000 test samples\n"
     ]
    }
   ],
   "source": [
    "x_train = x_train.astype('float32')\n",
    "x_test = x_test.astype('float32')\n",
    "x_train /= 255\n",
    "x_test /= 255\n",
    "print('x_train shape:', x_train.shape)\n",
    "print(x_train.shape[0], 'train samples')\n",
    "print(x_test.shape[0], 'test samples')"
   ]
  },
  {
   "cell_type": "markdown",
   "metadata": {
    "colab_type": "text",
    "id": "6oLHGJxoqptP"
   },
   "source": [
    "Convert the digits 1 to 9 into a categorical vector."
   ]
  },
  {
   "cell_type": "code",
   "execution_count": 0,
   "metadata": {
    "colab": {},
    "colab_type": "code",
    "id": "R4PsbFtZY7TO"
   },
   "outputs": [],
   "source": [
    "# convert class vectors to binary class matrices\n",
    "y_train = keras.utils.to_categorical(y_train, num_classes)\n",
    "y_test = keras.utils.to_categorical(y_test, num_classes)"
   ]
  },
  {
   "cell_type": "markdown",
   "metadata": {
    "colab_type": "text",
    "id": "b2j154hODXll"
   },
   "source": [
    "## Some Terminology\n",
    "\n",
    "We'll use these abbreviations to indicate the network architecture:\n",
    "\n",
    "* C = Convolutional Layer\n",
    "* MP = Maxpooling Layer\n",
    "* DO = DropOuts Layer\n",
    "* D = Dense Layer"
   ]
  },
  {
   "cell_type": "markdown",
   "metadata": {
    "colab_type": "text",
    "id": "Eu70baWVbLo2"
   },
   "source": [
    "## Model 1:\n",
    "\n",
    "First, let's try a very basic architecture with just one Convolutional layer.\n",
    "\n",
    "**[64(C)-MP-DO-16(D)-10]**"
   ]
  },
  {
   "cell_type": "code",
   "execution_count": 0,
   "metadata": {
    "colab": {},
    "colab_type": "code",
    "id": "fOMx1hWabQFF"
   },
   "outputs": [],
   "source": [
    "model = Sequential()\n",
    "\n",
    "model.add(Conv2D(64, kernel_size=(4, 4),\n",
    "                 activation='tanh',\n",
    "                 input_shape=input_shape))\n",
    "\n",
    "model.add(MaxPooling2D(pool_size=(2, 2)))\n",
    "model.add(Dropout(0.25))\n",
    "model.add(Flatten())\n",
    "model.add(Dense(16, activation='relu'))\n",
    "model.add(Dropout(0.5))\n",
    "\n",
    "model.add(Dense(num_classes, activation='softmax'))"
   ]
  },
  {
   "cell_type": "markdown",
   "metadata": {
    "colab_type": "text",
    "id": "lVFYQsu4AfBX"
   },
   "source": [
    "Compile the model"
   ]
  },
  {
   "cell_type": "code",
   "execution_count": 0,
   "metadata": {
    "colab": {},
    "colab_type": "code",
    "id": "DuWjs-L7bbLW"
   },
   "outputs": [],
   "source": [
    "model.compile(loss=keras.losses.categorical_crossentropy,\n",
    "              optimizer='adam',\n",
    "              metrics=['accuracy'])"
   ]
  },
  {
   "cell_type": "markdown",
   "metadata": {
    "colab_type": "text",
    "id": "ZN-i3h43A0PS"
   },
   "source": [
    "Fit the model"
   ]
  },
  {
   "cell_type": "code",
   "execution_count": 153,
   "metadata": {
    "colab": {
     "base_uri": "https://localhost:8080/",
     "height": 776
    },
    "colab_type": "code",
    "executionInfo": {
     "elapsed": 545790,
     "status": "ok",
     "timestamp": 1544524815348,
     "user": {
      "displayName": "Tanmay Kulkarni",
      "photoUrl": "https://lh5.googleusercontent.com/-7z9lDW0_tAs/AAAAAAAAAAI/AAAAAAAACQs/eRGM98t-bp8/s64/photo.jpg",
      "userId": "01313005946152921621"
     },
     "user_tz": -330
    },
    "id": "-g9460tkbe0W",
    "outputId": "bdf7b890-c448-40fb-f085-ec53c174e09b"
   },
   "outputs": [
    {
     "name": "stdout",
     "output_type": "stream",
     "text": [
      "Train on 60000 samples, validate on 10000 samples\n",
      "Epoch 1/20\n",
      "60000/60000 [==============================] - 10s 164us/step - loss: 1.0602 - acc: 0.6130 - val_loss: 0.2666 - val_acc: 0.9441\n",
      "Epoch 2/20\n",
      "60000/60000 [==============================] - 6s 108us/step - loss: 0.7291 - acc: 0.7279 - val_loss: 0.1863 - val_acc: 0.9569\n",
      "Epoch 3/20\n",
      "60000/60000 [==============================] - 6s 108us/step - loss: 0.6289 - acc: 0.7720 - val_loss: 0.1457 - val_acc: 0.9646\n",
      "Epoch 4/20\n",
      "60000/60000 [==============================] - 6s 108us/step - loss: 0.5827 - acc: 0.7884 - val_loss: 0.1243 - val_acc: 0.9676\n",
      "Epoch 5/20\n",
      "60000/60000 [==============================] - 7s 109us/step - loss: 0.5595 - acc: 0.7982 - val_loss: 0.1160 - val_acc: 0.9709\n",
      "Epoch 6/20\n",
      "60000/60000 [==============================] - 7s 108us/step - loss: 0.5408 - acc: 0.8060 - val_loss: 0.1169 - val_acc: 0.9711\n",
      "Epoch 7/20\n",
      "60000/60000 [==============================] - 7s 109us/step - loss: 0.5253 - acc: 0.8070 - val_loss: 0.1076 - val_acc: 0.9707\n",
      "Epoch 8/20\n",
      "60000/60000 [==============================] - 7s 108us/step - loss: 0.5213 - acc: 0.8087 - val_loss: 0.1044 - val_acc: 0.9737\n",
      "Epoch 9/20\n",
      "60000/60000 [==============================] - 6s 108us/step - loss: 0.5182 - acc: 0.8105 - val_loss: 0.1002 - val_acc: 0.9747\n",
      "Epoch 10/20\n",
      "60000/60000 [==============================] - 7s 109us/step - loss: 0.5061 - acc: 0.8167 - val_loss: 0.0939 - val_acc: 0.9762\n",
      "Epoch 11/20\n",
      "60000/60000 [==============================] - 6s 108us/step - loss: 0.5002 - acc: 0.8189 - val_loss: 0.0976 - val_acc: 0.9756\n",
      "Epoch 12/20\n",
      "60000/60000 [==============================] - 7s 108us/step - loss: 0.4969 - acc: 0.8196 - val_loss: 0.1028 - val_acc: 0.9754\n",
      "Epoch 13/20\n",
      "60000/60000 [==============================] - 7s 109us/step - loss: 0.4907 - acc: 0.8220 - val_loss: 0.1106 - val_acc: 0.9712\n",
      "Epoch 14/20\n",
      "60000/60000 [==============================] - 7s 109us/step - loss: 0.4825 - acc: 0.8264 - val_loss: 0.0974 - val_acc: 0.9751\n",
      "Epoch 15/20\n",
      "60000/60000 [==============================] - 7s 110us/step - loss: 0.4715 - acc: 0.8306 - val_loss: 0.1019 - val_acc: 0.9735\n",
      "Epoch 16/20\n",
      "60000/60000 [==============================] - 7s 111us/step - loss: 0.4613 - acc: 0.8363 - val_loss: 0.1003 - val_acc: 0.9737\n",
      "Epoch 17/20\n",
      "60000/60000 [==============================] - 7s 110us/step - loss: 0.4485 - acc: 0.8417 - val_loss: 0.1037 - val_acc: 0.9739\n",
      "Epoch 18/20\n",
      "60000/60000 [==============================] - 7s 109us/step - loss: 0.4465 - acc: 0.8417 - val_loss: 0.0977 - val_acc: 0.9756\n",
      "Epoch 19/20\n",
      "60000/60000 [==============================] - 6s 108us/step - loss: 0.4397 - acc: 0.8450 - val_loss: 0.0934 - val_acc: 0.9764\n",
      "Epoch 20/20\n",
      "60000/60000 [==============================] - 7s 110us/step - loss: 0.4388 - acc: 0.8448 - val_loss: 0.0918 - val_acc: 0.9778\n"
     ]
    },
    {
     "data": {
      "text/plain": [
       "<keras.callbacks.History at 0x7f94f3503358>"
      ]
     },
     "execution_count": 153,
     "metadata": {
      "tags": []
     },
     "output_type": "execute_result"
    }
   ],
   "source": [
    "model.fit(x_train, y_train,\n",
    "          batch_size=batch_size,\n",
    "          epochs=epochs,\n",
    "          verbose=1,\n",
    "          validation_data=(x_test, y_test))"
   ]
  },
  {
   "cell_type": "markdown",
   "metadata": {
    "colab_type": "text",
    "id": "x2r0LumyA5A7"
   },
   "source": [
    "Train and Test accuracy "
   ]
  },
  {
   "cell_type": "code",
   "execution_count": 154,
   "metadata": {
    "colab": {
     "base_uri": "https://localhost:8080/",
     "height": 52
    },
    "colab_type": "code",
    "executionInfo": {
     "elapsed": 552437,
     "status": "ok",
     "timestamp": 1544524822006,
     "user": {
      "displayName": "Tanmay Kulkarni",
      "photoUrl": "https://lh5.googleusercontent.com/-7z9lDW0_tAs/AAAAAAAAAAI/AAAAAAAACQs/eRGM98t-bp8/s64/photo.jpg",
      "userId": "01313005946152921621"
     },
     "user_tz": -330
    },
    "id": "kuEqkShzcDC4",
    "outputId": "21668d6b-2e33-46e7-a445-f7d4159b2437"
   },
   "outputs": [
    {
     "name": "stdout",
     "output_type": "stream",
     "text": [
      "Test accuracy: 0.9778\n",
      "Train accuracy: 0.9844333333333334\n"
     ]
    }
   ],
   "source": [
    "score = model.evaluate(x_test, y_test, verbose=0)\n",
    "print('Test accuracy:', score[1])\n",
    "\n",
    "score = model.evaluate(x_train, y_train, verbose=0)\n",
    "print('Train accuracy:', score[1])"
   ]
  },
  {
   "cell_type": "code",
   "execution_count": 23,
   "metadata": {},
   "outputs": [],
   "source": [
    "from prettytable import PrettyTable\n",
    "\n",
    "table = PrettyTable()\n",
    "table.field_names = ['#', 'CNN Architecture', 'Train Accuracy', 'Test Accuracy']\n",
    "\n",
    "table.add_row(['1', '64(C)-MP-DO-16(D)-10', '0.985', '0.978'])"
   ]
  },
  {
   "cell_type": "markdown",
   "metadata": {
    "colab_type": "text",
    "id": "m0b0drTMY-4U"
   },
   "source": [
    "## Model 2: \n",
    "\n",
    "\n",
    "\n",
    "**[64(C)-MP-DO-128(D)-DO-10]**"
   ]
  },
  {
   "cell_type": "code",
   "execution_count": 0,
   "metadata": {
    "colab": {},
    "colab_type": "code",
    "id": "yLyqV271ZDNQ"
   },
   "outputs": [],
   "source": [
    "model = Sequential()\n",
    "\n",
    "model.add(Conv2D(32, kernel_size=(3, 3),\n",
    "                 activation='relu',\n",
    "                 input_shape=input_shape))\n",
    "\n",
    "model.add(Conv2D(64, (3, 3), activation='relu'))\n",
    "model.add(MaxPooling2D(pool_size=(2, 2)))\n",
    "model.add(Dropout(0.25))\n",
    "model.add(Flatten())\n",
    "model.add(Dense(128, activation='relu'))\n",
    "model.add(Dropout(0.5))\n",
    "\n",
    "model.add(Dense(num_classes, activation='softmax'))"
   ]
  },
  {
   "cell_type": "markdown",
   "metadata": {
    "colab_type": "text",
    "id": "Npq1zjlmz7LJ"
   },
   "source": [
    "Compile the model"
   ]
  },
  {
   "cell_type": "code",
   "execution_count": 0,
   "metadata": {
    "colab": {},
    "colab_type": "code",
    "id": "ND5OOCJMZJc5"
   },
   "outputs": [],
   "source": [
    "model.compile(loss=keras.losses.categorical_crossentropy,\n",
    "              optimizer=keras.optimizers.Adadelta(),\n",
    "              metrics=['accuracy'])"
   ]
  },
  {
   "cell_type": "markdown",
   "metadata": {
    "colab_type": "text",
    "id": "A7-4e0OX0bk2"
   },
   "source": [
    "Train the model"
   ]
  },
  {
   "cell_type": "code",
   "execution_count": 145,
   "metadata": {
    "colab": {
     "base_uri": "https://localhost:8080/",
     "height": 776
    },
    "colab_type": "code",
    "executionInfo": {
     "elapsed": 201178,
     "status": "ok",
     "timestamp": 1544524470616,
     "user": {
      "displayName": "Tanmay Kulkarni",
      "photoUrl": "https://lh5.googleusercontent.com/-7z9lDW0_tAs/AAAAAAAAAAI/AAAAAAAACQs/eRGM98t-bp8/s64/photo.jpg",
      "userId": "01313005946152921621"
     },
     "user_tz": -330
    },
    "id": "sdX2KJNxZL38",
    "outputId": "3160424c-89d0-4115-d0dd-1aecc89327c7"
   },
   "outputs": [
    {
     "name": "stdout",
     "output_type": "stream",
     "text": [
      "Train on 60000 samples, validate on 10000 samples\n",
      "Epoch 1/20\n",
      "60000/60000 [==============================] - 13s 218us/step - loss: 0.2696 - acc: 0.9166 - val_loss: 0.0608 - val_acc: 0.9801\n",
      "Epoch 2/20\n",
      "60000/60000 [==============================] - 10s 161us/step - loss: 0.0858 - acc: 0.9743 - val_loss: 0.0380 - val_acc: 0.9869\n",
      "Epoch 3/20\n",
      "60000/60000 [==============================] - 10s 161us/step - loss: 0.0668 - acc: 0.9799 - val_loss: 0.0333 - val_acc: 0.9889\n",
      "Epoch 4/20\n",
      "60000/60000 [==============================] - 10s 161us/step - loss: 0.0534 - acc: 0.9839 - val_loss: 0.0310 - val_acc: 0.9900\n",
      "Epoch 5/20\n",
      "60000/60000 [==============================] - 10s 161us/step - loss: 0.0473 - acc: 0.9856 - val_loss: 0.0271 - val_acc: 0.9906\n",
      "Epoch 6/20\n",
      "60000/60000 [==============================] - 10s 161us/step - loss: 0.0416 - acc: 0.9876 - val_loss: 0.0305 - val_acc: 0.9899\n",
      "Epoch 7/20\n",
      "60000/60000 [==============================] - 10s 161us/step - loss: 0.0372 - acc: 0.9886 - val_loss: 0.0280 - val_acc: 0.9906\n",
      "Epoch 8/20\n",
      "60000/60000 [==============================] - 10s 161us/step - loss: 0.0344 - acc: 0.9896 - val_loss: 0.0269 - val_acc: 0.9908\n",
      "Epoch 9/20\n",
      "60000/60000 [==============================] - 10s 161us/step - loss: 0.0300 - acc: 0.9904 - val_loss: 0.0260 - val_acc: 0.9917\n",
      "Epoch 10/20\n",
      "60000/60000 [==============================] - 10s 162us/step - loss: 0.0297 - acc: 0.9912 - val_loss: 0.0257 - val_acc: 0.9923\n",
      "Epoch 11/20\n",
      "60000/60000 [==============================] - 10s 160us/step - loss: 0.0278 - acc: 0.9916 - val_loss: 0.0270 - val_acc: 0.9918\n",
      "Epoch 12/20\n",
      "60000/60000 [==============================] - 10s 162us/step - loss: 0.0262 - acc: 0.9923 - val_loss: 0.0276 - val_acc: 0.9917\n",
      "Epoch 13/20\n",
      "60000/60000 [==============================] - 9s 158us/step - loss: 0.0231 - acc: 0.9927 - val_loss: 0.0242 - val_acc: 0.9922\n",
      "Epoch 14/20\n",
      "60000/60000 [==============================] - 10s 158us/step - loss: 0.0231 - acc: 0.9930 - val_loss: 0.0253 - val_acc: 0.9923\n",
      "Epoch 15/20\n",
      "60000/60000 [==============================] - 10s 158us/step - loss: 0.0214 - acc: 0.9935 - val_loss: 0.0282 - val_acc: 0.9923\n",
      "Epoch 16/20\n",
      "60000/60000 [==============================] - 10s 159us/step - loss: 0.0217 - acc: 0.9934 - val_loss: 0.0270 - val_acc: 0.9922\n",
      "Epoch 17/20\n",
      "60000/60000 [==============================] - 10s 159us/step - loss: 0.0205 - acc: 0.9934 - val_loss: 0.0291 - val_acc: 0.9917\n",
      "Epoch 18/20\n",
      "60000/60000 [==============================] - 9s 158us/step - loss: 0.0205 - acc: 0.9933 - val_loss: 0.0254 - val_acc: 0.9922\n",
      "Epoch 19/20\n",
      "60000/60000 [==============================] - 10s 159us/step - loss: 0.0193 - acc: 0.9941 - val_loss: 0.0268 - val_acc: 0.9923\n",
      "Epoch 20/20\n",
      "60000/60000 [==============================] - 10s 159us/step - loss: 0.0185 - acc: 0.9942 - val_loss: 0.0267 - val_acc: 0.9922\n"
     ]
    },
    {
     "data": {
      "text/plain": [
       "<keras.callbacks.History at 0x7f94f2025cc0>"
      ]
     },
     "execution_count": 145,
     "metadata": {
      "tags": []
     },
     "output_type": "execute_result"
    }
   ],
   "source": [
    "model.fit(x_train, y_train,\n",
    "          batch_size=batch_size,\n",
    "          epochs=epochs,\n",
    "          verbose=1,\n",
    "          validation_data=(x_test, y_test))"
   ]
  },
  {
   "cell_type": "code",
   "execution_count": 146,
   "metadata": {
    "colab": {
     "base_uri": "https://localhost:8080/",
     "height": 52
    },
    "colab_type": "code",
    "executionInfo": {
     "elapsed": 208830,
     "status": "ok",
     "timestamp": 1544524478287,
     "user": {
      "displayName": "Tanmay Kulkarni",
      "photoUrl": "https://lh5.googleusercontent.com/-7z9lDW0_tAs/AAAAAAAAAAI/AAAAAAAACQs/eRGM98t-bp8/s64/photo.jpg",
      "userId": "01313005946152921621"
     },
     "user_tz": -330
    },
    "id": "4VmIdUQHZQZf",
    "outputId": "2e83b600-cccb-47f9-c678-06c080223a45"
   },
   "outputs": [
    {
     "name": "stdout",
     "output_type": "stream",
     "text": [
      "Train accuracy: 0.9988166666666667\n",
      "Test accuracy: 0.9922\n"
     ]
    }
   ],
   "source": [
    "score = model.evaluate(x_train, y_train, verbose=0)\n",
    "print('Train accuracy:', score[1])\n",
    "score = model.evaluate(x_test, y_test, verbose=0)\n",
    "print('Test accuracy:', score[1])"
   ]
  },
  {
   "cell_type": "code",
   "execution_count": 25,
   "metadata": {},
   "outputs": [],
   "source": [
    "table.add_row(['2', '64(C)-MP-DO-128(D)-DO-10', '0.999', '0.993'])"
   ]
  },
  {
   "cell_type": "markdown",
   "metadata": {
    "colab_type": "text",
    "id": "MEcqvwDdUTog"
   },
   "source": [
    "## Model 3\n",
    "\n",
    "\n",
    "\n",
    "**[ 64(C) - MP - DO - BN - 128(C) - MP - DO - 16(D) - 10(Output) ]**"
   ]
  },
  {
   "cell_type": "code",
   "execution_count": 0,
   "metadata": {
    "colab": {},
    "colab_type": "code",
    "id": "BoMFkiUJUU-j"
   },
   "outputs": [],
   "source": [
    "model = Sequential()\n",
    "\n",
    "model.add(Conv2D(64, kernel_size=(3, 3),\n",
    "                 activation='relu',\n",
    "                 input_shape=input_shape))\n",
    "\n",
    "model.add(MaxPooling2D(pool_size=(2, 2)))\n",
    "model.add(Dropout(0.5))\n",
    "model.add(BatchNormalization())\n",
    "\n",
    "model.add(Conv2D(128, kernel_size=(3, 3),\n",
    "                 activation='relu'))\n",
    "\n",
    "model.add(MaxPooling2D(pool_size=(2, 2)))\n",
    "model.add(Dropout(0.25))\n",
    "model.add(Flatten())\n",
    "model.add(Dense(16, activation='relu'))\n",
    "model.add(Dropout(0.5))\n",
    "\n",
    "model.add(Dense(num_classes, activation='softmax'))"
   ]
  },
  {
   "cell_type": "code",
   "execution_count": 0,
   "metadata": {
    "colab": {},
    "colab_type": "code",
    "id": "uUSRDgYKWTgm"
   },
   "outputs": [],
   "source": [
    "model.compile(loss=keras.losses.categorical_crossentropy,\n",
    "              optimizer='adam',\n",
    "              metrics=['accuracy'])"
   ]
  },
  {
   "cell_type": "code",
   "execution_count": 149,
   "metadata": {
    "colab": {
     "base_uri": "https://localhost:8080/",
     "height": 776
    },
    "colab_type": "code",
    "executionInfo": {
     "elapsed": 402942,
     "status": "ok",
     "timestamp": 1544524672439,
     "user": {
      "displayName": "Tanmay Kulkarni",
      "photoUrl": "https://lh5.googleusercontent.com/-7z9lDW0_tAs/AAAAAAAAAAI/AAAAAAAACQs/eRGM98t-bp8/s64/photo.jpg",
      "userId": "01313005946152921621"
     },
     "user_tz": -330
    },
    "id": "IL-TXnAKWoBd",
    "outputId": "69caeeac-3db8-4738-e49c-68dbc3f3adf0"
   },
   "outputs": [
    {
     "name": "stdout",
     "output_type": "stream",
     "text": [
      "Train on 60000 samples, validate on 10000 samples\n",
      "Epoch 1/20\n",
      "60000/60000 [==============================] - 13s 221us/step - loss: 1.9774 - acc: 0.2358 - val_loss: 1.4515 - val_acc: 0.5499\n",
      "Epoch 2/20\n",
      "60000/60000 [==============================] - 9s 157us/step - loss: 1.8008 - acc: 0.2796 - val_loss: 1.2765 - val_acc: 0.6234\n",
      "Epoch 3/20\n",
      "60000/60000 [==============================] - 9s 158us/step - loss: 1.7125 - acc: 0.3158 - val_loss: 0.9743 - val_acc: 0.7696\n",
      "Epoch 4/20\n",
      "60000/60000 [==============================] - 9s 157us/step - loss: 1.5050 - acc: 0.4127 - val_loss: 0.6432 - val_acc: 0.9354\n",
      "Epoch 5/20\n",
      "60000/60000 [==============================] - 10s 159us/step - loss: 1.2674 - acc: 0.5400 - val_loss: 0.4561 - val_acc: 0.9697\n",
      "Epoch 6/20\n",
      "60000/60000 [==============================] - 10s 159us/step - loss: 1.1427 - acc: 0.5878 - val_loss: 0.3867 - val_acc: 0.9740\n",
      "Epoch 7/20\n",
      "60000/60000 [==============================] - 10s 161us/step - loss: 1.0757 - acc: 0.6083 - val_loss: 0.3368 - val_acc: 0.9783\n",
      "Epoch 8/20\n",
      "60000/60000 [==============================] - 10s 160us/step - loss: 1.0380 - acc: 0.6248 - val_loss: 0.2644 - val_acc: 0.9813\n",
      "Epoch 9/20\n",
      "60000/60000 [==============================] - 9s 158us/step - loss: 0.8539 - acc: 0.6943 - val_loss: 0.2093 - val_acc: 0.9834\n",
      "Epoch 10/20\n",
      "60000/60000 [==============================] - 9s 158us/step - loss: 0.8191 - acc: 0.7111 - val_loss: 0.1800 - val_acc: 0.9848\n",
      "Epoch 11/20\n",
      "60000/60000 [==============================] - 10s 160us/step - loss: 0.8153 - acc: 0.7155 - val_loss: 0.1855 - val_acc: 0.9860\n",
      "Epoch 12/20\n",
      "60000/60000 [==============================] - 9s 158us/step - loss: 0.8028 - acc: 0.7222 - val_loss: 0.1722 - val_acc: 0.9863\n",
      "Epoch 13/20\n",
      "60000/60000 [==============================] - 9s 156us/step - loss: 0.7945 - acc: 0.7231 - val_loss: 0.1688 - val_acc: 0.9861\n",
      "Epoch 14/20\n",
      "60000/60000 [==============================] - 9s 157us/step - loss: 0.7875 - acc: 0.7286 - val_loss: 0.1620 - val_acc: 0.9870\n",
      "Epoch 15/20\n",
      "60000/60000 [==============================] - 9s 157us/step - loss: 0.7819 - acc: 0.7299 - val_loss: 0.1639 - val_acc: 0.9885\n",
      "Epoch 16/20\n",
      "60000/60000 [==============================] - 9s 157us/step - loss: 0.7882 - acc: 0.7294 - val_loss: 0.1659 - val_acc: 0.9864\n",
      "Epoch 17/20\n",
      "60000/60000 [==============================] - 9s 156us/step - loss: 0.7766 - acc: 0.7366 - val_loss: 0.1638 - val_acc: 0.9873\n",
      "Epoch 18/20\n",
      "60000/60000 [==============================] - 10s 158us/step - loss: 0.7713 - acc: 0.7374 - val_loss: 0.1627 - val_acc: 0.9869\n",
      "Epoch 19/20\n",
      "60000/60000 [==============================] - 9s 155us/step - loss: 0.7490 - acc: 0.7488 - val_loss: 0.1405 - val_acc: 0.9877\n",
      "Epoch 20/20\n",
      "60000/60000 [==============================] - 9s 156us/step - loss: 0.6953 - acc: 0.7723 - val_loss: 0.1392 - val_acc: 0.9872\n"
     ]
    },
    {
     "data": {
      "text/plain": [
       "<keras.callbacks.History at 0x7f94f28af860>"
      ]
     },
     "execution_count": 149,
     "metadata": {
      "tags": []
     },
     "output_type": "execute_result"
    }
   ],
   "source": [
    "model.fit(x_train, y_train,\n",
    "          batch_size=batch_size,\n",
    "          epochs=epochs,\n",
    "          verbose=1,\n",
    "          validation_data=(x_test, y_test))"
   ]
  },
  {
   "cell_type": "code",
   "execution_count": 150,
   "metadata": {
    "colab": {
     "base_uri": "https://localhost:8080/",
     "height": 52
    },
    "colab_type": "code",
    "executionInfo": {
     "elapsed": 411372,
     "status": "ok",
     "timestamp": 1544524680890,
     "user": {
      "displayName": "Tanmay Kulkarni",
      "photoUrl": "https://lh5.googleusercontent.com/-7z9lDW0_tAs/AAAAAAAAAAI/AAAAAAAACQs/eRGM98t-bp8/s64/photo.jpg",
      "userId": "01313005946152921621"
     },
     "user_tz": -330
    },
    "id": "Udxy_UuDXkOq",
    "outputId": "77c06666-c79d-4ec7-bb2c-4361a6080c15"
   },
   "outputs": [
    {
     "name": "stdout",
     "output_type": "stream",
     "text": [
      "Test accuracy: 0.9872\n",
      "Train accuracy: 0.9913166666666666\n"
     ]
    }
   ],
   "source": [
    "score = model.evaluate(x_test, y_test, verbose=0)\n",
    "print('Test accuracy:', score[1])\n",
    "\n",
    "score = model.evaluate(x_train, y_train, verbose=0)\n",
    "print('Train accuracy:', score[1])"
   ]
  },
  {
   "cell_type": "code",
   "execution_count": 26,
   "metadata": {},
   "outputs": [],
   "source": [
    "table.add_row(['3', '64(C) - MP - DO - BN - 128(C) - MP - DO - 16(D) - 10', '0.992', '0.988'])"
   ]
  },
  {
   "cell_type": "markdown",
   "metadata": {
    "colab_type": "text",
    "id": "TGMFdFC3cv5L"
   },
   "source": [
    "## Model 4:\n",
    "\n",
    "Now, let's try a much more complex model.\n",
    "\n",
    "**[ 128(C)-MP-DO-BN-64(C)-MP-DO-32(C)-MP-DO-256(C)-16(D)-DO-10 ]**"
   ]
  },
  {
   "cell_type": "code",
   "execution_count": 0,
   "metadata": {
    "colab": {},
    "colab_type": "code",
    "id": "ouFqaqBJc0HQ"
   },
   "outputs": [],
   "source": [
    "model = Sequential()\n",
    "\n",
    "model.add(Conv2D(128, kernel_size=(2, 2),\n",
    "                 activation='tanh',\n",
    "                 input_shape=input_shape))\n",
    "\n",
    "model.add(MaxPooling2D(pool_size=(2,2)))\n",
    "model.add(Dropout(0.5))\n",
    "model.add(BatchNormalization())\n",
    "\n",
    "model.add(Conv2D(64, kernel_size=(3, 3),\n",
    "                 activation='tanh'))\n",
    "\n",
    "model.add(MaxPooling2D(pool_size=(2, 2)))\n",
    "model.add(Dropout(0.25))\n",
    "\n",
    "model.add(Conv2D(32, kernel_size=(2, 2),\n",
    "                 activation='tanh'))\n",
    "\n",
    "model.add(MaxPooling2D(pool_size=(2, 2)))\n",
    "model.add(Dropout(0.25))\n",
    "\n",
    "model.add(Conv2D(256, kernel_size=(2, 2),\n",
    "                 activation='relu'))\n",
    "\n",
    "\n",
    "model.add(Flatten())\n",
    "model.add(Dense(16, activation='sigmoid'))\n",
    "model.add(Dropout(0.5))\n",
    "\n",
    "model.add(Dense(num_classes, activation='softmax'))"
   ]
  },
  {
   "cell_type": "markdown",
   "metadata": {
    "colab_type": "text",
    "id": "wmESL0sCBv-F"
   },
   "source": [
    "Compile the model"
   ]
  },
  {
   "cell_type": "code",
   "execution_count": 0,
   "metadata": {
    "colab": {},
    "colab_type": "code",
    "id": "iNiiKPSCdxrA"
   },
   "outputs": [],
   "source": [
    "model.compile(loss=keras.losses.categorical_crossentropy,\n",
    "              optimizer='adam',\n",
    "              metrics=['accuracy'])"
   ]
  },
  {
   "cell_type": "markdown",
   "metadata": {
    "colab_type": "text",
    "id": "x0SX1OQfByYR"
   },
   "source": [
    "Fit the model"
   ]
  },
  {
   "cell_type": "code",
   "execution_count": 157,
   "metadata": {
    "colab": {
     "base_uri": "https://localhost:8080/",
     "height": 776
    },
    "colab_type": "code",
    "executionInfo": {
     "elapsed": 828256,
     "status": "ok",
     "timestamp": 1544525097863,
     "user": {
      "displayName": "Tanmay Kulkarni",
      "photoUrl": "https://lh5.googleusercontent.com/-7z9lDW0_tAs/AAAAAAAAAAI/AAAAAAAACQs/eRGM98t-bp8/s64/photo.jpg",
      "userId": "01313005946152921621"
     },
     "user_tz": -330
    },
    "id": "v1odHC3Ue9cw",
    "outputId": "b5678071-1aa1-48f8-cbba-0d6b5f1a0945"
   },
   "outputs": [
    {
     "name": "stdout",
     "output_type": "stream",
     "text": [
      "Train on 60000 samples, validate on 10000 samples\n",
      "Epoch 1/20\n",
      "60000/60000 [==============================] - 18s 294us/step - loss: 1.4442 - acc: 0.5299 - val_loss: 0.5345 - val_acc: 0.9486\n",
      "Epoch 2/20\n",
      "60000/60000 [==============================] - 14s 225us/step - loss: 0.7933 - acc: 0.7622 - val_loss: 0.2496 - val_acc: 0.9690\n",
      "Epoch 3/20\n",
      "60000/60000 [==============================] - 13s 225us/step - loss: 0.6425 - acc: 0.7968 - val_loss: 0.1619 - val_acc: 0.9737\n",
      "Epoch 4/20\n",
      "60000/60000 [==============================] - 14s 226us/step - loss: 0.5622 - acc: 0.8158 - val_loss: 0.1175 - val_acc: 0.9786\n",
      "Epoch 5/20\n",
      "60000/60000 [==============================] - 14s 226us/step - loss: 0.5174 - acc: 0.8256 - val_loss: 0.1097 - val_acc: 0.9772\n",
      "Epoch 6/20\n",
      "60000/60000 [==============================] - 14s 226us/step - loss: 0.4901 - acc: 0.8323 - val_loss: 0.0961 - val_acc: 0.9783\n",
      "Epoch 7/20\n",
      "60000/60000 [==============================] - 14s 226us/step - loss: 0.4741 - acc: 0.8328 - val_loss: 0.0856 - val_acc: 0.9794\n",
      "Epoch 8/20\n",
      "60000/60000 [==============================] - 14s 225us/step - loss: 0.4567 - acc: 0.8360 - val_loss: 0.0689 - val_acc: 0.9839\n",
      "Epoch 9/20\n",
      "60000/60000 [==============================] - 14s 226us/step - loss: 0.4542 - acc: 0.8336 - val_loss: 0.0704 - val_acc: 0.9827\n",
      "Epoch 10/20\n",
      "60000/60000 [==============================] - 14s 227us/step - loss: 0.4376 - acc: 0.8384 - val_loss: 0.0623 - val_acc: 0.9846\n",
      "Epoch 11/20\n",
      "60000/60000 [==============================] - 14s 227us/step - loss: 0.4308 - acc: 0.8393 - val_loss: 0.0757 - val_acc: 0.9819\n",
      "Epoch 12/20\n",
      "60000/60000 [==============================] - 13s 225us/step - loss: 0.4255 - acc: 0.8423 - val_loss: 0.0587 - val_acc: 0.9858\n",
      "Epoch 13/20\n",
      "60000/60000 [==============================] - 14s 225us/step - loss: 0.4196 - acc: 0.8413 - val_loss: 0.0544 - val_acc: 0.9854\n",
      "Epoch 14/20\n",
      "60000/60000 [==============================] - 14s 227us/step - loss: 0.4167 - acc: 0.8414 - val_loss: 0.0630 - val_acc: 0.9850\n",
      "Epoch 15/20\n",
      "60000/60000 [==============================] - 14s 227us/step - loss: 0.4137 - acc: 0.8427 - val_loss: 0.0570 - val_acc: 0.9857\n",
      "Epoch 16/20\n",
      "60000/60000 [==============================] - 13s 224us/step - loss: 0.4090 - acc: 0.8424 - val_loss: 0.0539 - val_acc: 0.9857\n",
      "Epoch 17/20\n",
      "60000/60000 [==============================] - 13s 224us/step - loss: 0.4058 - acc: 0.8425 - val_loss: 0.0540 - val_acc: 0.9860\n",
      "Epoch 18/20\n",
      "60000/60000 [==============================] - 13s 225us/step - loss: 0.4039 - acc: 0.8448 - val_loss: 0.0572 - val_acc: 0.9862\n",
      "Epoch 19/20\n",
      "60000/60000 [==============================] - 13s 224us/step - loss: 0.3982 - acc: 0.8470 - val_loss: 0.0557 - val_acc: 0.9861\n",
      "Epoch 20/20\n",
      "60000/60000 [==============================] - 13s 224us/step - loss: 0.3999 - acc: 0.8473 - val_loss: 0.0512 - val_acc: 0.9885\n"
     ]
    },
    {
     "data": {
      "text/plain": [
       "<keras.callbacks.History at 0x7f94f0d4d518>"
      ]
     },
     "execution_count": 157,
     "metadata": {
      "tags": []
     },
     "output_type": "execute_result"
    }
   ],
   "source": [
    "model.fit(x_train, y_train,\n",
    "          batch_size=batch_size,\n",
    "          epochs=epochs,\n",
    "          verbose=1,\n",
    "          validation_data=(x_test, y_test))"
   ]
  },
  {
   "cell_type": "code",
   "execution_count": 158,
   "metadata": {
    "colab": {
     "base_uri": "https://localhost:8080/",
     "height": 52
    },
    "colab_type": "code",
    "executionInfo": {
     "elapsed": 839722,
     "status": "ok",
     "timestamp": 1544525109344,
     "user": {
      "displayName": "Tanmay Kulkarni",
      "photoUrl": "https://lh5.googleusercontent.com/-7z9lDW0_tAs/AAAAAAAAAAI/AAAAAAAACQs/eRGM98t-bp8/s64/photo.jpg",
      "userId": "01313005946152921621"
     },
     "user_tz": -330
    },
    "id": "jKvUwuZxfBY_",
    "outputId": "7f323741-29a0-4567-a74d-572684558671"
   },
   "outputs": [
    {
     "name": "stdout",
     "output_type": "stream",
     "text": [
      "Test accuracy: 0.9885\n",
      "Train accuracy: 0.9894833333333334\n"
     ]
    }
   ],
   "source": [
    "score = model.evaluate(x_test, y_test, verbose=0)\n",
    "print('Test accuracy:', score[1])\n",
    "\n",
    "score = model.evaluate(x_train, y_train, verbose=0)\n",
    "print('Train accuracy:', score[1])"
   ]
  },
  {
   "cell_type": "code",
   "execution_count": 27,
   "metadata": {},
   "outputs": [],
   "source": [
    "table.add_row(['4', '128(C)-MP-DO-BN-64(C)-MP-DO-32(C)-MP-DO\\n-256(C)-16(D)-DO-10', '0.989', '0.9885'])"
   ]
  },
  {
   "cell_type": "markdown",
   "metadata": {
    "colab_type": "text",
    "id": "Zj_AVtEsgHOT"
   },
   "source": [
    "# Conclusion\n",
    "\n",
    "* We tried 4 different Convolutional Neural Nets with increasing complexities and varying types of activation functions. The purpose of this study was to learn how Keras lets us build complex models with very few lines of code.\n",
    "\n",
    "* Best accuracy of 99.3% was obtained with the second model having one convolutional, maxpooling and dropout layer.\n",
    "\n",
    "            64(C)-MP-DO-128(D)-DO-10\n",
    "\n",
    " but even the most basic model gave an accuracy of 97.8% which just goes to show how powerful CNNs can be."
   ]
  },
  {
   "cell_type": "code",
   "execution_count": 28,
   "metadata": {},
   "outputs": [
    {
     "name": "stdout",
     "output_type": "stream",
     "text": [
      "+---+------------------------------------------------------+----------------+---------------+\n",
      "| # |                   CNN Architecture                   | Train Accuracy | Test Accuracy |\n",
      "+---+------------------------------------------------------+----------------+---------------+\n",
      "| 1 |                 64(C)-MP-DO-16(D)-10                 |     0.985      |     0.978     |\n",
      "| 2 |               64(C)-MP-DO-128(D)-DO-10               |     0.999      |     0.993     |\n",
      "| 3 | 64(C) - MP - DO - BN - 128(C) - MP - DO - 16(D) - 10 |     0.992      |     0.988     |\n",
      "| 4 |       128(C)-MP-DO-BN-64(C)-MP-DO-32(C)-MP-DO        |     0.989      |     0.9885    |\n",
      "|   |                 -256(C)-16(D)-DO-10                  |                |               |\n",
      "+---+------------------------------------------------------+----------------+---------------+\n"
     ]
    }
   ],
   "source": [
    "print(table)"
   ]
  }
 ],
 "metadata": {
  "accelerator": "GPU",
  "colab": {
   "collapsed_sections": [],
   "name": "mnist_cnn.ipynb",
   "provenance": [],
   "version": "0.3.2"
  },
  "kernelspec": {
   "display_name": "Python 3",
   "language": "python",
   "name": "python3"
  },
  "language_info": {
   "codemirror_mode": {
    "name": "ipython",
    "version": 3
   },
   "file_extension": ".py",
   "mimetype": "text/x-python",
   "name": "python",
   "nbconvert_exporter": "python",
   "pygments_lexer": "ipython3",
   "version": "3.6.4"
  }
 },
 "nbformat": 4,
 "nbformat_minor": 1
}
